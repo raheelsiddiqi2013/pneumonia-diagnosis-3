{
 "cells": [
  {
   "cell_type": "markdown",
   "metadata": {},
   "source": [
    "# Automated Chest X-ray based Pneumonia Diagnosis using PneumoniaNet\n",
    "The author of this notebook is **Dr Raheel Siddiqi**. He is a *Senior Assistant Professor* at Bahria University, Karachi Campus, Pakistan. His research interests include *Medical Imaging*, *Computer Vision* and *Deep Learning*. \n",
    "\n",
    "The objective of the experiment (presented in this notebook) is to evaluate the performance of a self-designed Convolutional Neural Network (CNN) based model called **PneumoniaNet**. PneumoniaNet is employed to diagnose Pneumonia (based on Chest X-ray images). The diagnosis process comprises of classifying Chest X-ray images into one of the two classes: (a) Normal, (b) Pneumonia.\n",
    "\n",
    "The dataset is downloded from [kaggle.com](https://www.kaggle.com/paultimothymooney/chest-xray-pneumonia). The dataset contains 5,863 X-Ray images (JPEG) and 2 categories (Pneumonia/Normal). The dataset is divided into three sets: (a) train, (b) val and (c) test.\n",
    "\n",
    "PneumoniaNet is based on a very simple 19-layer CNN architecture, where only 11 layers have trainable weights and biases. In order to avoid overfitting the following steps are ensured:\n",
    "1. Using a low capacity network i.e. less number of layers, less learnable parameters. This is done to reduce memorization capacity.\n",
    "2. Adding weight regularization to dense layer.\n",
    "3. Drop out layers have also been added."
   ]
  },
  {
   "cell_type": "markdown",
   "metadata": {},
   "source": [
    "# Tensorflow and Keras version used"
   ]
  },
  {
   "cell_type": "code",
   "execution_count": 1,
   "metadata": {},
   "outputs": [
    {
     "name": "stdout",
     "output_type": "stream",
     "text": [
      "Tensorflow Version:  1.13.1\n",
      "Keras Version:  2.2.4-tf\n"
     ]
    }
   ],
   "source": [
    "import tensorflow as tf\n",
    "from tensorflow.python import keras\n",
    "\n",
    "print('Tensorflow Version: ', tf.__version__)\n",
    "print('Keras Version: ', keras.__version__)"
   ]
  },
  {
   "cell_type": "markdown",
   "metadata": {},
   "source": [
    "# Setting up the Model"
   ]
  },
  {
   "cell_type": "code",
   "execution_count": 2,
   "metadata": {},
   "outputs": [
    {
     "name": "stdout",
     "output_type": "stream",
     "text": [
      "WARNING:tensorflow:From C:\\Users\\Raheel\\Anaconda3\\envs\\EnvName\\lib\\site-packages\\tensorflow\\python\\framework\\op_def_library.py:263: colocate_with (from tensorflow.python.framework.ops) is deprecated and will be removed in a future version.\n",
      "Instructions for updating:\n",
      "Colocations handled automatically by placer.\n",
      "WARNING:tensorflow:From C:\\Users\\Raheel\\Anaconda3\\envs\\EnvName\\lib\\site-packages\\keras\\backend\\tensorflow_backend.py:3445: calling dropout (from tensorflow.python.ops.nn_ops) with keep_prob is deprecated and will be removed in a future version.\n",
      "Instructions for updating:\n",
      "Please use `rate` instead of `keep_prob`. Rate should be set to `rate = 1 - keep_prob`.\n"
     ]
    },
    {
     "name": "stderr",
     "output_type": "stream",
     "text": [
      "Using TensorFlow backend.\n"
     ]
    },
    {
     "name": "stdout",
     "output_type": "stream",
     "text": [
      "_________________________________________________________________\n",
      "Layer (type)                 Output Shape              Param #   \n",
      "=================================================================\n",
      "conv2d_1 (Conv2D)            (None, 148, 148, 64)      1792      \n",
      "_________________________________________________________________\n",
      "conv2d_2 (Conv2D)            (None, 146, 146, 64)      36928     \n",
      "_________________________________________________________________\n",
      "conv2d_3 (Conv2D)            (None, 144, 144, 128)     73856     \n",
      "_________________________________________________________________\n",
      "max_pooling2d_1 (MaxPooling2 (None, 72, 72, 128)       0         \n",
      "_________________________________________________________________\n",
      "dropout_1 (Dropout)          (None, 72, 72, 128)       0         \n",
      "_________________________________________________________________\n",
      "conv2d_4 (Conv2D)            (None, 70, 70, 128)       147584    \n",
      "_________________________________________________________________\n",
      "conv2d_5 (Conv2D)            (None, 68, 68, 128)       147584    \n",
      "_________________________________________________________________\n",
      "conv2d_6 (Conv2D)            (None, 66, 66, 256)       295168    \n",
      "_________________________________________________________________\n",
      "max_pooling2d_2 (MaxPooling2 (None, 33, 33, 256)       0         \n",
      "_________________________________________________________________\n",
      "dropout_2 (Dropout)          (None, 33, 33, 256)       0         \n",
      "_________________________________________________________________\n",
      "conv2d_7 (Conv2D)            (None, 31, 31, 256)       590080    \n",
      "_________________________________________________________________\n",
      "conv2d_8 (Conv2D)            (None, 29, 29, 256)       590080    \n",
      "_________________________________________________________________\n",
      "conv2d_9 (Conv2D)            (None, 27, 27, 512)       1180160   \n",
      "_________________________________________________________________\n",
      "max_pooling2d_3 (MaxPooling2 (None, 13, 13, 512)       0         \n",
      "_________________________________________________________________\n",
      "dropout_3 (Dropout)          (None, 13, 13, 512)       0         \n",
      "_________________________________________________________________\n",
      "flatten_1 (Flatten)          (None, 86528)             0         \n",
      "_________________________________________________________________\n",
      "dense_1 (Dense)              (None, 512)               44302848  \n",
      "_________________________________________________________________\n",
      "dropout_4 (Dropout)          (None, 512)               0         \n",
      "_________________________________________________________________\n",
      "dense_2 (Dense)              (None, 2)                 1026      \n",
      "=================================================================\n",
      "Total params: 47,367,106\n",
      "Trainable params: 47,367,106\n",
      "Non-trainable params: 0\n",
      "_________________________________________________________________\n"
     ]
    }
   ],
   "source": [
    "import os\n",
    "import numpy as np\n",
    "import keras\n",
    "from keras import models\n",
    "from keras import layers\n",
    "from keras.preprocessing.image import ImageDataGenerator\n",
    "from keras import regularizers\n",
    "from keras import optimizers\n",
    "from keras.callbacks import ModelCheckpoint\n",
    "\n",
    "pneumoniaNetModel=models.Sequential()\n",
    "\n",
    "pneumoniaNetModel.add(layers.Conv2D(64, (3, 3), activation='relu', input_shape=(150,150,3)))\n",
    "pneumoniaNetModel.add(layers.Conv2D(64, (3, 3), activation='relu'))\n",
    "pneumoniaNetModel.add(layers.Conv2D(128, (3, 3), activation='relu'))\n",
    "pneumoniaNetModel.add(layers.MaxPooling2D(pool_size=(2, 2)))\n",
    "pneumoniaNetModel.add(layers.Dropout(0.2))\n",
    "\n",
    "pneumoniaNetModel.add(layers.Conv2D(128, (3, 3), activation='relu'))\n",
    "pneumoniaNetModel.add(layers.Conv2D(128, (3, 3), activation='relu'))\n",
    "pneumoniaNetModel.add(layers.Conv2D(256, (3, 3), activation='relu'))\n",
    "pneumoniaNetModel.add(layers.MaxPooling2D(pool_size=(2, 2)))\n",
    "pneumoniaNetModel.add(layers.Dropout(0.2))\n",
    "\n",
    "pneumoniaNetModel.add(layers.Conv2D(256, (3, 3), activation='relu'))\n",
    "pneumoniaNetModel.add(layers.Conv2D(256, (3, 3), activation='relu'))\n",
    "pneumoniaNetModel.add(layers.Conv2D(512, (3, 3), activation='relu'))\n",
    "pneumoniaNetModel.add(layers.MaxPooling2D(pool_size=(2, 2)))\n",
    "pneumoniaNetModel.add(layers.Dropout(0.2))\n",
    "\n",
    "pneumoniaNetModel.add(layers.Flatten())\n",
    "pneumoniaNetModel.add(layers.Dense(512, kernel_regularizer=regularizers.l2(0.001), activation='relu'))\n",
    "pneumoniaNetModel.add(layers.Dropout(0.2))\n",
    "pneumoniaNetModel.add(layers.Dense(2, activation='softmax'))\n",
    "\n",
    "pneumoniaNetModel.compile(loss='categorical_crossentropy',optimizer=optimizers.Adam(lr=1e-4),metrics=['categorical_accuracy'])\n",
    "pneumoniaNetModel.summary()\n",
    "\n",
    "filepath=\"PneumoniaNet4.h5\"\n",
    "checkpoint = ModelCheckpoint(filepath, save_best_only=True)\n",
    "callbacks_list = [checkpoint]"
   ]
  },
  {
   "cell_type": "markdown",
   "metadata": {},
   "source": [
    "## Setting up Training and Validation Data for the experiment"
   ]
  },
  {
   "cell_type": "code",
   "execution_count": 3,
   "metadata": {},
   "outputs": [],
   "source": [
    "image_height = 150\n",
    "image_width = 150\n",
    "batch_size = 8\n",
    "no_of_epochs  = 100\n",
    "number_of_training_samples=5216\n",
    "number_of_validation_samples=16\n",
    "number_of_test_samples=624"
   ]
  },
  {
   "cell_type": "code",
   "execution_count": 4,
   "metadata": {},
   "outputs": [],
   "source": [
    "train_dir='D:\\\\TensorFlow Programs\\\\Diagnosis of Pneumonia based on Chest X-Rays\\\\chest-xray-pneumonia\\\\chest_xray\\\\chest_xray\\\\train'\n",
    "validation_dir='D:\\\\TensorFlow Programs\\\\Diagnosis of Pneumonia based on Chest X-Rays\\\\chest-xray-pneumonia\\\\chest_xray\\\\chest_xray\\\\val'\n",
    "test_dir='D:\\\\TensorFlow Programs\\\\Diagnosis of Pneumonia based on Chest X-Rays\\\\chest-xray-pneumonia\\\\chest_xray\\\\chest_xray\\\\test'"
   ]
  },
  {
   "cell_type": "code",
   "execution_count": 5,
   "metadata": {},
   "outputs": [],
   "source": [
    "train_datagen = ImageDataGenerator(rescale=1./255,\n",
    "                                   rotation_range=40,\n",
    "                                   width_shift_range=0.2,\n",
    "                                   height_shift_range=0.2,\n",
    "                                   shear_range=0.2,\n",
    "                                   zoom_range=0.2\n",
    "                                   )\n",
    "\n",
    "validation_datagen = ImageDataGenerator(rescale=1./255)  \n",
    "\n",
    "test_datagen = ImageDataGenerator(rescale=1./255)"
   ]
  },
  {
   "cell_type": "code",
   "execution_count": 6,
   "metadata": {},
   "outputs": [
    {
     "name": "stdout",
     "output_type": "stream",
     "text": [
      "Found 5216 images belonging to 2 classes.\n",
      "Found 16 images belonging to 2 classes.\n",
      "Found 624 images belonging to 2 classes.\n"
     ]
    }
   ],
   "source": [
    "training_set = train_datagen.flow_from_directory(train_dir,target_size=(image_width, image_height),batch_size=batch_size)\n",
    "validation_set = validation_datagen.flow_from_directory(validation_dir,target_size=(image_width, image_height),batch_size=batch_size,shuffle=False)\n",
    "test_set = test_datagen.flow_from_directory(test_dir,target_size=(image_width, image_height),batch_size=batch_size,shuffle=False)"
   ]
  },
  {
   "cell_type": "markdown",
   "metadata": {},
   "source": [
    "## Model Training"
   ]
  },
  {
   "cell_type": "code",
   "execution_count": 7,
   "metadata": {},
   "outputs": [
    {
     "name": "stdout",
     "output_type": "stream",
     "text": [
      "WARNING:tensorflow:From C:\\Users\\Raheel\\Anaconda3\\envs\\EnvName\\lib\\site-packages\\tensorflow\\python\\ops\\math_ops.py:3066: to_int32 (from tensorflow.python.ops.math_ops) is deprecated and will be removed in a future version.\n",
      "Instructions for updating:\n",
      "Use tf.cast instead.\n",
      "Epoch 1/100\n",
      "652/652 [==============================] - 179s 275ms/step - loss: 0.6961 - categorical_accuracy: 0.7431 - val_loss: 0.7901 - val_categorical_accuracy: 0.5000\n",
      "Epoch 2/100\n",
      "652/652 [==============================] - 170s 260ms/step - loss: 0.5459 - categorical_accuracy: 0.7398 - val_loss: 0.6361 - val_categorical_accuracy: 0.6250\n",
      "Epoch 3/100\n",
      "652/652 [==============================] - 170s 261ms/step - loss: 0.4872 - categorical_accuracy: 0.7722 - val_loss: 0.6264 - val_categorical_accuracy: 0.6250\n",
      "Epoch 4/100\n",
      "652/652 [==============================] - 170s 261ms/step - loss: 0.4797 - categorical_accuracy: 0.7772 - val_loss: 0.5300 - val_categorical_accuracy: 0.8125\n",
      "Epoch 5/100\n",
      "652/652 [==============================] - 169s 260ms/step - loss: 0.4266 - categorical_accuracy: 0.8140 - val_loss: 0.7151 - val_categorical_accuracy: 0.6250\n",
      "Epoch 6/100\n",
      "652/652 [==============================] - 170s 260ms/step - loss: 0.3344 - categorical_accuracy: 0.8595 - val_loss: 0.5680 - val_categorical_accuracy: 0.8750\n",
      "Epoch 7/100\n",
      "652/652 [==============================] - 169s 260ms/step - loss: 0.3149 - categorical_accuracy: 0.8687 - val_loss: 0.5375 - val_categorical_accuracy: 0.7500\n",
      "Epoch 8/100\n",
      "652/652 [==============================] - 171s 262ms/step - loss: 0.2850 - categorical_accuracy: 0.8855 - val_loss: 0.6243 - val_categorical_accuracy: 0.8125\n",
      "Epoch 9/100\n",
      "652/652 [==============================] - 170s 261ms/step - loss: 0.2771 - categorical_accuracy: 0.8903 - val_loss: 1.0725 - val_categorical_accuracy: 0.6250\n",
      "Epoch 10/100\n",
      "652/652 [==============================] - 170s 261ms/step - loss: 0.2561 - categorical_accuracy: 0.9016 - val_loss: 0.8865 - val_categorical_accuracy: 0.6875\n",
      "Epoch 11/100\n",
      "652/652 [==============================] - 170s 261ms/step - loss: 0.2539 - categorical_accuracy: 0.9028 - val_loss: 0.6602 - val_categorical_accuracy: 0.7500\n",
      "Epoch 12/100\n",
      "652/652 [==============================] - 174s 267ms/step - loss: 0.2492 - categorical_accuracy: 0.9036 - val_loss: 1.3742 - val_categorical_accuracy: 0.5000\n",
      "Epoch 13/100\n",
      "652/652 [==============================] - 170s 260ms/step - loss: 0.2244 - categorical_accuracy: 0.9155 - val_loss: 1.2794 - val_categorical_accuracy: 0.5625\n",
      "Epoch 14/100\n",
      "652/652 [==============================] - 170s 260ms/step - loss: 0.2287 - categorical_accuracy: 0.9112 - val_loss: 0.6168 - val_categorical_accuracy: 0.8125\n",
      "Epoch 15/100\n",
      "652/652 [==============================] - 170s 261ms/step - loss: 0.2160 - categorical_accuracy: 0.9172 - val_loss: 0.5674 - val_categorical_accuracy: 0.8125\n",
      "Epoch 16/100\n",
      "652/652 [==============================] - 170s 260ms/step - loss: 0.2195 - categorical_accuracy: 0.9199 - val_loss: 1.1986 - val_categorical_accuracy: 0.6875\n",
      "Epoch 17/100\n",
      "652/652 [==============================] - 170s 260ms/step - loss: 0.2102 - categorical_accuracy: 0.9222 - val_loss: 0.7863 - val_categorical_accuracy: 0.6875\n",
      "Epoch 18/100\n",
      "652/652 [==============================] - 170s 261ms/step - loss: 0.2004 - categorical_accuracy: 0.9287 - val_loss: 0.6320 - val_categorical_accuracy: 0.8125\n",
      "Epoch 19/100\n",
      "652/652 [==============================] - 170s 261ms/step - loss: 0.2019 - categorical_accuracy: 0.9239 - val_loss: 0.4278 - val_categorical_accuracy: 0.8750\n",
      "Epoch 20/100\n",
      "652/652 [==============================] - 170s 260ms/step - loss: 0.1929 - categorical_accuracy: 0.9323 - val_loss: 0.8370 - val_categorical_accuracy: 0.7500\n",
      "Epoch 21/100\n",
      "652/652 [==============================] - 170s 260ms/step - loss: 0.1852 - categorical_accuracy: 0.9362 - val_loss: 0.4466 - val_categorical_accuracy: 0.7500\n",
      "Epoch 22/100\n",
      "652/652 [==============================] - 170s 261ms/step - loss: 0.1803 - categorical_accuracy: 0.9404 - val_loss: 1.1755 - val_categorical_accuracy: 0.6875\n",
      "Epoch 23/100\n",
      "652/652 [==============================] - 170s 260ms/step - loss: 0.1745 - categorical_accuracy: 0.9402 - val_loss: 0.6118 - val_categorical_accuracy: 0.6875\n",
      "Epoch 24/100\n",
      "652/652 [==============================] - 169s 260ms/step - loss: 0.1787 - categorical_accuracy: 0.9392 - val_loss: 0.7690 - val_categorical_accuracy: 0.7500\n",
      "Epoch 25/100\n",
      "652/652 [==============================] - 170s 260ms/step - loss: 0.1675 - categorical_accuracy: 0.9431 - val_loss: 1.3357 - val_categorical_accuracy: 0.6250\n",
      "Epoch 26/100\n",
      "652/652 [==============================] - 170s 260ms/step - loss: 0.1600 - categorical_accuracy: 0.9444 - val_loss: 0.4794 - val_categorical_accuracy: 0.8125\n",
      "Epoch 27/100\n",
      "652/652 [==============================] - 171s 262ms/step - loss: 0.1749 - categorical_accuracy: 0.9404 - val_loss: 0.7763 - val_categorical_accuracy: 0.8125\n",
      "Epoch 28/100\n",
      "652/652 [==============================] - 170s 261ms/step - loss: 0.1669 - categorical_accuracy: 0.9436 - val_loss: 0.9630 - val_categorical_accuracy: 0.8125\n",
      "Epoch 29/100\n",
      "652/652 [==============================] - 170s 260ms/step - loss: 0.1663 - categorical_accuracy: 0.9411 - val_loss: 0.6021 - val_categorical_accuracy: 0.8125\n",
      "Epoch 30/100\n",
      "652/652 [==============================] - 170s 260ms/step - loss: 0.1536 - categorical_accuracy: 0.9471 - val_loss: 0.7862 - val_categorical_accuracy: 0.8125\n",
      "Epoch 31/100\n",
      "652/652 [==============================] - 169s 260ms/step - loss: 0.1545 - categorical_accuracy: 0.9454 - val_loss: 0.3173 - val_categorical_accuracy: 0.8125\n",
      "Epoch 32/100\n",
      "652/652 [==============================] - 169s 260ms/step - loss: 0.1590 - categorical_accuracy: 0.9446 - val_loss: 0.3580 - val_categorical_accuracy: 0.8125\n",
      "Epoch 33/100\n",
      "652/652 [==============================] - 169s 260ms/step - loss: 0.1485 - categorical_accuracy: 0.9498 - val_loss: 0.6954 - val_categorical_accuracy: 0.8125\n",
      "Epoch 34/100\n",
      "652/652 [==============================] - 169s 260ms/step - loss: 0.1388 - categorical_accuracy: 0.9526 - val_loss: 0.8429 - val_categorical_accuracy: 0.8125\n",
      "Epoch 35/100\n",
      "652/652 [==============================] - 169s 260ms/step - loss: 0.1481 - categorical_accuracy: 0.9503 - val_loss: 0.9141 - val_categorical_accuracy: 0.8125\n",
      "Epoch 36/100\n",
      "652/652 [==============================] - 169s 260ms/step - loss: 0.1457 - categorical_accuracy: 0.9519 - val_loss: 0.4574 - val_categorical_accuracy: 0.8125\n",
      "Epoch 37/100\n",
      "652/652 [==============================] - 169s 260ms/step - loss: 0.1410 - categorical_accuracy: 0.9563 - val_loss: 0.4656 - val_categorical_accuracy: 0.8125\n",
      "Epoch 38/100\n",
      "652/652 [==============================] - 169s 260ms/step - loss: 0.1291 - categorical_accuracy: 0.9609 - val_loss: 0.8329 - val_categorical_accuracy: 0.8125\n",
      "Epoch 39/100\n",
      "652/652 [==============================] - 169s 260ms/step - loss: 0.1393 - categorical_accuracy: 0.9546 - val_loss: 1.1867 - val_categorical_accuracy: 0.7500\n",
      "Epoch 40/100\n",
      "652/652 [==============================] - 169s 260ms/step - loss: 0.1298 - categorical_accuracy: 0.9582 - val_loss: 0.7616 - val_categorical_accuracy: 0.8125\n",
      "Epoch 41/100\n",
      "652/652 [==============================] - 169s 260ms/step - loss: 0.1273 - categorical_accuracy: 0.9588 - val_loss: 0.4052 - val_categorical_accuracy: 0.8750\n",
      "Epoch 42/100\n",
      "652/652 [==============================] - 169s 260ms/step - loss: 0.1323 - categorical_accuracy: 0.9582 - val_loss: 0.4512 - val_categorical_accuracy: 0.8750\n",
      "Epoch 43/100\n",
      "652/652 [==============================] - 170s 260ms/step - loss: 0.1308 - categorical_accuracy: 0.9536 - val_loss: 0.5621 - val_categorical_accuracy: 0.8125\n",
      "Epoch 44/100\n",
      "652/652 [==============================] - 169s 260ms/step - loss: 0.1275 - categorical_accuracy: 0.9584 - val_loss: 0.4381 - val_categorical_accuracy: 0.8750\n",
      "Epoch 45/100\n",
      "652/652 [==============================] - 169s 260ms/step - loss: 0.1286 - categorical_accuracy: 0.9574 - val_loss: 0.7698 - val_categorical_accuracy: 0.8125\n",
      "Epoch 46/100\n",
      "652/652 [==============================] - 169s 260ms/step - loss: 0.1272 - categorical_accuracy: 0.9601 - val_loss: 0.4191 - val_categorical_accuracy: 0.8125\n",
      "Epoch 47/100\n"
     ]
    },
    {
     "name": "stdout",
     "output_type": "stream",
     "text": [
      "652/652 [==============================] - 169s 260ms/step - loss: 0.1247 - categorical_accuracy: 0.9563 - val_loss: 0.7863 - val_categorical_accuracy: 0.8125\n",
      "Epoch 48/100\n",
      "652/652 [==============================] - 169s 260ms/step - loss: 0.1275 - categorical_accuracy: 0.9553 - val_loss: 0.5348 - val_categorical_accuracy: 0.7500\n",
      "Epoch 49/100\n",
      "652/652 [==============================] - 170s 260ms/step - loss: 0.1178 - categorical_accuracy: 0.9594 - val_loss: 0.7364 - val_categorical_accuracy: 0.6875\n",
      "Epoch 50/100\n",
      "652/652 [==============================] - 170s 260ms/step - loss: 0.1173 - categorical_accuracy: 0.9645 - val_loss: 0.3533 - val_categorical_accuracy: 0.7500\n",
      "Epoch 51/100\n",
      "652/652 [==============================] - 169s 260ms/step - loss: 0.1163 - categorical_accuracy: 0.9630 - val_loss: 0.6155 - val_categorical_accuracy: 0.8125\n",
      "Epoch 52/100\n",
      "652/652 [==============================] - 169s 260ms/step - loss: 0.1132 - categorical_accuracy: 0.9640 - val_loss: 0.5422 - val_categorical_accuracy: 0.8125\n",
      "Epoch 53/100\n",
      "652/652 [==============================] - 169s 260ms/step - loss: 0.1139 - categorical_accuracy: 0.9640 - val_loss: 0.4969 - val_categorical_accuracy: 0.8125\n",
      "Epoch 54/100\n",
      "652/652 [==============================] - 170s 260ms/step - loss: 0.1157 - categorical_accuracy: 0.9624 - val_loss: 0.6892 - val_categorical_accuracy: 0.8125\n",
      "Epoch 55/100\n",
      "652/652 [==============================] - 169s 260ms/step - loss: 0.1172 - categorical_accuracy: 0.9655 - val_loss: 0.3153 - val_categorical_accuracy: 0.8125\n",
      "Epoch 56/100\n",
      "652/652 [==============================] - 170s 260ms/step - loss: 0.1131 - categorical_accuracy: 0.9628 - val_loss: 0.3860 - val_categorical_accuracy: 0.7500\n",
      "Epoch 57/100\n",
      "652/652 [==============================] - 170s 260ms/step - loss: 0.1160 - categorical_accuracy: 0.9595 - val_loss: 0.4429 - val_categorical_accuracy: 0.8750\n",
      "Epoch 58/100\n",
      "652/652 [==============================] - 170s 260ms/step - loss: 0.1102 - categorical_accuracy: 0.9674 - val_loss: 0.3836 - val_categorical_accuracy: 0.8750\n",
      "Epoch 59/100\n",
      "652/652 [==============================] - 170s 260ms/step - loss: 0.1015 - categorical_accuracy: 0.9678 - val_loss: 0.3997 - val_categorical_accuracy: 0.8125\n",
      "Epoch 60/100\n",
      "652/652 [==============================] - 170s 260ms/step - loss: 0.1004 - categorical_accuracy: 0.9693 - val_loss: 0.5217 - val_categorical_accuracy: 0.8125\n",
      "Epoch 61/100\n",
      "652/652 [==============================] - 170s 260ms/step - loss: 0.1077 - categorical_accuracy: 0.9664 - val_loss: 1.0827 - val_categorical_accuracy: 0.6875\n",
      "Epoch 62/100\n",
      "652/652 [==============================] - 170s 260ms/step - loss: 0.1027 - categorical_accuracy: 0.9661 - val_loss: 0.9001 - val_categorical_accuracy: 0.6875\n",
      "Epoch 63/100\n",
      "652/652 [==============================] - 170s 260ms/step - loss: 0.1025 - categorical_accuracy: 0.9686 - val_loss: 0.2375 - val_categorical_accuracy: 0.8750\n",
      "Epoch 64/100\n",
      "652/652 [==============================] - 170s 260ms/step - loss: 0.1019 - categorical_accuracy: 0.9709 - val_loss: 0.4417 - val_categorical_accuracy: 0.8125\n",
      "Epoch 65/100\n",
      "652/652 [==============================] - 170s 260ms/step - loss: 0.1015 - categorical_accuracy: 0.9647 - val_loss: 0.1735 - val_categorical_accuracy: 0.8750\n",
      "Epoch 66/100\n",
      "652/652 [==============================] - 170s 261ms/step - loss: 0.0981 - categorical_accuracy: 0.9689 - val_loss: 0.3946 - val_categorical_accuracy: 0.8750\n",
      "Epoch 67/100\n",
      "652/652 [==============================] - 170s 261ms/step - loss: 0.0993 - categorical_accuracy: 0.9682 - val_loss: 0.2486 - val_categorical_accuracy: 0.9375\n",
      "Epoch 68/100\n",
      "652/652 [==============================] - 170s 260ms/step - loss: 0.1020 - categorical_accuracy: 0.9674 - val_loss: 0.9316 - val_categorical_accuracy: 0.6875\n",
      "Epoch 69/100\n",
      "652/652 [==============================] - 170s 261ms/step - loss: 0.1011 - categorical_accuracy: 0.9645 - val_loss: 0.4471 - val_categorical_accuracy: 0.8125\n",
      "Epoch 70/100\n",
      "652/652 [==============================] - 170s 261ms/step - loss: 0.0978 - categorical_accuracy: 0.9664 - val_loss: 0.3338 - val_categorical_accuracy: 0.9375\n",
      "Epoch 71/100\n",
      "652/652 [==============================] - 170s 261ms/step - loss: 0.0907 - categorical_accuracy: 0.9737 - val_loss: 0.4356 - val_categorical_accuracy: 0.8125\n",
      "Epoch 72/100\n",
      "652/652 [==============================] - 170s 261ms/step - loss: 0.0962 - categorical_accuracy: 0.9672 - val_loss: 0.4760 - val_categorical_accuracy: 0.8125\n",
      "Epoch 73/100\n",
      "652/652 [==============================] - 170s 261ms/step - loss: 0.1023 - categorical_accuracy: 0.9672 - val_loss: 0.4689 - val_categorical_accuracy: 0.8125\n",
      "Epoch 74/100\n",
      "652/652 [==============================] - 170s 261ms/step - loss: 0.0910 - categorical_accuracy: 0.9716 - val_loss: 0.4257 - val_categorical_accuracy: 0.8125\n",
      "Epoch 75/100\n",
      "652/652 [==============================] - 170s 261ms/step - loss: 0.0989 - categorical_accuracy: 0.9697 - val_loss: 0.2198 - val_categorical_accuracy: 0.8750\n",
      "Epoch 76/100\n",
      "652/652 [==============================] - 170s 261ms/step - loss: 0.0961 - categorical_accuracy: 0.9724 - val_loss: 0.4338 - val_categorical_accuracy: 0.8125\n",
      "Epoch 77/100\n",
      "652/652 [==============================] - 170s 261ms/step - loss: 0.0886 - categorical_accuracy: 0.9735 - val_loss: 0.6558 - val_categorical_accuracy: 0.8125\n",
      "Epoch 78/100\n",
      "652/652 [==============================] - 171s 262ms/step - loss: 0.0954 - categorical_accuracy: 0.9712 - val_loss: 1.4573 - val_categorical_accuracy: 0.6875\n",
      "Epoch 79/100\n",
      "652/652 [==============================] - 170s 261ms/step - loss: 0.0863 - categorical_accuracy: 0.9739 - val_loss: 0.2643 - val_categorical_accuracy: 0.8750\n",
      "Epoch 80/100\n",
      "652/652 [==============================] - 171s 262ms/step - loss: 0.0913 - categorical_accuracy: 0.9734 - val_loss: 0.4777 - val_categorical_accuracy: 0.7500\n",
      "Epoch 81/100\n",
      "652/652 [==============================] - 170s 261ms/step - loss: 0.0903 - categorical_accuracy: 0.9714 - val_loss: 0.2136 - val_categorical_accuracy: 0.8750\n",
      "Epoch 82/100\n",
      "652/652 [==============================] - 171s 262ms/step - loss: 0.0886 - categorical_accuracy: 0.9716 - val_loss: 0.3419 - val_categorical_accuracy: 0.9375\n",
      "Epoch 83/100\n",
      "652/652 [==============================] - 171s 262ms/step - loss: 0.0844 - categorical_accuracy: 0.9745 - val_loss: 0.4590 - val_categorical_accuracy: 0.8125\n",
      "Epoch 84/100\n",
      "652/652 [==============================] - 170s 261ms/step - loss: 0.0826 - categorical_accuracy: 0.9749 - val_loss: 0.2705 - val_categorical_accuracy: 0.8750\n",
      "Epoch 85/100\n",
      "652/652 [==============================] - 170s 261ms/step - loss: 0.0858 - categorical_accuracy: 0.9739 - val_loss: 0.3324 - val_categorical_accuracy: 0.8125\n",
      "Epoch 86/100\n",
      "652/652 [==============================] - 170s 261ms/step - loss: 0.0824 - categorical_accuracy: 0.9751 - val_loss: 0.4079 - val_categorical_accuracy: 0.7500\n",
      "Epoch 87/100\n",
      "652/652 [==============================] - 170s 261ms/step - loss: 0.0813 - categorical_accuracy: 0.9762 - val_loss: 0.5247 - val_categorical_accuracy: 0.8125\n",
      "Epoch 88/100\n",
      "652/652 [==============================] - 170s 261ms/step - loss: 0.0862 - categorical_accuracy: 0.9714 - val_loss: 0.3994 - val_categorical_accuracy: 0.8125\n",
      "Epoch 89/100\n",
      "652/652 [==============================] - 170s 261ms/step - loss: 0.0795 - categorical_accuracy: 0.9758 - val_loss: 0.3253 - val_categorical_accuracy: 0.8125\n",
      "Epoch 90/100\n",
      "652/652 [==============================] - 170s 261ms/step - loss: 0.0886 - categorical_accuracy: 0.9726 - val_loss: 0.4985 - val_categorical_accuracy: 0.8125\n",
      "Epoch 91/100\n",
      "652/652 [==============================] - 170s 261ms/step - loss: 0.0799 - categorical_accuracy: 0.9793 - val_loss: 0.2493 - val_categorical_accuracy: 0.9375\n",
      "Epoch 92/100\n",
      "652/652 [==============================] - 170s 261ms/step - loss: 0.0808 - categorical_accuracy: 0.9762 - val_loss: 0.2027 - val_categorical_accuracy: 0.8750\n",
      "Epoch 93/100\n",
      "652/652 [==============================] - 171s 262ms/step - loss: 0.0818 - categorical_accuracy: 0.9768 - val_loss: 0.3701 - val_categorical_accuracy: 0.8125\n",
      "Epoch 94/100\n",
      "652/652 [==============================] - 171s 262ms/step - loss: 0.0767 - categorical_accuracy: 0.9783 - val_loss: 0.5345 - val_categorical_accuracy: 0.8750\n"
     ]
    },
    {
     "name": "stdout",
     "output_type": "stream",
     "text": [
      "Epoch 95/100\n",
      "652/652 [==============================] - 170s 261ms/step - loss: 0.0856 - categorical_accuracy: 0.9739 - val_loss: 0.5695 - val_categorical_accuracy: 0.7500\n",
      "Epoch 96/100\n",
      "652/652 [==============================] - 171s 262ms/step - loss: 0.0790 - categorical_accuracy: 0.9772 - val_loss: 0.7220 - val_categorical_accuracy: 0.8750\n",
      "Epoch 97/100\n",
      "652/652 [==============================] - 170s 261ms/step - loss: 0.0782 - categorical_accuracy: 0.9785 - val_loss: 1.7281 - val_categorical_accuracy: 0.6875\n",
      "Epoch 98/100\n",
      "652/652 [==============================] - 170s 261ms/step - loss: 0.0843 - categorical_accuracy: 0.9751 - val_loss: 0.4179 - val_categorical_accuracy: 0.8750\n",
      "Epoch 99/100\n",
      "652/652 [==============================] - 171s 262ms/step - loss: 0.0765 - categorical_accuracy: 0.9758 - val_loss: 0.3825 - val_categorical_accuracy: 0.8750\n",
      "Epoch 100/100\n",
      "652/652 [==============================] - 170s 261ms/step - loss: 0.0771 - categorical_accuracy: 0.9785 - val_loss: 0.3359 - val_categorical_accuracy: 0.8125\n"
     ]
    }
   ],
   "source": [
    "import math\n",
    "\n",
    "history = pneumoniaNetModel.fit_generator(\n",
    "      training_set,\n",
    "      steps_per_epoch=math.ceil(number_of_training_samples//batch_size),\n",
    "      epochs=no_of_epochs,\n",
    "      callbacks=callbacks_list,\n",
    "      validation_data=validation_set,\n",
    "      validation_steps=math.ceil(number_of_validation_samples//batch_size))"
   ]
  },
  {
   "cell_type": "markdown",
   "metadata": {},
   "source": [
    "## Visualizing the Training Process"
   ]
  },
  {
   "cell_type": "code",
   "execution_count": 8,
   "metadata": {},
   "outputs": [
    {
     "data": {
      "image/png": "[encoded data removed]",
      "text/plain": [
       "<Figure size 432x288 with 1 Axes>"
      ]
     },
     "metadata": {
      "needs_background": "light"
     },
     "output_type": "display_data"
    },
    {
     "data": {
      "image/png": "[encoded data removed]",
      "text/plain": [
       "<Figure size 432x288 with 1 Axes>"
      ]
     },
     "metadata": {
      "needs_background": "light"
     },
     "output_type": "display_data"
    }
   ],
   "source": [
    "import matplotlib.pyplot as plt\n",
    "%matplotlib inline\n",
    "\n",
    "acc=history.history['categorical_accuracy']\n",
    "val_acc=history.history['val_categorical_accuracy']\n",
    "loss=history.history['loss']\n",
    "val_loss=history.history['val_loss']\n",
    "epochs=range(1,len(acc)+1)\n",
    "plt.xlabel('Epochs')\n",
    "plt.ylabel('Accuracy')\n",
    "plt.plot(epochs, acc, 'bo', label='Training acc')\n",
    "plt.plot(epochs, val_acc, 'b', label='Validation acc')\n",
    "plt.title('Training and validation accuracy')\n",
    "plt.legend()\n",
    "plt.figure()\n",
    "\n",
    "plt.plot(epochs, loss, 'bo', label='Training loss')\n",
    "plt.plot(epochs, val_loss, 'b', label='Validation loss')\n",
    "plt.title('Training and validation loss')\n",
    "plt.xlabel('Epochs')\n",
    "plt.ylabel('Loss')\n",
    "plt.legend()\n",
    "plt.show()"
   ]
  },
  {
   "cell_type": "markdown",
   "metadata": {},
   "source": [
    "## Loading the Best Model"
   ]
  },
  {
   "cell_type": "code",
   "execution_count": 9,
   "metadata": {},
   "outputs": [],
   "source": [
    "from tensorflow.python.keras.models import load_model\n",
    "\n",
    "best_model = load_model('PneumoniaNet4.h5')"
   ]
  },
  {
   "cell_type": "markdown",
   "metadata": {},
   "source": [
    "## Evaluating the Best Model"
   ]
  },
  {
   "cell_type": "code",
   "execution_count": 10,
   "metadata": {},
   "outputs": [
    {
     "name": "stdout",
     "output_type": "stream",
     "text": [
      "78/78 [==============================] - 12s 148ms/step - loss: 0.1980 - categorical_accuracy: 0.9423\n",
      "Test-set classification accuracy: 94.23%\n"
     ]
    }
   ],
   "source": [
    "steps_test=int(number_of_test_samples/batch_size)\n",
    "result = best_model.evaluate_generator(test_set, steps=steps_test,verbose=1)\n",
    "print(\"Test-set classification accuracy: {0:.2%}\".format(result[1]))"
   ]
  },
  {
   "cell_type": "markdown",
   "metadata": {},
   "source": [
    "## Calculating Precision, Specificity and Sensitivity (Recall) values for the model\n",
    "*Precision-Recall* is a useful measure of success of prediction when the classes are very imbalanced. High *precision* relates to a low false positive rate, and high *recall* relates to a low false negative rate.\n",
    "\n",
    "Precision is defined as the number of true positives over the number of true positives plus the number of false positives. Recall is defined as the number of true positives over the number of true positives plus the number of false negatives. Please see the [link](https://scikit-learn.org/stable/auto_examples/model_selection/plot_precision_recall.html) for details.\n",
    "\n",
    "Another way of assessing a binary classification model is to compute the *sensitivity* (also called the true positive rate or the recall) and *specificity* (also called the true negative rate) of the model. *Sensitivity* indicates the percentage of sick people who are correctly identified as having the condition. *Specificity* indicates the percentage of healthy people who are correctly identified as not having the condition.\n",
    "\n",
    "But first we prepare our test data, so that later we can draw the *confusion matrix* as well as calculate *precision*, *specificity* and *sensitivity (recall)* of the model."
   ]
  },
  {
   "cell_type": "code",
   "execution_count": 11,
   "metadata": {},
   "outputs": [
    {
     "name": "stdout",
     "output_type": "stream",
     "text": [
      "Total number of test examples:  (624, 150, 150, 3)\n",
      "Total number of labels: (624, 1)\n"
     ]
    }
   ],
   "source": [
    "# Preparing test data\n",
    "import glob\n",
    "from pathlib import Path\n",
    "from tensorflow.python.keras.utils import to_categorical\n",
    "import cv2\n",
    "\n",
    "normal_cases_dir = Path('D:\\\\TensorFlow Programs\\\\Diagnosis of Pneumonia based on Chest X-Rays\\\\chest-xray-pneumonia\\\\chest_xray\\\\chest_xray\\\\test\\\\NORMAL')\n",
    "pneumonia_cases_dir = Path('D:\\\\TensorFlow Programs\\\\Diagnosis of Pneumonia based on Chest X-Rays\\\\chest-xray-pneumonia\\\\chest_xray\\\\chest_xray\\\\test\\\\PNEUMONIA')\n",
    "\n",
    "normal_cases = normal_cases_dir.glob('*.jpeg')\n",
    "pneumonia_cases = pneumonia_cases_dir.glob('*.jpeg')\n",
    "\n",
    "test_data = []\n",
    "test_labels = []\n",
    "\n",
    "for img in normal_cases:\n",
    "    img = cv2.imread(str(img))\n",
    "    img = cv2.resize(img, (image_width,image_height))\n",
    "    if img.shape[2] ==1:\n",
    "        img = np.dstack([img, img, img])\n",
    "    else:\n",
    "        img = cv2.cvtColor(img, cv2.COLOR_BGR2RGB)\n",
    "    img = img.astype(np.float32)/255.\n",
    "    label = [0]\n",
    "    test_data.append(img)\n",
    "    test_labels.append(label)\n",
    "                      \n",
    "for img in pneumonia_cases:\n",
    "    img = cv2.imread(str(img))\n",
    "    img = cv2.resize(img, (image_width,image_height))\n",
    "    if img.shape[2] ==1:\n",
    "        img = np.dstack([img, img, img])\n",
    "    else:\n",
    "        img = cv2.cvtColor(img, cv2.COLOR_BGR2RGB)\n",
    "    img = img.astype(np.float32)/255.\n",
    "    label = [1]\n",
    "    test_data.append(img)\n",
    "    test_labels.append(label)\n",
    "    \n",
    "\n",
    "test_data = np.array(test_data)\n",
    "test_labels = np.array(test_labels)\n",
    "test_labels_one_hot_encoding=to_categorical(test_labels)\n",
    "\n",
    "print(\"Total number of test examples: \", test_data.shape)\n",
    "print(\"Total number of labels:\", test_labels.shape)"
   ]
  },
  {
   "cell_type": "code",
   "execution_count": 12,
   "metadata": {},
   "outputs": [
    {
     "name": "stdout",
     "output_type": "stream",
     "text": [
      "624/624 [==============================] - 5s 8ms/sample - loss: 0.1966 - categorical_accuracy: 0.9423\n",
      "Loss on test set:  0.1965615008599483\n",
      "Accuracy on test set:  0.9423077\n"
     ]
    }
   ],
   "source": [
    "# Evaluation on test dataset\n",
    "\n",
    "test_loss, test_score = best_model.evaluate(test_data, test_labels_one_hot_encoding, batch_size=16)\n",
    "print(\"Loss on test set: \", test_loss)\n",
    "print(\"Accuracy on test set: \", test_score)"
   ]
  },
  {
   "cell_type": "code",
   "execution_count": 13,
   "metadata": {},
   "outputs": [
    {
     "name": "stdout",
     "output_type": "stream",
     "text": [
      "624/624 [==============================] - 4s 6ms/sample\n",
      "(624, 1)\n",
      "(624, 1)\n"
     ]
    }
   ],
   "source": [
    "# Get predictions\n",
    "preds = best_model.predict(test_data, batch_size=16,verbose=1)\n",
    "preds=np.around(preds)\n",
    "orig_test_labels=test_labels\n",
    "predicted_labels=np.argmax(preds,axis=1)\n",
    "predicted_labels=np.reshape(predicted_labels,(624,1))\n",
    "print(predicted_labels.shape)\n",
    "print(orig_test_labels.shape)"
   ]
  },
  {
   "cell_type": "code",
   "execution_count": 14,
   "metadata": {},
   "outputs": [
    {
     "data": {
      "text/plain": [
       "<Figure size 432x288 with 0 Axes>"
      ]
     },
     "metadata": {},
     "output_type": "display_data"
    },
    {
     "data": {
      "image/png": "[encoded data removed]",
      "text/plain": [
       "<Figure size 864x576 with 1 Axes>"
      ]
     },
     "metadata": {
      "needs_background": "light"
     },
     "output_type": "display_data"
    }
   ],
   "source": [
    "import matplotlib.pyplot as plt\n",
    "%matplotlib inline\n",
    "# Get the confusion matrix\n",
    "from sklearn.metrics import confusion_matrix\n",
    "from mlxtend.plotting import plot_confusion_matrix\n",
    "\n",
    "cm  = confusion_matrix(orig_test_labels, predicted_labels)\n",
    "plt.figure()\n",
    "plot_confusion_matrix(cm,figsize=(12,8), hide_ticks=True,cmap=plt.cm.Blues)\n",
    "plt.xticks(range(2), ['Normal', 'Pneumonia'], fontsize=16)\n",
    "plt.yticks(range(2), ['Normal', 'Pneumonia'], fontsize=16)\n",
    "plt.show()"
   ]
  },
  {
   "cell_type": "code",
   "execution_count": 15,
   "metadata": {},
   "outputs": [
    {
     "name": "stdout",
     "output_type": "stream",
     "text": [
      "Sensitivity (Recall) of the model is 0.987\n",
      "Specificity of the model is 0.868\n",
      "Precision of the model is 0.925\n"
     ]
    }
   ],
   "source": [
    "# Calculate Precision and Recall\n",
    "tn, fp, fn, tp = cm.ravel()\n",
    "\n",
    "precision = tp/(tp+fp)\n",
    "recall = tp/(tp+fn)\n",
    "specificity=tn/(tn+fp)\n",
    "\n",
    "print(\"Sensitivity (Recall) of the model is {:.3f}\".format(recall))\n",
    "print(\"Specificity of the model is {:.3f}\".format(specificity))\n",
    "print(\"Precision of the model is {:.3f}\".format(precision))"
   ]
  },
  {
   "cell_type": "markdown",
   "metadata": {},
   "source": [
    "So, this model has a `98.7%` sensitivity (recall), `86.8%` specificity and `92.5%` precision."
   ]
  },
  {
   "cell_type": "markdown",
   "metadata": {},
   "source": [
    "## ROC Curve and AUC for the model\n",
    "**Receiver operating characteristic** curve (a.k.a ROC) is a graphic plot that illustrates the diagnostic ability of a binary classifier system as its discrimination threshold is varied. The critical point here is \"binary classifier\" and \"varying threshold\". **Area Under the Curve** (a.k.a. AUC) is the percentage of the area that is under this ROC curve, ranging between 0 and 1.\n",
    "ROC is a great way to visualize the performance of a binary classifier, and AUC is one single number to summarize a classifier's performance. The higher the AUC is, the better the classifier."
   ]
  },
  {
   "cell_type": "code",
   "execution_count": 16,
   "metadata": {},
   "outputs": [],
   "source": [
    "from sklearn.metrics import roc_curve\n",
    "\n",
    "probs = best_model.predict_proba(test_data)\n",
    "preds = probs[:,1]\n",
    "fpr, tpr, thresholds = roc_curve(test_labels.ravel(), preds)"
   ]
  },
  {
   "cell_type": "code",
   "execution_count": 17,
   "metadata": {},
   "outputs": [],
   "source": [
    "from sklearn.metrics import auc\n",
    "auc_var = auc(fpr, tpr)"
   ]
  },
  {
   "cell_type": "code",
   "execution_count": 18,
   "metadata": {},
   "outputs": [
    {
     "data": {
      "image/png": "[encoded data removed]",
      "text/plain": [
       "<Figure size 432x288 with 1 Axes>"
      ]
     },
     "metadata": {
      "needs_background": "light"
     },
     "output_type": "display_data"
    }
   ],
   "source": [
    "import matplotlib.pyplot as plt\n",
    "%matplotlib inline\n",
    "plt.figure(1)\n",
    "plt.plot([0, 1], [0, 1], 'k--')\n",
    "plt.plot(fpr, tpr, label='PneumoniaNet (area = {:.3f})'.format(auc_var))\n",
    "plt.xlabel('False positive rate')\n",
    "plt.ylabel('True positive rate')\n",
    "plt.title('ROC curve')\n",
    "plt.legend(loc='best')\n",
    "plt.show()"
   ]
  },
  {
   "cell_type": "markdown",
   "metadata": {},
   "source": [
    "## Precision-Recall Curve for the Model"
   ]
  },
  {
   "cell_type": "code",
   "execution_count": 19,
   "metadata": {},
   "outputs": [],
   "source": [
    "from sklearn.metrics import precision_recall_curve\n",
    "from sklearn.metrics import f1_score\n",
    "from sklearn.metrics import average_precision_score"
   ]
  },
  {
   "cell_type": "code",
   "execution_count": 20,
   "metadata": {},
   "outputs": [],
   "source": [
    "precision, recall, thresholds = precision_recall_curve(test_labels.ravel(), preds)"
   ]
  },
  {
   "cell_type": "code",
   "execution_count": 21,
   "metadata": {},
   "outputs": [],
   "source": [
    "auc_var2 = auc(recall, precision)"
   ]
  },
  {
   "cell_type": "code",
   "execution_count": 22,
   "metadata": {},
   "outputs": [
    {
     "data": {
      "image/png": "[encoded data removed]",
      "text/plain": [
       "<Figure size 432x288 with 1 Axes>"
      ]
     },
     "metadata": {
      "needs_background": "light"
     },
     "output_type": "display_data"
    }
   ],
   "source": [
    "plt.figure()\n",
    "plt.plot(recall, precision, label='PneumoniaNet (area = {:.3f})'.format(auc_var2))\n",
    "plt.xlabel('Recall')\n",
    "plt.ylabel('Precision')\n",
    "plt.title('Precision-Recall curve')\n",
    "plt.legend(loc='best')\n",
    "plt.show()"
   ]
  },
  {
   "cell_type": "code",
   "execution_count": 23,
   "metadata": {},
   "outputs": [
    {
     "name": "stdout",
     "output_type": "stream",
     "text": [
      "Average Precision Score: 0.991\n"
     ]
    }
   ],
   "source": [
    "print('Average Precision Score: {:.3f}'.format(average_precision_score(test_labels.ravel(), preds)))"
   ]
  },
  {
   "cell_type": "code",
   "execution_count": 24,
   "metadata": {},
   "outputs": [
    {
     "name": "stdout",
     "output_type": "stream",
     "text": [
      "F1 Score: 0.955\n"
     ]
    }
   ],
   "source": [
    "print(\"F1 Score: {:.3f}\".format(f1_score(test_labels.ravel(),predicted_labels.ravel())))"
   ]
  }
 ],
 "metadata": {
  "kernelspec": {
   "display_name": "Python 3",
   "language": "python",
   "name": "python3"
  },
  "language_info": {
   "codemirror_mode": {
    "name": "ipython",
    "version": 3
   },
   "file_extension": ".py",
   "mimetype": "text/x-python",
   "name": "python",
   "nbconvert_exporter": "python",
   "pygments_lexer": "ipython3",
   "version": "3.6.8"
  }
 },
 "nbformat": 4,
 "nbformat_minor": 2
}
