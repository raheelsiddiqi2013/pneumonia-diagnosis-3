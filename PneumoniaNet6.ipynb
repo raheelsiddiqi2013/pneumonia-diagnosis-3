{
 "cells": [
  {
   "cell_type": "markdown",
   "metadata": {},
   "source": [
    "# Automated Chest X-ray based Pneumonia Diagnosis using PneumoniaNet\n",
    "The author of this notebook is **Dr Raheel Siddiqi**. He is a *Senior Assistant Professor* at Bahria University, Karachi Campus, Pakistan. His research interests include *Medical Imaging*, *Computer Vision* and *Deep Learning*. \n",
    "\n",
    "The objective of the experiment (presented in this notebook) is to evaluate the performance of a self-designed Convolutional Neural Network (CNN) based model called **PneumoniaNet**. PneumoniaNet is employed to diagnose Pneumonia (based on Chest X-ray images). The diagnosis process comprises of classifying Chest X-ray images into one of the two classes: (a) Normal, (b) Pneumonia.\n",
    "\n",
    "The dataset is downloded from [kaggle.com](https://www.kaggle.com/paultimothymooney/chest-xray-pneumonia). The dataset contains 5,863 X-Ray images (JPEG) and 2 categories (Pneumonia/Normal). The dataset is divided into three sets: (a) train, (b) val and (c) test.\n",
    "\n",
    "PneumoniaNet is based on a very simple 21-layer CNN architecture, where only 13 layers have trainable weights and biases. In order to avoid overfitting the following steps are ensured:\n",
    "1. Using a low capacity network i.e. less number of layers, less learnable parameters. This is done to reduce memorization capacity.\n",
    "2. Adding weight regularization to dense layer.\n",
    "3. Drop out layers have also been added."
   ]
  },
  {
   "cell_type": "markdown",
   "metadata": {},
   "source": [
    "# Tensorflow and Keras version used"
   ]
  },
  {
   "cell_type": "code",
   "execution_count": 1,
   "metadata": {},
   "outputs": [
    {
     "name": "stdout",
     "output_type": "stream",
     "text": [
      "Tensorflow Version:  1.13.1\n",
      "Keras Version:  2.2.4-tf\n"
     ]
    }
   ],
   "source": [
    "import tensorflow as tf\n",
    "from tensorflow.python import keras\n",
    "\n",
    "print('Tensorflow Version: ', tf.__version__)\n",
    "print('Keras Version: ', keras.__version__)"
   ]
  },
  {
   "cell_type": "markdown",
   "metadata": {},
   "source": [
    "# Setting up the Model"
   ]
  },
  {
   "cell_type": "code",
   "execution_count": 2,
   "metadata": {},
   "outputs": [
    {
     "name": "stdout",
     "output_type": "stream",
     "text": [
      "WARNING:tensorflow:From C:\\Users\\Raheel\\Anaconda3\\envs\\EnvName\\lib\\site-packages\\tensorflow\\python\\framework\\op_def_library.py:263: colocate_with (from tensorflow.python.framework.ops) is deprecated and will be removed in a future version.\n",
      "Instructions for updating:\n",
      "Colocations handled automatically by placer.\n"
     ]
    },
    {
     "name": "stderr",
     "output_type": "stream",
     "text": [
      "Using TensorFlow backend.\n"
     ]
    },
    {
     "name": "stdout",
     "output_type": "stream",
     "text": [
      "WARNING:tensorflow:From C:\\Users\\Raheel\\Anaconda3\\envs\\EnvName\\lib\\site-packages\\keras\\backend\\tensorflow_backend.py:3445: calling dropout (from tensorflow.python.ops.nn_ops) with keep_prob is deprecated and will be removed in a future version.\n",
      "Instructions for updating:\n",
      "Please use `rate` instead of `keep_prob`. Rate should be set to `rate = 1 - keep_prob`.\n",
      "_________________________________________________________________\n",
      "Layer (type)                 Output Shape              Param #   \n",
      "=================================================================\n",
      "conv2d_1 (Conv2D)            (None, 148, 148, 64)      1792      \n",
      "_________________________________________________________________\n",
      "conv2d_2 (Conv2D)            (None, 146, 146, 64)      36928     \n",
      "_________________________________________________________________\n",
      "conv2d_3 (Conv2D)            (None, 144, 144, 128)     73856     \n",
      "_________________________________________________________________\n",
      "conv2d_4 (Conv2D)            (None, 142, 142, 128)     147584    \n",
      "_________________________________________________________________\n",
      "max_pooling2d_1 (MaxPooling2 (None, 71, 71, 128)       0         \n",
      "_________________________________________________________________\n",
      "dropout_1 (Dropout)          (None, 71, 71, 128)       0         \n",
      "_________________________________________________________________\n",
      "conv2d_5 (Conv2D)            (None, 69, 69, 128)       147584    \n",
      "_________________________________________________________________\n",
      "conv2d_6 (Conv2D)            (None, 67, 67, 128)       147584    \n",
      "_________________________________________________________________\n",
      "conv2d_7 (Conv2D)            (None, 65, 65, 256)       295168    \n",
      "_________________________________________________________________\n",
      "conv2d_8 (Conv2D)            (None, 63, 63, 256)       590080    \n",
      "_________________________________________________________________\n",
      "max_pooling2d_2 (MaxPooling2 (None, 31, 31, 256)       0         \n",
      "_________________________________________________________________\n",
      "dropout_2 (Dropout)          (None, 31, 31, 256)       0         \n",
      "_________________________________________________________________\n",
      "conv2d_9 (Conv2D)            (None, 29, 29, 256)       590080    \n",
      "_________________________________________________________________\n",
      "conv2d_10 (Conv2D)           (None, 27, 27, 256)       590080    \n",
      "_________________________________________________________________\n",
      "conv2d_11 (Conv2D)           (None, 25, 25, 512)       1180160   \n",
      "_________________________________________________________________\n",
      "max_pooling2d_3 (MaxPooling2 (None, 12, 12, 512)       0         \n",
      "_________________________________________________________________\n",
      "dropout_3 (Dropout)          (None, 12, 12, 512)       0         \n",
      "_________________________________________________________________\n",
      "flatten_1 (Flatten)          (None, 73728)             0         \n",
      "_________________________________________________________________\n",
      "dense_1 (Dense)              (None, 512)               37749248  \n",
      "_________________________________________________________________\n",
      "dropout_4 (Dropout)          (None, 512)               0         \n",
      "_________________________________________________________________\n",
      "dense_2 (Dense)              (None, 2)                 1026      \n",
      "=================================================================\n",
      "Total params: 41,551,170\n",
      "Trainable params: 41,551,170\n",
      "Non-trainable params: 0\n",
      "_________________________________________________________________\n"
     ]
    }
   ],
   "source": [
    "import os\n",
    "import numpy as np\n",
    "import keras\n",
    "from keras import models\n",
    "from keras import layers\n",
    "from keras.preprocessing.image import ImageDataGenerator\n",
    "from keras import regularizers\n",
    "from keras import optimizers\n",
    "from keras.callbacks import ModelCheckpoint\n",
    "\n",
    "pneumoniaNetModel=models.Sequential()\n",
    "\n",
    "pneumoniaNetModel.add(layers.Conv2D(64, (3, 3), activation='relu', input_shape=(150,150,3)))\n",
    "pneumoniaNetModel.add(layers.Conv2D(64, (3, 3), activation='relu'))\n",
    "pneumoniaNetModel.add(layers.Conv2D(128, (3, 3), activation='relu'))\n",
    "pneumoniaNetModel.add(layers.Conv2D(128, (3, 3), activation='relu'))\n",
    "pneumoniaNetModel.add(layers.MaxPooling2D(pool_size=(2, 2)))\n",
    "pneumoniaNetModel.add(layers.Dropout(0.2))\n",
    "\n",
    "pneumoniaNetModel.add(layers.Conv2D(128, (3, 3), activation='relu'))\n",
    "pneumoniaNetModel.add(layers.Conv2D(128, (3, 3), activation='relu'))\n",
    "pneumoniaNetModel.add(layers.Conv2D(256, (3, 3), activation='relu'))\n",
    "pneumoniaNetModel.add(layers.Conv2D(256, (3, 3), activation='relu'))\n",
    "pneumoniaNetModel.add(layers.MaxPooling2D(pool_size=(2, 2)))\n",
    "pneumoniaNetModel.add(layers.Dropout(0.2))\n",
    "\n",
    "pneumoniaNetModel.add(layers.Conv2D(256, (3, 3), activation='relu'))\n",
    "pneumoniaNetModel.add(layers.Conv2D(256, (3, 3), activation='relu'))\n",
    "pneumoniaNetModel.add(layers.Conv2D(512, (3, 3), activation='relu'))\n",
    "pneumoniaNetModel.add(layers.MaxPooling2D(pool_size=(2, 2)))\n",
    "pneumoniaNetModel.add(layers.Dropout(0.2))\n",
    "\n",
    "pneumoniaNetModel.add(layers.Flatten())\n",
    "pneumoniaNetModel.add(layers.Dense(512, kernel_regularizer=regularizers.l2(0.001), activation='relu'))\n",
    "pneumoniaNetModel.add(layers.Dropout(0.2))\n",
    "pneumoniaNetModel.add(layers.Dense(2, activation='softmax'))\n",
    "\n",
    "pneumoniaNetModel.compile(loss='categorical_crossentropy',optimizer=optimizers.Adam(lr=1e-4),metrics=['categorical_accuracy'])\n",
    "pneumoniaNetModel.summary()\n",
    "\n",
    "filepath=\"PneumoniaNet6.h5\"\n",
    "checkpoint = ModelCheckpoint(filepath, save_best_only=True)\n",
    "callbacks_list = [checkpoint]"
   ]
  },
  {
   "cell_type": "markdown",
   "metadata": {},
   "source": [
    "## Setting up Training and Validation Data for the experiment"
   ]
  },
  {
   "cell_type": "code",
   "execution_count": 3,
   "metadata": {},
   "outputs": [],
   "source": [
    "image_height = 150\n",
    "image_width = 150\n",
    "batch_size = 8\n",
    "no_of_epochs  = 200\n",
    "number_of_training_samples=5216\n",
    "number_of_validation_samples=16\n",
    "number_of_test_samples=624"
   ]
  },
  {
   "cell_type": "code",
   "execution_count": 4,
   "metadata": {},
   "outputs": [],
   "source": [
    "train_dir='D:\\\\TensorFlow Programs\\\\Diagnosis of Pneumonia based on Chest X-Rays\\\\chest-xray-pneumonia\\\\chest_xray\\\\chest_xray\\\\train'\n",
    "validation_dir='D:\\\\TensorFlow Programs\\\\Diagnosis of Pneumonia based on Chest X-Rays\\\\chest-xray-pneumonia\\\\chest_xray\\\\chest_xray\\\\val'\n",
    "test_dir='D:\\\\TensorFlow Programs\\\\Diagnosis of Pneumonia based on Chest X-Rays\\\\chest-xray-pneumonia\\\\chest_xray\\\\chest_xray\\\\test'"
   ]
  },
  {
   "cell_type": "code",
   "execution_count": 5,
   "metadata": {},
   "outputs": [],
   "source": [
    "train_datagen = ImageDataGenerator(rescale=1./255,\n",
    "                                   rotation_range=40,\n",
    "                                   width_shift_range=0.2,\n",
    "                                   height_shift_range=0.2,\n",
    "                                   shear_range=0.2,\n",
    "                                   zoom_range=0.2\n",
    "                                   )\n",
    "\n",
    "validation_datagen = ImageDataGenerator(rescale=1./255)  \n",
    "\n",
    "test_datagen = ImageDataGenerator(rescale=1./255)"
   ]
  },
  {
   "cell_type": "code",
   "execution_count": 6,
   "metadata": {},
   "outputs": [
    {
     "name": "stdout",
     "output_type": "stream",
     "text": [
      "Found 5216 images belonging to 2 classes.\n",
      "Found 16 images belonging to 2 classes.\n",
      "Found 624 images belonging to 2 classes.\n"
     ]
    }
   ],
   "source": [
    "training_set = train_datagen.flow_from_directory(train_dir,target_size=(image_width, image_height),batch_size=batch_size)\n",
    "validation_set = validation_datagen.flow_from_directory(validation_dir,target_size=(image_width, image_height),batch_size=batch_size,shuffle=False)\n",
    "test_set = test_datagen.flow_from_directory(test_dir,target_size=(image_width, image_height),batch_size=batch_size,shuffle=False)"
   ]
  },
  {
   "cell_type": "markdown",
   "metadata": {},
   "source": [
    "## Model Training"
   ]
  },
  {
   "cell_type": "code",
   "execution_count": 7,
   "metadata": {},
   "outputs": [
    {
     "name": "stdout",
     "output_type": "stream",
     "text": [
      "WARNING:tensorflow:From C:\\Users\\Raheel\\Anaconda3\\envs\\EnvName\\lib\\site-packages\\tensorflow\\python\\ops\\math_ops.py:3066: to_int32 (from tensorflow.python.ops.math_ops) is deprecated and will be removed in a future version.\n",
      "Instructions for updating:\n",
      "Use tf.cast instead.\n",
      "Epoch 1/200\n",
      "652/652 [==============================] - 221s 339ms/step - loss: 0.6636 - categorical_accuracy: 0.7408 - val_loss: 0.7641 - val_categorical_accuracy: 0.5000\n",
      "Epoch 2/200\n",
      "652/652 [==============================] - 209s 321ms/step - loss: 0.5066 - categorical_accuracy: 0.7602 - val_loss: 0.5483 - val_categorical_accuracy: 0.8125\n",
      "Epoch 3/200\n",
      "652/652 [==============================] - 210s 322ms/step - loss: 0.4880 - categorical_accuracy: 0.7705 - val_loss: 0.5568 - val_categorical_accuracy: 0.8125\n",
      "Epoch 4/200\n",
      "652/652 [==============================] - 210s 322ms/step - loss: 0.4521 - categorical_accuracy: 0.7903 - val_loss: 0.5537 - val_categorical_accuracy: 0.7500\n",
      "Epoch 5/200\n",
      "652/652 [==============================] - 210s 322ms/step - loss: 0.4513 - categorical_accuracy: 0.8071 - val_loss: 0.4005 - val_categorical_accuracy: 0.7500\n",
      "Epoch 6/200\n",
      "652/652 [==============================] - 210s 322ms/step - loss: 0.3874 - categorical_accuracy: 0.8390 - val_loss: 0.5746 - val_categorical_accuracy: 0.7500\n",
      "Epoch 7/200\n",
      "652/652 [==============================] - 211s 323ms/step - loss: 0.3328 - categorical_accuracy: 0.8702 - val_loss: 0.4163 - val_categorical_accuracy: 0.8125\n",
      "Epoch 8/200\n",
      "652/652 [==============================] - 211s 323ms/step - loss: 0.3130 - categorical_accuracy: 0.8809 - val_loss: 0.3921 - val_categorical_accuracy: 0.8125\n",
      "Epoch 9/200\n",
      "652/652 [==============================] - 209s 321ms/step - loss: 0.2868 - categorical_accuracy: 0.8907 - val_loss: 0.4580 - val_categorical_accuracy: 0.8125\n",
      "Epoch 10/200\n",
      "652/652 [==============================] - 209s 321ms/step - loss: 0.2695 - categorical_accuracy: 0.8967 - val_loss: 0.4905 - val_categorical_accuracy: 0.8125\n",
      "Epoch 11/200\n",
      "652/652 [==============================] - 210s 322ms/step - loss: 0.2836 - categorical_accuracy: 0.8878 - val_loss: 0.7354 - val_categorical_accuracy: 0.7500\n",
      "Epoch 12/200\n",
      "652/652 [==============================] - 210s 323ms/step - loss: 0.2522 - categorical_accuracy: 0.9055 - val_loss: 0.7082 - val_categorical_accuracy: 0.6875\n",
      "Epoch 13/200\n",
      "652/652 [==============================] - 211s 323ms/step - loss: 0.2458 - categorical_accuracy: 0.9093 - val_loss: 0.7936 - val_categorical_accuracy: 0.7500\n",
      "Epoch 14/200\n",
      "652/652 [==============================] - 210s 323ms/step - loss: 0.2441 - categorical_accuracy: 0.9061 - val_loss: 0.7362 - val_categorical_accuracy: 0.7500\n",
      "Epoch 15/200\n",
      "652/652 [==============================] - 211s 323ms/step - loss: 0.2326 - categorical_accuracy: 0.9128 - val_loss: 0.9375 - val_categorical_accuracy: 0.6875\n",
      "Epoch 16/200\n",
      "652/652 [==============================] - 211s 323ms/step - loss: 0.2324 - categorical_accuracy: 0.9124 - val_loss: 0.9189 - val_categorical_accuracy: 0.6875\n",
      "Epoch 17/200\n",
      "652/652 [==============================] - 211s 323ms/step - loss: 0.2346 - categorical_accuracy: 0.9118 - val_loss: 0.7054 - val_categorical_accuracy: 0.7500\n",
      "Epoch 18/200\n",
      "652/652 [==============================] - 211s 323ms/step - loss: 0.2236 - categorical_accuracy: 0.9172 - val_loss: 0.4595 - val_categorical_accuracy: 0.8750\n",
      "Epoch 19/200\n",
      "652/652 [==============================] - 211s 323ms/step - loss: 0.2183 - categorical_accuracy: 0.9233 - val_loss: 0.3848 - val_categorical_accuracy: 0.8125\n",
      "Epoch 20/200\n",
      "652/652 [==============================] - 209s 320ms/step - loss: 0.2096 - categorical_accuracy: 0.9227 - val_loss: 0.7048 - val_categorical_accuracy: 0.7500\n",
      "Epoch 21/200\n",
      "652/652 [==============================] - 209s 321ms/step - loss: 0.1965 - categorical_accuracy: 0.9314 - val_loss: 0.9277 - val_categorical_accuracy: 0.6875\n",
      "Epoch 22/200\n",
      "652/652 [==============================] - 209s 320ms/step - loss: 0.1961 - categorical_accuracy: 0.9300 - val_loss: 0.6212 - val_categorical_accuracy: 0.8750\n",
      "Epoch 23/200\n",
      "652/652 [==============================] - 209s 320ms/step - loss: 0.1960 - categorical_accuracy: 0.9325 - val_loss: 0.5691 - val_categorical_accuracy: 0.8125\n",
      "Epoch 24/200\n",
      "652/652 [==============================] - 209s 320ms/step - loss: 0.1863 - categorical_accuracy: 0.9340 - val_loss: 0.5613 - val_categorical_accuracy: 0.8125\n",
      "Epoch 25/200\n",
      "652/652 [==============================] - 209s 321ms/step - loss: 0.1900 - categorical_accuracy: 0.9342 - val_loss: 0.6329 - val_categorical_accuracy: 0.6875\n",
      "Epoch 26/200\n",
      "652/652 [==============================] - 209s 320ms/step - loss: 0.1821 - categorical_accuracy: 0.9356 - val_loss: 0.8608 - val_categorical_accuracy: 0.7500\n",
      "Epoch 27/200\n",
      "652/652 [==============================] - 209s 320ms/step - loss: 0.1827 - categorical_accuracy: 0.9348 - val_loss: 1.4648 - val_categorical_accuracy: 0.6250\n",
      "Epoch 28/200\n",
      "652/652 [==============================] - 209s 320ms/step - loss: 0.1862 - categorical_accuracy: 0.9381 - val_loss: 0.7227 - val_categorical_accuracy: 0.8125\n",
      "Epoch 29/200\n",
      "652/652 [==============================] - 209s 320ms/step - loss: 0.1818 - categorical_accuracy: 0.9371 - val_loss: 0.3057 - val_categorical_accuracy: 0.8750\n",
      "Epoch 30/200\n",
      "652/652 [==============================] - 209s 320ms/step - loss: 0.1751 - categorical_accuracy: 0.9360 - val_loss: 0.6947 - val_categorical_accuracy: 0.7500\n",
      "Epoch 31/200\n",
      "652/652 [==============================] - 209s 320ms/step - loss: 0.1724 - categorical_accuracy: 0.9385 - val_loss: 0.4979 - val_categorical_accuracy: 0.8125\n",
      "Epoch 32/200\n",
      "652/652 [==============================] - 209s 320ms/step - loss: 0.1734 - categorical_accuracy: 0.9400 - val_loss: 0.6429 - val_categorical_accuracy: 0.8125\n",
      "Epoch 33/200\n",
      "652/652 [==============================] - 209s 321ms/step - loss: 0.1638 - categorical_accuracy: 0.9429 - val_loss: 0.9293 - val_categorical_accuracy: 0.6250\n",
      "Epoch 34/200\n",
      "652/652 [==============================] - 211s 323ms/step - loss: 0.1710 - categorical_accuracy: 0.9406 - val_loss: 0.5974 - val_categorical_accuracy: 0.8750\n",
      "Epoch 35/200\n",
      "652/652 [==============================] - 210s 323ms/step - loss: 0.1628 - categorical_accuracy: 0.9448 - val_loss: 0.4020 - val_categorical_accuracy: 0.8125\n",
      "Epoch 36/200\n",
      "652/652 [==============================] - 211s 323ms/step - loss: 0.1551 - categorical_accuracy: 0.9465 - val_loss: 0.2834 - val_categorical_accuracy: 0.8750\n",
      "Epoch 37/200\n",
      "652/652 [==============================] - 209s 321ms/step - loss: 0.1502 - categorical_accuracy: 0.9480 - val_loss: 0.4105 - val_categorical_accuracy: 0.8750\n",
      "Epoch 38/200\n",
      "652/652 [==============================] - 209s 321ms/step - loss: 0.1505 - categorical_accuracy: 0.9502 - val_loss: 0.3629 - val_categorical_accuracy: 0.8125\n",
      "Epoch 39/200\n",
      "652/652 [==============================] - 209s 321ms/step - loss: 0.1459 - categorical_accuracy: 0.9521 - val_loss: 0.3793 - val_categorical_accuracy: 0.8750\n",
      "Epoch 40/200\n",
      "652/652 [==============================] - 209s 321ms/step - loss: 0.1514 - categorical_accuracy: 0.9502 - val_loss: 0.8967 - val_categorical_accuracy: 0.7500\n",
      "Epoch 41/200\n",
      "652/652 [==============================] - 209s 321ms/step - loss: 0.1478 - categorical_accuracy: 0.9509 - val_loss: 0.5663 - val_categorical_accuracy: 0.8750\n",
      "Epoch 42/200\n",
      "652/652 [==============================] - 209s 321ms/step - loss: 0.1440 - categorical_accuracy: 0.9528 - val_loss: 0.8333 - val_categorical_accuracy: 0.6250\n",
      "Epoch 43/200\n",
      "652/652 [==============================] - 210s 322ms/step - loss: 0.1400 - categorical_accuracy: 0.9528 - val_loss: 0.8939 - val_categorical_accuracy: 0.6875\n",
      "Epoch 44/200\n",
      "652/652 [==============================] - 210s 322ms/step - loss: 0.1355 - categorical_accuracy: 0.9580 - val_loss: 0.3510 - val_categorical_accuracy: 0.9375\n",
      "Epoch 45/200\n",
      "652/652 [==============================] - 210s 322ms/step - loss: 0.1373 - categorical_accuracy: 0.9534 - val_loss: 0.4734 - val_categorical_accuracy: 0.8125\n",
      "Epoch 46/200\n",
      "652/652 [==============================] - 210s 322ms/step - loss: 0.1352 - categorical_accuracy: 0.9542 - val_loss: 0.2516 - val_categorical_accuracy: 0.8750\n",
      "Epoch 47/200\n"
     ]
    },
    {
     "name": "stdout",
     "output_type": "stream",
     "text": [
      "652/652 [==============================] - 210s 321ms/step - loss: 0.1426 - categorical_accuracy: 0.9521 - val_loss: 0.4751 - val_categorical_accuracy: 0.8125\n",
      "Epoch 48/200\n",
      "652/652 [==============================] - 209s 321ms/step - loss: 0.1546 - categorical_accuracy: 0.9492 - val_loss: 0.3260 - val_categorical_accuracy: 0.9375\n",
      "Epoch 49/200\n",
      "652/652 [==============================] - 209s 321ms/step - loss: 0.1373 - categorical_accuracy: 0.9551 - val_loss: 0.3898 - val_categorical_accuracy: 0.8750\n",
      "Epoch 50/200\n",
      "652/652 [==============================] - 209s 321ms/step - loss: 0.1274 - categorical_accuracy: 0.9594 - val_loss: 0.6083 - val_categorical_accuracy: 0.8125\n",
      "Epoch 51/200\n",
      "652/652 [==============================] - 210s 322ms/step - loss: 0.1339 - categorical_accuracy: 0.9594 - val_loss: 0.2934 - val_categorical_accuracy: 0.8125\n",
      "Epoch 52/200\n",
      "652/652 [==============================] - 210s 322ms/step - loss: 0.1280 - categorical_accuracy: 0.9584 - val_loss: 0.5458 - val_categorical_accuracy: 0.8125\n",
      "Epoch 53/200\n",
      "652/652 [==============================] - 209s 321ms/step - loss: 0.1219 - categorical_accuracy: 0.9609 - val_loss: 0.2302 - val_categorical_accuracy: 0.8750\n",
      "Epoch 54/200\n",
      "652/652 [==============================] - 209s 321ms/step - loss: 0.1251 - categorical_accuracy: 0.9597 - val_loss: 0.3010 - val_categorical_accuracy: 0.8750\n",
      "Epoch 55/200\n",
      "652/652 [==============================] - 209s 321ms/step - loss: 0.1154 - categorical_accuracy: 0.9622 - val_loss: 0.3098 - val_categorical_accuracy: 0.8125\n",
      "Epoch 56/200\n",
      "652/652 [==============================] - 210s 321ms/step - loss: 0.1296 - categorical_accuracy: 0.9567 - val_loss: 0.2787 - val_categorical_accuracy: 0.8125\n",
      "Epoch 57/200\n",
      "652/652 [==============================] - 209s 321ms/step - loss: 0.1258 - categorical_accuracy: 0.9588 - val_loss: 0.5144 - val_categorical_accuracy: 0.7500\n",
      "Epoch 58/200\n",
      "652/652 [==============================] - 210s 321ms/step - loss: 0.1244 - categorical_accuracy: 0.9607 - val_loss: 0.3678 - val_categorical_accuracy: 0.8125\n",
      "Epoch 59/200\n",
      "652/652 [==============================] - 210s 323ms/step - loss: 0.1315 - categorical_accuracy: 0.9569 - val_loss: 0.2617 - val_categorical_accuracy: 0.9375\n",
      "Epoch 60/200\n",
      "652/652 [==============================] - 210s 323ms/step - loss: 0.1141 - categorical_accuracy: 0.9622 - val_loss: 0.3321 - val_categorical_accuracy: 0.9375\n",
      "Epoch 61/200\n",
      "652/652 [==============================] - 211s 323ms/step - loss: 0.1144 - categorical_accuracy: 0.9624 - val_loss: 0.2535 - val_categorical_accuracy: 0.8750\n",
      "Epoch 62/200\n",
      "652/652 [==============================] - 210s 323ms/step - loss: 0.1137 - categorical_accuracy: 0.9651 - val_loss: 0.2856 - val_categorical_accuracy: 0.9375\n",
      "Epoch 63/200\n",
      "652/652 [==============================] - 211s 324ms/step - loss: 0.1187 - categorical_accuracy: 0.9611 - val_loss: 0.5505 - val_categorical_accuracy: 0.8125\n",
      "Epoch 64/200\n",
      "652/652 [==============================] - 210s 323ms/step - loss: 0.1152 - categorical_accuracy: 0.9645 - val_loss: 0.5003 - val_categorical_accuracy: 0.8125\n",
      "Epoch 65/200\n",
      "652/652 [==============================] - 211s 324ms/step - loss: 0.1072 - categorical_accuracy: 0.9676 - val_loss: 0.4447 - val_categorical_accuracy: 0.8125\n",
      "Epoch 66/200\n",
      "652/652 [==============================] - 211s 324ms/step - loss: 0.1167 - categorical_accuracy: 0.9624 - val_loss: 0.5220 - val_categorical_accuracy: 0.8125\n",
      "Epoch 67/200\n",
      "652/652 [==============================] - 211s 324ms/step - loss: 0.1058 - categorical_accuracy: 0.9661 - val_loss: 0.5285 - val_categorical_accuracy: 0.8125\n",
      "Epoch 68/200\n",
      "652/652 [==============================] - 211s 323ms/step - loss: 0.1014 - categorical_accuracy: 0.9666 - val_loss: 0.2027 - val_categorical_accuracy: 0.8750\n",
      "Epoch 69/200\n",
      "652/652 [==============================] - 209s 321ms/step - loss: 0.1070 - categorical_accuracy: 0.9643 - val_loss: 0.5634 - val_categorical_accuracy: 0.6875\n",
      "Epoch 70/200\n",
      "652/652 [==============================] - 210s 322ms/step - loss: 0.1018 - categorical_accuracy: 0.9655 - val_loss: 0.3039 - val_categorical_accuracy: 0.8750\n",
      "Epoch 71/200\n",
      "652/652 [==============================] - 211s 324ms/step - loss: 0.1060 - categorical_accuracy: 0.9678 - val_loss: 0.2089 - val_categorical_accuracy: 0.9375\n",
      "Epoch 72/200\n",
      "652/652 [==============================] - 211s 324ms/step - loss: 0.1021 - categorical_accuracy: 0.9711 - val_loss: 0.3333 - val_categorical_accuracy: 0.7500\n",
      "Epoch 73/200\n",
      "652/652 [==============================] - 211s 324ms/step - loss: 0.1094 - categorical_accuracy: 0.9643 - val_loss: 0.3419 - val_categorical_accuracy: 0.8750\n",
      "Epoch 74/200\n",
      "652/652 [==============================] - 211s 324ms/step - loss: 0.1027 - categorical_accuracy: 0.9688 - val_loss: 0.3216 - val_categorical_accuracy: 0.7500\n",
      "Epoch 75/200\n",
      "652/652 [==============================] - 211s 324ms/step - loss: 0.0990 - categorical_accuracy: 0.9691 - val_loss: 0.2739 - val_categorical_accuracy: 0.8750\n",
      "Epoch 76/200\n",
      "652/652 [==============================] - 211s 324ms/step - loss: 0.1037 - categorical_accuracy: 0.9672 - val_loss: 0.2664 - val_categorical_accuracy: 0.8750\n",
      "Epoch 77/200\n",
      "652/652 [==============================] - 211s 324ms/step - loss: 0.0944 - categorical_accuracy: 0.9714 - val_loss: 0.5996 - val_categorical_accuracy: 0.6875\n",
      "Epoch 78/200\n",
      "652/652 [==============================] - 211s 324ms/step - loss: 0.1021 - categorical_accuracy: 0.9676 - val_loss: 0.7129 - val_categorical_accuracy: 0.6875\n",
      "Epoch 79/200\n",
      "652/652 [==============================] - 211s 324ms/step - loss: 0.1113 - categorical_accuracy: 0.9655 - val_loss: 0.2729 - val_categorical_accuracy: 0.8750\n",
      "Epoch 80/200\n",
      "652/652 [==============================] - 211s 324ms/step - loss: 0.1016 - categorical_accuracy: 0.9661 - val_loss: 0.2184 - val_categorical_accuracy: 0.8750\n",
      "Epoch 81/200\n",
      "652/652 [==============================] - 211s 324ms/step - loss: 0.0950 - categorical_accuracy: 0.9732 - val_loss: 0.1992 - val_categorical_accuracy: 0.8750\n",
      "Epoch 82/200\n",
      "652/652 [==============================] - 209s 321ms/step - loss: 0.1023 - categorical_accuracy: 0.9655 - val_loss: 0.2224 - val_categorical_accuracy: 0.8750\n",
      "Epoch 83/200\n",
      "652/652 [==============================] - 210s 321ms/step - loss: 0.0980 - categorical_accuracy: 0.9686 - val_loss: 0.2198 - val_categorical_accuracy: 0.9375\n",
      "Epoch 84/200\n",
      "652/652 [==============================] - 210s 322ms/step - loss: 0.0958 - categorical_accuracy: 0.9686 - val_loss: 0.1752 - val_categorical_accuracy: 0.9375\n",
      "Epoch 85/200\n",
      "652/652 [==============================] - 209s 321ms/step - loss: 0.0988 - categorical_accuracy: 0.9699 - val_loss: 0.3174 - val_categorical_accuracy: 0.8750\n",
      "Epoch 86/200\n",
      "652/652 [==============================] - 211s 323ms/step - loss: 0.0920 - categorical_accuracy: 0.9705 - val_loss: 0.6203 - val_categorical_accuracy: 0.8125\n",
      "Epoch 87/200\n",
      "652/652 [==============================] - 211s 324ms/step - loss: 0.0955 - categorical_accuracy: 0.9712 - val_loss: 0.2775 - val_categorical_accuracy: 0.8125\n",
      "Epoch 88/200\n",
      "652/652 [==============================] - 211s 324ms/step - loss: 0.0947 - categorical_accuracy: 0.9709 - val_loss: 0.2483 - val_categorical_accuracy: 0.9375\n",
      "Epoch 89/200\n",
      "652/652 [==============================] - 211s 324ms/step - loss: 0.0964 - categorical_accuracy: 0.9703 - val_loss: 0.4217 - val_categorical_accuracy: 0.8750\n",
      "Epoch 90/200\n",
      "652/652 [==============================] - 211s 324ms/step - loss: 0.0916 - categorical_accuracy: 0.9730 - val_loss: 0.3840 - val_categorical_accuracy: 0.8125\n",
      "Epoch 91/200\n",
      "652/652 [==============================] - 211s 324ms/step - loss: 0.0883 - categorical_accuracy: 0.9722 - val_loss: 0.5865 - val_categorical_accuracy: 0.8125\n",
      "Epoch 92/200\n",
      "652/652 [==============================] - 211s 323ms/step - loss: 0.0963 - categorical_accuracy: 0.9693 - val_loss: 0.9058 - val_categorical_accuracy: 0.6875\n",
      "Epoch 93/200\n",
      "652/652 [==============================] - 211s 324ms/step - loss: 0.0932 - categorical_accuracy: 0.9707 - val_loss: 0.3980 - val_categorical_accuracy: 0.8125\n",
      "Epoch 94/200\n",
      "652/652 [==============================] - 211s 323ms/step - loss: 0.0892 - categorical_accuracy: 0.9726 - val_loss: 0.2533 - val_categorical_accuracy: 0.8750\n"
     ]
    },
    {
     "name": "stdout",
     "output_type": "stream",
     "text": [
      "Epoch 95/200\n",
      "652/652 [==============================] - 211s 324ms/step - loss: 0.0872 - categorical_accuracy: 0.9732 - val_loss: 0.4102 - val_categorical_accuracy: 0.8750\n",
      "Epoch 96/200\n",
      "652/652 [==============================] - 211s 324ms/step - loss: 0.0918 - categorical_accuracy: 0.9726 - val_loss: 0.2553 - val_categorical_accuracy: 0.8750\n",
      "Epoch 97/200\n",
      "652/652 [==============================] - 211s 324ms/step - loss: 0.0925 - categorical_accuracy: 0.9726 - val_loss: 0.4564 - val_categorical_accuracy: 0.8750\n",
      "Epoch 98/200\n",
      "652/652 [==============================] - 211s 324ms/step - loss: 0.0882 - categorical_accuracy: 0.9743 - val_loss: 0.3154 - val_categorical_accuracy: 0.8125\n",
      "Epoch 99/200\n",
      "652/652 [==============================] - 211s 324ms/step - loss: 0.0842 - categorical_accuracy: 0.9743 - val_loss: 0.3363 - val_categorical_accuracy: 0.8125\n",
      "Epoch 100/200\n",
      "652/652 [==============================] - 211s 324ms/step - loss: 0.0835 - categorical_accuracy: 0.9737 - val_loss: 0.1543 - val_categorical_accuracy: 0.9375\n",
      "Epoch 101/200\n",
      "652/652 [==============================] - 209s 321ms/step - loss: 0.0888 - categorical_accuracy: 0.9722 - val_loss: 0.2836 - val_categorical_accuracy: 0.8125\n",
      "Epoch 102/200\n",
      "652/652 [==============================] - 209s 321ms/step - loss: 0.0844 - categorical_accuracy: 0.9749 - val_loss: 0.5983 - val_categorical_accuracy: 0.8125\n",
      "Epoch 103/200\n",
      "652/652 [==============================] - 209s 321ms/step - loss: 0.0837 - categorical_accuracy: 0.9728 - val_loss: 0.3320 - val_categorical_accuracy: 0.8125\n",
      "Epoch 104/200\n",
      "652/652 [==============================] - 209s 321ms/step - loss: 0.0901 - categorical_accuracy: 0.9728 - val_loss: 0.4637 - val_categorical_accuracy: 0.8750\n",
      "Epoch 105/200\n",
      "652/652 [==============================] - 209s 321ms/step - loss: 0.0834 - categorical_accuracy: 0.9743 - val_loss: 0.3679 - val_categorical_accuracy: 0.8750\n",
      "Epoch 106/200\n",
      "652/652 [==============================] - 209s 320ms/step - loss: 0.0832 - categorical_accuracy: 0.9749 - val_loss: 0.5934 - val_categorical_accuracy: 0.7500\n",
      "Epoch 107/200\n",
      "652/652 [==============================] - 209s 321ms/step - loss: 0.0769 - categorical_accuracy: 0.9776 - val_loss: 0.3085 - val_categorical_accuracy: 0.8750\n",
      "Epoch 108/200\n",
      "652/652 [==============================] - 209s 320ms/step - loss: 0.0794 - categorical_accuracy: 0.9757 - val_loss: 0.1152 - val_categorical_accuracy: 1.0000\n",
      "Epoch 109/200\n",
      "652/652 [==============================] - 209s 321ms/step - loss: 0.0826 - categorical_accuracy: 0.9745 - val_loss: 0.3251 - val_categorical_accuracy: 0.8750\n",
      "Epoch 110/200\n",
      "652/652 [==============================] - 209s 320ms/step - loss: 0.0753 - categorical_accuracy: 0.9770 - val_loss: 0.4308 - val_categorical_accuracy: 0.7500\n",
      "Epoch 111/200\n",
      "652/652 [==============================] - 209s 321ms/step - loss: 0.0853 - categorical_accuracy: 0.9743 - val_loss: 0.3991 - val_categorical_accuracy: 0.9375\n",
      "Epoch 112/200\n",
      "652/652 [==============================] - 209s 321ms/step - loss: 0.0793 - categorical_accuracy: 0.9770 - val_loss: 0.2989 - val_categorical_accuracy: 0.9375\n",
      "Epoch 113/200\n",
      "652/652 [==============================] - 209s 320ms/step - loss: 0.0687 - categorical_accuracy: 0.9808 - val_loss: 0.4247 - val_categorical_accuracy: 0.8750\n",
      "Epoch 114/200\n",
      "652/652 [==============================] - 209s 321ms/step - loss: 0.0755 - categorical_accuracy: 0.9760 - val_loss: 0.3137 - val_categorical_accuracy: 0.8125\n",
      "Epoch 115/200\n",
      "652/652 [==============================] - 209s 320ms/step - loss: 0.0854 - categorical_accuracy: 0.9726 - val_loss: 0.3619 - val_categorical_accuracy: 0.9375\n",
      "Epoch 116/200\n",
      "652/652 [==============================] - 209s 321ms/step - loss: 0.0781 - categorical_accuracy: 0.9778 - val_loss: 0.5298 - val_categorical_accuracy: 0.7500\n",
      "Epoch 117/200\n",
      "652/652 [==============================] - 209s 321ms/step - loss: 0.0752 - categorical_accuracy: 0.9762 - val_loss: 0.3877 - val_categorical_accuracy: 0.8125\n",
      "Epoch 118/200\n",
      "652/652 [==============================] - 209s 320ms/step - loss: 0.0786 - categorical_accuracy: 0.9741 - val_loss: 0.3900 - val_categorical_accuracy: 0.9375\n",
      "Epoch 119/200\n",
      "652/652 [==============================] - 209s 320ms/step - loss: 0.0784 - categorical_accuracy: 0.9774 - val_loss: 0.3628 - val_categorical_accuracy: 0.8125\n",
      "Epoch 120/200\n",
      "652/652 [==============================] - 209s 321ms/step - loss: 0.0713 - categorical_accuracy: 0.9795 - val_loss: 0.5271 - val_categorical_accuracy: 0.8125\n",
      "Epoch 121/200\n",
      "652/652 [==============================] - 209s 321ms/step - loss: 0.0781 - categorical_accuracy: 0.9766 - val_loss: 0.3098 - val_categorical_accuracy: 0.8750\n",
      "Epoch 122/200\n",
      "652/652 [==============================] - 211s 323ms/step - loss: 0.0765 - categorical_accuracy: 0.9768 - val_loss: 0.4335 - val_categorical_accuracy: 0.8750\n",
      "Epoch 123/200\n",
      "652/652 [==============================] - 211s 324ms/step - loss: 0.0726 - categorical_accuracy: 0.9793 - val_loss: 0.7851 - val_categorical_accuracy: 0.6875\n",
      "Epoch 124/200\n",
      "652/652 [==============================] - 211s 324ms/step - loss: 0.0666 - categorical_accuracy: 0.9814 - val_loss: 0.4912 - val_categorical_accuracy: 0.9375\n",
      "Epoch 125/200\n",
      "652/652 [==============================] - 211s 324ms/step - loss: 0.0791 - categorical_accuracy: 0.9764 - val_loss: 0.3893 - val_categorical_accuracy: 0.8125\n",
      "Epoch 126/200\n",
      "652/652 [==============================] - 211s 324ms/step - loss: 0.0720 - categorical_accuracy: 0.9772 - val_loss: 0.3351 - val_categorical_accuracy: 0.8750\n",
      "Epoch 127/200\n",
      "652/652 [==============================] - 211s 324ms/step - loss: 0.0695 - categorical_accuracy: 0.9774 - val_loss: 0.3501 - val_categorical_accuracy: 0.8125\n",
      "Epoch 128/200\n",
      "652/652 [==============================] - 212s 325ms/step - loss: 0.0649 - categorical_accuracy: 0.9818 - val_loss: 0.2349 - val_categorical_accuracy: 0.9375\n",
      "Epoch 129/200\n",
      "652/652 [==============================] - 211s 323ms/step - loss: 0.0663 - categorical_accuracy: 0.9801 - val_loss: 0.1513 - val_categorical_accuracy: 0.9375\n",
      "Epoch 130/200\n",
      "652/652 [==============================] - 211s 324ms/step - loss: 0.0667 - categorical_accuracy: 0.9810 - val_loss: 0.1469 - val_categorical_accuracy: 0.8750\n",
      "Epoch 131/200\n",
      "652/652 [==============================] - 211s 323ms/step - loss: 0.0712 - categorical_accuracy: 0.9780 - val_loss: 0.6364 - val_categorical_accuracy: 0.8125\n",
      "Epoch 132/200\n",
      "652/652 [==============================] - 211s 324ms/step - loss: 0.0767 - categorical_accuracy: 0.9764 - val_loss: 0.2558 - val_categorical_accuracy: 0.8750\n",
      "Epoch 133/200\n",
      "652/652 [==============================] - 211s 324ms/step - loss: 0.0728 - categorical_accuracy: 0.9770 - val_loss: 0.2914 - val_categorical_accuracy: 0.8125\n",
      "Epoch 134/200\n",
      "652/652 [==============================] - 211s 324ms/step - loss: 0.0684 - categorical_accuracy: 0.9804 - val_loss: 0.2439 - val_categorical_accuracy: 0.9375\n",
      "Epoch 135/200\n",
      "652/652 [==============================] - 211s 324ms/step - loss: 0.0603 - categorical_accuracy: 0.9827 - val_loss: 0.4779 - val_categorical_accuracy: 0.7500\n",
      "Epoch 136/200\n",
      "652/652 [==============================] - 211s 324ms/step - loss: 0.0645 - categorical_accuracy: 0.9789 - val_loss: 0.4990 - val_categorical_accuracy: 0.8125\n",
      "Epoch 137/200\n",
      "652/652 [==============================] - 211s 323ms/step - loss: 0.0674 - categorical_accuracy: 0.9797 - val_loss: 0.1846 - val_categorical_accuracy: 0.8750\n",
      "Epoch 138/200\n",
      "652/652 [==============================] - 211s 323ms/step - loss: 0.0620 - categorical_accuracy: 0.9827 - val_loss: 0.6891 - val_categorical_accuracy: 0.8750\n",
      "Epoch 139/200\n",
      "652/652 [==============================] - 211s 323ms/step - loss: 0.0680 - categorical_accuracy: 0.9814 - val_loss: 0.2538 - val_categorical_accuracy: 0.8750\n",
      "Epoch 140/200\n",
      "652/652 [==============================] - 211s 324ms/step - loss: 0.0677 - categorical_accuracy: 0.9812 - val_loss: 1.0515 - val_categorical_accuracy: 0.6875\n",
      "Epoch 141/200\n",
      "652/652 [==============================] - 211s 324ms/step - loss: 0.0669 - categorical_accuracy: 0.9797 - val_loss: 1.0305 - val_categorical_accuracy: 0.6875\n",
      "Epoch 142/200\n"
     ]
    },
    {
     "name": "stdout",
     "output_type": "stream",
     "text": [
      "652/652 [==============================] - 211s 324ms/step - loss: 0.0646 - categorical_accuracy: 0.9806 - val_loss: 0.3351 - val_categorical_accuracy: 0.8125\n",
      "Epoch 143/200\n",
      "652/652 [==============================] - 211s 324ms/step - loss: 0.0601 - categorical_accuracy: 0.9835 - val_loss: 1.3034 - val_categorical_accuracy: 0.6875\n",
      "Epoch 144/200\n",
      "652/652 [==============================] - 211s 324ms/step - loss: 0.0626 - categorical_accuracy: 0.9826 - val_loss: 0.2537 - val_categorical_accuracy: 0.9375\n",
      "Epoch 145/200\n",
      "652/652 [==============================] - 211s 324ms/step - loss: 0.0587 - categorical_accuracy: 0.9818 - val_loss: 0.3857 - val_categorical_accuracy: 0.9375\n",
      "Epoch 146/200\n",
      "652/652 [==============================] - 211s 324ms/step - loss: 0.0643 - categorical_accuracy: 0.9814 - val_loss: 0.5158 - val_categorical_accuracy: 0.8750\n",
      "Epoch 147/200\n",
      "652/652 [==============================] - 211s 323ms/step - loss: 0.0617 - categorical_accuracy: 0.9829 - val_loss: 0.2964 - val_categorical_accuracy: 0.9375\n",
      "Epoch 148/200\n",
      "652/652 [==============================] - 211s 324ms/step - loss: 0.0630 - categorical_accuracy: 0.9806 - val_loss: 0.6355 - val_categorical_accuracy: 0.8750\n",
      "Epoch 149/200\n",
      "652/652 [==============================] - 211s 323ms/step - loss: 0.0639 - categorical_accuracy: 0.9822 - val_loss: 0.2368 - val_categorical_accuracy: 0.8750\n",
      "Epoch 150/200\n",
      "652/652 [==============================] - 211s 324ms/step - loss: 0.0587 - categorical_accuracy: 0.9822 - val_loss: 0.3563 - val_categorical_accuracy: 0.8750\n",
      "Epoch 151/200\n",
      "652/652 [==============================] - 211s 324ms/step - loss: 0.0563 - categorical_accuracy: 0.9835 - val_loss: 0.4996 - val_categorical_accuracy: 0.9375\n",
      "Epoch 152/200\n",
      "652/652 [==============================] - 211s 324ms/step - loss: 0.0605 - categorical_accuracy: 0.9826 - val_loss: 0.4804 - val_categorical_accuracy: 0.8750\n",
      "Epoch 153/200\n",
      "652/652 [==============================] - 211s 324ms/step - loss: 0.0558 - categorical_accuracy: 0.9847 - val_loss: 0.6187 - val_categorical_accuracy: 0.8125\n",
      "Epoch 154/200\n",
      "652/652 [==============================] - 211s 324ms/step - loss: 0.0593 - categorical_accuracy: 0.9837 - val_loss: 0.8838 - val_categorical_accuracy: 0.6875\n",
      "Epoch 155/200\n",
      "652/652 [==============================] - 211s 324ms/step - loss: 0.0529 - categorical_accuracy: 0.9852 - val_loss: 0.5926 - val_categorical_accuracy: 0.8125\n",
      "Epoch 156/200\n",
      "652/652 [==============================] - 211s 324ms/step - loss: 0.0611 - categorical_accuracy: 0.9826 - val_loss: 0.6340 - val_categorical_accuracy: 0.8125\n",
      "Epoch 157/200\n",
      "652/652 [==============================] - 211s 324ms/step - loss: 0.0561 - categorical_accuracy: 0.9860 - val_loss: 0.4130 - val_categorical_accuracy: 0.9375\n",
      "Epoch 158/200\n",
      "652/652 [==============================] - 211s 324ms/step - loss: 0.0656 - categorical_accuracy: 0.9816 - val_loss: 0.2593 - val_categorical_accuracy: 0.8750\n",
      "Epoch 159/200\n",
      "652/652 [==============================] - 211s 324ms/step - loss: 0.0561 - categorical_accuracy: 0.9841 - val_loss: 0.5070 - val_categorical_accuracy: 0.8750\n",
      "Epoch 160/200\n",
      "652/652 [==============================] - 211s 323ms/step - loss: 0.0554 - categorical_accuracy: 0.9843 - val_loss: 0.5645 - val_categorical_accuracy: 0.8125\n",
      "Epoch 161/200\n",
      "652/652 [==============================] - 211s 324ms/step - loss: 0.0576 - categorical_accuracy: 0.9803 - val_loss: 0.6277 - val_categorical_accuracy: 0.8125\n",
      "Epoch 162/200\n",
      "652/652 [==============================] - 211s 324ms/step - loss: 0.0521 - categorical_accuracy: 0.9854 - val_loss: 0.4945 - val_categorical_accuracy: 0.8125\n",
      "Epoch 163/200\n",
      "652/652 [==============================] - 211s 324ms/step - loss: 0.0611 - categorical_accuracy: 0.9824 - val_loss: 0.3123 - val_categorical_accuracy: 0.8750\n",
      "Epoch 164/200\n",
      "652/652 [==============================] - 211s 324ms/step - loss: 0.0543 - categorical_accuracy: 0.9854 - val_loss: 0.2535 - val_categorical_accuracy: 0.9375\n",
      "Epoch 165/200\n",
      "652/652 [==============================] - 212s 325ms/step - loss: 0.0569 - categorical_accuracy: 0.9831 - val_loss: 0.2201 - val_categorical_accuracy: 0.8750\n",
      "Epoch 166/200\n",
      "652/652 [==============================] - 211s 324ms/step - loss: 0.0524 - categorical_accuracy: 0.9858 - val_loss: 0.3526 - val_categorical_accuracy: 0.8750\n",
      "Epoch 167/200\n",
      "652/652 [==============================] - 211s 324ms/step - loss: 0.0511 - categorical_accuracy: 0.9841 - val_loss: 0.2279 - val_categorical_accuracy: 0.8750\n",
      "Epoch 168/200\n",
      "652/652 [==============================] - 211s 324ms/step - loss: 0.0546 - categorical_accuracy: 0.9856 - val_loss: 0.3721 - val_categorical_accuracy: 0.8750\n",
      "Epoch 169/200\n",
      "652/652 [==============================] - 211s 324ms/step - loss: 0.0458 - categorical_accuracy: 0.9879 - val_loss: 0.6330 - val_categorical_accuracy: 0.8125\n",
      "Epoch 170/200\n",
      "652/652 [==============================] - 213s 327ms/step - loss: 0.0570 - categorical_accuracy: 0.9845 - val_loss: 0.3674 - val_categorical_accuracy: 0.8750\n",
      "Epoch 171/200\n",
      "652/652 [==============================] - 211s 324ms/step - loss: 0.0527 - categorical_accuracy: 0.9858 - val_loss: 1.4974 - val_categorical_accuracy: 0.6250\n",
      "Epoch 172/200\n",
      "652/652 [==============================] - 211s 323ms/step - loss: 0.0488 - categorical_accuracy: 0.9854 - val_loss: 0.3561 - val_categorical_accuracy: 0.8750\n",
      "Epoch 173/200\n",
      "652/652 [==============================] - 212s 324ms/step - loss: 0.0504 - categorical_accuracy: 0.9845 - val_loss: 0.3944 - val_categorical_accuracy: 0.8750\n",
      "Epoch 174/200\n",
      "652/652 [==============================] - 211s 324ms/step - loss: 0.0570 - categorical_accuracy: 0.9829 - val_loss: 0.3268 - val_categorical_accuracy: 0.8750\n",
      "Epoch 175/200\n",
      "652/652 [==============================] - 211s 324ms/step - loss: 0.0461 - categorical_accuracy: 0.9854 - val_loss: 0.3236 - val_categorical_accuracy: 0.8750\n",
      "Epoch 176/200\n",
      "652/652 [==============================] - 211s 324ms/step - loss: 0.0504 - categorical_accuracy: 0.9852 - val_loss: 0.2228 - val_categorical_accuracy: 0.8750\n",
      "Epoch 177/200\n",
      "652/652 [==============================] - 211s 324ms/step - loss: 0.0507 - categorical_accuracy: 0.9852 - val_loss: 0.2041 - val_categorical_accuracy: 0.9375\n",
      "Epoch 178/200\n",
      "652/652 [==============================] - 211s 324ms/step - loss: 0.0466 - categorical_accuracy: 0.9864 - val_loss: 0.2914 - val_categorical_accuracy: 0.8125\n",
      "Epoch 179/200\n",
      "652/652 [==============================] - 211s 324ms/step - loss: 0.0506 - categorical_accuracy: 0.9860 - val_loss: 0.1888 - val_categorical_accuracy: 0.9375\n",
      "Epoch 180/200\n",
      "652/652 [==============================] - 211s 324ms/step - loss: 0.0499 - categorical_accuracy: 0.9875 - val_loss: 0.2207 - val_categorical_accuracy: 0.9375\n",
      "Epoch 181/200\n",
      "652/652 [==============================] - 211s 324ms/step - loss: 0.0490 - categorical_accuracy: 0.9873 - val_loss: 0.1936 - val_categorical_accuracy: 0.8750\n",
      "Epoch 182/200\n",
      "652/652 [==============================] - 211s 324ms/step - loss: 0.0441 - categorical_accuracy: 0.9877 - val_loss: 0.0797 - val_categorical_accuracy: 1.0000\n",
      "Epoch 183/200\n",
      "652/652 [==============================] - 209s 321ms/step - loss: 0.0528 - categorical_accuracy: 0.9864 - val_loss: 0.5942 - val_categorical_accuracy: 0.8125\n",
      "Epoch 184/200\n",
      "652/652 [==============================] - 210s 321ms/step - loss: 0.0452 - categorical_accuracy: 0.9862 - val_loss: 0.3298 - val_categorical_accuracy: 0.8750\n",
      "Epoch 185/200\n",
      "652/652 [==============================] - 209s 320ms/step - loss: 0.0471 - categorical_accuracy: 0.9881 - val_loss: 0.5859 - val_categorical_accuracy: 0.7500\n",
      "Epoch 186/200\n",
      "652/652 [==============================] - 210s 321ms/step - loss: 0.0471 - categorical_accuracy: 0.9866 - val_loss: 0.3628 - val_categorical_accuracy: 0.8750\n",
      "Epoch 187/200\n",
      "652/652 [==============================] - 210s 322ms/step - loss: 0.0445 - categorical_accuracy: 0.9908 - val_loss: 0.2424 - val_categorical_accuracy: 0.8750\n",
      "Epoch 188/200\n",
      "652/652 [==============================] - 211s 324ms/step - loss: 0.0526 - categorical_accuracy: 0.9852 - val_loss: 0.3590 - val_categorical_accuracy: 0.8750\n",
      "Epoch 189/200\n"
     ]
    },
    {
     "name": "stdout",
     "output_type": "stream",
     "text": [
      "652/652 [==============================] - 211s 324ms/step - loss: 0.0410 - categorical_accuracy: 0.9879 - val_loss: 0.8578 - val_categorical_accuracy: 0.8750\n",
      "Epoch 190/200\n",
      "652/652 [==============================] - 211s 323ms/step - loss: 0.0529 - categorical_accuracy: 0.9870 - val_loss: 0.3824 - val_categorical_accuracy: 0.8750\n",
      "Epoch 191/200\n",
      "652/652 [==============================] - 211s 324ms/step - loss: 0.0484 - categorical_accuracy: 0.9864 - val_loss: 0.5673 - val_categorical_accuracy: 0.8125\n",
      "Epoch 192/200\n",
      "652/652 [==============================] - 211s 324ms/step - loss: 0.0503 - categorical_accuracy: 0.9866 - val_loss: 0.4893 - val_categorical_accuracy: 0.7500\n",
      "Epoch 193/200\n",
      "652/652 [==============================] - 211s 324ms/step - loss: 0.0446 - categorical_accuracy: 0.9866 - val_loss: 0.1920 - val_categorical_accuracy: 0.8750\n",
      "Epoch 194/200\n",
      "652/652 [==============================] - 211s 324ms/step - loss: 0.0424 - categorical_accuracy: 0.9875 - val_loss: 0.8707 - val_categorical_accuracy: 0.8125\n",
      "Epoch 195/200\n",
      "652/652 [==============================] - 211s 323ms/step - loss: 0.0413 - categorical_accuracy: 0.9875 - val_loss: 0.6720 - val_categorical_accuracy: 0.8125\n",
      "Epoch 196/200\n",
      "652/652 [==============================] - 211s 324ms/step - loss: 0.0394 - categorical_accuracy: 0.9896 - val_loss: 1.0415 - val_categorical_accuracy: 0.8125\n",
      "Epoch 197/200\n",
      "652/652 [==============================] - 211s 324ms/step - loss: 0.0506 - categorical_accuracy: 0.9873 - val_loss: 0.3820 - val_categorical_accuracy: 0.8125\n",
      "Epoch 198/200\n",
      "652/652 [==============================] - 211s 324ms/step - loss: 0.0513 - categorical_accuracy: 0.9864 - val_loss: 0.3407 - val_categorical_accuracy: 0.8125\n",
      "Epoch 199/200\n",
      "652/652 [==============================] - 211s 324ms/step - loss: 0.0396 - categorical_accuracy: 0.9898 - val_loss: 0.3812 - val_categorical_accuracy: 0.6875\n",
      "Epoch 200/200\n",
      "652/652 [==============================] - 211s 324ms/step - loss: 0.0476 - categorical_accuracy: 0.9872 - val_loss: 0.4909 - val_categorical_accuracy: 0.8125\n"
     ]
    }
   ],
   "source": [
    "import math\n",
    "\n",
    "history = pneumoniaNetModel.fit_generator(\n",
    "      training_set,\n",
    "      steps_per_epoch=math.ceil(number_of_training_samples//batch_size),\n",
    "      epochs=no_of_epochs,\n",
    "      callbacks=callbacks_list,\n",
    "      validation_data=validation_set,\n",
    "      validation_steps=math.ceil(number_of_validation_samples//batch_size))"
   ]
  },
  {
   "cell_type": "markdown",
   "metadata": {},
   "source": [
    "## Visualizing the Training Process"
   ]
  },
  {
   "cell_type": "code",
   "execution_count": 8,
   "metadata": {},
   "outputs": [
    {
     "data": {
      "image/png": "[encoded data removed]",
      "text/plain": [
       "<Figure size 432x288 with 1 Axes>"
      ]
     },
     "metadata": {
      "needs_background": "light"
     },
     "output_type": "display_data"
    },
    {
     "data": {
      "image/png": "[encoded data removed]",
      "text/plain": [
       "<Figure size 432x288 with 1 Axes>"
      ]
     },
     "metadata": {
      "needs_background": "light"
     },
     "output_type": "display_data"
    }
   ],
   "source": [
    "import matplotlib.pyplot as plt\n",
    "%matplotlib inline\n",
    "\n",
    "acc=history.history['categorical_accuracy']\n",
    "val_acc=history.history['val_categorical_accuracy']\n",
    "loss=history.history['loss']\n",
    "val_loss=history.history['val_loss']\n",
    "epochs=range(1,len(acc)+1)\n",
    "plt.xlabel('Epochs')\n",
    "plt.ylabel('Accuracy')\n",
    "plt.plot(epochs, acc, 'bo', label='Training acc')\n",
    "plt.plot(epochs, val_acc, 'b', label='Validation acc')\n",
    "plt.title('Training and validation accuracy')\n",
    "plt.legend()\n",
    "plt.figure()\n",
    "\n",
    "plt.plot(epochs, loss, 'bo', label='Training loss')\n",
    "plt.plot(epochs, val_loss, 'b', label='Validation loss')\n",
    "plt.title('Training and validation loss')\n",
    "plt.xlabel('Epochs')\n",
    "plt.ylabel('Loss')\n",
    "plt.legend()\n",
    "plt.show()"
   ]
  },
  {
   "cell_type": "markdown",
   "metadata": {},
   "source": [
    "## Loading the Best Model"
   ]
  },
  {
   "cell_type": "code",
   "execution_count": 9,
   "metadata": {},
   "outputs": [],
   "source": [
    "from tensorflow.python.keras.models import load_model\n",
    "\n",
    "best_model = load_model('PneumoniaNet6.h5')"
   ]
  },
  {
   "cell_type": "markdown",
   "metadata": {},
   "source": [
    "## Evaluating the Best Model"
   ]
  },
  {
   "cell_type": "code",
   "execution_count": 10,
   "metadata": {},
   "outputs": [
    {
     "name": "stdout",
     "output_type": "stream",
     "text": [
      "78/78 [==============================] - 11s 144ms/step - loss: 0.2042 - categorical_accuracy: 0.9535\n",
      "Test-set classification accuracy: 95.35%\n"
     ]
    }
   ],
   "source": [
    "steps_test=int(number_of_test_samples/batch_size)\n",
    "result = best_model.evaluate_generator(test_set, steps=steps_test,verbose=1)\n",
    "print(\"Test-set classification accuracy: {0:.2%}\".format(result[1]))"
   ]
  },
  {
   "cell_type": "markdown",
   "metadata": {},
   "source": [
    "## Calculating Precision, Specificity and Sensitivity (Recall) values for the model\n",
    "*Precision-Recall* is a useful measure of success of prediction when the classes are very imbalanced. High *precision* relates to a low false positive rate, and high *recall* relates to a low false negative rate.\n",
    "\n",
    "Precision is defined as the number of true positives over the number of true positives plus the number of false positives. Recall is defined as the number of true positives over the number of true positives plus the number of false negatives. Please see the [link](https://scikit-learn.org/stable/auto_examples/model_selection/plot_precision_recall.html) for details.\n",
    "\n",
    "Another way of assessing a binary classification model is to compute the *sensitivity* (also called the true positive rate or the recall) and *specificity* (also called the true negative rate) of the model. *Sensitivity* indicates the percentage of sick people who are correctly identified as having the condition. *Specificity* indicates the percentage of healthy people who are correctly identified as not having the condition.\n",
    "\n",
    "But first we prepare our test data, so that later we can draw the *confusion matrix* as well as calculate *precision*, *specificity* and *sensitivity (recall)* of the model."
   ]
  },
  {
   "cell_type": "code",
   "execution_count": 11,
   "metadata": {},
   "outputs": [
    {
     "name": "stdout",
     "output_type": "stream",
     "text": [
      "Total number of test examples:  (624, 150, 150, 3)\n",
      "Total number of labels: (624, 1)\n"
     ]
    }
   ],
   "source": [
    "# Preparing test data\n",
    "import glob\n",
    "from pathlib import Path\n",
    "from tensorflow.python.keras.utils import to_categorical\n",
    "import cv2\n",
    "\n",
    "normal_cases_dir = Path('D:\\\\TensorFlow Programs\\\\Diagnosis of Pneumonia based on Chest X-Rays\\\\chest-xray-pneumonia\\\\chest_xray\\\\chest_xray\\\\test\\\\NORMAL')\n",
    "pneumonia_cases_dir = Path('D:\\\\TensorFlow Programs\\\\Diagnosis of Pneumonia based on Chest X-Rays\\\\chest-xray-pneumonia\\\\chest_xray\\\\chest_xray\\\\test\\\\PNEUMONIA')\n",
    "\n",
    "normal_cases = normal_cases_dir.glob('*.jpeg')\n",
    "pneumonia_cases = pneumonia_cases_dir.glob('*.jpeg')\n",
    "\n",
    "test_data = []\n",
    "test_labels = []\n",
    "\n",
    "for img in normal_cases:\n",
    "    img = cv2.imread(str(img))\n",
    "    img = cv2.resize(img, (image_width,image_height))\n",
    "    if img.shape[2] ==1:\n",
    "        img = np.dstack([img, img, img])\n",
    "    else:\n",
    "        img = cv2.cvtColor(img, cv2.COLOR_BGR2RGB)\n",
    "    img = img.astype(np.float32)/255.\n",
    "    label = [0]\n",
    "    test_data.append(img)\n",
    "    test_labels.append(label)\n",
    "                      \n",
    "for img in pneumonia_cases:\n",
    "    img = cv2.imread(str(img))\n",
    "    img = cv2.resize(img, (image_width,image_height))\n",
    "    if img.shape[2] ==1:\n",
    "        img = np.dstack([img, img, img])\n",
    "    else:\n",
    "        img = cv2.cvtColor(img, cv2.COLOR_BGR2RGB)\n",
    "    img = img.astype(np.float32)/255.\n",
    "    label = [1]\n",
    "    test_data.append(img)\n",
    "    test_labels.append(label)\n",
    "    \n",
    "\n",
    "test_data = np.array(test_data)\n",
    "test_labels = np.array(test_labels)\n",
    "test_labels_one_hot_encoding=to_categorical(test_labels)\n",
    "\n",
    "print(\"Total number of test examples: \", test_data.shape)\n",
    "print(\"Total number of labels:\", test_labels.shape)"
   ]
  },
  {
   "cell_type": "code",
   "execution_count": 12,
   "metadata": {},
   "outputs": [
    {
     "name": "stdout",
     "output_type": "stream",
     "text": [
      "624/624 [==============================] - 7s 11ms/sample - loss: 0.2102 - categorical_accuracy: 0.9487\n",
      "Loss on test set:  0.21024802298499987\n",
      "Accuracy on test set:  0.94871795\n"
     ]
    }
   ],
   "source": [
    "# Evaluation on test dataset\n",
    "\n",
    "test_loss, test_score = best_model.evaluate(test_data, test_labels_one_hot_encoding, batch_size=16)\n",
    "print(\"Loss on test set: \", test_loss)\n",
    "print(\"Accuracy on test set: \", test_score)"
   ]
  },
  {
   "cell_type": "code",
   "execution_count": 13,
   "metadata": {},
   "outputs": [
    {
     "name": "stdout",
     "output_type": "stream",
     "text": [
      "624/624 [==============================] - 6s 9ms/sample\n",
      "(624, 1)\n",
      "(624, 1)\n"
     ]
    }
   ],
   "source": [
    "# Get predictions\n",
    "preds = best_model.predict(test_data, batch_size=16,verbose=1)\n",
    "preds=np.around(preds)\n",
    "orig_test_labels=test_labels\n",
    "predicted_labels=np.argmax(preds,axis=1)\n",
    "predicted_labels=np.reshape(predicted_labels,(624,1))\n",
    "print(predicted_labels.shape)\n",
    "print(orig_test_labels.shape)"
   ]
  },
  {
   "cell_type": "code",
   "execution_count": 14,
   "metadata": {},
   "outputs": [
    {
     "data": {
      "text/plain": [
       "<Figure size 432x288 with 0 Axes>"
      ]
     },
     "metadata": {},
     "output_type": "display_data"
    },
    {
     "data": {
      "image/png": "[encoded data removed]",
      "text/plain": [
       "<Figure size 864x576 with 1 Axes>"
      ]
     },
     "metadata": {
      "needs_background": "light"
     },
     "output_type": "display_data"
    }
   ],
   "source": [
    "import matplotlib.pyplot as plt\n",
    "%matplotlib inline\n",
    "# Get the confusion matrix\n",
    "from sklearn.metrics import confusion_matrix\n",
    "from mlxtend.plotting import plot_confusion_matrix\n",
    "\n",
    "cm  = confusion_matrix(orig_test_labels, predicted_labels)\n",
    "plt.figure()\n",
    "plot_confusion_matrix(cm,figsize=(12,8), hide_ticks=True,cmap=plt.cm.Blues)\n",
    "plt.xticks(range(2), ['Normal', 'Pneumonia'], fontsize=16)\n",
    "plt.yticks(range(2), ['Normal', 'Pneumonia'], fontsize=16)\n",
    "plt.show()"
   ]
  },
  {
   "cell_type": "code",
   "execution_count": 15,
   "metadata": {},
   "outputs": [
    {
     "name": "stdout",
     "output_type": "stream",
     "text": [
      "Sensitivity (Recall) of the model is 0.967\n",
      "Specificity of the model is 0.919\n",
      "Precision of the model is 0.952\n"
     ]
    }
   ],
   "source": [
    "# Calculate Precision and Recall\n",
    "tn, fp, fn, tp = cm.ravel()\n",
    "\n",
    "precision = tp/(tp+fp)\n",
    "recall = tp/(tp+fn)\n",
    "specificity=tn/(tn+fp)\n",
    "\n",
    "print(\"Sensitivity (Recall) of the model is {:.3f}\".format(recall))\n",
    "print(\"Specificity of the model is {:.3f}\".format(specificity))\n",
    "print(\"Precision of the model is {:.3f}\".format(precision))"
   ]
  },
  {
   "cell_type": "markdown",
   "metadata": {},
   "source": [
    "So, this model has a `96.7%` sensitivity (recall), `91.9%` specificity and `95.2%` precision."
   ]
  },
  {
   "cell_type": "markdown",
   "metadata": {},
   "source": [
    "## ROC Curve and AUC for the model\n",
    "**Receiver operating characteristic** curve (a.k.a ROC) is a graphic plot that illustrates the diagnostic ability of a binary classifier system as its discrimination threshold is varied. The critical point here is \"binary classifier\" and \"varying threshold\". **Area Under the Curve** (a.k.a. AUC) is the percentage of the area that is under this ROC curve, ranging between 0 and 1.\n",
    "ROC is a great way to visualize the performance of a binary classifier, and AUC is one single number to summarize a classifier's performance. The higher the AUC is, the better the classifier."
   ]
  },
  {
   "cell_type": "code",
   "execution_count": 16,
   "metadata": {},
   "outputs": [],
   "source": [
    "from sklearn.metrics import roc_curve\n",
    "\n",
    "probs = best_model.predict_proba(test_data)\n",
    "preds = probs[:,1]\n",
    "fpr, tpr, thresholds = roc_curve(test_labels.ravel(), preds)"
   ]
  },
  {
   "cell_type": "code",
   "execution_count": 17,
   "metadata": {},
   "outputs": [],
   "source": [
    "from sklearn.metrics import auc\n",
    "auc_var = auc(fpr, tpr)"
   ]
  },
  {
   "cell_type": "code",
   "execution_count": 18,
   "metadata": {},
   "outputs": [
    {
     "data": {
      "image/png": "[encoded data removed]",
      "text/plain": [
       "<Figure size 432x288 with 1 Axes>"
      ]
     },
     "metadata": {
      "needs_background": "light"
     },
     "output_type": "display_data"
    }
   ],
   "source": [
    "import matplotlib.pyplot as plt\n",
    "%matplotlib inline\n",
    "plt.figure(1)\n",
    "plt.plot([0, 1], [0, 1], 'k--')\n",
    "plt.plot(fpr, tpr, label='PneumoniaNet (area = {:.3f})'.format(auc_var))\n",
    "plt.xlabel('False positive rate')\n",
    "plt.ylabel('True positive rate')\n",
    "plt.title('ROC curve')\n",
    "plt.legend(loc='best')\n",
    "plt.show()"
   ]
  },
  {
   "cell_type": "markdown",
   "metadata": {},
   "source": [
    "## Precision-Recall Curve for the Model"
   ]
  },
  {
   "cell_type": "code",
   "execution_count": 19,
   "metadata": {},
   "outputs": [],
   "source": [
    "from sklearn.metrics import precision_recall_curve\n",
    "from sklearn.metrics import f1_score\n",
    "from sklearn.metrics import average_precision_score"
   ]
  },
  {
   "cell_type": "code",
   "execution_count": 20,
   "metadata": {},
   "outputs": [],
   "source": [
    "precision, recall, thresholds = precision_recall_curve(test_labels.ravel(), preds)"
   ]
  },
  {
   "cell_type": "code",
   "execution_count": 21,
   "metadata": {},
   "outputs": [],
   "source": [
    "auc_var2 = auc(recall, precision)"
   ]
  },
  {
   "cell_type": "code",
   "execution_count": 22,
   "metadata": {},
   "outputs": [
    {
     "data": {
      "image/png": "[encoded data removed]",
      "text/plain": [
       "<Figure size 432x288 with 1 Axes>"
      ]
     },
     "metadata": {
      "needs_background": "light"
     },
     "output_type": "display_data"
    }
   ],
   "source": [
    "plt.figure()\n",
    "plt.plot(recall, precision, label='PneumoniaNet (area = {:.3f})'.format(auc_var2))\n",
    "plt.xlabel('Recall')\n",
    "plt.ylabel('Precision')\n",
    "plt.title('Precision-Recall curve')\n",
    "plt.legend(loc='best')\n",
    "plt.show()"
   ]
  },
  {
   "cell_type": "code",
   "execution_count": 23,
   "metadata": {},
   "outputs": [
    {
     "name": "stdout",
     "output_type": "stream",
     "text": [
      "Average Precision Score: 0.992\n"
     ]
    }
   ],
   "source": [
    "print('Average Precision Score: {:.3f}'.format(average_precision_score(test_labels.ravel(), preds)))"
   ]
  },
  {
   "cell_type": "code",
   "execution_count": 24,
   "metadata": {},
   "outputs": [
    {
     "name": "stdout",
     "output_type": "stream",
     "text": [
      "F1 Score: 0.959\n"
     ]
    }
   ],
   "source": [
    "print(\"F1 Score: {:.3f}\".format(f1_score(test_labels.ravel(),predicted_labels.ravel())))"
   ]
  }
 ],
 "metadata": {
  "kernelspec": {
   "display_name": "Python 3",
   "language": "python",
   "name": "python3"
  },
  "language_info": {
   "codemirror_mode": {
    "name": "ipython",
    "version": 3
   },
   "file_extension": ".py",
   "mimetype": "text/x-python",
   "name": "python",
   "nbconvert_exporter": "python",
   "pygments_lexer": "ipython3",
   "version": "3.6.8"
  }
 },
 "nbformat": 4,
 "nbformat_minor": 2
}
