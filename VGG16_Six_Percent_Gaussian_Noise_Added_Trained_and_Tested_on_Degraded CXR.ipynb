{
 "cells": [
  {
   "cell_type": "markdown",
   "metadata": {},
   "source": [
    "# Pneumonia Diagnosis based on Degraded Chest X-ray Images \n",
    "The author of this notebook is **Dr Raheel Siddiqi** on *30-07-2020*. He is a *Senior Assistant Professor* at Bahria University, Karachi Campus, Pakistan. His research interests include *Medical Imaging*, *Computer Vision* and *Deep Learning*.\n",
    "\n",
    "The objective of the experiment (presented in this notebook) is to evaluate the effectiveness of **VGG16** pre-trained model when employed to diagnose Pneumonia (based on degraded CXR images - 6% Gaussian Noise Added). The diagnosis process comprises of classifying Chest X-ray images into one of the two classes: (a) Normal, (b) Pneumonia.\n",
    "\n",
    "The dataset is downloded from [kaggle.com](https://www.kaggle.com/paultimothymooney/chest-xray-pneumonia). The dataset contains 5,863 X-Ray images (JPEG) and 2 categories (Pneumonia/Normal). The images are pre-processed and gaussian noise is added to each chest X-ray image."
   ]
  },
  {
   "cell_type": "markdown",
   "metadata": {},
   "source": [
    "## Tensorflow and Keras version used"
   ]
  },
  {
   "cell_type": "code",
   "execution_count": 1,
   "metadata": {},
   "outputs": [
    {
     "name": "stdout",
     "output_type": "stream",
     "text": [
      "Tensorflow Version:  1.13.1\n",
      "Keras Version:  2.2.4-tf\n"
     ]
    }
   ],
   "source": [
    "import tensorflow as tf\n",
    "from tensorflow.python import keras\n",
    "\n",
    "print('Tensorflow Version: ', tf.__version__)\n",
    "print('Keras Version: ', keras.__version__)"
   ]
  },
  {
   "cell_type": "markdown",
   "metadata": {},
   "source": [
    "## Setting up the Model"
   ]
  },
  {
   "cell_type": "code",
   "execution_count": 2,
   "metadata": {},
   "outputs": [
    {
     "name": "stdout",
     "output_type": "stream",
     "text": [
      "WARNING:tensorflow:From C:\\Users\\Raheel\\Anaconda3\\envs\\EnvName\\lib\\site-packages\\tensorflow\\python\\ops\\resource_variable_ops.py:435: colocate_with (from tensorflow.python.framework.ops) is deprecated and will be removed in a future version.\n",
      "Instructions for updating:\n",
      "Colocations handled automatically by placer.\n"
     ]
    }
   ],
   "source": [
    "from tensorflow.python.keras.applications import VGG16\n",
    "\n",
    "conv_base=VGG16(weights='imagenet',include_top=False,input_shape=(150,150,3))"
   ]
  },
  {
   "cell_type": "code",
   "execution_count": 3,
   "metadata": {},
   "outputs": [
    {
     "name": "stdout",
     "output_type": "stream",
     "text": [
      "_________________________________________________________________\n",
      "Layer (type)                 Output Shape              Param #   \n",
      "=================================================================\n",
      "input_1 (InputLayer)         (None, 150, 150, 3)       0         \n",
      "_________________________________________________________________\n",
      "block1_conv1 (Conv2D)        (None, 150, 150, 64)      1792      \n",
      "_________________________________________________________________\n",
      "block1_conv2 (Conv2D)        (None, 150, 150, 64)      36928     \n",
      "_________________________________________________________________\n",
      "block1_pool (MaxPooling2D)   (None, 75, 75, 64)        0         \n",
      "_________________________________________________________________\n",
      "block2_conv1 (Conv2D)        (None, 75, 75, 128)       73856     \n",
      "_________________________________________________________________\n",
      "block2_conv2 (Conv2D)        (None, 75, 75, 128)       147584    \n",
      "_________________________________________________________________\n",
      "block2_pool (MaxPooling2D)   (None, 37, 37, 128)       0         \n",
      "_________________________________________________________________\n",
      "block3_conv1 (Conv2D)        (None, 37, 37, 256)       295168    \n",
      "_________________________________________________________________\n",
      "block3_conv2 (Conv2D)        (None, 37, 37, 256)       590080    \n",
      "_________________________________________________________________\n",
      "block3_conv3 (Conv2D)        (None, 37, 37, 256)       590080    \n",
      "_________________________________________________________________\n",
      "block3_pool (MaxPooling2D)   (None, 18, 18, 256)       0         \n",
      "_________________________________________________________________\n",
      "block4_conv1 (Conv2D)        (None, 18, 18, 512)       1180160   \n",
      "_________________________________________________________________\n",
      "block4_conv2 (Conv2D)        (None, 18, 18, 512)       2359808   \n",
      "_________________________________________________________________\n",
      "block4_conv3 (Conv2D)        (None, 18, 18, 512)       2359808   \n",
      "_________________________________________________________________\n",
      "block4_pool (MaxPooling2D)   (None, 9, 9, 512)         0         \n",
      "_________________________________________________________________\n",
      "block5_conv1 (Conv2D)        (None, 9, 9, 512)         2359808   \n",
      "_________________________________________________________________\n",
      "block5_conv2 (Conv2D)        (None, 9, 9, 512)         2359808   \n",
      "_________________________________________________________________\n",
      "block5_conv3 (Conv2D)        (None, 9, 9, 512)         2359808   \n",
      "_________________________________________________________________\n",
      "block5_pool (MaxPooling2D)   (None, 4, 4, 512)         0         \n",
      "=================================================================\n",
      "Total params: 14,714,688\n",
      "Trainable params: 14,714,688\n",
      "Non-trainable params: 0\n",
      "_________________________________________________________________\n"
     ]
    }
   ],
   "source": [
    "conv_base.summary()"
   ]
  },
  {
   "cell_type": "code",
   "execution_count": 4,
   "metadata": {},
   "outputs": [],
   "source": [
    "import os\n",
    "import numpy as np\n",
    "from tensorflow.python.keras.preprocessing.image import ImageDataGenerator\n",
    "from tensorflow.python.keras import models\n",
    "from tensorflow.python.keras import layers\n",
    "from tensorflow.python.keras.callbacks import ModelCheckpoint\n",
    "from tensorflow.python.keras import optimizers\n",
    "\n",
    "model = models.Sequential()\n",
    "model.add(conv_base)\n",
    "model.add(layers.Flatten())\n",
    "model.add(layers.Dense(512, activation='relu'))\n",
    "model.add(layers.Dense(2, activation='softmax'))\n",
    "model.compile(loss='categorical_crossentropy',optimizer=optimizers.Adam(lr=1e-4),metrics=['categorical_accuracy'])\n",
    "filepath=\"VGG16_Six_Percent_Gaussian_Noise_Added_Trained_and_Tested_on_Degraded_CXR.h5\"\n",
    "checkpoint = ModelCheckpoint(filepath, save_best_only=True)\n",
    "callbacks_list = [checkpoint]"
   ]
  },
  {
   "cell_type": "code",
   "execution_count": 5,
   "metadata": {},
   "outputs": [
    {
     "name": "stdout",
     "output_type": "stream",
     "text": [
      "_________________________________________________________________\n",
      "Layer (type)                 Output Shape              Param #   \n",
      "=================================================================\n",
      "vgg16 (Model)                (None, 4, 4, 512)         14714688  \n",
      "_________________________________________________________________\n",
      "flatten (Flatten)            (None, 8192)              0         \n",
      "_________________________________________________________________\n",
      "dense (Dense)                (None, 512)               4194816   \n",
      "_________________________________________________________________\n",
      "dense_1 (Dense)              (None, 2)                 1026      \n",
      "=================================================================\n",
      "Total params: 18,910,530\n",
      "Trainable params: 18,910,530\n",
      "Non-trainable params: 0\n",
      "_________________________________________________________________\n"
     ]
    }
   ],
   "source": [
    "model.summary()"
   ]
  },
  {
   "cell_type": "markdown",
   "metadata": {},
   "source": [
    "## Setting up Training and Validation Data for the experiment"
   ]
  },
  {
   "cell_type": "code",
   "execution_count": 6,
   "metadata": {},
   "outputs": [],
   "source": [
    "image_height = 150\n",
    "image_width = 150\n",
    "batch_size = 8\n",
    "no_of_epochs  = 100\n",
    "number_of_training_samples=5216\n",
    "number_of_validation_samples=16\n",
    "number_of_test_samples=624"
   ]
  },
  {
   "cell_type": "code",
   "execution_count": 7,
   "metadata": {},
   "outputs": [],
   "source": [
    "train_dir='D:\\\\TensorFlow Programs\\\\Diagnosis of Pneumonia based on Chest X-Rays\\\\new experiments_from 24_08_2019\\\\Pediatric Chest X_Rays_six_percent_Gaussian_Noise_Added\\\\train'\n",
    "validation_dir='D:\\\\TensorFlow Programs\\\\Diagnosis of Pneumonia based on Chest X-Rays\\\\new experiments_from 24_08_2019\\\\Pediatric Chest X_Rays_six_percent_Gaussian_Noise_Added\\\\val'\n",
    "test_dir='D:\\\\TensorFlow Programs\\\\Diagnosis of Pneumonia based on Chest X-Rays\\\\new experiments_from 24_08_2019\\\\Pediatric Chest X_Rays_six_percent_Gaussian_Noise_Added\\\\test'"
   ]
  },
  {
   "cell_type": "code",
   "execution_count": 8,
   "metadata": {},
   "outputs": [],
   "source": [
    "train_datagen = ImageDataGenerator(rescale=1./255,\n",
    "                                   rotation_range=40,\n",
    "                                   width_shift_range=0.2,\n",
    "                                   height_shift_range=0.2,\n",
    "                                   shear_range=0.2,\n",
    "                                   zoom_range=0.2\n",
    "                                   )\n",
    "\n",
    "validation_datagen = ImageDataGenerator(rescale=1./255)  \n",
    "\n",
    "test_datagen = ImageDataGenerator(rescale=1./255)"
   ]
  },
  {
   "cell_type": "code",
   "execution_count": 9,
   "metadata": {},
   "outputs": [
    {
     "name": "stdout",
     "output_type": "stream",
     "text": [
      "Found 5216 images belonging to 2 classes.\n",
      "Found 16 images belonging to 2 classes.\n",
      "Found 624 images belonging to 2 classes.\n"
     ]
    }
   ],
   "source": [
    "training_set = train_datagen.flow_from_directory(train_dir,target_size=(image_width, image_height),batch_size=batch_size)\n",
    "validation_set = validation_datagen.flow_from_directory(validation_dir,target_size=(image_width, image_height),batch_size=batch_size,shuffle=False)\n",
    "test_set = test_datagen.flow_from_directory(test_dir,target_size=(image_width, image_height),batch_size=batch_size,shuffle=False)"
   ]
  },
  {
   "cell_type": "markdown",
   "metadata": {},
   "source": [
    "## Model Training"
   ]
  },
  {
   "cell_type": "code",
   "execution_count": 10,
   "metadata": {},
   "outputs": [
    {
     "name": "stdout",
     "output_type": "stream",
     "text": [
      "WARNING:tensorflow:From C:\\Users\\Raheel\\Anaconda3\\envs\\EnvName\\lib\\site-packages\\tensorflow\\python\\ops\\math_ops.py:3066: to_int32 (from tensorflow.python.ops.math_ops) is deprecated and will be removed in a future version.\n",
      "Instructions for updating:\n",
      "Use tf.cast instead.\n",
      "Epoch 1/100\n",
      "2/2 [==============================] - 1s 312ms/step - loss: 0.7607 - categorical_accuracy: 0.6250\n",
      "652/652 [==============================] - 206s 315ms/step - loss: 0.3839 - categorical_accuracy: 0.8144 - val_loss: 0.7607 - val_categorical_accuracy: 0.6250\n",
      "Epoch 2/100\n",
      "2/2 [==============================] - 0s 150ms/step - loss: 0.2469 - categorical_accuracy: 0.8750\n",
      "652/652 [==============================] - 164s 252ms/step - loss: 0.2528 - categorical_accuracy: 0.8944 - val_loss: 0.2469 - val_categorical_accuracy: 0.8750\n",
      "Epoch 3/100\n",
      "2/2 [==============================] - 0s 164ms/step - loss: 0.2807 - categorical_accuracy: 0.8125\n",
      "652/652 [==============================] - 138s 212ms/step - loss: 0.2011 - categorical_accuracy: 0.9199 - val_loss: 0.2807 - val_categorical_accuracy: 0.8125\n",
      "Epoch 4/100\n",
      "2/2 [==============================] - 0s 170ms/step - loss: 1.5553 - categorical_accuracy: 0.6250\n",
      "652/652 [==============================] - 139s 213ms/step - loss: 0.1629 - categorical_accuracy: 0.9367 - val_loss: 1.5553 - val_categorical_accuracy: 0.6250\n",
      "Epoch 5/100\n",
      "2/2 [==============================] - 0s 161ms/step - loss: 0.3253 - categorical_accuracy: 0.8125\n",
      "652/652 [==============================] - 138s 212ms/step - loss: 0.1584 - categorical_accuracy: 0.9367 - val_loss: 0.3253 - val_categorical_accuracy: 0.8125\n",
      "Epoch 6/100\n",
      "2/2 [==============================] - 0s 162ms/step - loss: 0.1066 - categorical_accuracy: 1.0000\n",
      "652/652 [==============================] - 139s 214ms/step - loss: 0.1507 - categorical_accuracy: 0.9410 - val_loss: 0.1066 - val_categorical_accuracy: 1.0000\n",
      "Epoch 7/100\n",
      "2/2 [==============================] - 0s 202ms/step - loss: 0.1342 - categorical_accuracy: 1.0000\n",
      "652/652 [==============================] - 139s 213ms/step - loss: 0.1485 - categorical_accuracy: 0.9425 - val_loss: 0.1342 - val_categorical_accuracy: 1.0000\n",
      "Epoch 8/100\n",
      "2/2 [==============================] - 0s 195ms/step - loss: 0.1444 - categorical_accuracy: 0.9375\n",
      "652/652 [==============================] - 139s 214ms/step - loss: 0.1388 - categorical_accuracy: 0.9465 - val_loss: 0.1444 - val_categorical_accuracy: 0.9375\n",
      "Epoch 9/100\n",
      "2/2 [==============================] - 0s 154ms/step - loss: 0.1485 - categorical_accuracy: 0.9375\n",
      "652/652 [==============================] - 138s 212ms/step - loss: 0.1192 - categorical_accuracy: 0.9549 - val_loss: 0.1485 - val_categorical_accuracy: 0.9375\n",
      "Epoch 10/100\n",
      "2/2 [==============================] - 0s 178ms/step - loss: 0.4184 - categorical_accuracy: 0.8125\n",
      "652/652 [==============================] - 139s 213ms/step - loss: 0.1181 - categorical_accuracy: 0.9578 - val_loss: 0.4184 - val_categorical_accuracy: 0.8125\n",
      "Epoch 11/100\n",
      "2/2 [==============================] - 0s 171ms/step - loss: 0.2377 - categorical_accuracy: 0.9375\n",
      "652/652 [==============================] - 138s 212ms/step - loss: 0.1074 - categorical_accuracy: 0.9609 - val_loss: 0.2377 - val_categorical_accuracy: 0.9375\n",
      "Epoch 12/100\n",
      "2/2 [==============================] - 0s 172ms/step - loss: 0.5460 - categorical_accuracy: 0.7500\n",
      "652/652 [==============================] - 139s 213ms/step - loss: 0.1087 - categorical_accuracy: 0.9582 - val_loss: 0.5460 - val_categorical_accuracy: 0.7500\n",
      "Epoch 13/100\n",
      "2/2 [==============================] - 0s 154ms/step - loss: 0.2348 - categorical_accuracy: 0.8750\n",
      "652/652 [==============================] - 138s 212ms/step - loss: 0.1078 - categorical_accuracy: 0.9613 - val_loss: 0.2348 - val_categorical_accuracy: 0.8750\n",
      "Epoch 14/100\n",
      "2/2 [==============================] - 0s 161ms/step - loss: 0.3372 - categorical_accuracy: 0.8125\n",
      "652/652 [==============================] - 138s 212ms/step - loss: 0.1002 - categorical_accuracy: 0.9615 - val_loss: 0.3372 - val_categorical_accuracy: 0.8125\n",
      "Epoch 15/100\n",
      "2/2 [==============================] - 0s 179ms/step - loss: 0.8440 - categorical_accuracy: 0.7500\n",
      "652/652 [==============================] - 139s 213ms/step - loss: 0.1197 - categorical_accuracy: 0.9563 - val_loss: 0.8440 - val_categorical_accuracy: 0.7500\n",
      "Epoch 16/100\n",
      "2/2 [==============================] - 0s 188ms/step - loss: 0.1253 - categorical_accuracy: 0.9375\n",
      "652/652 [==============================] - 139s 213ms/step - loss: 0.0960 - categorical_accuracy: 0.9649 - val_loss: 0.1253 - val_categorical_accuracy: 0.9375\n",
      "Epoch 17/100\n",
      "2/2 [==============================] - 0s 155ms/step - loss: 0.1481 - categorical_accuracy: 0.9375\n",
      "652/652 [==============================] - 138s 212ms/step - loss: 0.0871 - categorical_accuracy: 0.9678 - val_loss: 0.1481 - val_categorical_accuracy: 0.9375\n",
      "Epoch 18/100\n",
      "2/2 [==============================] - 0s 145ms/step - loss: 0.6095 - categorical_accuracy: 0.8750\n",
      "652/652 [==============================] - 138s 212ms/step - loss: 0.0926 - categorical_accuracy: 0.9634 - val_loss: 0.6095 - val_categorical_accuracy: 0.8750\n",
      "Epoch 19/100\n",
      "2/2 [==============================] - 0s 146ms/step - loss: 0.2534 - categorical_accuracy: 0.8750\n",
      "652/652 [==============================] - 138s 212ms/step - loss: 0.0878 - categorical_accuracy: 0.9666 - val_loss: 0.2534 - val_categorical_accuracy: 0.8750\n",
      "Epoch 20/100\n",
      "2/2 [==============================] - 0s 169ms/step - loss: 0.1735 - categorical_accuracy: 0.9375\n",
      "652/652 [==============================] - 138s 212ms/step - loss: 0.0914 - categorical_accuracy: 0.9647 - val_loss: 0.1735 - val_categorical_accuracy: 0.9375\n",
      "Epoch 21/100\n",
      "2/2 [==============================] - 0s 146ms/step - loss: 0.1390 - categorical_accuracy: 1.0000\n",
      "652/652 [==============================] - 138s 212ms/step - loss: 0.0816 - categorical_accuracy: 0.9699 - val_loss: 0.1390 - val_categorical_accuracy: 1.0000\n",
      "Epoch 22/100\n",
      "2/2 [==============================] - 0s 162ms/step - loss: 0.1290 - categorical_accuracy: 0.8750\n",
      "652/652 [==============================] - 138s 212ms/step - loss: 0.0832 - categorical_accuracy: 0.9712 - val_loss: 0.1290 - val_categorical_accuracy: 0.8750\n",
      "Epoch 23/100\n",
      "2/2 [==============================] - 0s 144ms/step - loss: 0.1580 - categorical_accuracy: 0.9375\n",
      "652/652 [==============================] - 138s 212ms/step - loss: 0.0838 - categorical_accuracy: 0.9674 - val_loss: 0.1580 - val_categorical_accuracy: 0.9375\n",
      "Epoch 24/100\n",
      "2/2 [==============================] - 0s 166ms/step - loss: 0.4345 - categorical_accuracy: 0.8750\n",
      "652/652 [==============================] - 138s 212ms/step - loss: 0.0931 - categorical_accuracy: 0.9657 - val_loss: 0.4345 - val_categorical_accuracy: 0.8750\n",
      "Epoch 25/100\n",
      "2/2 [==============================] - 0s 178ms/step - loss: 0.1426 - categorical_accuracy: 0.9375\n",
      "652/652 [==============================] - 138s 212ms/step - loss: 0.0911 - categorical_accuracy: 0.9672 - val_loss: 0.1426 - val_categorical_accuracy: 0.9375\n",
      "Epoch 26/100\n",
      "2/2 [==============================] - 0s 202ms/step - loss: 0.1354 - categorical_accuracy: 0.9375\n",
      "652/652 [==============================] - 139s 213ms/step - loss: 0.0841 - categorical_accuracy: 0.9707 - val_loss: 0.1354 - val_categorical_accuracy: 0.9375\n",
      "Epoch 27/100\n",
      "2/2 [==============================] - 0s 162ms/step - loss: 0.1719 - categorical_accuracy: 0.9375\n",
      "652/652 [==============================] - 139s 213ms/step - loss: 0.0699 - categorical_accuracy: 0.9726 - val_loss: 0.1719 - val_categorical_accuracy: 0.9375\n",
      "Epoch 28/100\n",
      "2/2 [==============================] - 0s 179ms/step - loss: 0.1126 - categorical_accuracy: 0.9375\n",
      "652/652 [==============================] - 140s 214ms/step - loss: 0.0812 - categorical_accuracy: 0.9697 - val_loss: 0.1126 - val_categorical_accuracy: 0.9375\n",
      "Epoch 29/100\n",
      "2/2 [==============================] - 0s 188ms/step - loss: 0.1158 - categorical_accuracy: 0.9375\n",
      "652/652 [==============================] - 139s 213ms/step - loss: 0.0754 - categorical_accuracy: 0.9730 - val_loss: 0.1158 - val_categorical_accuracy: 0.9375\n",
      "Epoch 30/100\n"
     ]
    },
    {
     "name": "stdout",
     "output_type": "stream",
     "text": [
      "2/2 [==============================] - 0s 180ms/step - loss: 0.3054 - categorical_accuracy: 0.9375\n",
      "652/652 [==============================] - 139s 214ms/step - loss: 0.0709 - categorical_accuracy: 0.9739 - val_loss: 0.3054 - val_categorical_accuracy: 0.9375\n",
      "Epoch 31/100\n",
      "2/2 [==============================] - 0s 162ms/step - loss: 1.3105 - categorical_accuracy: 0.7500\n",
      "652/652 [==============================] - 139s 213ms/step - loss: 0.0705 - categorical_accuracy: 0.9734 - val_loss: 1.3105 - val_categorical_accuracy: 0.7500\n",
      "Epoch 32/100\n",
      "2/2 [==============================] - 0s 204ms/step - loss: 0.1276 - categorical_accuracy: 0.9375\n",
      "652/652 [==============================] - 139s 214ms/step - loss: 0.0865 - categorical_accuracy: 0.9699 - val_loss: 0.1276 - val_categorical_accuracy: 0.9375\n",
      "Epoch 33/100\n",
      "2/2 [==============================] - 0s 169ms/step - loss: 0.6370 - categorical_accuracy: 0.9375\n",
      "652/652 [==============================] - 139s 212ms/step - loss: 0.0696 - categorical_accuracy: 0.9774 - val_loss: 0.6370 - val_categorical_accuracy: 0.9375\n",
      "Epoch 34/100\n",
      "2/2 [==============================] - 0s 146ms/step - loss: 0.1315 - categorical_accuracy: 0.9375\n",
      "652/652 [==============================] - 139s 213ms/step - loss: 0.0892 - categorical_accuracy: 0.9680 - val_loss: 0.1315 - val_categorical_accuracy: 0.9375\n",
      "Epoch 35/100\n",
      "2/2 [==============================] - 0s 187ms/step - loss: 0.0676 - categorical_accuracy: 1.0000\n",
      "652/652 [==============================] - 140s 215ms/step - loss: 0.0575 - categorical_accuracy: 0.9789 - val_loss: 0.0676 - val_categorical_accuracy: 1.0000\n",
      "Epoch 36/100\n",
      "2/2 [==============================] - 0s 129ms/step - loss: 0.0962 - categorical_accuracy: 1.0000\n",
      "652/652 [==============================] - 138s 212ms/step - loss: 0.0705 - categorical_accuracy: 0.9762 - val_loss: 0.0962 - val_categorical_accuracy: 1.0000\n",
      "Epoch 37/100\n",
      "2/2 [==============================] - 0s 140ms/step - loss: 0.0222 - categorical_accuracy: 1.0000\n",
      "652/652 [==============================] - 139s 214ms/step - loss: 0.0574 - categorical_accuracy: 0.9795 - val_loss: 0.0222 - val_categorical_accuracy: 1.0000\n",
      "Epoch 38/100\n",
      "2/2 [==============================] - 0s 139ms/step - loss: 0.1114 - categorical_accuracy: 0.9375\n",
      "652/652 [==============================] - 138s 212ms/step - loss: 0.0781 - categorical_accuracy: 0.9730 - val_loss: 0.1114 - val_categorical_accuracy: 0.9375\n",
      "Epoch 39/100\n",
      "2/2 [==============================] - 0s 180ms/step - loss: 0.0951 - categorical_accuracy: 1.0000\n",
      "652/652 [==============================] - 138s 211ms/step - loss: 0.0633 - categorical_accuracy: 0.9758 - val_loss: 0.0951 - val_categorical_accuracy: 1.0000\n",
      "Epoch 40/100\n",
      "2/2 [==============================] - 0s 136ms/step - loss: 0.0565 - categorical_accuracy: 1.0000\n",
      "652/652 [==============================] - 138s 211ms/step - loss: 0.0621 - categorical_accuracy: 0.9783 - val_loss: 0.0565 - val_categorical_accuracy: 1.0000\n",
      "Epoch 41/100\n",
      "2/2 [==============================] - 0s 157ms/step - loss: 0.0272 - categorical_accuracy: 1.0000\n",
      "652/652 [==============================] - 138s 211ms/step - loss: 0.0480 - categorical_accuracy: 0.9826 - val_loss: 0.0272 - val_categorical_accuracy: 1.0000\n",
      "Epoch 42/100\n",
      "2/2 [==============================] - 0s 133ms/step - loss: 0.1755 - categorical_accuracy: 0.8750\n",
      "652/652 [==============================] - 138s 211ms/step - loss: 0.0834 - categorical_accuracy: 0.9749 - val_loss: 0.1755 - val_categorical_accuracy: 0.8750\n",
      "Epoch 43/100\n",
      "2/2 [==============================] - 0s 133ms/step - loss: 0.0313 - categorical_accuracy: 1.0000\n",
      "652/652 [==============================] - 138s 211ms/step - loss: 0.0587 - categorical_accuracy: 0.9797 - val_loss: 0.0313 - val_categorical_accuracy: 1.0000\n",
      "Epoch 44/100\n",
      "2/2 [==============================] - 0s 133ms/step - loss: 0.0414 - categorical_accuracy: 1.0000\n",
      "652/652 [==============================] - 138s 211ms/step - loss: 0.0466 - categorical_accuracy: 0.9843 - val_loss: 0.0414 - val_categorical_accuracy: 1.0000\n",
      "Epoch 45/100\n",
      "2/2 [==============================] - 0s 150ms/step - loss: 0.2703 - categorical_accuracy: 0.9375\n",
      "652/652 [==============================] - 138s 212ms/step - loss: 0.0463 - categorical_accuracy: 0.9818 - val_loss: 0.2703 - val_categorical_accuracy: 0.9375\n",
      "Epoch 46/100\n",
      "2/2 [==============================] - 0s 209ms/step - loss: 0.0040 - categorical_accuracy: 1.0000\n",
      "652/652 [==============================] - 139s 213ms/step - loss: 0.0587 - categorical_accuracy: 0.9824 - val_loss: 0.0040 - val_categorical_accuracy: 1.0000\n",
      "Epoch 47/100\n",
      "2/2 [==============================] - 0s 137ms/step - loss: 0.0156 - categorical_accuracy: 1.0000\n",
      "652/652 [==============================] - 138s 212ms/step - loss: 0.0502 - categorical_accuracy: 0.9808 - val_loss: 0.0156 - val_categorical_accuracy: 1.0000\n",
      "Epoch 48/100\n",
      "2/2 [==============================] - 0s 133ms/step - loss: 0.1061 - categorical_accuracy: 0.9375\n",
      "652/652 [==============================] - 138s 212ms/step - loss: 0.0486 - categorical_accuracy: 0.9841 - val_loss: 0.1061 - val_categorical_accuracy: 0.9375\n",
      "Epoch 49/100\n",
      "2/2 [==============================] - 0s 144ms/step - loss: 0.0523 - categorical_accuracy: 1.0000\n",
      "652/652 [==============================] - 138s 212ms/step - loss: 0.0644 - categorical_accuracy: 0.9785 - val_loss: 0.0523 - val_categorical_accuracy: 1.0000\n",
      "Epoch 50/100\n",
      "2/2 [==============================] - 0s 155ms/step - loss: 1.0817 - categorical_accuracy: 0.7500\n",
      "652/652 [==============================] - 1247s 2s/step - loss: 0.0467 - categorical_accuracy: 0.9814 - val_loss: 1.0817 - val_categorical_accuracy: 0.7500\n",
      "Epoch 51/100\n",
      "2/2 [==============================] - 0s 132ms/step - loss: 0.0253 - categorical_accuracy: 1.0000\n",
      "652/652 [==============================] - 153s 234ms/step - loss: 0.0464 - categorical_accuracy: 0.9814 - val_loss: 0.0253 - val_categorical_accuracy: 1.0000\n",
      "Epoch 52/100\n",
      "2/2 [==============================] - 0s 160ms/step - loss: 0.0342 - categorical_accuracy: 1.0000\n",
      "652/652 [==============================] - 153s 235ms/step - loss: 0.0442 - categorical_accuracy: 0.9839 - val_loss: 0.0342 - val_categorical_accuracy: 1.0000\n",
      "Epoch 53/100\n",
      "2/2 [==============================] - 0s 137ms/step - loss: 0.6775 - categorical_accuracy: 0.6250\n",
      "652/652 [==============================] - 154s 236ms/step - loss: 0.0534 - categorical_accuracy: 0.9826 - val_loss: 0.6775 - val_categorical_accuracy: 0.6250\n",
      "Epoch 54/100\n",
      "2/2 [==============================] - 0s 140ms/step - loss: 0.2488 - categorical_accuracy: 0.8750\n",
      "652/652 [==============================] - 153s 235ms/step - loss: 0.0501 - categorical_accuracy: 0.9820 - val_loss: 0.2488 - val_categorical_accuracy: 0.8750\n",
      "Epoch 55/100\n",
      "2/2 [==============================] - 0s 136ms/step - loss: 0.1274 - categorical_accuracy: 0.9375\n",
      "652/652 [==============================] - 189s 290ms/step - loss: 0.0402 - categorical_accuracy: 0.9856 - val_loss: 0.1274 - val_categorical_accuracy: 0.9375\n",
      "Epoch 56/100\n",
      "2/2 [==============================] - 1s 444ms/step - loss: 0.0238 - categorical_accuracy: 1.0000\n",
      "652/652 [==============================] - 206s 315ms/step - loss: 0.0388 - categorical_accuracy: 0.9868 - val_loss: 0.0238 - val_categorical_accuracy: 1.0000\n",
      "Epoch 57/100\n",
      "2/2 [==============================] - 1s 445ms/step - loss: 0.0200 - categorical_accuracy: 1.0000\n",
      "652/652 [==============================] - 211s 324ms/step - loss: 0.0432 - categorical_accuracy: 0.9843 - val_loss: 0.0200 - val_categorical_accuracy: 1.0000\n",
      "Epoch 58/100\n",
      "2/2 [==============================] - 1s 558ms/step - loss: 0.0196 - categorical_accuracy: 1.0000\n",
      "652/652 [==============================] - 249s 382ms/step - loss: 0.0398 - categorical_accuracy: 0.9854 - val_loss: 0.0196 - val_categorical_accuracy: 1.0000\n",
      "Epoch 59/100\n",
      "2/2 [==============================] - 1s 306ms/step - loss: 0.0842 - categorical_accuracy: 1.0000\n",
      "652/652 [==============================] - 258s 396ms/step - loss: 0.0400 - categorical_accuracy: 0.9852 - val_loss: 0.0842 - val_categorical_accuracy: 1.0000\n",
      "Epoch 60/100\n"
     ]
    },
    {
     "name": "stdout",
     "output_type": "stream",
     "text": [
      "2/2 [==============================] - 0s 199ms/step - loss: 0.0465 - categorical_accuracy: 1.0000\n",
      "652/652 [==============================] - 1233s 2s/step - loss: 0.0449 - categorical_accuracy: 0.9858 - val_loss: 0.0465 - val_categorical_accuracy: 1.0000\n",
      "Epoch 61/100\n",
      "2/2 [==============================] - 0s 174ms/step - loss: 0.0113 - categorical_accuracy: 1.0000\n",
      "652/652 [==============================] - 138s 212ms/step - loss: 0.0298 - categorical_accuracy: 0.9902 - val_loss: 0.0113 - val_categorical_accuracy: 1.0000\n",
      "Epoch 62/100\n",
      "2/2 [==============================] - 0s 150ms/step - loss: 0.0538 - categorical_accuracy: 1.0000\n",
      "652/652 [==============================] - 140s 214ms/step - loss: 0.0392 - categorical_accuracy: 0.9868 - val_loss: 0.0538 - val_categorical_accuracy: 1.0000\n",
      "Epoch 63/100\n",
      "2/2 [==============================] - 0s 171ms/step - loss: 0.0376 - categorical_accuracy: 1.0000\n",
      "652/652 [==============================] - 139s 213ms/step - loss: 0.0336 - categorical_accuracy: 0.9872 - val_loss: 0.0376 - val_categorical_accuracy: 1.0000\n",
      "Epoch 64/100\n",
      "2/2 [==============================] - 0s 156ms/step - loss: 0.0596 - categorical_accuracy: 0.9375\n",
      "652/652 [==============================] - 139s 213ms/step - loss: 0.0484 - categorical_accuracy: 0.9841 - val_loss: 0.0596 - val_categorical_accuracy: 0.9375\n",
      "Epoch 65/100\n",
      "2/2 [==============================] - 0s 160ms/step - loss: 0.0126 - categorical_accuracy: 1.0000\n",
      "652/652 [==============================] - 139s 213ms/step - loss: 0.0522 - categorical_accuracy: 0.9814 - val_loss: 0.0126 - val_categorical_accuracy: 1.0000\n",
      "Epoch 66/100\n",
      "2/2 [==============================] - 0s 168ms/step - loss: 0.0339 - categorical_accuracy: 1.0000\n",
      "652/652 [==============================] - 139s 214ms/step - loss: 0.0486 - categorical_accuracy: 0.9831 - val_loss: 0.0339 - val_categorical_accuracy: 1.0000\n",
      "Epoch 67/100\n",
      "2/2 [==============================] - 0s 170ms/step - loss: 0.0403 - categorical_accuracy: 1.0000\n",
      "652/652 [==============================] - 139s 214ms/step - loss: 0.0305 - categorical_accuracy: 0.9877 - val_loss: 0.0403 - val_categorical_accuracy: 1.0000\n",
      "Epoch 68/100\n",
      "2/2 [==============================] - 0s 158ms/step - loss: 0.0335 - categorical_accuracy: 1.0000\n",
      "652/652 [==============================] - 139s 214ms/step - loss: 0.0266 - categorical_accuracy: 0.9908 - val_loss: 0.0335 - val_categorical_accuracy: 1.0000\n",
      "Epoch 69/100\n",
      "2/2 [==============================] - 0s 151ms/step - loss: 0.0357 - categorical_accuracy: 1.0000\n",
      "652/652 [==============================] - 139s 213ms/step - loss: 0.0331 - categorical_accuracy: 0.9887 - val_loss: 0.0357 - val_categorical_accuracy: 1.0000\n",
      "Epoch 70/100\n",
      "2/2 [==============================] - 0s 202ms/step - loss: 0.0456 - categorical_accuracy: 1.0000\n",
      "652/652 [==============================] - 139s 213ms/step - loss: 0.0265 - categorical_accuracy: 0.9916 - val_loss: 0.0456 - val_categorical_accuracy: 1.0000\n",
      "Epoch 71/100\n",
      "2/2 [==============================] - 0s 156ms/step - loss: 0.0311 - categorical_accuracy: 1.0000\n",
      "652/652 [==============================] - 139s 214ms/step - loss: 0.0383 - categorical_accuracy: 0.9898 - val_loss: 0.0311 - val_categorical_accuracy: 1.0000\n",
      "Epoch 72/100\n",
      "2/2 [==============================] - 0s 169ms/step - loss: 0.0330 - categorical_accuracy: 1.0000\n",
      "652/652 [==============================] - 139s 213ms/step - loss: 0.0424 - categorical_accuracy: 0.9879 - val_loss: 0.0330 - val_categorical_accuracy: 1.0000\n",
      "Epoch 73/100\n",
      "2/2 [==============================] - 0s 168ms/step - loss: 0.0048 - categorical_accuracy: 1.0000\n",
      "652/652 [==============================] - 139s 214ms/step - loss: 0.0270 - categorical_accuracy: 0.9912 - val_loss: 0.0048 - val_categorical_accuracy: 1.0000\n",
      "Epoch 74/100\n",
      "2/2 [==============================] - 0s 145ms/step - loss: 0.0851 - categorical_accuracy: 1.0000\n",
      "652/652 [==============================] - 139s 213ms/step - loss: 0.0595 - categorical_accuracy: 0.9845 - val_loss: 0.0851 - val_categorical_accuracy: 1.0000\n",
      "Epoch 75/100\n",
      "2/2 [==============================] - 0s 138ms/step - loss: 0.1215 - categorical_accuracy: 0.9375\n",
      "652/652 [==============================] - 139s 214ms/step - loss: 0.0309 - categorical_accuracy: 0.9893 - val_loss: 0.1215 - val_categorical_accuracy: 0.9375\n",
      "Epoch 76/100\n",
      "2/2 [==============================] - 0s 138ms/step - loss: 0.0237 - categorical_accuracy: 1.0000\n",
      "652/652 [==============================] - 139s 213ms/step - loss: 0.0506 - categorical_accuracy: 0.9873 - val_loss: 0.0237 - val_categorical_accuracy: 1.0000\n",
      "Epoch 77/100\n",
      "2/2 [==============================] - 0s 145ms/step - loss: 0.0159 - categorical_accuracy: 1.0000\n",
      "652/652 [==============================] - 139s 214ms/step - loss: 0.0306 - categorical_accuracy: 0.9883 - val_loss: 0.0159 - val_categorical_accuracy: 1.0000\n",
      "Epoch 78/100\n",
      "2/2 [==============================] - 0s 146ms/step - loss: 0.2148 - categorical_accuracy: 0.9375\n",
      "652/652 [==============================] - 139s 214ms/step - loss: 0.0458 - categorical_accuracy: 0.9829 - val_loss: 0.2148 - val_categorical_accuracy: 0.9375\n",
      "Epoch 79/100\n",
      "2/2 [==============================] - 0s 146ms/step - loss: 0.1517 - categorical_accuracy: 0.9375\n",
      "652/652 [==============================] - 139s 214ms/step - loss: 0.0338 - categorical_accuracy: 0.9881 - val_loss: 0.1517 - val_categorical_accuracy: 0.9375\n",
      "Epoch 80/100\n",
      "2/2 [==============================] - 0s 160ms/step - loss: 0.2363 - categorical_accuracy: 0.9375\n",
      "652/652 [==============================] - 139s 214ms/step - loss: 0.0263 - categorical_accuracy: 0.9908 - val_loss: 0.2363 - val_categorical_accuracy: 0.9375\n",
      "Epoch 81/100\n",
      "2/2 [==============================] - 0s 145ms/step - loss: 0.0100 - categorical_accuracy: 1.0000\n",
      "652/652 [==============================] - 139s 214ms/step - loss: 0.0340 - categorical_accuracy: 0.9870 - val_loss: 0.0100 - val_categorical_accuracy: 1.0000\n",
      "Epoch 82/100\n",
      "2/2 [==============================] - 0s 161ms/step - loss: 0.0081 - categorical_accuracy: 1.0000\n",
      "652/652 [==============================] - 139s 214ms/step - loss: 0.0246 - categorical_accuracy: 0.9916 - val_loss: 0.0081 - val_categorical_accuracy: 1.0000\n",
      "Epoch 83/100\n",
      "2/2 [==============================] - 0s 177ms/step - loss: 0.0147 - categorical_accuracy: 1.0000\n",
      "652/652 [==============================] - 139s 214ms/step - loss: 0.0318 - categorical_accuracy: 0.9896 - val_loss: 0.0147 - val_categorical_accuracy: 1.0000\n",
      "Epoch 84/100\n",
      "2/2 [==============================] - 0s 171ms/step - loss: 0.0834 - categorical_accuracy: 1.0000\n",
      "652/652 [==============================] - 139s 214ms/step - loss: 0.0312 - categorical_accuracy: 0.9893 - val_loss: 0.0834 - val_categorical_accuracy: 1.0000\n",
      "Epoch 85/100\n",
      "2/2 [==============================] - 0s 195ms/step - loss: 0.0893 - categorical_accuracy: 0.9375\n",
      "652/652 [==============================] - 140s 215ms/step - loss: 0.0364 - categorical_accuracy: 0.9879 - val_loss: 0.0893 - val_categorical_accuracy: 0.9375\n",
      "Epoch 86/100\n",
      "2/2 [==============================] - 0s 187ms/step - loss: 0.2153 - categorical_accuracy: 0.8750\n",
      "652/652 [==============================] - 140s 215ms/step - loss: 0.0339 - categorical_accuracy: 0.9896 - val_loss: 0.2153 - val_categorical_accuracy: 0.8750\n",
      "Epoch 87/100\n",
      "2/2 [==============================] - 0s 187ms/step - loss: 0.0690 - categorical_accuracy: 1.0000\n",
      "652/652 [==============================] - 141s 217ms/step - loss: 0.0413 - categorical_accuracy: 0.9841 - val_loss: 0.0690 - val_categorical_accuracy: 1.0000\n",
      "Epoch 88/100\n",
      "2/2 [==============================] - 0s 162ms/step - loss: 0.0812 - categorical_accuracy: 1.0000\n",
      "652/652 [==============================] - 139s 214ms/step - loss: 0.0291 - categorical_accuracy: 0.9904 - val_loss: 0.0812 - val_categorical_accuracy: 1.0000\n",
      "Epoch 89/100\n",
      "2/2 [==============================] - 0s 171ms/step - loss: 0.0762 - categorical_accuracy: 1.0000\n",
      "652/652 [==============================] - 139s 214ms/step - loss: 0.0263 - categorical_accuracy: 0.9895 - val_loss: 0.0762 - val_categorical_accuracy: 1.0000\n",
      "Epoch 90/100\n"
     ]
    },
    {
     "name": "stdout",
     "output_type": "stream",
     "text": [
      "2/2 [==============================] - 0s 153ms/step - loss: 0.0764 - categorical_accuracy: 1.0000\n",
      "652/652 [==============================] - 139s 214ms/step - loss: 0.0263 - categorical_accuracy: 0.9904 - val_loss: 0.0764 - val_categorical_accuracy: 1.0000\n",
      "Epoch 91/100\n",
      "2/2 [==============================] - 0s 171ms/step - loss: 0.1012 - categorical_accuracy: 0.9375\n",
      "652/652 [==============================] - 140s 214ms/step - loss: 0.0319 - categorical_accuracy: 0.9904 - val_loss: 0.1012 - val_categorical_accuracy: 0.9375\n",
      "Epoch 92/100\n",
      "2/2 [==============================] - 0s 138ms/step - loss: 0.0438 - categorical_accuracy: 1.0000\n",
      "652/652 [==============================] - 139s 214ms/step - loss: 0.0280 - categorical_accuracy: 0.9898 - val_loss: 0.0438 - val_categorical_accuracy: 1.0000\n",
      "Epoch 93/100\n",
      "2/2 [==============================] - 0s 163ms/step - loss: 0.0139 - categorical_accuracy: 1.0000\n",
      "652/652 [==============================] - 140s 214ms/step - loss: 0.0239 - categorical_accuracy: 0.9933 - val_loss: 0.0139 - val_categorical_accuracy: 1.0000\n",
      "Epoch 94/100\n",
      "2/2 [==============================] - 0s 138ms/step - loss: 1.3045 - categorical_accuracy: 0.7500\n",
      "652/652 [==============================] - 142s 218ms/step - loss: 0.0285 - categorical_accuracy: 0.9912 - val_loss: 1.3045 - val_categorical_accuracy: 0.7500\n",
      "Epoch 95/100\n",
      "2/2 [==============================] - 0s 148ms/step - loss: 0.2350 - categorical_accuracy: 0.9375\n",
      "652/652 [==============================] - 153s 235ms/step - loss: 0.0288 - categorical_accuracy: 0.9895 - val_loss: 0.2350 - val_categorical_accuracy: 0.9375\n",
      "Epoch 96/100\n",
      "2/2 [==============================] - 0s 148ms/step - loss: 0.1019 - categorical_accuracy: 0.9375\n",
      "652/652 [==============================] - 153s 235ms/step - loss: 0.0351 - categorical_accuracy: 0.9881 - val_loss: 0.1019 - val_categorical_accuracy: 0.9375\n",
      "Epoch 97/100\n",
      "2/2 [==============================] - 0s 137ms/step - loss: 0.0222 - categorical_accuracy: 1.0000\n",
      "652/652 [==============================] - 153s 235ms/step - loss: 0.0173 - categorical_accuracy: 0.9937 - val_loss: 0.0222 - val_categorical_accuracy: 1.0000\n",
      "Epoch 98/100\n",
      "2/2 [==============================] - 1s 457ms/step - loss: 0.0763 - categorical_accuracy: 0.9375\n",
      "652/652 [==============================] - 186s 285ms/step - loss: 0.0422 - categorical_accuracy: 0.9868 - val_loss: 0.0763 - val_categorical_accuracy: 0.9375\n",
      "Epoch 99/100\n",
      "2/2 [==============================] - 1s 454ms/step - loss: 0.1022 - categorical_accuracy: 0.9375\n",
      "652/652 [==============================] - 162s 249ms/step - loss: 0.0436 - categorical_accuracy: 0.9850 - val_loss: 0.1022 - val_categorical_accuracy: 0.9375\n",
      "Epoch 100/100\n",
      "2/2 [==============================] - 1s 303ms/step - loss: 0.0240 - categorical_accuracy: 1.0000\n",
      "652/652 [==============================] - 267s 410ms/step - loss: 0.0235 - categorical_accuracy: 0.9925 - val_loss: 0.0240 - val_categorical_accuracy: 1.0000\n"
     ]
    }
   ],
   "source": [
    "import math\n",
    "\n",
    "history = model.fit_generator(\n",
    "      training_set,\n",
    "      steps_per_epoch=math.ceil(number_of_training_samples//batch_size),\n",
    "      epochs=no_of_epochs,\n",
    "      callbacks=callbacks_list,\n",
    "      validation_data=validation_set,\n",
    "      validation_steps=math.ceil(number_of_validation_samples//batch_size))"
   ]
  },
  {
   "cell_type": "markdown",
   "metadata": {},
   "source": [
    "## Visualizing the Training Process"
   ]
  },
  {
   "cell_type": "code",
   "execution_count": 11,
   "metadata": {},
   "outputs": [
    {
     "data": {
      "image/png": "[encoded data removed]",
      "text/plain": [
       "<Figure size 432x288 with 1 Axes>"
      ]
     },
     "metadata": {
      "needs_background": "light"
     },
     "output_type": "display_data"
    },
    {
     "data": {
      "image/png": "[encoded data removed]",
      "text/plain": [
       "<Figure size 432x288 with 1 Axes>"
      ]
     },
     "metadata": {
      "needs_background": "light"
     },
     "output_type": "display_data"
    }
   ],
   "source": [
    "import matplotlib.pyplot as plt\n",
    "%matplotlib inline\n",
    "\n",
    "acc=history.history['categorical_accuracy']\n",
    "val_acc=history.history['val_categorical_accuracy']\n",
    "loss=history.history['loss']\n",
    "val_loss=history.history['val_loss']\n",
    "epochs=range(1,len(acc)+1)\n",
    "plt.xlabel('Epochs')\n",
    "plt.ylabel('Accuracy')\n",
    "plt.plot(epochs, acc, 'bo', label='Training acc')\n",
    "plt.plot(epochs, val_acc, 'b', label='Validation acc')\n",
    "plt.title('Training and validation accuracy')\n",
    "plt.legend()\n",
    "plt.figure()\n",
    "\n",
    "plt.plot(epochs, loss, 'bo', label='Training loss')\n",
    "plt.plot(epochs, val_loss, 'b', label='Validation loss')\n",
    "plt.title('Training and validation loss')\n",
    "plt.xlabel('Epochs')\n",
    "plt.ylabel('Loss')\n",
    "plt.legend()\n",
    "plt.show()"
   ]
  },
  {
   "cell_type": "markdown",
   "metadata": {},
   "source": [
    "## Loading the Best Model"
   ]
  },
  {
   "cell_type": "code",
   "execution_count": 12,
   "metadata": {},
   "outputs": [],
   "source": [
    "from tensorflow.python.keras.models import load_model\n",
    "\n",
    "best_model = load_model('VGG16_Six_Percent_Gaussian_Noise_Added_Trained_and_Tested_on_Degraded_CXR.h5')"
   ]
  },
  {
   "cell_type": "markdown",
   "metadata": {},
   "source": [
    "## Evaluating the Best Model"
   ]
  },
  {
   "cell_type": "code",
   "execution_count": 13,
   "metadata": {},
   "outputs": [
    {
     "name": "stdout",
     "output_type": "stream",
     "text": [
      "78/78 [==============================] - 29s 372ms/step - loss: 0.2399 - categorical_accuracy: 0.9455\n",
      "Test-set classification accuracy: 94.55%\n"
     ]
    }
   ],
   "source": [
    "steps_test=int(number_of_test_samples/batch_size)\n",
    "result = best_model.evaluate_generator(test_set, steps=steps_test,verbose=1)\n",
    "print(\"Test-set classification accuracy: {0:.2%}\".format(result[1]))"
   ]
  },
  {
   "cell_type": "markdown",
   "metadata": {},
   "source": [
    "## Calculating Precision, Specificity and Sensitivity (Recall) values for the model\n",
    "*Precision-Recall* is a useful measure of success of prediction when the classes are very imbalanced. High *precision* relates to a low false positive rate, and high *recall* relates to a low false negative rate.\n",
    "\n",
    "Precision is defined as the number of true positives over the number of true positives plus the number of false positives. Recall is defined as the number of true positives over the number of true positives plus the number of false negatives. Please see the [link](https://scikit-learn.org/stable/auto_examples/model_selection/plot_precision_recall.html) for details.\n",
    "\n",
    "Another way of assessing a binary classification model is to compute the *sensitivity* (also called the true positive rate or the recall) and *specificity* (also called the true negative rate) of the model. *Sensitivity* indicates the percentage of sick people who are correctly identified as having the condition. *Specificity* indicates the percentage of healthy people who are correctly identified as not having the condition.\n",
    "\n",
    "But first we prepare our test data, so that later we can draw the *confusion matrix* as well as calculate *precision*, *specificity* and *sensitivity (recall)* of the model."
   ]
  },
  {
   "cell_type": "code",
   "execution_count": 14,
   "metadata": {},
   "outputs": [
    {
     "name": "stdout",
     "output_type": "stream",
     "text": [
      "Total number of test examples:  (624, 150, 150, 3)\n",
      "Total number of labels: (624, 1)\n"
     ]
    }
   ],
   "source": [
    "# Preparing test data\n",
    "import glob\n",
    "from pathlib import Path\n",
    "from tensorflow.python.keras.utils import to_categorical\n",
    "import cv2\n",
    "\n",
    "normal_cases_dir = Path('D:\\\\TensorFlow Programs\\\\Diagnosis of Pneumonia based on Chest X-Rays\\\\new experiments_from 24_08_2019\\\\Pediatric Chest X_Rays_six_percent_Gaussian_Noise_Added\\\\test\\\\NORMAL')\n",
    "pneumonia_cases_dir = Path('D:\\\\TensorFlow Programs\\\\Diagnosis of Pneumonia based on Chest X-Rays\\\\new experiments_from 24_08_2019\\\\Pediatric Chest X_Rays_six_percent_Gaussian_Noise_Added\\\\test\\\\PNEUMONIA')\n",
    "\n",
    "normal_cases = normal_cases_dir.glob('*.jpeg')\n",
    "pneumonia_cases = pneumonia_cases_dir.glob('*.jpeg')\n",
    "\n",
    "test_data = []\n",
    "test_labels = []\n",
    "\n",
    "for img in normal_cases:\n",
    "    img = cv2.imread(str(img))\n",
    "    img = cv2.resize(img, (image_width,image_height))\n",
    "    if img.shape[2] ==1:\n",
    "        img = np.dstack([img, img, img])\n",
    "    else:\n",
    "        img = cv2.cvtColor(img, cv2.COLOR_BGR2RGB)\n",
    "    img = img.astype(np.float32)/255.\n",
    "    label = [0]\n",
    "    test_data.append(img)\n",
    "    test_labels.append(label)\n",
    "                      \n",
    "for img in pneumonia_cases:\n",
    "    img = cv2.imread(str(img))\n",
    "    img = cv2.resize(img, (image_width,image_height))\n",
    "    if img.shape[2] ==1:\n",
    "        img = np.dstack([img, img, img])\n",
    "    else:\n",
    "        img = cv2.cvtColor(img, cv2.COLOR_BGR2RGB)\n",
    "    img = img.astype(np.float32)/255.\n",
    "    label = [1]\n",
    "    test_data.append(img)\n",
    "    test_labels.append(label)\n",
    "    \n",
    "\n",
    "test_data = np.array(test_data)\n",
    "test_labels = np.array(test_labels)\n",
    "test_labels_one_hot_encoding=to_categorical(test_labels)\n",
    "\n",
    "print(\"Total number of test examples: \", test_data.shape)\n",
    "print(\"Total number of labels:\", test_labels.shape)"
   ]
  },
  {
   "cell_type": "code",
   "execution_count": 15,
   "metadata": {},
   "outputs": [
    {
     "name": "stdout",
     "output_type": "stream",
     "text": [
      "624/624 [==============================] - 6s 9ms/sample - loss: 0.2440 - categorical_accuracy: 0.9455\n",
      "Loss on test set:  0.24402591225635917\n",
      "Accuracy on test set:  0.94551283\n"
     ]
    }
   ],
   "source": [
    "# Evaluation on test dataset\n",
    "\n",
    "test_loss, test_score = best_model.evaluate(test_data, test_labels_one_hot_encoding, batch_size=16)\n",
    "print(\"Loss on test set: \", test_loss)\n",
    "print(\"Accuracy on test set: \", test_score)"
   ]
  },
  {
   "cell_type": "code",
   "execution_count": 16,
   "metadata": {},
   "outputs": [
    {
     "name": "stdout",
     "output_type": "stream",
     "text": [
      "624/624 [==============================] - 5s 7ms/sample\n",
      "(624, 1)\n",
      "(624, 1)\n"
     ]
    }
   ],
   "source": [
    "# Get predictions\n",
    "preds = best_model.predict(test_data, batch_size=16,verbose=1)\n",
    "preds=np.around(preds)\n",
    "orig_test_labels=test_labels\n",
    "predicted_labels=np.argmax(preds,axis=1)\n",
    "predicted_labels=np.reshape(predicted_labels,(624,1))\n",
    "print(predicted_labels.shape)\n",
    "print(orig_test_labels.shape)"
   ]
  },
  {
   "cell_type": "code",
   "execution_count": 17,
   "metadata": {},
   "outputs": [
    {
     "data": {
      "text/plain": [
       "<Figure size 432x288 with 0 Axes>"
      ]
     },
     "metadata": {},
     "output_type": "display_data"
    },
    {
     "data": {
      "image/png": "[encoded data removed]",
      "text/plain": [
       "<Figure size 864x576 with 1 Axes>"
      ]
     },
     "metadata": {
      "needs_background": "light"
     },
     "output_type": "display_data"
    }
   ],
   "source": [
    "import matplotlib.pyplot as plt\n",
    "%matplotlib inline\n",
    "# Get the confusion matrix\n",
    "from sklearn.metrics import confusion_matrix\n",
    "from mlxtend.plotting import plot_confusion_matrix\n",
    "\n",
    "cm  = confusion_matrix(orig_test_labels, predicted_labels)\n",
    "plt.figure()\n",
    "plot_confusion_matrix(cm,figsize=(12,8), hide_ticks=True,cmap=plt.cm.Blues)\n",
    "plt.xticks(range(2), ['Normal', 'Pneumonia'], fontsize=16)\n",
    "plt.yticks(range(2), ['Normal', 'Pneumonia'], fontsize=16)\n",
    "plt.show()"
   ]
  },
  {
   "cell_type": "code",
   "execution_count": 18,
   "metadata": {},
   "outputs": [
    {
     "name": "stdout",
     "output_type": "stream",
     "text": [
      "Sensitivity (Recall) of the model is 0.974\n",
      "Specificity of the model is 0.897\n",
      "Precision of the model is 0.941\n"
     ]
    }
   ],
   "source": [
    "# Calculate Precision and Recall\n",
    "tn, fp, fn, tp = cm.ravel()\n",
    "\n",
    "precision = tp/(tp+fp)\n",
    "recall = tp/(tp+fn)\n",
    "specificity=tn/(tn+fp)\n",
    "\n",
    "print(\"Sensitivity (Recall) of the model is {:.3f}\".format(recall))\n",
    "print(\"Specificity of the model is {:.3f}\".format(specificity))\n",
    "print(\"Precision of the model is {:.3f}\".format(precision))"
   ]
  },
  {
   "cell_type": "markdown",
   "metadata": {},
   "source": [
    "Nice!!! So, this model has a `%` sensitivity (recall), `%` specificity and `%` precision."
   ]
  },
  {
   "cell_type": "markdown",
   "metadata": {},
   "source": [
    "## ROC Curve and AUC for the model\n",
    "**Receiver operating characteristic** curve (a.k.a ROC) is a graphic plot that illustrates the diagnostic ability of a binary classifier system as its discrimination threshold is varied. The critical point here is \"binary classifier\" and \"varying threshold\". **Area Under the Curve** (a.k.a. AUC) is the percentage of the area that is under this ROC curve, ranging between 0 and 1.\n",
    "ROC is a great way to visualize the performance of a binary classifier, and AUC is one single number to summarize a classifier's performance. The higher the AUC is, the better the classifier."
   ]
  },
  {
   "cell_type": "code",
   "execution_count": 19,
   "metadata": {},
   "outputs": [],
   "source": [
    "from sklearn.metrics import roc_curve\n",
    "\n",
    "probs = best_model.predict_proba(test_data)\n",
    "preds = probs[:,1]\n",
    "fpr, tpr, thresholds = roc_curve(test_labels.ravel(), preds)"
   ]
  },
  {
   "cell_type": "code",
   "execution_count": 20,
   "metadata": {},
   "outputs": [],
   "source": [
    "from sklearn.metrics import auc\n",
    "auc_var = auc(fpr, tpr)"
   ]
  },
  {
   "cell_type": "code",
   "execution_count": 21,
   "metadata": {},
   "outputs": [
    {
     "data": {
      "image/png": "[encoded data removed]",
      "text/plain": [
       "<Figure size 432x288 with 1 Axes>"
      ]
     },
     "metadata": {
      "needs_background": "light"
     },
     "output_type": "display_data"
    }
   ],
   "source": [
    "import matplotlib.pyplot as plt\n",
    "%matplotlib inline\n",
    "plt.figure(1)\n",
    "plt.plot([0, 1], [0, 1], 'k--')\n",
    "plt.plot(fpr, tpr, label='VGG16 based model (area = {:.3f})'.format(auc_var))\n",
    "plt.xlabel('False positive rate')\n",
    "plt.ylabel('True positive rate')\n",
    "plt.title('ROC curve')\n",
    "plt.legend(loc='best')\n",
    "plt.show()"
   ]
  },
  {
   "cell_type": "markdown",
   "metadata": {},
   "source": [
    "## Precision-Recall Curve for the Model"
   ]
  },
  {
   "cell_type": "code",
   "execution_count": 22,
   "metadata": {},
   "outputs": [],
   "source": [
    "from sklearn.metrics import precision_recall_curve\n",
    "from sklearn.metrics import f1_score\n",
    "from sklearn.metrics import average_precision_score"
   ]
  },
  {
   "cell_type": "code",
   "execution_count": 23,
   "metadata": {},
   "outputs": [],
   "source": [
    "precision, recall, thresholds = precision_recall_curve(test_labels.ravel(), preds)"
   ]
  },
  {
   "cell_type": "code",
   "execution_count": 24,
   "metadata": {},
   "outputs": [],
   "source": [
    "auc_var2 = auc(recall, precision)"
   ]
  },
  {
   "cell_type": "code",
   "execution_count": 25,
   "metadata": {},
   "outputs": [
    {
     "data": {
      "image/png": "[encoded data removed]",
      "text/plain": [
       "<Figure size 432x288 with 1 Axes>"
      ]
     },
     "metadata": {
      "needs_background": "light"
     },
     "output_type": "display_data"
    }
   ],
   "source": [
    "plt.figure()\n",
    "plt.plot(recall, precision, label='VGG16 based model (area = {:.3f})'.format(auc_var2))\n",
    "plt.xlabel('Recall')\n",
    "plt.ylabel('Precision')\n",
    "plt.title('Precision-Recall curve')\n",
    "plt.legend(loc='best')\n",
    "plt.show()"
   ]
  },
  {
   "cell_type": "code",
   "execution_count": 26,
   "metadata": {},
   "outputs": [
    {
     "name": "stdout",
     "output_type": "stream",
     "text": [
      "Average Precision Score: 0.987\n"
     ]
    }
   ],
   "source": [
    "print('Average Precision Score: {:.3f}'.format(average_precision_score(test_labels.ravel(), preds)))"
   ]
  },
  {
   "cell_type": "code",
   "execution_count": 27,
   "metadata": {},
   "outputs": [
    {
     "name": "stdout",
     "output_type": "stream",
     "text": [
      "F1 Score: 0.957\n"
     ]
    }
   ],
   "source": [
    "print(\"F1 Score: {:.3f}\".format(f1_score(test_labels.ravel(),predicted_labels.ravel())))"
   ]
  }
 ],
 "metadata": {
  "kernelspec": {
   "display_name": "Python 3",
   "language": "python",
   "name": "python3"
  },
  "language_info": {
   "codemirror_mode": {
    "name": "ipython",
    "version": 3
   },
   "file_extension": ".py",
   "mimetype": "text/x-python",
   "name": "python",
   "nbconvert_exporter": "python",
   "pygments_lexer": "ipython3",
   "version": "3.6.8"
  }
 },
 "nbformat": 4,
 "nbformat_minor": 2
}
