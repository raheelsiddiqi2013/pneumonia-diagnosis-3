{
 "cells": [
  {
   "cell_type": "markdown",
   "metadata": {},
   "source": [
    "# Pneumonia Diagnosis based on Degraded Chest X-ray Images \n",
    "The author of this notebook is **Dr Raheel Siddiqi** on *03-08-2020*. He is a *Senior Assistant Professor* at Bahria University, Karachi Campus, Pakistan. His research interests include *Medical Imaging*, *Computer Vision* and *Deep Learning*.\n",
    "\n",
    "The objective of the experiment (presented in this notebook) is to evaluate the effectiveness of **VGG16** pre-trained model when employed to diagnose Pneumonia (based on degraded CXR images - 10% Gaussian Noise Added). The diagnosis process comprises of classifying Chest X-ray images into one of the two classes: (a) Normal, (b) Pneumonia.\n",
    "\n",
    "The dataset is downloded from [kaggle.com](https://www.kaggle.com/paultimothymooney/chest-xray-pneumonia). The dataset contains 5,863 X-Ray images (JPEG) and 2 categories (Pneumonia/Normal). The images are pre-processed and gaussian noise is added to each chest X-ray image."
   ]
  },
  {
   "cell_type": "markdown",
   "metadata": {},
   "source": [
    "## Tensorflow and Keras version used"
   ]
  },
  {
   "cell_type": "code",
   "execution_count": 1,
   "metadata": {},
   "outputs": [
    {
     "name": "stdout",
     "output_type": "stream",
     "text": [
      "Tensorflow Version:  1.13.1\n",
      "Keras Version:  2.2.4-tf\n"
     ]
    }
   ],
   "source": [
    "import tensorflow as tf\n",
    "from tensorflow.python import keras\n",
    "\n",
    "print('Tensorflow Version: ', tf.__version__)\n",
    "print('Keras Version: ', keras.__version__)"
   ]
  },
  {
   "cell_type": "markdown",
   "metadata": {},
   "source": [
    "## Setting up the Model"
   ]
  },
  {
   "cell_type": "code",
   "execution_count": 2,
   "metadata": {},
   "outputs": [
    {
     "name": "stdout",
     "output_type": "stream",
     "text": [
      "WARNING:tensorflow:From C:\\Users\\Raheel\\Anaconda3\\envs\\EnvName\\lib\\site-packages\\tensorflow\\python\\ops\\resource_variable_ops.py:435: colocate_with (from tensorflow.python.framework.ops) is deprecated and will be removed in a future version.\n",
      "Instructions for updating:\n",
      "Colocations handled automatically by placer.\n"
     ]
    }
   ],
   "source": [
    "from tensorflow.python.keras.applications import VGG16\n",
    "\n",
    "conv_base=VGG16(weights='imagenet',include_top=False,input_shape=(150,150,3))"
   ]
  },
  {
   "cell_type": "code",
   "execution_count": 3,
   "metadata": {},
   "outputs": [
    {
     "name": "stdout",
     "output_type": "stream",
     "text": [
      "_________________________________________________________________\n",
      "Layer (type)                 Output Shape              Param #   \n",
      "=================================================================\n",
      "input_1 (InputLayer)         (None, 150, 150, 3)       0         \n",
      "_________________________________________________________________\n",
      "block1_conv1 (Conv2D)        (None, 150, 150, 64)      1792      \n",
      "_________________________________________________________________\n",
      "block1_conv2 (Conv2D)        (None, 150, 150, 64)      36928     \n",
      "_________________________________________________________________\n",
      "block1_pool (MaxPooling2D)   (None, 75, 75, 64)        0         \n",
      "_________________________________________________________________\n",
      "block2_conv1 (Conv2D)        (None, 75, 75, 128)       73856     \n",
      "_________________________________________________________________\n",
      "block2_conv2 (Conv2D)        (None, 75, 75, 128)       147584    \n",
      "_________________________________________________________________\n",
      "block2_pool (MaxPooling2D)   (None, 37, 37, 128)       0         \n",
      "_________________________________________________________________\n",
      "block3_conv1 (Conv2D)        (None, 37, 37, 256)       295168    \n",
      "_________________________________________________________________\n",
      "block3_conv2 (Conv2D)        (None, 37, 37, 256)       590080    \n",
      "_________________________________________________________________\n",
      "block3_conv3 (Conv2D)        (None, 37, 37, 256)       590080    \n",
      "_________________________________________________________________\n",
      "block3_pool (MaxPooling2D)   (None, 18, 18, 256)       0         \n",
      "_________________________________________________________________\n",
      "block4_conv1 (Conv2D)        (None, 18, 18, 512)       1180160   \n",
      "_________________________________________________________________\n",
      "block4_conv2 (Conv2D)        (None, 18, 18, 512)       2359808   \n",
      "_________________________________________________________________\n",
      "block4_conv3 (Conv2D)        (None, 18, 18, 512)       2359808   \n",
      "_________________________________________________________________\n",
      "block4_pool (MaxPooling2D)   (None, 9, 9, 512)         0         \n",
      "_________________________________________________________________\n",
      "block5_conv1 (Conv2D)        (None, 9, 9, 512)         2359808   \n",
      "_________________________________________________________________\n",
      "block5_conv2 (Conv2D)        (None, 9, 9, 512)         2359808   \n",
      "_________________________________________________________________\n",
      "block5_conv3 (Conv2D)        (None, 9, 9, 512)         2359808   \n",
      "_________________________________________________________________\n",
      "block5_pool (MaxPooling2D)   (None, 4, 4, 512)         0         \n",
      "=================================================================\n",
      "Total params: 14,714,688\n",
      "Trainable params: 14,714,688\n",
      "Non-trainable params: 0\n",
      "_________________________________________________________________\n"
     ]
    }
   ],
   "source": [
    "conv_base.summary()"
   ]
  },
  {
   "cell_type": "code",
   "execution_count": 4,
   "metadata": {},
   "outputs": [],
   "source": [
    "import os\n",
    "import numpy as np\n",
    "from tensorflow.python.keras.preprocessing.image import ImageDataGenerator\n",
    "from tensorflow.python.keras import models\n",
    "from tensorflow.python.keras import layers\n",
    "from tensorflow.python.keras.callbacks import ModelCheckpoint\n",
    "from tensorflow.python.keras import optimizers\n",
    "\n",
    "model = models.Sequential()\n",
    "model.add(conv_base)\n",
    "model.add(layers.Flatten())\n",
    "model.add(layers.Dense(512, activation='relu'))\n",
    "model.add(layers.Dense(2, activation='softmax'))\n",
    "model.compile(loss='categorical_crossentropy',optimizer=optimizers.Adam(lr=1e-4),metrics=['categorical_accuracy'])\n",
    "filepath=\"VGG16_Ten_Percent_Gaussian_Noise_Added_Trained_and_Tested_on_Degraded_CXR.h5\"\n",
    "checkpoint = ModelCheckpoint(filepath, save_best_only=True)\n",
    "callbacks_list = [checkpoint]"
   ]
  },
  {
   "cell_type": "code",
   "execution_count": 5,
   "metadata": {},
   "outputs": [
    {
     "name": "stdout",
     "output_type": "stream",
     "text": [
      "_________________________________________________________________\n",
      "Layer (type)                 Output Shape              Param #   \n",
      "=================================================================\n",
      "vgg16 (Model)                (None, 4, 4, 512)         14714688  \n",
      "_________________________________________________________________\n",
      "flatten (Flatten)            (None, 8192)              0         \n",
      "_________________________________________________________________\n",
      "dense (Dense)                (None, 512)               4194816   \n",
      "_________________________________________________________________\n",
      "dense_1 (Dense)              (None, 2)                 1026      \n",
      "=================================================================\n",
      "Total params: 18,910,530\n",
      "Trainable params: 18,910,530\n",
      "Non-trainable params: 0\n",
      "_________________________________________________________________\n"
     ]
    }
   ],
   "source": [
    "model.summary()"
   ]
  },
  {
   "cell_type": "markdown",
   "metadata": {},
   "source": [
    "## Setting up Training and Validation Data for the experiment"
   ]
  },
  {
   "cell_type": "code",
   "execution_count": 6,
   "metadata": {},
   "outputs": [],
   "source": [
    "image_height = 150\n",
    "image_width = 150\n",
    "batch_size = 8\n",
    "no_of_epochs  = 100\n",
    "number_of_training_samples=5216\n",
    "number_of_validation_samples=16\n",
    "number_of_test_samples=624"
   ]
  },
  {
   "cell_type": "code",
   "execution_count": 7,
   "metadata": {},
   "outputs": [],
   "source": [
    "train_dir='D:\\\\TensorFlow Programs\\\\Diagnosis of Pneumonia based on Chest X-Rays\\\\new experiments_from 24_08_2019\\\\Pediatric Chest X_Rays_ten_percent_Gaussian_Noise_Added\\\\train'\n",
    "validation_dir='D:\\\\TensorFlow Programs\\\\Diagnosis of Pneumonia based on Chest X-Rays\\\\new experiments_from 24_08_2019\\\\Pediatric Chest X_Rays_ten_percent_Gaussian_Noise_Added\\\\val'\n",
    "test_dir='D:\\\\TensorFlow Programs\\\\Diagnosis of Pneumonia based on Chest X-Rays\\\\new experiments_from 24_08_2019\\\\Pediatric Chest X_Rays_ten_percent_Gaussian_Noise_Added\\\\test'"
   ]
  },
  {
   "cell_type": "code",
   "execution_count": 8,
   "metadata": {},
   "outputs": [],
   "source": [
    "train_datagen = ImageDataGenerator(rescale=1./255,\n",
    "                                   rotation_range=40,\n",
    "                                   width_shift_range=0.2,\n",
    "                                   height_shift_range=0.2,\n",
    "                                   shear_range=0.2,\n",
    "                                   zoom_range=0.2\n",
    "                                   )\n",
    "\n",
    "validation_datagen = ImageDataGenerator(rescale=1./255)  \n",
    "\n",
    "test_datagen = ImageDataGenerator(rescale=1./255)"
   ]
  },
  {
   "cell_type": "code",
   "execution_count": 9,
   "metadata": {},
   "outputs": [
    {
     "name": "stdout",
     "output_type": "stream",
     "text": [
      "Found 5216 images belonging to 2 classes.\n",
      "Found 16 images belonging to 2 classes.\n",
      "Found 624 images belonging to 2 classes.\n"
     ]
    }
   ],
   "source": [
    "training_set = train_datagen.flow_from_directory(train_dir,target_size=(image_width, image_height),batch_size=batch_size)\n",
    "validation_set = validation_datagen.flow_from_directory(validation_dir,target_size=(image_width, image_height),batch_size=batch_size,shuffle=False)\n",
    "test_set = test_datagen.flow_from_directory(test_dir,target_size=(image_width, image_height),batch_size=batch_size,shuffle=False)"
   ]
  },
  {
   "cell_type": "markdown",
   "metadata": {},
   "source": [
    "## Model Training"
   ]
  },
  {
   "cell_type": "code",
   "execution_count": 10,
   "metadata": {},
   "outputs": [
    {
     "name": "stdout",
     "output_type": "stream",
     "text": [
      "WARNING:tensorflow:From C:\\Users\\Raheel\\Anaconda3\\envs\\EnvName\\lib\\site-packages\\tensorflow\\python\\ops\\math_ops.py:3066: to_int32 (from tensorflow.python.ops.math_ops) is deprecated and will be removed in a future version.\n",
      "Instructions for updating:\n",
      "Use tf.cast instead.\n",
      "Epoch 1/100\n",
      "2/2 [==============================] - 0s 238ms/step - loss: 0.9087 - categorical_accuracy: 0.5625\n",
      "652/652 [==============================] - 190s 291ms/step - loss: 0.4608 - categorical_accuracy: 0.7703 - val_loss: 0.9087 - val_categorical_accuracy: 0.5625\n",
      "Epoch 2/100\n",
      "2/2 [==============================] - 0s 149ms/step - loss: 1.1648 - categorical_accuracy: 0.6250\n",
      "652/652 [==============================] - 157s 240ms/step - loss: 0.2981 - categorical_accuracy: 0.8660 - val_loss: 1.1648 - val_categorical_accuracy: 0.6250\n",
      "Epoch 3/100\n",
      "2/2 [==============================] - 0s 168ms/step - loss: 0.7028 - categorical_accuracy: 0.7500\n",
      "652/652 [==============================] - 158s 243ms/step - loss: 0.2232 - categorical_accuracy: 0.9135 - val_loss: 0.7028 - val_categorical_accuracy: 0.7500\n",
      "Epoch 4/100\n",
      "2/2 [==============================] - 0s 158ms/step - loss: 0.9950 - categorical_accuracy: 0.7500\n",
      "652/652 [==============================] - 165s 254ms/step - loss: 0.2128 - categorical_accuracy: 0.9103 - val_loss: 0.9950 - val_categorical_accuracy: 0.7500\n",
      "Epoch 5/100\n",
      "2/2 [==============================] - 0s 155ms/step - loss: 0.3606 - categorical_accuracy: 0.6875\n",
      "652/652 [==============================] - 173s 265ms/step - loss: 0.1815 - categorical_accuracy: 0.9283 - val_loss: 0.3606 - val_categorical_accuracy: 0.6875\n",
      "Epoch 6/100\n",
      "2/2 [==============================] - 0s 178ms/step - loss: 0.4312 - categorical_accuracy: 0.7500\n",
      "652/652 [==============================] - 144s 221ms/step - loss: 0.1703 - categorical_accuracy: 0.9310 - val_loss: 0.4312 - val_categorical_accuracy: 0.7500\n",
      "Epoch 7/100\n",
      "2/2 [==============================] - 0s 162ms/step - loss: 0.3482 - categorical_accuracy: 0.8125\n",
      "652/652 [==============================] - 140s 215ms/step - loss: 0.1436 - categorical_accuracy: 0.9429 - val_loss: 0.3482 - val_categorical_accuracy: 0.8125\n",
      "Epoch 8/100\n",
      "2/2 [==============================] - 0s 162ms/step - loss: 0.5176 - categorical_accuracy: 0.7500\n",
      "652/652 [==============================] - 139s 213ms/step - loss: 0.1471 - categorical_accuracy: 0.9452 - val_loss: 0.5176 - val_categorical_accuracy: 0.7500\n",
      "Epoch 9/100\n",
      "2/2 [==============================] - 0s 179ms/step - loss: 0.4164 - categorical_accuracy: 0.7500\n",
      "652/652 [==============================] - 139s 214ms/step - loss: 0.1300 - categorical_accuracy: 0.9482 - val_loss: 0.4164 - val_categorical_accuracy: 0.7500\n",
      "Epoch 10/100\n",
      "2/2 [==============================] - 0s 178ms/step - loss: 0.3159 - categorical_accuracy: 0.8125\n",
      "652/652 [==============================] - 140s 215ms/step - loss: 0.1186 - categorical_accuracy: 0.9530 - val_loss: 0.3159 - val_categorical_accuracy: 0.8125\n",
      "Epoch 11/100\n",
      "2/2 [==============================] - 0s 160ms/step - loss: 0.3542 - categorical_accuracy: 0.8125\n",
      "652/652 [==============================] - 139s 214ms/step - loss: 0.1169 - categorical_accuracy: 0.9544 - val_loss: 0.3542 - val_categorical_accuracy: 0.8125\n",
      "Epoch 12/100\n",
      "2/2 [==============================] - 0s 178ms/step - loss: 0.3805 - categorical_accuracy: 0.7500\n",
      "652/652 [==============================] - 139s 214ms/step - loss: 0.1129 - categorical_accuracy: 0.9574 - val_loss: 0.3805 - val_categorical_accuracy: 0.7500\n",
      "Epoch 13/100\n",
      "2/2 [==============================] - 0s 162ms/step - loss: 0.1901 - categorical_accuracy: 0.8750\n",
      "652/652 [==============================] - 140s 215ms/step - loss: 0.0993 - categorical_accuracy: 0.9638 - val_loss: 0.1901 - val_categorical_accuracy: 0.8750\n",
      "Epoch 14/100\n",
      "2/2 [==============================] - 0s 162ms/step - loss: 0.2261 - categorical_accuracy: 0.9375\n",
      "652/652 [==============================] - 139s 214ms/step - loss: 0.0987 - categorical_accuracy: 0.9661 - val_loss: 0.2261 - val_categorical_accuracy: 0.9375\n",
      "Epoch 15/100\n",
      "2/2 [==============================] - 0s 154ms/step - loss: 0.5166 - categorical_accuracy: 0.8750\n",
      "652/652 [==============================] - 139s 214ms/step - loss: 0.1000 - categorical_accuracy: 0.9615 - val_loss: 0.5166 - val_categorical_accuracy: 0.8750\n",
      "Epoch 16/100\n",
      "2/2 [==============================] - 0s 169ms/step - loss: 0.6775 - categorical_accuracy: 0.8125TA: 0s - loss: 0.1075 - categorical_accuracy\n",
      "652/652 [==============================] - 139s 214ms/step - loss: 0.1074 - categorical_accuracy: 0.9645 - val_loss: 0.6775 - val_categorical_accuracy: 0.8125\n",
      "Epoch 17/100\n",
      "2/2 [==============================] - 0s 162ms/step - loss: 0.5537 - categorical_accuracy: 0.8750\n",
      "652/652 [==============================] - 140s 214ms/step - loss: 0.0920 - categorical_accuracy: 0.9634 - val_loss: 0.5537 - val_categorical_accuracy: 0.8750\n",
      "Epoch 18/100\n",
      "2/2 [==============================] - 0s 169ms/step - loss: 0.3397 - categorical_accuracy: 0.9375\n",
      "652/652 [==============================] - 139s 214ms/step - loss: 0.1013 - categorical_accuracy: 0.9653 - val_loss: 0.3397 - val_categorical_accuracy: 0.9375\n",
      "Epoch 19/100\n",
      "2/2 [==============================] - 0s 196ms/step - loss: 0.3278 - categorical_accuracy: 0.8750\n",
      "652/652 [==============================] - 139s 214ms/step - loss: 0.0880 - categorical_accuracy: 0.9668 - val_loss: 0.3278 - val_categorical_accuracy: 0.8750\n",
      "Epoch 20/100\n",
      "2/2 [==============================] - 0s 195ms/step - loss: 0.2272 - categorical_accuracy: 0.9375\n",
      "652/652 [==============================] - 139s 214ms/step - loss: 0.0889 - categorical_accuracy: 0.9676 - val_loss: 0.2272 - val_categorical_accuracy: 0.9375\n",
      "Epoch 21/100\n",
      "2/2 [==============================] - 0s 162ms/step - loss: 0.2300 - categorical_accuracy: 0.8750\n",
      "652/652 [==============================] - 139s 214ms/step - loss: 0.1007 - categorical_accuracy: 0.9607 - val_loss: 0.2300 - val_categorical_accuracy: 0.8750\n",
      "Epoch 22/100\n",
      "2/2 [==============================] - 0s 171ms/step - loss: 0.0768 - categorical_accuracy: 1.0000TA\n",
      "652/652 [==============================] - 140s 215ms/step - loss: 0.0804 - categorical_accuracy: 0.9693 - val_loss: 0.0768 - val_categorical_accuracy: 1.0000\n",
      "Epoch 23/100\n",
      "2/2 [==============================] - 0s 162ms/step - loss: 0.2897 - categorical_accuracy: 0.9375\n",
      "652/652 [==============================] - 139s 214ms/step - loss: 0.0853 - categorical_accuracy: 0.9703 - val_loss: 0.2897 - val_categorical_accuracy: 0.9375\n",
      "Epoch 24/100\n",
      "2/2 [==============================] - 0s 161ms/step - loss: 0.0730 - categorical_accuracy: 1.0000\n",
      "652/652 [==============================] - 140s 215ms/step - loss: 0.0749 - categorical_accuracy: 0.9709 - val_loss: 0.0730 - val_categorical_accuracy: 1.0000\n",
      "Epoch 25/100\n",
      "2/2 [==============================] - 0s 194ms/step - loss: 0.3851 - categorical_accuracy: 0.7500\n",
      "652/652 [==============================] - 139s 214ms/step - loss: 0.0829 - categorical_accuracy: 0.9722 - val_loss: 0.3851 - val_categorical_accuracy: 0.7500\n",
      "Epoch 26/100\n",
      "2/2 [==============================] - 0s 161ms/step - loss: 0.2222 - categorical_accuracy: 0.9375\n",
      "652/652 [==============================] - 139s 213ms/step - loss: 0.0792 - categorical_accuracy: 0.9709 - val_loss: 0.2222 - val_categorical_accuracy: 0.9375\n",
      "Epoch 27/100\n",
      "2/2 [==============================] - 0s 154ms/step - loss: 0.2588 - categorical_accuracy: 0.8750\n",
      "652/652 [==============================] - 139s 214ms/step - loss: 0.0714 - categorical_accuracy: 0.9734 - val_loss: 0.2588 - val_categorical_accuracy: 0.8750\n",
      "Epoch 28/100\n",
      "2/2 [==============================] - 0s 145ms/step - loss: 0.1694 - categorical_accuracy: 0.8750\n",
      "652/652 [==============================] - 139s 214ms/step - loss: 0.0656 - categorical_accuracy: 0.9758 - val_loss: 0.1694 - val_categorical_accuracy: 0.8750\n",
      "Epoch 29/100\n",
      "2/2 [==============================] - 0s 146ms/step - loss: 0.2318 - categorical_accuracy: 0.8750\n",
      "652/652 [==============================] - 139s 214ms/step - loss: 0.0765 - categorical_accuracy: 0.9722 - val_loss: 0.2318 - val_categorical_accuracy: 0.8750\n",
      "Epoch 30/100\n"
     ]
    },
    {
     "name": "stdout",
     "output_type": "stream",
     "text": [
      "2/2 [==============================] - 0s 154ms/step - loss: 0.2403 - categorical_accuracy: 0.8750\n",
      "652/652 [==============================] - 139s 213ms/step - loss: 0.0666 - categorical_accuracy: 0.9726 - val_loss: 0.2403 - val_categorical_accuracy: 0.8750\n",
      "Epoch 31/100\n",
      "2/2 [==============================] - 0s 153ms/step - loss: 0.0942 - categorical_accuracy: 0.9375\n",
      "652/652 [==============================] - 139s 214ms/step - loss: 0.0736 - categorical_accuracy: 0.9735 - val_loss: 0.0942 - val_categorical_accuracy: 0.9375\n",
      "Epoch 32/100\n",
      "2/2 [==============================] - 0s 149ms/step - loss: 0.3648 - categorical_accuracy: 0.9375\n",
      "652/652 [==============================] - 139s 213ms/step - loss: 0.0605 - categorical_accuracy: 0.9801 - val_loss: 0.3648 - val_categorical_accuracy: 0.9375\n",
      "Epoch 33/100\n",
      "2/2 [==============================] - 0s 146ms/step - loss: 0.6394 - categorical_accuracy: 0.8125\n",
      "652/652 [==============================] - 139s 213ms/step - loss: 0.0730 - categorical_accuracy: 0.9718 - val_loss: 0.6394 - val_categorical_accuracy: 0.8125\n",
      "Epoch 34/100\n",
      "2/2 [==============================] - 0s 170ms/step - loss: 0.4826 - categorical_accuracy: 0.8750\n",
      "652/652 [==============================] - 139s 213ms/step - loss: 0.0589 - categorical_accuracy: 0.9766 - val_loss: 0.4826 - val_categorical_accuracy: 0.8750\n",
      "Epoch 35/100\n",
      "2/2 [==============================] - 0s 146ms/step - loss: 0.3367 - categorical_accuracy: 0.8750\n",
      "652/652 [==============================] - 139s 213ms/step - loss: 0.0669 - categorical_accuracy: 0.9780 - val_loss: 0.3367 - val_categorical_accuracy: 0.8750\n",
      "Epoch 36/100\n",
      "2/2 [==============================] - 0s 153ms/step - loss: 0.2924 - categorical_accuracy: 0.8750\n",
      "652/652 [==============================] - 139s 213ms/step - loss: 0.0623 - categorical_accuracy: 0.9780 - val_loss: 0.2924 - val_categorical_accuracy: 0.8750\n",
      "Epoch 37/100\n",
      "2/2 [==============================] - 0s 170ms/step - loss: 0.2529 - categorical_accuracy: 0.8750\n",
      "652/652 [==============================] - 139s 213ms/step - loss: 0.0609 - categorical_accuracy: 0.9753 - val_loss: 0.2529 - val_categorical_accuracy: 0.8750\n",
      "Epoch 38/100\n",
      "2/2 [==============================] - 0s 145ms/step - loss: 0.5010 - categorical_accuracy: 0.8750\n",
      "652/652 [==============================] - 139s 213ms/step - loss: 0.0494 - categorical_accuracy: 0.9818 - val_loss: 0.5010 - val_categorical_accuracy: 0.8750\n",
      "Epoch 39/100\n",
      "2/2 [==============================] - 0s 146ms/step - loss: 0.8473 - categorical_accuracy: 0.6875\n",
      "652/652 [==============================] - 139s 213ms/step - loss: 0.0632 - categorical_accuracy: 0.9780 - val_loss: 0.8473 - val_categorical_accuracy: 0.6875\n",
      "Epoch 40/100\n",
      "2/2 [==============================] - 0s 146ms/step - loss: 0.3246 - categorical_accuracy: 0.8125\n",
      "652/652 [==============================] - 139s 213ms/step - loss: 0.0546 - categorical_accuracy: 0.9810 - val_loss: 0.3246 - val_categorical_accuracy: 0.8125\n",
      "Epoch 41/100\n",
      "2/2 [==============================] - 0s 145ms/step - loss: 0.3191 - categorical_accuracy: 0.8750\n",
      "652/652 [==============================] - 139s 213ms/step - loss: 0.0519 - categorical_accuracy: 0.9827 - val_loss: 0.3191 - val_categorical_accuracy: 0.8750\n",
      "Epoch 42/100\n",
      "2/2 [==============================] - 0s 171ms/step - loss: 0.4842 - categorical_accuracy: 0.8750\n",
      "652/652 [==============================] - 139s 213ms/step - loss: 0.0507 - categorical_accuracy: 0.9806 - val_loss: 0.4842 - val_categorical_accuracy: 0.8750\n",
      "Epoch 43/100\n",
      "2/2 [==============================] - 0s 154ms/step - loss: 0.3246 - categorical_accuracy: 0.8750\n",
      "652/652 [==============================] - 139s 213ms/step - loss: 0.0500 - categorical_accuracy: 0.9810 - val_loss: 0.3246 - val_categorical_accuracy: 0.8750\n",
      "Epoch 44/100\n",
      "2/2 [==============================] - 0s 146ms/step - loss: 0.6469 - categorical_accuracy: 0.8750\n",
      "652/652 [==============================] - 139s 213ms/step - loss: 0.0566 - categorical_accuracy: 0.9791 - val_loss: 0.6469 - val_categorical_accuracy: 0.8750\n",
      "Epoch 45/100\n",
      "2/2 [==============================] - 0s 145ms/step - loss: 0.4178 - categorical_accuracy: 0.8750\n",
      "652/652 [==============================] - 139s 213ms/step - loss: 0.0611 - categorical_accuracy: 0.9774 - val_loss: 0.4178 - val_categorical_accuracy: 0.8750\n",
      "Epoch 46/100\n",
      "2/2 [==============================] - 0s 146ms/step - loss: 0.2366 - categorical_accuracy: 0.8750\n",
      "652/652 [==============================] - 139s 213ms/step - loss: 0.0515 - categorical_accuracy: 0.9797 - val_loss: 0.2366 - val_categorical_accuracy: 0.8750\n",
      "Epoch 47/100\n",
      "2/2 [==============================] - 0s 195ms/step - loss: 0.0622 - categorical_accuracy: 1.0000\n",
      "652/652 [==============================] - 140s 215ms/step - loss: 0.0506 - categorical_accuracy: 0.9829 - val_loss: 0.0622 - val_categorical_accuracy: 1.0000\n",
      "Epoch 48/100\n",
      "2/2 [==============================] - 0s 146ms/step - loss: 0.4709 - categorical_accuracy: 0.8750\n",
      "652/652 [==============================] - 139s 213ms/step - loss: 0.0526 - categorical_accuracy: 0.9820 - val_loss: 0.4709 - val_categorical_accuracy: 0.8750\n",
      "Epoch 49/100\n",
      "2/2 [==============================] - 0s 146ms/step - loss: 0.8359 - categorical_accuracy: 0.7500\n",
      "652/652 [==============================] - 139s 213ms/step - loss: 0.0424 - categorical_accuracy: 0.9858 - val_loss: 0.8359 - val_categorical_accuracy: 0.7500\n",
      "Epoch 50/100\n",
      "2/2 [==============================] - 0s 154ms/step - loss: 0.6558 - categorical_accuracy: 0.7500\n",
      "652/652 [==============================] - 139s 213ms/step - loss: 0.0427 - categorical_accuracy: 0.9858 - val_loss: 0.6558 - val_categorical_accuracy: 0.7500\n",
      "Epoch 51/100\n",
      "2/2 [==============================] - 0s 146ms/step - loss: 0.4244 - categorical_accuracy: 0.8750\n",
      "652/652 [==============================] - 139s 213ms/step - loss: 0.0463 - categorical_accuracy: 0.9856 - val_loss: 0.4244 - val_categorical_accuracy: 0.8750\n",
      "Epoch 52/100\n",
      "2/2 [==============================] - 0s 170ms/step - loss: 0.3977 - categorical_accuracy: 0.9375\n",
      "652/652 [==============================] - 139s 213ms/step - loss: 0.0486 - categorical_accuracy: 0.9850 - val_loss: 0.3977 - val_categorical_accuracy: 0.9375\n",
      "Epoch 53/100\n",
      "2/2 [==============================] - 0s 145ms/step - loss: 0.4943 - categorical_accuracy: 0.8125\n",
      "652/652 [==============================] - 139s 213ms/step - loss: 0.0448 - categorical_accuracy: 0.9850 - val_loss: 0.4943 - val_categorical_accuracy: 0.8125\n",
      "Epoch 54/100\n",
      "2/2 [==============================] - 0s 147ms/step - loss: 0.2238 - categorical_accuracy: 0.8125\n",
      "652/652 [==============================] - 139s 213ms/step - loss: 0.0406 - categorical_accuracy: 0.9843 - val_loss: 0.2238 - val_categorical_accuracy: 0.8125\n",
      "Epoch 55/100\n",
      "2/2 [==============================] - 0s 154ms/step - loss: 0.4138 - categorical_accuracy: 0.8750\n",
      "652/652 [==============================] - 139s 213ms/step - loss: 0.0593 - categorical_accuracy: 0.9816 - val_loss: 0.4138 - val_categorical_accuracy: 0.8750\n",
      "Epoch 56/100\n",
      "2/2 [==============================] - 0s 153ms/step - loss: 0.7744 - categorical_accuracy: 0.8750\n",
      "652/652 [==============================] - 139s 213ms/step - loss: 0.0466 - categorical_accuracy: 0.9837 - val_loss: 0.7744 - val_categorical_accuracy: 0.8750\n",
      "Epoch 57/100\n",
      "2/2 [==============================] - 0s 146ms/step - loss: 0.6657 - categorical_accuracy: 0.8125\n",
      "652/652 [==============================] - 139s 213ms/step - loss: 0.0361 - categorical_accuracy: 0.9873 - val_loss: 0.6657 - val_categorical_accuracy: 0.8125\n",
      "Epoch 58/100\n",
      "2/2 [==============================] - 0s 154ms/step - loss: 0.3680 - categorical_accuracy: 0.9375\n",
      "652/652 [==============================] - 139s 213ms/step - loss: 0.0411 - categorical_accuracy: 0.9862 - val_loss: 0.3680 - val_categorical_accuracy: 0.9375\n",
      "Epoch 59/100\n",
      "2/2 [==============================] - 0s 153ms/step - loss: 0.3583 - categorical_accuracy: 0.8750\n",
      "652/652 [==============================] - 139s 213ms/step - loss: 0.0479 - categorical_accuracy: 0.9827 - val_loss: 0.3583 - val_categorical_accuracy: 0.8750\n",
      "Epoch 60/100\n"
     ]
    },
    {
     "name": "stdout",
     "output_type": "stream",
     "text": [
      "2/2 [==============================] - 0s 146ms/step - loss: 0.2935 - categorical_accuracy: 0.8750\n",
      "652/652 [==============================] - 139s 213ms/step - loss: 0.0521 - categorical_accuracy: 0.9835 - val_loss: 0.2935 - val_categorical_accuracy: 0.8750\n",
      "Epoch 61/100\n",
      "2/2 [==============================] - 0s 146ms/step - loss: 0.4709 - categorical_accuracy: 0.8750\n",
      "652/652 [==============================] - 139s 213ms/step - loss: 0.0380 - categorical_accuracy: 0.9864 - val_loss: 0.4709 - val_categorical_accuracy: 0.8750\n",
      "Epoch 62/100\n",
      "2/2 [==============================] - 0s 154ms/step - loss: 0.3275 - categorical_accuracy: 0.8750\n",
      "652/652 [==============================] - 139s 213ms/step - loss: 0.0537 - categorical_accuracy: 0.9808 - val_loss: 0.3275 - val_categorical_accuracy: 0.8750\n",
      "Epoch 63/100\n",
      "2/2 [==============================] - 0s 147ms/step - loss: 0.3858 - categorical_accuracy: 0.8750\n",
      "652/652 [==============================] - 139s 213ms/step - loss: 0.0328 - categorical_accuracy: 0.9891 - val_loss: 0.3858 - val_categorical_accuracy: 0.8750\n",
      "Epoch 64/100\n",
      "2/2 [==============================] - 0s 143ms/step - loss: 0.3346 - categorical_accuracy: 0.8750\n",
      "652/652 [==============================] - 139s 213ms/step - loss: 0.0412 - categorical_accuracy: 0.9875 - val_loss: 0.3346 - val_categorical_accuracy: 0.8750\n",
      "Epoch 65/100\n",
      "2/2 [==============================] - 0s 154ms/step - loss: 0.3142 - categorical_accuracy: 0.8125\n",
      "652/652 [==============================] - 139s 213ms/step - loss: 0.0341 - categorical_accuracy: 0.9877 - val_loss: 0.3142 - val_categorical_accuracy: 0.8125\n",
      "Epoch 66/100\n",
      "2/2 [==============================] - 0s 138ms/step - loss: 0.1482 - categorical_accuracy: 0.8750\n",
      "652/652 [==============================] - 139s 213ms/step - loss: 0.0326 - categorical_accuracy: 0.9870 - val_loss: 0.1482 - val_categorical_accuracy: 0.8750\n",
      "Epoch 67/100\n",
      "2/2 [==============================] - 0s 138ms/step - loss: 0.3563 - categorical_accuracy: 0.8750TA: 2s - loss: 0.0465 - catego\n",
      "652/652 [==============================] - 139s 213ms/step - loss: 0.0464 - categorical_accuracy: 0.9837 - val_loss: 0.3563 - val_categorical_accuracy: 0.8750\n",
      "Epoch 68/100\n",
      "2/2 [==============================] - 0s 145ms/step - loss: 0.5722 - categorical_accuracy: 0.8750\n",
      "652/652 [==============================] - 139s 213ms/step - loss: 0.0341 - categorical_accuracy: 0.9877 - val_loss: 0.5722 - val_categorical_accuracy: 0.8750\n",
      "Epoch 69/100\n",
      "2/2 [==============================] - 0s 146ms/step - loss: 0.5004 - categorical_accuracy: 0.8750\n",
      "652/652 [==============================] - 139s 213ms/step - loss: 0.0322 - categorical_accuracy: 0.9881 - val_loss: 0.5004 - val_categorical_accuracy: 0.8750\n",
      "Epoch 70/100\n",
      "2/2 [==============================] - 0s 146ms/step - loss: 0.5049 - categorical_accuracy: 0.8750\n",
      "652/652 [==============================] - 139s 213ms/step - loss: 0.0429 - categorical_accuracy: 0.9835 - val_loss: 0.5049 - val_categorical_accuracy: 0.8750\n",
      "Epoch 71/100\n",
      "2/2 [==============================] - 0s 186ms/step - loss: 0.2855 - categorical_accuracy: 0.8750\n",
      "652/652 [==============================] - 139s 213ms/step - loss: 0.0458 - categorical_accuracy: 0.9835 - val_loss: 0.2855 - val_categorical_accuracy: 0.8750\n",
      "Epoch 72/100\n",
      "2/2 [==============================] - 0s 154ms/step - loss: 1.5429 - categorical_accuracy: 0.6875\n",
      "652/652 [==============================] - 139s 213ms/step - loss: 0.0373 - categorical_accuracy: 0.9877 - val_loss: 1.5429 - val_categorical_accuracy: 0.6875\n",
      "Epoch 73/100\n",
      "2/2 [==============================] - 0s 146ms/step - loss: 0.2362 - categorical_accuracy: 0.8750\n",
      "652/652 [==============================] - 139s 213ms/step - loss: 0.0346 - categorical_accuracy: 0.9873 - val_loss: 0.2362 - val_categorical_accuracy: 0.8750\n",
      "Epoch 74/100\n",
      "2/2 [==============================] - 0s 145ms/step - loss: 1.3151 - categorical_accuracy: 0.8125\n",
      "652/652 [==============================] - 139s 213ms/step - loss: 0.0249 - categorical_accuracy: 0.9893 - val_loss: 1.3151 - val_categorical_accuracy: 0.8125\n",
      "Epoch 75/100\n",
      "2/2 [==============================] - 0s 138ms/step - loss: 0.2166 - categorical_accuracy: 0.9375\n",
      "652/652 [==============================] - 139s 213ms/step - loss: 0.0383 - categorical_accuracy: 0.9858 - val_loss: 0.2166 - val_categorical_accuracy: 0.9375\n",
      "Epoch 76/100\n",
      "2/2 [==============================] - 0s 151ms/step - loss: 0.8116 - categorical_accuracy: 0.8125\n",
      "652/652 [==============================] - 139s 213ms/step - loss: 0.0322 - categorical_accuracy: 0.9906 - val_loss: 0.8116 - val_categorical_accuracy: 0.8125\n",
      "Epoch 77/100\n",
      "2/2 [==============================] - 0s 153ms/step - loss: 0.2830 - categorical_accuracy: 0.8125\n",
      "652/652 [==============================] - 139s 213ms/step - loss: 0.0525 - categorical_accuracy: 0.9852 - val_loss: 0.2830 - val_categorical_accuracy: 0.8125\n",
      "Epoch 78/100\n",
      "2/2 [==============================] - 0s 138ms/step - loss: 0.3234 - categorical_accuracy: 0.8750\n",
      "652/652 [==============================] - 139s 213ms/step - loss: 0.0299 - categorical_accuracy: 0.9910 - val_loss: 0.3234 - val_categorical_accuracy: 0.8750\n",
      "Epoch 79/100\n",
      "2/2 [==============================] - 0s 146ms/step - loss: 2.0755 - categorical_accuracy: 0.6250\n",
      "652/652 [==============================] - 139s 213ms/step - loss: 0.0353 - categorical_accuracy: 0.9889 - val_loss: 2.0755 - val_categorical_accuracy: 0.6250\n",
      "Epoch 80/100\n",
      "2/2 [==============================] - 0s 146ms/step - loss: 0.6370 - categorical_accuracy: 0.7500\n",
      "652/652 [==============================] - 139s 213ms/step - loss: 0.0276 - categorical_accuracy: 0.9893 - val_loss: 0.6370 - val_categorical_accuracy: 0.7500\n",
      "Epoch 81/100\n",
      "2/2 [==============================] - 0s 147ms/step - loss: 1.1989 - categorical_accuracy: 0.6250\n",
      "652/652 [==============================] - 139s 213ms/step - loss: 0.0407 - categorical_accuracy: 0.9866 - val_loss: 1.1989 - val_categorical_accuracy: 0.6250\n",
      "Epoch 82/100\n",
      "2/2 [==============================] - 0s 146ms/step - loss: 0.2586 - categorical_accuracy: 0.8750\n",
      "652/652 [==============================] - 139s 213ms/step - loss: 0.0417 - categorical_accuracy: 0.9860 - val_loss: 0.2586 - val_categorical_accuracy: 0.8750\n",
      "Epoch 83/100\n",
      "2/2 [==============================] - 0s 147ms/step - loss: 0.4220 - categorical_accuracy: 0.8125\n",
      "652/652 [==============================] - 139s 213ms/step - loss: 0.0379 - categorical_accuracy: 0.9875 - val_loss: 0.4220 - val_categorical_accuracy: 0.8125\n",
      "Epoch 84/100\n",
      "2/2 [==============================] - 0s 153ms/step - loss: 1.1660 - categorical_accuracy: 0.8750\n",
      "652/652 [==============================] - 139s 213ms/step - loss: 0.0312 - categorical_accuracy: 0.9900 - val_loss: 1.1660 - val_categorical_accuracy: 0.8750\n",
      "Epoch 85/100\n",
      "2/2 [==============================] - 0s 138ms/step - loss: 0.5338 - categorical_accuracy: 0.8750\n",
      "652/652 [==============================] - 139s 213ms/step - loss: 0.0362 - categorical_accuracy: 0.9877 - val_loss: 0.5338 - val_categorical_accuracy: 0.8750\n",
      "Epoch 86/100\n",
      "2/2 [==============================] - 0s 145ms/step - loss: 4.1403 - categorical_accuracy: 0.6250\n",
      "652/652 [==============================] - 139s 213ms/step - loss: 0.0235 - categorical_accuracy: 0.9923 - val_loss: 4.1403 - val_categorical_accuracy: 0.6250\n",
      "Epoch 87/100\n",
      "2/2 [==============================] - 0s 146ms/step - loss: 1.0080 - categorical_accuracy: 0.6250\n",
      "652/652 [==============================] - 139s 213ms/step - loss: 0.0456 - categorical_accuracy: 0.9850 - val_loss: 1.0080 - val_categorical_accuracy: 0.6250\n",
      "Epoch 88/100\n",
      "2/2 [==============================] - 0s 154ms/step - loss: 0.5831 - categorical_accuracy: 0.8750\n",
      "652/652 [==============================] - 140s 215ms/step - loss: 0.0354 - categorical_accuracy: 0.9881 - val_loss: 0.5831 - val_categorical_accuracy: 0.8750\n",
      "Epoch 89/100\n",
      "2/2 [==============================] - 0s 146ms/step - loss: 0.3335 - categorical_accuracy: 0.8750\n",
      "652/652 [==============================] - 154s 237ms/step - loss: 0.0312 - categorical_accuracy: 0.9877 - val_loss: 0.3335 - val_categorical_accuracy: 0.8750\n",
      "Epoch 90/100\n"
     ]
    },
    {
     "name": "stdout",
     "output_type": "stream",
     "text": [
      "2/2 [==============================] - 0s 155ms/step - loss: 2.3864 - categorical_accuracy: 0.6875\n",
      "652/652 [==============================] - 154s 237ms/step - loss: 0.0203 - categorical_accuracy: 0.9921 - val_loss: 2.3864 - val_categorical_accuracy: 0.6875\n",
      "Epoch 91/100\n",
      "2/2 [==============================] - 0s 147ms/step - loss: 0.4429 - categorical_accuracy: 0.8750\n",
      "652/652 [==============================] - 154s 237ms/step - loss: 0.0390 - categorical_accuracy: 0.9902 - val_loss: 0.4429 - val_categorical_accuracy: 0.8750\n",
      "Epoch 92/100\n",
      "2/2 [==============================] - 0s 146ms/step - loss: 0.2670 - categorical_accuracy: 0.8750\n",
      "652/652 [==============================] - 196s 301ms/step - loss: 0.0295 - categorical_accuracy: 0.9896 - val_loss: 0.2670 - val_categorical_accuracy: 0.8750\n",
      "Epoch 93/100\n",
      "2/2 [==============================] - 1s 485ms/step - loss: 0.2419 - categorical_accuracy: 0.8750\n",
      "652/652 [==============================] - 214s 329ms/step - loss: 0.0258 - categorical_accuracy: 0.9918 - val_loss: 0.2419 - val_categorical_accuracy: 0.8750\n",
      "Epoch 94/100\n",
      "2/2 [==============================] - 0s 150ms/step - loss: 0.6805 - categorical_accuracy: 0.6875\n",
      "652/652 [==============================] - 248s 381ms/step - loss: 0.0253 - categorical_accuracy: 0.9912 - val_loss: 0.6805 - val_categorical_accuracy: 0.6875\n",
      "Epoch 95/100\n",
      "2/2 [==============================] - 0s 155ms/step - loss: 0.9090 - categorical_accuracy: 0.6250\n",
      "652/652 [==============================] - 207s 318ms/step - loss: 0.0319 - categorical_accuracy: 0.9910 - val_loss: 0.9090 - val_categorical_accuracy: 0.6250\n",
      "Epoch 96/100\n",
      "2/2 [==============================] - 0s 162ms/step - loss: 0.5080 - categorical_accuracy: 0.8125\n",
      "652/652 [==============================] - 139s 213ms/step - loss: 0.0290 - categorical_accuracy: 0.9891 - val_loss: 0.5080 - val_categorical_accuracy: 0.8125\n",
      "Epoch 97/100\n",
      "2/2 [==============================] - 0s 171ms/step - loss: 0.3456 - categorical_accuracy: 0.8125\n",
      "652/652 [==============================] - 139s 213ms/step - loss: 0.0282 - categorical_accuracy: 0.9908 - val_loss: 0.3456 - val_categorical_accuracy: 0.8125\n",
      "Epoch 98/100\n",
      "2/2 [==============================] - 0s 155ms/step - loss: 0.8708 - categorical_accuracy: 0.8125\n",
      "652/652 [==============================] - 139s 213ms/step - loss: 0.0205 - categorical_accuracy: 0.9927 - val_loss: 0.8708 - val_categorical_accuracy: 0.8125\n",
      "Epoch 99/100\n",
      "2/2 [==============================] - 0s 179ms/step - loss: 0.5106 - categorical_accuracy: 0.9375\n",
      "652/652 [==============================] - 139s 212ms/step - loss: 0.0276 - categorical_accuracy: 0.9898 - val_loss: 0.5106 - val_categorical_accuracy: 0.9375\n",
      "Epoch 100/100\n",
      "2/2 [==============================] - 0s 162ms/step - loss: 2.1713 - categorical_accuracy: 0.8125\n",
      "652/652 [==============================] - 138s 212ms/step - loss: 0.0347 - categorical_accuracy: 0.9893 - val_loss: 2.1713 - val_categorical_accuracy: 0.8125\n"
     ]
    }
   ],
   "source": [
    "import math\n",
    "\n",
    "history = model.fit_generator(\n",
    "      training_set,\n",
    "      steps_per_epoch=math.ceil(number_of_training_samples//batch_size),\n",
    "      epochs=no_of_epochs,\n",
    "      callbacks=callbacks_list,\n",
    "      validation_data=validation_set,\n",
    "      validation_steps=math.ceil(number_of_validation_samples//batch_size))"
   ]
  },
  {
   "cell_type": "markdown",
   "metadata": {},
   "source": [
    "## Visualizing the Training Process"
   ]
  },
  {
   "cell_type": "code",
   "execution_count": 11,
   "metadata": {},
   "outputs": [
    {
     "data": {
      "image/png": "[encoded data removed]",
      "text/plain": [
       "<Figure size 432x288 with 1 Axes>"
      ]
     },
     "metadata": {
      "needs_background": "light"
     },
     "output_type": "display_data"
    },
    {
     "data": {
      "image/png": "[encoded data removed]",
      "text/plain": [
       "<Figure size 432x288 with 1 Axes>"
      ]
     },
     "metadata": {
      "needs_background": "light"
     },
     "output_type": "display_data"
    }
   ],
   "source": [
    "import matplotlib.pyplot as plt\n",
    "%matplotlib inline\n",
    "\n",
    "acc=history.history['categorical_accuracy']\n",
    "val_acc=history.history['val_categorical_accuracy']\n",
    "loss=history.history['loss']\n",
    "val_loss=history.history['val_loss']\n",
    "epochs=range(1,len(acc)+1)\n",
    "plt.xlabel('Epochs')\n",
    "plt.ylabel('Accuracy')\n",
    "plt.plot(epochs, acc, 'bo', label='Training acc')\n",
    "plt.plot(epochs, val_acc, 'b', label='Validation acc')\n",
    "plt.title('Training and validation accuracy')\n",
    "plt.legend()\n",
    "plt.figure()\n",
    "\n",
    "plt.plot(epochs, loss, 'bo', label='Training loss')\n",
    "plt.plot(epochs, val_loss, 'b', label='Validation loss')\n",
    "plt.title('Training and validation loss')\n",
    "plt.xlabel('Epochs')\n",
    "plt.ylabel('Loss')\n",
    "plt.legend()\n",
    "plt.show()"
   ]
  },
  {
   "cell_type": "markdown",
   "metadata": {},
   "source": [
    "## Loading the Best Model"
   ]
  },
  {
   "cell_type": "code",
   "execution_count": 12,
   "metadata": {},
   "outputs": [],
   "source": [
    "from tensorflow.python.keras.models import load_model\n",
    "\n",
    "best_model = load_model('VGG16_Ten_Percent_Gaussian_Noise_Added_Trained_and_Tested_on_Degraded_CXR.h5')"
   ]
  },
  {
   "cell_type": "markdown",
   "metadata": {},
   "source": [
    "## Evaluating the Best Model"
   ]
  },
  {
   "cell_type": "code",
   "execution_count": 13,
   "metadata": {},
   "outputs": [
    {
     "name": "stdout",
     "output_type": "stream",
     "text": [
      "78/78 [==============================] - 15s 195ms/step - loss: 0.2546 - categorical_accuracy: 0.9311\n",
      "Test-set classification accuracy: 93.11%\n"
     ]
    }
   ],
   "source": [
    "steps_test=int(number_of_test_samples/batch_size)\n",
    "result = best_model.evaluate_generator(test_set, steps=steps_test,verbose=1)\n",
    "print(\"Test-set classification accuracy: {0:.2%}\".format(result[1]))"
   ]
  },
  {
   "cell_type": "markdown",
   "metadata": {},
   "source": [
    "## Calculating Precision, Specificity and Sensitivity (Recall) values for the model\n",
    "*Precision-Recall* is a useful measure of success of prediction when the classes are very imbalanced. High *precision* relates to a low false positive rate, and high *recall* relates to a low false negative rate.\n",
    "\n",
    "Precision is defined as the number of true positives over the number of true positives plus the number of false positives. Recall is defined as the number of true positives over the number of true positives plus the number of false negatives. Please see the [link](https://scikit-learn.org/stable/auto_examples/model_selection/plot_precision_recall.html) for details.\n",
    "\n",
    "Another way of assessing a binary classification model is to compute the *sensitivity* (also called the true positive rate or the recall) and *specificity* (also called the true negative rate) of the model. *Sensitivity* indicates the percentage of sick people who are correctly identified as having the condition. *Specificity* indicates the percentage of healthy people who are correctly identified as not having the condition.\n",
    "\n",
    "But first we prepare our test data, so that later we can draw the *confusion matrix* as well as calculate *precision*, *specificity* and *sensitivity (recall)* of the model."
   ]
  },
  {
   "cell_type": "code",
   "execution_count": 14,
   "metadata": {},
   "outputs": [
    {
     "name": "stdout",
     "output_type": "stream",
     "text": [
      "Total number of test examples:  (624, 150, 150, 3)\n",
      "Total number of labels: (624, 1)\n"
     ]
    }
   ],
   "source": [
    "# Preparing test data\n",
    "import glob\n",
    "from pathlib import Path\n",
    "from tensorflow.python.keras.utils import to_categorical\n",
    "import cv2\n",
    "\n",
    "normal_cases_dir = Path('D:\\\\TensorFlow Programs\\\\Diagnosis of Pneumonia based on Chest X-Rays\\\\new experiments_from 24_08_2019\\\\Pediatric Chest X_Rays_ten_percent_Gaussian_Noise_Added\\\\test\\\\NORMAL')\n",
    "pneumonia_cases_dir = Path('D:\\\\TensorFlow Programs\\\\Diagnosis of Pneumonia based on Chest X-Rays\\\\new experiments_from 24_08_2019\\\\Pediatric Chest X_Rays_ten_percent_Gaussian_Noise_Added\\\\test\\\\PNEUMONIA')\n",
    "\n",
    "normal_cases = normal_cases_dir.glob('*.jpeg')\n",
    "pneumonia_cases = pneumonia_cases_dir.glob('*.jpeg')\n",
    "\n",
    "test_data = []\n",
    "test_labels = []\n",
    "\n",
    "for img in normal_cases:\n",
    "    img = cv2.imread(str(img))\n",
    "    img = cv2.resize(img, (image_width,image_height))\n",
    "    if img.shape[2] ==1:\n",
    "        img = np.dstack([img, img, img])\n",
    "    else:\n",
    "        img = cv2.cvtColor(img, cv2.COLOR_BGR2RGB)\n",
    "    img = img.astype(np.float32)/255.\n",
    "    label = [0]\n",
    "    test_data.append(img)\n",
    "    test_labels.append(label)\n",
    "                      \n",
    "for img in pneumonia_cases:\n",
    "    img = cv2.imread(str(img))\n",
    "    img = cv2.resize(img, (image_width,image_height))\n",
    "    if img.shape[2] ==1:\n",
    "        img = np.dstack([img, img, img])\n",
    "    else:\n",
    "        img = cv2.cvtColor(img, cv2.COLOR_BGR2RGB)\n",
    "    img = img.astype(np.float32)/255.\n",
    "    label = [1]\n",
    "    test_data.append(img)\n",
    "    test_labels.append(label)\n",
    "    \n",
    "\n",
    "test_data = np.array(test_data)\n",
    "test_labels = np.array(test_labels)\n",
    "test_labels_one_hot_encoding=to_categorical(test_labels)\n",
    "\n",
    "print(\"Total number of test examples: \", test_data.shape)\n",
    "print(\"Total number of labels:\", test_labels.shape)"
   ]
  },
  {
   "cell_type": "code",
   "execution_count": 15,
   "metadata": {},
   "outputs": [
    {
     "name": "stdout",
     "output_type": "stream",
     "text": [
      "624/624 [==============================] - 5s 7ms/sample - loss: 0.2476 - categorical_accuracy: 0.9343\n",
      "Loss on test set:  0.2476187404715277\n",
      "Accuracy on test set:  0.9342949\n"
     ]
    }
   ],
   "source": [
    "# Evaluation on test dataset\n",
    "\n",
    "test_loss, test_score = best_model.evaluate(test_data, test_labels_one_hot_encoding, batch_size=16)\n",
    "print(\"Loss on test set: \", test_loss)\n",
    "print(\"Accuracy on test set: \", test_score)"
   ]
  },
  {
   "cell_type": "code",
   "execution_count": 16,
   "metadata": {},
   "outputs": [
    {
     "name": "stdout",
     "output_type": "stream",
     "text": [
      "624/624 [==============================] - 4s 6ms/sample\n",
      "(624, 1)\n",
      "(624, 1)\n"
     ]
    }
   ],
   "source": [
    "# Get predictions\n",
    "preds = best_model.predict(test_data, batch_size=16,verbose=1)\n",
    "preds=np.around(preds)\n",
    "orig_test_labels=test_labels\n",
    "predicted_labels=np.argmax(preds,axis=1)\n",
    "predicted_labels=np.reshape(predicted_labels,(624,1))\n",
    "print(predicted_labels.shape)\n",
    "print(orig_test_labels.shape)"
   ]
  },
  {
   "cell_type": "code",
   "execution_count": 17,
   "metadata": {},
   "outputs": [
    {
     "data": {
      "text/plain": [
       "<Figure size 432x288 with 0 Axes>"
      ]
     },
     "metadata": {},
     "output_type": "display_data"
    },
    {
     "data": {
      "image/png": "[encoded data removed]",
      "text/plain": [
       "<Figure size 864x576 with 1 Axes>"
      ]
     },
     "metadata": {
      "needs_background": "light"
     },
     "output_type": "display_data"
    }
   ],
   "source": [
    "import matplotlib.pyplot as plt\n",
    "%matplotlib inline\n",
    "# Get the confusion matrix\n",
    "from sklearn.metrics import confusion_matrix\n",
    "from mlxtend.plotting import plot_confusion_matrix\n",
    "\n",
    "cm  = confusion_matrix(orig_test_labels, predicted_labels)\n",
    "plt.figure()\n",
    "plot_confusion_matrix(cm,figsize=(12,8), hide_ticks=True,cmap=plt.cm.Blues)\n",
    "plt.xticks(range(2), ['Normal', 'Pneumonia'], fontsize=16)\n",
    "plt.yticks(range(2), ['Normal', 'Pneumonia'], fontsize=16)\n",
    "plt.show()"
   ]
  },
  {
   "cell_type": "code",
   "execution_count": 18,
   "metadata": {},
   "outputs": [
    {
     "name": "stdout",
     "output_type": "stream",
     "text": [
      "Sensitivity (Recall) of the model is 0.951\n",
      "Specificity of the model is 0.906\n",
      "Precision of the model is 0.944\n"
     ]
    }
   ],
   "source": [
    "# Calculate Precision and Recall\n",
    "tn, fp, fn, tp = cm.ravel()\n",
    "\n",
    "precision = tp/(tp+fp)\n",
    "recall = tp/(tp+fn)\n",
    "specificity=tn/(tn+fp)\n",
    "\n",
    "print(\"Sensitivity (Recall) of the model is {:.3f}\".format(recall))\n",
    "print(\"Specificity of the model is {:.3f}\".format(specificity))\n",
    "print(\"Precision of the model is {:.3f}\".format(precision))"
   ]
  },
  {
   "cell_type": "markdown",
   "metadata": {},
   "source": [
    "Nice!!! So, this model has a `95.1%` sensitivity (recall), `90.6%` specificity and `94.4%` precision."
   ]
  },
  {
   "cell_type": "markdown",
   "metadata": {},
   "source": [
    "## ROC Curve and AUC for the model\n",
    "**Receiver operating characteristic** curve (a.k.a ROC) is a graphic plot that illustrates the diagnostic ability of a binary classifier system as its discrimination threshold is varied. The critical point here is \"binary classifier\" and \"varying threshold\". **Area Under the Curve** (a.k.a. AUC) is the percentage of the area that is under this ROC curve, ranging between 0 and 1.\n",
    "ROC is a great way to visualize the performance of a binary classifier, and AUC is one single number to summarize a classifier's performance. The higher the AUC is, the better the classifier."
   ]
  },
  {
   "cell_type": "code",
   "execution_count": 19,
   "metadata": {},
   "outputs": [],
   "source": [
    "from sklearn.metrics import roc_curve\n",
    "\n",
    "probs = best_model.predict_proba(test_data)\n",
    "preds = probs[:,1]\n",
    "fpr, tpr, thresholds = roc_curve(test_labels.ravel(), preds)"
   ]
  },
  {
   "cell_type": "code",
   "execution_count": 20,
   "metadata": {},
   "outputs": [],
   "source": [
    "from sklearn.metrics import auc\n",
    "auc_var = auc(fpr, tpr)"
   ]
  },
  {
   "cell_type": "code",
   "execution_count": 21,
   "metadata": {},
   "outputs": [
    {
     "data": {
      "image/png": "[encoded data removed]",
      "text/plain": [
       "<Figure size 432x288 with 1 Axes>"
      ]
     },
     "metadata": {
      "needs_background": "light"
     },
     "output_type": "display_data"
    }
   ],
   "source": [
    "import matplotlib.pyplot as plt\n",
    "%matplotlib inline\n",
    "plt.figure(1)\n",
    "plt.plot([0, 1], [0, 1], 'k--')\n",
    "plt.plot(fpr, tpr, label='VGG16 based model (area = {:.3f})'.format(auc_var))\n",
    "plt.xlabel('False positive rate')\n",
    "plt.ylabel('True positive rate')\n",
    "plt.title('ROC curve')\n",
    "plt.legend(loc='best')\n",
    "plt.show()"
   ]
  },
  {
   "cell_type": "markdown",
   "metadata": {},
   "source": [
    "## Precision-Recall Curve for the Model"
   ]
  },
  {
   "cell_type": "code",
   "execution_count": 22,
   "metadata": {},
   "outputs": [],
   "source": [
    "from sklearn.metrics import precision_recall_curve\n",
    "from sklearn.metrics import f1_score\n",
    "from sklearn.metrics import average_precision_score"
   ]
  },
  {
   "cell_type": "code",
   "execution_count": 23,
   "metadata": {},
   "outputs": [],
   "source": [
    "precision, recall, thresholds = precision_recall_curve(test_labels.ravel(), preds)"
   ]
  },
  {
   "cell_type": "code",
   "execution_count": 24,
   "metadata": {},
   "outputs": [],
   "source": [
    "auc_var2 = auc(recall, precision)"
   ]
  },
  {
   "cell_type": "code",
   "execution_count": 25,
   "metadata": {},
   "outputs": [
    {
     "data": {
      "image/png": "[encoded data removed]",
      "text/plain": [
       "<Figure size 432x288 with 1 Axes>"
      ]
     },
     "metadata": {
      "needs_background": "light"
     },
     "output_type": "display_data"
    }
   ],
   "source": [
    "plt.figure()\n",
    "plt.plot(recall, precision, label='VGG16 based model (area = {:.3f})'.format(auc_var2))\n",
    "plt.xlabel('Recall')\n",
    "plt.ylabel('Precision')\n",
    "plt.title('Precision-Recall curve')\n",
    "plt.legend(loc='best')\n",
    "plt.show()"
   ]
  },
  {
   "cell_type": "code",
   "execution_count": 26,
   "metadata": {},
   "outputs": [
    {
     "name": "stdout",
     "output_type": "stream",
     "text": [
      "Average Precision Score: 0.987\n"
     ]
    }
   ],
   "source": [
    "print('Average Precision Score: {:.3f}'.format(average_precision_score(test_labels.ravel(), preds)))"
   ]
  },
  {
   "cell_type": "code",
   "execution_count": 27,
   "metadata": {},
   "outputs": [
    {
     "name": "stdout",
     "output_type": "stream",
     "text": [
      "F1 Score: 0.948\n"
     ]
    }
   ],
   "source": [
    "print(\"F1 Score: {:.3f}\".format(f1_score(test_labels.ravel(),predicted_labels.ravel())))"
   ]
  }
 ],
 "metadata": {
  "kernelspec": {
   "display_name": "Python 3",
   "language": "python",
   "name": "python3"
  },
  "language_info": {
   "codemirror_mode": {
    "name": "ipython",
    "version": 3
   },
   "file_extension": ".py",
   "mimetype": "text/x-python",
   "name": "python",
   "nbconvert_exporter": "python",
   "pygments_lexer": "ipython3",
   "version": "3.6.8"
  }
 },
 "nbformat": 4,
 "nbformat_minor": 2
}
