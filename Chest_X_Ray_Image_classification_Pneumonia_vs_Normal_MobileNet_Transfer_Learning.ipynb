{
 "cells": [
  {
   "cell_type": "markdown",
   "metadata": {},
   "source": [
    "# Automated Chest X-ray based Pneumonia Diagnosis using Data Augmentation and MobileNet based Transfer Learning \n",
    "The author of this notebook is **Dr Raheel Siddiqi** on *31-08-2019*. He is a *Senior Assistant Professor* at Bahria University, Karachi Campus, Pakistan. His research interests include *Medical Imaging*, *Computer Vision* and *Deep Learning*.\n",
    "\n",
    "The objective of the experiment (presented in this notebook) is to evaluate the effectiveness of **MobileNet** pre-trained model when employed to diagnose Pneumonia (based on Chest X-ray images). The diagnosis process comprises of classifying Chest X-ray images into one of the two classes: (a) Normal, (b) Pneumonia.\n",
    "\n",
    "The dataset is downloded from [kaggle.com](https://www.kaggle.com/paultimothymooney/chest-xray-pneumonia). The dataset contains 5,863 X-Ray images (JPEG) and 2 categories (Pneumonia/Normal)."
   ]
  },
  {
   "cell_type": "markdown",
   "metadata": {},
   "source": [
    "## Tensorflow and Keras version used"
   ]
  },
  {
   "cell_type": "code",
   "execution_count": 1,
   "metadata": {},
   "outputs": [
    {
     "name": "stdout",
     "output_type": "stream",
     "text": [
      "Tensorflow Version:  1.13.1\n",
      "Keras Version:  2.2.4-tf\n"
     ]
    }
   ],
   "source": [
    "import tensorflow as tf\n",
    "from tensorflow.python import keras\n",
    "\n",
    "print('Tensorflow Version: ', tf.__version__)\n",
    "print('Keras Version: ', keras.__version__)"
   ]
  },
  {
   "cell_type": "markdown",
   "metadata": {},
   "source": [
    "## Setting up the Model"
   ]
  },
  {
   "cell_type": "code",
   "execution_count": 2,
   "metadata": {},
   "outputs": [
    {
     "name": "stdout",
     "output_type": "stream",
     "text": [
      "WARNING:tensorflow:From C:\\Users\\Raheel\\Anaconda3\\envs\\EnvName\\lib\\site-packages\\tensorflow\\python\\ops\\resource_variable_ops.py:435: colocate_with (from tensorflow.python.framework.ops) is deprecated and will be removed in a future version.\n",
      "Instructions for updating:\n",
      "Colocations handled automatically by placer.\n"
     ]
    },
    {
     "name": "stderr",
     "output_type": "stream",
     "text": [
      "C:\\Users\\Raheel\\Anaconda3\\envs\\EnvName\\lib\\site-packages\\keras_applications\\mobilenet.py:207: UserWarning: `input_shape` is undefined or non-square, or `rows` is not in [128, 160, 192, 224]. Weights for input shape (224, 224) will be loaded as the default.\n",
      "  warnings.warn('`input_shape` is undefined or non-square, '\n"
     ]
    }
   ],
   "source": [
    "from tensorflow.python.keras.applications import MobileNet\n",
    "\n",
    "conv_base=MobileNet(weights='imagenet',include_top=False,input_shape=(150,150,3))"
   ]
  },
  {
   "cell_type": "code",
   "execution_count": 3,
   "metadata": {},
   "outputs": [
    {
     "name": "stdout",
     "output_type": "stream",
     "text": [
      "_________________________________________________________________\n",
      "Layer (type)                 Output Shape              Param #   \n",
      "=================================================================\n",
      "input_1 (InputLayer)         (None, 150, 150, 3)       0         \n",
      "_________________________________________________________________\n",
      "conv1_pad (ZeroPadding2D)    (None, 151, 151, 3)       0         \n",
      "_________________________________________________________________\n",
      "conv1 (Conv2D)               (None, 75, 75, 32)        864       \n",
      "_________________________________________________________________\n",
      "conv1_bn (BatchNormalization (None, 75, 75, 32)        128       \n",
      "_________________________________________________________________\n",
      "conv1_relu (ReLU)            (None, 75, 75, 32)        0         \n",
      "_________________________________________________________________\n",
      "conv_dw_1 (DepthwiseConv2D)  (None, 75, 75, 32)        288       \n",
      "_________________________________________________________________\n",
      "conv_dw_1_bn (BatchNormaliza (None, 75, 75, 32)        128       \n",
      "_________________________________________________________________\n",
      "conv_dw_1_relu (ReLU)        (None, 75, 75, 32)        0         \n",
      "_________________________________________________________________\n",
      "conv_pw_1 (Conv2D)           (None, 75, 75, 64)        2048      \n",
      "_________________________________________________________________\n",
      "conv_pw_1_bn (BatchNormaliza (None, 75, 75, 64)        256       \n",
      "_________________________________________________________________\n",
      "conv_pw_1_relu (ReLU)        (None, 75, 75, 64)        0         \n",
      "_________________________________________________________________\n",
      "conv_pad_2 (ZeroPadding2D)   (None, 76, 76, 64)        0         \n",
      "_________________________________________________________________\n",
      "conv_dw_2 (DepthwiseConv2D)  (None, 37, 37, 64)        576       \n",
      "_________________________________________________________________\n",
      "conv_dw_2_bn (BatchNormaliza (None, 37, 37, 64)        256       \n",
      "_________________________________________________________________\n",
      "conv_dw_2_relu (ReLU)        (None, 37, 37, 64)        0         \n",
      "_________________________________________________________________\n",
      "conv_pw_2 (Conv2D)           (None, 37, 37, 128)       8192      \n",
      "_________________________________________________________________\n",
      "conv_pw_2_bn (BatchNormaliza (None, 37, 37, 128)       512       \n",
      "_________________________________________________________________\n",
      "conv_pw_2_relu (ReLU)        (None, 37, 37, 128)       0         \n",
      "_________________________________________________________________\n",
      "conv_dw_3 (DepthwiseConv2D)  (None, 37, 37, 128)       1152      \n",
      "_________________________________________________________________\n",
      "conv_dw_3_bn (BatchNormaliza (None, 37, 37, 128)       512       \n",
      "_________________________________________________________________\n",
      "conv_dw_3_relu (ReLU)        (None, 37, 37, 128)       0         \n",
      "_________________________________________________________________\n",
      "conv_pw_3 (Conv2D)           (None, 37, 37, 128)       16384     \n",
      "_________________________________________________________________\n",
      "conv_pw_3_bn (BatchNormaliza (None, 37, 37, 128)       512       \n",
      "_________________________________________________________________\n",
      "conv_pw_3_relu (ReLU)        (None, 37, 37, 128)       0         \n",
      "_________________________________________________________________\n",
      "conv_pad_4 (ZeroPadding2D)   (None, 38, 38, 128)       0         \n",
      "_________________________________________________________________\n",
      "conv_dw_4 (DepthwiseConv2D)  (None, 18, 18, 128)       1152      \n",
      "_________________________________________________________________\n",
      "conv_dw_4_bn (BatchNormaliza (None, 18, 18, 128)       512       \n",
      "_________________________________________________________________\n",
      "conv_dw_4_relu (ReLU)        (None, 18, 18, 128)       0         \n",
      "_________________________________________________________________\n",
      "conv_pw_4 (Conv2D)           (None, 18, 18, 256)       32768     \n",
      "_________________________________________________________________\n",
      "conv_pw_4_bn (BatchNormaliza (None, 18, 18, 256)       1024      \n",
      "_________________________________________________________________\n",
      "conv_pw_4_relu (ReLU)        (None, 18, 18, 256)       0         \n",
      "_________________________________________________________________\n",
      "conv_dw_5 (DepthwiseConv2D)  (None, 18, 18, 256)       2304      \n",
      "_________________________________________________________________\n",
      "conv_dw_5_bn (BatchNormaliza (None, 18, 18, 256)       1024      \n",
      "_________________________________________________________________\n",
      "conv_dw_5_relu (ReLU)        (None, 18, 18, 256)       0         \n",
      "_________________________________________________________________\n",
      "conv_pw_5 (Conv2D)           (None, 18, 18, 256)       65536     \n",
      "_________________________________________________________________\n",
      "conv_pw_5_bn (BatchNormaliza (None, 18, 18, 256)       1024      \n",
      "_________________________________________________________________\n",
      "conv_pw_5_relu (ReLU)        (None, 18, 18, 256)       0         \n",
      "_________________________________________________________________\n",
      "conv_pad_6 (ZeroPadding2D)   (None, 19, 19, 256)       0         \n",
      "_________________________________________________________________\n",
      "conv_dw_6 (DepthwiseConv2D)  (None, 9, 9, 256)         2304      \n",
      "_________________________________________________________________\n",
      "conv_dw_6_bn (BatchNormaliza (None, 9, 9, 256)         1024      \n",
      "_________________________________________________________________\n",
      "conv_dw_6_relu (ReLU)        (None, 9, 9, 256)         0         \n",
      "_________________________________________________________________\n",
      "conv_pw_6 (Conv2D)           (None, 9, 9, 512)         131072    \n",
      "_________________________________________________________________\n",
      "conv_pw_6_bn (BatchNormaliza (None, 9, 9, 512)         2048      \n",
      "_________________________________________________________________\n",
      "conv_pw_6_relu (ReLU)        (None, 9, 9, 512)         0         \n",
      "_________________________________________________________________\n",
      "conv_dw_7 (DepthwiseConv2D)  (None, 9, 9, 512)         4608      \n",
      "_________________________________________________________________\n",
      "conv_dw_7_bn (BatchNormaliza (None, 9, 9, 512)         2048      \n",
      "_________________________________________________________________\n",
      "conv_dw_7_relu (ReLU)        (None, 9, 9, 512)         0         \n",
      "_________________________________________________________________\n",
      "conv_pw_7 (Conv2D)           (None, 9, 9, 512)         262144    \n",
      "_________________________________________________________________\n",
      "conv_pw_7_bn (BatchNormaliza (None, 9, 9, 512)         2048      \n",
      "_________________________________________________________________\n",
      "conv_pw_7_relu (ReLU)        (None, 9, 9, 512)         0         \n",
      "_________________________________________________________________\n",
      "conv_dw_8 (DepthwiseConv2D)  (None, 9, 9, 512)         4608      \n",
      "_________________________________________________________________\n",
      "conv_dw_8_bn (BatchNormaliza (None, 9, 9, 512)         2048      \n",
      "_________________________________________________________________\n",
      "conv_dw_8_relu (ReLU)        (None, 9, 9, 512)         0         \n",
      "_________________________________________________________________\n",
      "conv_pw_8 (Conv2D)           (None, 9, 9, 512)         262144    \n",
      "_________________________________________________________________\n",
      "conv_pw_8_bn (BatchNormaliza (None, 9, 9, 512)         2048      \n",
      "_________________________________________________________________\n",
      "conv_pw_8_relu (ReLU)        (None, 9, 9, 512)         0         \n",
      "_________________________________________________________________\n",
      "conv_dw_9 (DepthwiseConv2D)  (None, 9, 9, 512)         4608      \n",
      "_________________________________________________________________\n",
      "conv_dw_9_bn (BatchNormaliza (None, 9, 9, 512)         2048      \n",
      "_________________________________________________________________\n",
      "conv_dw_9_relu (ReLU)        (None, 9, 9, 512)         0         \n",
      "_________________________________________________________________\n",
      "conv_pw_9 (Conv2D)           (None, 9, 9, 512)         262144    \n",
      "_________________________________________________________________\n",
      "conv_pw_9_bn (BatchNormaliza (None, 9, 9, 512)         2048      \n",
      "_________________________________________________________________\n",
      "conv_pw_9_relu (ReLU)        (None, 9, 9, 512)         0         \n",
      "_________________________________________________________________\n",
      "conv_dw_10 (DepthwiseConv2D) (None, 9, 9, 512)         4608      \n",
      "_________________________________________________________________\n",
      "conv_dw_10_bn (BatchNormaliz (None, 9, 9, 512)         2048      \n",
      "_________________________________________________________________\n",
      "conv_dw_10_relu (ReLU)       (None, 9, 9, 512)         0         \n",
      "_________________________________________________________________\n",
      "conv_pw_10 (Conv2D)          (None, 9, 9, 512)         262144    \n",
      "_________________________________________________________________\n",
      "conv_pw_10_bn (BatchNormaliz (None, 9, 9, 512)         2048      \n",
      "_________________________________________________________________\n",
      "conv_pw_10_relu (ReLU)       (None, 9, 9, 512)         0         \n",
      "_________________________________________________________________\n",
      "conv_dw_11 (DepthwiseConv2D) (None, 9, 9, 512)         4608      \n",
      "_________________________________________________________________\n",
      "conv_dw_11_bn (BatchNormaliz (None, 9, 9, 512)         2048      \n",
      "_________________________________________________________________\n",
      "conv_dw_11_relu (ReLU)       (None, 9, 9, 512)         0         \n",
      "_________________________________________________________________\n",
      "conv_pw_11 (Conv2D)          (None, 9, 9, 512)         262144    \n",
      "_________________________________________________________________\n",
      "conv_pw_11_bn (BatchNormaliz (None, 9, 9, 512)         2048      \n",
      "_________________________________________________________________\n",
      "conv_pw_11_relu (ReLU)       (None, 9, 9, 512)         0         \n",
      "_________________________________________________________________\n",
      "conv_pad_12 (ZeroPadding2D)  (None, 10, 10, 512)       0         \n",
      "_________________________________________________________________\n",
      "conv_dw_12 (DepthwiseConv2D) (None, 4, 4, 512)         4608      \n",
      "_________________________________________________________________\n",
      "conv_dw_12_bn (BatchNormaliz (None, 4, 4, 512)         2048      \n",
      "_________________________________________________________________\n",
      "conv_dw_12_relu (ReLU)       (None, 4, 4, 512)         0         \n",
      "_________________________________________________________________\n",
      "conv_pw_12 (Conv2D)          (None, 4, 4, 1024)        524288    \n",
      "_________________________________________________________________\n",
      "conv_pw_12_bn (BatchNormaliz (None, 4, 4, 1024)        4096      \n",
      "_________________________________________________________________\n",
      "conv_pw_12_relu (ReLU)       (None, 4, 4, 1024)        0         \n",
      "_________________________________________________________________\n",
      "conv_dw_13 (DepthwiseConv2D) (None, 4, 4, 1024)        9216      \n",
      "_________________________________________________________________\n",
      "conv_dw_13_bn (BatchNormaliz (None, 4, 4, 1024)        4096      \n",
      "_________________________________________________________________\n",
      "conv_dw_13_relu (ReLU)       (None, 4, 4, 1024)        0         \n",
      "_________________________________________________________________\n",
      "conv_pw_13 (Conv2D)          (None, 4, 4, 1024)        1048576   \n",
      "_________________________________________________________________\n",
      "conv_pw_13_bn (BatchNormaliz (None, 4, 4, 1024)        4096      \n",
      "_________________________________________________________________\n",
      "conv_pw_13_relu (ReLU)       (None, 4, 4, 1024)        0         \n",
      "=================================================================\n",
      "Total params: 3,228,864\n",
      "Trainable params: 3,206,976\n",
      "Non-trainable params: 21,888\n",
      "_________________________________________________________________\n"
     ]
    }
   ],
   "source": [
    "conv_base.summary()"
   ]
  },
  {
   "cell_type": "code",
   "execution_count": 4,
   "metadata": {},
   "outputs": [],
   "source": [
    "import os\n",
    "import numpy as np\n",
    "from tensorflow.python.keras.preprocessing.image import ImageDataGenerator\n",
    "from tensorflow.python.keras import models\n",
    "from tensorflow.python.keras import layers\n",
    "from tensorflow.python.keras.callbacks import ModelCheckpoint\n",
    "from tensorflow.python.keras import optimizers\n",
    "\n",
    "model = models.Sequential()\n",
    "model.add(conv_base)\n",
    "model.add(layers.Flatten())\n",
    "model.add(layers.Dense(512, activation='relu'))\n",
    "model.add(layers.Dense(2, activation='softmax'))\n",
    "model.compile(loss='categorical_crossentropy',optimizer=optimizers.Adam(lr=1e-4),metrics=['categorical_accuracy'])\n",
    "filepath=\"MobileNet_Chest_X_Ray_Image_Classification_Pneumonia_vs_Normal_best_model.h5\"\n",
    "checkpoint = ModelCheckpoint(filepath, save_best_only=True)\n",
    "callbacks_list = [checkpoint]"
   ]
  },
  {
   "cell_type": "code",
   "execution_count": 5,
   "metadata": {},
   "outputs": [
    {
     "name": "stdout",
     "output_type": "stream",
     "text": [
      "_________________________________________________________________\n",
      "Layer (type)                 Output Shape              Param #   \n",
      "=================================================================\n",
      "mobilenet_1.00_224 (Model)   (None, 4, 4, 1024)        3228864   \n",
      "_________________________________________________________________\n",
      "flatten (Flatten)            (None, 16384)             0         \n",
      "_________________________________________________________________\n",
      "dense (Dense)                (None, 512)               8389120   \n",
      "_________________________________________________________________\n",
      "dense_1 (Dense)              (None, 2)                 1026      \n",
      "=================================================================\n",
      "Total params: 11,619,010\n",
      "Trainable params: 11,597,122\n",
      "Non-trainable params: 21,888\n",
      "_________________________________________________________________\n"
     ]
    }
   ],
   "source": [
    "model.summary()"
   ]
  },
  {
   "cell_type": "markdown",
   "metadata": {},
   "source": [
    "## Setting up Training and Validation Data for the experiment"
   ]
  },
  {
   "cell_type": "code",
   "execution_count": 6,
   "metadata": {},
   "outputs": [],
   "source": [
    "image_height = 150\n",
    "image_width = 150\n",
    "batch_size = 8\n",
    "no_of_epochs  = 100\n",
    "number_of_training_samples=5216\n",
    "number_of_validation_samples=16\n",
    "number_of_test_samples=624"
   ]
  },
  {
   "cell_type": "code",
   "execution_count": 7,
   "metadata": {},
   "outputs": [],
   "source": [
    "train_dir='D:\\\\TensorFlow Programs\\\\Diagnosis of Pneumonia based on Chest X-Rays\\\\chest-xray-pneumonia\\\\chest_xray\\\\chest_xray\\\\train'\n",
    "validation_dir='D:\\\\TensorFlow Programs\\\\Diagnosis of Pneumonia based on Chest X-Rays\\\\chest-xray-pneumonia\\\\chest_xray\\\\chest_xray\\\\val'\n",
    "test_dir='D:\\\\TensorFlow Programs\\\\Diagnosis of Pneumonia based on Chest X-Rays\\\\chest-xray-pneumonia\\\\chest_xray\\\\chest_xray\\\\test'"
   ]
  },
  {
   "cell_type": "code",
   "execution_count": 8,
   "metadata": {},
   "outputs": [],
   "source": [
    "train_datagen = ImageDataGenerator(rescale=1./255,\n",
    "                                   rotation_range=40,\n",
    "                                   width_shift_range=0.2,\n",
    "                                   height_shift_range=0.2,\n",
    "                                   shear_range=0.2,\n",
    "                                   zoom_range=0.2\n",
    "                                   )\n",
    "\n",
    "validation_datagen = ImageDataGenerator(rescale=1./255)  \n",
    "\n",
    "test_datagen = ImageDataGenerator(rescale=1./255)"
   ]
  },
  {
   "cell_type": "code",
   "execution_count": 9,
   "metadata": {},
   "outputs": [
    {
     "name": "stdout",
     "output_type": "stream",
     "text": [
      "Found 5216 images belonging to 2 classes.\n",
      "Found 16 images belonging to 2 classes.\n",
      "Found 624 images belonging to 2 classes.\n"
     ]
    }
   ],
   "source": [
    "training_set = train_datagen.flow_from_directory(train_dir,target_size=(image_width, image_height),batch_size=batch_size)\n",
    "validation_set = validation_datagen.flow_from_directory(validation_dir,target_size=(image_width, image_height),batch_size=batch_size,shuffle=False)\n",
    "test_set = test_datagen.flow_from_directory(test_dir,target_size=(image_width, image_height),batch_size=batch_size,shuffle=False)"
   ]
  },
  {
   "cell_type": "markdown",
   "metadata": {},
   "source": [
    "## Model Training"
   ]
  },
  {
   "cell_type": "code",
   "execution_count": 10,
   "metadata": {},
   "outputs": [
    {
     "name": "stdout",
     "output_type": "stream",
     "text": [
      "WARNING:tensorflow:From C:\\Users\\Raheel\\Anaconda3\\envs\\EnvName\\lib\\site-packages\\tensorflow\\python\\ops\\math_ops.py:3066: to_int32 (from tensorflow.python.ops.math_ops) is deprecated and will be removed in a future version.\n",
      "Instructions for updating:\n",
      "Use tf.cast instead.\n",
      "Epoch 1/100\n",
      "2/2 [==============================] - 1s 289ms/step - loss: 0.8107 - categorical_accuracy: 0.7500\n",
      "652/652 [==============================] - 143s 219ms/step - loss: 0.3117 - categorical_accuracy: 0.9061 - val_loss: 0.8107 - val_categorical_accuracy: 0.7500\n",
      "Epoch 2/100\n",
      "2/2 [==============================] - 0s 115ms/step - loss: 0.1367 - categorical_accuracy: 1.0000\n",
      "652/652 [==============================] - 91s 140ms/step - loss: 0.1478 - categorical_accuracy: 0.9431 - val_loss: 0.1367 - val_categorical_accuracy: 1.0000\n",
      "Epoch 3/100\n",
      "2/2 [==============================] - 0s 101ms/step - loss: 0.1102 - categorical_accuracy: 0.9375\n",
      "652/652 [==============================] - 95s 146ms/step - loss: 0.1197 - categorical_accuracy: 0.9582 - val_loss: 0.1102 - val_categorical_accuracy: 0.9375\n",
      "Epoch 4/100\n",
      "2/2 [==============================] - 0s 106ms/step - loss: 0.7301 - categorical_accuracy: 0.6250\n",
      "652/652 [==============================] - 93s 142ms/step - loss: 0.1159 - categorical_accuracy: 0.9578 - val_loss: 0.7301 - val_categorical_accuracy: 0.6250\n",
      "Epoch 5/100\n",
      "2/2 [==============================] - 0s 111ms/step - loss: 0.1902 - categorical_accuracy: 0.8750\n",
      "652/652 [==============================] - 93s 142ms/step - loss: 0.0994 - categorical_accuracy: 0.9617 - val_loss: 0.1902 - val_categorical_accuracy: 0.8750\n",
      "Epoch 6/100\n",
      "2/2 [==============================] - 0s 97ms/step - loss: 0.1382 - categorical_accuracy: 0.9375\n",
      "652/652 [==============================] - 97s 149ms/step - loss: 0.0900 - categorical_accuracy: 0.9670 - val_loss: 0.1382 - val_categorical_accuracy: 0.9375\n",
      "Epoch 7/100\n",
      "2/2 [==============================] - 0s 98ms/step - loss: 0.1530 - categorical_accuracy: 1.0000\n",
      "652/652 [==============================] - 94s 144ms/step - loss: 0.0837 - categorical_accuracy: 0.9693 - val_loss: 0.1530 - val_categorical_accuracy: 1.0000\n",
      "Epoch 8/100\n",
      "2/2 [==============================] - 0s 97ms/step - loss: 0.1821 - categorical_accuracy: 0.9375\n",
      "652/652 [==============================] - 89s 137ms/step - loss: 0.0750 - categorical_accuracy: 0.9703 - val_loss: 0.1821 - val_categorical_accuracy: 0.9375\n",
      "Epoch 9/100\n",
      "2/2 [==============================] - 0s 99ms/step - loss: 0.5141 - categorical_accuracy: 0.6250\n",
      "652/652 [==============================] - 89s 137ms/step - loss: 0.0817 - categorical_accuracy: 0.9714 - val_loss: 0.5141 - val_categorical_accuracy: 0.6250\n",
      "Epoch 10/100\n",
      "2/2 [==============================] - 0s 95ms/step - loss: 0.1643 - categorical_accuracy: 0.8750\n",
      "652/652 [==============================] - 89s 137ms/step - loss: 0.0815 - categorical_accuracy: 0.9739 - val_loss: 0.1643 - val_categorical_accuracy: 0.8750\n",
      "Epoch 11/100\n",
      "2/2 [==============================] - 0s 97ms/step - loss: 0.3451 - categorical_accuracy: 0.7500\n",
      "652/652 [==============================] - 86s 133ms/step - loss: 0.0766 - categorical_accuracy: 0.9726 - val_loss: 0.3451 - val_categorical_accuracy: 0.7500\n",
      "Epoch 12/100\n",
      "2/2 [==============================] - 0s 89ms/step - loss: 0.1722 - categorical_accuracy: 0.8750\n",
      "652/652 [==============================] - 88s 134ms/step - loss: 0.0733 - categorical_accuracy: 0.9781 - val_loss: 0.1722 - val_categorical_accuracy: 0.8750\n",
      "Epoch 13/100\n",
      "2/2 [==============================] - 0s 89ms/step - loss: 0.1992 - categorical_accuracy: 0.8750\n",
      "652/652 [==============================] - 88s 134ms/step - loss: 0.0645 - categorical_accuracy: 0.9739 - val_loss: 0.1992 - val_categorical_accuracy: 0.8750\n",
      "Epoch 14/100\n",
      "2/2 [==============================] - 0s 94ms/step - loss: 0.0313 - categorical_accuracy: 1.0000\n",
      "652/652 [==============================] - 88s 134ms/step - loss: 0.0784 - categorical_accuracy: 0.9703 - val_loss: 0.0313 - val_categorical_accuracy: 1.0000\n",
      "Epoch 15/100\n",
      "2/2 [==============================] - 0s 102ms/step - loss: 0.1934 - categorical_accuracy: 0.9375\n",
      "652/652 [==============================] - 86s 133ms/step - loss: 0.0613 - categorical_accuracy: 0.9783 - val_loss: 0.1934 - val_categorical_accuracy: 0.9375\n",
      "Epoch 16/100\n",
      "2/2 [==============================] - 0s 94ms/step - loss: 0.2690 - categorical_accuracy: 0.8125\n",
      "652/652 [==============================] - 87s 133ms/step - loss: 0.0606 - categorical_accuracy: 0.9774 - val_loss: 0.2690 - val_categorical_accuracy: 0.8125\n",
      "Epoch 17/100\n",
      "2/2 [==============================] - 0s 96ms/step - loss: 0.1292 - categorical_accuracy: 0.9375\n",
      "652/652 [==============================] - 88s 135ms/step - loss: 0.0569 - categorical_accuracy: 0.9797 - val_loss: 0.1292 - val_categorical_accuracy: 0.9375\n",
      "Epoch 18/100\n",
      "2/2 [==============================] - 0s 111ms/step - loss: 0.3541 - categorical_accuracy: 0.9375\n",
      "652/652 [==============================] - 88s 135ms/step - loss: 0.0543 - categorical_accuracy: 0.9829 - val_loss: 0.3541 - val_categorical_accuracy: 0.9375\n",
      "Epoch 19/100\n",
      "2/2 [==============================] - 0s 97ms/step - loss: 0.3689 - categorical_accuracy: 0.8750\n",
      "652/652 [==============================] - 88s 135ms/step - loss: 0.0573 - categorical_accuracy: 0.9806 - val_loss: 0.3689 - val_categorical_accuracy: 0.8750\n",
      "Epoch 20/100\n",
      "2/2 [==============================] - 0s 93ms/step - loss: 0.2774 - categorical_accuracy: 0.9375\n",
      "652/652 [==============================] - 89s 137ms/step - loss: 0.0670 - categorical_accuracy: 0.9785 - val_loss: 0.2774 - val_categorical_accuracy: 0.9375\n",
      "Epoch 21/100\n",
      "2/2 [==============================] - 0s 89ms/step - loss: 0.1118 - categorical_accuracy: 1.0000\n",
      "652/652 [==============================] - 87s 134ms/step - loss: 0.0624 - categorical_accuracy: 0.9789 - val_loss: 0.1118 - val_categorical_accuracy: 1.0000\n",
      "Epoch 22/100\n",
      "2/2 [==============================] - 0s 97ms/step - loss: 0.1482 - categorical_accuracy: 0.9375\n",
      "652/652 [==============================] - 86s 132ms/step - loss: 0.0570 - categorical_accuracy: 0.9833 - val_loss: 0.1482 - val_categorical_accuracy: 0.9375\n",
      "Epoch 23/100\n",
      "2/2 [==============================] - 0s 97ms/step - loss: 0.1109 - categorical_accuracy: 0.9375\n",
      "652/652 [==============================] - 87s 134ms/step - loss: 0.0551 - categorical_accuracy: 0.9818 - val_loss: 0.1109 - val_categorical_accuracy: 0.9375\n",
      "Epoch 24/100\n",
      "2/2 [==============================] - 0s 97ms/step - loss: 0.0468 - categorical_accuracy: 1.0000\n",
      "652/652 [==============================] - 87s 133ms/step - loss: 0.0443 - categorical_accuracy: 0.9850 - val_loss: 0.0468 - val_categorical_accuracy: 1.0000\n",
      "Epoch 25/100\n",
      "2/2 [==============================] - 0s 103ms/step - loss: 0.1292 - categorical_accuracy: 0.8750\n",
      "652/652 [==============================] - 87s 134ms/step - loss: 0.0521 - categorical_accuracy: 0.9856 - val_loss: 0.1292 - val_categorical_accuracy: 0.8750\n",
      "Epoch 26/100\n",
      "2/2 [==============================] - 0s 97ms/step - loss: 0.1523 - categorical_accuracy: 0.9375\n",
      "652/652 [==============================] - 87s 134ms/step - loss: 0.0473 - categorical_accuracy: 0.9835 - val_loss: 0.1523 - val_categorical_accuracy: 0.9375\n",
      "Epoch 27/100\n",
      "2/2 [==============================] - 0s 96ms/step - loss: 0.1190 - categorical_accuracy: 0.9375\n",
      "652/652 [==============================] - 88s 135ms/step - loss: 0.0449 - categorical_accuracy: 0.9854 - val_loss: 0.1190 - val_categorical_accuracy: 0.9375\n",
      "Epoch 28/100\n",
      "2/2 [==============================] - 0s 101ms/step - loss: 0.8042 - categorical_accuracy: 0.7500\n",
      "652/652 [==============================] - 87s 134ms/step - loss: 0.0474 - categorical_accuracy: 0.9854 - val_loss: 0.8042 - val_categorical_accuracy: 0.7500\n",
      "Epoch 29/100\n",
      "2/2 [==============================] - 0s 94ms/step - loss: 0.0859 - categorical_accuracy: 1.0000\n",
      "652/652 [==============================] - 89s 137ms/step - loss: 0.0426 - categorical_accuracy: 0.9850 - val_loss: 0.0859 - val_categorical_accuracy: 1.0000\n",
      "Epoch 30/100\n",
      "2/2 [==============================] - 0s 95ms/step - loss: 0.1672 - categorical_accuracy: 0.8750\n",
      "652/652 [==============================] - 86s 133ms/step - loss: 0.0461 - categorical_accuracy: 0.9850 - val_loss: 0.1672 - val_categorical_accuracy: 0.8750\n"
     ]
    },
    {
     "name": "stdout",
     "output_type": "stream",
     "text": [
      "Epoch 31/100\n",
      "2/2 [==============================] - 0s 97ms/step - loss: 0.0359 - categorical_accuracy: 1.0000\n",
      "652/652 [==============================] - 87s 133ms/step - loss: 0.0475 - categorical_accuracy: 0.9843 - val_loss: 0.0359 - val_categorical_accuracy: 1.0000\n",
      "Epoch 32/100\n",
      "2/2 [==============================] - 0s 86ms/step - loss: 0.0072 - categorical_accuracy: 1.0000\n",
      "652/652 [==============================] - 88s 135ms/step - loss: 0.0313 - categorical_accuracy: 0.9895 - val_loss: 0.0072 - val_categorical_accuracy: 1.0000\n",
      "Epoch 33/100\n",
      "2/2 [==============================] - 0s 93ms/step - loss: 0.0450 - categorical_accuracy: 1.0000\n",
      "652/652 [==============================] - 86s 132ms/step - loss: 0.0327 - categorical_accuracy: 0.9877 - val_loss: 0.0450 - val_categorical_accuracy: 1.0000\n",
      "Epoch 34/100\n",
      "2/2 [==============================] - 0s 92ms/step - loss: 0.9351 - categorical_accuracy: 0.6875\n",
      "652/652 [==============================] - 86s 132ms/step - loss: 0.0459 - categorical_accuracy: 0.9887 - val_loss: 0.9351 - val_categorical_accuracy: 0.6875\n",
      "Epoch 35/100\n",
      "2/2 [==============================] - 0s 99ms/step - loss: 0.0573 - categorical_accuracy: 1.0000\n",
      "652/652 [==============================] - 87s 133ms/step - loss: 0.0638 - categorical_accuracy: 0.9818 - val_loss: 0.0573 - val_categorical_accuracy: 1.0000\n",
      "Epoch 36/100\n",
      "2/2 [==============================] - 0s 100ms/step - loss: 0.1650 - categorical_accuracy: 0.9375\n",
      "652/652 [==============================] - 87s 133ms/step - loss: 0.0391 - categorical_accuracy: 0.9873 - val_loss: 0.1650 - val_categorical_accuracy: 0.9375\n",
      "Epoch 37/100\n",
      "2/2 [==============================] - 0s 97ms/step - loss: 0.1225 - categorical_accuracy: 0.9375\n",
      "652/652 [==============================] - 87s 133ms/step - loss: 0.0338 - categorical_accuracy: 0.9881 - val_loss: 0.1225 - val_categorical_accuracy: 0.9375\n",
      "Epoch 38/100\n",
      "2/2 [==============================] - 0s 102ms/step - loss: 0.0777 - categorical_accuracy: 0.9375\n",
      "652/652 [==============================] - 86s 132ms/step - loss: 0.0309 - categorical_accuracy: 0.9885 - val_loss: 0.0777 - val_categorical_accuracy: 0.9375\n",
      "Epoch 39/100\n",
      "2/2 [==============================] - 0s 96ms/step - loss: 0.0814 - categorical_accuracy: 1.0000\n",
      "652/652 [==============================] - 87s 134ms/step - loss: 0.0234 - categorical_accuracy: 0.9912 - val_loss: 0.0814 - val_categorical_accuracy: 1.0000\n",
      "Epoch 40/100\n",
      "2/2 [==============================] - 0s 101ms/step - loss: 0.0845 - categorical_accuracy: 0.9375\n",
      "652/652 [==============================] - 87s 134ms/step - loss: 0.0385 - categorical_accuracy: 0.9868 - val_loss: 0.0845 - val_categorical_accuracy: 0.9375\n",
      "Epoch 41/100\n",
      "2/2 [==============================] - 0s 94ms/step - loss: 0.1133 - categorical_accuracy: 0.9375\n",
      "652/652 [==============================] - 86s 133ms/step - loss: 0.0381 - categorical_accuracy: 0.9891 - val_loss: 0.1133 - val_categorical_accuracy: 0.9375\n",
      "Epoch 42/100\n",
      "2/2 [==============================] - 0s 100ms/step - loss: 0.0187 - categorical_accuracy: 1.0000\n",
      "652/652 [==============================] - 88s 134ms/step - loss: 0.0300 - categorical_accuracy: 0.9877 - val_loss: 0.0187 - val_categorical_accuracy: 1.0000\n",
      "Epoch 43/100\n",
      "2/2 [==============================] - 0s 98ms/step - loss: 0.0143 - categorical_accuracy: 1.0000\n",
      "652/652 [==============================] - 87s 133ms/step - loss: 0.0292 - categorical_accuracy: 0.9904 - val_loss: 0.0143 - val_categorical_accuracy: 1.0000\n",
      "Epoch 44/100\n",
      "2/2 [==============================] - 0s 102ms/step - loss: 0.1196 - categorical_accuracy: 0.8750\n",
      "652/652 [==============================] - 86s 132ms/step - loss: 0.0289 - categorical_accuracy: 0.9912 - val_loss: 0.1196 - val_categorical_accuracy: 0.8750\n",
      "Epoch 45/100\n",
      "2/2 [==============================] - 0s 97ms/step - loss: 0.0131 - categorical_accuracy: 1.0000\n",
      "652/652 [==============================] - 87s 133ms/step - loss: 0.0276 - categorical_accuracy: 0.9919 - val_loss: 0.0131 - val_categorical_accuracy: 1.0000\n",
      "Epoch 46/100\n",
      "2/2 [==============================] - 0s 95ms/step - loss: 0.0098 - categorical_accuracy: 1.0000\n",
      "652/652 [==============================] - 87s 133ms/step - loss: 0.0408 - categorical_accuracy: 0.9872 - val_loss: 0.0098 - val_categorical_accuracy: 1.0000\n",
      "Epoch 47/100\n",
      "2/2 [==============================] - 0s 98ms/step - loss: 0.0288 - categorical_accuracy: 1.0000\n",
      "652/652 [==============================] - 87s 133ms/step - loss: 0.0273 - categorical_accuracy: 0.9918 - val_loss: 0.0288 - val_categorical_accuracy: 1.0000\n",
      "Epoch 48/100\n",
      "2/2 [==============================] - 0s 100ms/step - loss: 0.0281 - categorical_accuracy: 1.0000\n",
      "652/652 [==============================] - 87s 133ms/step - loss: 0.0244 - categorical_accuracy: 0.9925 - val_loss: 0.0281 - val_categorical_accuracy: 1.0000\n",
      "Epoch 49/100\n",
      "2/2 [==============================] - 0s 93ms/step - loss: 0.0105 - categorical_accuracy: 1.0000\n",
      "652/652 [==============================] - 87s 133ms/step - loss: 0.0282 - categorical_accuracy: 0.9898 - val_loss: 0.0105 - val_categorical_accuracy: 1.0000\n",
      "Epoch 50/100\n",
      "2/2 [==============================] - 0s 100ms/step - loss: 0.0772 - categorical_accuracy: 0.9375\n",
      "652/652 [==============================] - 87s 134ms/step - loss: 0.0283 - categorical_accuracy: 0.9902 - val_loss: 0.0772 - val_categorical_accuracy: 0.9375\n",
      "Epoch 51/100\n",
      "2/2 [==============================] - 0s 99ms/step - loss: 0.0077 - categorical_accuracy: 1.0000\n",
      "652/652 [==============================] - 87s 133ms/step - loss: 0.0346 - categorical_accuracy: 0.9891 - val_loss: 0.0077 - val_categorical_accuracy: 1.0000\n",
      "Epoch 52/100\n",
      "2/2 [==============================] - 0s 108ms/step - loss: 0.0599 - categorical_accuracy: 1.0000\n",
      "652/652 [==============================] - 86s 132ms/step - loss: 0.0233 - categorical_accuracy: 0.9918 - val_loss: 0.0599 - val_categorical_accuracy: 1.0000\n",
      "Epoch 53/100\n",
      "2/2 [==============================] - 0s 93ms/step - loss: 0.7338 - categorical_accuracy: 0.6250\n",
      "652/652 [==============================] - 87s 133ms/step - loss: 0.0278 - categorical_accuracy: 0.9904 - val_loss: 0.7338 - val_categorical_accuracy: 0.6250\n",
      "Epoch 54/100\n",
      "2/2 [==============================] - 0s 97ms/step - loss: 0.0121 - categorical_accuracy: 1.0000\n",
      "652/652 [==============================] - 86s 132ms/step - loss: 0.0257 - categorical_accuracy: 0.9906 - val_loss: 0.0121 - val_categorical_accuracy: 1.0000\n",
      "Epoch 55/100\n",
      "2/2 [==============================] - 0s 96ms/step - loss: 0.0476 - categorical_accuracy: 1.0000\n",
      "652/652 [==============================] - 87s 134ms/step - loss: 0.0231 - categorical_accuracy: 0.9921 - val_loss: 0.0476 - val_categorical_accuracy: 1.0000\n",
      "Epoch 56/100\n",
      "2/2 [==============================] - 0s 105ms/step - loss: 0.0473 - categorical_accuracy: 1.0000\n",
      "652/652 [==============================] - 86s 132ms/step - loss: 0.0224 - categorical_accuracy: 0.9929 - val_loss: 0.0473 - val_categorical_accuracy: 1.0000\n",
      "Epoch 57/100\n",
      "2/2 [==============================] - 0s 93ms/step - loss: 0.0616 - categorical_accuracy: 0.9375\n",
      "652/652 [==============================] - 87s 133ms/step - loss: 0.0286 - categorical_accuracy: 0.9923 - val_loss: 0.0616 - val_categorical_accuracy: 0.9375\n",
      "Epoch 58/100\n",
      "2/2 [==============================] - 0s 98ms/step - loss: 0.0060 - categorical_accuracy: 1.0000\n",
      "652/652 [==============================] - 88s 135ms/step - loss: 0.0208 - categorical_accuracy: 0.9942 - val_loss: 0.0060 - val_categorical_accuracy: 1.0000\n",
      "Epoch 59/100\n",
      "2/2 [==============================] - 0s 89ms/step - loss: 0.0043 - categorical_accuracy: 1.0000\n",
      "652/652 [==============================] - 87s 134ms/step - loss: 0.0215 - categorical_accuracy: 0.9935 - val_loss: 0.0043 - val_categorical_accuracy: 1.0000\n",
      "Epoch 60/100\n",
      "2/2 [==============================] - 0s 94ms/step - loss: 0.0116 - categorical_accuracy: 1.0000\n",
      "652/652 [==============================] - 86s 132ms/step - loss: 0.0535 - categorical_accuracy: 0.9881 - val_loss: 0.0116 - val_categorical_accuracy: 1.0000\n",
      "Epoch 61/100\n"
     ]
    },
    {
     "name": "stdout",
     "output_type": "stream",
     "text": [
      "2/2 [==============================] - 0s 93ms/step - loss: 0.0021 - categorical_accuracy: 1.0000\n",
      "652/652 [==============================] - 88s 134ms/step - loss: 0.0272 - categorical_accuracy: 0.9910 - val_loss: 0.0021 - val_categorical_accuracy: 1.0000\n",
      "Epoch 62/100\n",
      "2/2 [==============================] - 0s 95ms/step - loss: 0.0496 - categorical_accuracy: 1.0000\n",
      "652/652 [==============================] - 86s 132ms/step - loss: 0.0694 - categorical_accuracy: 0.9889 - val_loss: 0.0496 - val_categorical_accuracy: 1.0000\n",
      "Epoch 63/100\n",
      "2/2 [==============================] - 0s 92ms/step - loss: 0.0166 - categorical_accuracy: 1.0000\n",
      "652/652 [==============================] - 87s 133ms/step - loss: 0.0500 - categorical_accuracy: 0.9908 - val_loss: 0.0166 - val_categorical_accuracy: 1.0000\n",
      "Epoch 64/100\n",
      "2/2 [==============================] - 0s 99ms/step - loss: 0.1280 - categorical_accuracy: 0.9375\n",
      "652/652 [==============================] - 86s 132ms/step - loss: 0.0391 - categorical_accuracy: 0.9918 - val_loss: 0.1280 - val_categorical_accuracy: 0.9375\n",
      "Epoch 65/100\n",
      "2/2 [==============================] - 0s 96ms/step - loss: 0.0742 - categorical_accuracy: 0.9375\n",
      "652/652 [==============================] - 88s 135ms/step - loss: 0.0175 - categorical_accuracy: 0.9948 - val_loss: 0.0742 - val_categorical_accuracy: 0.9375\n",
      "Epoch 66/100\n",
      "2/2 [==============================] - 0s 88ms/step - loss: 0.0310 - categorical_accuracy: 1.0000\n",
      "652/652 [==============================] - 88s 135ms/step - loss: 0.0183 - categorical_accuracy: 0.9946 - val_loss: 0.0310 - val_categorical_accuracy: 1.0000\n",
      "Epoch 67/100\n",
      "2/2 [==============================] - 0s 103ms/step - loss: 0.0058 - categorical_accuracy: 1.0000\n",
      "652/652 [==============================] - 87s 134ms/step - loss: 0.0223 - categorical_accuracy: 0.9944 - val_loss: 0.0058 - val_categorical_accuracy: 1.0000\n",
      "Epoch 68/100\n",
      "2/2 [==============================] - 0s 96ms/step - loss: 0.0161 - categorical_accuracy: 1.0000\n",
      "652/652 [==============================] - 86s 132ms/step - loss: 0.0203 - categorical_accuracy: 0.9935 - val_loss: 0.0161 - val_categorical_accuracy: 1.0000\n",
      "Epoch 69/100\n",
      "2/2 [==============================] - 0s 100ms/step - loss: 0.0173 - categorical_accuracy: 1.0000\n",
      "652/652 [==============================] - 86s 132ms/step - loss: 0.0153 - categorical_accuracy: 0.9937 - val_loss: 0.0173 - val_categorical_accuracy: 1.0000\n",
      "Epoch 70/100\n",
      "2/2 [==============================] - 0s 105ms/step - loss: 0.0155 - categorical_accuracy: 1.0000\n",
      "652/652 [==============================] - 86s 132ms/step - loss: 0.0181 - categorical_accuracy: 0.9948 - val_loss: 0.0155 - val_categorical_accuracy: 1.0000\n",
      "Epoch 71/100\n",
      "2/2 [==============================] - 0s 96ms/step - loss: 0.0201 - categorical_accuracy: 1.0000\n",
      "652/652 [==============================] - 87s 133ms/step - loss: 0.0194 - categorical_accuracy: 0.9941 - val_loss: 0.0201 - val_categorical_accuracy: 1.0000\n",
      "Epoch 72/100\n",
      "2/2 [==============================] - 0s 95ms/step - loss: 0.0120 - categorical_accuracy: 1.0000\n",
      "652/652 [==============================] - 87s 133ms/step - loss: 0.0245 - categorical_accuracy: 0.9923 - val_loss: 0.0120 - val_categorical_accuracy: 1.0000\n",
      "Epoch 73/100\n",
      "2/2 [==============================] - 0s 96ms/step - loss: 0.0138 - categorical_accuracy: 1.0000\n",
      "652/652 [==============================] - 86s 132ms/step - loss: 0.0190 - categorical_accuracy: 0.9939 - val_loss: 0.0138 - val_categorical_accuracy: 1.0000\n",
      "Epoch 74/100\n",
      "2/2 [==============================] - 0s 97ms/step - loss: 0.0224 - categorical_accuracy: 1.0000\n",
      "652/652 [==============================] - 87s 133ms/step - loss: 0.0300 - categorical_accuracy: 0.9925 - val_loss: 0.0224 - val_categorical_accuracy: 1.0000\n",
      "Epoch 75/100\n",
      "2/2 [==============================] - 0s 97ms/step - loss: 0.0086 - categorical_accuracy: 1.0000\n",
      "652/652 [==============================] - 87s 134ms/step - loss: 0.0154 - categorical_accuracy: 0.9942 - val_loss: 0.0086 - val_categorical_accuracy: 1.0000\n",
      "Epoch 76/100\n",
      "2/2 [==============================] - 0s 92ms/step - loss: 0.0036 - categorical_accuracy: 1.0000\n",
      "652/652 [==============================] - 87s 133ms/step - loss: 0.0226 - categorical_accuracy: 0.9941 - val_loss: 0.0036 - val_categorical_accuracy: 1.0000\n",
      "Epoch 77/100\n",
      "2/2 [==============================] - 0s 100ms/step - loss: 0.0373 - categorical_accuracy: 1.0000\n",
      "652/652 [==============================] - 86s 132ms/step - loss: 0.0210 - categorical_accuracy: 0.9927 - val_loss: 0.0373 - val_categorical_accuracy: 1.0000\n",
      "Epoch 78/100\n",
      "2/2 [==============================] - 0s 94ms/step - loss: 0.0755 - categorical_accuracy: 1.0000\n",
      "652/652 [==============================] - 86s 132ms/step - loss: 0.0171 - categorical_accuracy: 0.9952 - val_loss: 0.0755 - val_categorical_accuracy: 1.0000\n",
      "Epoch 79/100\n",
      "2/2 [==============================] - 0s 96ms/step - loss: 0.0125 - categorical_accuracy: 1.0000\n",
      "652/652 [==============================] - 87s 134ms/step - loss: 0.0233 - categorical_accuracy: 0.9906 - val_loss: 0.0125 - val_categorical_accuracy: 1.0000\n",
      "Epoch 80/100\n",
      "2/2 [==============================] - 0s 96ms/step - loss: 0.0155 - categorical_accuracy: 1.0000\n",
      "652/652 [==============================] - 87s 133ms/step - loss: 0.0180 - categorical_accuracy: 0.9937 - val_loss: 0.0155 - val_categorical_accuracy: 1.0000\n",
      "Epoch 81/100\n",
      "2/2 [==============================] - 0s 100ms/step - loss: 0.0446 - categorical_accuracy: 1.0000\n",
      "652/652 [==============================] - 87s 133ms/step - loss: 0.0182 - categorical_accuracy: 0.9935 - val_loss: 0.0446 - val_categorical_accuracy: 1.0000\n",
      "Epoch 82/100\n",
      "2/2 [==============================] - 0s 94ms/step - loss: 0.0123 - categorical_accuracy: 1.0000\n",
      "652/652 [==============================] - 87s 133ms/step - loss: 0.0216 - categorical_accuracy: 0.9942 - val_loss: 0.0123 - val_categorical_accuracy: 1.0000\n",
      "Epoch 83/100\n",
      "2/2 [==============================] - 0s 92ms/step - loss: 0.0144 - categorical_accuracy: 1.0000\n",
      "652/652 [==============================] - 86s 133ms/step - loss: 0.0262 - categorical_accuracy: 0.9916 - val_loss: 0.0144 - val_categorical_accuracy: 1.0000\n",
      "Epoch 84/100\n",
      "2/2 [==============================] - 0s 89ms/step - loss: 0.0079 - categorical_accuracy: 1.0000\n",
      "652/652 [==============================] - 87s 134ms/step - loss: 0.0102 - categorical_accuracy: 0.9958 - val_loss: 0.0079 - val_categorical_accuracy: 1.0000\n",
      "Epoch 85/100\n",
      "2/2 [==============================] - 0s 92ms/step - loss: 0.0115 - categorical_accuracy: 1.0000\n",
      "652/652 [==============================] - 86s 133ms/step - loss: 0.0213 - categorical_accuracy: 0.9921 - val_loss: 0.0115 - val_categorical_accuracy: 1.0000\n",
      "Epoch 86/100\n",
      "2/2 [==============================] - 0s 100ms/step - loss: 0.0255 - categorical_accuracy: 1.0000\n",
      "652/652 [==============================] - 87s 133ms/step - loss: 0.0194 - categorical_accuracy: 0.9950 - val_loss: 0.0255 - val_categorical_accuracy: 1.0000\n",
      "Epoch 87/100\n",
      "2/2 [==============================] - 0s 99ms/step - loss: 0.0837 - categorical_accuracy: 1.0000\n",
      "652/652 [==============================] - 86s 132ms/step - loss: 0.0189 - categorical_accuracy: 0.9925 - val_loss: 0.0837 - val_categorical_accuracy: 1.0000\n",
      "Epoch 88/100\n",
      "2/2 [==============================] - 0s 100ms/step - loss: 0.0278 - categorical_accuracy: 1.0000\n",
      "652/652 [==============================] - 86s 132ms/step - loss: 0.0145 - categorical_accuracy: 0.9956 - val_loss: 0.0278 - val_categorical_accuracy: 1.0000\n",
      "Epoch 89/100\n",
      "2/2 [==============================] - 0s 90ms/step - loss: 0.0709 - categorical_accuracy: 1.0000\n",
      "652/652 [==============================] - 87s 133ms/step - loss: 0.0197 - categorical_accuracy: 0.9931 - val_loss: 0.0709 - val_categorical_accuracy: 1.0000\n",
      "Epoch 90/100\n",
      "2/2 [==============================] - 0s 102ms/step - loss: 0.0358 - categorical_accuracy: 1.0000\n",
      "652/652 [==============================] - 87s 134ms/step - loss: 0.0131 - categorical_accuracy: 0.9960 - val_loss: 0.0358 - val_categorical_accuracy: 1.0000\n",
      "Epoch 91/100\n",
      "2/2 [==============================] - 0s 93ms/step - loss: 0.0166 - categorical_accuracy: 1.0000\n",
      "652/652 [==============================] - 87s 133ms/step - loss: 0.0248 - categorical_accuracy: 0.9919 - val_loss: 0.0166 - val_categorical_accuracy: 1.0000\n"
     ]
    },
    {
     "name": "stdout",
     "output_type": "stream",
     "text": [
      "Epoch 92/100\n",
      "2/2 [==============================] - 0s 96ms/step - loss: 0.0653 - categorical_accuracy: 0.9375\n",
      "652/652 [==============================] - 86s 131ms/step - loss: 0.0156 - categorical_accuracy: 0.9944 - val_loss: 0.0653 - val_categorical_accuracy: 0.9375\n",
      "Epoch 93/100\n",
      "2/2 [==============================] - 0s 105ms/step - loss: 0.0365 - categorical_accuracy: 1.0000\n",
      "652/652 [==============================] - 87s 133ms/step - loss: 0.0191 - categorical_accuracy: 0.9939 - val_loss: 0.0365 - val_categorical_accuracy: 1.0000\n",
      "Epoch 94/100\n",
      "2/2 [==============================] - 0s 89ms/step - loss: 0.0018 - categorical_accuracy: 1.0000\n",
      "652/652 [==============================] - 87s 134ms/step - loss: 0.0153 - categorical_accuracy: 0.9946 - val_loss: 0.0018 - val_categorical_accuracy: 1.0000\n",
      "Epoch 95/100\n",
      "2/2 [==============================] - 0s 99ms/step - loss: 0.1729 - categorical_accuracy: 0.8750\n",
      "652/652 [==============================] - 87s 133ms/step - loss: 0.0117 - categorical_accuracy: 0.9967 - val_loss: 0.1729 - val_categorical_accuracy: 0.8750\n",
      "Epoch 96/100\n",
      "2/2 [==============================] - 0s 94ms/step - loss: 1.4992e-04 - categorical_accuracy: 1.0000\n",
      "652/652 [==============================] - 87s 134ms/step - loss: 0.0283 - categorical_accuracy: 0.9929 - val_loss: 1.4992e-04 - val_categorical_accuracy: 1.0000\n",
      "Epoch 97/100\n",
      "2/2 [==============================] - 0s 93ms/step - loss: 0.0718 - categorical_accuracy: 1.0000\n",
      "652/652 [==============================] - 89s 136ms/step - loss: 0.0787 - categorical_accuracy: 0.9883 - val_loss: 0.0718 - val_categorical_accuracy: 1.0000\n",
      "Epoch 98/100\n",
      "2/2 [==============================] - 0s 94ms/step - loss: 0.0051 - categorical_accuracy: 1.0000\n",
      "652/652 [==============================] - 87s 133ms/step - loss: 0.0129 - categorical_accuracy: 0.9969 - val_loss: 0.0051 - val_categorical_accuracy: 1.0000\n",
      "Epoch 99/100\n",
      "2/2 [==============================] - 0s 98ms/step - loss: 0.0040 - categorical_accuracy: 1.0000\n",
      "652/652 [==============================] - 86s 132ms/step - loss: 0.0144 - categorical_accuracy: 0.9967 - val_loss: 0.0040 - val_categorical_accuracy: 1.0000\n",
      "Epoch 100/100\n",
      "2/2 [==============================] - 0s 92ms/step - loss: 0.0046 - categorical_accuracy: 1.0000\n",
      "652/652 [==============================] - 86s 131ms/step - loss: 0.0231 - categorical_accuracy: 0.9960 - val_loss: 0.0046 - val_categorical_accuracy: 1.0000\n"
     ]
    }
   ],
   "source": [
    "import math\n",
    "\n",
    "history = model.fit_generator(\n",
    "      training_set,\n",
    "      steps_per_epoch=math.ceil(number_of_training_samples//batch_size),\n",
    "      epochs=no_of_epochs,\n",
    "      callbacks=callbacks_list,\n",
    "      validation_data=validation_set,\n",
    "      validation_steps=math.ceil(number_of_validation_samples//batch_size))"
   ]
  },
  {
   "cell_type": "markdown",
   "metadata": {},
   "source": [
    "## Visualizing the Training Process"
   ]
  },
  {
   "cell_type": "code",
   "execution_count": 11,
   "metadata": {},
   "outputs": [
    {
     "data": {
      "image/png": "[encoded data removed]",
      "text/plain": [
       "<Figure size 432x288 with 1 Axes>"
      ]
     },
     "metadata": {
      "needs_background": "light"
     },
     "output_type": "display_data"
    },
    {
     "data": {
      "image/png": "[encoded data removed]",
      "text/plain": [
       "<Figure size 432x288 with 1 Axes>"
      ]
     },
     "metadata": {
      "needs_background": "light"
     },
     "output_type": "display_data"
    }
   ],
   "source": [
    "import matplotlib.pyplot as plt\n",
    "%matplotlib inline\n",
    "\n",
    "acc=history.history['categorical_accuracy']\n",
    "val_acc=history.history['val_categorical_accuracy']\n",
    "loss=history.history['loss']\n",
    "val_loss=history.history['val_loss']\n",
    "epochs=range(1,len(acc)+1)\n",
    "plt.xlabel('Epochs')\n",
    "plt.ylabel('Accuracy')\n",
    "plt.plot(epochs, acc, 'bo', label='Training acc')\n",
    "plt.plot(epochs, val_acc, 'b', label='Validation acc')\n",
    "plt.title('Training and validation accuracy')\n",
    "plt.legend()\n",
    "plt.figure()\n",
    "\n",
    "plt.plot(epochs, loss, 'bo', label='Training loss')\n",
    "plt.plot(epochs, val_loss, 'b', label='Validation loss')\n",
    "plt.title('Training and validation loss')\n",
    "plt.xlabel('Epochs')\n",
    "plt.ylabel('Loss')\n",
    "plt.legend()\n",
    "plt.show()"
   ]
  },
  {
   "cell_type": "markdown",
   "metadata": {},
   "source": [
    "## Loading the Best Model"
   ]
  },
  {
   "cell_type": "code",
   "execution_count": 12,
   "metadata": {},
   "outputs": [],
   "source": [
    "from tensorflow.python.keras.models import load_model\n",
    "\n",
    "best_model = load_model('MobileNet_Chest_X_Ray_Image_Classification_Pneumonia_vs_Normal_best_model.h5')"
   ]
  },
  {
   "cell_type": "markdown",
   "metadata": {},
   "source": [
    "## Evaluating the Best Model"
   ]
  },
  {
   "cell_type": "code",
   "execution_count": 13,
   "metadata": {},
   "outputs": [
    {
     "name": "stdout",
     "output_type": "stream",
     "text": [
      "78/78 [==============================] - 9s 113ms/step - loss: 0.2982 - categorical_accuracy: 0.94390s - loss: 0.3101 - categorical_accuracy: \n",
      "Test-set classification accuracy: 94.39%\n"
     ]
    }
   ],
   "source": [
    "steps_test=int(number_of_test_samples/batch_size)\n",
    "result = best_model.evaluate_generator(test_set, steps=steps_test,verbose=1)\n",
    "print(\"Test-set classification accuracy: {0:.2%}\".format(result[1]))"
   ]
  },
  {
   "cell_type": "markdown",
   "metadata": {},
   "source": [
    "## Calculating Precision, Specificity and Sensitivity (Recall) values for the model\n",
    "*Precision-Recall* is a useful measure of success of prediction when the classes are very imbalanced. High *precision* relates to a low false positive rate, and high *recall* relates to a low false negative rate.\n",
    "\n",
    "Precision is defined as the number of true positives over the number of true positives plus the number of false positives. Recall is defined as the number of true positives over the number of true positives plus the number of false negatives. Please see the [link](https://scikit-learn.org/stable/auto_examples/model_selection/plot_precision_recall.html) for details.\n",
    "\n",
    "Another way of assessing a binary classification model is to compute the *sensitivity* (also called the true positive rate or the recall) and *specificity* (also called the true negative rate) of the model. *Sensitivity* indicates the percentage of sick people who are correctly identified as having the condition. *Specificity* indicates the percentage of healthy people who are correctly identified as not having the condition.\n",
    "\n",
    "But first we prepare our test data, so that later we can draw the *confusion matrix* as well as calculate *precision*, *specificity* and *sensitivity (recall)* of the model."
   ]
  },
  {
   "cell_type": "code",
   "execution_count": 14,
   "metadata": {},
   "outputs": [
    {
     "name": "stdout",
     "output_type": "stream",
     "text": [
      "Total number of test examples:  (624, 150, 150, 3)\n",
      "Total number of labels: (624, 1)\n"
     ]
    }
   ],
   "source": [
    "# Preparing test data\n",
    "import glob\n",
    "from pathlib import Path\n",
    "from tensorflow.python.keras.utils import to_categorical\n",
    "import cv2\n",
    "\n",
    "normal_cases_dir = Path('D:\\\\TensorFlow Programs\\\\Diagnosis of Pneumonia based on Chest X-Rays\\\\chest-xray-pneumonia\\\\chest_xray\\\\chest_xray\\\\test\\\\NORMAL')\n",
    "pneumonia_cases_dir = Path('D:\\\\TensorFlow Programs\\\\Diagnosis of Pneumonia based on Chest X-Rays\\\\chest-xray-pneumonia\\\\chest_xray\\\\chest_xray\\\\test\\\\PNEUMONIA')\n",
    "\n",
    "normal_cases = normal_cases_dir.glob('*.jpeg')\n",
    "pneumonia_cases = pneumonia_cases_dir.glob('*.jpeg')\n",
    "\n",
    "test_data = []\n",
    "test_labels = []\n",
    "\n",
    "for img in normal_cases:\n",
    "    img = cv2.imread(str(img))\n",
    "    img = cv2.resize(img, (image_width,image_height))\n",
    "    if img.shape[2] ==1:\n",
    "        img = np.dstack([img, img, img])\n",
    "    else:\n",
    "        img = cv2.cvtColor(img, cv2.COLOR_BGR2RGB)\n",
    "    img = img.astype(np.float32)/255.\n",
    "    label = [0]\n",
    "    test_data.append(img)\n",
    "    test_labels.append(label)\n",
    "                      \n",
    "for img in pneumonia_cases:\n",
    "    img = cv2.imread(str(img))\n",
    "    img = cv2.resize(img, (image_width,image_height))\n",
    "    if img.shape[2] ==1:\n",
    "        img = np.dstack([img, img, img])\n",
    "    else:\n",
    "        img = cv2.cvtColor(img, cv2.COLOR_BGR2RGB)\n",
    "    img = img.astype(np.float32)/255.\n",
    "    label = [1]\n",
    "    test_data.append(img)\n",
    "    test_labels.append(label)\n",
    "    \n",
    "\n",
    "test_data = np.array(test_data)\n",
    "test_labels = np.array(test_labels)\n",
    "test_labels_one_hot_encoding=to_categorical(test_labels)\n",
    "\n",
    "print(\"Total number of test examples: \", test_data.shape)\n",
    "print(\"Total number of labels:\", test_labels.shape)"
   ]
  },
  {
   "cell_type": "code",
   "execution_count": 15,
   "metadata": {},
   "outputs": [
    {
     "name": "stdout",
     "output_type": "stream",
     "text": [
      "624/624 [==============================] - 1s 2ms/sample - loss: 0.3046 - categorical_accuracy: 0.9503\n",
      "Loss on test set:  0.3045652020580853\n",
      "Accuracy on test set:  0.95032054\n"
     ]
    }
   ],
   "source": [
    "# Evaluation on test dataset\n",
    "\n",
    "test_loss, test_score = best_model.evaluate(test_data, test_labels_one_hot_encoding, batch_size=16)\n",
    "print(\"Loss on test set: \", test_loss)\n",
    "print(\"Accuracy on test set: \", test_score)"
   ]
  },
  {
   "cell_type": "code",
   "execution_count": 16,
   "metadata": {},
   "outputs": [
    {
     "name": "stdout",
     "output_type": "stream",
     "text": [
      "624/624 [==============================] - 1s 2ms/sample\n",
      "(624, 1)\n",
      "(624, 1)\n"
     ]
    }
   ],
   "source": [
    "# Get predictions\n",
    "preds = best_model.predict(test_data, batch_size=16,verbose=1)\n",
    "preds=np.around(preds)\n",
    "orig_test_labels=test_labels\n",
    "predicted_labels=np.argmax(preds,axis=1)\n",
    "predicted_labels=np.reshape(predicted_labels,(624,1))\n",
    "print(predicted_labels.shape)\n",
    "print(orig_test_labels.shape)"
   ]
  },
  {
   "cell_type": "code",
   "execution_count": 17,
   "metadata": {},
   "outputs": [
    {
     "data": {
      "text/plain": [
       "<Figure size 432x288 with 0 Axes>"
      ]
     },
     "metadata": {},
     "output_type": "display_data"
    },
    {
     "data": {
      "image/png": "[encoded data removed]",
      "text/plain": [
       "<Figure size 864x576 with 1 Axes>"
      ]
     },
     "metadata": {
      "needs_background": "light"
     },
     "output_type": "display_data"
    }
   ],
   "source": [
    "import matplotlib.pyplot as plt\n",
    "%matplotlib inline\n",
    "# Get the confusion matrix\n",
    "from sklearn.metrics import confusion_matrix\n",
    "from mlxtend.plotting import plot_confusion_matrix\n",
    "\n",
    "cm  = confusion_matrix(orig_test_labels, predicted_labels)\n",
    "plt.figure()\n",
    "plot_confusion_matrix(cm,figsize=(12,8), hide_ticks=True,cmap=plt.cm.Blues)\n",
    "plt.xticks(range(2), ['Normal', 'Pneumonia'], fontsize=16)\n",
    "plt.yticks(range(2), ['Normal', 'Pneumonia'], fontsize=16)\n",
    "plt.show()"
   ]
  },
  {
   "cell_type": "code",
   "execution_count": 18,
   "metadata": {},
   "outputs": [
    {
     "name": "stdout",
     "output_type": "stream",
     "text": [
      "Sensitivity (Recall) of the model is 0.982\n",
      "Specificity of the model is 0.897\n",
      "Precision of the model is 0.941\n"
     ]
    }
   ],
   "source": [
    "# Calculate Precision and Recall\n",
    "tn, fp, fn, tp = cm.ravel()\n",
    "\n",
    "precision = tp/(tp+fp)\n",
    "recall = tp/(tp+fn)\n",
    "specificity=tn/(tn+fp)\n",
    "\n",
    "print(\"Sensitivity (Recall) of the model is {:.3f}\".format(recall))\n",
    "print(\"Specificity of the model is {:.3f}\".format(specificity))\n",
    "print(\"Precision of the model is {:.3f}\".format(precision))"
   ]
  },
  {
   "cell_type": "markdown",
   "metadata": {},
   "source": [
    "Nice!!! So, this model has a `98.2%` sensitivity (recall), `89.7%` specificity and `94.1%` precision."
   ]
  },
  {
   "cell_type": "markdown",
   "metadata": {},
   "source": [
    "## ROC Curve and AUC for the model\n",
    "**Receiver operating characteristic** curve (a.k.a ROC) is a graphic plot that illustrates the diagnostic ability of a binary classifier system as its discrimination threshold is varied. The critical point here is \"binary classifier\" and \"varying threshold\". **Area Under the Curve** (a.k.a. AUC) is the percentage of the area that is under this ROC curve, ranging between 0 and 1.\n",
    "ROC is a great way to visualize the performance of a binary classifier, and AUC is one single number to summarize a classifier's performance. The higher the AUC is, the better the classifier."
   ]
  },
  {
   "cell_type": "code",
   "execution_count": 19,
   "metadata": {},
   "outputs": [],
   "source": [
    "from sklearn.metrics import roc_curve\n",
    "\n",
    "probs = best_model.predict_proba(test_data)\n",
    "preds = probs[:,1]\n",
    "fpr, tpr, thresholds = roc_curve(test_labels.ravel(), preds)"
   ]
  },
  {
   "cell_type": "code",
   "execution_count": 20,
   "metadata": {},
   "outputs": [],
   "source": [
    "from sklearn.metrics import auc\n",
    "auc_var = auc(fpr, tpr)"
   ]
  },
  {
   "cell_type": "code",
   "execution_count": 21,
   "metadata": {},
   "outputs": [
    {
     "data": {
      "image/png": "[encoded data removed]",
      "text/plain": [
       "<Figure size 432x288 with 1 Axes>"
      ]
     },
     "metadata": {
      "needs_background": "light"
     },
     "output_type": "display_data"
    }
   ],
   "source": [
    "import matplotlib.pyplot as plt\n",
    "%matplotlib inline\n",
    "plt.figure(1)\n",
    "plt.plot([0, 1], [0, 1], 'k--')\n",
    "plt.plot(fpr, tpr, label='MobileNet based model (area = {:.3f})'.format(auc_var))\n",
    "plt.xlabel('False positive rate')\n",
    "plt.ylabel('True positive rate')\n",
    "plt.title('ROC curve')\n",
    "plt.legend(loc='best')\n",
    "plt.show()"
   ]
  },
  {
   "cell_type": "markdown",
   "metadata": {},
   "source": [
    "## Precision-Recall Curve for the Model"
   ]
  },
  {
   "cell_type": "code",
   "execution_count": 22,
   "metadata": {},
   "outputs": [],
   "source": [
    "from sklearn.metrics import precision_recall_curve\n",
    "from sklearn.metrics import f1_score\n",
    "from sklearn.metrics import average_precision_score"
   ]
  },
  {
   "cell_type": "code",
   "execution_count": 23,
   "metadata": {},
   "outputs": [],
   "source": [
    "precision, recall, thresholds = precision_recall_curve(test_labels.ravel(), preds)"
   ]
  },
  {
   "cell_type": "code",
   "execution_count": 24,
   "metadata": {},
   "outputs": [],
   "source": [
    "auc_var2 = auc(recall, precision)"
   ]
  },
  {
   "cell_type": "code",
   "execution_count": 25,
   "metadata": {},
   "outputs": [
    {
     "data": {
      "image/png": "[encoded data removed]",
      "text/plain": [
       "<Figure size 432x288 with 1 Axes>"
      ]
     },
     "metadata": {
      "needs_background": "light"
     },
     "output_type": "display_data"
    }
   ],
   "source": [
    "plt.figure()\n",
    "plt.plot(recall, precision, label='MobileNet based model (area = {:.3f})'.format(auc_var2))\n",
    "plt.xlabel('Recall')\n",
    "plt.ylabel('Precision')\n",
    "plt.title('Precision-Recall curve')\n",
    "plt.legend(loc='best')\n",
    "plt.show()"
   ]
  },
  {
   "cell_type": "code",
   "execution_count": 26,
   "metadata": {},
   "outputs": [
    {
     "name": "stdout",
     "output_type": "stream",
     "text": [
      "Average Precision Score: 0.992\n"
     ]
    }
   ],
   "source": [
    "print('Average Precision Score: {:.3f}'.format(average_precision_score(test_labels.ravel(), preds)))"
   ]
  },
  {
   "cell_type": "code",
   "execution_count": 27,
   "metadata": {},
   "outputs": [
    {
     "name": "stdout",
     "output_type": "stream",
     "text": [
      "F1 Score: 0.961\n"
     ]
    }
   ],
   "source": [
    "print(\"F1 Score: {:.3f}\".format(f1_score(test_labels.ravel(),predicted_labels.ravel())))"
   ]
  }
 ],
 "metadata": {
  "kernelspec": {
   "display_name": "Python 3",
   "language": "python",
   "name": "python3"
  },
  "language_info": {
   "codemirror_mode": {
    "name": "ipython",
    "version": 3
   },
   "file_extension": ".py",
   "mimetype": "text/x-python",
   "name": "python",
   "nbconvert_exporter": "python",
   "pygments_lexer": "ipython3",
   "version": "3.6.8"
  }
 },
 "nbformat": 4,
 "nbformat_minor": 2
}
