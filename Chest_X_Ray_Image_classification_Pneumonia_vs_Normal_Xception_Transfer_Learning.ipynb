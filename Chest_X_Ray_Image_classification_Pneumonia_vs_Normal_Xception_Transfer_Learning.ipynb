{
 "cells": [
  {
   "cell_type": "markdown",
   "metadata": {},
   "source": [
    "# Automated Chest X-ray based Pneumonia Diagnosis using Data Augmentation and Xception based Transfer Learning \n",
    "The author of this notebook is **Dr Raheel Siddiqi** on *25-08-2019*. He is a *Senior Assistant Professor* at Bahria University, Karachi Campus, Pakistan. His research interests include *Medical Imaging*, *Computer Vision* and *Deep Learning*.\n",
    "\n",
    "The objective of the experiment (presented in this notebook) is to evaluate the effectiveness of **Xception** pre-trained model when employed to diagnose Pneumonia (based on Chest X-ray images). The diagnosis process comprises of classifying Chest X-ray images into one of the two classes: (a) Normal, (b) Pneumonia.\n",
    "\n",
    "The dataset is downloded from [kaggle.com](https://www.kaggle.com/paultimothymooney/chest-xray-pneumonia). The dataset contains 5,863 X-Ray images (JPEG) and 2 categories (Pneumonia/Normal)."
   ]
  },
  {
   "cell_type": "markdown",
   "metadata": {},
   "source": [
    "## Tensorflow and Keras version used"
   ]
  },
  {
   "cell_type": "code",
   "execution_count": 1,
   "metadata": {},
   "outputs": [
    {
     "name": "stdout",
     "output_type": "stream",
     "text": [
      "Tensorflow Version:  1.13.1\n",
      "Keras Version:  2.2.4-tf\n"
     ]
    }
   ],
   "source": [
    "import tensorflow as tf\n",
    "from tensorflow.python import keras\n",
    "\n",
    "print('Tensorflow Version: ', tf.__version__)\n",
    "print('Keras Version: ', keras.__version__)"
   ]
  },
  {
   "cell_type": "markdown",
   "metadata": {},
   "source": [
    "## Setting up the Model"
   ]
  },
  {
   "cell_type": "code",
   "execution_count": 2,
   "metadata": {},
   "outputs": [
    {
     "name": "stdout",
     "output_type": "stream",
     "text": [
      "WARNING:tensorflow:From C:\\Users\\Raheel\\Anaconda3\\envs\\EnvName\\lib\\site-packages\\tensorflow\\python\\ops\\resource_variable_ops.py:435: colocate_with (from tensorflow.python.framework.ops) is deprecated and will be removed in a future version.\n",
      "Instructions for updating:\n",
      "Colocations handled automatically by placer.\n"
     ]
    }
   ],
   "source": [
    "from tensorflow.python.keras.applications import Xception\n",
    "\n",
    "conv_base=Xception(weights='imagenet',include_top=False,input_shape=(150,150,3))"
   ]
  },
  {
   "cell_type": "code",
   "execution_count": 3,
   "metadata": {},
   "outputs": [
    {
     "name": "stdout",
     "output_type": "stream",
     "text": [
      "__________________________________________________________________________________________________\n",
      "Layer (type)                    Output Shape         Param #     Connected to                     \n",
      "==================================================================================================\n",
      "input_1 (InputLayer)            (None, 150, 150, 3)  0                                            \n",
      "__________________________________________________________________________________________________\n",
      "block1_conv1 (Conv2D)           (None, 74, 74, 32)   864         input_1[0][0]                    \n",
      "__________________________________________________________________________________________________\n",
      "block1_conv1_bn (BatchNormaliza (None, 74, 74, 32)   128         block1_conv1[0][0]               \n",
      "__________________________________________________________________________________________________\n",
      "block1_conv1_act (Activation)   (None, 74, 74, 32)   0           block1_conv1_bn[0][0]            \n",
      "__________________________________________________________________________________________________\n",
      "block1_conv2 (Conv2D)           (None, 72, 72, 64)   18432       block1_conv1_act[0][0]           \n",
      "__________________________________________________________________________________________________\n",
      "block1_conv2_bn (BatchNormaliza (None, 72, 72, 64)   256         block1_conv2[0][0]               \n",
      "__________________________________________________________________________________________________\n",
      "block1_conv2_act (Activation)   (None, 72, 72, 64)   0           block1_conv2_bn[0][0]            \n",
      "__________________________________________________________________________________________________\n",
      "block2_sepconv1 (SeparableConv2 (None, 72, 72, 128)  8768        block1_conv2_act[0][0]           \n",
      "__________________________________________________________________________________________________\n",
      "block2_sepconv1_bn (BatchNormal (None, 72, 72, 128)  512         block2_sepconv1[0][0]            \n",
      "__________________________________________________________________________________________________\n",
      "block2_sepconv2_act (Activation (None, 72, 72, 128)  0           block2_sepconv1_bn[0][0]         \n",
      "__________________________________________________________________________________________________\n",
      "block2_sepconv2 (SeparableConv2 (None, 72, 72, 128)  17536       block2_sepconv2_act[0][0]        \n",
      "__________________________________________________________________________________________________\n",
      "block2_sepconv2_bn (BatchNormal (None, 72, 72, 128)  512         block2_sepconv2[0][0]            \n",
      "__________________________________________________________________________________________________\n",
      "conv2d (Conv2D)                 (None, 36, 36, 128)  8192        block1_conv2_act[0][0]           \n",
      "__________________________________________________________________________________________________\n",
      "block2_pool (MaxPooling2D)      (None, 36, 36, 128)  0           block2_sepconv2_bn[0][0]         \n",
      "__________________________________________________________________________________________________\n",
      "batch_normalization_v1 (BatchNo (None, 36, 36, 128)  512         conv2d[0][0]                     \n",
      "__________________________________________________________________________________________________\n",
      "add (Add)                       (None, 36, 36, 128)  0           block2_pool[0][0]                \n",
      "                                                                 batch_normalization_v1[0][0]     \n",
      "__________________________________________________________________________________________________\n",
      "block3_sepconv1_act (Activation (None, 36, 36, 128)  0           add[0][0]                        \n",
      "__________________________________________________________________________________________________\n",
      "block3_sepconv1 (SeparableConv2 (None, 36, 36, 256)  33920       block3_sepconv1_act[0][0]        \n",
      "__________________________________________________________________________________________________\n",
      "block3_sepconv1_bn (BatchNormal (None, 36, 36, 256)  1024        block3_sepconv1[0][0]            \n",
      "__________________________________________________________________________________________________\n",
      "block3_sepconv2_act (Activation (None, 36, 36, 256)  0           block3_sepconv1_bn[0][0]         \n",
      "__________________________________________________________________________________________________\n",
      "block3_sepconv2 (SeparableConv2 (None, 36, 36, 256)  67840       block3_sepconv2_act[0][0]        \n",
      "__________________________________________________________________________________________________\n",
      "block3_sepconv2_bn (BatchNormal (None, 36, 36, 256)  1024        block3_sepconv2[0][0]            \n",
      "__________________________________________________________________________________________________\n",
      "conv2d_1 (Conv2D)               (None, 18, 18, 256)  32768       add[0][0]                        \n",
      "__________________________________________________________________________________________________\n",
      "block3_pool (MaxPooling2D)      (None, 18, 18, 256)  0           block3_sepconv2_bn[0][0]         \n",
      "__________________________________________________________________________________________________\n",
      "batch_normalization_v1_1 (Batch (None, 18, 18, 256)  1024        conv2d_1[0][0]                   \n",
      "__________________________________________________________________________________________________\n",
      "add_1 (Add)                     (None, 18, 18, 256)  0           block3_pool[0][0]                \n",
      "                                                                 batch_normalization_v1_1[0][0]   \n",
      "__________________________________________________________________________________________________\n",
      "block4_sepconv1_act (Activation (None, 18, 18, 256)  0           add_1[0][0]                      \n",
      "__________________________________________________________________________________________________\n",
      "block4_sepconv1 (SeparableConv2 (None, 18, 18, 728)  188672      block4_sepconv1_act[0][0]        \n",
      "__________________________________________________________________________________________________\n",
      "block4_sepconv1_bn (BatchNormal (None, 18, 18, 728)  2912        block4_sepconv1[0][0]            \n",
      "__________________________________________________________________________________________________\n",
      "block4_sepconv2_act (Activation (None, 18, 18, 728)  0           block4_sepconv1_bn[0][0]         \n",
      "__________________________________________________________________________________________________\n",
      "block4_sepconv2 (SeparableConv2 (None, 18, 18, 728)  536536      block4_sepconv2_act[0][0]        \n",
      "__________________________________________________________________________________________________\n",
      "block4_sepconv2_bn (BatchNormal (None, 18, 18, 728)  2912        block4_sepconv2[0][0]            \n",
      "__________________________________________________________________________________________________\n",
      "conv2d_2 (Conv2D)               (None, 9, 9, 728)    186368      add_1[0][0]                      \n",
      "__________________________________________________________________________________________________\n",
      "block4_pool (MaxPooling2D)      (None, 9, 9, 728)    0           block4_sepconv2_bn[0][0]         \n",
      "__________________________________________________________________________________________________\n",
      "batch_normalization_v1_2 (Batch (None, 9, 9, 728)    2912        conv2d_2[0][0]                   \n",
      "__________________________________________________________________________________________________\n",
      "add_2 (Add)                     (None, 9, 9, 728)    0           block4_pool[0][0]                \n",
      "                                                                 batch_normalization_v1_2[0][0]   \n",
      "__________________________________________________________________________________________________\n",
      "block5_sepconv1_act (Activation (None, 9, 9, 728)    0           add_2[0][0]                      \n",
      "__________________________________________________________________________________________________\n",
      "block5_sepconv1 (SeparableConv2 (None, 9, 9, 728)    536536      block5_sepconv1_act[0][0]        \n",
      "__________________________________________________________________________________________________\n",
      "block5_sepconv1_bn (BatchNormal (None, 9, 9, 728)    2912        block5_sepconv1[0][0]            \n",
      "__________________________________________________________________________________________________\n",
      "block5_sepconv2_act (Activation (None, 9, 9, 728)    0           block5_sepconv1_bn[0][0]         \n",
      "__________________________________________________________________________________________________\n",
      "block5_sepconv2 (SeparableConv2 (None, 9, 9, 728)    536536      block5_sepconv2_act[0][0]        \n",
      "__________________________________________________________________________________________________\n",
      "block5_sepconv2_bn (BatchNormal (None, 9, 9, 728)    2912        block5_sepconv2[0][0]            \n",
      "__________________________________________________________________________________________________\n",
      "block5_sepconv3_act (Activation (None, 9, 9, 728)    0           block5_sepconv2_bn[0][0]         \n",
      "__________________________________________________________________________________________________\n",
      "block5_sepconv3 (SeparableConv2 (None, 9, 9, 728)    536536      block5_sepconv3_act[0][0]        \n",
      "__________________________________________________________________________________________________\n",
      "block5_sepconv3_bn (BatchNormal (None, 9, 9, 728)    2912        block5_sepconv3[0][0]            \n",
      "__________________________________________________________________________________________________\n",
      "add_3 (Add)                     (None, 9, 9, 728)    0           block5_sepconv3_bn[0][0]         \n",
      "                                                                 add_2[0][0]                      \n",
      "__________________________________________________________________________________________________\n",
      "block6_sepconv1_act (Activation (None, 9, 9, 728)    0           add_3[0][0]                      \n",
      "__________________________________________________________________________________________________\n",
      "block6_sepconv1 (SeparableConv2 (None, 9, 9, 728)    536536      block6_sepconv1_act[0][0]        \n",
      "__________________________________________________________________________________________________\n",
      "block6_sepconv1_bn (BatchNormal (None, 9, 9, 728)    2912        block6_sepconv1[0][0]            \n",
      "__________________________________________________________________________________________________\n",
      "block6_sepconv2_act (Activation (None, 9, 9, 728)    0           block6_sepconv1_bn[0][0]         \n",
      "__________________________________________________________________________________________________\n",
      "block6_sepconv2 (SeparableConv2 (None, 9, 9, 728)    536536      block6_sepconv2_act[0][0]        \n",
      "__________________________________________________________________________________________________\n",
      "block6_sepconv2_bn (BatchNormal (None, 9, 9, 728)    2912        block6_sepconv2[0][0]            \n",
      "__________________________________________________________________________________________________\n",
      "block6_sepconv3_act (Activation (None, 9, 9, 728)    0           block6_sepconv2_bn[0][0]         \n",
      "__________________________________________________________________________________________________\n",
      "block6_sepconv3 (SeparableConv2 (None, 9, 9, 728)    536536      block6_sepconv3_act[0][0]        \n",
      "__________________________________________________________________________________________________\n",
      "block6_sepconv3_bn (BatchNormal (None, 9, 9, 728)    2912        block6_sepconv3[0][0]            \n",
      "__________________________________________________________________________________________________\n",
      "add_4 (Add)                     (None, 9, 9, 728)    0           block6_sepconv3_bn[0][0]         \n",
      "                                                                 add_3[0][0]                      \n",
      "__________________________________________________________________________________________________\n",
      "block7_sepconv1_act (Activation (None, 9, 9, 728)    0           add_4[0][0]                      \n",
      "__________________________________________________________________________________________________\n",
      "block7_sepconv1 (SeparableConv2 (None, 9, 9, 728)    536536      block7_sepconv1_act[0][0]        \n",
      "__________________________________________________________________________________________________\n",
      "block7_sepconv1_bn (BatchNormal (None, 9, 9, 728)    2912        block7_sepconv1[0][0]            \n",
      "__________________________________________________________________________________________________\n",
      "block7_sepconv2_act (Activation (None, 9, 9, 728)    0           block7_sepconv1_bn[0][0]         \n",
      "__________________________________________________________________________________________________\n",
      "block7_sepconv2 (SeparableConv2 (None, 9, 9, 728)    536536      block7_sepconv2_act[0][0]        \n",
      "__________________________________________________________________________________________________\n",
      "block7_sepconv2_bn (BatchNormal (None, 9, 9, 728)    2912        block7_sepconv2[0][0]            \n",
      "__________________________________________________________________________________________________\n",
      "block7_sepconv3_act (Activation (None, 9, 9, 728)    0           block7_sepconv2_bn[0][0]         \n",
      "__________________________________________________________________________________________________\n",
      "block7_sepconv3 (SeparableConv2 (None, 9, 9, 728)    536536      block7_sepconv3_act[0][0]        \n",
      "__________________________________________________________________________________________________\n",
      "block7_sepconv3_bn (BatchNormal (None, 9, 9, 728)    2912        block7_sepconv3[0][0]            \n",
      "__________________________________________________________________________________________________\n",
      "add_5 (Add)                     (None, 9, 9, 728)    0           block7_sepconv3_bn[0][0]         \n",
      "                                                                 add_4[0][0]                      \n",
      "__________________________________________________________________________________________________\n",
      "block8_sepconv1_act (Activation (None, 9, 9, 728)    0           add_5[0][0]                      \n",
      "__________________________________________________________________________________________________\n",
      "block8_sepconv1 (SeparableConv2 (None, 9, 9, 728)    536536      block8_sepconv1_act[0][0]        \n",
      "__________________________________________________________________________________________________\n",
      "block8_sepconv1_bn (BatchNormal (None, 9, 9, 728)    2912        block8_sepconv1[0][0]            \n",
      "__________________________________________________________________________________________________\n",
      "block8_sepconv2_act (Activation (None, 9, 9, 728)    0           block8_sepconv1_bn[0][0]         \n",
      "__________________________________________________________________________________________________\n",
      "block8_sepconv2 (SeparableConv2 (None, 9, 9, 728)    536536      block8_sepconv2_act[0][0]        \n",
      "__________________________________________________________________________________________________\n",
      "block8_sepconv2_bn (BatchNormal (None, 9, 9, 728)    2912        block8_sepconv2[0][0]            \n",
      "__________________________________________________________________________________________________\n",
      "block8_sepconv3_act (Activation (None, 9, 9, 728)    0           block8_sepconv2_bn[0][0]         \n",
      "__________________________________________________________________________________________________\n",
      "block8_sepconv3 (SeparableConv2 (None, 9, 9, 728)    536536      block8_sepconv3_act[0][0]        \n",
      "__________________________________________________________________________________________________\n",
      "block8_sepconv3_bn (BatchNormal (None, 9, 9, 728)    2912        block8_sepconv3[0][0]            \n",
      "__________________________________________________________________________________________________\n",
      "add_6 (Add)                     (None, 9, 9, 728)    0           block8_sepconv3_bn[0][0]         \n",
      "                                                                 add_5[0][0]                      \n",
      "__________________________________________________________________________________________________\n",
      "block9_sepconv1_act (Activation (None, 9, 9, 728)    0           add_6[0][0]                      \n",
      "__________________________________________________________________________________________________\n",
      "block9_sepconv1 (SeparableConv2 (None, 9, 9, 728)    536536      block9_sepconv1_act[0][0]        \n",
      "__________________________________________________________________________________________________\n",
      "block9_sepconv1_bn (BatchNormal (None, 9, 9, 728)    2912        block9_sepconv1[0][0]            \n",
      "__________________________________________________________________________________________________\n",
      "block9_sepconv2_act (Activation (None, 9, 9, 728)    0           block9_sepconv1_bn[0][0]         \n",
      "__________________________________________________________________________________________________\n",
      "block9_sepconv2 (SeparableConv2 (None, 9, 9, 728)    536536      block9_sepconv2_act[0][0]        \n",
      "__________________________________________________________________________________________________\n",
      "block9_sepconv2_bn (BatchNormal (None, 9, 9, 728)    2912        block9_sepconv2[0][0]            \n",
      "__________________________________________________________________________________________________\n",
      "block9_sepconv3_act (Activation (None, 9, 9, 728)    0           block9_sepconv2_bn[0][0]         \n",
      "__________________________________________________________________________________________________\n",
      "block9_sepconv3 (SeparableConv2 (None, 9, 9, 728)    536536      block9_sepconv3_act[0][0]        \n",
      "__________________________________________________________________________________________________\n",
      "block9_sepconv3_bn (BatchNormal (None, 9, 9, 728)    2912        block9_sepconv3[0][0]            \n",
      "__________________________________________________________________________________________________\n",
      "add_7 (Add)                     (None, 9, 9, 728)    0           block9_sepconv3_bn[0][0]         \n",
      "                                                                 add_6[0][0]                      \n",
      "__________________________________________________________________________________________________\n",
      "block10_sepconv1_act (Activatio (None, 9, 9, 728)    0           add_7[0][0]                      \n",
      "__________________________________________________________________________________________________\n",
      "block10_sepconv1 (SeparableConv (None, 9, 9, 728)    536536      block10_sepconv1_act[0][0]       \n",
      "__________________________________________________________________________________________________\n",
      "block10_sepconv1_bn (BatchNorma (None, 9, 9, 728)    2912        block10_sepconv1[0][0]           \n",
      "__________________________________________________________________________________________________\n",
      "block10_sepconv2_act (Activatio (None, 9, 9, 728)    0           block10_sepconv1_bn[0][0]        \n",
      "__________________________________________________________________________________________________\n",
      "block10_sepconv2 (SeparableConv (None, 9, 9, 728)    536536      block10_sepconv2_act[0][0]       \n",
      "__________________________________________________________________________________________________\n",
      "block10_sepconv2_bn (BatchNorma (None, 9, 9, 728)    2912        block10_sepconv2[0][0]           \n",
      "__________________________________________________________________________________________________\n",
      "block10_sepconv3_act (Activatio (None, 9, 9, 728)    0           block10_sepconv2_bn[0][0]        \n",
      "__________________________________________________________________________________________________\n",
      "block10_sepconv3 (SeparableConv (None, 9, 9, 728)    536536      block10_sepconv3_act[0][0]       \n",
      "__________________________________________________________________________________________________\n",
      "block10_sepconv3_bn (BatchNorma (None, 9, 9, 728)    2912        block10_sepconv3[0][0]           \n",
      "__________________________________________________________________________________________________\n",
      "add_8 (Add)                     (None, 9, 9, 728)    0           block10_sepconv3_bn[0][0]        \n",
      "                                                                 add_7[0][0]                      \n",
      "__________________________________________________________________________________________________\n",
      "block11_sepconv1_act (Activatio (None, 9, 9, 728)    0           add_8[0][0]                      \n",
      "__________________________________________________________________________________________________\n",
      "block11_sepconv1 (SeparableConv (None, 9, 9, 728)    536536      block11_sepconv1_act[0][0]       \n",
      "__________________________________________________________________________________________________\n",
      "block11_sepconv1_bn (BatchNorma (None, 9, 9, 728)    2912        block11_sepconv1[0][0]           \n",
      "__________________________________________________________________________________________________\n",
      "block11_sepconv2_act (Activatio (None, 9, 9, 728)    0           block11_sepconv1_bn[0][0]        \n",
      "__________________________________________________________________________________________________\n",
      "block11_sepconv2 (SeparableConv (None, 9, 9, 728)    536536      block11_sepconv2_act[0][0]       \n",
      "__________________________________________________________________________________________________\n",
      "block11_sepconv2_bn (BatchNorma (None, 9, 9, 728)    2912        block11_sepconv2[0][0]           \n",
      "__________________________________________________________________________________________________\n",
      "block11_sepconv3_act (Activatio (None, 9, 9, 728)    0           block11_sepconv2_bn[0][0]        \n",
      "__________________________________________________________________________________________________\n",
      "block11_sepconv3 (SeparableConv (None, 9, 9, 728)    536536      block11_sepconv3_act[0][0]       \n",
      "__________________________________________________________________________________________________\n",
      "block11_sepconv3_bn (BatchNorma (None, 9, 9, 728)    2912        block11_sepconv3[0][0]           \n",
      "__________________________________________________________________________________________________\n",
      "add_9 (Add)                     (None, 9, 9, 728)    0           block11_sepconv3_bn[0][0]        \n",
      "                                                                 add_8[0][0]                      \n",
      "__________________________________________________________________________________________________\n",
      "block12_sepconv1_act (Activatio (None, 9, 9, 728)    0           add_9[0][0]                      \n",
      "__________________________________________________________________________________________________\n",
      "block12_sepconv1 (SeparableConv (None, 9, 9, 728)    536536      block12_sepconv1_act[0][0]       \n",
      "__________________________________________________________________________________________________\n",
      "block12_sepconv1_bn (BatchNorma (None, 9, 9, 728)    2912        block12_sepconv1[0][0]           \n",
      "__________________________________________________________________________________________________\n",
      "block12_sepconv2_act (Activatio (None, 9, 9, 728)    0           block12_sepconv1_bn[0][0]        \n",
      "__________________________________________________________________________________________________\n",
      "block12_sepconv2 (SeparableConv (None, 9, 9, 728)    536536      block12_sepconv2_act[0][0]       \n",
      "__________________________________________________________________________________________________\n",
      "block12_sepconv2_bn (BatchNorma (None, 9, 9, 728)    2912        block12_sepconv2[0][0]           \n",
      "__________________________________________________________________________________________________\n",
      "block12_sepconv3_act (Activatio (None, 9, 9, 728)    0           block12_sepconv2_bn[0][0]        \n",
      "__________________________________________________________________________________________________\n",
      "block12_sepconv3 (SeparableConv (None, 9, 9, 728)    536536      block12_sepconv3_act[0][0]       \n",
      "__________________________________________________________________________________________________\n",
      "block12_sepconv3_bn (BatchNorma (None, 9, 9, 728)    2912        block12_sepconv3[0][0]           \n",
      "__________________________________________________________________________________________________\n",
      "add_10 (Add)                    (None, 9, 9, 728)    0           block12_sepconv3_bn[0][0]        \n",
      "                                                                 add_9[0][0]                      \n",
      "__________________________________________________________________________________________________\n",
      "block13_sepconv1_act (Activatio (None, 9, 9, 728)    0           add_10[0][0]                     \n",
      "__________________________________________________________________________________________________\n",
      "block13_sepconv1 (SeparableConv (None, 9, 9, 728)    536536      block13_sepconv1_act[0][0]       \n",
      "__________________________________________________________________________________________________\n",
      "block13_sepconv1_bn (BatchNorma (None, 9, 9, 728)    2912        block13_sepconv1[0][0]           \n",
      "__________________________________________________________________________________________________\n",
      "block13_sepconv2_act (Activatio (None, 9, 9, 728)    0           block13_sepconv1_bn[0][0]        \n",
      "__________________________________________________________________________________________________\n",
      "block13_sepconv2 (SeparableConv (None, 9, 9, 1024)   752024      block13_sepconv2_act[0][0]       \n",
      "__________________________________________________________________________________________________\n",
      "block13_sepconv2_bn (BatchNorma (None, 9, 9, 1024)   4096        block13_sepconv2[0][0]           \n",
      "__________________________________________________________________________________________________\n",
      "conv2d_3 (Conv2D)               (None, 5, 5, 1024)   745472      add_10[0][0]                     \n",
      "__________________________________________________________________________________________________\n",
      "block13_pool (MaxPooling2D)     (None, 5, 5, 1024)   0           block13_sepconv2_bn[0][0]        \n",
      "__________________________________________________________________________________________________\n",
      "batch_normalization_v1_3 (Batch (None, 5, 5, 1024)   4096        conv2d_3[0][0]                   \n",
      "__________________________________________________________________________________________________\n",
      "add_11 (Add)                    (None, 5, 5, 1024)   0           block13_pool[0][0]               \n",
      "                                                                 batch_normalization_v1_3[0][0]   \n",
      "__________________________________________________________________________________________________\n",
      "block14_sepconv1 (SeparableConv (None, 5, 5, 1536)   1582080     add_11[0][0]                     \n",
      "__________________________________________________________________________________________________\n",
      "block14_sepconv1_bn (BatchNorma (None, 5, 5, 1536)   6144        block14_sepconv1[0][0]           \n",
      "__________________________________________________________________________________________________\n",
      "block14_sepconv1_act (Activatio (None, 5, 5, 1536)   0           block14_sepconv1_bn[0][0]        \n",
      "__________________________________________________________________________________________________\n",
      "block14_sepconv2 (SeparableConv (None, 5, 5, 2048)   3159552     block14_sepconv1_act[0][0]       \n",
      "__________________________________________________________________________________________________\n",
      "block14_sepconv2_bn (BatchNorma (None, 5, 5, 2048)   8192        block14_sepconv2[0][0]           \n",
      "__________________________________________________________________________________________________\n",
      "block14_sepconv2_act (Activatio (None, 5, 5, 2048)   0           block14_sepconv2_bn[0][0]        \n",
      "==================================================================================================\n",
      "Total params: 20,861,480\n",
      "Trainable params: 20,806,952\n",
      "Non-trainable params: 54,528\n",
      "__________________________________________________________________________________________________\n"
     ]
    }
   ],
   "source": [
    "conv_base.summary()"
   ]
  },
  {
   "cell_type": "code",
   "execution_count": 4,
   "metadata": {},
   "outputs": [],
   "source": [
    "import os\n",
    "import numpy as np\n",
    "from tensorflow.python.keras.preprocessing.image import ImageDataGenerator\n",
    "from tensorflow.python.keras import models\n",
    "from tensorflow.python.keras import layers\n",
    "from tensorflow.python.keras.callbacks import ModelCheckpoint\n",
    "from tensorflow.python.keras import optimizers\n",
    "\n",
    "model = models.Sequential()\n",
    "model.add(conv_base)\n",
    "model.add(layers.Flatten())\n",
    "model.add(layers.Dense(512, activation='relu'))\n",
    "model.add(layers.Dense(2, activation='softmax'))\n",
    "model.compile(loss='categorical_crossentropy',optimizer=optimizers.Adam(lr=1e-4),metrics=['categorical_accuracy'])\n",
    "filepath=\"Xception_Chest_X_Ray_Image_Classification_Pneumonia_vs_Normal_best_model.h5\"\n",
    "checkpoint = ModelCheckpoint(filepath, save_best_only=True)\n",
    "callbacks_list = [checkpoint]"
   ]
  },
  {
   "cell_type": "code",
   "execution_count": 5,
   "metadata": {},
   "outputs": [
    {
     "name": "stdout",
     "output_type": "stream",
     "text": [
      "_________________________________________________________________\n",
      "Layer (type)                 Output Shape              Param #   \n",
      "=================================================================\n",
      "xception (Model)             (None, 5, 5, 2048)        20861480  \n",
      "_________________________________________________________________\n",
      "flatten (Flatten)            (None, 51200)             0         \n",
      "_________________________________________________________________\n",
      "dense (Dense)                (None, 512)               26214912  \n",
      "_________________________________________________________________\n",
      "dense_1 (Dense)              (None, 2)                 1026      \n",
      "=================================================================\n",
      "Total params: 47,077,418\n",
      "Trainable params: 47,022,890\n",
      "Non-trainable params: 54,528\n",
      "_________________________________________________________________\n"
     ]
    }
   ],
   "source": [
    "model.summary()"
   ]
  },
  {
   "cell_type": "markdown",
   "metadata": {},
   "source": [
    "## Setting up Training and Validation Data for the experiment"
   ]
  },
  {
   "cell_type": "code",
   "execution_count": 6,
   "metadata": {},
   "outputs": [],
   "source": [
    "image_height = 150\n",
    "image_width = 150\n",
    "batch_size = 8\n",
    "no_of_epochs  = 100\n",
    "number_of_training_samples=5216\n",
    "number_of_validation_samples=16\n",
    "number_of_test_samples=624"
   ]
  },
  {
   "cell_type": "code",
   "execution_count": 7,
   "metadata": {},
   "outputs": [],
   "source": [
    "train_dir='D:\\\\TensorFlow Programs\\\\Diagnosis of Pneumonia based on Chest X-Rays\\\\chest-xray-pneumonia\\\\chest_xray\\\\chest_xray\\\\train'\n",
    "validation_dir='D:\\\\TensorFlow Programs\\\\Diagnosis of Pneumonia based on Chest X-Rays\\\\chest-xray-pneumonia\\\\chest_xray\\\\chest_xray\\\\val'\n",
    "test_dir='D:\\\\TensorFlow Programs\\\\Diagnosis of Pneumonia based on Chest X-Rays\\\\chest-xray-pneumonia\\\\chest_xray\\\\chest_xray\\\\test'"
   ]
  },
  {
   "cell_type": "code",
   "execution_count": 8,
   "metadata": {},
   "outputs": [],
   "source": [
    "train_datagen = ImageDataGenerator(rescale=1./255,\n",
    "                                   rotation_range=40,\n",
    "                                   width_shift_range=0.2,\n",
    "                                   height_shift_range=0.2,\n",
    "                                   shear_range=0.2,\n",
    "                                   zoom_range=0.2\n",
    "                                   )\n",
    "\n",
    "validation_datagen = ImageDataGenerator(rescale=1./255)  \n",
    "\n",
    "test_datagen = ImageDataGenerator(rescale=1./255)"
   ]
  },
  {
   "cell_type": "code",
   "execution_count": 9,
   "metadata": {},
   "outputs": [
    {
     "name": "stdout",
     "output_type": "stream",
     "text": [
      "Found 5216 images belonging to 2 classes.\n",
      "Found 16 images belonging to 2 classes.\n",
      "Found 624 images belonging to 2 classes.\n"
     ]
    }
   ],
   "source": [
    "training_set = train_datagen.flow_from_directory(train_dir,target_size=(image_width, image_height),batch_size=batch_size)\n",
    "validation_set = validation_datagen.flow_from_directory(validation_dir,target_size=(image_width, image_height),batch_size=batch_size,shuffle=False)\n",
    "test_set = test_datagen.flow_from_directory(test_dir,target_size=(image_width, image_height),batch_size=batch_size,shuffle=False)"
   ]
  },
  {
   "cell_type": "markdown",
   "metadata": {},
   "source": [
    "## Model Training"
   ]
  },
  {
   "cell_type": "code",
   "execution_count": 10,
   "metadata": {},
   "outputs": [
    {
     "name": "stdout",
     "output_type": "stream",
     "text": [
      "WARNING:tensorflow:From C:\\Users\\Raheel\\Anaconda3\\envs\\EnvName\\lib\\site-packages\\tensorflow\\python\\ops\\math_ops.py:3066: to_int32 (from tensorflow.python.ops.math_ops) is deprecated and will be removed in a future version.\n",
      "Instructions for updating:\n",
      "Use tf.cast instead.\n",
      "Epoch 1/100\n",
      "2/2 [==============================] - 1s 416ms/step - loss: 0.6883 - categorical_accuracy: 0.6875\n",
      "652/652 [==============================] - 218s 335ms/step - loss: 0.3362 - categorical_accuracy: 0.8907 - val_loss: 0.6883 - val_categorical_accuracy: 0.6875\n",
      "Epoch 2/100\n",
      "2/2 [==============================] - 0s 126ms/step - loss: 0.5417 - categorical_accuracy: 0.7500\n",
      "652/652 [==============================] - 209s 321ms/step - loss: 0.1480 - categorical_accuracy: 0.9469 - val_loss: 0.5417 - val_categorical_accuracy: 0.7500\n",
      "Epoch 3/100\n",
      "2/2 [==============================] - 0s 112ms/step - loss: 0.7011 - categorical_accuracy: 0.7500\n",
      "652/652 [==============================] - 206s 316ms/step - loss: 0.1179 - categorical_accuracy: 0.9607 - val_loss: 0.7011 - val_categorical_accuracy: 0.7500\n",
      "Epoch 4/100\n",
      "2/2 [==============================] - 0s 109ms/step - loss: 0.2850 - categorical_accuracy: 0.7500\n",
      "652/652 [==============================] - 210s 321ms/step - loss: 0.1047 - categorical_accuracy: 0.9636 - val_loss: 0.2850 - val_categorical_accuracy: 0.7500\n",
      "Epoch 5/100\n",
      "2/2 [==============================] - 0s 111ms/step - loss: 0.1645 - categorical_accuracy: 1.0000\n",
      "652/652 [==============================] - 199s 305ms/step - loss: 0.0826 - categorical_accuracy: 0.9688 - val_loss: 0.1645 - val_categorical_accuracy: 1.0000\n",
      "Epoch 6/100\n",
      "2/2 [==============================] - 0s 112ms/step - loss: 0.2431 - categorical_accuracy: 0.8750\n",
      "652/652 [==============================] - 173s 265ms/step - loss: 0.0769 - categorical_accuracy: 0.9728 - val_loss: 0.2431 - val_categorical_accuracy: 0.8750\n",
      "Epoch 7/100\n",
      "2/2 [==============================] - 0s 131ms/step - loss: 0.1144 - categorical_accuracy: 1.0000\n",
      "652/652 [==============================] - 180s 276ms/step - loss: 0.0773 - categorical_accuracy: 0.9743 - val_loss: 0.1144 - val_categorical_accuracy: 1.0000\n",
      "Epoch 8/100\n",
      "2/2 [==============================] - 0s 120ms/step - loss: 0.3584 - categorical_accuracy: 0.8125\n",
      "652/652 [==============================] - 175s 268ms/step - loss: 0.0661 - categorical_accuracy: 0.9764 - val_loss: 0.3584 - val_categorical_accuracy: 0.8125\n",
      "Epoch 9/100\n",
      "2/2 [==============================] - 0s 133ms/step - loss: 0.1206 - categorical_accuracy: 0.9375\n",
      "652/652 [==============================] - 176s 270ms/step - loss: 0.0593 - categorical_accuracy: 0.9785 - val_loss: 0.1206 - val_categorical_accuracy: 0.9375\n",
      "Epoch 10/100\n",
      "2/2 [==============================] - 0s 128ms/step - loss: 0.0794 - categorical_accuracy: 1.0000\n",
      "652/652 [==============================] - 179s 275ms/step - loss: 0.0519 - categorical_accuracy: 0.9835 - val_loss: 0.0794 - val_categorical_accuracy: 1.0000\n",
      "Epoch 11/100\n",
      "2/2 [==============================] - 0s 135ms/step - loss: 0.0888 - categorical_accuracy: 1.0000\n",
      "652/652 [==============================] - 176s 270ms/step - loss: 0.0560 - categorical_accuracy: 0.9806 - val_loss: 0.0888 - val_categorical_accuracy: 1.0000\n",
      "Epoch 12/100\n",
      "2/2 [==============================] - 0s 120ms/step - loss: 0.2669 - categorical_accuracy: 0.8750\n",
      "652/652 [==============================] - 174s 268ms/step - loss: 0.0755 - categorical_accuracy: 0.9770 - val_loss: 0.2669 - val_categorical_accuracy: 0.8750\n",
      "Epoch 13/100\n",
      "2/2 [==============================] - 0s 123ms/step - loss: 0.0613 - categorical_accuracy: 1.0000\n",
      "652/652 [==============================] - 178s 273ms/step - loss: 0.0522 - categorical_accuracy: 0.9835 - val_loss: 0.0613 - val_categorical_accuracy: 1.0000\n",
      "Epoch 14/100\n",
      "2/2 [==============================] - 0s 110ms/step - loss: 0.1226 - categorical_accuracy: 1.0000\n",
      "652/652 [==============================] - 174s 267ms/step - loss: 0.0503 - categorical_accuracy: 0.9826 - val_loss: 0.1226 - val_categorical_accuracy: 1.0000\n",
      "Epoch 15/100\n",
      "2/2 [==============================] - 0s 125ms/step - loss: 0.0820 - categorical_accuracy: 1.0000\n",
      "652/652 [==============================] - 175s 269ms/step - loss: 0.0518 - categorical_accuracy: 0.9858 - val_loss: 0.0820 - val_categorical_accuracy: 1.0000\n",
      "Epoch 16/100\n",
      "2/2 [==============================] - 0s 121ms/step - loss: 0.1759 - categorical_accuracy: 0.9375\n",
      "652/652 [==============================] - 175s 268ms/step - loss: 0.0568 - categorical_accuracy: 0.9826 - val_loss: 0.1759 - val_categorical_accuracy: 0.9375\n",
      "Epoch 17/100\n",
      "2/2 [==============================] - 0s 127ms/step - loss: 0.0642 - categorical_accuracy: 1.0000\n",
      "652/652 [==============================] - 174s 267ms/step - loss: 0.0435 - categorical_accuracy: 0.9852 - val_loss: 0.0642 - val_categorical_accuracy: 1.0000\n",
      "Epoch 18/100\n",
      "2/2 [==============================] - 0s 128ms/step - loss: 0.0923 - categorical_accuracy: 1.0000\n",
      "652/652 [==============================] - 175s 269ms/step - loss: 0.0360 - categorical_accuracy: 0.9866 - val_loss: 0.0923 - val_categorical_accuracy: 1.0000\n",
      "Epoch 19/100\n",
      "2/2 [==============================] - 0s 114ms/step - loss: 0.0334 - categorical_accuracy: 1.0000\n",
      "652/652 [==============================] - 177s 272ms/step - loss: 0.0368 - categorical_accuracy: 0.9887 - val_loss: 0.0334 - val_categorical_accuracy: 1.0000\n",
      "Epoch 20/100\n",
      "2/2 [==============================] - 0s 119ms/step - loss: 0.1113 - categorical_accuracy: 0.9375\n",
      "652/652 [==============================] - 175s 268ms/step - loss: 0.0322 - categorical_accuracy: 0.9896 - val_loss: 0.1113 - val_categorical_accuracy: 0.9375\n",
      "Epoch 21/100\n",
      "2/2 [==============================] - 0s 180ms/step - loss: 0.1102 - categorical_accuracy: 0.9375\n",
      "652/652 [==============================] - 178s 273ms/step - loss: 0.0323 - categorical_accuracy: 0.9893 - val_loss: 0.1102 - val_categorical_accuracy: 0.9375\n",
      "Epoch 22/100\n",
      "2/2 [==============================] - 0s 129ms/step - loss: 0.0208 - categorical_accuracy: 1.0000\n",
      "652/652 [==============================] - 178s 274ms/step - loss: 0.0413 - categorical_accuracy: 0.9862 - val_loss: 0.0208 - val_categorical_accuracy: 1.0000\n",
      "Epoch 23/100\n",
      "2/2 [==============================] - 0s 132ms/step - loss: 0.0250 - categorical_accuracy: 1.0000\n",
      "652/652 [==============================] - 176s 270ms/step - loss: 0.0334 - categorical_accuracy: 0.9891 - val_loss: 0.0250 - val_categorical_accuracy: 1.0000\n",
      "Epoch 24/100\n",
      "2/2 [==============================] - 0s 113ms/step - loss: 0.0597 - categorical_accuracy: 1.0000\n",
      "652/652 [==============================] - 175s 269ms/step - loss: 0.0350 - categorical_accuracy: 0.9872 - val_loss: 0.0597 - val_categorical_accuracy: 1.0000\n",
      "Epoch 25/100\n",
      "2/2 [==============================] - 0s 122ms/step - loss: 0.0851 - categorical_accuracy: 1.0000\n",
      "652/652 [==============================] - 175s 268ms/step - loss: 0.0360 - categorical_accuracy: 0.9895 - val_loss: 0.0851 - val_categorical_accuracy: 1.0000\n",
      "Epoch 26/100\n",
      "2/2 [==============================] - 0s 126ms/step - loss: 0.0242 - categorical_accuracy: 1.0000\n",
      "652/652 [==============================] - 175s 268ms/step - loss: 0.0358 - categorical_accuracy: 0.9885 - val_loss: 0.0242 - val_categorical_accuracy: 1.0000\n",
      "Epoch 27/100\n",
      "2/2 [==============================] - 0s 113ms/step - loss: 0.0526 - categorical_accuracy: 1.0000\n",
      "652/652 [==============================] - 174s 268ms/step - loss: 0.0319 - categorical_accuracy: 0.9887 - val_loss: 0.0526 - val_categorical_accuracy: 1.0000\n",
      "Epoch 28/100\n",
      "2/2 [==============================] - 0s 116ms/step - loss: 0.0299 - categorical_accuracy: 1.0000\n",
      "652/652 [==============================] - 174s 267ms/step - loss: 0.0231 - categorical_accuracy: 0.9916 - val_loss: 0.0299 - val_categorical_accuracy: 1.0000\n",
      "Epoch 29/100\n",
      "2/2 [==============================] - 0s 117ms/step - loss: 0.0776 - categorical_accuracy: 1.0000\n",
      "652/652 [==============================] - 175s 268ms/step - loss: 0.0274 - categorical_accuracy: 0.9918 - val_loss: 0.0776 - val_categorical_accuracy: 1.0000\n",
      "Epoch 30/100\n"
     ]
    },
    {
     "name": "stdout",
     "output_type": "stream",
     "text": [
      "2/2 [==============================] - 0s 115ms/step - loss: 0.0397 - categorical_accuracy: 1.0000\n",
      "652/652 [==============================] - 174s 266ms/step - loss: 0.0299 - categorical_accuracy: 0.9887 - val_loss: 0.0397 - val_categorical_accuracy: 1.0000\n",
      "Epoch 31/100\n",
      "2/2 [==============================] - 0s 118ms/step - loss: 0.0401 - categorical_accuracy: 1.0000\n",
      "652/652 [==============================] - 173s 265ms/step - loss: 0.0288 - categorical_accuracy: 0.9912 - val_loss: 0.0401 - val_categorical_accuracy: 1.0000\n",
      "Epoch 32/100\n",
      "2/2 [==============================] - 0s 122ms/step - loss: 0.1989 - categorical_accuracy: 0.8125\n",
      "652/652 [==============================] - 173s 266ms/step - loss: 0.0435 - categorical_accuracy: 0.9898 - val_loss: 0.1989 - val_categorical_accuracy: 0.8125\n",
      "Epoch 33/100\n",
      "2/2 [==============================] - 0s 116ms/step - loss: 0.0312 - categorical_accuracy: 1.0000\n",
      "652/652 [==============================] - 173s 265ms/step - loss: 0.0217 - categorical_accuracy: 0.9937 - val_loss: 0.0312 - val_categorical_accuracy: 1.0000\n",
      "Epoch 34/100\n",
      "2/2 [==============================] - 0s 122ms/step - loss: 0.0158 - categorical_accuracy: 1.0000\n",
      "652/652 [==============================] - 175s 269ms/step - loss: 0.0271 - categorical_accuracy: 0.9918 - val_loss: 0.0158 - val_categorical_accuracy: 1.0000\n",
      "Epoch 35/100\n",
      "2/2 [==============================] - 0s 124ms/step - loss: 0.0194 - categorical_accuracy: 1.0000\n",
      "652/652 [==============================] - 173s 266ms/step - loss: 0.0266 - categorical_accuracy: 0.9927 - val_loss: 0.0194 - val_categorical_accuracy: 1.0000\n",
      "Epoch 36/100\n",
      "2/2 [==============================] - 0s 122ms/step - loss: 0.0811 - categorical_accuracy: 1.0000\n",
      "652/652 [==============================] - 173s 265ms/step - loss: 0.0295 - categorical_accuracy: 0.9912 - val_loss: 0.0811 - val_categorical_accuracy: 1.0000\n",
      "Epoch 37/100\n",
      "2/2 [==============================] - 0s 126ms/step - loss: 0.0620 - categorical_accuracy: 1.0000\n",
      "652/652 [==============================] - 173s 265ms/step - loss: 0.0207 - categorical_accuracy: 0.9927 - val_loss: 0.0620 - val_categorical_accuracy: 1.0000\n",
      "Epoch 38/100\n",
      "2/2 [==============================] - 0s 141ms/step - loss: 0.0156 - categorical_accuracy: 1.0000\n",
      "652/652 [==============================] - 176s 270ms/step - loss: 0.0176 - categorical_accuracy: 0.9939 - val_loss: 0.0156 - val_categorical_accuracy: 1.0000\n",
      "Epoch 39/100\n",
      "2/2 [==============================] - 0s 124ms/step - loss: 0.2228 - categorical_accuracy: 0.9375\n",
      "652/652 [==============================] - 173s 266ms/step - loss: 0.0280 - categorical_accuracy: 0.9918 - val_loss: 0.2228 - val_categorical_accuracy: 0.9375\n",
      "Epoch 40/100\n",
      "2/2 [==============================] - 0s 125ms/step - loss: 0.0299 - categorical_accuracy: 1.0000\n",
      "652/652 [==============================] - 173s 265ms/step - loss: 0.0272 - categorical_accuracy: 0.9904 - val_loss: 0.0299 - val_categorical_accuracy: 1.0000\n",
      "Epoch 41/100\n",
      "2/2 [==============================] - 0s 115ms/step - loss: 0.1250 - categorical_accuracy: 0.9375\n",
      "652/652 [==============================] - 173s 266ms/step - loss: 0.0208 - categorical_accuracy: 0.9929 - val_loss: 0.1250 - val_categorical_accuracy: 0.9375\n",
      "Epoch 42/100\n",
      "2/2 [==============================] - 0s 125ms/step - loss: 0.2426 - categorical_accuracy: 0.8750\n",
      "652/652 [==============================] - 172s 264ms/step - loss: 0.0241 - categorical_accuracy: 0.9929 - val_loss: 0.2426 - val_categorical_accuracy: 0.8750\n",
      "Epoch 43/100\n",
      "2/2 [==============================] - 0s 113ms/step - loss: 0.3257 - categorical_accuracy: 0.8125\n",
      "652/652 [==============================] - 172s 264ms/step - loss: 0.0285 - categorical_accuracy: 0.9935 - val_loss: 0.3257 - val_categorical_accuracy: 0.8125\n",
      "Epoch 44/100\n",
      "2/2 [==============================] - 0s 130ms/step - loss: 0.0373 - categorical_accuracy: 1.0000\n",
      "652/652 [==============================] - 172s 264ms/step - loss: 0.0183 - categorical_accuracy: 0.9941 - val_loss: 0.0373 - val_categorical_accuracy: 1.0000\n",
      "Epoch 45/100\n",
      "2/2 [==============================] - 0s 117ms/step - loss: 0.0078 - categorical_accuracy: 1.0000\n",
      "652/652 [==============================] - 178s 273ms/step - loss: 0.0253 - categorical_accuracy: 0.9950 - val_loss: 0.0078 - val_categorical_accuracy: 1.0000\n",
      "Epoch 46/100\n",
      "2/2 [==============================] - 0s 113ms/step - loss: 0.0072 - categorical_accuracy: 1.0000\n",
      "652/652 [==============================] - 176s 270ms/step - loss: 0.0653 - categorical_accuracy: 0.9896 - val_loss: 0.0072 - val_categorical_accuracy: 1.0000\n",
      "Epoch 47/100\n",
      "2/2 [==============================] - 0s 109ms/step - loss: 0.0025 - categorical_accuracy: 1.0000\n",
      "652/652 [==============================] - 176s 271ms/step - loss: 0.0139 - categorical_accuracy: 0.9952 - val_loss: 0.0025 - val_categorical_accuracy: 1.0000\n",
      "Epoch 48/100\n",
      "2/2 [==============================] - 0s 116ms/step - loss: 0.0266 - categorical_accuracy: 1.0000\n",
      "652/652 [==============================] - 172s 263ms/step - loss: 0.0166 - categorical_accuracy: 0.9942 - val_loss: 0.0266 - val_categorical_accuracy: 1.0000\n",
      "Epoch 49/100\n",
      "2/2 [==============================] - 0s 115ms/step - loss: 0.0042 - categorical_accuracy: 1.0000\n",
      "652/652 [==============================] - 172s 263ms/step - loss: 0.0139 - categorical_accuracy: 0.9956 - val_loss: 0.0042 - val_categorical_accuracy: 1.0000\n",
      "Epoch 50/100\n",
      "2/2 [==============================] - 0s 110ms/step - loss: 0.0248 - categorical_accuracy: 1.0000\n",
      "652/652 [==============================] - 172s 264ms/step - loss: 0.0126 - categorical_accuracy: 0.9958 - val_loss: 0.0248 - val_categorical_accuracy: 1.0000\n",
      "Epoch 51/100\n",
      "2/2 [==============================] - 0s 125ms/step - loss: 0.1538 - categorical_accuracy: 0.9375\n",
      "652/652 [==============================] - 173s 265ms/step - loss: 0.0152 - categorical_accuracy: 0.9946 - val_loss: 0.1538 - val_categorical_accuracy: 0.9375\n",
      "Epoch 52/100\n",
      "2/2 [==============================] - 0s 109ms/step - loss: 0.0140 - categorical_accuracy: 1.0000\n",
      "652/652 [==============================] - 172s 263ms/step - loss: 0.0083 - categorical_accuracy: 0.9964 - val_loss: 0.0140 - val_categorical_accuracy: 1.0000\n",
      "Epoch 53/100\n",
      "2/2 [==============================] - 0s 110ms/step - loss: 0.0434 - categorical_accuracy: 1.0000\n",
      "652/652 [==============================] - 172s 263ms/step - loss: 0.0335 - categorical_accuracy: 0.9919 - val_loss: 0.0434 - val_categorical_accuracy: 1.0000\n",
      "Epoch 54/100\n",
      "2/2 [==============================] - 0s 121ms/step - loss: 0.1630 - categorical_accuracy: 0.9375\n",
      "652/652 [==============================] - 172s 264ms/step - loss: 0.0271 - categorical_accuracy: 0.9939 - val_loss: 0.1630 - val_categorical_accuracy: 0.9375\n",
      "Epoch 55/100\n",
      "2/2 [==============================] - 0s 112ms/step - loss: 0.0027 - categorical_accuracy: 1.0000\n",
      "652/652 [==============================] - 172s 264ms/step - loss: 0.0218 - categorical_accuracy: 0.9952 - val_loss: 0.0027 - val_categorical_accuracy: 1.0000\n",
      "Epoch 56/100\n",
      "2/2 [==============================] - 0s 118ms/step - loss: 0.0941 - categorical_accuracy: 0.9375\n",
      "652/652 [==============================] - 172s 265ms/step - loss: 0.0145 - categorical_accuracy: 0.9964 - val_loss: 0.0941 - val_categorical_accuracy: 0.9375\n",
      "Epoch 57/100\n",
      "2/2 [==============================] - 0s 116ms/step - loss: 0.0084 - categorical_accuracy: 1.0000\n",
      "652/652 [==============================] - 181s 277ms/step - loss: 0.0140 - categorical_accuracy: 0.9942 - val_loss: 0.0084 - val_categorical_accuracy: 1.0000\n",
      "Epoch 58/100\n",
      "2/2 [==============================] - 0s 127ms/step - loss: 0.0186 - categorical_accuracy: 1.0000\n",
      "652/652 [==============================] - 213s 326ms/step - loss: 0.0182 - categorical_accuracy: 0.9950 - val_loss: 0.0186 - val_categorical_accuracy: 1.0000\n",
      "Epoch 59/100\n",
      "2/2 [==============================] - 0s 116ms/step - loss: 0.2071 - categorical_accuracy: 0.8750\n",
      "652/652 [==============================] - 212s 326ms/step - loss: 0.0132 - categorical_accuracy: 0.9952 - val_loss: 0.2071 - val_categorical_accuracy: 0.8750\n",
      "Epoch 60/100\n"
     ]
    },
    {
     "name": "stdout",
     "output_type": "stream",
     "text": [
      "2/2 [==============================] - 0s 116ms/step - loss: 0.0463 - categorical_accuracy: 1.0000\n",
      "652/652 [==============================] - 212s 325ms/step - loss: 0.0282 - categorical_accuracy: 0.9906 - val_loss: 0.0463 - val_categorical_accuracy: 1.0000\n",
      "Epoch 61/100\n",
      "2/2 [==============================] - 0s 112ms/step - loss: 0.2555 - categorical_accuracy: 0.8750\n",
      "652/652 [==============================] - 212s 325ms/step - loss: 0.0229 - categorical_accuracy: 0.9931 - val_loss: 0.2555 - val_categorical_accuracy: 0.8750\n",
      "Epoch 62/100\n",
      "2/2 [==============================] - 0s 114ms/step - loss: 0.0106 - categorical_accuracy: 1.0000\n",
      "652/652 [==============================] - 212s 325ms/step - loss: 0.0130 - categorical_accuracy: 0.9965 - val_loss: 0.0106 - val_categorical_accuracy: 1.0000\n",
      "Epoch 63/100\n",
      "2/2 [==============================] - 0s 139ms/step - loss: 0.0074 - categorical_accuracy: 1.0000\n",
      "652/652 [==============================] - 193s 297ms/step - loss: 0.0157 - categorical_accuracy: 0.9948 - val_loss: 0.0074 - val_categorical_accuracy: 1.0000\n",
      "Epoch 64/100\n",
      "2/2 [==============================] - 0s 135ms/step - loss: 0.1462 - categorical_accuracy: 0.9375\n",
      "652/652 [==============================] - 174s 267ms/step - loss: 0.0135 - categorical_accuracy: 0.9954 - val_loss: 0.1462 - val_categorical_accuracy: 0.9375\n",
      "Epoch 65/100\n",
      "2/2 [==============================] - 0s 135ms/step - loss: 0.0341 - categorical_accuracy: 1.0000\n",
      "652/652 [==============================] - 174s 267ms/step - loss: 0.0154 - categorical_accuracy: 0.9958 - val_loss: 0.0341 - val_categorical_accuracy: 1.0000\n",
      "Epoch 66/100\n",
      "2/2 [==============================] - 0s 125ms/step - loss: 0.1097 - categorical_accuracy: 0.9375\n",
      "652/652 [==============================] - 174s 267ms/step - loss: 0.0150 - categorical_accuracy: 0.9952 - val_loss: 0.1097 - val_categorical_accuracy: 0.9375\n",
      "Epoch 67/100\n",
      "2/2 [==============================] - 0s 136ms/step - loss: 0.0457 - categorical_accuracy: 1.0000\n",
      "652/652 [==============================] - 175s 269ms/step - loss: 0.0153 - categorical_accuracy: 0.9950 - val_loss: 0.0457 - val_categorical_accuracy: 1.0000\n",
      "Epoch 68/100\n",
      "2/2 [==============================] - 0s 128ms/step - loss: 0.0148 - categorical_accuracy: 1.0000\n",
      "652/652 [==============================] - 175s 268ms/step - loss: 0.0166 - categorical_accuracy: 0.9946 - val_loss: 0.0148 - val_categorical_accuracy: 1.0000\n",
      "Epoch 69/100\n",
      "2/2 [==============================] - 0s 137ms/step - loss: 0.0010 - categorical_accuracy: 1.0000\n",
      "652/652 [==============================] - 180s 276ms/step - loss: 0.0185 - categorical_accuracy: 0.9950 - val_loss: 0.0010 - val_categorical_accuracy: 1.0000\n",
      "Epoch 70/100\n",
      "2/2 [==============================] - 0s 155ms/step - loss: 0.0169 - categorical_accuracy: 1.0000\n",
      "652/652 [==============================] - 176s 270ms/step - loss: 0.0220 - categorical_accuracy: 0.9931 - val_loss: 0.0169 - val_categorical_accuracy: 1.0000\n",
      "Epoch 71/100\n",
      "2/2 [==============================] - 0s 140ms/step - loss: 0.0114 - categorical_accuracy: 1.0000\n",
      "652/652 [==============================] - 177s 271ms/step - loss: 0.0109 - categorical_accuracy: 0.9956 - val_loss: 0.0114 - val_categorical_accuracy: 1.0000\n",
      "Epoch 72/100\n",
      "2/2 [==============================] - 0s 169ms/step - loss: 0.0176 - categorical_accuracy: 1.0000\n",
      "652/652 [==============================] - 177s 271ms/step - loss: 0.0101 - categorical_accuracy: 0.9971 - val_loss: 0.0176 - val_categorical_accuracy: 1.0000\n",
      "Epoch 73/100\n",
      "2/2 [==============================] - 0s 172ms/step - loss: 0.0661 - categorical_accuracy: 1.0000\n",
      "652/652 [==============================] - 179s 275ms/step - loss: 0.0129 - categorical_accuracy: 0.9948 - val_loss: 0.0661 - val_categorical_accuracy: 1.0000\n",
      "Epoch 74/100\n",
      "2/2 [==============================] - 0s 182ms/step - loss: 0.1425 - categorical_accuracy: 0.9375\n",
      "652/652 [==============================] - 177s 271ms/step - loss: 0.0202 - categorical_accuracy: 0.9937 - val_loss: 0.1425 - val_categorical_accuracy: 0.9375\n",
      "Epoch 75/100\n",
      "2/2 [==============================] - 0s 127ms/step - loss: 0.3759 - categorical_accuracy: 0.7500\n",
      "652/652 [==============================] - 174s 267ms/step - loss: 0.0177 - categorical_accuracy: 0.9948 - val_loss: 0.3759 - val_categorical_accuracy: 0.7500\n",
      "Epoch 76/100\n",
      "2/2 [==============================] - 0s 121ms/step - loss: 0.0459 - categorical_accuracy: 1.0000\n",
      "652/652 [==============================] - 174s 268ms/step - loss: 0.0213 - categorical_accuracy: 0.9925 - val_loss: 0.0459 - val_categorical_accuracy: 1.0000\n",
      "Epoch 77/100\n",
      "2/2 [==============================] - 0s 164ms/step - loss: 0.0018 - categorical_accuracy: 1.0000\n",
      "652/652 [==============================] - 176s 270ms/step - loss: 0.0127 - categorical_accuracy: 0.9962 - val_loss: 0.0018 - val_categorical_accuracy: 1.0000\n",
      "Epoch 78/100\n",
      "2/2 [==============================] - 0s 125ms/step - loss: 0.0262 - categorical_accuracy: 1.0000\n",
      "652/652 [==============================] - 180s 276ms/step - loss: 0.0157 - categorical_accuracy: 0.9954 - val_loss: 0.0262 - val_categorical_accuracy: 1.0000\n",
      "Epoch 79/100\n",
      "2/2 [==============================] - 0s 120ms/step - loss: 0.0269 - categorical_accuracy: 1.0000\n",
      "652/652 [==============================] - 174s 266ms/step - loss: 0.0145 - categorical_accuracy: 0.9952 - val_loss: 0.0269 - val_categorical_accuracy: 1.0000\n",
      "Epoch 80/100\n",
      "2/2 [==============================] - 0s 157ms/step - loss: 0.0941 - categorical_accuracy: 0.9375\n",
      "652/652 [==============================] - 177s 272ms/step - loss: 0.0181 - categorical_accuracy: 0.9962 - val_loss: 0.0941 - val_categorical_accuracy: 0.9375\n",
      "Epoch 81/100\n",
      "2/2 [==============================] - 0s 131ms/step - loss: 0.0170 - categorical_accuracy: 1.0000\n",
      "652/652 [==============================] - 173s 265ms/step - loss: 0.0131 - categorical_accuracy: 0.9958 - val_loss: 0.0170 - val_categorical_accuracy: 1.0000\n",
      "Epoch 82/100\n",
      "2/2 [==============================] - 0s 122ms/step - loss: 0.0324 - categorical_accuracy: 1.0000\n",
      "652/652 [==============================] - 173s 266ms/step - loss: 0.0103 - categorical_accuracy: 0.9965 - val_loss: 0.0324 - val_categorical_accuracy: 1.0000\n",
      "Epoch 83/100\n",
      "2/2 [==============================] - 0s 111ms/step - loss: 0.0035 - categorical_accuracy: 1.0000\n",
      "652/652 [==============================] - 174s 266ms/step - loss: 0.0101 - categorical_accuracy: 0.9975 - val_loss: 0.0035 - val_categorical_accuracy: 1.0000\n",
      "Epoch 84/100\n",
      "2/2 [==============================] - 0s 109ms/step - loss: 0.0142 - categorical_accuracy: 1.0000\n",
      "652/652 [==============================] - 174s 267ms/step - loss: 0.0095 - categorical_accuracy: 0.9969 - val_loss: 0.0142 - val_categorical_accuracy: 1.0000\n",
      "Epoch 85/100\n",
      "2/2 [==============================] - 0s 111ms/step - loss: 0.0095 - categorical_accuracy: 1.0000\n",
      "652/652 [==============================] - 173s 266ms/step - loss: 0.0165 - categorical_accuracy: 0.9941 - val_loss: 0.0095 - val_categorical_accuracy: 1.0000\n",
      "Epoch 86/100\n",
      "2/2 [==============================] - 0s 118ms/step - loss: 0.2794 - categorical_accuracy: 0.8125\n",
      "652/652 [==============================] - 174s 267ms/step - loss: 0.0098 - categorical_accuracy: 0.9979 - val_loss: 0.2794 - val_categorical_accuracy: 0.8125\n",
      "Epoch 87/100\n",
      "2/2 [==============================] - 0s 119ms/step - loss: 0.0021 - categorical_accuracy: 1.0000\n",
      "652/652 [==============================] - 175s 269ms/step - loss: 0.0099 - categorical_accuracy: 0.9967 - val_loss: 0.0021 - val_categorical_accuracy: 1.0000\n",
      "Epoch 88/100\n",
      "2/2 [==============================] - 0s 129ms/step - loss: 0.0392 - categorical_accuracy: 1.0000\n",
      "652/652 [==============================] - 174s 268ms/step - loss: 0.0117 - categorical_accuracy: 0.9967 - val_loss: 0.0392 - val_categorical_accuracy: 1.0000\n",
      "Epoch 89/100\n",
      "2/2 [==============================] - 0s 116ms/step - loss: 0.0325 - categorical_accuracy: 1.0000\n",
      "652/652 [==============================] - 174s 268ms/step - loss: 0.0110 - categorical_accuracy: 0.9962 - val_loss: 0.0325 - val_categorical_accuracy: 1.0000\n",
      "Epoch 90/100\n"
     ]
    },
    {
     "name": "stdout",
     "output_type": "stream",
     "text": [
      "2/2 [==============================] - 0s 124ms/step - loss: 0.2733 - categorical_accuracy: 0.8750\n",
      "652/652 [==============================] - 174s 267ms/step - loss: 0.0157 - categorical_accuracy: 0.9962 - val_loss: 0.2733 - val_categorical_accuracy: 0.8750\n",
      "Epoch 91/100\n",
      "2/2 [==============================] - 0s 121ms/step - loss: 0.0641 - categorical_accuracy: 1.0000\n",
      "652/652 [==============================] - 175s 268ms/step - loss: 0.0214 - categorical_accuracy: 0.9942 - val_loss: 0.0641 - val_categorical_accuracy: 1.0000\n",
      "Epoch 92/100\n",
      "2/2 [==============================] - 0s 131ms/step - loss: 0.0864 - categorical_accuracy: 1.0000\n",
      "652/652 [==============================] - 174s 267ms/step - loss: 0.0135 - categorical_accuracy: 0.9944 - val_loss: 0.0864 - val_categorical_accuracy: 1.0000\n",
      "Epoch 93/100\n",
      "2/2 [==============================] - 0s 118ms/step - loss: 0.0598 - categorical_accuracy: 0.9375\n",
      "652/652 [==============================] - 175s 268ms/step - loss: 0.0155 - categorical_accuracy: 0.9952 - val_loss: 0.0598 - val_categorical_accuracy: 0.9375\n",
      "Epoch 94/100\n",
      "2/2 [==============================] - 0s 115ms/step - loss: 0.0716 - categorical_accuracy: 0.9375\n",
      "652/652 [==============================] - 175s 268ms/step - loss: 0.0142 - categorical_accuracy: 0.9964 - val_loss: 0.0716 - val_categorical_accuracy: 0.9375\n",
      "Epoch 95/100\n",
      "2/2 [==============================] - 0s 108ms/step - loss: 0.0153 - categorical_accuracy: 1.0000\n",
      "652/652 [==============================] - 174s 267ms/step - loss: 0.0127 - categorical_accuracy: 0.9960 - val_loss: 0.0153 - val_categorical_accuracy: 1.0000\n",
      "Epoch 96/100\n",
      "2/2 [==============================] - 0s 118ms/step - loss: 0.0304 - categorical_accuracy: 1.0000\n",
      "652/652 [==============================] - 173s 266ms/step - loss: 0.0104 - categorical_accuracy: 0.9964 - val_loss: 0.0304 - val_categorical_accuracy: 1.0000\n",
      "Epoch 97/100\n",
      "2/2 [==============================] - 0s 122ms/step - loss: 0.0441 - categorical_accuracy: 1.0000\n",
      "652/652 [==============================] - 174s 267ms/step - loss: 0.0091 - categorical_accuracy: 0.9971 - val_loss: 0.0441 - val_categorical_accuracy: 1.0000\n",
      "Epoch 98/100\n",
      "2/2 [==============================] - 0s 119ms/step - loss: 0.0658 - categorical_accuracy: 0.9375\n",
      "652/652 [==============================] - 174s 268ms/step - loss: 0.0075 - categorical_accuracy: 0.9975 - val_loss: 0.0658 - val_categorical_accuracy: 0.9375\n",
      "Epoch 99/100\n",
      "2/2 [==============================] - 0s 124ms/step - loss: 0.0372 - categorical_accuracy: 1.0000\n",
      "652/652 [==============================] - 173s 266ms/step - loss: 0.0096 - categorical_accuracy: 0.9973 - val_loss: 0.0372 - val_categorical_accuracy: 1.0000\n",
      "Epoch 100/100\n",
      "2/2 [==============================] - 0s 115ms/step - loss: 0.0108 - categorical_accuracy: 1.0000\n",
      "652/652 [==============================] - 173s 266ms/step - loss: 0.0150 - categorical_accuracy: 0.9954 - val_loss: 0.0108 - val_categorical_accuracy: 1.0000\n"
     ]
    }
   ],
   "source": [
    "import math\n",
    "\n",
    "history = model.fit_generator(\n",
    "      training_set,\n",
    "      steps_per_epoch=math.ceil(number_of_training_samples//batch_size),\n",
    "      epochs=no_of_epochs,\n",
    "      callbacks=callbacks_list,\n",
    "      validation_data=validation_set,\n",
    "      validation_steps=math.ceil(number_of_validation_samples//batch_size))"
   ]
  },
  {
   "cell_type": "markdown",
   "metadata": {},
   "source": [
    "## Visualizing the Training Process"
   ]
  },
  {
   "cell_type": "code",
   "execution_count": 11,
   "metadata": {},
   "outputs": [
    {
     "data": {
      "image/png": "[encoded data removed]",
      "text/plain": [
       "<Figure size 432x288 with 1 Axes>"
      ]
     },
     "metadata": {
      "needs_background": "light"
     },
     "output_type": "display_data"
    },
    {
     "data": {
      "image/png": "[encoded data removed]",
      "text/plain": [
       "<Figure size 432x288 with 1 Axes>"
      ]
     },
     "metadata": {
      "needs_background": "light"
     },
     "output_type": "display_data"
    }
   ],
   "source": [
    "import matplotlib.pyplot as plt\n",
    "%matplotlib inline\n",
    "\n",
    "acc=history.history['categorical_accuracy']\n",
    "val_acc=history.history['val_categorical_accuracy']\n",
    "loss=history.history['loss']\n",
    "val_loss=history.history['val_loss']\n",
    "epochs=range(1,len(acc)+1)\n",
    "plt.xlabel('Epochs')\n",
    "plt.ylabel('Accuracy')\n",
    "plt.plot(epochs, acc, 'bo', label='Training acc')\n",
    "plt.plot(epochs, val_acc, 'b', label='Validation acc')\n",
    "plt.title('Training and validation accuracy')\n",
    "plt.legend()\n",
    "plt.figure()\n",
    "\n",
    "plt.plot(epochs, loss, 'bo', label='Training loss')\n",
    "plt.plot(epochs, val_loss, 'b', label='Validation loss')\n",
    "plt.title('Training and validation loss')\n",
    "plt.xlabel('Epochs')\n",
    "plt.ylabel('Loss')\n",
    "plt.legend()\n",
    "plt.show()"
   ]
  },
  {
   "cell_type": "markdown",
   "metadata": {},
   "source": [
    "## Loading the Best Model"
   ]
  },
  {
   "cell_type": "code",
   "execution_count": 12,
   "metadata": {},
   "outputs": [],
   "source": [
    "from tensorflow.python.keras.models import load_model\n",
    "\n",
    "best_model = load_model('Xception_Chest_X_Ray_Image_Classification_Pneumonia_vs_Normal_best_model.h5')"
   ]
  },
  {
   "cell_type": "markdown",
   "metadata": {},
   "source": [
    "## Evaluating the Best Model"
   ]
  },
  {
   "cell_type": "code",
   "execution_count": 13,
   "metadata": {},
   "outputs": [
    {
     "name": "stdout",
     "output_type": "stream",
     "text": [
      "78/78 [==============================] - 8s 103ms/step - loss: 0.2283 - categorical_accuracy: 0.9487\n",
      "Test-set classification accuracy: 94.87%\n"
     ]
    }
   ],
   "source": [
    "steps_test=int(number_of_test_samples/batch_size)\n",
    "result = best_model.evaluate_generator(test_set, steps=steps_test,verbose=1)\n",
    "print(\"Test-set classification accuracy: {0:.2%}\".format(result[1]))"
   ]
  },
  {
   "cell_type": "markdown",
   "metadata": {},
   "source": [
    "## Calculating Precision, Specificity and Sensitivity (Recall) values for the model\n",
    "*Precision-Recall* is a useful measure of success of prediction when the classes are very imbalanced. High *precision* relates to a low false positive rate, and high *recall* relates to a low false negative rate.\n",
    "\n",
    "Precision is defined as the number of true positives over the number of true positives plus the number of false positives. Recall is defined as the number of true positives over the number of true positives plus the number of false negatives. Please see the [link](https://scikit-learn.org/stable/auto_examples/model_selection/plot_precision_recall.html) for details.\n",
    "\n",
    "Another way of assessing a binary classification model is to compute the *sensitivity* (also called the true positive rate or the recall) and *specificity* (also called the true negative rate) of the model. *Sensitivity* indicates the percentage of sick people who are correctly identified as having the condition. *Specificity* indicates the percentage of healthy people who are correctly identified as not having the condition.\n",
    "\n",
    "But first we prepare our test data, so that later we can draw the *confusion matrix* as well as calculate *precision*, *specificity* and *sensitivity (recall)* of the model."
   ]
  },
  {
   "cell_type": "code",
   "execution_count": 14,
   "metadata": {},
   "outputs": [
    {
     "name": "stdout",
     "output_type": "stream",
     "text": [
      "Total number of test examples:  (624, 150, 150, 3)\n",
      "Total number of labels: (624, 1)\n"
     ]
    }
   ],
   "source": [
    "# Preparing test data\n",
    "import glob\n",
    "from pathlib import Path\n",
    "from tensorflow.python.keras.utils import to_categorical\n",
    "import cv2\n",
    "\n",
    "normal_cases_dir = Path('D:\\\\TensorFlow Programs\\\\Diagnosis of Pneumonia based on Chest X-Rays\\\\chest-xray-pneumonia\\\\chest_xray\\\\chest_xray\\\\test\\\\NORMAL')\n",
    "pneumonia_cases_dir = Path('D:\\\\TensorFlow Programs\\\\Diagnosis of Pneumonia based on Chest X-Rays\\\\chest-xray-pneumonia\\\\chest_xray\\\\chest_xray\\\\test\\\\PNEUMONIA')\n",
    "\n",
    "normal_cases = normal_cases_dir.glob('*.jpeg')\n",
    "pneumonia_cases = pneumonia_cases_dir.glob('*.jpeg')\n",
    "\n",
    "test_data = []\n",
    "test_labels = []\n",
    "\n",
    "for img in normal_cases:\n",
    "    img = cv2.imread(str(img))\n",
    "    img = cv2.resize(img, (image_width,image_height))\n",
    "    if img.shape[2] ==1:\n",
    "        img = np.dstack([img, img, img])\n",
    "    else:\n",
    "        img = cv2.cvtColor(img, cv2.COLOR_BGR2RGB)\n",
    "    img = img.astype(np.float32)/255.\n",
    "    label = [0]\n",
    "    test_data.append(img)\n",
    "    test_labels.append(label)\n",
    "                      \n",
    "for img in pneumonia_cases:\n",
    "    img = cv2.imread(str(img))\n",
    "    img = cv2.resize(img, (image_width,image_height))\n",
    "    if img.shape[2] ==1:\n",
    "        img = np.dstack([img, img, img])\n",
    "    else:\n",
    "        img = cv2.cvtColor(img, cv2.COLOR_BGR2RGB)\n",
    "    img = img.astype(np.float32)/255.\n",
    "    label = [1]\n",
    "    test_data.append(img)\n",
    "    test_labels.append(label)\n",
    "    \n",
    "\n",
    "test_data = np.array(test_data)\n",
    "test_labels = np.array(test_labels)\n",
    "test_labels_one_hot_encoding=to_categorical(test_labels)\n",
    "\n",
    "print(\"Total number of test examples: \", test_data.shape)\n",
    "print(\"Total number of labels:\", test_labels.shape)"
   ]
  },
  {
   "cell_type": "code",
   "execution_count": 15,
   "metadata": {},
   "outputs": [
    {
     "name": "stdout",
     "output_type": "stream",
     "text": [
      "624/624 [==============================] - 3s 5ms/sample - loss: 0.2392 - categorical_accuracy: 0.9503\n",
      "Loss on test set:  0.2391919468503359\n",
      "Accuracy on test set:  0.95032054\n"
     ]
    }
   ],
   "source": [
    "# Evaluation on test dataset\n",
    "\n",
    "test_loss, test_score = best_model.evaluate(test_data, test_labels_one_hot_encoding, batch_size=16)\n",
    "print(\"Loss on test set: \", test_loss)\n",
    "print(\"Accuracy on test set: \", test_score)"
   ]
  },
  {
   "cell_type": "code",
   "execution_count": 16,
   "metadata": {},
   "outputs": [
    {
     "name": "stdout",
     "output_type": "stream",
     "text": [
      "624/624 [==============================] - 4s 6ms/sample\n",
      "(624, 1)\n",
      "(624, 1)\n"
     ]
    }
   ],
   "source": [
    "# Get predictions\n",
    "preds = best_model.predict(test_data, batch_size=16,verbose=1)\n",
    "preds=np.around(preds)\n",
    "orig_test_labels=test_labels\n",
    "predicted_labels=np.argmax(preds,axis=1)\n",
    "predicted_labels=np.reshape(predicted_labels,(624,1))\n",
    "print(predicted_labels.shape)\n",
    "print(orig_test_labels.shape)"
   ]
  },
  {
   "cell_type": "code",
   "execution_count": 17,
   "metadata": {},
   "outputs": [
    {
     "data": {
      "text/plain": [
       "<Figure size 432x288 with 0 Axes>"
      ]
     },
     "metadata": {},
     "output_type": "display_data"
    },
    {
     "data": {
      "image/png": "[encoded data removed]",
      "text/plain": [
       "<Figure size 864x576 with 1 Axes>"
      ]
     },
     "metadata": {
      "needs_background": "light"
     },
     "output_type": "display_data"
    }
   ],
   "source": [
    "import matplotlib.pyplot as plt\n",
    "%matplotlib inline\n",
    "# Get the confusion matrix\n",
    "from sklearn.metrics import confusion_matrix\n",
    "from mlxtend.plotting import plot_confusion_matrix\n",
    "\n",
    "cm  = confusion_matrix(orig_test_labels, predicted_labels)\n",
    "plt.figure()\n",
    "plot_confusion_matrix(cm,figsize=(12,8), hide_ticks=True,cmap=plt.cm.Blues)\n",
    "plt.xticks(range(2), ['Normal', 'Pneumonia'], fontsize=16)\n",
    "plt.yticks(range(2), ['Normal', 'Pneumonia'], fontsize=16)\n",
    "plt.show()"
   ]
  },
  {
   "cell_type": "code",
   "execution_count": 18,
   "metadata": {},
   "outputs": [
    {
     "name": "stdout",
     "output_type": "stream",
     "text": [
      "Sensitivity (Recall) of the model is 0.979\n",
      "Specificity of the model is 0.902\n",
      "Precision of the model is 0.943\n"
     ]
    }
   ],
   "source": [
    "# Calculate Precision and Recall\n",
    "tn, fp, fn, tp = cm.ravel()\n",
    "\n",
    "precision = tp/(tp+fp)\n",
    "recall = tp/(tp+fn)\n",
    "specificity=tn/(tn+fp)\n",
    "\n",
    "print(\"Sensitivity (Recall) of the model is {:.3f}\".format(recall))\n",
    "print(\"Specificity of the model is {:.3f}\".format(specificity))\n",
    "print(\"Precision of the model is {:.3f}\".format(precision))"
   ]
  },
  {
   "cell_type": "markdown",
   "metadata": {},
   "source": [
    "Nice!!! So, this model has a `97.9%` sensitivity (recall), `90.2%` specificity and `94.3%` precision."
   ]
  },
  {
   "cell_type": "markdown",
   "metadata": {},
   "source": [
    "## ROC Curve and AUC for the model\n",
    "**Receiver operating characteristic** curve (a.k.a ROC) is a graphic plot that illustrates the diagnostic ability of a binary classifier system as its discrimination threshold is varied. The critical point here is \"binary classifier\" and \"varying threshold\". **Area Under the Curve** (a.k.a. AUC) is the percentage of the area that is under this ROC curve, ranging between 0 and 1.\n",
    "ROC is a great way to visualize the performance of a binary classifier, and AUC is one single number to summarize a classifier's performance. The higher the AUC is, the better the classifier."
   ]
  },
  {
   "cell_type": "code",
   "execution_count": 19,
   "metadata": {},
   "outputs": [],
   "source": [
    "from sklearn.metrics import roc_curve\n",
    "\n",
    "probs = best_model.predict_proba(test_data)\n",
    "preds = probs[:,1]\n",
    "fpr, tpr, thresholds = roc_curve(test_labels.ravel(), preds)"
   ]
  },
  {
   "cell_type": "code",
   "execution_count": 20,
   "metadata": {},
   "outputs": [],
   "source": [
    "from sklearn.metrics import auc\n",
    "auc_var = auc(fpr, tpr)"
   ]
  },
  {
   "cell_type": "code",
   "execution_count": 21,
   "metadata": {},
   "outputs": [
    {
     "data": {
      "image/png": "[encoded data removed]",
      "text/plain": [
       "<Figure size 432x288 with 1 Axes>"
      ]
     },
     "metadata": {
      "needs_background": "light"
     },
     "output_type": "display_data"
    }
   ],
   "source": [
    "import matplotlib.pyplot as plt\n",
    "%matplotlib inline\n",
    "plt.figure(1)\n",
    "plt.plot([0, 1], [0, 1], 'k--')\n",
    "plt.plot(fpr, tpr, label='Xception based model (area = {:.3f})'.format(auc_var))\n",
    "plt.xlabel('False positive rate')\n",
    "plt.ylabel('True positive rate')\n",
    "plt.title('ROC curve')\n",
    "plt.legend(loc='best')\n",
    "plt.show()"
   ]
  },
  {
   "cell_type": "markdown",
   "metadata": {},
   "source": [
    "## Precision-Recall Curve for the Model"
   ]
  },
  {
   "cell_type": "code",
   "execution_count": 22,
   "metadata": {},
   "outputs": [],
   "source": [
    "from sklearn.metrics import precision_recall_curve\n",
    "from sklearn.metrics import f1_score\n",
    "from sklearn.metrics import average_precision_score"
   ]
  },
  {
   "cell_type": "code",
   "execution_count": 23,
   "metadata": {},
   "outputs": [],
   "source": [
    "precision, recall, thresholds = precision_recall_curve(test_labels.ravel(), preds)"
   ]
  },
  {
   "cell_type": "code",
   "execution_count": 24,
   "metadata": {},
   "outputs": [],
   "source": [
    "auc_var2 = auc(recall, precision)"
   ]
  },
  {
   "cell_type": "code",
   "execution_count": 25,
   "metadata": {},
   "outputs": [
    {
     "data": {
      "image/png": "[encoded data removed]",
      "text/plain": [
       "<Figure size 432x288 with 1 Axes>"
      ]
     },
     "metadata": {
      "needs_background": "light"
     },
     "output_type": "display_data"
    }
   ],
   "source": [
    "plt.figure()\n",
    "plt.plot(recall, precision, label='Xception based model (area = {:.3f})'.format(auc_var2))\n",
    "plt.xlabel('Recall')\n",
    "plt.ylabel('Precision')\n",
    "plt.title('Precision-Recall curve')\n",
    "plt.legend(loc='best')\n",
    "plt.show()"
   ]
  },
  {
   "cell_type": "code",
   "execution_count": 26,
   "metadata": {},
   "outputs": [
    {
     "name": "stdout",
     "output_type": "stream",
     "text": [
      "Average Precision Score: 0.994\n"
     ]
    }
   ],
   "source": [
    "print('Average Precision Score: {:.3f}'.format(average_precision_score(test_labels.ravel(), preds)))"
   ]
  },
  {
   "cell_type": "code",
   "execution_count": 27,
   "metadata": {},
   "outputs": [
    {
     "name": "stdout",
     "output_type": "stream",
     "text": [
      "F1 Score: 0.961\n"
     ]
    }
   ],
   "source": [
    "print(\"F1 Score: {:.3f}\".format(f1_score(test_labels.ravel(),predicted_labels.ravel())))"
   ]
  }
 ],
 "metadata": {
  "kernelspec": {
   "display_name": "Python 3",
   "language": "python",
   "name": "python3"
  },
  "language_info": {
   "codemirror_mode": {
    "name": "ipython",
    "version": 3
   },
   "file_extension": ".py",
   "mimetype": "text/x-python",
   "name": "python",
   "nbconvert_exporter": "python",
   "pygments_lexer": "ipython3",
   "version": "3.6.8"
  }
 },
 "nbformat": 4,
 "nbformat_minor": 2
}
