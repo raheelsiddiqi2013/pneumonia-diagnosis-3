{
 "cells": [
  {
   "cell_type": "markdown",
   "metadata": {},
   "source": [
    "# Automated Chest X-ray based Pneumonia Diagnosis using PneumoniaNet\n",
    "The author of this notebook is **Dr Raheel Siddiqi**. He is a *Senior Assistant Professor* at Bahria University, Karachi Campus, Pakistan. His research interests include *Medical Imaging*, *Computer Vision* and *Deep Learning*. \n",
    "\n",
    "The objective of the experiment (presented in this notebook) is to evaluate the performance of a self-designed Convolutional Neural Network (CNN) based model called **PneumoniaNet**. PneumoniaNet is employed to diagnose Pneumonia (based on Chest X-ray images). The diagnosis process comprises of classifying Chest X-ray images into one of the two classes: (a) Normal, (b) Pneumonia.\n",
    "\n",
    "The dataset is downloded from [kaggle.com](https://www.kaggle.com/paultimothymooney/chest-xray-pneumonia). The dataset contains 5,863 X-Ray images (JPEG) and 2 categories (Pneumonia/Normal). The dataset is divided into three sets: (a) train, (b) val and (c) test.\n",
    "\n",
    "PneumoniaNet is based on a very simple 21-layer CNN architecture, where only 13 layers have trainable weights and biases. In order to avoid overfitting the following steps are ensured:\n",
    "1. Using a low capacity network i.e. less number of layers, less learnable parameters. This is done to reduce memorization capacity.\n",
    "2. Adding weight regularization to dense layer.\n",
    "3. Drop out layers have also been added."
   ]
  },
  {
   "cell_type": "markdown",
   "metadata": {},
   "source": [
    "# Generation of Degraded Images"
   ]
  },
  {
   "cell_type": "code",
   "execution_count": 1,
   "metadata": {},
   "outputs": [],
   "source": [
    "import pandas as pd\n",
    "import numpy as np\n",
    "import matplotlib.pyplot as plt\n",
    "import cv2\n",
    "import os\n",
    "from PIL import Image\n",
    "from skimage.util import random_noise"
   ]
  },
  {
   "cell_type": "code",
   "execution_count": 41,
   "metadata": {},
   "outputs": [],
   "source": [
    "INPUTDIR = 'D:\\\\TensorFlow Programs\\\\Diagnosis of Pneumonia based on Chest X-Rays\\\\chest-xray-pneumonia\\\\chest_xray\\\\chest_xray\\\\train'\n",
    "OUTPUTDIR = 'D:\\\\TensorFlow Programs\\\\Diagnosis of Pneumonia based on Chest X-Rays\\\\new experiments_from 24_08_2019\\\\Pediatric Chest X_Rays_Gaussian_Noise_Added\\\\train'\n",
    "CATEGORIES = ['NORMAL', 'PNEUMONIA']\n",
    "\n",
    "for category in CATEGORIES: \n",
    "    input_path = os.path.join(INPUTDIR,category)\n",
    "    output_path = os.path.join(OUTPUTDIR,category)\n",
    "    for img_name in os.listdir(input_path)[1:]:\n",
    "        im = Image.open(os.path.join(input_path,img_name))\n",
    "        # convert PIL Image to ndarray\n",
    "        im_arr = np.asarray(im)\n",
    "\n",
    "        # random_noise() method will convert image in [0, 255] to [0, 1.0],\n",
    "        # inherently it use np.random.normal() to create normal distribution\n",
    "        # and adds the generated noised back to image\n",
    "        noise_img = random_noise(im_arr, mode='gaussian', var=0.05**2)\n",
    "        noise_img = (255*noise_img).astype(np.uint8)\n",
    "\n",
    "        img = Image.fromarray(noise_img)\n",
    "        img.save(os.path.join(output_path,('G_'+img_name)))"
   ]
  },
  {
   "cell_type": "code",
   "execution_count": 43,
   "metadata": {},
   "outputs": [],
   "source": [
    "INPUTDIR = 'D:\\\\TensorFlow Programs\\\\Diagnosis of Pneumonia based on Chest X-Rays\\\\chest-xray-pneumonia\\\\chest_xray\\\\chest_xray\\\\test'\n",
    "OUTPUTDIR = 'D:\\\\TensorFlow Programs\\\\Diagnosis of Pneumonia based on Chest X-Rays\\\\new experiments_from 24_08_2019\\\\Pediatric Chest X_Rays_Gaussian_Noise_Added\\\\test'\n",
    "CATEGORIES = ['NORMAL', 'PNEUMONIA']\n",
    "\n",
    "for category in CATEGORIES: \n",
    "    input_path = os.path.join(INPUTDIR,category)\n",
    "    output_path = os.path.join(OUTPUTDIR,category)\n",
    "    for img_name in os.listdir(input_path):\n",
    "        im = Image.open(os.path.join(input_path,img_name))\n",
    "        # convert PIL Image to ndarray\n",
    "        im_arr = np.asarray(im)\n",
    "\n",
    "        # random_noise() method will convert image in [0, 255] to [0, 1.0],\n",
    "        # inherently it use np.random.normal() to create normal distribution\n",
    "        # and adds the generated noised back to image\n",
    "        noise_img = random_noise(im_arr, mode='gaussian', var=0.05**2)\n",
    "        noise_img = (255*noise_img).astype(np.uint8)\n",
    "\n",
    "        img = Image.fromarray(noise_img)\n",
    "        img.save(os.path.join(output_path,('G_'+img_name)))"
   ]
  },
  {
   "cell_type": "code",
   "execution_count": 45,
   "metadata": {},
   "outputs": [],
   "source": [
    "INPUTDIR = 'D:\\\\TensorFlow Programs\\\\Diagnosis of Pneumonia based on Chest X-Rays\\\\chest-xray-pneumonia\\\\chest_xray\\\\chest_xray\\\\val'\n",
    "OUTPUTDIR = 'D:\\\\TensorFlow Programs\\\\Diagnosis of Pneumonia based on Chest X-Rays\\\\new experiments_from 24_08_2019\\\\Pediatric Chest X_Rays_Gaussian_Noise_Added\\\\val'\n",
    "CATEGORIES = ['NORMAL', 'PNEUMONIA']\n",
    "\n",
    "for category in CATEGORIES: \n",
    "    input_path = os.path.join(INPUTDIR,category)\n",
    "    output_path = os.path.join(OUTPUTDIR,category)\n",
    "    for img_name in os.listdir(input_path)[1:]:\n",
    "        im = Image.open(os.path.join(input_path,img_name))\n",
    "        # convert PIL Image to ndarray\n",
    "        im_arr = np.asarray(im)\n",
    "\n",
    "        # random_noise() method will convert image in [0, 255] to [0, 1.0],\n",
    "        # inherently it use np.random.normal() to create normal distribution\n",
    "        # and adds the generated noised back to image\n",
    "        noise_img = random_noise(im_arr, mode='gaussian', var=0.05**2)\n",
    "        noise_img = (255*noise_img).astype(np.uint8)\n",
    "\n",
    "        img = Image.fromarray(noise_img)\n",
    "        img.save(os.path.join(output_path,('G_'+img_name)))"
   ]
  },
  {
   "cell_type": "markdown",
   "metadata": {},
   "source": [
    "# Tensorflow and Keras version used"
   ]
  },
  {
   "cell_type": "code",
   "execution_count": 2,
   "metadata": {},
   "outputs": [
    {
     "name": "stdout",
     "output_type": "stream",
     "text": [
      "Tensorflow Version:  1.13.1\n",
      "Keras Version:  2.2.4-tf\n"
     ]
    }
   ],
   "source": [
    "import tensorflow as tf\n",
    "from tensorflow.python import keras\n",
    "\n",
    "print('Tensorflow Version: ', tf.__version__)\n",
    "print('Keras Version: ', keras.__version__)"
   ]
  },
  {
   "cell_type": "markdown",
   "metadata": {},
   "source": [
    "# Setting up the Model"
   ]
  },
  {
   "cell_type": "code",
   "execution_count": 3,
   "metadata": {},
   "outputs": [
    {
     "name": "stdout",
     "output_type": "stream",
     "text": [
      "WARNING:tensorflow:From C:\\Users\\Raheel\\Anaconda3\\envs\\EnvName\\lib\\site-packages\\tensorflow\\python\\framework\\op_def_library.py:263: colocate_with (from tensorflow.python.framework.ops) is deprecated and will be removed in a future version.\n",
      "Instructions for updating:\n",
      "Colocations handled automatically by placer.\n",
      "WARNING:tensorflow:From C:\\Users\\Raheel\\Anaconda3\\envs\\EnvName\\lib\\site-packages\\keras\\backend\\tensorflow_backend.py:3445: calling dropout (from tensorflow.python.ops.nn_ops) with keep_prob is deprecated and will be removed in a future version.\n",
      "Instructions for updating:\n",
      "Please use `rate` instead of `keep_prob`. Rate should be set to `rate = 1 - keep_prob`.\n"
     ]
    },
    {
     "name": "stderr",
     "output_type": "stream",
     "text": [
      "Using TensorFlow backend.\n"
     ]
    },
    {
     "name": "stdout",
     "output_type": "stream",
     "text": [
      "_________________________________________________________________\n",
      "Layer (type)                 Output Shape              Param #   \n",
      "=================================================================\n",
      "conv2d_1 (Conv2D)            (None, 148, 148, 64)      1792      \n",
      "_________________________________________________________________\n",
      "conv2d_2 (Conv2D)            (None, 146, 146, 64)      36928     \n",
      "_________________________________________________________________\n",
      "conv2d_3 (Conv2D)            (None, 144, 144, 128)     73856     \n",
      "_________________________________________________________________\n",
      "conv2d_4 (Conv2D)            (None, 142, 142, 128)     147584    \n",
      "_________________________________________________________________\n",
      "max_pooling2d_1 (MaxPooling2 (None, 71, 71, 128)       0         \n",
      "_________________________________________________________________\n",
      "dropout_1 (Dropout)          (None, 71, 71, 128)       0         \n",
      "_________________________________________________________________\n",
      "conv2d_5 (Conv2D)            (None, 69, 69, 128)       147584    \n",
      "_________________________________________________________________\n",
      "conv2d_6 (Conv2D)            (None, 67, 67, 128)       147584    \n",
      "_________________________________________________________________\n",
      "conv2d_7 (Conv2D)            (None, 65, 65, 256)       295168    \n",
      "_________________________________________________________________\n",
      "conv2d_8 (Conv2D)            (None, 63, 63, 256)       590080    \n",
      "_________________________________________________________________\n",
      "max_pooling2d_2 (MaxPooling2 (None, 31, 31, 256)       0         \n",
      "_________________________________________________________________\n",
      "dropout_2 (Dropout)          (None, 31, 31, 256)       0         \n",
      "_________________________________________________________________\n",
      "conv2d_9 (Conv2D)            (None, 29, 29, 256)       590080    \n",
      "_________________________________________________________________\n",
      "conv2d_10 (Conv2D)           (None, 27, 27, 256)       590080    \n",
      "_________________________________________________________________\n",
      "conv2d_11 (Conv2D)           (None, 25, 25, 512)       1180160   \n",
      "_________________________________________________________________\n",
      "max_pooling2d_3 (MaxPooling2 (None, 12, 12, 512)       0         \n",
      "_________________________________________________________________\n",
      "dropout_3 (Dropout)          (None, 12, 12, 512)       0         \n",
      "_________________________________________________________________\n",
      "flatten_1 (Flatten)          (None, 73728)             0         \n",
      "_________________________________________________________________\n",
      "dense_1 (Dense)              (None, 512)               37749248  \n",
      "_________________________________________________________________\n",
      "dropout_4 (Dropout)          (None, 512)               0         \n",
      "_________________________________________________________________\n",
      "dense_2 (Dense)              (None, 2)                 1026      \n",
      "=================================================================\n",
      "Total params: 41,551,170\n",
      "Trainable params: 41,551,170\n",
      "Non-trainable params: 0\n",
      "_________________________________________________________________\n"
     ]
    }
   ],
   "source": [
    "import os\n",
    "import numpy as np\n",
    "import keras\n",
    "from keras import models\n",
    "from keras import layers\n",
    "from keras.preprocessing.image import ImageDataGenerator\n",
    "from keras import regularizers\n",
    "from keras import optimizers\n",
    "from keras.callbacks import ModelCheckpoint\n",
    "\n",
    "pneumoniaNetModel=models.Sequential()\n",
    "\n",
    "pneumoniaNetModel.add(layers.Conv2D(64, (3, 3), activation='relu', input_shape=(150,150,3)))\n",
    "pneumoniaNetModel.add(layers.Conv2D(64, (3, 3), activation='relu'))\n",
    "pneumoniaNetModel.add(layers.Conv2D(128, (3, 3), activation='relu'))\n",
    "pneumoniaNetModel.add(layers.Conv2D(128, (3, 3), activation='relu'))\n",
    "pneumoniaNetModel.add(layers.MaxPooling2D(pool_size=(2, 2)))\n",
    "pneumoniaNetModel.add(layers.Dropout(0.2))\n",
    "\n",
    "pneumoniaNetModel.add(layers.Conv2D(128, (3, 3), activation='relu'))\n",
    "pneumoniaNetModel.add(layers.Conv2D(128, (3, 3), activation='relu'))\n",
    "pneumoniaNetModel.add(layers.Conv2D(256, (3, 3), activation='relu'))\n",
    "pneumoniaNetModel.add(layers.Conv2D(256, (3, 3), activation='relu'))\n",
    "pneumoniaNetModel.add(layers.MaxPooling2D(pool_size=(2, 2)))\n",
    "pneumoniaNetModel.add(layers.Dropout(0.2))\n",
    "\n",
    "pneumoniaNetModel.add(layers.Conv2D(256, (3, 3), activation='relu'))\n",
    "pneumoniaNetModel.add(layers.Conv2D(256, (3, 3), activation='relu'))\n",
    "pneumoniaNetModel.add(layers.Conv2D(512, (3, 3), activation='relu'))\n",
    "pneumoniaNetModel.add(layers.MaxPooling2D(pool_size=(2, 2)))\n",
    "pneumoniaNetModel.add(layers.Dropout(0.2))\n",
    "\n",
    "pneumoniaNetModel.add(layers.Flatten())\n",
    "pneumoniaNetModel.add(layers.Dense(512, kernel_regularizer=regularizers.l2(0.001), activation='relu'))\n",
    "pneumoniaNetModel.add(layers.Dropout(0.2))\n",
    "pneumoniaNetModel.add(layers.Dense(2, activation='softmax'))\n",
    "\n",
    "pneumoniaNetModel.compile(loss='categorical_crossentropy',optimizer=optimizers.Adam(lr=1e-4),metrics=['categorical_accuracy'])\n",
    "pneumoniaNetModel.summary()\n",
    "\n",
    "filepath=\"PneumoniaNet7_Degraded_Dataset_Gaussian_Noise_Addition.h5\"\n",
    "checkpoint = ModelCheckpoint(filepath, save_best_only=True)\n",
    "callbacks_list = [checkpoint]"
   ]
  },
  {
   "cell_type": "markdown",
   "metadata": {},
   "source": [
    "## Setting up Training and Validation Data for the experiment"
   ]
  },
  {
   "cell_type": "code",
   "execution_count": 4,
   "metadata": {},
   "outputs": [],
   "source": [
    "image_height = 150\n",
    "image_width = 150\n",
    "batch_size = 8\n",
    "no_of_epochs  = 200\n",
    "number_of_training_samples=5216\n",
    "number_of_validation_samples=16\n",
    "number_of_test_samples=624"
   ]
  },
  {
   "cell_type": "code",
   "execution_count": 5,
   "metadata": {},
   "outputs": [],
   "source": [
    "train_dir='D:\\\\TensorFlow Programs\\\\Diagnosis of Pneumonia based on Chest X-Rays\\\\new experiments_from 24_08_2019\\\\Pediatric Chest X_Rays_Gaussian_Noise_Added\\\\train'\n",
    "validation_dir='D:\\\\TensorFlow Programs\\\\Diagnosis of Pneumonia based on Chest X-Rays\\\\new experiments_from 24_08_2019\\\\Pediatric Chest X_Rays_Gaussian_Noise_Added\\\\val'\n",
    "test_dir='D:\\\\TensorFlow Programs\\\\Diagnosis of Pneumonia based on Chest X-Rays\\\\new experiments_from 24_08_2019\\\\Pediatric Chest X_Rays_Gaussian_Noise_Added\\\\test'"
   ]
  },
  {
   "cell_type": "code",
   "execution_count": 6,
   "metadata": {},
   "outputs": [],
   "source": [
    "train_datagen = ImageDataGenerator(rescale=1./255,\n",
    "                                   rotation_range=40,\n",
    "                                   width_shift_range=0.2,\n",
    "                                   height_shift_range=0.2,\n",
    "                                   shear_range=0.2,\n",
    "                                   zoom_range=0.2\n",
    "                                   )\n",
    "\n",
    "validation_datagen = ImageDataGenerator(rescale=1./255)  \n",
    "\n",
    "test_datagen = ImageDataGenerator(rescale=1./255)"
   ]
  },
  {
   "cell_type": "code",
   "execution_count": 7,
   "metadata": {},
   "outputs": [
    {
     "name": "stdout",
     "output_type": "stream",
     "text": [
      "Found 5216 images belonging to 2 classes.\n",
      "Found 16 images belonging to 2 classes.\n",
      "Found 624 images belonging to 2 classes.\n"
     ]
    }
   ],
   "source": [
    "training_set = train_datagen.flow_from_directory(train_dir,target_size=(image_width, image_height),batch_size=batch_size)\n",
    "validation_set = validation_datagen.flow_from_directory(validation_dir,target_size=(image_width, image_height),batch_size=batch_size,shuffle=False)\n",
    "test_set = test_datagen.flow_from_directory(test_dir,target_size=(image_width, image_height),batch_size=batch_size,shuffle=False)"
   ]
  },
  {
   "cell_type": "markdown",
   "metadata": {},
   "source": [
    "## Model Training"
   ]
  },
  {
   "cell_type": "code",
   "execution_count": 8,
   "metadata": {},
   "outputs": [
    {
     "name": "stdout",
     "output_type": "stream",
     "text": [
      "WARNING:tensorflow:From C:\\Users\\Raheel\\Anaconda3\\envs\\EnvName\\lib\\site-packages\\tensorflow\\python\\ops\\math_ops.py:3066: to_int32 (from tensorflow.python.ops.math_ops) is deprecated and will be removed in a future version.\n",
      "Instructions for updating:\n",
      "Use tf.cast instead.\n",
      "Epoch 1/200\n",
      "652/652 [==============================] - 231s 354ms/step - loss: 0.6804 - categorical_accuracy: 0.7425 - val_loss: 0.7900 - val_categorical_accuracy: 0.5000\n",
      "Epoch 2/200\n",
      "652/652 [==============================] - 220s 337ms/step - loss: 0.5820 - categorical_accuracy: 0.7429 - val_loss: 0.7651 - val_categorical_accuracy: 0.5000\n",
      "Epoch 3/200\n",
      "652/652 [==============================] - 219s 336ms/step - loss: 0.5343 - categorical_accuracy: 0.7429 - val_loss: 0.8068 - val_categorical_accuracy: 0.5000\n",
      "Epoch 4/200\n",
      "652/652 [==============================] - 220s 338ms/step - loss: 0.5120 - categorical_accuracy: 0.7439 - val_loss: 0.8716 - val_categorical_accuracy: 0.5000\n",
      "Epoch 5/200\n",
      "652/652 [==============================] - 220s 338ms/step - loss: 0.4938 - categorical_accuracy: 0.7569 - val_loss: 0.6592 - val_categorical_accuracy: 0.7500\n",
      "Epoch 6/200\n",
      "652/652 [==============================] - 219s 335ms/step - loss: 0.4871 - categorical_accuracy: 0.7701 - val_loss: 0.6270 - val_categorical_accuracy: 0.6250\n",
      "Epoch 7/200\n",
      "652/652 [==============================] - 219s 336ms/step - loss: 0.4856 - categorical_accuracy: 0.7703 - val_loss: 1.2544 - val_categorical_accuracy: 0.6250\n",
      "Epoch 8/200\n",
      "652/652 [==============================] - 219s 336ms/step - loss: 0.4424 - categorical_accuracy: 0.7977 - val_loss: 0.6706 - val_categorical_accuracy: 0.6250\n",
      "Epoch 9/200\n",
      "652/652 [==============================] - 221s 338ms/step - loss: 0.3987 - categorical_accuracy: 0.8336 - val_loss: 0.4774 - val_categorical_accuracy: 0.7500\n",
      "Epoch 10/200\n",
      "652/652 [==============================] - 219s 337ms/step - loss: 0.3451 - categorical_accuracy: 0.8637 - val_loss: 0.8027 - val_categorical_accuracy: 0.6250\n",
      "Epoch 11/200\n",
      "652/652 [==============================] - 221s 339ms/step - loss: 0.3265 - categorical_accuracy: 0.8702 - val_loss: 0.5302 - val_categorical_accuracy: 0.7500\n",
      "Epoch 12/200\n",
      "652/652 [==============================] - 221s 339ms/step - loss: 0.3136 - categorical_accuracy: 0.8717 - val_loss: 0.6139 - val_categorical_accuracy: 0.6250\n",
      "Epoch 13/200\n",
      "652/652 [==============================] - 221s 338ms/step - loss: 0.2941 - categorical_accuracy: 0.8882 - val_loss: 0.8029 - val_categorical_accuracy: 0.6875\n",
      "Epoch 14/200\n",
      "652/652 [==============================] - 220s 338ms/step - loss: 0.2973 - categorical_accuracy: 0.8811 - val_loss: 0.8224 - val_categorical_accuracy: 0.6250\n",
      "Epoch 15/200\n",
      "652/652 [==============================] - 221s 338ms/step - loss: 0.2847 - categorical_accuracy: 0.8915 - val_loss: 0.5488 - val_categorical_accuracy: 0.8125\n",
      "Epoch 16/200\n",
      "652/652 [==============================] - 221s 339ms/step - loss: 0.2851 - categorical_accuracy: 0.8878 - val_loss: 0.6323 - val_categorical_accuracy: 0.8125\n",
      "Epoch 17/200\n",
      "652/652 [==============================] - 221s 339ms/step - loss: 0.2693 - categorical_accuracy: 0.8967 - val_loss: 0.4302 - val_categorical_accuracy: 0.8750\n",
      "Epoch 18/200\n",
      "652/652 [==============================] - 220s 337ms/step - loss: 0.2652 - categorical_accuracy: 0.9016 - val_loss: 0.8614 - val_categorical_accuracy: 0.6250\n",
      "Epoch 19/200\n",
      "652/652 [==============================] - 221s 339ms/step - loss: 0.2655 - categorical_accuracy: 0.8976 - val_loss: 0.6324 - val_categorical_accuracy: 0.6875\n",
      "Epoch 20/200\n",
      "652/652 [==============================] - 221s 339ms/step - loss: 0.2596 - categorical_accuracy: 0.8986 - val_loss: 0.6633 - val_categorical_accuracy: 0.6250\n",
      "Epoch 21/200\n",
      "652/652 [==============================] - 220s 338ms/step - loss: 0.2512 - categorical_accuracy: 0.9086 - val_loss: 0.5180 - val_categorical_accuracy: 0.7500\n",
      "Epoch 22/200\n",
      "652/652 [==============================] - 221s 338ms/step - loss: 0.2520 - categorical_accuracy: 0.9064 - val_loss: 0.4998 - val_categorical_accuracy: 0.7500\n",
      "Epoch 23/200\n",
      "652/652 [==============================] - 220s 338ms/step - loss: 0.2439 - categorical_accuracy: 0.9101 - val_loss: 0.9198 - val_categorical_accuracy: 0.6250\n",
      "Epoch 24/200\n",
      "652/652 [==============================] - 221s 339ms/step - loss: 0.2407 - categorical_accuracy: 0.9082 - val_loss: 0.7421 - val_categorical_accuracy: 0.6875\n",
      "Epoch 25/200\n",
      "652/652 [==============================] - 221s 339ms/step - loss: 0.2342 - categorical_accuracy: 0.9137 - val_loss: 0.8073 - val_categorical_accuracy: 0.7500\n",
      "Epoch 26/200\n",
      "652/652 [==============================] - 221s 338ms/step - loss: 0.2451 - categorical_accuracy: 0.9084 - val_loss: 0.9410 - val_categorical_accuracy: 0.6250\n",
      "Epoch 27/200\n",
      "652/652 [==============================] - 221s 339ms/step - loss: 0.2380 - categorical_accuracy: 0.9120 - val_loss: 0.9944 - val_categorical_accuracy: 0.5625\n",
      "Epoch 28/200\n",
      "652/652 [==============================] - 221s 339ms/step - loss: 0.2302 - categorical_accuracy: 0.9164 - val_loss: 0.7430 - val_categorical_accuracy: 0.6875\n",
      "Epoch 29/200\n",
      "652/652 [==============================] - 221s 338ms/step - loss: 0.2239 - categorical_accuracy: 0.9172 - val_loss: 0.7299 - val_categorical_accuracy: 0.7500\n",
      "Epoch 30/200\n",
      "652/652 [==============================] - 221s 338ms/step - loss: 0.2155 - categorical_accuracy: 0.9224 - val_loss: 1.3115 - val_categorical_accuracy: 0.6250\n",
      "Epoch 31/200\n",
      "652/652 [==============================] - 221s 339ms/step - loss: 0.2181 - categorical_accuracy: 0.9248 - val_loss: 0.9674 - val_categorical_accuracy: 0.6250\n",
      "Epoch 32/200\n",
      "652/652 [==============================] - 220s 338ms/step - loss: 0.2111 - categorical_accuracy: 0.9256 - val_loss: 1.2912 - val_categorical_accuracy: 0.5625\n",
      "Epoch 33/200\n",
      "652/652 [==============================] - 221s 339ms/step - loss: 0.2114 - categorical_accuracy: 0.9241 - val_loss: 0.5412 - val_categorical_accuracy: 0.7500\n",
      "Epoch 34/200\n",
      "652/652 [==============================] - 221s 339ms/step - loss: 0.1976 - categorical_accuracy: 0.9314 - val_loss: 0.9583 - val_categorical_accuracy: 0.6250\n",
      "Epoch 35/200\n",
      "652/652 [==============================] - 221s 339ms/step - loss: 0.2123 - categorical_accuracy: 0.9243 - val_loss: 0.6142 - val_categorical_accuracy: 0.7500\n",
      "Epoch 36/200\n",
      "652/652 [==============================] - 221s 339ms/step - loss: 0.1971 - categorical_accuracy: 0.9302 - val_loss: 0.6461 - val_categorical_accuracy: 0.6875\n",
      "Epoch 37/200\n",
      "652/652 [==============================] - 221s 339ms/step - loss: 0.1878 - categorical_accuracy: 0.9371 - val_loss: 1.6737 - val_categorical_accuracy: 0.6250\n",
      "Epoch 38/200\n",
      "652/652 [==============================] - 221s 338ms/step - loss: 0.1881 - categorical_accuracy: 0.9352 - val_loss: 0.8849 - val_categorical_accuracy: 0.6875\n",
      "Epoch 39/200\n",
      "652/652 [==============================] - 220s 338ms/step - loss: 0.1935 - categorical_accuracy: 0.9342 - val_loss: 0.8043 - val_categorical_accuracy: 0.6250\n",
      "Epoch 40/200\n",
      "652/652 [==============================] - 221s 339ms/step - loss: 0.1825 - categorical_accuracy: 0.9387 - val_loss: 1.2214 - val_categorical_accuracy: 0.6875\n",
      "Epoch 41/200\n",
      "652/652 [==============================] - 221s 339ms/step - loss: 0.1852 - categorical_accuracy: 0.9371 - val_loss: 0.8989 - val_categorical_accuracy: 0.6250\n",
      "Epoch 42/200\n",
      "652/652 [==============================] - 221s 338ms/step - loss: 0.1781 - categorical_accuracy: 0.9371 - val_loss: 0.7973 - val_categorical_accuracy: 0.6875\n",
      "Epoch 43/200\n",
      "652/652 [==============================] - 221s 339ms/step - loss: 0.1829 - categorical_accuracy: 0.9335 - val_loss: 0.5385 - val_categorical_accuracy: 0.6875\n",
      "Epoch 44/200\n",
      "652/652 [==============================] - 221s 339ms/step - loss: 0.1734 - categorical_accuracy: 0.9406 - val_loss: 0.5892 - val_categorical_accuracy: 0.8125\n",
      "Epoch 45/200\n",
      "652/652 [==============================] - 221s 339ms/step - loss: 0.1731 - categorical_accuracy: 0.9431 - val_loss: 1.1098 - val_categorical_accuracy: 0.5625\n",
      "Epoch 46/200\n",
      "652/652 [==============================] - 221s 339ms/step - loss: 0.1669 - categorical_accuracy: 0.9440 - val_loss: 0.6816 - val_categorical_accuracy: 0.7500\n",
      "Epoch 47/200\n"
     ]
    },
    {
     "name": "stdout",
     "output_type": "stream",
     "text": [
      "652/652 [==============================] - 221s 339ms/step - loss: 0.1648 - categorical_accuracy: 0.9457 - val_loss: 0.5161 - val_categorical_accuracy: 0.6875\n",
      "Epoch 48/200\n",
      "652/652 [==============================] - 221s 339ms/step - loss: 0.1664 - categorical_accuracy: 0.9421 - val_loss: 0.6418 - val_categorical_accuracy: 0.7500\n",
      "Epoch 49/200\n",
      "652/652 [==============================] - 221s 339ms/step - loss: 0.1649 - categorical_accuracy: 0.9446 - val_loss: 0.9147 - val_categorical_accuracy: 0.6250\n",
      "Epoch 50/200\n",
      "652/652 [==============================] - 221s 339ms/step - loss: 0.1609 - categorical_accuracy: 0.9465 - val_loss: 0.2686 - val_categorical_accuracy: 0.8750\n",
      "Epoch 51/200\n",
      "652/652 [==============================] - 210s 322ms/step - loss: 0.1600 - categorical_accuracy: 0.9427 - val_loss: 0.7264 - val_categorical_accuracy: 0.6250\n",
      "Epoch 52/200\n",
      "652/652 [==============================] - 219s 336ms/step - loss: 0.1654 - categorical_accuracy: 0.9417 - val_loss: 0.5028 - val_categorical_accuracy: 0.8750\n",
      "Epoch 53/200\n",
      "652/652 [==============================] - 219s 336ms/step - loss: 0.1499 - categorical_accuracy: 0.9500 - val_loss: 0.6195 - val_categorical_accuracy: 0.7500\n",
      "Epoch 54/200\n",
      "652/652 [==============================] - 219s 336ms/step - loss: 0.1601 - categorical_accuracy: 0.9438 - val_loss: 2.0097 - val_categorical_accuracy: 0.5625\n",
      "Epoch 55/200\n",
      "652/652 [==============================] - 219s 336ms/step - loss: 0.1502 - categorical_accuracy: 0.9540 - val_loss: 0.5266 - val_categorical_accuracy: 0.7500\n",
      "Epoch 56/200\n",
      "652/652 [==============================] - 221s 339ms/step - loss: 0.1479 - categorical_accuracy: 0.9494 - val_loss: 0.7579 - val_categorical_accuracy: 0.7500\n",
      "Epoch 57/200\n",
      "652/652 [==============================] - 221s 339ms/step - loss: 0.1481 - categorical_accuracy: 0.9513 - val_loss: 1.0467 - val_categorical_accuracy: 0.6875\n",
      "Epoch 58/200\n",
      "652/652 [==============================] - 221s 339ms/step - loss: 0.1452 - categorical_accuracy: 0.9519 - val_loss: 1.7474 - val_categorical_accuracy: 0.6250\n",
      "Epoch 59/200\n",
      "652/652 [==============================] - 221s 339ms/step - loss: 0.1395 - categorical_accuracy: 0.9557 - val_loss: 1.4149 - val_categorical_accuracy: 0.5625\n",
      "Epoch 60/200\n",
      "652/652 [==============================] - 221s 339ms/step - loss: 0.1409 - categorical_accuracy: 0.9546 - val_loss: 0.7223 - val_categorical_accuracy: 0.6875\n",
      "Epoch 61/200\n",
      "652/652 [==============================] - 221s 339ms/step - loss: 0.1432 - categorical_accuracy: 0.9507 - val_loss: 0.6980 - val_categorical_accuracy: 0.8125\n",
      "Epoch 62/200\n",
      "652/652 [==============================] - 221s 339ms/step - loss: 0.1351 - categorical_accuracy: 0.9544 - val_loss: 0.7856 - val_categorical_accuracy: 0.6875\n",
      "Epoch 63/200\n",
      "652/652 [==============================] - 221s 339ms/step - loss: 0.1436 - categorical_accuracy: 0.9509 - val_loss: 0.4957 - val_categorical_accuracy: 0.8125\n",
      "Epoch 64/200\n",
      "652/652 [==============================] - 221s 339ms/step - loss: 0.1380 - categorical_accuracy: 0.9542 - val_loss: 1.0380 - val_categorical_accuracy: 0.6250\n",
      "Epoch 65/200\n",
      "652/652 [==============================] - 221s 339ms/step - loss: 0.1467 - categorical_accuracy: 0.9511 - val_loss: 0.3257 - val_categorical_accuracy: 0.8750\n",
      "Epoch 66/200\n",
      "652/652 [==============================] - 221s 339ms/step - loss: 0.1370 - categorical_accuracy: 0.9519 - val_loss: 0.6816 - val_categorical_accuracy: 0.7500\n",
      "Epoch 67/200\n",
      "652/652 [==============================] - 221s 339ms/step - loss: 0.1368 - categorical_accuracy: 0.9576 - val_loss: 0.3113 - val_categorical_accuracy: 0.8750\n",
      "Epoch 68/200\n",
      "652/652 [==============================] - 221s 339ms/step - loss: 0.1363 - categorical_accuracy: 0.9561 - val_loss: 0.7437 - val_categorical_accuracy: 0.7500\n",
      "Epoch 69/200\n",
      "652/652 [==============================] - 221s 338ms/step - loss: 0.1404 - categorical_accuracy: 0.9532 - val_loss: 0.5631 - val_categorical_accuracy: 0.8125\n",
      "Epoch 70/200\n",
      "652/652 [==============================] - 221s 339ms/step - loss: 0.1347 - categorical_accuracy: 0.9572 - val_loss: 0.9258 - val_categorical_accuracy: 0.6875\n",
      "Epoch 71/200\n",
      "652/652 [==============================] - 221s 339ms/step - loss: 0.1315 - categorical_accuracy: 0.9578 - val_loss: 1.2500 - val_categorical_accuracy: 0.5625\n",
      "Epoch 72/200\n",
      "652/652 [==============================] - 221s 339ms/step - loss: 0.1307 - categorical_accuracy: 0.9559 - val_loss: 1.7520 - val_categorical_accuracy: 0.5625\n",
      "Epoch 73/200\n",
      "652/652 [==============================] - 221s 339ms/step - loss: 0.1351 - categorical_accuracy: 0.9548 - val_loss: 0.6703 - val_categorical_accuracy: 0.7500\n",
      "Epoch 74/200\n",
      "652/652 [==============================] - 221s 339ms/step - loss: 0.1279 - categorical_accuracy: 0.9597 - val_loss: 0.9308 - val_categorical_accuracy: 0.6250\n",
      "Epoch 75/200\n",
      "652/652 [==============================] - 221s 338ms/step - loss: 0.1318 - categorical_accuracy: 0.9563 - val_loss: 0.9048 - val_categorical_accuracy: 0.6875\n",
      "Epoch 76/200\n",
      "652/652 [==============================] - 221s 339ms/step - loss: 0.1208 - categorical_accuracy: 0.9615 - val_loss: 0.7855 - val_categorical_accuracy: 0.6875\n",
      "Epoch 77/200\n",
      "652/652 [==============================] - 221s 339ms/step - loss: 0.1193 - categorical_accuracy: 0.9609 - val_loss: 0.4471 - val_categorical_accuracy: 0.7500\n",
      "Epoch 78/200\n",
      "652/652 [==============================] - 221s 339ms/step - loss: 0.1217 - categorical_accuracy: 0.9622 - val_loss: 0.9414 - val_categorical_accuracy: 0.6875\n",
      "Epoch 79/200\n",
      "652/652 [==============================] - 221s 339ms/step - loss: 0.1206 - categorical_accuracy: 0.9626 - val_loss: 0.6275 - val_categorical_accuracy: 0.8125\n",
      "Epoch 80/200\n",
      "652/652 [==============================] - 221s 338ms/step - loss: 0.1163 - categorical_accuracy: 0.9603 - val_loss: 0.5594 - val_categorical_accuracy: 0.7500\n",
      "Epoch 81/200\n",
      "652/652 [==============================] - 220s 338ms/step - loss: 0.1167 - categorical_accuracy: 0.9620 - val_loss: 0.6623 - val_categorical_accuracy: 0.8125\n",
      "Epoch 82/200\n",
      "652/652 [==============================] - 220s 338ms/step - loss: 0.1235 - categorical_accuracy: 0.9624 - val_loss: 1.0632 - val_categorical_accuracy: 0.6250\n",
      "Epoch 83/200\n",
      "652/652 [==============================] - 221s 339ms/step - loss: 0.1201 - categorical_accuracy: 0.9624 - val_loss: 0.7225 - val_categorical_accuracy: 0.6875\n",
      "Epoch 84/200\n",
      "652/652 [==============================] - 221s 339ms/step - loss: 0.1229 - categorical_accuracy: 0.9609 - val_loss: 1.0976 - val_categorical_accuracy: 0.6875\n",
      "Epoch 85/200\n",
      "652/652 [==============================] - 221s 339ms/step - loss: 0.1166 - categorical_accuracy: 0.9613 - val_loss: 1.8309 - val_categorical_accuracy: 0.6250\n",
      "Epoch 86/200\n",
      "652/652 [==============================] - 221s 339ms/step - loss: 0.1115 - categorical_accuracy: 0.9653 - val_loss: 0.7241 - val_categorical_accuracy: 0.6250\n",
      "Epoch 87/200\n",
      "652/652 [==============================] - 221s 338ms/step - loss: 0.1138 - categorical_accuracy: 0.9655 - val_loss: 0.3483 - val_categorical_accuracy: 0.9375\n",
      "Epoch 88/200\n",
      "652/652 [==============================] - 221s 339ms/step - loss: 0.1169 - categorical_accuracy: 0.9609 - val_loss: 0.5779 - val_categorical_accuracy: 0.6875\n",
      "Epoch 89/200\n",
      "652/652 [==============================] - 221s 339ms/step - loss: 0.1153 - categorical_accuracy: 0.9647 - val_loss: 0.4474 - val_categorical_accuracy: 0.7500\n",
      "Epoch 90/200\n",
      "652/652 [==============================] - 221s 339ms/step - loss: 0.1104 - categorical_accuracy: 0.9659 - val_loss: 1.1996 - val_categorical_accuracy: 0.6250\n",
      "Epoch 91/200\n",
      "652/652 [==============================] - 221s 339ms/step - loss: 0.1139 - categorical_accuracy: 0.9666 - val_loss: 0.2941 - val_categorical_accuracy: 0.8750\n",
      "Epoch 92/200\n",
      "652/652 [==============================] - 221s 339ms/step - loss: 0.1093 - categorical_accuracy: 0.9670 - val_loss: 0.9958 - val_categorical_accuracy: 0.5625\n",
      "Epoch 93/200\n",
      "652/652 [==============================] - 221s 339ms/step - loss: 0.1144 - categorical_accuracy: 0.9661 - val_loss: 0.7203 - val_categorical_accuracy: 0.6875\n",
      "Epoch 94/200\n",
      "652/652 [==============================] - 221s 339ms/step - loss: 0.1058 - categorical_accuracy: 0.9678 - val_loss: 0.8867 - val_categorical_accuracy: 0.7500\n"
     ]
    },
    {
     "name": "stdout",
     "output_type": "stream",
     "text": [
      "Epoch 95/200\n",
      "652/652 [==============================] - 221s 339ms/step - loss: 0.1063 - categorical_accuracy: 0.9638 - val_loss: 0.6022 - val_categorical_accuracy: 0.7500\n",
      "Epoch 96/200\n",
      "652/652 [==============================] - 221s 339ms/step - loss: 0.1066 - categorical_accuracy: 0.9668 - val_loss: 0.5387 - val_categorical_accuracy: 0.6875\n",
      "Epoch 97/200\n",
      "652/652 [==============================] - 221s 339ms/step - loss: 0.1111 - categorical_accuracy: 0.9674 - val_loss: 0.3927 - val_categorical_accuracy: 0.8750\n",
      "Epoch 98/200\n",
      "652/652 [==============================] - 221s 339ms/step - loss: 0.1063 - categorical_accuracy: 0.9663 - val_loss: 0.6393 - val_categorical_accuracy: 0.6875\n",
      "Epoch 99/200\n",
      "652/652 [==============================] - 221s 339ms/step - loss: 0.1055 - categorical_accuracy: 0.9661 - val_loss: 0.3074 - val_categorical_accuracy: 0.8750\n",
      "Epoch 100/200\n",
      "652/652 [==============================] - 221s 339ms/step - loss: 0.1131 - categorical_accuracy: 0.9622 - val_loss: 0.5065 - val_categorical_accuracy: 0.7500\n",
      "Epoch 101/200\n",
      "652/652 [==============================] - 221s 339ms/step - loss: 0.1003 - categorical_accuracy: 0.9686 - val_loss: 0.4911 - val_categorical_accuracy: 0.8125\n",
      "Epoch 102/200\n",
      "652/652 [==============================] - 221s 339ms/step - loss: 0.1007 - categorical_accuracy: 0.9689 - val_loss: 0.4540 - val_categorical_accuracy: 0.8125\n",
      "Epoch 103/200\n",
      "652/652 [==============================] - 221s 339ms/step - loss: 0.0949 - categorical_accuracy: 0.9720 - val_loss: 0.4977 - val_categorical_accuracy: 0.8125\n",
      "Epoch 104/200\n",
      "652/652 [==============================] - 221s 339ms/step - loss: 0.1044 - categorical_accuracy: 0.9674 - val_loss: 0.3786 - val_categorical_accuracy: 0.8750\n",
      "Epoch 105/200\n",
      "652/652 [==============================] - 221s 339ms/step - loss: 0.1064 - categorical_accuracy: 0.9680 - val_loss: 0.6208 - val_categorical_accuracy: 0.6875\n",
      "Epoch 106/200\n",
      "652/652 [==============================] - 221s 338ms/step - loss: 0.0995 - categorical_accuracy: 0.9695 - val_loss: 0.5338 - val_categorical_accuracy: 0.6875\n",
      "Epoch 107/200\n",
      "652/652 [==============================] - 221s 339ms/step - loss: 0.1029 - categorical_accuracy: 0.9678 - val_loss: 0.3478 - val_categorical_accuracy: 0.8125\n",
      "Epoch 108/200\n",
      "652/652 [==============================] - 220s 338ms/step - loss: 0.0963 - categorical_accuracy: 0.9703 - val_loss: 0.3736 - val_categorical_accuracy: 0.8750\n",
      "Epoch 109/200\n",
      "652/652 [==============================] - 221s 339ms/step - loss: 0.1051 - categorical_accuracy: 0.9682 - val_loss: 0.6092 - val_categorical_accuracy: 0.6875\n",
      "Epoch 110/200\n",
      "652/652 [==============================] - 221s 339ms/step - loss: 0.1043 - categorical_accuracy: 0.9668 - val_loss: 0.9241 - val_categorical_accuracy: 0.6875\n",
      "Epoch 111/200\n",
      "652/652 [==============================] - 221s 340ms/step - loss: 0.0988 - categorical_accuracy: 0.9712 - val_loss: 0.5480 - val_categorical_accuracy: 0.7500\n",
      "Epoch 112/200\n",
      "652/652 [==============================] - 221s 339ms/step - loss: 0.1025 - categorical_accuracy: 0.9664 - val_loss: 0.1590 - val_categorical_accuracy: 1.0000\n",
      "Epoch 113/200\n",
      "652/652 [==============================] - 219s 336ms/step - loss: 0.0966 - categorical_accuracy: 0.9724 - val_loss: 0.5613 - val_categorical_accuracy: 0.7500\n",
      "Epoch 114/200\n",
      "652/652 [==============================] - 219s 336ms/step - loss: 0.0934 - categorical_accuracy: 0.9720 - val_loss: 0.5162 - val_categorical_accuracy: 0.8750\n",
      "Epoch 115/200\n",
      "652/652 [==============================] - 219s 336ms/step - loss: 0.1010 - categorical_accuracy: 0.9686 - val_loss: 0.4175 - val_categorical_accuracy: 0.8125\n",
      "Epoch 116/200\n",
      "652/652 [==============================] - 219s 336ms/step - loss: 0.0970 - categorical_accuracy: 0.9684 - val_loss: 0.8055 - val_categorical_accuracy: 0.6250\n",
      "Epoch 117/200\n",
      "652/652 [==============================] - 219s 336ms/step - loss: 0.0896 - categorical_accuracy: 0.9716 - val_loss: 0.7715 - val_categorical_accuracy: 0.8125\n",
      "Epoch 118/200\n",
      "652/652 [==============================] - 219s 336ms/step - loss: 0.0895 - categorical_accuracy: 0.9722 - val_loss: 1.2752 - val_categorical_accuracy: 0.7500\n",
      "Epoch 119/200\n",
      "652/652 [==============================] - 219s 336ms/step - loss: 0.0939 - categorical_accuracy: 0.9714 - val_loss: 0.4981 - val_categorical_accuracy: 0.8125\n",
      "Epoch 120/200\n",
      "652/652 [==============================] - 219s 336ms/step - loss: 0.0939 - categorical_accuracy: 0.9709 - val_loss: 1.1662 - val_categorical_accuracy: 0.5625\n",
      "Epoch 121/200\n",
      "652/652 [==============================] - 219s 336ms/step - loss: 0.0926 - categorical_accuracy: 0.9714 - val_loss: 0.7033 - val_categorical_accuracy: 0.6875\n",
      "Epoch 122/200\n",
      "652/652 [==============================] - 219s 336ms/step - loss: 0.0984 - categorical_accuracy: 0.9699 - val_loss: 0.6409 - val_categorical_accuracy: 0.6250\n",
      "Epoch 123/200\n",
      "652/652 [==============================] - 219s 336ms/step - loss: 0.0946 - categorical_accuracy: 0.9726 - val_loss: 0.2896 - val_categorical_accuracy: 0.8125\n",
      "Epoch 124/200\n",
      "652/652 [==============================] - 219s 336ms/step - loss: 0.0880 - categorical_accuracy: 0.9722 - val_loss: 0.6407 - val_categorical_accuracy: 0.8125\n",
      "Epoch 125/200\n",
      "652/652 [==============================] - 219s 336ms/step - loss: 0.0852 - categorical_accuracy: 0.9732 - val_loss: 0.5840 - val_categorical_accuracy: 0.8750\n",
      "Epoch 126/200\n",
      "652/652 [==============================] - 219s 336ms/step - loss: 0.0887 - categorical_accuracy: 0.9718 - val_loss: 0.2925 - val_categorical_accuracy: 0.9375\n",
      "Epoch 127/200\n",
      "652/652 [==============================] - 219s 336ms/step - loss: 0.0877 - categorical_accuracy: 0.9745 - val_loss: 0.5480 - val_categorical_accuracy: 0.5625\n",
      "Epoch 128/200\n",
      "652/652 [==============================] - 220s 338ms/step - loss: 0.0829 - categorical_accuracy: 0.9758 - val_loss: 0.5300 - val_categorical_accuracy: 0.8125\n",
      "Epoch 129/200\n",
      "652/652 [==============================] - 221s 339ms/step - loss: 0.0818 - categorical_accuracy: 0.9747 - val_loss: 0.7263 - val_categorical_accuracy: 0.6875\n",
      "Epoch 130/200\n",
      "652/652 [==============================] - 221s 339ms/step - loss: 0.0827 - categorical_accuracy: 0.9726 - val_loss: 0.5670 - val_categorical_accuracy: 0.6250\n",
      "Epoch 131/200\n",
      "652/652 [==============================] - 221s 339ms/step - loss: 0.0820 - categorical_accuracy: 0.9766 - val_loss: 0.3993 - val_categorical_accuracy: 0.8750\n",
      "Epoch 132/200\n",
      "652/652 [==============================] - 221s 339ms/step - loss: 0.0866 - categorical_accuracy: 0.9741 - val_loss: 0.2739 - val_categorical_accuracy: 0.8750\n",
      "Epoch 133/200\n",
      "652/652 [==============================] - 221s 339ms/step - loss: 0.0929 - categorical_accuracy: 0.9697 - val_loss: 0.6130 - val_categorical_accuracy: 0.7500\n",
      "Epoch 134/200\n",
      "652/652 [==============================] - 221s 339ms/step - loss: 0.0844 - categorical_accuracy: 0.9755 - val_loss: 0.6559 - val_categorical_accuracy: 0.6875\n",
      "Epoch 135/200\n",
      "652/652 [==============================] - 221s 339ms/step - loss: 0.0857 - categorical_accuracy: 0.9758 - val_loss: 0.3604 - val_categorical_accuracy: 0.8125\n",
      "Epoch 136/200\n",
      "652/652 [==============================] - 221s 339ms/step - loss: 0.0908 - categorical_accuracy: 0.9718 - val_loss: 0.5142 - val_categorical_accuracy: 0.8125\n",
      "Epoch 137/200\n",
      "652/652 [==============================] - 221s 339ms/step - loss: 0.0829 - categorical_accuracy: 0.9758 - val_loss: 0.1668 - val_categorical_accuracy: 1.0000\n",
      "Epoch 138/200\n",
      "652/652 [==============================] - 221s 339ms/step - loss: 0.0802 - categorical_accuracy: 0.9751 - val_loss: 0.6605 - val_categorical_accuracy: 0.5625\n",
      "Epoch 139/200\n",
      "652/652 [==============================] - 221s 339ms/step - loss: 0.0877 - categorical_accuracy: 0.9747 - val_loss: 0.4547 - val_categorical_accuracy: 0.8125\n",
      "Epoch 140/200\n",
      "652/652 [==============================] - 221s 339ms/step - loss: 0.0761 - categorical_accuracy: 0.9780 - val_loss: 0.3551 - val_categorical_accuracy: 0.7500\n",
      "Epoch 141/200\n",
      "652/652 [==============================] - 221s 339ms/step - loss: 0.0752 - categorical_accuracy: 0.9772 - val_loss: 0.6927 - val_categorical_accuracy: 0.8125\n",
      "Epoch 142/200\n"
     ]
    },
    {
     "name": "stdout",
     "output_type": "stream",
     "text": [
      "652/652 [==============================] - 221s 339ms/step - loss: 0.0812 - categorical_accuracy: 0.9737 - val_loss: 0.2475 - val_categorical_accuracy: 0.8750\n",
      "Epoch 143/200\n",
      "652/652 [==============================] - 221s 339ms/step - loss: 0.0824 - categorical_accuracy: 0.9762 - val_loss: 0.8365 - val_categorical_accuracy: 0.8125\n",
      "Epoch 144/200\n",
      "652/652 [==============================] - 221s 339ms/step - loss: 0.0768 - categorical_accuracy: 0.9758 - val_loss: 0.4382 - val_categorical_accuracy: 0.8125\n",
      "Epoch 145/200\n",
      "652/652 [==============================] - 220s 337ms/step - loss: 0.0783 - categorical_accuracy: 0.9787 - val_loss: 0.3043 - val_categorical_accuracy: 0.8750\n",
      "Epoch 146/200\n",
      "652/652 [==============================] - 219s 337ms/step - loss: 0.0806 - categorical_accuracy: 0.9760 - val_loss: 0.5848 - val_categorical_accuracy: 0.6875\n",
      "Epoch 147/200\n",
      "652/652 [==============================] - 221s 339ms/step - loss: 0.0861 - categorical_accuracy: 0.9735 - val_loss: 0.1826 - val_categorical_accuracy: 0.9375\n",
      "Epoch 148/200\n",
      "652/652 [==============================] - 221s 339ms/step - loss: 0.0745 - categorical_accuracy: 0.9783 - val_loss: 0.4634 - val_categorical_accuracy: 0.7500\n",
      "Epoch 149/200\n",
      "652/652 [==============================] - 220s 338ms/step - loss: 0.0904 - categorical_accuracy: 0.9753 - val_loss: 0.6548 - val_categorical_accuracy: 0.7500\n",
      "Epoch 150/200\n",
      "652/652 [==============================] - 221s 339ms/step - loss: 0.0745 - categorical_accuracy: 0.9801 - val_loss: 0.7726 - val_categorical_accuracy: 0.7500\n",
      "Epoch 151/200\n",
      "652/652 [==============================] - 221s 339ms/step - loss: 0.0835 - categorical_accuracy: 0.9749 - val_loss: 0.8216 - val_categorical_accuracy: 0.8125\n",
      "Epoch 152/200\n",
      "652/652 [==============================] - 221s 339ms/step - loss: 0.0790 - categorical_accuracy: 0.9787 - val_loss: 0.2366 - val_categorical_accuracy: 0.8125\n",
      "Epoch 153/200\n",
      "652/652 [==============================] - 221s 339ms/step - loss: 0.0788 - categorical_accuracy: 0.9749 - val_loss: 0.2547 - val_categorical_accuracy: 0.9375\n",
      "Epoch 154/200\n",
      "652/652 [==============================] - 221s 339ms/step - loss: 0.0767 - categorical_accuracy: 0.9758 - val_loss: 0.6111 - val_categorical_accuracy: 0.8125\n",
      "Epoch 155/200\n",
      "652/652 [==============================] - 221s 338ms/step - loss: 0.0709 - categorical_accuracy: 0.9793 - val_loss: 0.2550 - val_categorical_accuracy: 0.8750\n",
      "Epoch 156/200\n",
      "652/652 [==============================] - 221s 339ms/step - loss: 0.0745 - categorical_accuracy: 0.9768 - val_loss: 0.8146 - val_categorical_accuracy: 0.7500\n",
      "Epoch 157/200\n",
      "652/652 [==============================] - 221s 339ms/step - loss: 0.0689 - categorical_accuracy: 0.9820 - val_loss: 0.1550 - val_categorical_accuracy: 0.9375\n",
      "Epoch 158/200\n",
      "652/652 [==============================] - 219s 335ms/step - loss: 0.0729 - categorical_accuracy: 0.9760 - val_loss: 0.3158 - val_categorical_accuracy: 0.8125\n",
      "Epoch 159/200\n",
      "652/652 [==============================] - 219s 336ms/step - loss: 0.0642 - categorical_accuracy: 0.9814 - val_loss: 0.4472 - val_categorical_accuracy: 0.8750\n",
      "Epoch 160/200\n",
      "652/652 [==============================] - 219s 336ms/step - loss: 0.0721 - categorical_accuracy: 0.9780 - val_loss: 0.4340 - val_categorical_accuracy: 0.8750\n",
      "Epoch 161/200\n",
      "652/652 [==============================] - 219s 336ms/step - loss: 0.0695 - categorical_accuracy: 0.9808 - val_loss: 0.4081 - val_categorical_accuracy: 0.8125\n",
      "Epoch 162/200\n",
      "652/652 [==============================] - 219s 336ms/step - loss: 0.0644 - categorical_accuracy: 0.9827 - val_loss: 0.2550 - val_categorical_accuracy: 0.9375\n",
      "Epoch 163/200\n",
      "652/652 [==============================] - 219s 336ms/step - loss: 0.0679 - categorical_accuracy: 0.9820 - val_loss: 0.4436 - val_categorical_accuracy: 0.8125\n",
      "Epoch 164/200\n",
      "652/652 [==============================] - 219s 336ms/step - loss: 0.0716 - categorical_accuracy: 0.9795 - val_loss: 0.4411 - val_categorical_accuracy: 0.8125\n",
      "Epoch 165/200\n",
      "652/652 [==============================] - 219s 336ms/step - loss: 0.0686 - categorical_accuracy: 0.9812 - val_loss: 0.4446 - val_categorical_accuracy: 0.8750\n",
      "Epoch 166/200\n",
      "652/652 [==============================] - 219s 336ms/step - loss: 0.0644 - categorical_accuracy: 0.9818 - val_loss: 0.4913 - val_categorical_accuracy: 0.8750\n",
      "Epoch 167/200\n",
      "652/652 [==============================] - 220s 338ms/step - loss: 0.0723 - categorical_accuracy: 0.9793 - val_loss: 1.4797 - val_categorical_accuracy: 0.6875\n",
      "Epoch 168/200\n",
      "652/652 [==============================] - 221s 339ms/step - loss: 0.0646 - categorical_accuracy: 0.9818 - val_loss: 0.9532 - val_categorical_accuracy: 0.8125\n",
      "Epoch 169/200\n",
      "652/652 [==============================] - 221s 339ms/step - loss: 0.0742 - categorical_accuracy: 0.9758 - val_loss: 0.4056 - val_categorical_accuracy: 0.8125\n",
      "Epoch 170/200\n",
      "652/652 [==============================] - 221s 339ms/step - loss: 0.0778 - categorical_accuracy: 0.9772 - val_loss: 0.5853 - val_categorical_accuracy: 0.8750\n",
      "Epoch 171/200\n",
      "652/652 [==============================] - 221s 339ms/step - loss: 0.0648 - categorical_accuracy: 0.9816 - val_loss: 0.6065 - val_categorical_accuracy: 0.8125\n",
      "Epoch 172/200\n",
      "652/652 [==============================] - 221s 339ms/step - loss: 0.0639 - categorical_accuracy: 0.9827 - val_loss: 0.5097 - val_categorical_accuracy: 0.8125\n",
      "Epoch 173/200\n",
      "652/652 [==============================] - 221s 339ms/step - loss: 0.0733 - categorical_accuracy: 0.9785 - val_loss: 0.1400 - val_categorical_accuracy: 0.9375\n",
      "Epoch 174/200\n",
      "652/652 [==============================] - 219s 336ms/step - loss: 0.0648 - categorical_accuracy: 0.9829 - val_loss: 0.6232 - val_categorical_accuracy: 0.7500\n",
      "Epoch 175/200\n",
      "652/652 [==============================] - 219s 336ms/step - loss: 0.0687 - categorical_accuracy: 0.9824 - val_loss: 0.8152 - val_categorical_accuracy: 0.6875\n",
      "Epoch 176/200\n",
      "652/652 [==============================] - 219s 336ms/step - loss: 0.0660 - categorical_accuracy: 0.9808 - val_loss: 0.2817 - val_categorical_accuracy: 0.9375\n",
      "Epoch 177/200\n",
      "652/652 [==============================] - 219s 336ms/step - loss: 0.0636 - categorical_accuracy: 0.9820 - val_loss: 0.4584 - val_categorical_accuracy: 0.8750\n",
      "Epoch 178/200\n",
      "652/652 [==============================] - 220s 337ms/step - loss: 0.0689 - categorical_accuracy: 0.9801 - val_loss: 0.8367 - val_categorical_accuracy: 0.6875\n",
      "Epoch 179/200\n",
      "652/652 [==============================] - 219s 336ms/step - loss: 0.0690 - categorical_accuracy: 0.9789 - val_loss: 0.4794 - val_categorical_accuracy: 0.8750\n",
      "Epoch 180/200\n",
      "652/652 [==============================] - 219s 336ms/step - loss: 0.0669 - categorical_accuracy: 0.9804 - val_loss: 0.5413 - val_categorical_accuracy: 0.8125\n",
      "Epoch 181/200\n",
      "652/652 [==============================] - 219s 336ms/step - loss: 0.0673 - categorical_accuracy: 0.9804 - val_loss: 0.4286 - val_categorical_accuracy: 0.8750\n",
      "Epoch 182/200\n",
      "652/652 [==============================] - 219s 336ms/step - loss: 0.0657 - categorical_accuracy: 0.9804 - val_loss: 0.8104 - val_categorical_accuracy: 0.6875\n",
      "Epoch 183/200\n",
      "652/652 [==============================] - 219s 336ms/step - loss: 0.0622 - categorical_accuracy: 0.9820 - val_loss: 0.4888 - val_categorical_accuracy: 0.8750\n",
      "Epoch 184/200\n",
      "652/652 [==============================] - 220s 337ms/step - loss: 0.0682 - categorical_accuracy: 0.9804 - val_loss: 1.5699 - val_categorical_accuracy: 0.5625\n",
      "Epoch 185/200\n",
      "652/652 [==============================] - 221s 338ms/step - loss: 0.0593 - categorical_accuracy: 0.9806 - val_loss: 0.4499 - val_categorical_accuracy: 0.7500\n",
      "Epoch 186/200\n",
      "652/652 [==============================] - 221s 339ms/step - loss: 0.0633 - categorical_accuracy: 0.9810 - val_loss: 0.4784 - val_categorical_accuracy: 0.7500\n",
      "Epoch 187/200\n",
      "652/652 [==============================] - 221s 339ms/step - loss: 0.0600 - categorical_accuracy: 0.9835 - val_loss: 0.4798 - val_categorical_accuracy: 0.8750\n",
      "Epoch 188/200\n",
      "652/652 [==============================] - 221s 339ms/step - loss: 0.0586 - categorical_accuracy: 0.9837 - val_loss: 1.0356 - val_categorical_accuracy: 0.5625\n",
      "Epoch 189/200\n"
     ]
    },
    {
     "name": "stdout",
     "output_type": "stream",
     "text": [
      "652/652 [==============================] - 221s 339ms/step - loss: 0.0568 - categorical_accuracy: 0.9839 - val_loss: 1.2660 - val_categorical_accuracy: 0.7500\n",
      "Epoch 190/200\n",
      "652/652 [==============================] - 221s 339ms/step - loss: 0.0572 - categorical_accuracy: 0.9839 - val_loss: 0.7486 - val_categorical_accuracy: 0.6250\n",
      "Epoch 191/200\n",
      "652/652 [==============================] - 221s 339ms/step - loss: 0.0610 - categorical_accuracy: 0.9827 - val_loss: 0.6227 - val_categorical_accuracy: 0.7500\n",
      "Epoch 192/200\n",
      "652/652 [==============================] - 221s 338ms/step - loss: 0.0578 - categorical_accuracy: 0.9831 - val_loss: 0.3765 - val_categorical_accuracy: 0.8750\n",
      "Epoch 193/200\n",
      "652/652 [==============================] - 221s 339ms/step - loss: 0.0515 - categorical_accuracy: 0.9862 - val_loss: 0.7411 - val_categorical_accuracy: 0.7500\n",
      "Epoch 194/200\n",
      "652/652 [==============================] - 221s 338ms/step - loss: 0.0602 - categorical_accuracy: 0.9814 - val_loss: 0.7158 - val_categorical_accuracy: 0.7500\n",
      "Epoch 195/200\n",
      "652/652 [==============================] - 221s 338ms/step - loss: 0.0580 - categorical_accuracy: 0.9820 - val_loss: 0.4823 - val_categorical_accuracy: 0.8750\n",
      "Epoch 196/200\n",
      "652/652 [==============================] - 221s 339ms/step - loss: 0.0565 - categorical_accuracy: 0.9850 - val_loss: 0.3943 - val_categorical_accuracy: 0.8125\n",
      "Epoch 197/200\n",
      "652/652 [==============================] - 221s 339ms/step - loss: 0.0608 - categorical_accuracy: 0.9806 - val_loss: 1.0423 - val_categorical_accuracy: 0.6875\n",
      "Epoch 198/200\n",
      "652/652 [==============================] - 220s 338ms/step - loss: 0.0638 - categorical_accuracy: 0.9797 - val_loss: 0.6014 - val_categorical_accuracy: 0.8750\n",
      "Epoch 199/200\n",
      "652/652 [==============================] - 221s 338ms/step - loss: 0.0553 - categorical_accuracy: 0.9852 - val_loss: 1.2374 - val_categorical_accuracy: 0.5625\n",
      "Epoch 200/200\n",
      "652/652 [==============================] - 221s 339ms/step - loss: 0.0652 - categorical_accuracy: 0.9797 - val_loss: 1.1601 - val_categorical_accuracy: 0.6250\n"
     ]
    }
   ],
   "source": [
    "import math\n",
    "\n",
    "history = pneumoniaNetModel.fit_generator(\n",
    "      training_set,\n",
    "      steps_per_epoch=math.ceil(number_of_training_samples//batch_size),\n",
    "      epochs=no_of_epochs,\n",
    "      callbacks=callbacks_list,\n",
    "      validation_data=validation_set,\n",
    "      validation_steps=math.ceil(number_of_validation_samples//batch_size))"
   ]
  },
  {
   "cell_type": "markdown",
   "metadata": {},
   "source": [
    "## Visualizing the Training Process"
   ]
  },
  {
   "cell_type": "code",
   "execution_count": 9,
   "metadata": {},
   "outputs": [
    {
     "data": {
      "image/png": "[encoded data removed]",
      "text/plain": [
       "<Figure size 432x288 with 1 Axes>"
      ]
     },
     "metadata": {
      "needs_background": "light"
     },
     "output_type": "display_data"
    },
    {
     "data": {
      "image/png": "[encoded data removed]",
      "text/plain": [
       "<Figure size 432x288 with 1 Axes>"
      ]
     },
     "metadata": {
      "needs_background": "light"
     },
     "output_type": "display_data"
    }
   ],
   "source": [
    "import matplotlib.pyplot as plt\n",
    "%matplotlib inline\n",
    "\n",
    "acc=history.history['categorical_accuracy']\n",
    "val_acc=history.history['val_categorical_accuracy']\n",
    "loss=history.history['loss']\n",
    "val_loss=history.history['val_loss']\n",
    "epochs=range(1,len(acc)+1)\n",
    "plt.xlabel('Epochs')\n",
    "plt.ylabel('Accuracy')\n",
    "plt.plot(epochs, acc, 'bo', label='Training acc')\n",
    "plt.plot(epochs, val_acc, 'b', label='Validation acc')\n",
    "plt.title('Training and validation accuracy')\n",
    "plt.legend()\n",
    "plt.figure()\n",
    "\n",
    "plt.plot(epochs, loss, 'bo', label='Training loss')\n",
    "plt.plot(epochs, val_loss, 'b', label='Validation loss')\n",
    "plt.title('Training and validation loss')\n",
    "plt.xlabel('Epochs')\n",
    "plt.ylabel('Loss')\n",
    "plt.legend()\n",
    "plt.show()"
   ]
  },
  {
   "cell_type": "markdown",
   "metadata": {},
   "source": [
    "## Loading the Best Model"
   ]
  },
  {
   "cell_type": "code",
   "execution_count": 10,
   "metadata": {},
   "outputs": [],
   "source": [
    "from tensorflow.python.keras.models import load_model\n",
    "\n",
    "best_model = load_model('PneumoniaNet7_Degraded_Dataset_Gaussian_Noise_Addition.h5')"
   ]
  },
  {
   "cell_type": "markdown",
   "metadata": {},
   "source": [
    "## Evaluating the Best Model"
   ]
  },
  {
   "cell_type": "code",
   "execution_count": 11,
   "metadata": {},
   "outputs": [
    {
     "name": "stdout",
     "output_type": "stream",
     "text": [
      "78/78 [==============================] - 13s 166ms/step - loss: 0.1736 - categorical_accuracy: 0.9503\n",
      "Test-set classification accuracy: 95.03%\n"
     ]
    }
   ],
   "source": [
    "steps_test=int(number_of_test_samples/batch_size)\n",
    "result = best_model.evaluate_generator(test_set, steps=steps_test,verbose=1)\n",
    "print(\"Test-set classification accuracy: {0:.2%}\".format(result[1]))"
   ]
  },
  {
   "cell_type": "markdown",
   "metadata": {},
   "source": [
    "## Calculating Precision, Specificity and Sensitivity (Recall) values for the model\n",
    "*Precision-Recall* is a useful measure of success of prediction when the classes are very imbalanced. High *precision* relates to a low false positive rate, and high *recall* relates to a low false negative rate.\n",
    "\n",
    "Precision is defined as the number of true positives over the number of true positives plus the number of false positives. Recall is defined as the number of true positives over the number of true positives plus the number of false negatives. Please see the [link](https://scikit-learn.org/stable/auto_examples/model_selection/plot_precision_recall.html) for details.\n",
    "\n",
    "Another way of assessing a binary classification model is to compute the *sensitivity* (also called the true positive rate or the recall) and *specificity* (also called the true negative rate) of the model. *Sensitivity* indicates the percentage of sick people who are correctly identified as having the condition. *Specificity* indicates the percentage of healthy people who are correctly identified as not having the condition.\n",
    "\n",
    "But first we prepare our test data, so that later we can draw the *confusion matrix* as well as calculate *precision*, *specificity* and *sensitivity (recall)* of the model."
   ]
  },
  {
   "cell_type": "code",
   "execution_count": 13,
   "metadata": {},
   "outputs": [
    {
     "name": "stdout",
     "output_type": "stream",
     "text": [
      "Total number of test examples:  (624, 150, 150, 3)\n",
      "Total number of labels: (624, 1)\n"
     ]
    }
   ],
   "source": [
    "# Preparing test data\n",
    "import glob\n",
    "from pathlib import Path\n",
    "from tensorflow.python.keras.utils import to_categorical\n",
    "import cv2\n",
    "\n",
    "normal_cases_dir = Path('D:\\\\TensorFlow Programs\\\\Diagnosis of Pneumonia based on Chest X-Rays\\\\new experiments_from 24_08_2019\\\\Pediatric Chest X_Rays_Gaussian_Noise_Added\\\\test\\\\NORMAL')\n",
    "pneumonia_cases_dir = Path('D:\\\\TensorFlow Programs\\\\Diagnosis of Pneumonia based on Chest X-Rays\\\\new experiments_from 24_08_2019\\\\Pediatric Chest X_Rays_Gaussian_Noise_Added\\\\test\\\\PNEUMONIA')\n",
    "\n",
    "normal_cases = normal_cases_dir.glob('*.jpeg')\n",
    "pneumonia_cases = pneumonia_cases_dir.glob('*.jpeg')\n",
    "\n",
    "test_data = []\n",
    "test_labels = []\n",
    "\n",
    "for img in normal_cases:\n",
    "    img = cv2.imread(str(img))\n",
    "    img = cv2.resize(img, (image_width,image_height))\n",
    "    if img.shape[2] ==1:\n",
    "        img = np.dstack([img, img, img])\n",
    "    else:\n",
    "        img = cv2.cvtColor(img, cv2.COLOR_BGR2RGB)\n",
    "    img = img.astype(np.float32)/255.\n",
    "    label = [0]\n",
    "    test_data.append(img)\n",
    "    test_labels.append(label)\n",
    "                      \n",
    "for img in pneumonia_cases:\n",
    "    img = cv2.imread(str(img))\n",
    "    img = cv2.resize(img, (image_width,image_height))\n",
    "    if img.shape[2] ==1:\n",
    "        img = np.dstack([img, img, img])\n",
    "    else:\n",
    "        img = cv2.cvtColor(img, cv2.COLOR_BGR2RGB)\n",
    "    img = img.astype(np.float32)/255.\n",
    "    label = [1]\n",
    "    test_data.append(img)\n",
    "    test_labels.append(label)\n",
    "    \n",
    "\n",
    "test_data = np.array(test_data)\n",
    "test_labels = np.array(test_labels)\n",
    "test_labels_one_hot_encoding=to_categorical(test_labels)\n",
    "\n",
    "print(\"Total number of test examples: \", test_data.shape)\n",
    "print(\"Total number of labels:\", test_labels.shape)"
   ]
  },
  {
   "cell_type": "code",
   "execution_count": 14,
   "metadata": {},
   "outputs": [
    {
     "name": "stdout",
     "output_type": "stream",
     "text": [
      "624/624 [==============================] - 9s 14ms/sample - loss: 0.2261 - categorical_accuracy: 0.9375\n",
      "Loss on test set:  0.22608235571533442\n",
      "Accuracy on test set:  0.9375\n"
     ]
    }
   ],
   "source": [
    "# Evaluation on test dataset\n",
    "\n",
    "test_loss, test_score = best_model.evaluate(test_data, test_labels_one_hot_encoding, batch_size=16)\n",
    "print(\"Loss on test set: \", test_loss)\n",
    "print(\"Accuracy on test set: \", test_score)"
   ]
  },
  {
   "cell_type": "code",
   "execution_count": 15,
   "metadata": {},
   "outputs": [
    {
     "name": "stdout",
     "output_type": "stream",
     "text": [
      "624/624 [==============================] - 7s 11ms/sample\n",
      "(624, 1)\n",
      "(624, 1)\n"
     ]
    }
   ],
   "source": [
    "# Get predictions\n",
    "preds = best_model.predict(test_data, batch_size=16,verbose=1)\n",
    "preds=np.around(preds)\n",
    "orig_test_labels=test_labels\n",
    "predicted_labels=np.argmax(preds,axis=1)\n",
    "predicted_labels=np.reshape(predicted_labels,(624,1))\n",
    "print(predicted_labels.shape)\n",
    "print(orig_test_labels.shape)"
   ]
  },
  {
   "cell_type": "code",
   "execution_count": 16,
   "metadata": {},
   "outputs": [
    {
     "data": {
      "text/plain": [
       "<Figure size 432x288 with 0 Axes>"
      ]
     },
     "metadata": {},
     "output_type": "display_data"
    },
    {
     "data": {
      "image/png": "[encoded data removed]",
      "text/plain": [
       "<Figure size 864x576 with 1 Axes>"
      ]
     },
     "metadata": {
      "needs_background": "light"
     },
     "output_type": "display_data"
    }
   ],
   "source": [
    "import matplotlib.pyplot as plt\n",
    "%matplotlib inline\n",
    "# Get the confusion matrix\n",
    "from sklearn.metrics import confusion_matrix\n",
    "from mlxtend.plotting import plot_confusion_matrix\n",
    "\n",
    "cm  = confusion_matrix(orig_test_labels, predicted_labels)\n",
    "plt.figure()\n",
    "plot_confusion_matrix(cm,figsize=(12,8), hide_ticks=True,cmap=plt.cm.Blues)\n",
    "plt.xticks(range(2), ['Normal', 'Pneumonia'], fontsize=16)\n",
    "plt.yticks(range(2), ['Normal', 'Pneumonia'], fontsize=16)\n",
    "plt.show()"
   ]
  },
  {
   "cell_type": "code",
   "execution_count": 17,
   "metadata": {},
   "outputs": [
    {
     "name": "stdout",
     "output_type": "stream",
     "text": [
      "Sensitivity (Recall) of the model is 0.990\n",
      "Specificity of the model is 0.850\n",
      "Precision of the model is 0.917\n"
     ]
    }
   ],
   "source": [
    "# Calculate Precision and Recall\n",
    "tn, fp, fn, tp = cm.ravel()\n",
    "\n",
    "precision = tp/(tp+fp)\n",
    "recall = tp/(tp+fn)\n",
    "specificity=tn/(tn+fp)\n",
    "\n",
    "print(\"Sensitivity (Recall) of the model is {:.3f}\".format(recall))\n",
    "print(\"Specificity of the model is {:.3f}\".format(specificity))\n",
    "print(\"Precision of the model is {:.3f}\".format(precision))"
   ]
  },
  {
   "cell_type": "markdown",
   "metadata": {},
   "source": [
    "So, this model has a **`99.0%`** sensitivity (recall), **`85.0%`** specificity and **`91.7%`** precision."
   ]
  },
  {
   "cell_type": "markdown",
   "metadata": {},
   "source": [
    "## ROC Curve and AUC for the model\n",
    "**Receiver operating characteristic** curve (a.k.a ROC) is a graphic plot that illustrates the diagnostic ability of a binary classifier system as its discrimination threshold is varied. The critical point here is \"binary classifier\" and \"varying threshold\". **Area Under the Curve** (a.k.a. AUC) is the percentage of the area that is under this ROC curve, ranging between 0 and 1.\n",
    "ROC is a great way to visualize the performance of a binary classifier, and AUC is one single number to summarize a classifier's performance. The higher the AUC is, the better the classifier."
   ]
  },
  {
   "cell_type": "code",
   "execution_count": 18,
   "metadata": {},
   "outputs": [],
   "source": [
    "from sklearn.metrics import roc_curve\n",
    "\n",
    "probs = best_model.predict_proba(test_data)\n",
    "preds = probs[:,1]\n",
    "fpr, tpr, thresholds = roc_curve(test_labels.ravel(), preds)"
   ]
  },
  {
   "cell_type": "code",
   "execution_count": 19,
   "metadata": {},
   "outputs": [],
   "source": [
    "from sklearn.metrics import auc\n",
    "auc_var = auc(fpr, tpr)"
   ]
  },
  {
   "cell_type": "code",
   "execution_count": 20,
   "metadata": {},
   "outputs": [
    {
     "data": {
      "image/png": "[encoded data removed]",
      "text/plain": [
       "<Figure size 432x288 with 1 Axes>"
      ]
     },
     "metadata": {
      "needs_background": "light"
     },
     "output_type": "display_data"
    }
   ],
   "source": [
    "import matplotlib.pyplot as plt\n",
    "%matplotlib inline\n",
    "plt.figure(1)\n",
    "plt.plot([0, 1], [0, 1], 'k--')\n",
    "plt.plot(fpr, tpr, label='PneumoniaNet (area = {:.3f})'.format(auc_var))\n",
    "plt.xlabel('False positive rate')\n",
    "plt.ylabel('True positive rate')\n",
    "plt.title('ROC curve')\n",
    "plt.legend(loc='best')\n",
    "plt.show()"
   ]
  },
  {
   "cell_type": "markdown",
   "metadata": {},
   "source": [
    "## Precision-Recall Curve for the Model"
   ]
  },
  {
   "cell_type": "code",
   "execution_count": 21,
   "metadata": {},
   "outputs": [],
   "source": [
    "from sklearn.metrics import precision_recall_curve\n",
    "from sklearn.metrics import f1_score\n",
    "from sklearn.metrics import average_precision_score"
   ]
  },
  {
   "cell_type": "code",
   "execution_count": 22,
   "metadata": {},
   "outputs": [],
   "source": [
    "precision, recall, thresholds = precision_recall_curve(test_labels.ravel(), preds)"
   ]
  },
  {
   "cell_type": "code",
   "execution_count": 23,
   "metadata": {},
   "outputs": [],
   "source": [
    "auc_var2 = auc(recall, precision)"
   ]
  },
  {
   "cell_type": "code",
   "execution_count": 24,
   "metadata": {},
   "outputs": [
    {
     "data": {
      "image/png": "[encoded data removed]",
      "text/plain": [
       "<Figure size 432x288 with 1 Axes>"
      ]
     },
     "metadata": {
      "needs_background": "light"
     },
     "output_type": "display_data"
    }
   ],
   "source": [
    "plt.figure()\n",
    "plt.plot(recall, precision, label='PneumoniaNet (area = {:.3f})'.format(auc_var2))\n",
    "plt.xlabel('Recall')\n",
    "plt.ylabel('Precision')\n",
    "plt.title('Precision-Recall curve')\n",
    "plt.legend(loc='best')\n",
    "plt.show()"
   ]
  },
  {
   "cell_type": "code",
   "execution_count": 25,
   "metadata": {},
   "outputs": [
    {
     "name": "stdout",
     "output_type": "stream",
     "text": [
      "Average Precision Score: 0.990\n"
     ]
    }
   ],
   "source": [
    "print('Average Precision Score: {:.3f}'.format(average_precision_score(test_labels.ravel(), preds)))"
   ]
  },
  {
   "cell_type": "code",
   "execution_count": 26,
   "metadata": {},
   "outputs": [
    {
     "name": "stdout",
     "output_type": "stream",
     "text": [
      "F1 Score: 0.952\n"
     ]
    }
   ],
   "source": [
    "print(\"F1 Score: {:.3f}\".format(f1_score(test_labels.ravel(),predicted_labels.ravel())))"
   ]
  }
 ],
 "metadata": {
  "kernelspec": {
   "display_name": "Python 3",
   "language": "python",
   "name": "python3"
  },
  "language_info": {
   "codemirror_mode": {
    "name": "ipython",
    "version": 3
   },
   "file_extension": ".py",
   "mimetype": "text/x-python",
   "name": "python",
   "nbconvert_exporter": "python",
   "pygments_lexer": "ipython3",
   "version": "3.6.8"
  }
 },
 "nbformat": 4,
 "nbformat_minor": 2
}
