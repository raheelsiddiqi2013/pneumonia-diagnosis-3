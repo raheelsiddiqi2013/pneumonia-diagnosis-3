{
 "cells": [
  {
   "cell_type": "markdown",
   "metadata": {},
   "source": [
    "# Pneumonia Diagnosis based on Degraded Chest X-ray Images \n",
    "The author of this notebook is **Dr Raheel Siddiqi** on *10-07-2020*. He is a *Senior Assistant Professor* at Bahria University, Karachi Campus, Pakistan. His research interests include *Medical Imaging*, *Computer Vision* and *Deep Learning*.\n",
    "\n",
    "The objective of the experiment (presented in this notebook) is to evaluate the effectiveness of **VGG16** pre-trained model when employed to diagnose Pneumonia (based on degraded Chest X-ray images). The diagnosis process comprises of classifying Chest X-ray images into one of the two classes: (a) Normal, (b) Pneumonia.\n",
    "\n",
    "The dataset is downloded from [kaggle.com](https://www.kaggle.com/paultimothymooney/chest-xray-pneumonia). The dataset contains 5,863 X-Ray images (JPEG) and 2 categories (Pneumonia/Normal). The images are pre-processed and gaussian noise is added to each chest X-ray image."
   ]
  },
  {
   "cell_type": "markdown",
   "metadata": {},
   "source": [
    "## Tensorflow and Keras version used"
   ]
  },
  {
   "cell_type": "code",
   "execution_count": 10,
   "metadata": {},
   "outputs": [
    {
     "name": "stdout",
     "output_type": "stream",
     "text": [
      "Tensorflow Version:  1.13.1\n",
      "Keras Version:  2.2.4-tf\n"
     ]
    }
   ],
   "source": [
    "import tensorflow as tf\n",
    "from tensorflow.python import keras\n",
    "\n",
    "print('Tensorflow Version: ', tf.__version__)\n",
    "print('Keras Version: ', keras.__version__)"
   ]
  },
  {
   "cell_type": "markdown",
   "metadata": {},
   "source": [
    "## Setting up the Model"
   ]
  },
  {
   "cell_type": "code",
   "execution_count": 11,
   "metadata": {},
   "outputs": [],
   "source": [
    "from tensorflow.python.keras.applications import VGG16\n",
    "\n",
    "conv_base=VGG16(weights='imagenet',include_top=False,input_shape=(150,150,3))"
   ]
  },
  {
   "cell_type": "code",
   "execution_count": 12,
   "metadata": {},
   "outputs": [
    {
     "name": "stdout",
     "output_type": "stream",
     "text": [
      "_________________________________________________________________\n",
      "Layer (type)                 Output Shape              Param #   \n",
      "=================================================================\n",
      "input_2 (InputLayer)         (None, 150, 150, 3)       0         \n",
      "_________________________________________________________________\n",
      "block1_conv1 (Conv2D)        (None, 150, 150, 64)      1792      \n",
      "_________________________________________________________________\n",
      "block1_conv2 (Conv2D)        (None, 150, 150, 64)      36928     \n",
      "_________________________________________________________________\n",
      "block1_pool (MaxPooling2D)   (None, 75, 75, 64)        0         \n",
      "_________________________________________________________________\n",
      "block2_conv1 (Conv2D)        (None, 75, 75, 128)       73856     \n",
      "_________________________________________________________________\n",
      "block2_conv2 (Conv2D)        (None, 75, 75, 128)       147584    \n",
      "_________________________________________________________________\n",
      "block2_pool (MaxPooling2D)   (None, 37, 37, 128)       0         \n",
      "_________________________________________________________________\n",
      "block3_conv1 (Conv2D)        (None, 37, 37, 256)       295168    \n",
      "_________________________________________________________________\n",
      "block3_conv2 (Conv2D)        (None, 37, 37, 256)       590080    \n",
      "_________________________________________________________________\n",
      "block3_conv3 (Conv2D)        (None, 37, 37, 256)       590080    \n",
      "_________________________________________________________________\n",
      "block3_pool (MaxPooling2D)   (None, 18, 18, 256)       0         \n",
      "_________________________________________________________________\n",
      "block4_conv1 (Conv2D)        (None, 18, 18, 512)       1180160   \n",
      "_________________________________________________________________\n",
      "block4_conv2 (Conv2D)        (None, 18, 18, 512)       2359808   \n",
      "_________________________________________________________________\n",
      "block4_conv3 (Conv2D)        (None, 18, 18, 512)       2359808   \n",
      "_________________________________________________________________\n",
      "block4_pool (MaxPooling2D)   (None, 9, 9, 512)         0         \n",
      "_________________________________________________________________\n",
      "block5_conv1 (Conv2D)        (None, 9, 9, 512)         2359808   \n",
      "_________________________________________________________________\n",
      "block5_conv2 (Conv2D)        (None, 9, 9, 512)         2359808   \n",
      "_________________________________________________________________\n",
      "block5_conv3 (Conv2D)        (None, 9, 9, 512)         2359808   \n",
      "_________________________________________________________________\n",
      "block5_pool (MaxPooling2D)   (None, 4, 4, 512)         0         \n",
      "=================================================================\n",
      "Total params: 14,714,688\n",
      "Trainable params: 14,714,688\n",
      "Non-trainable params: 0\n",
      "_________________________________________________________________\n"
     ]
    }
   ],
   "source": [
    "conv_base.summary()"
   ]
  },
  {
   "cell_type": "code",
   "execution_count": 13,
   "metadata": {},
   "outputs": [],
   "source": [
    "import os\n",
    "import numpy as np\n",
    "from tensorflow.python.keras.preprocessing.image import ImageDataGenerator\n",
    "from tensorflow.python.keras import models\n",
    "from tensorflow.python.keras import layers\n",
    "from tensorflow.python.keras.callbacks import ModelCheckpoint\n",
    "from tensorflow.python.keras import optimizers\n",
    "\n",
    "model = models.Sequential()\n",
    "model.add(conv_base)\n",
    "model.add(layers.Flatten())\n",
    "model.add(layers.Dense(512, activation='relu'))\n",
    "model.add(layers.Dense(2, activation='softmax'))\n",
    "model.compile(loss='categorical_crossentropy',optimizer=optimizers.Adam(lr=1e-4),metrics=['categorical_accuracy'])\n",
    "filepath=\"VGG16_Degraded_Dataset_Gaussian_Noise_Added.h5\"\n",
    "checkpoint = ModelCheckpoint(filepath, save_best_only=True)\n",
    "callbacks_list = [checkpoint]"
   ]
  },
  {
   "cell_type": "code",
   "execution_count": 14,
   "metadata": {},
   "outputs": [
    {
     "name": "stdout",
     "output_type": "stream",
     "text": [
      "_________________________________________________________________\n",
      "Layer (type)                 Output Shape              Param #   \n",
      "=================================================================\n",
      "vgg16 (Model)                (None, 4, 4, 512)         14714688  \n",
      "_________________________________________________________________\n",
      "flatten_1 (Flatten)          (None, 8192)              0         \n",
      "_________________________________________________________________\n",
      "dense_2 (Dense)              (None, 512)               4194816   \n",
      "_________________________________________________________________\n",
      "dense_3 (Dense)              (None, 2)                 1026      \n",
      "=================================================================\n",
      "Total params: 18,910,530\n",
      "Trainable params: 18,910,530\n",
      "Non-trainable params: 0\n",
      "_________________________________________________________________\n"
     ]
    }
   ],
   "source": [
    "model.summary()"
   ]
  },
  {
   "cell_type": "markdown",
   "metadata": {},
   "source": [
    "## Setting up Training and Validation Data for the experiment"
   ]
  },
  {
   "cell_type": "code",
   "execution_count": 15,
   "metadata": {},
   "outputs": [],
   "source": [
    "image_height = 150\n",
    "image_width = 150\n",
    "batch_size = 8\n",
    "no_of_epochs  = 100\n",
    "number_of_training_samples=5216\n",
    "number_of_validation_samples=16\n",
    "number_of_test_samples=624"
   ]
  },
  {
   "cell_type": "code",
   "execution_count": 16,
   "metadata": {},
   "outputs": [],
   "source": [
    "train_dir='D:\\\\TensorFlow Programs\\\\Diagnosis of Pneumonia based on Chest X-Rays\\\\new experiments_from 24_08_2019\\\\Pediatric Chest X_Rays_Gaussian_Noise_Added\\\\train'\n",
    "validation_dir='D:\\\\TensorFlow Programs\\\\Diagnosis of Pneumonia based on Chest X-Rays\\\\new experiments_from 24_08_2019\\\\Pediatric Chest X_Rays_Gaussian_Noise_Added\\\\val'\n",
    "test_dir='D:\\\\TensorFlow Programs\\\\Diagnosis of Pneumonia based on Chest X-Rays\\\\new experiments_from 24_08_2019\\\\Pediatric Chest X_Rays_Gaussian_Noise_Added\\\\test'"
   ]
  },
  {
   "cell_type": "code",
   "execution_count": 17,
   "metadata": {},
   "outputs": [],
   "source": [
    "train_datagen = ImageDataGenerator(rescale=1./255,\n",
    "                                   rotation_range=40,\n",
    "                                   width_shift_range=0.2,\n",
    "                                   height_shift_range=0.2,\n",
    "                                   shear_range=0.2,\n",
    "                                   zoom_range=0.2\n",
    "                                   )\n",
    "\n",
    "validation_datagen = ImageDataGenerator(rescale=1./255)  \n",
    "\n",
    "test_datagen = ImageDataGenerator(rescale=1./255)"
   ]
  },
  {
   "cell_type": "code",
   "execution_count": 18,
   "metadata": {},
   "outputs": [
    {
     "name": "stdout",
     "output_type": "stream",
     "text": [
      "Found 5216 images belonging to 2 classes.\n",
      "Found 16 images belonging to 2 classes.\n",
      "Found 624 images belonging to 2 classes.\n"
     ]
    }
   ],
   "source": [
    "training_set = train_datagen.flow_from_directory(train_dir,target_size=(image_width, image_height),batch_size=batch_size)\n",
    "validation_set = validation_datagen.flow_from_directory(validation_dir,target_size=(image_width, image_height),batch_size=batch_size,shuffle=False)\n",
    "test_set = test_datagen.flow_from_directory(test_dir,target_size=(image_width, image_height),batch_size=batch_size,shuffle=False)"
   ]
  },
  {
   "cell_type": "markdown",
   "metadata": {},
   "source": [
    "## Model Training"
   ]
  },
  {
   "cell_type": "code",
   "execution_count": 19,
   "metadata": {},
   "outputs": [
    {
     "name": "stdout",
     "output_type": "stream",
     "text": [
      "WARNING:tensorflow:From C:\\Users\\Raheel\\Anaconda3\\envs\\EnvName\\lib\\site-packages\\tensorflow\\python\\ops\\math_ops.py:3066: to_int32 (from tensorflow.python.ops.math_ops) is deprecated and will be removed in a future version.\n",
      "Instructions for updating:\n",
      "Use tf.cast instead.\n",
      "Epoch 1/100\n",
      "2/2 [==============================] - 1s 307ms/step - loss: 0.8038 - categorical_accuracy: 0.6875\n",
      "652/652 [==============================] - 192s 295ms/step - loss: 0.3788 - categorical_accuracy: 0.8244 - val_loss: 0.8038 - val_categorical_accuracy: 0.6875\n",
      "Epoch 2/100\n",
      "2/2 [==============================] - 0s 128ms/step - loss: 0.8397 - categorical_accuracy: 0.6250\n",
      "652/652 [==============================] - 128s 196ms/step - loss: 0.2649 - categorical_accuracy: 0.8871 - val_loss: 0.8397 - val_categorical_accuracy: 0.6250\n",
      "Epoch 3/100\n",
      "2/2 [==============================] - 0s 161ms/step - loss: 2.3998 - categorical_accuracy: 0.5625\n",
      "652/652 [==============================] - 131s 201ms/step - loss: 0.2053 - categorical_accuracy: 0.9132 - val_loss: 2.3998 - val_categorical_accuracy: 0.5625\n",
      "Epoch 4/100\n",
      "2/2 [==============================] - 0s 178ms/step - loss: 0.3043 - categorical_accuracy: 0.8750\n",
      "652/652 [==============================] - 128s 197ms/step - loss: 0.1725 - categorical_accuracy: 0.9314 - val_loss: 0.3043 - val_categorical_accuracy: 0.8750\n",
      "Epoch 5/100\n",
      "2/2 [==============================] - 0s 121ms/step - loss: 0.3137 - categorical_accuracy: 0.8750TA: 4s -\n",
      "652/652 [==============================] - 127s 194ms/step - loss: 0.1643 - categorical_accuracy: 0.9362 - val_loss: 0.3137 - val_categorical_accuracy: 0.8750\n",
      "Epoch 6/100\n",
      "2/2 [==============================] - 0s 134ms/step - loss: 0.4989 - categorical_accuracy: 0.8750\n",
      "652/652 [==============================] - 131s 200ms/step - loss: 0.1383 - categorical_accuracy: 0.9475 - val_loss: 0.4989 - val_categorical_accuracy: 0.8750\n",
      "Epoch 7/100\n",
      "2/2 [==============================] - 0s 145ms/step - loss: 0.2927 - categorical_accuracy: 0.8750TA: 3s - loss: 0.142\n",
      "652/652 [==============================] - 129s 197ms/step - loss: 0.1409 - categorical_accuracy: 0.9503 - val_loss: 0.2927 - val_categorical_accuracy: 0.8750\n",
      "Epoch 8/100\n",
      "2/2 [==============================] - 0s 132ms/step - loss: 1.0030 - categorical_accuracy: 0.6250\n",
      "652/652 [==============================] - 139s 214ms/step - loss: 0.1258 - categorical_accuracy: 0.9505 - val_loss: 1.0030 - val_categorical_accuracy: 0.6250\n",
      "Epoch 9/100\n",
      "2/2 [==============================] - 0s 178ms/step - loss: 0.4371 - categorical_accuracy: 0.8750\n",
      "652/652 [==============================] - 130s 199ms/step - loss: 0.1209 - categorical_accuracy: 0.9542 - val_loss: 0.4371 - val_categorical_accuracy: 0.8750\n",
      "Epoch 10/100\n",
      "2/2 [==============================] - 0s 135ms/step - loss: 1.3659 - categorical_accuracy: 0.7500\n",
      "652/652 [==============================] - 127s 195ms/step - loss: 0.1242 - categorical_accuracy: 0.9538 - val_loss: 1.3659 - val_categorical_accuracy: 0.7500\n",
      "Epoch 11/100\n",
      "2/2 [==============================] - 0s 130ms/step - loss: 1.2667 - categorical_accuracy: 0.8125\n",
      "652/652 [==============================] - 128s 196ms/step - loss: 0.1105 - categorical_accuracy: 0.9622 - val_loss: 1.2667 - val_categorical_accuracy: 0.8125\n",
      "Epoch 12/100\n",
      "2/2 [==============================] - 0s 146ms/step - loss: 0.2762 - categorical_accuracy: 0.8125\n",
      "652/652 [==============================] - 127s 195ms/step - loss: 0.1169 - categorical_accuracy: 0.9571 - val_loss: 0.2762 - val_categorical_accuracy: 0.8125\n",
      "Epoch 13/100\n",
      "2/2 [==============================] - 0s 145ms/step - loss: 0.1440 - categorical_accuracy: 1.0000\n",
      "652/652 [==============================] - 127s 195ms/step - loss: 0.1016 - categorical_accuracy: 0.9640 - val_loss: 0.1440 - val_categorical_accuracy: 1.0000\n",
      "Epoch 14/100\n",
      "2/2 [==============================] - 0s 175ms/step - loss: 0.2555 - categorical_accuracy: 0.8750\n",
      "652/652 [==============================] - 127s 196ms/step - loss: 0.0936 - categorical_accuracy: 0.9691 - val_loss: 0.2555 - val_categorical_accuracy: 0.8750\n",
      "Epoch 15/100\n",
      "2/2 [==============================] - 1s 456ms/step - loss: 0.8250 - categorical_accuracy: 0.8750\n",
      "652/652 [==============================] - 127s 195ms/step - loss: 0.0919 - categorical_accuracy: 0.9636 - val_loss: 0.8250 - val_categorical_accuracy: 0.8750\n",
      "Epoch 16/100\n",
      "2/2 [==============================] - 0s 129ms/step - loss: 1.1144 - categorical_accuracy: 0.8750\n",
      "652/652 [==============================] - 127s 195ms/step - loss: 0.0843 - categorical_accuracy: 0.9682 - val_loss: 1.1144 - val_categorical_accuracy: 0.8750\n",
      "Epoch 17/100\n",
      "2/2 [==============================] - 0s 129ms/step - loss: 0.1332 - categorical_accuracy: 0.9375TA: 1s - loss: 0.0939 - categorical_accu\n",
      "652/652 [==============================] - 127s 195ms/step - loss: 0.0934 - categorical_accuracy: 0.9678 - val_loss: 0.1332 - val_categorical_accuracy: 0.9375\n",
      "Epoch 18/100\n",
      "2/2 [==============================] - 0s 170ms/step - loss: 0.2971 - categorical_accuracy: 0.8750\n",
      "652/652 [==============================] - 127s 195ms/step - loss: 0.1112 - categorical_accuracy: 0.9628 - val_loss: 0.2971 - val_categorical_accuracy: 0.8750\n",
      "Epoch 19/100\n",
      "2/2 [==============================] - 0s 130ms/step - loss: 1.2003 - categorical_accuracy: 0.8125\n",
      "652/652 [==============================] - 127s 195ms/step - loss: 0.0901 - categorical_accuracy: 0.9664 - val_loss: 1.2003 - val_categorical_accuracy: 0.8125\n",
      "Epoch 20/100\n",
      "2/2 [==============================] - 0s 136ms/step - loss: 0.5903 - categorical_accuracy: 0.9375TA: 1s - loss: 0.0917 - categorical_\n",
      "652/652 [==============================] - 127s 195ms/step - loss: 0.0924 - categorical_accuracy: 0.9666 - val_loss: 0.5903 - val_categorical_accuracy: 0.9375\n",
      "Epoch 21/100\n",
      "2/2 [==============================] - 0s 129ms/step - loss: 0.6316 - categorical_accuracy: 0.8750\n",
      "652/652 [==============================] - 126s 194ms/step - loss: 0.0752 - categorical_accuracy: 0.9714 - val_loss: 0.6316 - val_categorical_accuracy: 0.8750\n",
      "Epoch 22/100\n",
      "2/2 [==============================] - 0s 120ms/step - loss: 0.1525 - categorical_accuracy: 0.9375\n",
      "652/652 [==============================] - 127s 195ms/step - loss: 0.0817 - categorical_accuracy: 0.9714 - val_loss: 0.1525 - val_categorical_accuracy: 0.9375\n",
      "Epoch 23/100\n",
      "2/2 [==============================] - 0s 153ms/step - loss: 0.1686 - categorical_accuracy: 0.9375\n",
      "652/652 [==============================] - 127s 195ms/step - loss: 0.0917 - categorical_accuracy: 0.9645 - val_loss: 0.1686 - val_categorical_accuracy: 0.9375\n",
      "Epoch 24/100\n",
      "2/2 [==============================] - 0s 129ms/step - loss: 0.1716 - categorical_accuracy: 0.9375\n",
      "652/652 [==============================] - 127s 194ms/step - loss: 0.0735 - categorical_accuracy: 0.9732 - val_loss: 0.1716 - val_categorical_accuracy: 0.9375\n",
      "Epoch 25/100\n",
      "2/2 [==============================] - 0s 202ms/step - loss: 0.1223 - categorical_accuracy: 0.9375\n",
      "652/652 [==============================] - 128s 197ms/step - loss: 0.0681 - categorical_accuracy: 0.9751 - val_loss: 0.1223 - val_categorical_accuracy: 0.9375\n",
      "Epoch 26/100\n",
      "2/2 [==============================] - 0s 138ms/step - loss: 0.1090 - categorical_accuracy: 1.0000\n",
      "652/652 [==============================] - 129s 197ms/step - loss: 0.0982 - categorical_accuracy: 0.9659 - val_loss: 0.1090 - val_categorical_accuracy: 1.0000\n",
      "Epoch 27/100\n",
      "2/2 [==============================] - 0s 128ms/step - loss: 0.0293 - categorical_accuracy: 1.0000\n",
      "652/652 [==============================] - 128s 197ms/step - loss: 0.0714 - categorical_accuracy: 0.9751 - val_loss: 0.0293 - val_categorical_accuracy: 1.0000\n",
      "Epoch 28/100\n",
      "2/2 [==============================] - 0s 143ms/step - loss: 0.1172 - categorical_accuracy: 0.9375TA: 0s - loss: 0.0848 - categorical_accuracy: 0.\n",
      "652/652 [==============================] - 126s 194ms/step - loss: 0.0846 - categorical_accuracy: 0.9728 - val_loss: 0.1172 - val_categorical_accuracy: 0.9375\n",
      "Epoch 29/100\n",
      "2/2 [==============================] - 0s 137ms/step - loss: 0.0807 - categorical_accuracy: 0.9375\n",
      "652/652 [==============================] - 128s 196ms/step - loss: 0.0589 - categorical_accuracy: 0.9801 - val_loss: 0.0807 - val_categorical_accuracy: 0.9375\n"
     ]
    },
    {
     "name": "stdout",
     "output_type": "stream",
     "text": [
      "Epoch 30/100\n",
      "2/2 [==============================] - 0s 144ms/step - loss: 0.6839 - categorical_accuracy: 0.7500TA: 1s - loss: 0.0716 - categorical_ac\n",
      "652/652 [==============================] - 126s 194ms/step - loss: 0.0715 - categorical_accuracy: 0.9739 - val_loss: 0.6839 - val_categorical_accuracy: 0.7500\n",
      "Epoch 31/100\n",
      "2/2 [==============================] - 0s 138ms/step - loss: 0.7506 - categorical_accuracy: 0.8750\n",
      "652/652 [==============================] - 126s 193ms/step - loss: 0.0712 - categorical_accuracy: 0.9760 - val_loss: 0.7506 - val_categorical_accuracy: 0.8750\n",
      "Epoch 32/100\n",
      "2/2 [==============================] - 0s 137ms/step - loss: 0.5271 - categorical_accuracy: 0.9375\n",
      "652/652 [==============================] - 126s 193ms/step - loss: 0.0553 - categorical_accuracy: 0.9776 - val_loss: 0.5271 - val_categorical_accuracy: 0.9375\n",
      "Epoch 33/100\n",
      "2/2 [==============================] - 0s 129ms/step - loss: 0.0513 - categorical_accuracy: 1.0000\n",
      "652/652 [==============================] - 126s 193ms/step - loss: 0.0606 - categorical_accuracy: 0.9793 - val_loss: 0.0513 - val_categorical_accuracy: 1.0000\n",
      "Epoch 34/100\n",
      "2/2 [==============================] - 0s 129ms/step - loss: 0.7433 - categorical_accuracy: 0.9375\n",
      "652/652 [==============================] - 126s 193ms/step - loss: 0.0594 - categorical_accuracy: 0.9783 - val_loss: 0.7433 - val_categorical_accuracy: 0.9375\n",
      "Epoch 35/100\n",
      "2/2 [==============================] - 0s 169ms/step - loss: 0.5804 - categorical_accuracy: 0.9375\n",
      "652/652 [==============================] - 126s 193ms/step - loss: 0.0577 - categorical_accuracy: 0.9785 - val_loss: 0.5804 - val_categorical_accuracy: 0.9375\n",
      "Epoch 36/100\n",
      "2/2 [==============================] - 0s 136ms/step - loss: 0.0741 - categorical_accuracy: 1.0000\n",
      "652/652 [==============================] - 126s 193ms/step - loss: 0.0612 - categorical_accuracy: 0.9789 - val_loss: 0.0741 - val_categorical_accuracy: 1.0000\n",
      "Epoch 37/100\n",
      "2/2 [==============================] - 0s 124ms/step - loss: 0.0957 - categorical_accuracy: 0.9375\n",
      "652/652 [==============================] - 4461s 7s/step - loss: 0.0541 - categorical_accuracy: 0.9804 - val_loss: 0.0957 - val_categorical_accuracy: 0.9375\n",
      "Epoch 38/100\n",
      "2/2 [==============================] - 0s 123ms/step - loss: 2.9380 - categorical_accuracy: 0.6250\n",
      "652/652 [==============================] - 126s 193ms/step - loss: 0.0446 - categorical_accuracy: 0.9849 - val_loss: 2.9380 - val_categorical_accuracy: 0.6250\n",
      "Epoch 39/100\n",
      "2/2 [==============================] - 0s 133ms/step - loss: 0.0830 - categorical_accuracy: 0.9375\n",
      "652/652 [==============================] - 126s 193ms/step - loss: 0.0878 - categorical_accuracy: 0.9776 - val_loss: 0.0830 - val_categorical_accuracy: 0.9375\n",
      "Epoch 40/100\n",
      "2/2 [==============================] - 0s 135ms/step - loss: 0.0534 - categorical_accuracy: 1.0000\n",
      "652/652 [==============================] - 126s 193ms/step - loss: 0.0714 - categorical_accuracy: 0.9760 - val_loss: 0.0534 - val_categorical_accuracy: 1.0000\n",
      "Epoch 41/100\n",
      "2/2 [==============================] - 0s 128ms/step - loss: 0.1561 - categorical_accuracy: 0.8750\n",
      "652/652 [==============================] - 125s 192ms/step - loss: 0.0615 - categorical_accuracy: 0.9787 - val_loss: 0.1561 - val_categorical_accuracy: 0.8750\n",
      "Epoch 42/100\n",
      "2/2 [==============================] - 0s 194ms/step - loss: 0.1345 - categorical_accuracy: 0.9375\n",
      "652/652 [==============================] - 125s 192ms/step - loss: 0.0707 - categorical_accuracy: 0.9762 - val_loss: 0.1345 - val_categorical_accuracy: 0.9375\n",
      "Epoch 43/100\n",
      "2/2 [==============================] - 0s 126ms/step - loss: 0.0773 - categorical_accuracy: 1.0000\n",
      "652/652 [==============================] - 126s 193ms/step - loss: 0.0551 - categorical_accuracy: 0.9803 - val_loss: 0.0773 - val_categorical_accuracy: 1.0000\n",
      "Epoch 44/100\n",
      "2/2 [==============================] - 0s 126ms/step - loss: 0.1594 - categorical_accuracy: 0.8750\n",
      "652/652 [==============================] - 126s 193ms/step - loss: 0.0709 - categorical_accuracy: 0.9730 - val_loss: 0.1594 - val_categorical_accuracy: 0.8750\n",
      "Epoch 45/100\n",
      "2/2 [==============================] - 0s 135ms/step - loss: 0.8219 - categorical_accuracy: 0.9375\n",
      "652/652 [==============================] - 126s 193ms/step - loss: 0.0472 - categorical_accuracy: 0.9837 - val_loss: 0.8219 - val_categorical_accuracy: 0.9375\n",
      "Epoch 46/100\n",
      "2/2 [==============================] - 0s 136ms/step - loss: 0.0563 - categorical_accuracy: 1.0000TA: 4s - l\n",
      "652/652 [==============================] - 126s 193ms/step - loss: 0.0553 - categorical_accuracy: 0.9793 - val_loss: 0.0563 - val_categorical_accuracy: 1.0000\n",
      "Epoch 47/100\n",
      "2/2 [==============================] - 0s 136ms/step - loss: 0.4968 - categorical_accuracy: 0.8125\n",
      "652/652 [==============================] - 126s 193ms/step - loss: 0.0487 - categorical_accuracy: 0.9797 - val_loss: 0.4968 - val_categorical_accuracy: 0.8125\n",
      "Epoch 48/100\n",
      "2/2 [==============================] - 0s 133ms/step - loss: 0.5308 - categorical_accuracy: 0.8125\n",
      "652/652 [==============================] - 126s 193ms/step - loss: 0.0498 - categorical_accuracy: 0.9835 - val_loss: 0.5308 - val_categorical_accuracy: 0.8125\n",
      "Epoch 49/100\n",
      "2/2 [==============================] - 0s 131ms/step - loss: 0.6657 - categorical_accuracy: 0.8750\n",
      "652/652 [==============================] - 126s 193ms/step - loss: 0.0526 - categorical_accuracy: 0.9816 - val_loss: 0.6657 - val_categorical_accuracy: 0.8750\n",
      "Epoch 50/100\n",
      "2/2 [==============================] - 0s 135ms/step - loss: 0.1707 - categorical_accuracy: 0.9375\n",
      "652/652 [==============================] - 126s 193ms/step - loss: 0.0420 - categorical_accuracy: 0.9849 - val_loss: 0.1707 - val_categorical_accuracy: 0.9375\n",
      "Epoch 51/100\n",
      "2/2 [==============================] - 0s 134ms/step - loss: 0.4141 - categorical_accuracy: 0.9375\n",
      "652/652 [==============================] - 126s 193ms/step - loss: 0.0440 - categorical_accuracy: 0.9862 - val_loss: 0.4141 - val_categorical_accuracy: 0.9375\n",
      "Epoch 52/100\n",
      "2/2 [==============================] - 0s 126ms/step - loss: 0.0702 - categorical_accuracy: 0.9375\n",
      "652/652 [==============================] - 126s 193ms/step - loss: 0.0482 - categorical_accuracy: 0.9818 - val_loss: 0.0702 - val_categorical_accuracy: 0.9375\n",
      "Epoch 53/100\n",
      "2/2 [==============================] - 0s 133ms/step - loss: 0.1687 - categorical_accuracy: 0.9375\n",
      "652/652 [==============================] - 126s 193ms/step - loss: 0.0434 - categorical_accuracy: 0.9845 - val_loss: 0.1687 - val_categorical_accuracy: 0.9375\n",
      "Epoch 54/100\n",
      "2/2 [==============================] - 0s 133ms/step - loss: 0.1700 - categorical_accuracy: 0.9375TA: 1s - loss: 0.0525 - categorica\n",
      "652/652 [==============================] - 126s 193ms/step - loss: 0.0522 - categorical_accuracy: 0.9774 - val_loss: 0.1700 - val_categorical_accuracy: 0.9375\n",
      "Epoch 55/100\n",
      "2/2 [==============================] - 0s 138ms/step - loss: 0.1556 - categorical_accuracy: 0.9375\n",
      "652/652 [==============================] - 126s 193ms/step - loss: 0.0480 - categorical_accuracy: 0.9835 - val_loss: 0.1556 - val_categorical_accuracy: 0.9375\n",
      "Epoch 56/100\n",
      "2/2 [==============================] - 0s 134ms/step - loss: 0.1269 - categorical_accuracy: 0.8750\n",
      "652/652 [==============================] - 126s 193ms/step - loss: 0.0395 - categorical_accuracy: 0.9849 - val_loss: 0.1269 - val_categorical_accuracy: 0.8750\n",
      "Epoch 57/100\n",
      "2/2 [==============================] - 0s 134ms/step - loss: 0.2700 - categorical_accuracy: 0.8125\n",
      "652/652 [==============================] - 126s 193ms/step - loss: 0.0433 - categorical_accuracy: 0.9856 - val_loss: 0.2700 - val_categorical_accuracy: 0.8125\n",
      "Epoch 58/100\n",
      "2/2 [==============================] - 0s 128ms/step - loss: 0.6477 - categorical_accuracy: 0.8125\n",
      "652/652 [==============================] - 126s 193ms/step - loss: 0.0515 - categorical_accuracy: 0.9835 - val_loss: 0.6477 - val_categorical_accuracy: 0.8125\n",
      "Epoch 59/100\n",
      "2/2 [==============================] - 0s 135ms/step - loss: 0.0116 - categorical_accuracy: 1.0000\n",
      "652/652 [==============================] - 126s 194ms/step - loss: 0.0492 - categorical_accuracy: 0.9833 - val_loss: 0.0116 - val_categorical_accuracy: 1.0000\n"
     ]
    },
    {
     "name": "stdout",
     "output_type": "stream",
     "text": [
      "Epoch 60/100\n",
      "2/2 [==============================] - 0s 134ms/step - loss: 0.1844 - categorical_accuracy: 0.8750\n",
      "652/652 [==============================] - 126s 193ms/step - loss: 0.0528 - categorical_accuracy: 0.9824 - val_loss: 0.1844 - val_categorical_accuracy: 0.8750\n",
      "Epoch 61/100\n",
      "2/2 [==============================] - 0s 132ms/step - loss: 0.0969 - categorical_accuracy: 0.9375\n",
      "652/652 [==============================] - 126s 193ms/step - loss: 0.0507 - categorical_accuracy: 0.9833 - val_loss: 0.0969 - val_categorical_accuracy: 0.9375\n",
      "Epoch 62/100\n",
      "2/2 [==============================] - 0s 140ms/step - loss: 0.0271 - categorical_accuracy: 1.0000\n",
      "652/652 [==============================] - 126s 193ms/step - loss: 0.0309 - categorical_accuracy: 0.9889 - val_loss: 0.0271 - val_categorical_accuracy: 1.0000\n",
      "Epoch 63/100\n",
      "2/2 [==============================] - 0s 131ms/step - loss: 0.0693 - categorical_accuracy: 0.9375\n",
      "652/652 [==============================] - 126s 193ms/step - loss: 0.0354 - categorical_accuracy: 0.9873 - val_loss: 0.0693 - val_categorical_accuracy: 0.9375\n",
      "Epoch 64/100\n",
      "2/2 [==============================] - 0s 129ms/step - loss: 0.4438 - categorical_accuracy: 0.9375\n",
      "652/652 [==============================] - 126s 193ms/step - loss: 0.0322 - categorical_accuracy: 0.9887 - val_loss: 0.4438 - val_categorical_accuracy: 0.9375\n",
      "Epoch 65/100\n",
      "2/2 [==============================] - 0s 136ms/step - loss: 0.4943 - categorical_accuracy: 0.9375 ETA: 15s - loss: 0. - ETA: 4s - l\n",
      "652/652 [==============================] - 126s 193ms/step - loss: 0.0475 - categorical_accuracy: 0.9850 - val_loss: 0.4943 - val_categorical_accuracy: 0.9375\n",
      "Epoch 66/100\n",
      "2/2 [==============================] - 0s 135ms/step - loss: 0.8352 - categorical_accuracy: 0.9375TA: 0s - loss: 0.0327 - categorical_accuracy: \n",
      "652/652 [==============================] - 126s 193ms/step - loss: 0.0327 - categorical_accuracy: 0.9900 - val_loss: 0.8352 - val_categorical_accuracy: 0.9375\n",
      "Epoch 67/100\n",
      "2/2 [==============================] - 0s 135ms/step - loss: 0.1535 - categorical_accuracy: 0.9375\n",
      "652/652 [==============================] - 126s 193ms/step - loss: 0.0301 - categorical_accuracy: 0.9887 - val_loss: 0.1535 - val_categorical_accuracy: 0.9375\n",
      "Epoch 68/100\n",
      "2/2 [==============================] - 0s 129ms/step - loss: 0.5703 - categorical_accuracy: 0.9375\n",
      "652/652 [==============================] - 126s 193ms/step - loss: 0.0378 - categorical_accuracy: 0.9872 - val_loss: 0.5703 - val_categorical_accuracy: 0.9375\n",
      "Epoch 69/100\n",
      "2/2 [==============================] - 0s 135ms/step - loss: 0.1360 - categorical_accuracy: 0.9375\n",
      "652/652 [==============================] - 126s 193ms/step - loss: 0.0413 - categorical_accuracy: 0.9849 - val_loss: 0.1360 - val_categorical_accuracy: 0.9375\n",
      "Epoch 70/100\n",
      "2/2 [==============================] - 0s 129ms/step - loss: 0.0019 - categorical_accuracy: 1.0000\n",
      "652/652 [==============================] - 127s 194ms/step - loss: 0.0387 - categorical_accuracy: 0.9854 - val_loss: 0.0019 - val_categorical_accuracy: 1.0000\n",
      "Epoch 71/100\n",
      "2/2 [==============================] - 0s 133ms/step - loss: 0.4045 - categorical_accuracy: 0.9375\n",
      "652/652 [==============================] - 126s 193ms/step - loss: 0.0342 - categorical_accuracy: 0.9873 - val_loss: 0.4045 - val_categorical_accuracy: 0.9375\n",
      "Epoch 72/100\n",
      "2/2 [==============================] - 0s 128ms/step - loss: 0.1002 - categorical_accuracy: 0.9375\n",
      "652/652 [==============================] - 126s 193ms/step - loss: 0.0507 - categorical_accuracy: 0.9843 - val_loss: 0.1002 - val_categorical_accuracy: 0.9375\n",
      "Epoch 73/100\n",
      "2/2 [==============================] - 0s 137ms/step - loss: 0.5781 - categorical_accuracy: 0.9375\n",
      "652/652 [==============================] - 126s 193ms/step - loss: 0.0704 - categorical_accuracy: 0.9751 - val_loss: 0.5781 - val_categorical_accuracy: 0.9375\n",
      "Epoch 74/100\n",
      "2/2 [==============================] - 0s 133ms/step - loss: 1.0392 - categorical_accuracy: 0.9375\n",
      "652/652 [==============================] - 126s 193ms/step - loss: 0.0391 - categorical_accuracy: 0.9872 - val_loss: 1.0392 - val_categorical_accuracy: 0.9375\n",
      "Epoch 75/100\n",
      "2/2 [==============================] - 0s 129ms/step - loss: 0.7674 - categorical_accuracy: 0.9375\n",
      "652/652 [==============================] - 126s 193ms/step - loss: 0.0285 - categorical_accuracy: 0.9910 - val_loss: 0.7674 - val_categorical_accuracy: 0.9375\n",
      "Epoch 76/100\n",
      "2/2 [==============================] - 0s 150ms/step - loss: 0.2876 - categorical_accuracy: 0.8750\n",
      "652/652 [==============================] - 126s 193ms/step - loss: 0.0345 - categorical_accuracy: 0.9864 - val_loss: 0.2876 - val_categorical_accuracy: 0.8750\n",
      "Epoch 77/100\n",
      "2/2 [==============================] - 0s 129ms/step - loss: 0.0848 - categorical_accuracy: 0.9375\n",
      "652/652 [==============================] - 126s 193ms/step - loss: 0.0398 - categorical_accuracy: 0.9862 - val_loss: 0.0848 - val_categorical_accuracy: 0.9375\n",
      "Epoch 78/100\n",
      "2/2 [==============================] - 0s 135ms/step - loss: 0.2008 - categorical_accuracy: 0.8750\n",
      "652/652 [==============================] - 126s 193ms/step - loss: 0.0484 - categorical_accuracy: 0.9860 - val_loss: 0.2008 - val_categorical_accuracy: 0.8750\n",
      "Epoch 79/100\n",
      "2/2 [==============================] - 0s 132ms/step - loss: 0.0868 - categorical_accuracy: 0.9375\n",
      "652/652 [==============================] - 126s 193ms/step - loss: 0.0330 - categorical_accuracy: 0.9872 - val_loss: 0.0868 - val_categorical_accuracy: 0.9375\n",
      "Epoch 80/100\n",
      "2/2 [==============================] - 0s 138ms/step - loss: 1.8711 - categorical_accuracy: 0.7500\n",
      "652/652 [==============================] - 126s 193ms/step - loss: 0.0198 - categorical_accuracy: 0.9923 - val_loss: 1.8711 - val_categorical_accuracy: 0.7500\n",
      "Epoch 81/100\n",
      "2/2 [==============================] - 0s 130ms/step - loss: 0.2532 - categorical_accuracy: 0.8125\n",
      "652/652 [==============================] - 126s 193ms/step - loss: 0.0803 - categorical_accuracy: 0.9739 - val_loss: 0.2532 - val_categorical_accuracy: 0.8125\n",
      "Epoch 82/100\n",
      "2/2 [==============================] - 0s 159ms/step - loss: 0.3798 - categorical_accuracy: 0.8750\n",
      "652/652 [==============================] - 126s 193ms/step - loss: 0.0415 - categorical_accuracy: 0.9847 - val_loss: 0.3798 - val_categorical_accuracy: 0.8750\n",
      "Epoch 83/100\n",
      "2/2 [==============================] - 0s 133ms/step - loss: 0.5794 - categorical_accuracy: 0.9375\n",
      "652/652 [==============================] - 126s 193ms/step - loss: 0.0305 - categorical_accuracy: 0.9879 - val_loss: 0.5794 - val_categorical_accuracy: 0.9375\n",
      "Epoch 84/100\n",
      "2/2 [==============================] - 0s 138ms/step - loss: 0.0133 - categorical_accuracy: 1.0000\n",
      "652/652 [==============================] - 126s 193ms/step - loss: 0.0368 - categorical_accuracy: 0.9895 - val_loss: 0.0133 - val_categorical_accuracy: 1.0000\n",
      "Epoch 85/100\n",
      "2/2 [==============================] - 0s 126ms/step - loss: 0.0083 - categorical_accuracy: 1.0000\n",
      "652/652 [==============================] - 126s 193ms/step - loss: 0.0292 - categorical_accuracy: 0.9879 - val_loss: 0.0083 - val_categorical_accuracy: 1.0000\n",
      "Epoch 86/100\n",
      "2/2 [==============================] - 0s 135ms/step - loss: 0.1742 - categorical_accuracy: 0.8750\n",
      "652/652 [==============================] - 126s 193ms/step - loss: 0.0515 - categorical_accuracy: 0.9862 - val_loss: 0.1742 - val_categorical_accuracy: 0.8750\n",
      "Epoch 87/100\n",
      "2/2 [==============================] - 0s 129ms/step - loss: 0.0786 - categorical_accuracy: 0.9375\n",
      "652/652 [==============================] - 126s 193ms/step - loss: 0.0231 - categorical_accuracy: 0.9921 - val_loss: 0.0786 - val_categorical_accuracy: 0.9375\n",
      "Epoch 88/100\n",
      "2/2 [==============================] - 0s 135ms/step - loss: 0.6296 - categorical_accuracy: 0.8750\n",
      "652/652 [==============================] - 126s 193ms/step - loss: 0.0269 - categorical_accuracy: 0.9898 - val_loss: 0.6296 - val_categorical_accuracy: 0.8750\n",
      "Epoch 89/100\n",
      "2/2 [==============================] - 0s 129ms/step - loss: 0.5229 - categorical_accuracy: 0.8750\n",
      "652/652 [==============================] - 126s 193ms/step - loss: 0.0324 - categorical_accuracy: 0.9889 - val_loss: 0.5229 - val_categorical_accuracy: 0.8750\n"
     ]
    },
    {
     "name": "stdout",
     "output_type": "stream",
     "text": [
      "Epoch 90/100\n",
      "2/2 [==============================] - 0s 158ms/step - loss: 0.0240 - categorical_accuracy: 1.0000\n",
      "652/652 [==============================] - 126s 193ms/step - loss: 0.0232 - categorical_accuracy: 0.9927 - val_loss: 0.0240 - val_categorical_accuracy: 1.0000\n",
      "Epoch 91/100\n",
      "2/2 [==============================] - 0s 168ms/step - loss: 0.5293 - categorical_accuracy: 0.8750\n",
      "652/652 [==============================] - 126s 193ms/step - loss: 0.0304 - categorical_accuracy: 0.9895 - val_loss: 0.5293 - val_categorical_accuracy: 0.8750\n",
      "Epoch 92/100\n",
      "2/2 [==============================] - 0s 177ms/step - loss: 0.0323 - categorical_accuracy: 1.0000TA: 0s - loss: 0.0374 - categorical_accuracy\n",
      "652/652 [==============================] - 126s 194ms/step - loss: 0.0372 - categorical_accuracy: 0.9895 - val_loss: 0.0323 - val_categorical_accuracy: 1.0000\n",
      "Epoch 93/100\n",
      "2/2 [==============================] - 0s 134ms/step - loss: 1.0128 - categorical_accuracy: 0.9375\n",
      "652/652 [==============================] - 126s 194ms/step - loss: 0.0318 - categorical_accuracy: 0.9919 - val_loss: 1.0128 - val_categorical_accuracy: 0.9375\n",
      "Epoch 94/100\n",
      "2/2 [==============================] - 0s 156ms/step - loss: 1.0107 - categorical_accuracy: 0.9375\n",
      "652/652 [==============================] - 126s 193ms/step - loss: 0.0456 - categorical_accuracy: 0.9873 - val_loss: 1.0107 - val_categorical_accuracy: 0.9375\n",
      "Epoch 95/100\n",
      "2/2 [==============================] - 0s 160ms/step - loss: 1.0131 - categorical_accuracy: 0.9375\n",
      "652/652 [==============================] - 126s 193ms/step - loss: 0.0378 - categorical_accuracy: 0.9885 - val_loss: 1.0131 - val_categorical_accuracy: 0.9375\n",
      "Epoch 96/100\n",
      "2/2 [==============================] - 0s 122ms/step - loss: 1.0074 - categorical_accuracy: 0.9375\n",
      "652/652 [==============================] - 126s 193ms/step - loss: 0.0159 - categorical_accuracy: 0.9946 - val_loss: 1.0074 - val_categorical_accuracy: 0.9375\n",
      "Epoch 97/100\n",
      "2/2 [==============================] - 0s 134ms/step - loss: 0.3840 - categorical_accuracy: 0.9375\n",
      "652/652 [==============================] - 126s 193ms/step - loss: 0.0399 - categorical_accuracy: 0.9885 - val_loss: 0.3840 - val_categorical_accuracy: 0.9375\n",
      "Epoch 98/100\n",
      "2/2 [==============================] - 0s 139ms/step - loss: 0.3642 - categorical_accuracy: 0.8125\n",
      "652/652 [==============================] - 126s 193ms/step - loss: 0.0603 - categorical_accuracy: 0.9835 - val_loss: 0.3642 - val_categorical_accuracy: 0.8125\n",
      "Epoch 99/100\n",
      "2/2 [==============================] - 0s 141ms/step - loss: 0.8297 - categorical_accuracy: 0.9375\n",
      "652/652 [==============================] - 126s 193ms/step - loss: 0.0311 - categorical_accuracy: 0.9889 - val_loss: 0.8297 - val_categorical_accuracy: 0.9375\n",
      "Epoch 100/100\n",
      "2/2 [==============================] - 0s 134ms/step - loss: 0.1338 - categorical_accuracy: 0.9375\n",
      "652/652 [==============================] - 126s 193ms/step - loss: 0.0195 - categorical_accuracy: 0.9918 - val_loss: 0.1338 - val_categorical_accuracy: 0.9375\n"
     ]
    }
   ],
   "source": [
    "import math\n",
    "\n",
    "history = model.fit_generator(\n",
    "      training_set,\n",
    "      steps_per_epoch=math.ceil(number_of_training_samples//batch_size),\n",
    "      epochs=no_of_epochs,\n",
    "      callbacks=callbacks_list,\n",
    "      validation_data=validation_set,\n",
    "      validation_steps=math.ceil(number_of_validation_samples//batch_size))"
   ]
  },
  {
   "cell_type": "markdown",
   "metadata": {},
   "source": [
    "## Visualizing the Training Process"
   ]
  },
  {
   "cell_type": "code",
   "execution_count": 20,
   "metadata": {},
   "outputs": [
    {
     "data": {
      "image/png": "[encoded data removed]",
      "text/plain": [
       "<Figure size 432x288 with 1 Axes>"
      ]
     },
     "metadata": {
      "needs_background": "light"
     },
     "output_type": "display_data"
    },
    {
     "data": {
      "image/png": "[encoded data removed]",
      "text/plain": [
       "<Figure size 432x288 with 1 Axes>"
      ]
     },
     "metadata": {
      "needs_background": "light"
     },
     "output_type": "display_data"
    }
   ],
   "source": [
    "import matplotlib.pyplot as plt\n",
    "%matplotlib inline\n",
    "\n",
    "acc=history.history['categorical_accuracy']\n",
    "val_acc=history.history['val_categorical_accuracy']\n",
    "loss=history.history['loss']\n",
    "val_loss=history.history['val_loss']\n",
    "epochs=range(1,len(acc)+1)\n",
    "plt.xlabel('Epochs')\n",
    "plt.ylabel('Accuracy')\n",
    "plt.plot(epochs, acc, 'bo', label='Training acc')\n",
    "plt.plot(epochs, val_acc, 'b', label='Validation acc')\n",
    "plt.title('Training and validation accuracy')\n",
    "plt.legend()\n",
    "plt.figure()\n",
    "\n",
    "plt.plot(epochs, loss, 'bo', label='Training loss')\n",
    "plt.plot(epochs, val_loss, 'b', label='Validation loss')\n",
    "plt.title('Training and validation loss')\n",
    "plt.xlabel('Epochs')\n",
    "plt.ylabel('Loss')\n",
    "plt.legend()\n",
    "plt.show()"
   ]
  },
  {
   "cell_type": "markdown",
   "metadata": {},
   "source": [
    "## Loading the Best Model"
   ]
  },
  {
   "cell_type": "code",
   "execution_count": 21,
   "metadata": {},
   "outputs": [],
   "source": [
    "from tensorflow.python.keras.models import load_model\n",
    "\n",
    "best_model = load_model('VGG16_Degraded_Dataset_Gaussian_Noise_Added.h5')"
   ]
  },
  {
   "cell_type": "markdown",
   "metadata": {},
   "source": [
    "## Evaluating the Best Model"
   ]
  },
  {
   "cell_type": "code",
   "execution_count": 22,
   "metadata": {},
   "outputs": [
    {
     "name": "stdout",
     "output_type": "stream",
     "text": [
      "78/78 [==============================] - 13s 168ms/step - loss: 0.2438 - categorical_accuracy: 0.9407\n",
      "Test-set classification accuracy: 94.07%\n"
     ]
    }
   ],
   "source": [
    "steps_test=int(number_of_test_samples/batch_size)\n",
    "result = best_model.evaluate_generator(test_set, steps=steps_test,verbose=1)\n",
    "print(\"Test-set classification accuracy: {0:.2%}\".format(result[1]))"
   ]
  },
  {
   "cell_type": "markdown",
   "metadata": {},
   "source": [
    "## Calculating Precision, Specificity and Sensitivity (Recall) values for the model\n",
    "*Precision-Recall* is a useful measure of success of prediction when the classes are very imbalanced. High *precision* relates to a low false positive rate, and high *recall* relates to a low false negative rate.\n",
    "\n",
    "Precision is defined as the number of true positives over the number of true positives plus the number of false positives. Recall is defined as the number of true positives over the number of true positives plus the number of false negatives. Please see the [link](https://scikit-learn.org/stable/auto_examples/model_selection/plot_precision_recall.html) for details.\n",
    "\n",
    "Another way of assessing a binary classification model is to compute the *sensitivity* (also called the true positive rate or the recall) and *specificity* (also called the true negative rate) of the model. *Sensitivity* indicates the percentage of sick people who are correctly identified as having the condition. *Specificity* indicates the percentage of healthy people who are correctly identified as not having the condition.\n",
    "\n",
    "But first we prepare our test data, so that later we can draw the *confusion matrix* as well as calculate *precision*, *specificity* and *sensitivity (recall)* of the model."
   ]
  },
  {
   "cell_type": "code",
   "execution_count": 23,
   "metadata": {},
   "outputs": [
    {
     "name": "stdout",
     "output_type": "stream",
     "text": [
      "Total number of test examples:  (624, 150, 150, 3)\n",
      "Total number of labels: (624, 1)\n"
     ]
    }
   ],
   "source": [
    "# Preparing test data\n",
    "import glob\n",
    "from pathlib import Path\n",
    "from tensorflow.python.keras.utils import to_categorical\n",
    "import cv2\n",
    "\n",
    "normal_cases_dir = Path('D:\\\\TensorFlow Programs\\\\Diagnosis of Pneumonia based on Chest X-Rays\\\\new experiments_from 24_08_2019\\\\Pediatric Chest X_Rays_Gaussian_Noise_Added\\\\test\\\\NORMAL')\n",
    "pneumonia_cases_dir = Path('D:\\\\TensorFlow Programs\\\\Diagnosis of Pneumonia based on Chest X-Rays\\\\new experiments_from 24_08_2019\\\\Pediatric Chest X_Rays_Gaussian_Noise_Added\\\\test\\\\PNEUMONIA')\n",
    "\n",
    "normal_cases = normal_cases_dir.glob('*.jpeg')\n",
    "pneumonia_cases = pneumonia_cases_dir.glob('*.jpeg')\n",
    "\n",
    "test_data = []\n",
    "test_labels = []\n",
    "\n",
    "for img in normal_cases:\n",
    "    img = cv2.imread(str(img))\n",
    "    img = cv2.resize(img, (image_width,image_height))\n",
    "    if img.shape[2] ==1:\n",
    "        img = np.dstack([img, img, img])\n",
    "    else:\n",
    "        img = cv2.cvtColor(img, cv2.COLOR_BGR2RGB)\n",
    "    img = img.astype(np.float32)/255.\n",
    "    label = [0]\n",
    "    test_data.append(img)\n",
    "    test_labels.append(label)\n",
    "                      \n",
    "for img in pneumonia_cases:\n",
    "    img = cv2.imread(str(img))\n",
    "    img = cv2.resize(img, (image_width,image_height))\n",
    "    if img.shape[2] ==1:\n",
    "        img = np.dstack([img, img, img])\n",
    "    else:\n",
    "        img = cv2.cvtColor(img, cv2.COLOR_BGR2RGB)\n",
    "    img = img.astype(np.float32)/255.\n",
    "    label = [1]\n",
    "    test_data.append(img)\n",
    "    test_labels.append(label)\n",
    "    \n",
    "\n",
    "test_data = np.array(test_data)\n",
    "test_labels = np.array(test_labels)\n",
    "test_labels_one_hot_encoding=to_categorical(test_labels)\n",
    "\n",
    "print(\"Total number of test examples: \", test_data.shape)\n",
    "print(\"Total number of labels:\", test_labels.shape)"
   ]
  },
  {
   "cell_type": "code",
   "execution_count": 24,
   "metadata": {},
   "outputs": [
    {
     "name": "stdout",
     "output_type": "stream",
     "text": [
      "624/624 [==============================] - 4s 7ms/sample - loss: 0.2100 - categorical_accuracy: 0.9455\n",
      "Loss on test set:  0.20997306736435115\n",
      "Accuracy on test set:  0.94551283\n"
     ]
    }
   ],
   "source": [
    "# Evaluation on test dataset\n",
    "\n",
    "test_loss, test_score = best_model.evaluate(test_data, test_labels_one_hot_encoding, batch_size=16)\n",
    "print(\"Loss on test set: \", test_loss)\n",
    "print(\"Accuracy on test set: \", test_score)"
   ]
  },
  {
   "cell_type": "code",
   "execution_count": 25,
   "metadata": {},
   "outputs": [
    {
     "name": "stdout",
     "output_type": "stream",
     "text": [
      "624/624 [==============================] - 4s 6ms/sample\n",
      "(624, 1)\n",
      "(624, 1)\n"
     ]
    }
   ],
   "source": [
    "# Get predictions\n",
    "preds = best_model.predict(test_data, batch_size=16,verbose=1)\n",
    "preds=np.around(preds)\n",
    "orig_test_labels=test_labels\n",
    "predicted_labels=np.argmax(preds,axis=1)\n",
    "predicted_labels=np.reshape(predicted_labels,(624,1))\n",
    "print(predicted_labels.shape)\n",
    "print(orig_test_labels.shape)"
   ]
  },
  {
   "cell_type": "code",
   "execution_count": 26,
   "metadata": {},
   "outputs": [
    {
     "data": {
      "text/plain": [
       "<Figure size 432x288 with 0 Axes>"
      ]
     },
     "metadata": {},
     "output_type": "display_data"
    },
    {
     "data": {
      "image/png": "[encoded data removed]",
      "text/plain": [
       "<Figure size 864x576 with 1 Axes>"
      ]
     },
     "metadata": {
      "needs_background": "light"
     },
     "output_type": "display_data"
    }
   ],
   "source": [
    "import matplotlib.pyplot as plt\n",
    "%matplotlib inline\n",
    "# Get the confusion matrix\n",
    "from sklearn.metrics import confusion_matrix\n",
    "from mlxtend.plotting import plot_confusion_matrix\n",
    "\n",
    "cm  = confusion_matrix(orig_test_labels, predicted_labels)\n",
    "plt.figure()\n",
    "plot_confusion_matrix(cm,figsize=(12,8), hide_ticks=True,cmap=plt.cm.Blues)\n",
    "plt.xticks(range(2), ['Normal', 'Pneumonia'], fontsize=16)\n",
    "plt.yticks(range(2), ['Normal', 'Pneumonia'], fontsize=16)\n",
    "plt.show()"
   ]
  },
  {
   "cell_type": "code",
   "execution_count": 27,
   "metadata": {},
   "outputs": [
    {
     "name": "stdout",
     "output_type": "stream",
     "text": [
      "Sensitivity (Recall) of the model is 0.951\n",
      "Specificity of the model is 0.936\n",
      "Precision of the model is 0.961\n"
     ]
    }
   ],
   "source": [
    "# Calculate Precision and Recall\n",
    "tn, fp, fn, tp = cm.ravel()\n",
    "\n",
    "precision = tp/(tp+fp)\n",
    "recall = tp/(tp+fn)\n",
    "specificity=tn/(tn+fp)\n",
    "\n",
    "print(\"Sensitivity (Recall) of the model is {:.3f}\".format(recall))\n",
    "print(\"Specificity of the model is {:.3f}\".format(specificity))\n",
    "print(\"Precision of the model is {:.3f}\".format(precision))"
   ]
  },
  {
   "cell_type": "markdown",
   "metadata": {},
   "source": [
    "Nice!!! So, this model has a `95.1%` sensitivity (recall), `93.6%` specificity and `96.1%` precision."
   ]
  },
  {
   "cell_type": "markdown",
   "metadata": {},
   "source": [
    "## ROC Curve and AUC for the model\n",
    "**Receiver operating characteristic** curve (a.k.a ROC) is a graphic plot that illustrates the diagnostic ability of a binary classifier system as its discrimination threshold is varied. The critical point here is \"binary classifier\" and \"varying threshold\". **Area Under the Curve** (a.k.a. AUC) is the percentage of the area that is under this ROC curve, ranging between 0 and 1.\n",
    "ROC is a great way to visualize the performance of a binary classifier, and AUC is one single number to summarize a classifier's performance. The higher the AUC is, the better the classifier."
   ]
  },
  {
   "cell_type": "code",
   "execution_count": 28,
   "metadata": {},
   "outputs": [],
   "source": [
    "from sklearn.metrics import roc_curve\n",
    "\n",
    "probs = best_model.predict_proba(test_data)\n",
    "preds = probs[:,1]\n",
    "fpr, tpr, thresholds = roc_curve(test_labels.ravel(), preds)"
   ]
  },
  {
   "cell_type": "code",
   "execution_count": 29,
   "metadata": {},
   "outputs": [],
   "source": [
    "from sklearn.metrics import auc\n",
    "auc_var = auc(fpr, tpr)"
   ]
  },
  {
   "cell_type": "code",
   "execution_count": 30,
   "metadata": {},
   "outputs": [
    {
     "data": {
      "image/png": "[encoded data removed]",
      "text/plain": [
       "<Figure size 432x288 with 1 Axes>"
      ]
     },
     "metadata": {
      "needs_background": "light"
     },
     "output_type": "display_data"
    }
   ],
   "source": [
    "import matplotlib.pyplot as plt\n",
    "%matplotlib inline\n",
    "plt.figure(1)\n",
    "plt.plot([0, 1], [0, 1], 'k--')\n",
    "plt.plot(fpr, tpr, label='VGG16 based model (area = {:.3f})'.format(auc_var))\n",
    "plt.xlabel('False positive rate')\n",
    "plt.ylabel('True positive rate')\n",
    "plt.title('ROC curve')\n",
    "plt.legend(loc='best')\n",
    "plt.show()"
   ]
  },
  {
   "cell_type": "markdown",
   "metadata": {},
   "source": [
    "## Precision-Recall Curve for the Model"
   ]
  },
  {
   "cell_type": "code",
   "execution_count": 31,
   "metadata": {},
   "outputs": [],
   "source": [
    "from sklearn.metrics import precision_recall_curve\n",
    "from sklearn.metrics import f1_score\n",
    "from sklearn.metrics import average_precision_score"
   ]
  },
  {
   "cell_type": "code",
   "execution_count": 32,
   "metadata": {},
   "outputs": [],
   "source": [
    "precision, recall, thresholds = precision_recall_curve(test_labels.ravel(), preds)"
   ]
  },
  {
   "cell_type": "code",
   "execution_count": 33,
   "metadata": {},
   "outputs": [],
   "source": [
    "auc_var2 = auc(recall, precision)"
   ]
  },
  {
   "cell_type": "code",
   "execution_count": 34,
   "metadata": {},
   "outputs": [
    {
     "data": {
      "image/png": "[encoded data removed]",
      "text/plain": [
       "<Figure size 432x288 with 1 Axes>"
      ]
     },
     "metadata": {
      "needs_background": "light"
     },
     "output_type": "display_data"
    }
   ],
   "source": [
    "plt.figure()\n",
    "plt.plot(recall, precision, label='VGG16 based model (area = {:.3f})'.format(auc_var2))\n",
    "plt.xlabel('Recall')\n",
    "plt.ylabel('Precision')\n",
    "plt.title('Precision-Recall curve')\n",
    "plt.legend(loc='best')\n",
    "plt.show()"
   ]
  },
  {
   "cell_type": "code",
   "execution_count": 35,
   "metadata": {},
   "outputs": [
    {
     "name": "stdout",
     "output_type": "stream",
     "text": [
      "Average Precision Score: 0.992\n"
     ]
    }
   ],
   "source": [
    "print('Average Precision Score: {:.3f}'.format(average_precision_score(test_labels.ravel(), preds)))"
   ]
  },
  {
   "cell_type": "code",
   "execution_count": 36,
   "metadata": {},
   "outputs": [
    {
     "name": "stdout",
     "output_type": "stream",
     "text": [
      "F1 Score: 0.956\n"
     ]
    }
   ],
   "source": [
    "print(\"F1 Score: {:.3f}\".format(f1_score(test_labels.ravel(),predicted_labels.ravel())))"
   ]
  }
 ],
 "metadata": {
  "kernelspec": {
   "display_name": "Python 3",
   "language": "python",
   "name": "python3"
  },
  "language_info": {
   "codemirror_mode": {
    "name": "ipython",
    "version": 3
   },
   "file_extension": ".py",
   "mimetype": "text/x-python",
   "name": "python",
   "nbconvert_exporter": "python",
   "pygments_lexer": "ipython3",
   "version": "3.6.8"
  }
 },
 "nbformat": 4,
 "nbformat_minor": 2
}
