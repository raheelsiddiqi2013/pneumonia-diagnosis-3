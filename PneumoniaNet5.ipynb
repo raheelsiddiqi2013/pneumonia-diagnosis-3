{
 "cells": [
  {
   "cell_type": "markdown",
   "metadata": {},
   "source": [
    "# Automated Chest X-ray based Pneumonia Diagnosis using PneumoniaNet\n",
    "The author of this notebook is **Dr Raheel Siddiqi**. He is a *Senior Assistant Professor* at Bahria University, Karachi Campus, Pakistan. His research interests include *Medical Imaging*, *Computer Vision* and *Deep Learning*. \n",
    "\n",
    "The objective of the experiment (presented in this notebook) is to evaluate the performance of a self-designed Convolutional Neural Network (CNN) based model called **PneumoniaNet**. PneumoniaNet is employed to diagnose Pneumonia (based on Chest X-ray images). The diagnosis process comprises of classifying Chest X-ray images into one of the two classes: (a) Normal, (b) Pneumonia.\n",
    "\n",
    "The dataset is downloded from [kaggle.com](https://www.kaggle.com/paultimothymooney/chest-xray-pneumonia). The dataset contains 5,863 X-Ray images (JPEG) and 2 categories (Pneumonia/Normal). The dataset is divided into three sets: (a) train, (b) val and (c) test.\n",
    "\n",
    "PneumoniaNet is based on a very simple 20-layer CNN architecture, where only 12 layers have trainable weights and biases. In order to avoid overfitting the following steps are ensured:\n",
    "1. Using a low capacity network i.e. less number of layers, less learnable parameters. This is done to reduce memorization capacity.\n",
    "2. Adding weight regularization to dense layer.\n",
    "3. Drop out layers have also been added."
   ]
  },
  {
   "cell_type": "markdown",
   "metadata": {},
   "source": [
    "# Tensorflow and Keras version used"
   ]
  },
  {
   "cell_type": "code",
   "execution_count": 1,
   "metadata": {},
   "outputs": [
    {
     "name": "stdout",
     "output_type": "stream",
     "text": [
      "Tensorflow Version:  1.13.1\n",
      "Keras Version:  2.2.4-tf\n"
     ]
    }
   ],
   "source": [
    "import tensorflow as tf\n",
    "from tensorflow.python import keras\n",
    "\n",
    "print('Tensorflow Version: ', tf.__version__)\n",
    "print('Keras Version: ', keras.__version__)"
   ]
  },
  {
   "cell_type": "markdown",
   "metadata": {},
   "source": [
    "# Setting up the Model"
   ]
  },
  {
   "cell_type": "code",
   "execution_count": 2,
   "metadata": {},
   "outputs": [
    {
     "name": "stdout",
     "output_type": "stream",
     "text": [
      "WARNING:tensorflow:From C:\\Users\\Raheel\\Anaconda3\\envs\\EnvName\\lib\\site-packages\\tensorflow\\python\\framework\\op_def_library.py:263: colocate_with (from tensorflow.python.framework.ops) is deprecated and will be removed in a future version.\n",
      "Instructions for updating:\n",
      "Colocations handled automatically by placer.\n",
      "WARNING:tensorflow:From C:\\Users\\Raheel\\Anaconda3\\envs\\EnvName\\lib\\site-packages\\keras\\backend\\tensorflow_backend.py:3445: calling dropout (from tensorflow.python.ops.nn_ops) with keep_prob is deprecated and will be removed in a future version.\n",
      "Instructions for updating:\n",
      "Please use `rate` instead of `keep_prob`. Rate should be set to `rate = 1 - keep_prob`.\n"
     ]
    },
    {
     "name": "stderr",
     "output_type": "stream",
     "text": [
      "Using TensorFlow backend.\n"
     ]
    },
    {
     "name": "stdout",
     "output_type": "stream",
     "text": [
      "_________________________________________________________________\n",
      "Layer (type)                 Output Shape              Param #   \n",
      "=================================================================\n",
      "conv2d_1 (Conv2D)            (None, 148, 148, 64)      1792      \n",
      "_________________________________________________________________\n",
      "conv2d_2 (Conv2D)            (None, 146, 146, 64)      36928     \n",
      "_________________________________________________________________\n",
      "conv2d_3 (Conv2D)            (None, 144, 144, 128)     73856     \n",
      "_________________________________________________________________\n",
      "conv2d_4 (Conv2D)            (None, 142, 142, 128)     147584    \n",
      "_________________________________________________________________\n",
      "max_pooling2d_1 (MaxPooling2 (None, 71, 71, 128)       0         \n",
      "_________________________________________________________________\n",
      "dropout_1 (Dropout)          (None, 71, 71, 128)       0         \n",
      "_________________________________________________________________\n",
      "conv2d_5 (Conv2D)            (None, 69, 69, 128)       147584    \n",
      "_________________________________________________________________\n",
      "conv2d_6 (Conv2D)            (None, 67, 67, 128)       147584    \n",
      "_________________________________________________________________\n",
      "conv2d_7 (Conv2D)            (None, 65, 65, 256)       295168    \n",
      "_________________________________________________________________\n",
      "max_pooling2d_2 (MaxPooling2 (None, 32, 32, 256)       0         \n",
      "_________________________________________________________________\n",
      "dropout_2 (Dropout)          (None, 32, 32, 256)       0         \n",
      "_________________________________________________________________\n",
      "conv2d_8 (Conv2D)            (None, 30, 30, 256)       590080    \n",
      "_________________________________________________________________\n",
      "conv2d_9 (Conv2D)            (None, 28, 28, 256)       590080    \n",
      "_________________________________________________________________\n",
      "conv2d_10 (Conv2D)           (None, 26, 26, 512)       1180160   \n",
      "_________________________________________________________________\n",
      "max_pooling2d_3 (MaxPooling2 (None, 13, 13, 512)       0         \n",
      "_________________________________________________________________\n",
      "dropout_3 (Dropout)          (None, 13, 13, 512)       0         \n",
      "_________________________________________________________________\n",
      "flatten_1 (Flatten)          (None, 86528)             0         \n",
      "_________________________________________________________________\n",
      "dense_1 (Dense)              (None, 512)               44302848  \n",
      "_________________________________________________________________\n",
      "dropout_4 (Dropout)          (None, 512)               0         \n",
      "_________________________________________________________________\n",
      "dense_2 (Dense)              (None, 2)                 1026      \n",
      "=================================================================\n",
      "Total params: 47,514,690\n",
      "Trainable params: 47,514,690\n",
      "Non-trainable params: 0\n",
      "_________________________________________________________________\n"
     ]
    }
   ],
   "source": [
    "import os\n",
    "import numpy as np\n",
    "import keras\n",
    "from keras import models\n",
    "from keras import layers\n",
    "from keras.preprocessing.image import ImageDataGenerator\n",
    "from keras import regularizers\n",
    "from keras import optimizers\n",
    "from keras.callbacks import ModelCheckpoint\n",
    "\n",
    "pneumoniaNetModel=models.Sequential()\n",
    "\n",
    "pneumoniaNetModel.add(layers.Conv2D(64, (3, 3), activation='relu', input_shape=(150,150,3)))\n",
    "pneumoniaNetModel.add(layers.Conv2D(64, (3, 3), activation='relu'))\n",
    "pneumoniaNetModel.add(layers.Conv2D(128, (3, 3), activation='relu'))\n",
    "pneumoniaNetModel.add(layers.Conv2D(128, (3, 3), activation='relu'))\n",
    "pneumoniaNetModel.add(layers.MaxPooling2D(pool_size=(2, 2)))\n",
    "pneumoniaNetModel.add(layers.Dropout(0.2))\n",
    "\n",
    "pneumoniaNetModel.add(layers.Conv2D(128, (3, 3), activation='relu'))\n",
    "pneumoniaNetModel.add(layers.Conv2D(128, (3, 3), activation='relu'))\n",
    "pneumoniaNetModel.add(layers.Conv2D(256, (3, 3), activation='relu'))\n",
    "pneumoniaNetModel.add(layers.MaxPooling2D(pool_size=(2, 2)))\n",
    "pneumoniaNetModel.add(layers.Dropout(0.2))\n",
    "\n",
    "pneumoniaNetModel.add(layers.Conv2D(256, (3, 3), activation='relu'))\n",
    "pneumoniaNetModel.add(layers.Conv2D(256, (3, 3), activation='relu'))\n",
    "pneumoniaNetModel.add(layers.Conv2D(512, (3, 3), activation='relu'))\n",
    "pneumoniaNetModel.add(layers.MaxPooling2D(pool_size=(2, 2)))\n",
    "pneumoniaNetModel.add(layers.Dropout(0.2))\n",
    "\n",
    "pneumoniaNetModel.add(layers.Flatten())\n",
    "pneumoniaNetModel.add(layers.Dense(512, kernel_regularizer=regularizers.l2(0.001), activation='relu'))\n",
    "pneumoniaNetModel.add(layers.Dropout(0.2))\n",
    "pneumoniaNetModel.add(layers.Dense(2, activation='softmax'))\n",
    "\n",
    "pneumoniaNetModel.compile(loss='categorical_crossentropy',optimizer=optimizers.Adam(lr=1e-4),metrics=['categorical_accuracy'])\n",
    "pneumoniaNetModel.summary()\n",
    "\n",
    "filepath=\"PneumoniaNet5.h5\"\n",
    "checkpoint = ModelCheckpoint(filepath, save_best_only=True)\n",
    "callbacks_list = [checkpoint]"
   ]
  },
  {
   "cell_type": "markdown",
   "metadata": {},
   "source": [
    "## Setting up Training and Validation Data for the experiment"
   ]
  },
  {
   "cell_type": "code",
   "execution_count": 3,
   "metadata": {},
   "outputs": [],
   "source": [
    "image_height = 150\n",
    "image_width = 150\n",
    "batch_size = 8\n",
    "no_of_epochs  = 200\n",
    "number_of_training_samples=5216\n",
    "number_of_validation_samples=16\n",
    "number_of_test_samples=624"
   ]
  },
  {
   "cell_type": "code",
   "execution_count": 4,
   "metadata": {},
   "outputs": [],
   "source": [
    "train_dir='D:\\\\TensorFlow Programs\\\\Diagnosis of Pneumonia based on Chest X-Rays\\\\chest-xray-pneumonia\\\\chest_xray\\\\chest_xray\\\\train'\n",
    "validation_dir='D:\\\\TensorFlow Programs\\\\Diagnosis of Pneumonia based on Chest X-Rays\\\\chest-xray-pneumonia\\\\chest_xray\\\\chest_xray\\\\val'\n",
    "test_dir='D:\\\\TensorFlow Programs\\\\Diagnosis of Pneumonia based on Chest X-Rays\\\\chest-xray-pneumonia\\\\chest_xray\\\\chest_xray\\\\test'"
   ]
  },
  {
   "cell_type": "code",
   "execution_count": 5,
   "metadata": {},
   "outputs": [],
   "source": [
    "train_datagen = ImageDataGenerator(rescale=1./255,\n",
    "                                   rotation_range=40,\n",
    "                                   width_shift_range=0.2,\n",
    "                                   height_shift_range=0.2,\n",
    "                                   shear_range=0.2,\n",
    "                                   zoom_range=0.2\n",
    "                                   )\n",
    "\n",
    "validation_datagen = ImageDataGenerator(rescale=1./255)  \n",
    "\n",
    "test_datagen = ImageDataGenerator(rescale=1./255)"
   ]
  },
  {
   "cell_type": "code",
   "execution_count": 6,
   "metadata": {},
   "outputs": [
    {
     "name": "stdout",
     "output_type": "stream",
     "text": [
      "Found 5216 images belonging to 2 classes.\n",
      "Found 16 images belonging to 2 classes.\n",
      "Found 624 images belonging to 2 classes.\n"
     ]
    }
   ],
   "source": [
    "training_set = train_datagen.flow_from_directory(train_dir,target_size=(image_width, image_height),batch_size=batch_size)\n",
    "validation_set = validation_datagen.flow_from_directory(validation_dir,target_size=(image_width, image_height),batch_size=batch_size,shuffle=False)\n",
    "test_set = test_datagen.flow_from_directory(test_dir,target_size=(image_width, image_height),batch_size=batch_size,shuffle=False)"
   ]
  },
  {
   "cell_type": "markdown",
   "metadata": {},
   "source": [
    "## Model Training"
   ]
  },
  {
   "cell_type": "code",
   "execution_count": 7,
   "metadata": {},
   "outputs": [
    {
     "name": "stdout",
     "output_type": "stream",
     "text": [
      "WARNING:tensorflow:From C:\\Users\\Raheel\\Anaconda3\\envs\\EnvName\\lib\\site-packages\\tensorflow\\python\\ops\\math_ops.py:3066: to_int32 (from tensorflow.python.ops.math_ops) is deprecated and will be removed in a future version.\n",
      "Instructions for updating:\n",
      "Use tf.cast instead.\n",
      "Epoch 1/200\n",
      "652/652 [==============================] - 205s 314ms/step - loss: 0.6879 - categorical_accuracy: 0.7425 - val_loss: 0.7614 - val_categorical_accuracy: 0.5000\n",
      "Epoch 2/200\n",
      "652/652 [==============================] - 198s 304ms/step - loss: 0.5378 - categorical_accuracy: 0.7473 - val_loss: 0.7876 - val_categorical_accuracy: 0.5000\n",
      "Epoch 3/200\n",
      "652/652 [==============================] - 195s 300ms/step - loss: 0.3926 - categorical_accuracy: 0.8186 - val_loss: 0.6347 - val_categorical_accuracy: 0.6250\n",
      "Epoch 4/200\n",
      "652/652 [==============================] - 195s 300ms/step - loss: 0.3379 - categorical_accuracy: 0.8524 - val_loss: 0.7094 - val_categorical_accuracy: 0.5625\n",
      "Epoch 5/200\n",
      "652/652 [==============================] - 195s 299ms/step - loss: 0.3265 - categorical_accuracy: 0.8620 - val_loss: 0.6321 - val_categorical_accuracy: 0.7500\n",
      "Epoch 6/200\n",
      "652/652 [==============================] - 195s 299ms/step - loss: 0.3035 - categorical_accuracy: 0.8783 - val_loss: 0.4876 - val_categorical_accuracy: 0.7500\n",
      "Epoch 7/200\n",
      "652/652 [==============================] - 195s 299ms/step - loss: 0.2834 - categorical_accuracy: 0.8863 - val_loss: 0.6783 - val_categorical_accuracy: 0.6875\n",
      "Epoch 8/200\n",
      "652/652 [==============================] - 195s 300ms/step - loss: 0.2697 - categorical_accuracy: 0.8930 - val_loss: 0.4826 - val_categorical_accuracy: 0.8125\n",
      "Epoch 9/200\n",
      "652/652 [==============================] - 195s 299ms/step - loss: 0.2692 - categorical_accuracy: 0.8930 - val_loss: 0.5948 - val_categorical_accuracy: 0.7500\n",
      "Epoch 10/200\n",
      "652/652 [==============================] - 196s 300ms/step - loss: 0.2514 - categorical_accuracy: 0.9034 - val_loss: 0.7663 - val_categorical_accuracy: 0.6875\n",
      "Epoch 11/200\n",
      "652/652 [==============================] - 196s 300ms/step - loss: 0.2560 - categorical_accuracy: 0.9043 - val_loss: 0.7690 - val_categorical_accuracy: 0.6875\n",
      "Epoch 12/200\n",
      "652/652 [==============================] - 196s 300ms/step - loss: 0.2394 - categorical_accuracy: 0.9097 - val_loss: 0.8394 - val_categorical_accuracy: 0.7500\n",
      "Epoch 13/200\n",
      "652/652 [==============================] - 196s 301ms/step - loss: 0.2443 - categorical_accuracy: 0.9064 - val_loss: 0.9316 - val_categorical_accuracy: 0.6250\n",
      "Epoch 14/200\n",
      "652/652 [==============================] - 197s 302ms/step - loss: 0.2249 - categorical_accuracy: 0.9183 - val_loss: 1.2312 - val_categorical_accuracy: 0.5625\n",
      "Epoch 15/200\n",
      "652/652 [==============================] - 197s 302ms/step - loss: 0.2174 - categorical_accuracy: 0.9185 - val_loss: 0.7804 - val_categorical_accuracy: 0.6250\n",
      "Epoch 16/200\n",
      "652/652 [==============================] - 196s 301ms/step - loss: 0.2121 - categorical_accuracy: 0.9271 - val_loss: 0.9054 - val_categorical_accuracy: 0.7500\n",
      "Epoch 17/200\n",
      "652/652 [==============================] - 196s 301ms/step - loss: 0.2136 - categorical_accuracy: 0.9199 - val_loss: 0.6678 - val_categorical_accuracy: 0.7500\n",
      "Epoch 18/200\n",
      "652/652 [==============================] - 197s 302ms/step - loss: 0.2054 - categorical_accuracy: 0.9271 - val_loss: 0.8995 - val_categorical_accuracy: 0.6250\n",
      "Epoch 19/200\n",
      "652/652 [==============================] - 197s 301ms/step - loss: 0.2077 - categorical_accuracy: 0.9289 - val_loss: 0.6234 - val_categorical_accuracy: 0.6250\n",
      "Epoch 20/200\n",
      "652/652 [==============================] - 196s 301ms/step - loss: 0.1959 - categorical_accuracy: 0.9348 - val_loss: 1.2218 - val_categorical_accuracy: 0.6250\n",
      "Epoch 21/200\n",
      "652/652 [==============================] - 196s 301ms/step - loss: 0.1928 - categorical_accuracy: 0.9333 - val_loss: 0.8689 - val_categorical_accuracy: 0.6250\n",
      "Epoch 22/200\n",
      "652/652 [==============================] - 196s 301ms/step - loss: 0.1893 - categorical_accuracy: 0.9348 - val_loss: 1.1643 - val_categorical_accuracy: 0.6250\n",
      "Epoch 23/200\n",
      "652/652 [==============================] - 197s 302ms/step - loss: 0.1898 - categorical_accuracy: 0.9340 - val_loss: 0.6176 - val_categorical_accuracy: 0.6875\n",
      "Epoch 24/200\n",
      "652/652 [==============================] - 196s 301ms/step - loss: 0.1878 - categorical_accuracy: 0.9331 - val_loss: 0.8440 - val_categorical_accuracy: 0.5000\n",
      "Epoch 25/200\n",
      "652/652 [==============================] - 197s 302ms/step - loss: 0.1761 - categorical_accuracy: 0.9379 - val_loss: 0.4576 - val_categorical_accuracy: 0.6875\n",
      "Epoch 26/200\n",
      "652/652 [==============================] - 195s 299ms/step - loss: 0.1793 - categorical_accuracy: 0.9402 - val_loss: 0.4685 - val_categorical_accuracy: 0.7500\n",
      "Epoch 27/200\n",
      "652/652 [==============================] - 195s 299ms/step - loss: 0.1689 - categorical_accuracy: 0.9423 - val_loss: 0.9802 - val_categorical_accuracy: 0.5625\n",
      "Epoch 28/200\n",
      "652/652 [==============================] - 195s 299ms/step - loss: 0.1728 - categorical_accuracy: 0.9410 - val_loss: 0.7529 - val_categorical_accuracy: 0.7500\n",
      "Epoch 29/200\n",
      "652/652 [==============================] - 195s 299ms/step - loss: 0.1604 - categorical_accuracy: 0.9479 - val_loss: 0.6429 - val_categorical_accuracy: 0.6250\n",
      "Epoch 30/200\n",
      "652/652 [==============================] - 195s 299ms/step - loss: 0.1673 - categorical_accuracy: 0.9404 - val_loss: 0.5478 - val_categorical_accuracy: 0.6875\n",
      "Epoch 31/200\n",
      "652/652 [==============================] - 195s 299ms/step - loss: 0.1612 - categorical_accuracy: 0.9457 - val_loss: 0.8992 - val_categorical_accuracy: 0.7500\n",
      "Epoch 32/200\n",
      "652/652 [==============================] - 195s 299ms/step - loss: 0.1574 - categorical_accuracy: 0.9488 - val_loss: 0.5859 - val_categorical_accuracy: 0.6875\n",
      "Epoch 33/200\n",
      "652/652 [==============================] - 195s 299ms/step - loss: 0.1475 - categorical_accuracy: 0.9502 - val_loss: 0.7624 - val_categorical_accuracy: 0.8125\n",
      "Epoch 34/200\n",
      "652/652 [==============================] - 195s 299ms/step - loss: 0.1575 - categorical_accuracy: 0.9477 - val_loss: 0.5279 - val_categorical_accuracy: 0.7500\n",
      "Epoch 35/200\n",
      "652/652 [==============================] - 195s 299ms/step - loss: 0.1428 - categorical_accuracy: 0.9484 - val_loss: 1.0518 - val_categorical_accuracy: 0.6875\n",
      "Epoch 36/200\n",
      "652/652 [==============================] - 196s 300ms/step - loss: 0.1453 - categorical_accuracy: 0.9515 - val_loss: 0.4020 - val_categorical_accuracy: 0.7500\n",
      "Epoch 37/200\n",
      "652/652 [==============================] - 195s 299ms/step - loss: 0.1431 - categorical_accuracy: 0.9523 - val_loss: 0.4981 - val_categorical_accuracy: 0.6875\n",
      "Epoch 38/200\n",
      "652/652 [==============================] - 195s 299ms/step - loss: 0.1467 - categorical_accuracy: 0.9521 - val_loss: 0.4719 - val_categorical_accuracy: 0.6875\n",
      "Epoch 39/200\n",
      "652/652 [==============================] - 195s 299ms/step - loss: 0.1435 - categorical_accuracy: 0.9553 - val_loss: 0.5924 - val_categorical_accuracy: 0.8125\n",
      "Epoch 40/200\n",
      "652/652 [==============================] - 195s 299ms/step - loss: 0.1351 - categorical_accuracy: 0.9538 - val_loss: 0.5196 - val_categorical_accuracy: 0.6875\n",
      "Epoch 41/200\n",
      "652/652 [==============================] - 195s 299ms/step - loss: 0.1370 - categorical_accuracy: 0.9555 - val_loss: 0.4457 - val_categorical_accuracy: 0.6875\n",
      "Epoch 42/200\n",
      "652/652 [==============================] - 195s 299ms/step - loss: 0.1346 - categorical_accuracy: 0.9572 - val_loss: 0.5358 - val_categorical_accuracy: 0.6875\n",
      "Epoch 43/200\n",
      "652/652 [==============================] - 195s 299ms/step - loss: 0.1391 - categorical_accuracy: 0.9546 - val_loss: 0.5651 - val_categorical_accuracy: 0.6875\n",
      "Epoch 44/200\n",
      "652/652 [==============================] - 195s 300ms/step - loss: 0.1380 - categorical_accuracy: 0.9540 - val_loss: 0.4563 - val_categorical_accuracy: 0.8125\n",
      "Epoch 45/200\n",
      "652/652 [==============================] - 195s 299ms/step - loss: 0.1244 - categorical_accuracy: 0.9578 - val_loss: 0.4744 - val_categorical_accuracy: 0.7500\n",
      "Epoch 46/200\n",
      "652/652 [==============================] - 195s 299ms/step - loss: 0.1302 - categorical_accuracy: 0.9578 - val_loss: 0.4161 - val_categorical_accuracy: 0.8750\n",
      "Epoch 47/200\n"
     ]
    },
    {
     "name": "stdout",
     "output_type": "stream",
     "text": [
      "652/652 [==============================] - 196s 300ms/step - loss: 0.1285 - categorical_accuracy: 0.9601 - val_loss: 0.3009 - val_categorical_accuracy: 0.8750\n",
      "Epoch 48/200\n",
      "652/652 [==============================] - 195s 299ms/step - loss: 0.1195 - categorical_accuracy: 0.9624 - val_loss: 0.2910 - val_categorical_accuracy: 0.9375\n",
      "Epoch 49/200\n",
      "652/652 [==============================] - 195s 299ms/step - loss: 0.1299 - categorical_accuracy: 0.9561 - val_loss: 0.2936 - val_categorical_accuracy: 0.9375\n",
      "Epoch 50/200\n",
      "652/652 [==============================] - 195s 300ms/step - loss: 0.1234 - categorical_accuracy: 0.9595 - val_loss: 0.6115 - val_categorical_accuracy: 0.6875\n",
      "Epoch 51/200\n",
      "652/652 [==============================] - 196s 300ms/step - loss: 0.1223 - categorical_accuracy: 0.9603 - val_loss: 0.9387 - val_categorical_accuracy: 0.6250\n",
      "Epoch 52/200\n",
      "652/652 [==============================] - 195s 300ms/step - loss: 0.1171 - categorical_accuracy: 0.9603 - val_loss: 0.3939 - val_categorical_accuracy: 0.8750\n",
      "Epoch 53/200\n",
      "652/652 [==============================] - 195s 300ms/step - loss: 0.1165 - categorical_accuracy: 0.9630 - val_loss: 0.3476 - val_categorical_accuracy: 0.8125\n",
      "Epoch 54/200\n",
      "652/652 [==============================] - 195s 299ms/step - loss: 0.1169 - categorical_accuracy: 0.9641 - val_loss: 1.0003 - val_categorical_accuracy: 0.6250\n",
      "Epoch 55/200\n",
      "652/652 [==============================] - 195s 299ms/step - loss: 0.1084 - categorical_accuracy: 0.9664 - val_loss: 0.2939 - val_categorical_accuracy: 0.8750\n",
      "Epoch 56/200\n",
      "652/652 [==============================] - 195s 299ms/step - loss: 0.1243 - categorical_accuracy: 0.9634 - val_loss: 0.3605 - val_categorical_accuracy: 0.7500\n",
      "Epoch 57/200\n",
      "652/652 [==============================] - 195s 299ms/step - loss: 0.1058 - categorical_accuracy: 0.9655 - val_loss: 0.1685 - val_categorical_accuracy: 1.0000\n",
      "Epoch 58/200\n",
      "652/652 [==============================] - 196s 301ms/step - loss: 0.1174 - categorical_accuracy: 0.9613 - val_loss: 0.3449 - val_categorical_accuracy: 0.7500\n",
      "Epoch 59/200\n",
      "652/652 [==============================] - 196s 301ms/step - loss: 0.1035 - categorical_accuracy: 0.9682 - val_loss: 0.2203 - val_categorical_accuracy: 0.9375\n",
      "Epoch 60/200\n",
      "652/652 [==============================] - 196s 301ms/step - loss: 0.1098 - categorical_accuracy: 0.9663 - val_loss: 0.3248 - val_categorical_accuracy: 0.8750\n",
      "Epoch 61/200\n",
      "652/652 [==============================] - 197s 302ms/step - loss: 0.1140 - categorical_accuracy: 0.9638 - val_loss: 0.6903 - val_categorical_accuracy: 0.6875\n",
      "Epoch 62/200\n",
      "652/652 [==============================] - 196s 301ms/step - loss: 0.1065 - categorical_accuracy: 0.9653 - val_loss: 0.3220 - val_categorical_accuracy: 0.8125\n",
      "Epoch 63/200\n",
      "652/652 [==============================] - 196s 301ms/step - loss: 0.1137 - categorical_accuracy: 0.9651 - val_loss: 0.3262 - val_categorical_accuracy: 0.8125\n",
      "Epoch 64/200\n",
      "652/652 [==============================] - 197s 301ms/step - loss: 0.1058 - categorical_accuracy: 0.9664 - val_loss: 0.2229 - val_categorical_accuracy: 0.9375\n",
      "Epoch 65/200\n",
      "652/652 [==============================] - 197s 302ms/step - loss: 0.0989 - categorical_accuracy: 0.9697 - val_loss: 0.2453 - val_categorical_accuracy: 0.8750\n",
      "Epoch 66/200\n",
      "652/652 [==============================] - 196s 301ms/step - loss: 0.1003 - categorical_accuracy: 0.9701 - val_loss: 0.2829 - val_categorical_accuracy: 0.8750\n",
      "Epoch 67/200\n",
      "652/652 [==============================] - 197s 302ms/step - loss: 0.1026 - categorical_accuracy: 0.9678 - val_loss: 0.1837 - val_categorical_accuracy: 0.9375\n",
      "Epoch 68/200\n",
      "652/652 [==============================] - 196s 301ms/step - loss: 0.0982 - categorical_accuracy: 0.9688 - val_loss: 0.1758 - val_categorical_accuracy: 0.9375\n",
      "Epoch 69/200\n",
      "652/652 [==============================] - 196s 301ms/step - loss: 0.1022 - categorical_accuracy: 0.9676 - val_loss: 0.2115 - val_categorical_accuracy: 0.8750\n",
      "Epoch 70/200\n",
      "652/652 [==============================] - 196s 301ms/step - loss: 0.1099 - categorical_accuracy: 0.9670 - val_loss: 0.3491 - val_categorical_accuracy: 0.6875\n",
      "Epoch 71/200\n",
      "652/652 [==============================] - 197s 301ms/step - loss: 0.0942 - categorical_accuracy: 0.9714 - val_loss: 0.3295 - val_categorical_accuracy: 0.8125\n",
      "Epoch 72/200\n",
      "652/652 [==============================] - 196s 301ms/step - loss: 0.0907 - categorical_accuracy: 0.9728 - val_loss: 0.3088 - val_categorical_accuracy: 0.8125\n",
      "Epoch 73/200\n",
      "652/652 [==============================] - 197s 302ms/step - loss: 0.1014 - categorical_accuracy: 0.9666 - val_loss: 0.2372 - val_categorical_accuracy: 0.9375\n",
      "Epoch 74/200\n",
      "652/652 [==============================] - 196s 301ms/step - loss: 0.0935 - categorical_accuracy: 0.9735 - val_loss: 0.4689 - val_categorical_accuracy: 0.7500\n",
      "Epoch 75/200\n",
      "652/652 [==============================] - 197s 302ms/step - loss: 0.0940 - categorical_accuracy: 0.9709 - val_loss: 0.1908 - val_categorical_accuracy: 1.0000\n",
      "Epoch 76/200\n",
      "652/652 [==============================] - 197s 302ms/step - loss: 0.0905 - categorical_accuracy: 0.9749 - val_loss: 0.2627 - val_categorical_accuracy: 0.9375\n",
      "Epoch 77/200\n",
      "652/652 [==============================] - 196s 301ms/step - loss: 0.0951 - categorical_accuracy: 0.9701 - val_loss: 0.2793 - val_categorical_accuracy: 0.8750\n",
      "Epoch 78/200\n",
      "652/652 [==============================] - 197s 301ms/step - loss: 0.0895 - categorical_accuracy: 0.9712 - val_loss: 0.3349 - val_categorical_accuracy: 0.8750\n",
      "Epoch 79/200\n",
      "652/652 [==============================] - 197s 302ms/step - loss: 0.0911 - categorical_accuracy: 0.9716 - val_loss: 0.2494 - val_categorical_accuracy: 0.8750\n",
      "Epoch 80/200\n",
      "652/652 [==============================] - 196s 301ms/step - loss: 0.0896 - categorical_accuracy: 0.9726 - val_loss: 0.3981 - val_categorical_accuracy: 0.8125\n",
      "Epoch 81/200\n",
      "652/652 [==============================] - 196s 301ms/step - loss: 0.0974 - categorical_accuracy: 0.9682 - val_loss: 0.3061 - val_categorical_accuracy: 0.8125\n",
      "Epoch 82/200\n",
      "652/652 [==============================] - 196s 301ms/step - loss: 0.0903 - categorical_accuracy: 0.9739 - val_loss: 0.2110 - val_categorical_accuracy: 1.0000\n",
      "Epoch 83/200\n",
      "652/652 [==============================] - 196s 301ms/step - loss: 0.0842 - categorical_accuracy: 0.9739 - val_loss: 0.1601 - val_categorical_accuracy: 0.9375\n",
      "Epoch 84/200\n",
      "652/652 [==============================] - 195s 300ms/step - loss: 0.0911 - categorical_accuracy: 0.9714 - val_loss: 0.2499 - val_categorical_accuracy: 0.8750\n",
      "Epoch 85/200\n",
      "652/652 [==============================] - 195s 299ms/step - loss: 0.0832 - categorical_accuracy: 0.9741 - val_loss: 0.1462 - val_categorical_accuracy: 0.9375\n",
      "Epoch 86/200\n",
      "652/652 [==============================] - 195s 299ms/step - loss: 0.0830 - categorical_accuracy: 0.9757 - val_loss: 0.2515 - val_categorical_accuracy: 0.8750\n",
      "Epoch 87/200\n",
      "652/652 [==============================] - 195s 299ms/step - loss: 0.0910 - categorical_accuracy: 0.9726 - val_loss: 0.2754 - val_categorical_accuracy: 0.9375\n",
      "Epoch 88/200\n",
      "652/652 [==============================] - 195s 299ms/step - loss: 0.0917 - categorical_accuracy: 0.9716 - val_loss: 0.2072 - val_categorical_accuracy: 0.9375\n",
      "Epoch 89/200\n",
      "652/652 [==============================] - 195s 299ms/step - loss: 0.0894 - categorical_accuracy: 0.9707 - val_loss: 0.5644 - val_categorical_accuracy: 0.5625\n",
      "Epoch 90/200\n",
      "652/652 [==============================] - 196s 300ms/step - loss: 0.0857 - categorical_accuracy: 0.9758 - val_loss: 0.5300 - val_categorical_accuracy: 0.7500\n",
      "Epoch 91/200\n",
      "652/652 [==============================] - 197s 302ms/step - loss: 0.0810 - categorical_accuracy: 0.9768 - val_loss: 0.1963 - val_categorical_accuracy: 0.9375\n",
      "Epoch 92/200\n",
      "652/652 [==============================] - 196s 301ms/step - loss: 0.0802 - categorical_accuracy: 0.9760 - val_loss: 0.4435 - val_categorical_accuracy: 0.7500\n",
      "Epoch 93/200\n",
      "652/652 [==============================] - 197s 302ms/step - loss: 0.0761 - categorical_accuracy: 0.9753 - val_loss: 0.9172 - val_categorical_accuracy: 0.8125\n",
      "Epoch 94/200\n",
      "652/652 [==============================] - 196s 301ms/step - loss: 0.0802 - categorical_accuracy: 0.9722 - val_loss: 0.2407 - val_categorical_accuracy: 0.8750\n"
     ]
    },
    {
     "name": "stdout",
     "output_type": "stream",
     "text": [
      "Epoch 95/200\n",
      "652/652 [==============================] - 197s 302ms/step - loss: 0.0867 - categorical_accuracy: 0.9745 - val_loss: 0.2355 - val_categorical_accuracy: 0.8750\n",
      "Epoch 96/200\n",
      "652/652 [==============================] - 197s 301ms/step - loss: 0.0801 - categorical_accuracy: 0.9760 - val_loss: 0.1529 - val_categorical_accuracy: 0.9375\n",
      "Epoch 97/200\n",
      "652/652 [==============================] - 197s 302ms/step - loss: 0.0818 - categorical_accuracy: 0.9766 - val_loss: 0.5033 - val_categorical_accuracy: 0.7500\n",
      "Epoch 98/200\n",
      "652/652 [==============================] - 196s 301ms/step - loss: 0.0802 - categorical_accuracy: 0.9755 - val_loss: 0.3775 - val_categorical_accuracy: 0.8750\n",
      "Epoch 99/200\n",
      "652/652 [==============================] - 197s 302ms/step - loss: 0.0805 - categorical_accuracy: 0.9749 - val_loss: 0.2054 - val_categorical_accuracy: 0.9375\n",
      "Epoch 100/200\n",
      "652/652 [==============================] - 197s 302ms/step - loss: 0.0747 - categorical_accuracy: 0.9774 - val_loss: 0.2444 - val_categorical_accuracy: 0.8750\n",
      "Epoch 101/200\n",
      "652/652 [==============================] - 197s 302ms/step - loss: 0.0737 - categorical_accuracy: 0.9774 - val_loss: 0.1860 - val_categorical_accuracy: 0.9375\n",
      "Epoch 102/200\n",
      "652/652 [==============================] - 197s 302ms/step - loss: 0.0752 - categorical_accuracy: 0.9780 - val_loss: 0.3456 - val_categorical_accuracy: 0.7500\n",
      "Epoch 103/200\n",
      "652/652 [==============================] - 197s 302ms/step - loss: 0.0763 - categorical_accuracy: 0.9751 - val_loss: 0.1916 - val_categorical_accuracy: 0.9375\n",
      "Epoch 104/200\n",
      "652/652 [==============================] - 197s 302ms/step - loss: 0.0739 - categorical_accuracy: 0.9772 - val_loss: 0.3622 - val_categorical_accuracy: 0.8750\n",
      "Epoch 105/200\n",
      "652/652 [==============================] - 197s 302ms/step - loss: 0.0714 - categorical_accuracy: 0.9791 - val_loss: 0.2968 - val_categorical_accuracy: 0.8125\n",
      "Epoch 106/200\n",
      "652/652 [==============================] - 197s 302ms/step - loss: 0.0730 - categorical_accuracy: 0.9768 - val_loss: 0.3568 - val_categorical_accuracy: 0.8125\n",
      "Epoch 107/200\n",
      "652/652 [==============================] - 197s 302ms/step - loss: 0.0724 - categorical_accuracy: 0.9774 - val_loss: 0.2868 - val_categorical_accuracy: 0.8750\n",
      "Epoch 108/200\n",
      "652/652 [==============================] - 197s 302ms/step - loss: 0.0824 - categorical_accuracy: 0.9766 - val_loss: 0.2066 - val_categorical_accuracy: 0.9375\n",
      "Epoch 109/200\n",
      "652/652 [==============================] - 197s 302ms/step - loss: 0.0759 - categorical_accuracy: 0.9776 - val_loss: 0.2883 - val_categorical_accuracy: 0.8125\n",
      "Epoch 110/200\n",
      "652/652 [==============================] - 197s 302ms/step - loss: 0.0738 - categorical_accuracy: 0.9772 - val_loss: 0.2003 - val_categorical_accuracy: 0.9375\n",
      "Epoch 111/200\n",
      "652/652 [==============================] - 197s 302ms/step - loss: 0.0687 - categorical_accuracy: 0.9774 - val_loss: 0.8577 - val_categorical_accuracy: 0.6875\n",
      "Epoch 112/200\n",
      "652/652 [==============================] - 196s 301ms/step - loss: 0.0662 - categorical_accuracy: 0.9801 - val_loss: 0.8904 - val_categorical_accuracy: 0.6875\n",
      "Epoch 113/200\n",
      "652/652 [==============================] - 196s 301ms/step - loss: 0.0724 - categorical_accuracy: 0.9780 - val_loss: 0.2117 - val_categorical_accuracy: 0.9375\n",
      "Epoch 114/200\n",
      "652/652 [==============================] - 196s 301ms/step - loss: 0.0711 - categorical_accuracy: 0.9787 - val_loss: 0.4168 - val_categorical_accuracy: 0.8750\n",
      "Epoch 115/200\n",
      "652/652 [==============================] - 197s 302ms/step - loss: 0.0654 - categorical_accuracy: 0.9816 - val_loss: 0.1472 - val_categorical_accuracy: 0.9375\n",
      "Epoch 116/200\n",
      "652/652 [==============================] - 197s 302ms/step - loss: 0.0734 - categorical_accuracy: 0.9770 - val_loss: 0.7444 - val_categorical_accuracy: 0.8125\n",
      "Epoch 117/200\n",
      "652/652 [==============================] - 196s 301ms/step - loss: 0.0640 - categorical_accuracy: 0.9824 - val_loss: 0.2597 - val_categorical_accuracy: 0.8750\n",
      "Epoch 118/200\n",
      "652/652 [==============================] - 196s 301ms/step - loss: 0.0637 - categorical_accuracy: 0.9818 - val_loss: 0.1268 - val_categorical_accuracy: 0.9375\n",
      "Epoch 119/200\n",
      "652/652 [==============================] - 195s 300ms/step - loss: 0.0602 - categorical_accuracy: 0.9839 - val_loss: 0.1658 - val_categorical_accuracy: 0.8750\n",
      "Epoch 120/200\n",
      "652/652 [==============================] - 196s 301ms/step - loss: 0.0635 - categorical_accuracy: 0.9816 - val_loss: 0.3415 - val_categorical_accuracy: 0.8125\n",
      "Epoch 121/200\n",
      "652/652 [==============================] - 197s 302ms/step - loss: 0.0684 - categorical_accuracy: 0.9797 - val_loss: 0.2993 - val_categorical_accuracy: 0.9375\n",
      "Epoch 122/200\n",
      "652/652 [==============================] - 197s 302ms/step - loss: 0.0661 - categorical_accuracy: 0.9778 - val_loss: 0.1993 - val_categorical_accuracy: 0.9375\n",
      "Epoch 123/200\n",
      "652/652 [==============================] - 197s 302ms/step - loss: 0.0653 - categorical_accuracy: 0.9822 - val_loss: 0.2901 - val_categorical_accuracy: 0.8125\n",
      "Epoch 124/200\n",
      "652/652 [==============================] - 197s 302ms/step - loss: 0.0640 - categorical_accuracy: 0.9810 - val_loss: 0.8075 - val_categorical_accuracy: 0.6875\n",
      "Epoch 125/200\n",
      "652/652 [==============================] - 197s 302ms/step - loss: 0.0668 - categorical_accuracy: 0.9797 - val_loss: 0.2789 - val_categorical_accuracy: 0.8750\n",
      "Epoch 126/200\n",
      "652/652 [==============================] - 197s 302ms/step - loss: 0.0669 - categorical_accuracy: 0.9785 - val_loss: 0.1312 - val_categorical_accuracy: 0.9375\n",
      "Epoch 127/200\n",
      "652/652 [==============================] - 197s 302ms/step - loss: 0.0669 - categorical_accuracy: 0.9812 - val_loss: 0.2716 - val_categorical_accuracy: 0.9375\n",
      "Epoch 128/200\n",
      "652/652 [==============================] - 197s 302ms/step - loss: 0.0680 - categorical_accuracy: 0.9797 - val_loss: 0.3481 - val_categorical_accuracy: 0.8125\n",
      "Epoch 129/200\n",
      "652/652 [==============================] - 197s 301ms/step - loss: 0.0684 - categorical_accuracy: 0.9793 - val_loss: 0.2328 - val_categorical_accuracy: 0.8750\n",
      "Epoch 130/200\n",
      "652/652 [==============================] - 197s 302ms/step - loss: 0.0580 - categorical_accuracy: 0.9849 - val_loss: 0.3740 - val_categorical_accuracy: 0.8750\n",
      "Epoch 131/200\n",
      "652/652 [==============================] - 196s 301ms/step - loss: 0.0661 - categorical_accuracy: 0.9801 - val_loss: 0.3544 - val_categorical_accuracy: 0.8125\n",
      "Epoch 132/200\n",
      "652/652 [==============================] - 197s 302ms/step - loss: 0.0590 - categorical_accuracy: 0.9827 - val_loss: 0.2833 - val_categorical_accuracy: 0.8750\n",
      "Epoch 133/200\n",
      "652/652 [==============================] - 197s 302ms/step - loss: 0.0694 - categorical_accuracy: 0.9808 - val_loss: 0.5437 - val_categorical_accuracy: 0.7500\n",
      "Epoch 134/200\n",
      "652/652 [==============================] - 197s 302ms/step - loss: 0.0592 - categorical_accuracy: 0.9843 - val_loss: 0.5205 - val_categorical_accuracy: 0.8125\n",
      "Epoch 135/200\n",
      "652/652 [==============================] - 197s 302ms/step - loss: 0.0597 - categorical_accuracy: 0.9816 - val_loss: 0.1804 - val_categorical_accuracy: 1.0000\n",
      "Epoch 136/200\n",
      "652/652 [==============================] - 196s 301ms/step - loss: 0.0608 - categorical_accuracy: 0.9829 - val_loss: 0.5107 - val_categorical_accuracy: 0.8125\n",
      "Epoch 137/200\n",
      "652/652 [==============================] - 197s 302ms/step - loss: 0.0608 - categorical_accuracy: 0.9829 - val_loss: 0.4747 - val_categorical_accuracy: 0.8125\n",
      "Epoch 138/200\n",
      "652/652 [==============================] - 197s 302ms/step - loss: 0.0622 - categorical_accuracy: 0.9826 - val_loss: 0.6329 - val_categorical_accuracy: 0.7500\n",
      "Epoch 139/200\n",
      "652/652 [==============================] - 197s 301ms/step - loss: 0.0631 - categorical_accuracy: 0.9826 - val_loss: 0.4130 - val_categorical_accuracy: 0.9375\n",
      "Epoch 140/200\n",
      "652/652 [==============================] - 197s 302ms/step - loss: 0.0566 - categorical_accuracy: 0.9856 - val_loss: 0.8742 - val_categorical_accuracy: 0.6875\n",
      "Epoch 141/200\n",
      "652/652 [==============================] - 197s 301ms/step - loss: 0.0572 - categorical_accuracy: 0.9843 - val_loss: 0.3790 - val_categorical_accuracy: 0.8750\n",
      "Epoch 142/200\n"
     ]
    },
    {
     "name": "stdout",
     "output_type": "stream",
     "text": [
      "652/652 [==============================] - 197s 302ms/step - loss: 0.0540 - categorical_accuracy: 0.9829 - val_loss: 0.2846 - val_categorical_accuracy: 0.8750\n",
      "Epoch 143/200\n",
      "652/652 [==============================] - 197s 302ms/step - loss: 0.0610 - categorical_accuracy: 0.9808 - val_loss: 0.1881 - val_categorical_accuracy: 0.9375\n",
      "Epoch 144/200\n",
      "652/652 [==============================] - 197s 302ms/step - loss: 0.0594 - categorical_accuracy: 0.9814 - val_loss: 0.5594 - val_categorical_accuracy: 0.8125\n",
      "Epoch 145/200\n",
      "652/652 [==============================] - 197s 302ms/step - loss: 0.0620 - categorical_accuracy: 0.9826 - val_loss: 0.5102 - val_categorical_accuracy: 0.7500\n",
      "Epoch 146/200\n",
      "652/652 [==============================] - 197s 303ms/step - loss: 0.0510 - categorical_accuracy: 0.9862 - val_loss: 0.5237 - val_categorical_accuracy: 0.8750\n",
      "Epoch 147/200\n",
      "652/652 [==============================] - 197s 302ms/step - loss: 0.0646 - categorical_accuracy: 0.9799 - val_loss: 0.4556 - val_categorical_accuracy: 0.8125\n",
      "Epoch 148/200\n",
      "652/652 [==============================] - 197s 302ms/step - loss: 0.0527 - categorical_accuracy: 0.9847 - val_loss: 0.5157 - val_categorical_accuracy: 0.8125\n",
      "Epoch 149/200\n",
      "652/652 [==============================] - 197s 301ms/step - loss: 0.0562 - categorical_accuracy: 0.9831 - val_loss: 0.5963 - val_categorical_accuracy: 0.8125\n",
      "Epoch 150/200\n",
      "652/652 [==============================] - 197s 302ms/step - loss: 0.0628 - categorical_accuracy: 0.9816 - val_loss: 0.7223 - val_categorical_accuracy: 0.7500\n",
      "Epoch 151/200\n",
      "652/652 [==============================] - 197s 302ms/step - loss: 0.0592 - categorical_accuracy: 0.9818 - val_loss: 0.6739 - val_categorical_accuracy: 0.8125\n",
      "Epoch 152/200\n",
      "652/652 [==============================] - 198s 303ms/step - loss: 0.0520 - categorical_accuracy: 0.9860 - val_loss: 0.1933 - val_categorical_accuracy: 0.8750\n",
      "Epoch 153/200\n",
      "652/652 [==============================] - 197s 302ms/step - loss: 0.0490 - categorical_accuracy: 0.9854 - val_loss: 1.0475 - val_categorical_accuracy: 0.6875\n",
      "Epoch 154/200\n",
      "652/652 [==============================] - 197s 302ms/step - loss: 0.0499 - categorical_accuracy: 0.9860 - val_loss: 0.8919 - val_categorical_accuracy: 0.6875\n",
      "Epoch 155/200\n",
      "652/652 [==============================] - 197s 303ms/step - loss: 0.0555 - categorical_accuracy: 0.9847 - val_loss: 0.5378 - val_categorical_accuracy: 0.8125\n",
      "Epoch 156/200\n",
      "652/652 [==============================] - 197s 302ms/step - loss: 0.0517 - categorical_accuracy: 0.9847 - val_loss: 0.3601 - val_categorical_accuracy: 0.8750\n",
      "Epoch 157/200\n",
      "652/652 [==============================] - 197s 302ms/step - loss: 0.0581 - categorical_accuracy: 0.9852 - val_loss: 0.4711 - val_categorical_accuracy: 0.8750\n",
      "Epoch 158/200\n",
      "652/652 [==============================] - 197s 302ms/step - loss: 0.0558 - categorical_accuracy: 0.9847 - val_loss: 0.1975 - val_categorical_accuracy: 0.9375\n",
      "Epoch 159/200\n",
      "652/652 [==============================] - 197s 302ms/step - loss: 0.0486 - categorical_accuracy: 0.9862 - val_loss: 0.2189 - val_categorical_accuracy: 0.8750\n",
      "Epoch 160/200\n",
      "652/652 [==============================] - 197s 302ms/step - loss: 0.0547 - categorical_accuracy: 0.9854 - val_loss: 0.5837 - val_categorical_accuracy: 0.6875\n",
      "Epoch 161/200\n",
      "652/652 [==============================] - 197s 302ms/step - loss: 0.0556 - categorical_accuracy: 0.9850 - val_loss: 0.2973 - val_categorical_accuracy: 0.8750\n",
      "Epoch 162/200\n",
      "652/652 [==============================] - 197s 302ms/step - loss: 0.0482 - categorical_accuracy: 0.9858 - val_loss: 0.8911 - val_categorical_accuracy: 0.8125\n",
      "Epoch 163/200\n",
      "652/652 [==============================] - 197s 302ms/step - loss: 0.0480 - categorical_accuracy: 0.9862 - val_loss: 0.4877 - val_categorical_accuracy: 0.8750\n",
      "Epoch 164/200\n",
      "652/652 [==============================] - 197s 302ms/step - loss: 0.0415 - categorical_accuracy: 0.9883 - val_loss: 0.1665 - val_categorical_accuracy: 0.9375\n",
      "Epoch 165/200\n",
      "652/652 [==============================] - 197s 302ms/step - loss: 0.0476 - categorical_accuracy: 0.9866 - val_loss: 0.4069 - val_categorical_accuracy: 0.8750\n",
      "Epoch 166/200\n",
      "652/652 [==============================] - 197s 302ms/step - loss: 0.0512 - categorical_accuracy: 0.9858 - val_loss: 0.3926 - val_categorical_accuracy: 0.8125\n",
      "Epoch 167/200\n",
      "652/652 [==============================] - 197s 302ms/step - loss: 0.0468 - categorical_accuracy: 0.9887 - val_loss: 0.1560 - val_categorical_accuracy: 0.9375\n",
      "Epoch 168/200\n",
      "652/652 [==============================] - 197s 302ms/step - loss: 0.0496 - categorical_accuracy: 0.9860 - val_loss: 0.4233 - val_categorical_accuracy: 0.8125\n",
      "Epoch 169/200\n",
      "652/652 [==============================] - 197s 302ms/step - loss: 0.0432 - categorical_accuracy: 0.9872 - val_loss: 0.1772 - val_categorical_accuracy: 0.8750\n",
      "Epoch 170/200\n",
      "652/652 [==============================] - 197s 302ms/step - loss: 0.0491 - categorical_accuracy: 0.9875 - val_loss: 0.3862 - val_categorical_accuracy: 0.9375\n",
      "Epoch 171/200\n",
      "652/652 [==============================] - 197s 302ms/step - loss: 0.0452 - categorical_accuracy: 0.9885 - val_loss: 0.1885 - val_categorical_accuracy: 0.9375\n",
      "Epoch 172/200\n",
      "652/652 [==============================] - 197s 302ms/step - loss: 0.0496 - categorical_accuracy: 0.9873 - val_loss: 0.2047 - val_categorical_accuracy: 0.9375\n",
      "Epoch 173/200\n",
      "652/652 [==============================] - 197s 303ms/step - loss: 0.0495 - categorical_accuracy: 0.9875 - val_loss: 0.1620 - val_categorical_accuracy: 0.9375\n",
      "Epoch 174/200\n",
      "652/652 [==============================] - 197s 302ms/step - loss: 0.0499 - categorical_accuracy: 0.9860 - val_loss: 0.1792 - val_categorical_accuracy: 0.9375\n",
      "Epoch 175/200\n",
      "652/652 [==============================] - 197s 302ms/step - loss: 0.0432 - categorical_accuracy: 0.9889 - val_loss: 0.2315 - val_categorical_accuracy: 0.8750\n",
      "Epoch 176/200\n",
      "652/652 [==============================] - 197s 302ms/step - loss: 0.0500 - categorical_accuracy: 0.9852 - val_loss: 0.2966 - val_categorical_accuracy: 0.8750\n",
      "Epoch 177/200\n",
      "652/652 [==============================] - 197s 302ms/step - loss: 0.0462 - categorical_accuracy: 0.9864 - val_loss: 0.2533 - val_categorical_accuracy: 0.8125\n",
      "Epoch 178/200\n",
      "652/652 [==============================] - 197s 302ms/step - loss: 0.0507 - categorical_accuracy: 0.9864 - val_loss: 0.3022 - val_categorical_accuracy: 0.8750\n",
      "Epoch 179/200\n",
      "652/652 [==============================] - 196s 301ms/step - loss: 0.0470 - categorical_accuracy: 0.9881 - val_loss: 0.4985 - val_categorical_accuracy: 0.8125\n",
      "Epoch 180/200\n",
      "652/652 [==============================] - 196s 301ms/step - loss: 0.0401 - categorical_accuracy: 0.9885 - val_loss: 0.5619 - val_categorical_accuracy: 0.8125\n",
      "Epoch 181/200\n",
      "652/652 [==============================] - 197s 302ms/step - loss: 0.0502 - categorical_accuracy: 0.9845 - val_loss: 0.6526 - val_categorical_accuracy: 0.8125\n",
      "Epoch 182/200\n",
      "652/652 [==============================] - 197s 302ms/step - loss: 0.0447 - categorical_accuracy: 0.9883 - val_loss: 1.0677 - val_categorical_accuracy: 0.8125\n",
      "Epoch 183/200\n",
      "652/652 [==============================] - 197s 302ms/step - loss: 0.0427 - categorical_accuracy: 0.9896 - val_loss: 0.7091 - val_categorical_accuracy: 0.7500\n",
      "Epoch 184/200\n",
      "652/652 [==============================] - 197s 302ms/step - loss: 0.0400 - categorical_accuracy: 0.9895 - val_loss: 0.4316 - val_categorical_accuracy: 0.8750\n",
      "Epoch 185/200\n",
      "652/652 [==============================] - 197s 302ms/step - loss: 0.0444 - categorical_accuracy: 0.9875 - val_loss: 0.5129 - val_categorical_accuracy: 0.8125\n",
      "Epoch 186/200\n",
      "652/652 [==============================] - 196s 301ms/step - loss: 0.0395 - categorical_accuracy: 0.9891 - val_loss: 0.4567 - val_categorical_accuracy: 0.8125\n",
      "Epoch 187/200\n",
      "652/652 [==============================] - 197s 302ms/step - loss: 0.0424 - categorical_accuracy: 0.9893 - val_loss: 0.8175 - val_categorical_accuracy: 0.8125\n",
      "Epoch 188/200\n",
      "652/652 [==============================] - 197s 302ms/step - loss: 0.0490 - categorical_accuracy: 0.9852 - val_loss: 0.5469 - val_categorical_accuracy: 0.8125\n",
      "Epoch 189/200\n"
     ]
    },
    {
     "name": "stdout",
     "output_type": "stream",
     "text": [
      "652/652 [==============================] - 197s 302ms/step - loss: 0.0420 - categorical_accuracy: 0.9887 - val_loss: 0.8575 - val_categorical_accuracy: 0.8125\n",
      "Epoch 190/200\n",
      "652/652 [==============================] - 197s 302ms/step - loss: 0.0522 - categorical_accuracy: 0.9852 - val_loss: 0.2498 - val_categorical_accuracy: 0.9375\n",
      "Epoch 191/200\n",
      "652/652 [==============================] - 197s 303ms/step - loss: 0.0417 - categorical_accuracy: 0.9891 - val_loss: 0.3512 - val_categorical_accuracy: 0.9375\n",
      "Epoch 192/200\n",
      "652/652 [==============================] - 196s 301ms/step - loss: 0.0402 - categorical_accuracy: 0.9889 - val_loss: 0.5153 - val_categorical_accuracy: 0.8750\n",
      "Epoch 193/200\n",
      "652/652 [==============================] - 197s 302ms/step - loss: 0.0342 - categorical_accuracy: 0.9919 - val_loss: 0.6297 - val_categorical_accuracy: 0.7500\n",
      "Epoch 194/200\n",
      "652/652 [==============================] - 197s 303ms/step - loss: 0.0379 - categorical_accuracy: 0.9900 - val_loss: 0.1439 - val_categorical_accuracy: 1.0000\n",
      "Epoch 195/200\n",
      "652/652 [==============================] - 201s 308ms/step - loss: 0.0426 - categorical_accuracy: 0.9875 - val_loss: 0.1954 - val_categorical_accuracy: 0.8750\n",
      "Epoch 196/200\n",
      "652/652 [==============================] - 254s 390ms/step - loss: 0.0438 - categorical_accuracy: 0.9900 - val_loss: 0.2211 - val_categorical_accuracy: 0.8750\n",
      "Epoch 197/200\n",
      "652/652 [==============================] - 254s 390ms/step - loss: 0.0427 - categorical_accuracy: 0.9879 - val_loss: 0.1822 - val_categorical_accuracy: 0.9375\n",
      "Epoch 198/200\n",
      "652/652 [==============================] - 254s 390ms/step - loss: 0.0385 - categorical_accuracy: 0.9889 - val_loss: 0.2042 - val_categorical_accuracy: 0.9375\n",
      "Epoch 199/200\n",
      "652/652 [==============================] - 254s 390ms/step - loss: 0.0377 - categorical_accuracy: 0.9902 - val_loss: 0.1137 - val_categorical_accuracy: 0.9375\n",
      "Epoch 200/200\n",
      "652/652 [==============================] - 253s 387ms/step - loss: 0.0394 - categorical_accuracy: 0.9902 - val_loss: 0.4124 - val_categorical_accuracy: 0.9375\n"
     ]
    }
   ],
   "source": [
    "import math\n",
    "\n",
    "history = pneumoniaNetModel.fit_generator(\n",
    "      training_set,\n",
    "      steps_per_epoch=math.ceil(number_of_training_samples//batch_size),\n",
    "      epochs=no_of_epochs,\n",
    "      callbacks=callbacks_list,\n",
    "      validation_data=validation_set,\n",
    "      validation_steps=math.ceil(number_of_validation_samples//batch_size))"
   ]
  },
  {
   "cell_type": "markdown",
   "metadata": {},
   "source": [
    "## Visualizing the Training Process"
   ]
  },
  {
   "cell_type": "code",
   "execution_count": 8,
   "metadata": {},
   "outputs": [
    {
     "data": {
      "image/png": "[encoded data removed]",
      "text/plain": [
       "<Figure size 432x288 with 1 Axes>"
      ]
     },
     "metadata": {
      "needs_background": "light"
     },
     "output_type": "display_data"
    },
    {
     "data": {
      "image/png": "[encoded data removed]",
      "text/plain": [
       "<Figure size 432x288 with 1 Axes>"
      ]
     },
     "metadata": {
      "needs_background": "light"
     },
     "output_type": "display_data"
    }
   ],
   "source": [
    "import matplotlib.pyplot as plt\n",
    "%matplotlib inline\n",
    "\n",
    "acc=history.history['categorical_accuracy']\n",
    "val_acc=history.history['val_categorical_accuracy']\n",
    "loss=history.history['loss']\n",
    "val_loss=history.history['val_loss']\n",
    "epochs=range(1,len(acc)+1)\n",
    "plt.xlabel('Epochs')\n",
    "plt.ylabel('Accuracy')\n",
    "plt.plot(epochs, acc, 'bo', label='Training acc')\n",
    "plt.plot(epochs, val_acc, 'b', label='Validation acc')\n",
    "plt.title('Training and validation accuracy')\n",
    "plt.legend()\n",
    "plt.figure()\n",
    "\n",
    "plt.plot(epochs, loss, 'bo', label='Training loss')\n",
    "plt.plot(epochs, val_loss, 'b', label='Validation loss')\n",
    "plt.title('Training and validation loss')\n",
    "plt.xlabel('Epochs')\n",
    "plt.ylabel('Loss')\n",
    "plt.legend()\n",
    "plt.show()"
   ]
  },
  {
   "cell_type": "markdown",
   "metadata": {},
   "source": [
    "## Loading the Best Model"
   ]
  },
  {
   "cell_type": "code",
   "execution_count": 9,
   "metadata": {},
   "outputs": [],
   "source": [
    "from tensorflow.python.keras.models import load_model\n",
    "\n",
    "best_model = load_model('PneumoniaNet5.h5')"
   ]
  },
  {
   "cell_type": "markdown",
   "metadata": {},
   "source": [
    "## Evaluating the Best Model"
   ]
  },
  {
   "cell_type": "code",
   "execution_count": 10,
   "metadata": {},
   "outputs": [
    {
     "name": "stdout",
     "output_type": "stream",
     "text": [
      "78/78 [==============================] - 11s 146ms/step - loss: 0.2254 - categorical_accuracy: 0.9471\n",
      "Test-set classification accuracy: 94.71%\n"
     ]
    }
   ],
   "source": [
    "steps_test=int(number_of_test_samples/batch_size)\n",
    "result = best_model.evaluate_generator(test_set, steps=steps_test,verbose=1)\n",
    "print(\"Test-set classification accuracy: {0:.2%}\".format(result[1]))"
   ]
  },
  {
   "cell_type": "markdown",
   "metadata": {},
   "source": [
    "## Calculating Precision, Specificity and Sensitivity (Recall) values for the model\n",
    "*Precision-Recall* is a useful measure of success of prediction when the classes are very imbalanced. High *precision* relates to a low false positive rate, and high *recall* relates to a low false negative rate.\n",
    "\n",
    "Precision is defined as the number of true positives over the number of true positives plus the number of false positives. Recall is defined as the number of true positives over the number of true positives plus the number of false negatives. Please see the [link](https://scikit-learn.org/stable/auto_examples/model_selection/plot_precision_recall.html) for details.\n",
    "\n",
    "Another way of assessing a binary classification model is to compute the *sensitivity* (also called the true positive rate or the recall) and *specificity* (also called the true negative rate) of the model. *Sensitivity* indicates the percentage of sick people who are correctly identified as having the condition. *Specificity* indicates the percentage of healthy people who are correctly identified as not having the condition.\n",
    "\n",
    "But first we prepare our test data, so that later we can draw the *confusion matrix* as well as calculate *precision*, *specificity* and *sensitivity (recall)* of the model."
   ]
  },
  {
   "cell_type": "code",
   "execution_count": 11,
   "metadata": {},
   "outputs": [
    {
     "name": "stdout",
     "output_type": "stream",
     "text": [
      "Total number of test examples:  (624, 150, 150, 3)\n",
      "Total number of labels: (624, 1)\n"
     ]
    }
   ],
   "source": [
    "# Preparing test data\n",
    "import glob\n",
    "from pathlib import Path\n",
    "from tensorflow.python.keras.utils import to_categorical\n",
    "import cv2\n",
    "\n",
    "normal_cases_dir = Path('D:\\\\TensorFlow Programs\\\\Diagnosis of Pneumonia based on Chest X-Rays\\\\chest-xray-pneumonia\\\\chest_xray\\\\chest_xray\\\\test\\\\NORMAL')\n",
    "pneumonia_cases_dir = Path('D:\\\\TensorFlow Programs\\\\Diagnosis of Pneumonia based on Chest X-Rays\\\\chest-xray-pneumonia\\\\chest_xray\\\\chest_xray\\\\test\\\\PNEUMONIA')\n",
    "\n",
    "normal_cases = normal_cases_dir.glob('*.jpeg')\n",
    "pneumonia_cases = pneumonia_cases_dir.glob('*.jpeg')\n",
    "\n",
    "test_data = []\n",
    "test_labels = []\n",
    "\n",
    "for img in normal_cases:\n",
    "    img = cv2.imread(str(img))\n",
    "    img = cv2.resize(img, (image_width,image_height))\n",
    "    if img.shape[2] ==1:\n",
    "        img = np.dstack([img, img, img])\n",
    "    else:\n",
    "        img = cv2.cvtColor(img, cv2.COLOR_BGR2RGB)\n",
    "    img = img.astype(np.float32)/255.\n",
    "    label = [0]\n",
    "    test_data.append(img)\n",
    "    test_labels.append(label)\n",
    "                      \n",
    "for img in pneumonia_cases:\n",
    "    img = cv2.imread(str(img))\n",
    "    img = cv2.resize(img, (image_width,image_height))\n",
    "    if img.shape[2] ==1:\n",
    "        img = np.dstack([img, img, img])\n",
    "    else:\n",
    "        img = cv2.cvtColor(img, cv2.COLOR_BGR2RGB)\n",
    "    img = img.astype(np.float32)/255.\n",
    "    label = [1]\n",
    "    test_data.append(img)\n",
    "    test_labels.append(label)\n",
    "    \n",
    "\n",
    "test_data = np.array(test_data)\n",
    "test_labels = np.array(test_labels)\n",
    "test_labels_one_hot_encoding=to_categorical(test_labels)\n",
    "\n",
    "print(\"Total number of test examples: \", test_data.shape)\n",
    "print(\"Total number of labels:\", test_labels.shape)"
   ]
  },
  {
   "cell_type": "code",
   "execution_count": 12,
   "metadata": {},
   "outputs": [
    {
     "name": "stdout",
     "output_type": "stream",
     "text": [
      "624/624 [==============================] - 8s 12ms/sample - loss: 0.2320 - categorical_accuracy: 0.9455\n",
      "Loss on test set:  0.2319597954599139\n",
      "Accuracy on test set:  0.94551283\n"
     ]
    }
   ],
   "source": [
    "# Evaluation on test dataset\n",
    "\n",
    "test_loss, test_score = best_model.evaluate(test_data, test_labels_one_hot_encoding, batch_size=16)\n",
    "print(\"Loss on test set: \", test_loss)\n",
    "print(\"Accuracy on test set: \", test_score)"
   ]
  },
  {
   "cell_type": "code",
   "execution_count": 13,
   "metadata": {},
   "outputs": [
    {
     "name": "stdout",
     "output_type": "stream",
     "text": [
      "624/624 [==============================] - 6s 10ms/sample\n",
      "(624, 1)\n",
      "(624, 1)\n"
     ]
    }
   ],
   "source": [
    "# Get predictions\n",
    "preds = best_model.predict(test_data, batch_size=16,verbose=1)\n",
    "preds=np.around(preds)\n",
    "orig_test_labels=test_labels\n",
    "predicted_labels=np.argmax(preds,axis=1)\n",
    "predicted_labels=np.reshape(predicted_labels,(624,1))\n",
    "print(predicted_labels.shape)\n",
    "print(orig_test_labels.shape)"
   ]
  },
  {
   "cell_type": "code",
   "execution_count": 14,
   "metadata": {},
   "outputs": [
    {
     "data": {
      "text/plain": [
       "<Figure size 432x288 with 0 Axes>"
      ]
     },
     "metadata": {},
     "output_type": "display_data"
    },
    {
     "data": {
      "image/png": "[encoded data removed]",
      "text/plain": [
       "<Figure size 864x576 with 1 Axes>"
      ]
     },
     "metadata": {
      "needs_background": "light"
     },
     "output_type": "display_data"
    }
   ],
   "source": [
    "import matplotlib.pyplot as plt\n",
    "%matplotlib inline\n",
    "# Get the confusion matrix\n",
    "from sklearn.metrics import confusion_matrix\n",
    "from mlxtend.plotting import plot_confusion_matrix\n",
    "\n",
    "cm  = confusion_matrix(orig_test_labels, predicted_labels)\n",
    "plt.figure()\n",
    "plot_confusion_matrix(cm,figsize=(12,8), hide_ticks=True,cmap=plt.cm.Blues)\n",
    "plt.xticks(range(2), ['Normal', 'Pneumonia'], fontsize=16)\n",
    "plt.yticks(range(2), ['Normal', 'Pneumonia'], fontsize=16)\n",
    "plt.show()"
   ]
  },
  {
   "cell_type": "code",
   "execution_count": 15,
   "metadata": {},
   "outputs": [
    {
     "name": "stdout",
     "output_type": "stream",
     "text": [
      "Sensitivity (Recall) of the model is 0.977\n",
      "Specificity of the model is 0.893\n",
      "Precision of the model is 0.938\n"
     ]
    }
   ],
   "source": [
    "# Calculate Precision and Recall\n",
    "tn, fp, fn, tp = cm.ravel()\n",
    "\n",
    "precision = tp/(tp+fp)\n",
    "recall = tp/(tp+fn)\n",
    "specificity=tn/(tn+fp)\n",
    "\n",
    "print(\"Sensitivity (Recall) of the model is {:.3f}\".format(recall))\n",
    "print(\"Specificity of the model is {:.3f}\".format(specificity))\n",
    "print(\"Precision of the model is {:.3f}\".format(precision))"
   ]
  },
  {
   "cell_type": "markdown",
   "metadata": {},
   "source": [
    "So, this model has a `97.7%` sensitivity (recall), `89.3%` specificity and `93.8%` precision."
   ]
  },
  {
   "cell_type": "markdown",
   "metadata": {},
   "source": [
    "## ROC Curve and AUC for the model\n",
    "**Receiver operating characteristic** curve (a.k.a ROC) is a graphic plot that illustrates the diagnostic ability of a binary classifier system as its discrimination threshold is varied. The critical point here is \"binary classifier\" and \"varying threshold\". **Area Under the Curve** (a.k.a. AUC) is the percentage of the area that is under this ROC curve, ranging between 0 and 1.\n",
    "ROC is a great way to visualize the performance of a binary classifier, and AUC is one single number to summarize a classifier's performance. The higher the AUC is, the better the classifier."
   ]
  },
  {
   "cell_type": "code",
   "execution_count": 16,
   "metadata": {},
   "outputs": [],
   "source": [
    "from sklearn.metrics import roc_curve\n",
    "\n",
    "probs = best_model.predict_proba(test_data)\n",
    "preds = probs[:,1]\n",
    "fpr, tpr, thresholds = roc_curve(test_labels.ravel(), preds)"
   ]
  },
  {
   "cell_type": "code",
   "execution_count": 17,
   "metadata": {},
   "outputs": [],
   "source": [
    "from sklearn.metrics import auc\n",
    "auc_var = auc(fpr, tpr)"
   ]
  },
  {
   "cell_type": "code",
   "execution_count": 18,
   "metadata": {},
   "outputs": [
    {
     "data": {
      "image/png": "[encoded data removed]",
      "text/plain": [
       "<Figure size 432x288 with 1 Axes>"
      ]
     },
     "metadata": {
      "needs_background": "light"
     },
     "output_type": "display_data"
    }
   ],
   "source": [
    "import matplotlib.pyplot as plt\n",
    "%matplotlib inline\n",
    "plt.figure(1)\n",
    "plt.plot([0, 1], [0, 1], 'k--')\n",
    "plt.plot(fpr, tpr, label='PneumoniaNet (area = {:.3f})'.format(auc_var))\n",
    "plt.xlabel('False positive rate')\n",
    "plt.ylabel('True positive rate')\n",
    "plt.title('ROC curve')\n",
    "plt.legend(loc='best')\n",
    "plt.show()"
   ]
  },
  {
   "cell_type": "markdown",
   "metadata": {},
   "source": [
    "## Precision-Recall Curve for the Model"
   ]
  },
  {
   "cell_type": "code",
   "execution_count": 19,
   "metadata": {},
   "outputs": [],
   "source": [
    "from sklearn.metrics import precision_recall_curve\n",
    "from sklearn.metrics import f1_score\n",
    "from sklearn.metrics import average_precision_score"
   ]
  },
  {
   "cell_type": "code",
   "execution_count": 20,
   "metadata": {},
   "outputs": [],
   "source": [
    "precision, recall, thresholds = precision_recall_curve(test_labels.ravel(), preds)"
   ]
  },
  {
   "cell_type": "code",
   "execution_count": 21,
   "metadata": {},
   "outputs": [],
   "source": [
    "auc_var2 = auc(recall, precision)"
   ]
  },
  {
   "cell_type": "code",
   "execution_count": 22,
   "metadata": {},
   "outputs": [
    {
     "data": {
      "image/png": "[encoded data removed]",
      "text/plain": [
       "<Figure size 432x288 with 1 Axes>"
      ]
     },
     "metadata": {
      "needs_background": "light"
     },
     "output_type": "display_data"
    }
   ],
   "source": [
    "plt.figure()\n",
    "plt.plot(recall, precision, label='PneumoniaNet (area = {:.3f})'.format(auc_var2))\n",
    "plt.xlabel('Recall')\n",
    "plt.ylabel('Precision')\n",
    "plt.title('Precision-Recall curve')\n",
    "plt.legend(loc='best')\n",
    "plt.show()"
   ]
  },
  {
   "cell_type": "code",
   "execution_count": 23,
   "metadata": {},
   "outputs": [
    {
     "name": "stdout",
     "output_type": "stream",
     "text": [
      "Average Precision Score: 0.992\n"
     ]
    }
   ],
   "source": [
    "print('Average Precision Score: {:.3f}'.format(average_precision_score(test_labels.ravel(), preds)))"
   ]
  },
  {
   "cell_type": "code",
   "execution_count": 24,
   "metadata": {},
   "outputs": [
    {
     "name": "stdout",
     "output_type": "stream",
     "text": [
      "F1 Score: 0.957\n"
     ]
    }
   ],
   "source": [
    "print(\"F1 Score: {:.3f}\".format(f1_score(test_labels.ravel(),predicted_labels.ravel())))"
   ]
  }
 ],
 "metadata": {
  "kernelspec": {
   "display_name": "Python 3",
   "language": "python",
   "name": "python3"
  },
  "language_info": {
   "codemirror_mode": {
    "name": "ipython",
    "version": 3
   },
   "file_extension": ".py",
   "mimetype": "text/x-python",
   "name": "python",
   "nbconvert_exporter": "python",
   "pygments_lexer": "ipython3",
   "version": "3.6.8"
  }
 },
 "nbformat": 4,
 "nbformat_minor": 2
}
