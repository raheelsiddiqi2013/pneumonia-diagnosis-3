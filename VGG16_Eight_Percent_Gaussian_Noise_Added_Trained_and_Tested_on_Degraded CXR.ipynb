{
 "cells": [
  {
   "cell_type": "markdown",
   "metadata": {},
   "source": [
    "# Pneumonia Diagnosis based on Degraded Chest X-ray Images \n",
    "The author of this notebook is **Dr Raheel Siddiqi** on *02-08-2020*. He is a *Senior Assistant Professor* at Bahria University, Karachi Campus, Pakistan. His research interests include *Medical Imaging*, *Computer Vision* and *Deep Learning*.\n",
    "\n",
    "The objective of the experiment (presented in this notebook) is to evaluate the effectiveness of **VGG16** pre-trained model when employed to diagnose Pneumonia (based on degraded CXR images - 8% Gaussian Noise Added). The diagnosis process comprises of classifying Chest X-ray images into one of the two classes: (a) Normal, (b) Pneumonia.\n",
    "\n",
    "The dataset is downloded from [kaggle.com](https://www.kaggle.com/paultimothymooney/chest-xray-pneumonia). The dataset contains 5,863 X-Ray images (JPEG) and 2 categories (Pneumonia/Normal). The images are pre-processed and gaussian noise is added to each chest X-ray image."
   ]
  },
  {
   "cell_type": "markdown",
   "metadata": {},
   "source": [
    "## Tensorflow and Keras version used"
   ]
  },
  {
   "cell_type": "code",
   "execution_count": 1,
   "metadata": {},
   "outputs": [
    {
     "name": "stdout",
     "output_type": "stream",
     "text": [
      "Tensorflow Version:  1.13.1\n",
      "Keras Version:  2.2.4-tf\n"
     ]
    }
   ],
   "source": [
    "import tensorflow as tf\n",
    "from tensorflow.python import keras\n",
    "\n",
    "print('Tensorflow Version: ', tf.__version__)\n",
    "print('Keras Version: ', keras.__version__)"
   ]
  },
  {
   "cell_type": "markdown",
   "metadata": {},
   "source": [
    "## Setting up the Model"
   ]
  },
  {
   "cell_type": "code",
   "execution_count": 2,
   "metadata": {},
   "outputs": [
    {
     "name": "stdout",
     "output_type": "stream",
     "text": [
      "WARNING:tensorflow:From C:\\Users\\Raheel\\Anaconda3\\envs\\EnvName\\lib\\site-packages\\tensorflow\\python\\ops\\resource_variable_ops.py:435: colocate_with (from tensorflow.python.framework.ops) is deprecated and will be removed in a future version.\n",
      "Instructions for updating:\n",
      "Colocations handled automatically by placer.\n"
     ]
    }
   ],
   "source": [
    "from tensorflow.python.keras.applications import VGG16\n",
    "\n",
    "conv_base=VGG16(weights='imagenet',include_top=False,input_shape=(150,150,3))"
   ]
  },
  {
   "cell_type": "code",
   "execution_count": 3,
   "metadata": {},
   "outputs": [
    {
     "name": "stdout",
     "output_type": "stream",
     "text": [
      "_________________________________________________________________\n",
      "Layer (type)                 Output Shape              Param #   \n",
      "=================================================================\n",
      "input_1 (InputLayer)         (None, 150, 150, 3)       0         \n",
      "_________________________________________________________________\n",
      "block1_conv1 (Conv2D)        (None, 150, 150, 64)      1792      \n",
      "_________________________________________________________________\n",
      "block1_conv2 (Conv2D)        (None, 150, 150, 64)      36928     \n",
      "_________________________________________________________________\n",
      "block1_pool (MaxPooling2D)   (None, 75, 75, 64)        0         \n",
      "_________________________________________________________________\n",
      "block2_conv1 (Conv2D)        (None, 75, 75, 128)       73856     \n",
      "_________________________________________________________________\n",
      "block2_conv2 (Conv2D)        (None, 75, 75, 128)       147584    \n",
      "_________________________________________________________________\n",
      "block2_pool (MaxPooling2D)   (None, 37, 37, 128)       0         \n",
      "_________________________________________________________________\n",
      "block3_conv1 (Conv2D)        (None, 37, 37, 256)       295168    \n",
      "_________________________________________________________________\n",
      "block3_conv2 (Conv2D)        (None, 37, 37, 256)       590080    \n",
      "_________________________________________________________________\n",
      "block3_conv3 (Conv2D)        (None, 37, 37, 256)       590080    \n",
      "_________________________________________________________________\n",
      "block3_pool (MaxPooling2D)   (None, 18, 18, 256)       0         \n",
      "_________________________________________________________________\n",
      "block4_conv1 (Conv2D)        (None, 18, 18, 512)       1180160   \n",
      "_________________________________________________________________\n",
      "block4_conv2 (Conv2D)        (None, 18, 18, 512)       2359808   \n",
      "_________________________________________________________________\n",
      "block4_conv3 (Conv2D)        (None, 18, 18, 512)       2359808   \n",
      "_________________________________________________________________\n",
      "block4_pool (MaxPooling2D)   (None, 9, 9, 512)         0         \n",
      "_________________________________________________________________\n",
      "block5_conv1 (Conv2D)        (None, 9, 9, 512)         2359808   \n",
      "_________________________________________________________________\n",
      "block5_conv2 (Conv2D)        (None, 9, 9, 512)         2359808   \n",
      "_________________________________________________________________\n",
      "block5_conv3 (Conv2D)        (None, 9, 9, 512)         2359808   \n",
      "_________________________________________________________________\n",
      "block5_pool (MaxPooling2D)   (None, 4, 4, 512)         0         \n",
      "=================================================================\n",
      "Total params: 14,714,688\n",
      "Trainable params: 14,714,688\n",
      "Non-trainable params: 0\n",
      "_________________________________________________________________\n"
     ]
    }
   ],
   "source": [
    "conv_base.summary()"
   ]
  },
  {
   "cell_type": "code",
   "execution_count": 4,
   "metadata": {},
   "outputs": [],
   "source": [
    "import os\n",
    "import numpy as np\n",
    "from tensorflow.python.keras.preprocessing.image import ImageDataGenerator\n",
    "from tensorflow.python.keras import models\n",
    "from tensorflow.python.keras import layers\n",
    "from tensorflow.python.keras.callbacks import ModelCheckpoint\n",
    "from tensorflow.python.keras import optimizers\n",
    "\n",
    "model = models.Sequential()\n",
    "model.add(conv_base)\n",
    "model.add(layers.Flatten())\n",
    "model.add(layers.Dense(512, activation='relu'))\n",
    "model.add(layers.Dense(2, activation='softmax'))\n",
    "model.compile(loss='categorical_crossentropy',optimizer=optimizers.Adam(lr=1e-4),metrics=['categorical_accuracy'])\n",
    "filepath=\"VGG16_Eight_Percent_Gaussian_Noise_Added_Trained_and_Tested_on_Degraded_CXR.h5\"\n",
    "checkpoint = ModelCheckpoint(filepath, save_best_only=True)\n",
    "callbacks_list = [checkpoint]"
   ]
  },
  {
   "cell_type": "code",
   "execution_count": 5,
   "metadata": {},
   "outputs": [
    {
     "name": "stdout",
     "output_type": "stream",
     "text": [
      "_________________________________________________________________\n",
      "Layer (type)                 Output Shape              Param #   \n",
      "=================================================================\n",
      "vgg16 (Model)                (None, 4, 4, 512)         14714688  \n",
      "_________________________________________________________________\n",
      "flatten (Flatten)            (None, 8192)              0         \n",
      "_________________________________________________________________\n",
      "dense (Dense)                (None, 512)               4194816   \n",
      "_________________________________________________________________\n",
      "dense_1 (Dense)              (None, 2)                 1026      \n",
      "=================================================================\n",
      "Total params: 18,910,530\n",
      "Trainable params: 18,910,530\n",
      "Non-trainable params: 0\n",
      "_________________________________________________________________\n"
     ]
    }
   ],
   "source": [
    "model.summary()"
   ]
  },
  {
   "cell_type": "markdown",
   "metadata": {},
   "source": [
    "## Setting up Training and Validation Data for the experiment"
   ]
  },
  {
   "cell_type": "code",
   "execution_count": 6,
   "metadata": {},
   "outputs": [],
   "source": [
    "image_height = 150\n",
    "image_width = 150\n",
    "batch_size = 8\n",
    "no_of_epochs  = 100\n",
    "number_of_training_samples=5216\n",
    "number_of_validation_samples=16\n",
    "number_of_test_samples=624"
   ]
  },
  {
   "cell_type": "code",
   "execution_count": 7,
   "metadata": {},
   "outputs": [],
   "source": [
    "train_dir='D:\\\\TensorFlow Programs\\\\Diagnosis of Pneumonia based on Chest X-Rays\\\\new experiments_from 24_08_2019\\\\Pediatric Chest X_Rays_eight_percent_Gaussian_Noise_Added\\\\train'\n",
    "validation_dir='D:\\\\TensorFlow Programs\\\\Diagnosis of Pneumonia based on Chest X-Rays\\\\new experiments_from 24_08_2019\\\\Pediatric Chest X_Rays_eight_percent_Gaussian_Noise_Added\\\\val'\n",
    "test_dir='D:\\\\TensorFlow Programs\\\\Diagnosis of Pneumonia based on Chest X-Rays\\\\new experiments_from 24_08_2019\\\\Pediatric Chest X_Rays_eight_percent_Gaussian_Noise_Added\\\\test'"
   ]
  },
  {
   "cell_type": "code",
   "execution_count": 8,
   "metadata": {},
   "outputs": [],
   "source": [
    "train_datagen = ImageDataGenerator(rescale=1./255,\n",
    "                                   rotation_range=40,\n",
    "                                   width_shift_range=0.2,\n",
    "                                   height_shift_range=0.2,\n",
    "                                   shear_range=0.2,\n",
    "                                   zoom_range=0.2\n",
    "                                   )\n",
    "\n",
    "validation_datagen = ImageDataGenerator(rescale=1./255)  \n",
    "\n",
    "test_datagen = ImageDataGenerator(rescale=1./255)"
   ]
  },
  {
   "cell_type": "code",
   "execution_count": 9,
   "metadata": {},
   "outputs": [
    {
     "name": "stdout",
     "output_type": "stream",
     "text": [
      "Found 5216 images belonging to 2 classes.\n",
      "Found 16 images belonging to 2 classes.\n",
      "Found 624 images belonging to 2 classes.\n"
     ]
    }
   ],
   "source": [
    "training_set = train_datagen.flow_from_directory(train_dir,target_size=(image_width, image_height),batch_size=batch_size)\n",
    "validation_set = validation_datagen.flow_from_directory(validation_dir,target_size=(image_width, image_height),batch_size=batch_size,shuffle=False)\n",
    "test_set = test_datagen.flow_from_directory(test_dir,target_size=(image_width, image_height),batch_size=batch_size,shuffle=False)"
   ]
  },
  {
   "cell_type": "markdown",
   "metadata": {},
   "source": [
    "## Model Training"
   ]
  },
  {
   "cell_type": "code",
   "execution_count": 10,
   "metadata": {},
   "outputs": [
    {
     "name": "stdout",
     "output_type": "stream",
     "text": [
      "WARNING:tensorflow:From C:\\Users\\Raheel\\Anaconda3\\envs\\EnvName\\lib\\site-packages\\tensorflow\\python\\ops\\math_ops.py:3066: to_int32 (from tensorflow.python.ops.math_ops) is deprecated and will be removed in a future version.\n",
      "Instructions for updating:\n",
      "Use tf.cast instead.\n",
      "Epoch 1/100\n",
      "2/2 [==============================] - 0s 222ms/step - loss: 0.6262 - categorical_accuracy: 0.7500\n",
      "652/652 [==============================] - 221s 339ms/step - loss: 0.3790 - categorical_accuracy: 0.8248 - val_loss: 0.6262 - val_categorical_accuracy: 0.7500\n",
      "Epoch 2/100\n",
      "2/2 [==============================] - 1s 511ms/step - loss: 1.2415 - categorical_accuracy: 0.6875TA: 2s - loss: 0.2476 - categorica\n",
      "652/652 [==============================] - 157s 240ms/step - loss: 0.2494 - categorical_accuracy: 0.8969 - val_loss: 1.2415 - val_categorical_accuracy: 0.6875\n",
      "Epoch 3/100\n",
      "2/2 [==============================] - 0s 139ms/step - loss: 0.7978 - categorical_accuracy: 0.6875TA: 1s - loss: 0.1933 - categorical_accura\n",
      "652/652 [==============================] - 137s 210ms/step - loss: 0.1930 - categorical_accuracy: 0.9247 - val_loss: 0.7978 - val_categorical_accuracy: 0.6875\n",
      "Epoch 4/100\n",
      "2/2 [==============================] - 0s 137ms/step - loss: 0.4850 - categorical_accuracy: 0.7500\n",
      "652/652 [==============================] - 130s 199ms/step - loss: 0.1676 - categorical_accuracy: 0.9337 - val_loss: 0.4850 - val_categorical_accuracy: 0.7500\n",
      "Epoch 5/100\n",
      "2/2 [==============================] - 0s 161ms/step - loss: 0.4150 - categorical_accuracy: 0.8125\n",
      "652/652 [==============================] - 141s 217ms/step - loss: 0.1713 - categorical_accuracy: 0.9348 - val_loss: 0.4150 - val_categorical_accuracy: 0.8125\n",
      "Epoch 6/100\n",
      "2/2 [==============================] - 0s 186ms/step - loss: 0.4306 - categorical_accuracy: 0.8125TA\n",
      "652/652 [==============================] - 137s 211ms/step - loss: 0.1425 - categorical_accuracy: 0.9473 - val_loss: 0.4306 - val_categorical_accuracy: 0.8125\n",
      "Epoch 7/100\n",
      "2/2 [==============================] - 0s 162ms/step - loss: 0.5255 - categorical_accuracy: 0.8125\n",
      "652/652 [==============================] - 138s 212ms/step - loss: 0.1252 - categorical_accuracy: 0.9513 - val_loss: 0.5255 - val_categorical_accuracy: 0.8125\n",
      "Epoch 8/100\n",
      "2/2 [==============================] - 0s 137ms/step - loss: 0.1722 - categorical_accuracy: 0.9375\n",
      "652/652 [==============================] - 136s 208ms/step - loss: 0.1254 - categorical_accuracy: 0.9538 - val_loss: 0.1722 - val_categorical_accuracy: 0.9375\n",
      "Epoch 9/100\n",
      "2/2 [==============================] - 1s 446ms/step - loss: 0.5779 - categorical_accuracy: 0.6875\n",
      "652/652 [==============================] - 136s 208ms/step - loss: 0.1249 - categorical_accuracy: 0.9549 - val_loss: 0.5779 - val_categorical_accuracy: 0.6875\n",
      "Epoch 10/100\n",
      "2/2 [==============================] - 1s 512ms/step - loss: 0.8992 - categorical_accuracy: 0.6875\n",
      "652/652 [==============================] - 134s 205ms/step - loss: 0.1433 - categorical_accuracy: 0.9498 - val_loss: 0.8992 - val_categorical_accuracy: 0.6875\n",
      "Epoch 11/100\n",
      "2/2 [==============================] - 0s 155ms/step - loss: 0.2272 - categorical_accuracy: 0.9375\n",
      "652/652 [==============================] - 130s 199ms/step - loss: 0.1130 - categorical_accuracy: 0.9563 - val_loss: 0.2272 - val_categorical_accuracy: 0.9375\n",
      "Epoch 12/100\n",
      "2/2 [==============================] - 0s 170ms/step - loss: 0.3885 - categorical_accuracy: 0.8750\n",
      "652/652 [==============================] - 130s 199ms/step - loss: 0.0931 - categorical_accuracy: 0.9643 - val_loss: 0.3885 - val_categorical_accuracy: 0.8750\n",
      "Epoch 13/100\n",
      "2/2 [==============================] - 0s 145ms/step - loss: 0.3183 - categorical_accuracy: 0.8750\n",
      "652/652 [==============================] - 130s 199ms/step - loss: 0.0976 - categorical_accuracy: 0.9686 - val_loss: 0.3183 - val_categorical_accuracy: 0.8750\n",
      "Epoch 14/100\n",
      "2/2 [==============================] - 0s 145ms/step - loss: 0.2360 - categorical_accuracy: 0.8750\n",
      "652/652 [==============================] - 133s 204ms/step - loss: 0.0903 - categorical_accuracy: 0.9647 - val_loss: 0.2360 - val_categorical_accuracy: 0.8750\n",
      "Epoch 15/100\n",
      "2/2 [==============================] - 0s 168ms/step - loss: 0.2703 - categorical_accuracy: 0.8750\n",
      "652/652 [==============================] - 129s 198ms/step - loss: 0.0908 - categorical_accuracy: 0.9672 - val_loss: 0.2703 - val_categorical_accuracy: 0.8750\n",
      "Epoch 16/100\n",
      "2/2 [==============================] - 0s 186ms/step - loss: 0.2184 - categorical_accuracy: 0.8750\n",
      "652/652 [==============================] - 128s 196ms/step - loss: 0.0934 - categorical_accuracy: 0.9647 - val_loss: 0.2184 - val_categorical_accuracy: 0.8750\n",
      "Epoch 17/100\n",
      "2/2 [==============================] - 1s 504ms/step - loss: 0.1384 - categorical_accuracy: 1.0000\n",
      "652/652 [==============================] - 130s 200ms/step - loss: 0.0963 - categorical_accuracy: 0.9645 - val_loss: 0.1384 - val_categorical_accuracy: 1.0000\n",
      "Epoch 18/100\n",
      "2/2 [==============================] - 0s 148ms/step - loss: 0.1829 - categorical_accuracy: 0.9375\n",
      "652/652 [==============================] - 129s 197ms/step - loss: 0.0881 - categorical_accuracy: 0.9707 - val_loss: 0.1829 - val_categorical_accuracy: 0.9375\n",
      "Epoch 19/100\n",
      "2/2 [==============================] - 0s 137ms/step - loss: 0.2141 - categorical_accuracy: 0.8750\n",
      "652/652 [==============================] - 129s 197ms/step - loss: 0.0879 - categorical_accuracy: 0.9649 - val_loss: 0.2141 - val_categorical_accuracy: 0.8750\n",
      "Epoch 20/100\n",
      "2/2 [==============================] - 0s 137ms/step - loss: 0.0465 - categorical_accuracy: 1.0000\n",
      "652/652 [==============================] - 127s 195ms/step - loss: 0.0804 - categorical_accuracy: 0.9697 - val_loss: 0.0465 - val_categorical_accuracy: 1.0000\n",
      "Epoch 21/100\n",
      "2/2 [==============================] - 0s 151ms/step - loss: 0.1836 - categorical_accuracy: 0.9375\n",
      "652/652 [==============================] - 126s 194ms/step - loss: 0.0957 - categorical_accuracy: 0.9666 - val_loss: 0.1836 - val_categorical_accuracy: 0.9375\n",
      "Epoch 22/100\n",
      "2/2 [==============================] - 0s 145ms/step - loss: 0.1750 - categorical_accuracy: 0.8750\n",
      "652/652 [==============================] - 126s 194ms/step - loss: 0.0805 - categorical_accuracy: 0.9680 - val_loss: 0.1750 - val_categorical_accuracy: 0.8750\n",
      "Epoch 23/100\n",
      "2/2 [==============================] - 0s 144ms/step - loss: 0.1154 - categorical_accuracy: 1.0000\n",
      "652/652 [==============================] - 126s 193ms/step - loss: 0.0707 - categorical_accuracy: 0.9734 - val_loss: 0.1154 - val_categorical_accuracy: 1.0000\n",
      "Epoch 24/100\n",
      "2/2 [==============================] - 0s 186ms/step - loss: 0.1285 - categorical_accuracy: 0.9375\n",
      "652/652 [==============================] - 126s 194ms/step - loss: 0.0730 - categorical_accuracy: 0.9758 - val_loss: 0.1285 - val_categorical_accuracy: 0.9375\n",
      "Epoch 25/100\n",
      "2/2 [==============================] - 0s 170ms/step - loss: 0.1258 - categorical_accuracy: 0.9375\n",
      "652/652 [==============================] - 127s 194ms/step - loss: 0.0680 - categorical_accuracy: 0.9747 - val_loss: 0.1258 - val_categorical_accuracy: 0.9375\n",
      "Epoch 26/100\n",
      "2/2 [==============================] - 0s 149ms/step - loss: 0.0776 - categorical_accuracy: 1.0000TA: 2s - loss: 0.0862 \n",
      "652/652 [==============================] - 126s 194ms/step - loss: 0.0853 - categorical_accuracy: 0.9695 - val_loss: 0.0776 - val_categorical_accuracy: 1.0000\n",
      "Epoch 27/100\n",
      "2/2 [==============================] - 0s 186ms/step - loss: 0.2462 - categorical_accuracy: 0.8750\n",
      "652/652 [==============================] - 126s 193ms/step - loss: 0.0745 - categorical_accuracy: 0.9714 - val_loss: 0.2462 - val_categorical_accuracy: 0.8750\n",
      "Epoch 28/100\n",
      "2/2 [==============================] - 0s 146ms/step - loss: 0.3868 - categorical_accuracy: 0.9375\n",
      "652/652 [==============================] - 126s 193ms/step - loss: 0.0666 - categorical_accuracy: 0.9751 - val_loss: 0.3868 - val_categorical_accuracy: 0.9375\n",
      "Epoch 29/100\n",
      "2/2 [==============================] - 0s 136ms/step - loss: 0.0837 - categorical_accuracy: 0.9375\n",
      "652/652 [==============================] - 126s 193ms/step - loss: 0.0759 - categorical_accuracy: 0.9701 - val_loss: 0.0837 - val_categorical_accuracy: 0.9375\n"
     ]
    },
    {
     "name": "stdout",
     "output_type": "stream",
     "text": [
      "Epoch 30/100\n",
      "2/2 [==============================] - 0s 144ms/step - loss: 0.2232 - categorical_accuracy: 0.8750\n",
      "652/652 [==============================] - 126s 193ms/step - loss: 0.0755 - categorical_accuracy: 0.9737 - val_loss: 0.2232 - val_categorical_accuracy: 0.8750\n",
      "Epoch 31/100\n",
      "2/2 [==============================] - 0s 137ms/step - loss: 0.1512 - categorical_accuracy: 0.9375\n",
      "652/652 [==============================] - 126s 193ms/step - loss: 0.0705 - categorical_accuracy: 0.9758 - val_loss: 0.1512 - val_categorical_accuracy: 0.9375\n",
      "Epoch 32/100\n",
      "2/2 [==============================] - 0s 138ms/step - loss: 0.2986 - categorical_accuracy: 0.8125 ET\n",
      "652/652 [==============================] - 126s 193ms/step - loss: 0.0614 - categorical_accuracy: 0.9766 - val_loss: 0.2986 - val_categorical_accuracy: 0.8125\n",
      "Epoch 33/100\n",
      "2/2 [==============================] - 0s 145ms/step - loss: 0.1648 - categorical_accuracy: 0.8750\n",
      "652/652 [==============================] - 126s 194ms/step - loss: 0.0630 - categorical_accuracy: 0.9741 - val_loss: 0.1648 - val_categorical_accuracy: 0.8750\n",
      "Epoch 34/100\n",
      "2/2 [==============================] - 0s 153ms/step - loss: 0.1457 - categorical_accuracy: 0.9375TA: 2s - loss: 0.0564 \n",
      "652/652 [==============================] - 126s 193ms/step - loss: 0.0578 - categorical_accuracy: 0.9783 - val_loss: 0.1457 - val_categorical_accuracy: 0.9375\n",
      "Epoch 35/100\n",
      "2/2 [==============================] - 0s 145ms/step - loss: 0.0362 - categorical_accuracy: 1.0000\n",
      "652/652 [==============================] - 127s 194ms/step - loss: 0.0695 - categorical_accuracy: 0.9699 - val_loss: 0.0362 - val_categorical_accuracy: 1.0000\n",
      "Epoch 36/100\n",
      "2/2 [==============================] - 0s 137ms/step - loss: 0.4096 - categorical_accuracy: 0.8750TA: \n",
      "652/652 [==============================] - 126s 193ms/step - loss: 0.0646 - categorical_accuracy: 0.9755 - val_loss: 0.4096 - val_categorical_accuracy: 0.8750\n",
      "Epoch 37/100\n",
      "2/2 [==============================] - 0s 138ms/step - loss: 0.1613 - categorical_accuracy: 0.9375\n",
      "652/652 [==============================] - 126s 193ms/step - loss: 0.0712 - categorical_accuracy: 0.9764 - val_loss: 0.1613 - val_categorical_accuracy: 0.9375\n",
      "Epoch 38/100\n",
      "2/2 [==============================] - 0s 145ms/step - loss: 0.1997 - categorical_accuracy: 0.8750\n",
      "652/652 [==============================] - 126s 193ms/step - loss: 0.0508 - categorical_accuracy: 0.9804 - val_loss: 0.1997 - val_categorical_accuracy: 0.8750\n",
      "Epoch 39/100\n",
      "2/2 [==============================] - 0s 154ms/step - loss: 0.2303 - categorical_accuracy: 0.8750\n",
      "652/652 [==============================] - 126s 193ms/step - loss: 0.1013 - categorical_accuracy: 0.9653 - val_loss: 0.2303 - val_categorical_accuracy: 0.8750\n",
      "Epoch 40/100\n",
      "2/2 [==============================] - 0s 185ms/step - loss: 0.0500 - categorical_accuracy: 1.0000- ETA: 23s - loss: 0.0535 - categorical_accuracy:  - ETA: 22s - loss: 0.0534 - categorical_accuracy: 0.9 - ETA: 21s - loss: 0. - ETA: 1s - loss: 0.0559 - categorical_ac\n",
      "652/652 [==============================] - 126s 193ms/step - loss: 0.0556 - categorical_accuracy: 0.9780 - val_loss: 0.0500 - val_categorical_accuracy: 1.0000\n",
      "Epoch 41/100\n",
      "2/2 [==============================] - 0s 173ms/step - loss: 0.1651 - categorical_accuracy: 0.9375\n",
      "652/652 [==============================] - 127s 195ms/step - loss: 0.0564 - categorical_accuracy: 0.9774 - val_loss: 0.1651 - val_categorical_accuracy: 0.9375\n",
      "Epoch 42/100\n",
      "2/2 [==============================] - 0s 195ms/step - loss: 0.0554 - categorical_accuracy: 1.0000\n",
      "652/652 [==============================] - 131s 201ms/step - loss: 0.0591 - categorical_accuracy: 0.9818 - val_loss: 0.0554 - val_categorical_accuracy: 1.0000\n",
      "Epoch 43/100\n",
      "2/2 [==============================] - 0s 170ms/step - loss: 0.2526 - categorical_accuracy: 0.8750\n",
      "652/652 [==============================] - 133s 204ms/step - loss: 0.0468 - categorical_accuracy: 0.9827 - val_loss: 0.2526 - val_categorical_accuracy: 0.8750\n",
      "Epoch 44/100\n",
      "2/2 [==============================] - 0s 169ms/step - loss: 0.0417 - categorical_accuracy: 1.0000\n",
      "652/652 [==============================] - 127s 194ms/step - loss: 0.0554 - categorical_accuracy: 0.9806 - val_loss: 0.0417 - val_categorical_accuracy: 1.0000\n",
      "Epoch 45/100\n",
      "2/2 [==============================] - 0s 146ms/step - loss: 0.5354 - categorical_accuracy: 0.9375\n",
      "652/652 [==============================] - 126s 193ms/step - loss: 0.0459 - categorical_accuracy: 0.9831 - val_loss: 0.5354 - val_categorical_accuracy: 0.9375\n",
      "Epoch 46/100\n",
      "2/2 [==============================] - 0s 165ms/step - loss: 0.0597 - categorical_accuracy: 1.0000\n",
      "652/652 [==============================] - 127s 195ms/step - loss: 0.0533 - categorical_accuracy: 0.9803 - val_loss: 0.0597 - val_categorical_accuracy: 1.0000\n",
      "Epoch 47/100\n",
      "2/2 [==============================] - 0s 170ms/step - loss: 0.3283 - categorical_accuracy: 0.8125\n",
      "652/652 [==============================] - 127s 196ms/step - loss: 0.0582 - categorical_accuracy: 0.9785 - val_loss: 0.3283 - val_categorical_accuracy: 0.8125\n",
      "Epoch 48/100\n",
      "2/2 [==============================] - 0s 146ms/step - loss: 0.1990 - categorical_accuracy: 0.8750\n",
      "652/652 [==============================] - 126s 193ms/step - loss: 0.0406 - categorical_accuracy: 0.9852 - val_loss: 0.1990 - val_categorical_accuracy: 0.8750\n",
      "Epoch 49/100\n",
      "2/2 [==============================] - 0s 161ms/step - loss: 0.7211 - categorical_accuracy: 0.8125\n",
      "652/652 [==============================] - 126s 194ms/step - loss: 0.0650 - categorical_accuracy: 0.9764 - val_loss: 0.7211 - val_categorical_accuracy: 0.8125\n",
      "Epoch 50/100\n",
      "2/2 [==============================] - 0s 170ms/step - loss: 0.2470 - categorical_accuracy: 0.8750\n",
      "652/652 [==============================] - 129s 198ms/step - loss: 0.0470 - categorical_accuracy: 0.9827 - val_loss: 0.2470 - val_categorical_accuracy: 0.8750\n",
      "Epoch 51/100\n",
      "2/2 [==============================] - 0s 188ms/step - loss: 0.1674 - categorical_accuracy: 0.9375\n",
      "652/652 [==============================] - 135s 208ms/step - loss: 0.0673 - categorical_accuracy: 0.9797 - val_loss: 0.1674 - val_categorical_accuracy: 0.9375\n",
      "Epoch 52/100\n",
      "2/2 [==============================] - 0s 137ms/step - loss: 0.7279 - categorical_accuracy: 0.8125\n",
      "652/652 [==============================] - 130s 199ms/step - loss: 0.0459 - categorical_accuracy: 0.9808 - val_loss: 0.7279 - val_categorical_accuracy: 0.8125\n",
      "Epoch 53/100\n",
      "2/2 [==============================] - 0s 163ms/step - loss: 0.2940 - categorical_accuracy: 0.8750\n",
      "652/652 [==============================] - 127s 194ms/step - loss: 0.0471 - categorical_accuracy: 0.9847 - val_loss: 0.2940 - val_categorical_accuracy: 0.8750\n",
      "Epoch 54/100\n",
      "2/2 [==============================] - 0s 178ms/step - loss: 0.1142 - categorical_accuracy: 0.9375\n",
      "652/652 [==============================] - 126s 194ms/step - loss: 0.0473 - categorical_accuracy: 0.9822 - val_loss: 0.1142 - val_categorical_accuracy: 0.9375\n",
      "Epoch 55/100\n",
      "2/2 [==============================] - 0s 218ms/step - loss: 0.2556 - categorical_accuracy: 0.8750\n",
      "652/652 [==============================] - 127s 195ms/step - loss: 0.0421 - categorical_accuracy: 0.9835 - val_loss: 0.2556 - val_categorical_accuracy: 0.8750\n",
      "Epoch 56/100\n",
      "2/2 [==============================] - 0s 160ms/step - loss: 0.0794 - categorical_accuracy: 0.9375\n",
      "652/652 [==============================] - 130s 199ms/step - loss: 0.0401 - categorical_accuracy: 0.9858 - val_loss: 0.0794 - val_categorical_accuracy: 0.9375\n",
      "Epoch 57/100\n",
      "2/2 [==============================] - 0s 181ms/step - loss: 1.0774 - categorical_accuracy: 0.8750\n",
      "652/652 [==============================] - 130s 199ms/step - loss: 0.0429 - categorical_accuracy: 0.9854 - val_loss: 1.0774 - val_categorical_accuracy: 0.8750\n",
      "Epoch 58/100\n",
      "2/2 [==============================] - 0s 177ms/step - loss: 0.1963 - categorical_accuracy: 0.8750\n",
      "652/652 [==============================] - 126s 193ms/step - loss: 0.0581 - categorical_accuracy: 0.9795 - val_loss: 0.1963 - val_categorical_accuracy: 0.8750\n",
      "Epoch 59/100\n"
     ]
    },
    {
     "name": "stdout",
     "output_type": "stream",
     "text": [
      "2/2 [==============================] - 0s 137ms/step - loss: 0.2883 - categorical_accuracy: 0.8750\n",
      "652/652 [==============================] - 126s 193ms/step - loss: 0.0389 - categorical_accuracy: 0.9856 - val_loss: 0.2883 - val_categorical_accuracy: 0.8750\n",
      "Epoch 60/100\n",
      "2/2 [==============================] - 0s 154ms/step - loss: 0.6771 - categorical_accuracy: 0.8750\n",
      "652/652 [==============================] - 126s 193ms/step - loss: 0.0362 - categorical_accuracy: 0.9860 - val_loss: 0.6771 - val_categorical_accuracy: 0.8750\n",
      "Epoch 61/100\n",
      "2/2 [==============================] - 0s 212ms/step - loss: 0.3537 - categorical_accuracy: 0.7500\n",
      "652/652 [==============================] - 127s 194ms/step - loss: 0.0416 - categorical_accuracy: 0.9852 - val_loss: 0.3537 - val_categorical_accuracy: 0.7500\n",
      "Epoch 62/100\n",
      "2/2 [==============================] - 0s 166ms/step - loss: 0.0353 - categorical_accuracy: 1.0000\n",
      "652/652 [==============================] - 128s 196ms/step - loss: 0.0361 - categorical_accuracy: 0.9872 - val_loss: 0.0353 - val_categorical_accuracy: 1.0000\n",
      "Epoch 63/100\n",
      "2/2 [==============================] - 0s 161ms/step - loss: 0.0668 - categorical_accuracy: 0.9375\n",
      "652/652 [==============================] - 132s 202ms/step - loss: 0.0356 - categorical_accuracy: 0.9887 - val_loss: 0.0668 - val_categorical_accuracy: 0.9375\n",
      "Epoch 64/100\n",
      "2/2 [==============================] - 0s 177ms/step - loss: 0.0423 - categorical_accuracy: 1.0000\n",
      "652/652 [==============================] - 126s 193ms/step - loss: 0.0381 - categorical_accuracy: 0.9870 - val_loss: 0.0423 - val_categorical_accuracy: 1.0000\n",
      "Epoch 65/100\n",
      "2/2 [==============================] - 0s 170ms/step - loss: 0.0727 - categorical_accuracy: 0.9375\n",
      "652/652 [==============================] - 126s 194ms/step - loss: 0.0338 - categorical_accuracy: 0.9879 - val_loss: 0.0727 - val_categorical_accuracy: 0.9375\n",
      "Epoch 66/100\n",
      "2/2 [==============================] - 0s 164ms/step - loss: 0.1169 - categorical_accuracy: 0.9375\n",
      "652/652 [==============================] - 127s 195ms/step - loss: 0.0409 - categorical_accuracy: 0.9854 - val_loss: 0.1169 - val_categorical_accuracy: 0.9375\n",
      "Epoch 67/100\n",
      "2/2 [==============================] - 0s 153ms/step - loss: 0.2061 - categorical_accuracy: 0.9375\n",
      "652/652 [==============================] - 126s 193ms/step - loss: 0.0369 - categorical_accuracy: 0.9881 - val_loss: 0.2061 - val_categorical_accuracy: 0.9375\n",
      "Epoch 68/100\n",
      "2/2 [==============================] - 0s 148ms/step - loss: 0.3334 - categorical_accuracy: 0.8125\n",
      "652/652 [==============================] - 126s 193ms/step - loss: 0.0477 - categorical_accuracy: 0.9826 - val_loss: 0.3334 - val_categorical_accuracy: 0.8125\n",
      "Epoch 69/100\n",
      "2/2 [==============================] - 0s 150ms/step - loss: 0.0711 - categorical_accuracy: 1.0000\n",
      "652/652 [==============================] - 126s 193ms/step - loss: 0.0333 - categorical_accuracy: 0.9898 - val_loss: 0.0711 - val_categorical_accuracy: 1.0000\n",
      "Epoch 70/100\n",
      "2/2 [==============================] - 0s 149ms/step - loss: 0.0341 - categorical_accuracy: 1.0000\n",
      "652/652 [==============================] - 126s 194ms/step - loss: 0.0287 - categorical_accuracy: 0.9914 - val_loss: 0.0341 - val_categorical_accuracy: 1.0000\n",
      "Epoch 71/100\n",
      "2/2 [==============================] - 0s 157ms/step - loss: 0.3786 - categorical_accuracy: 0.8750\n",
      "652/652 [==============================] - 126s 193ms/step - loss: 0.0535 - categorical_accuracy: 0.9810 - val_loss: 0.3786 - val_categorical_accuracy: 0.8750\n",
      "Epoch 72/100\n",
      "2/2 [==============================] - 0s 147ms/step - loss: 0.0331 - categorical_accuracy: 1.0000\n",
      "652/652 [==============================] - 127s 194ms/step - loss: 0.0472 - categorical_accuracy: 0.9826 - val_loss: 0.0331 - val_categorical_accuracy: 1.0000\n",
      "Epoch 73/100\n",
      "2/2 [==============================] - 0s 147ms/step - loss: 0.0968 - categorical_accuracy: 0.9375\n",
      "652/652 [==============================] - 126s 193ms/step - loss: 0.0324 - categorical_accuracy: 0.9893 - val_loss: 0.0968 - val_categorical_accuracy: 0.9375\n",
      "Epoch 74/100\n",
      "2/2 [==============================] - 0s 130ms/step - loss: 0.3601 - categorical_accuracy: 0.8750\n",
      "652/652 [==============================] - 126s 193ms/step - loss: 0.0393 - categorical_accuracy: 0.9875 - val_loss: 0.3601 - val_categorical_accuracy: 0.8750\n",
      "Epoch 75/100\n",
      "2/2 [==============================] - 0s 142ms/step - loss: 0.4087 - categorical_accuracy: 0.8750TA: 4s\n",
      "652/652 [==============================] - 126s 194ms/step - loss: 0.0330 - categorical_accuracy: 0.9879 - val_loss: 0.4087 - val_categorical_accuracy: 0.8750\n",
      "Epoch 76/100\n",
      "2/2 [==============================] - 0s 154ms/step - loss: 0.1844 - categorical_accuracy: 0.8750\n",
      "652/652 [==============================] - 126s 194ms/step - loss: 0.0397 - categorical_accuracy: 0.9872 - val_loss: 0.1844 - val_categorical_accuracy: 0.8750\n",
      "Epoch 77/100\n",
      "2/2 [==============================] - 0s 147ms/step - loss: 0.0789 - categorical_accuracy: 0.9375 ETA: 13s - loss: 0.0439 - categorical_accu - ETA\n",
      "652/652 [==============================] - 126s 193ms/step - loss: 0.0446 - categorical_accuracy: 0.9860 - val_loss: 0.0789 - val_categorical_accuracy: 0.9375\n",
      "Epoch 78/100\n",
      "2/2 [==============================] - 0s 173ms/step - loss: 0.0304 - categorical_accuracy: 1.0000\n",
      "652/652 [==============================] - 127s 195ms/step - loss: 0.0335 - categorical_accuracy: 0.9889 - val_loss: 0.0304 - val_categorical_accuracy: 1.0000\n",
      "Epoch 79/100\n",
      "2/2 [==============================] - 0s 156ms/step - loss: 0.0411 - categorical_accuracy: 1.0000\n",
      "652/652 [==============================] - 126s 193ms/step - loss: 0.0291 - categorical_accuracy: 0.9881 - val_loss: 0.0411 - val_categorical_accuracy: 1.0000\n",
      "Epoch 80/100\n",
      "2/2 [==============================] - 0s 141ms/step - loss: 0.0569 - categorical_accuracy: 0.9375- ETA: 4s\n",
      "652/652 [==============================] - 126s 194ms/step - loss: 0.0247 - categorical_accuracy: 0.9900 - val_loss: 0.0569 - val_categorical_accuracy: 0.9375\n",
      "Epoch 81/100\n",
      "2/2 [==============================] - 0s 146ms/step - loss: 0.3511 - categorical_accuracy: 0.9375TA: 2s - loss: 0.0328 - catego\n",
      "652/652 [==============================] - 126s 194ms/step - loss: 0.0322 - categorical_accuracy: 0.9891 - val_loss: 0.3511 - val_categorical_accuracy: 0.9375\n",
      "Epoch 82/100\n",
      "2/2 [==============================] - 0s 146ms/step - loss: 0.1020 - categorical_accuracy: 0.9375\n",
      "652/652 [==============================] - 126s 194ms/step - loss: 0.0254 - categorical_accuracy: 0.9893 - val_loss: 0.1020 - val_categorical_accuracy: 0.9375\n",
      "Epoch 83/100\n",
      "2/2 [==============================] - 0s 184ms/step - loss: 0.4167 - categorical_accuracy: 0.9375\n",
      "652/652 [==============================] - 126s 194ms/step - loss: 0.0349 - categorical_accuracy: 0.9879 - val_loss: 0.4167 - val_categorical_accuracy: 0.9375\n",
      "Epoch 84/100\n",
      "2/2 [==============================] - 0s 156ms/step - loss: 0.2145 - categorical_accuracy: 0.8750\n",
      "652/652 [==============================] - 126s 194ms/step - loss: 0.0338 - categorical_accuracy: 0.9887 - val_loss: 0.2145 - val_categorical_accuracy: 0.8750\n",
      "Epoch 85/100\n",
      "2/2 [==============================] - 0s 162ms/step - loss: 0.5384 - categorical_accuracy: 0.8125TA: 5s - loss: 0.0346 - categorical_accuracy:  - ETA: 4s - loss: 0.0347 - categorical_accuracy:  - ETA: 4s - loss: 0.0354 - cate - ETA: 1s - loss: 0.0349 - categorica\n",
      "652/652 [==============================] - 126s 194ms/step - loss: 0.0350 - categorical_accuracy: 0.9879 - val_loss: 0.5384 - val_categorical_accuracy: 0.8125\n",
      "Epoch 86/100\n",
      "2/2 [==============================] - 0s 162ms/step - loss: 0.2208 - categorical_accuracy: 0.9375\n",
      "652/652 [==============================] - 126s 194ms/step - loss: 0.0316 - categorical_accuracy: 0.9883 - val_loss: 0.2208 - val_categorical_accuracy: 0.9375\n",
      "Epoch 87/100\n",
      "2/2 [==============================] - 0s 145ms/step - loss: 0.6115 - categorical_accuracy: 0.9375\n",
      "652/652 [==============================] - 126s 193ms/step - loss: 0.0397 - categorical_accuracy: 0.9885 - val_loss: 0.6115 - val_categorical_accuracy: 0.9375\n",
      "Epoch 88/100\n"
     ]
    },
    {
     "name": "stdout",
     "output_type": "stream",
     "text": [
      "2/2 [==============================] - 0s 136ms/step - loss: 0.1295 - categorical_accuracy: 0.9375 ETA: 52s - los - ETA: 44s  - ETA: 35s - loss: 0.0355  - ETA: 29s - loss: 0.0339 - categorical_accurac - ETA - ETA: 3s - loss: 0.0339 - categorical_accuracy: 0.98 - ETA: 2s - loss: 0.0339 \n",
      "652/652 [==============================] - 126s 193ms/step - loss: 0.0336 - categorical_accuracy: 0.9883 - val_loss: 0.1295 - val_categorical_accuracy: 0.9375\n",
      "Epoch 89/100\n",
      "2/2 [==============================] - 0s 156ms/step - loss: 0.2092 - categorical_accuracy: 0.8750TA: 1s - loss: 0.0299 - categorica\n",
      "652/652 [==============================] - 126s 193ms/step - loss: 0.0299 - categorical_accuracy: 0.9906 - val_loss: 0.2092 - val_categorical_accuracy: 0.8750\n",
      "Epoch 90/100\n",
      "2/2 [==============================] - 0s 170ms/step - loss: 0.0774 - categorical_accuracy: 0.9375\n",
      "652/652 [==============================] - 126s 194ms/step - loss: 0.0212 - categorical_accuracy: 0.9923 - val_loss: 0.0774 - val_categorical_accuracy: 0.9375\n",
      "Epoch 91/100\n",
      "2/2 [==============================] - 0s 143ms/step - loss: 1.0249 - categorical_accuracy: 0.9375 ETA: 30s - loss: - ETA: 5s - loss: 0 - ETA: 2s - loss: 0.0271 - catego\n",
      "652/652 [==============================] - 126s 194ms/step - loss: 0.0267 - categorical_accuracy: 0.9906 - val_loss: 1.0249 - val_categorical_accuracy: 0.9375\n",
      "Epoch 92/100\n",
      "2/2 [==============================] - 0s 145ms/step - loss: 0.1557 - categorical_accuracy: 0.9375TA: 1s - loss: 0.0276 - categorical_accu\n",
      "652/652 [==============================] - 126s 194ms/step - loss: 0.0274 - categorical_accuracy: 0.9902 - val_loss: 0.1557 - val_categorical_accuracy: 0.9375\n",
      "Epoch 93/100\n",
      "2/2 [==============================] - 0s 151ms/step - loss: 1.1414 - categorical_accuracy: 0.8125\n",
      "652/652 [==============================] - 126s 193ms/step - loss: 0.0309 - categorical_accuracy: 0.9904 - val_loss: 1.1414 - val_categorical_accuracy: 0.8125\n",
      "Epoch 94/100\n",
      "2/2 [==============================] - 0s 150ms/step - loss: 0.3321 - categorical_accuracy: 0.8750 ETA: 28s - loss: 0.0349 - \n",
      "652/652 [==============================] - 126s 193ms/step - loss: 0.0473 - categorical_accuracy: 0.9850 - val_loss: 0.3321 - val_categorical_accuracy: 0.8750\n",
      "Epoch 95/100\n",
      "2/2 [==============================] - 0s 150ms/step - loss: 0.2495 - categorical_accuracy: 0.8750TA: 3s - loss: 0\n",
      "652/652 [==============================] - 126s 193ms/step - loss: 0.0473 - categorical_accuracy: 0.9810 - val_loss: 0.2495 - val_categorical_accuracy: 0.8750\n",
      "Epoch 96/100\n",
      "2/2 [==============================] - 0s 142ms/step - loss: 0.3587 - categorical_accuracy: 0.8750 ETA: 20s - \n",
      "652/652 [==============================] - 126s 193ms/step - loss: 0.0322 - categorical_accuracy: 0.9881 - val_loss: 0.3587 - val_categorical_accuracy: 0.8750\n",
      "Epoch 97/100\n",
      "2/2 [==============================] - 0s 147ms/step - loss: 0.0838 - categorical_accuracy: 0.9375\n",
      "652/652 [==============================] - 126s 193ms/step - loss: 0.0292 - categorical_accuracy: 0.9908 - val_loss: 0.0838 - val_categorical_accuracy: 0.9375\n",
      "Epoch 98/100\n",
      "2/2 [==============================] - 0s 166ms/step - loss: 0.1930 - categorical_accuracy: 0.9375\n",
      "652/652 [==============================] - 126s 194ms/step - loss: 0.0187 - categorical_accuracy: 0.9925 - val_loss: 0.1930 - val_categorical_accuracy: 0.9375\n",
      "Epoch 99/100\n",
      "2/2 [==============================] - 0s 161ms/step - loss: 0.1885 - categorical_accuracy: 0.9375 ETA: 15s - loss: 0.0215 - categorical_\n",
      "652/652 [==============================] - 126s 194ms/step - loss: 0.0193 - categorical_accuracy: 0.9937 - val_loss: 0.1885 - val_categorical_accuracy: 0.9375\n",
      "Epoch 100/100\n",
      "2/2 [==============================] - 0s 169ms/step - loss: 0.0790 - categorical_accuracy: 0.9375\n",
      "652/652 [==============================] - 126s 194ms/step - loss: 0.0412 - categorical_accuracy: 0.9839 - val_loss: 0.0790 - val_categorical_accuracy: 0.9375\n"
     ]
    }
   ],
   "source": [
    "import math\n",
    "\n",
    "history = model.fit_generator(\n",
    "      training_set,\n",
    "      steps_per_epoch=math.ceil(number_of_training_samples//batch_size),\n",
    "      epochs=no_of_epochs,\n",
    "      callbacks=callbacks_list,\n",
    "      validation_data=validation_set,\n",
    "      validation_steps=math.ceil(number_of_validation_samples//batch_size))"
   ]
  },
  {
   "cell_type": "markdown",
   "metadata": {},
   "source": [
    "## Visualizing the Training Process"
   ]
  },
  {
   "cell_type": "code",
   "execution_count": 11,
   "metadata": {},
   "outputs": [
    {
     "data": {
      "image/png": "[encoded data removed]",
      "text/plain": [
       "<Figure size 432x288 with 1 Axes>"
      ]
     },
     "metadata": {
      "needs_background": "light"
     },
     "output_type": "display_data"
    },
    {
     "data": {
      "image/png": "[encoded data removed]",
      "text/plain": [
       "<Figure size 432x288 with 1 Axes>"
      ]
     },
     "metadata": {
      "needs_background": "light"
     },
     "output_type": "display_data"
    }
   ],
   "source": [
    "import matplotlib.pyplot as plt\n",
    "%matplotlib inline\n",
    "\n",
    "acc=history.history['categorical_accuracy']\n",
    "val_acc=history.history['val_categorical_accuracy']\n",
    "loss=history.history['loss']\n",
    "val_loss=history.history['val_loss']\n",
    "epochs=range(1,len(acc)+1)\n",
    "plt.xlabel('Epochs')\n",
    "plt.ylabel('Accuracy')\n",
    "plt.plot(epochs, acc, 'bo', label='Training acc')\n",
    "plt.plot(epochs, val_acc, 'b', label='Validation acc')\n",
    "plt.title('Training and validation accuracy')\n",
    "plt.legend()\n",
    "plt.figure()\n",
    "\n",
    "plt.plot(epochs, loss, 'bo', label='Training loss')\n",
    "plt.plot(epochs, val_loss, 'b', label='Validation loss')\n",
    "plt.title('Training and validation loss')\n",
    "plt.xlabel('Epochs')\n",
    "plt.ylabel('Loss')\n",
    "plt.legend()\n",
    "plt.show()"
   ]
  },
  {
   "cell_type": "markdown",
   "metadata": {},
   "source": [
    "## Loading the Best Model"
   ]
  },
  {
   "cell_type": "code",
   "execution_count": 12,
   "metadata": {},
   "outputs": [],
   "source": [
    "from tensorflow.python.keras.models import load_model\n",
    "\n",
    "best_model = load_model('VGG16_Eight_Percent_Gaussian_Noise_Added_Trained_and_Tested_on_Degraded_CXR.h5')"
   ]
  },
  {
   "cell_type": "markdown",
   "metadata": {},
   "source": [
    "## Evaluating the Best Model"
   ]
  },
  {
   "cell_type": "code",
   "execution_count": 13,
   "metadata": {},
   "outputs": [
    {
     "name": "stdout",
     "output_type": "stream",
     "text": [
      "78/78 [==============================] - 15s 195ms/step - loss: 0.3463 - categorical_accuracy: 0.9343\n",
      "Test-set classification accuracy: 93.43%\n"
     ]
    }
   ],
   "source": [
    "steps_test=int(number_of_test_samples/batch_size)\n",
    "result = best_model.evaluate_generator(test_set, steps=steps_test,verbose=1)\n",
    "print(\"Test-set classification accuracy: {0:.2%}\".format(result[1]))"
   ]
  },
  {
   "cell_type": "markdown",
   "metadata": {},
   "source": [
    "## Calculating Precision, Specificity and Sensitivity (Recall) values for the model\n",
    "*Precision-Recall* is a useful measure of success of prediction when the classes are very imbalanced. High *precision* relates to a low false positive rate, and high *recall* relates to a low false negative rate.\n",
    "\n",
    "Precision is defined as the number of true positives over the number of true positives plus the number of false positives. Recall is defined as the number of true positives over the number of true positives plus the number of false negatives. Please see the [link](https://scikit-learn.org/stable/auto_examples/model_selection/plot_precision_recall.html) for details.\n",
    "\n",
    "Another way of assessing a binary classification model is to compute the *sensitivity* (also called the true positive rate or the recall) and *specificity* (also called the true negative rate) of the model. *Sensitivity* indicates the percentage of sick people who are correctly identified as having the condition. *Specificity* indicates the percentage of healthy people who are correctly identified as not having the condition.\n",
    "\n",
    "But first we prepare our test data, so that later we can draw the *confusion matrix* as well as calculate *precision*, *specificity* and *sensitivity (recall)* of the model."
   ]
  },
  {
   "cell_type": "code",
   "execution_count": 14,
   "metadata": {},
   "outputs": [
    {
     "name": "stdout",
     "output_type": "stream",
     "text": [
      "Total number of test examples:  (624, 150, 150, 3)\n",
      "Total number of labels: (624, 1)\n"
     ]
    }
   ],
   "source": [
    "# Preparing test data\n",
    "import glob\n",
    "from pathlib import Path\n",
    "from tensorflow.python.keras.utils import to_categorical\n",
    "import cv2\n",
    "\n",
    "normal_cases_dir = Path('D:\\\\TensorFlow Programs\\\\Diagnosis of Pneumonia based on Chest X-Rays\\\\new experiments_from 24_08_2019\\\\Pediatric Chest X_Rays_eight_percent_Gaussian_Noise_Added\\\\test\\\\NORMAL')\n",
    "pneumonia_cases_dir = Path('D:\\\\TensorFlow Programs\\\\Diagnosis of Pneumonia based on Chest X-Rays\\\\new experiments_from 24_08_2019\\\\Pediatric Chest X_Rays_eight_percent_Gaussian_Noise_Added\\\\test\\\\PNEUMONIA')\n",
    "\n",
    "normal_cases = normal_cases_dir.glob('*.jpeg')\n",
    "pneumonia_cases = pneumonia_cases_dir.glob('*.jpeg')\n",
    "\n",
    "test_data = []\n",
    "test_labels = []\n",
    "\n",
    "for img in normal_cases:\n",
    "    img = cv2.imread(str(img))\n",
    "    img = cv2.resize(img, (image_width,image_height))\n",
    "    if img.shape[2] ==1:\n",
    "        img = np.dstack([img, img, img])\n",
    "    else:\n",
    "        img = cv2.cvtColor(img, cv2.COLOR_BGR2RGB)\n",
    "    img = img.astype(np.float32)/255.\n",
    "    label = [0]\n",
    "    test_data.append(img)\n",
    "    test_labels.append(label)\n",
    "                      \n",
    "for img in pneumonia_cases:\n",
    "    img = cv2.imread(str(img))\n",
    "    img = cv2.resize(img, (image_width,image_height))\n",
    "    if img.shape[2] ==1:\n",
    "        img = np.dstack([img, img, img])\n",
    "    else:\n",
    "        img = cv2.cvtColor(img, cv2.COLOR_BGR2RGB)\n",
    "    img = img.astype(np.float32)/255.\n",
    "    label = [1]\n",
    "    test_data.append(img)\n",
    "    test_labels.append(label)\n",
    "    \n",
    "\n",
    "test_data = np.array(test_data)\n",
    "test_labels = np.array(test_labels)\n",
    "test_labels_one_hot_encoding=to_categorical(test_labels)\n",
    "\n",
    "print(\"Total number of test examples: \", test_data.shape)\n",
    "print(\"Total number of labels:\", test_labels.shape)"
   ]
  },
  {
   "cell_type": "code",
   "execution_count": 15,
   "metadata": {},
   "outputs": [
    {
     "name": "stdout",
     "output_type": "stream",
     "text": [
      "624/624 [==============================] - 4s 7ms/sample - loss: 0.3476 - categorical_accuracy: 0.9359\n",
      "Loss on test set:  0.3475973626974827\n",
      "Accuracy on test set:  0.9358974\n"
     ]
    }
   ],
   "source": [
    "# Evaluation on test dataset\n",
    "\n",
    "test_loss, test_score = best_model.evaluate(test_data, test_labels_one_hot_encoding, batch_size=16)\n",
    "print(\"Loss on test set: \", test_loss)\n",
    "print(\"Accuracy on test set: \", test_score)"
   ]
  },
  {
   "cell_type": "code",
   "execution_count": 16,
   "metadata": {},
   "outputs": [
    {
     "name": "stdout",
     "output_type": "stream",
     "text": [
      "624/624 [==============================] - 4s 6ms/sample\n",
      "(624, 1)\n",
      "(624, 1)\n"
     ]
    }
   ],
   "source": [
    "# Get predictions\n",
    "preds = best_model.predict(test_data, batch_size=16,verbose=1)\n",
    "preds=np.around(preds)\n",
    "orig_test_labels=test_labels\n",
    "predicted_labels=np.argmax(preds,axis=1)\n",
    "predicted_labels=np.reshape(predicted_labels,(624,1))\n",
    "print(predicted_labels.shape)\n",
    "print(orig_test_labels.shape)"
   ]
  },
  {
   "cell_type": "code",
   "execution_count": 17,
   "metadata": {},
   "outputs": [
    {
     "data": {
      "text/plain": [
       "<Figure size 432x288 with 0 Axes>"
      ]
     },
     "metadata": {},
     "output_type": "display_data"
    },
    {
     "data": {
      "image/png": "[encoded data removed]",
      "text/plain": [
       "<Figure size 864x576 with 1 Axes>"
      ]
     },
     "metadata": {
      "needs_background": "light"
     },
     "output_type": "display_data"
    }
   ],
   "source": [
    "import matplotlib.pyplot as plt\n",
    "%matplotlib inline\n",
    "# Get the confusion matrix\n",
    "from sklearn.metrics import confusion_matrix\n",
    "from mlxtend.plotting import plot_confusion_matrix\n",
    "\n",
    "cm  = confusion_matrix(orig_test_labels, predicted_labels)\n",
    "plt.figure()\n",
    "plot_confusion_matrix(cm,figsize=(12,8), hide_ticks=True,cmap=plt.cm.Blues)\n",
    "plt.xticks(range(2), ['Normal', 'Pneumonia'], fontsize=16)\n",
    "plt.yticks(range(2), ['Normal', 'Pneumonia'], fontsize=16)\n",
    "plt.show()"
   ]
  },
  {
   "cell_type": "code",
   "execution_count": 18,
   "metadata": {},
   "outputs": [
    {
     "name": "stdout",
     "output_type": "stream",
     "text": [
      "Sensitivity (Recall) of the model is 0.977\n",
      "Specificity of the model is 0.868\n",
      "Precision of the model is 0.925\n"
     ]
    }
   ],
   "source": [
    "# Calculate Precision and Recall\n",
    "tn, fp, fn, tp = cm.ravel()\n",
    "\n",
    "precision = tp/(tp+fp)\n",
    "recall = tp/(tp+fn)\n",
    "specificity=tn/(tn+fp)\n",
    "\n",
    "print(\"Sensitivity (Recall) of the model is {:.3f}\".format(recall))\n",
    "print(\"Specificity of the model is {:.3f}\".format(specificity))\n",
    "print(\"Precision of the model is {:.3f}\".format(precision))"
   ]
  },
  {
   "cell_type": "markdown",
   "metadata": {},
   "source": [
    "Nice!!! So, this model has a `97.7%` sensitivity (recall), `86.8%` specificity and `92.5%` precision."
   ]
  },
  {
   "cell_type": "markdown",
   "metadata": {},
   "source": [
    "## ROC Curve and AUC for the model\n",
    "**Receiver operating characteristic** curve (a.k.a ROC) is a graphic plot that illustrates the diagnostic ability of a binary classifier system as its discrimination threshold is varied. The critical point here is \"binary classifier\" and \"varying threshold\". **Area Under the Curve** (a.k.a. AUC) is the percentage of the area that is under this ROC curve, ranging between 0 and 1.\n",
    "ROC is a great way to visualize the performance of a binary classifier, and AUC is one single number to summarize a classifier's performance. The higher the AUC is, the better the classifier."
   ]
  },
  {
   "cell_type": "code",
   "execution_count": 19,
   "metadata": {},
   "outputs": [],
   "source": [
    "from sklearn.metrics import roc_curve\n",
    "\n",
    "probs = best_model.predict_proba(test_data)\n",
    "preds = probs[:,1]\n",
    "fpr, tpr, thresholds = roc_curve(test_labels.ravel(), preds)"
   ]
  },
  {
   "cell_type": "code",
   "execution_count": 20,
   "metadata": {},
   "outputs": [],
   "source": [
    "from sklearn.metrics import auc\n",
    "auc_var = auc(fpr, tpr)"
   ]
  },
  {
   "cell_type": "code",
   "execution_count": 21,
   "metadata": {},
   "outputs": [
    {
     "data": {
      "image/png": "[encoded data removed]",
      "text/plain": [
       "<Figure size 432x288 with 1 Axes>"
      ]
     },
     "metadata": {
      "needs_background": "light"
     },
     "output_type": "display_data"
    }
   ],
   "source": [
    "import matplotlib.pyplot as plt\n",
    "%matplotlib inline\n",
    "plt.figure(1)\n",
    "plt.plot([0, 1], [0, 1], 'k--')\n",
    "plt.plot(fpr, tpr, label='VGG16 based model (area = {:.3f})'.format(auc_var))\n",
    "plt.xlabel('False positive rate')\n",
    "plt.ylabel('True positive rate')\n",
    "plt.title('ROC curve')\n",
    "plt.legend(loc='best')\n",
    "plt.show()"
   ]
  },
  {
   "cell_type": "markdown",
   "metadata": {},
   "source": [
    "## Precision-Recall Curve for the Model"
   ]
  },
  {
   "cell_type": "code",
   "execution_count": 22,
   "metadata": {},
   "outputs": [],
   "source": [
    "from sklearn.metrics import precision_recall_curve\n",
    "from sklearn.metrics import f1_score\n",
    "from sklearn.metrics import average_precision_score"
   ]
  },
  {
   "cell_type": "code",
   "execution_count": 23,
   "metadata": {},
   "outputs": [],
   "source": [
    "precision, recall, thresholds = precision_recall_curve(test_labels.ravel(), preds)"
   ]
  },
  {
   "cell_type": "code",
   "execution_count": 24,
   "metadata": {},
   "outputs": [],
   "source": [
    "auc_var2 = auc(recall, precision)"
   ]
  },
  {
   "cell_type": "code",
   "execution_count": 25,
   "metadata": {},
   "outputs": [
    {
     "data": {
      "image/png": "[encoded data removed]",
      "text/plain": [
       "<Figure size 432x288 with 1 Axes>"
      ]
     },
     "metadata": {
      "needs_background": "light"
     },
     "output_type": "display_data"
    }
   ],
   "source": [
    "plt.figure()\n",
    "plt.plot(recall, precision, label='VGG16 based model (area = {:.3f})'.format(auc_var2))\n",
    "plt.xlabel('Recall')\n",
    "plt.ylabel('Precision')\n",
    "plt.title('Precision-Recall curve')\n",
    "plt.legend(loc='best')\n",
    "plt.show()"
   ]
  },
  {
   "cell_type": "code",
   "execution_count": 26,
   "metadata": {},
   "outputs": [
    {
     "name": "stdout",
     "output_type": "stream",
     "text": [
      "Average Precision Score: 0.973\n"
     ]
    }
   ],
   "source": [
    "print('Average Precision Score: {:.3f}'.format(average_precision_score(test_labels.ravel(), preds)))"
   ]
  },
  {
   "cell_type": "code",
   "execution_count": 27,
   "metadata": {},
   "outputs": [
    {
     "name": "stdout",
     "output_type": "stream",
     "text": [
      "F1 Score: 0.950\n"
     ]
    }
   ],
   "source": [
    "print(\"F1 Score: {:.3f}\".format(f1_score(test_labels.ravel(),predicted_labels.ravel())))"
   ]
  }
 ],
 "metadata": {
  "kernelspec": {
   "display_name": "Python 3",
   "language": "python",
   "name": "python3"
  },
  "language_info": {
   "codemirror_mode": {
    "name": "ipython",
    "version": 3
   },
   "file_extension": ".py",
   "mimetype": "text/x-python",
   "name": "python",
   "nbconvert_exporter": "python",
   "pygments_lexer": "ipython3",
   "version": "3.6.8"
  }
 },
 "nbformat": 4,
 "nbformat_minor": 2
}
