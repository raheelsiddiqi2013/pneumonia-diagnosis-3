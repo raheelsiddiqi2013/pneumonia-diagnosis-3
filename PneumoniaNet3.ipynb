{
 "cells": [
  {
   "cell_type": "markdown",
   "metadata": {},
   "source": [
    "# Automated Chest X-ray based Pneumonia Diagnosis using PneumoniaNet\n",
    "The author of this notebook is **Dr Raheel Siddiqi**. He is a *Senior Assistant Professor* at Bahria University, Karachi Campus, Pakistan. His research interests include *Medical Imaging*, *Computer Vision* and *Deep Learning*. \n",
    "\n",
    "The objective of the experiment (presented in this notebook) is to evaluate the performance of a self-designed Convolutional Neural Network (CNN) based model called **PneumoniaNet**. PneumoniaNet is employed to diagnose Pneumonia (based on Chest X-ray images). The diagnosis process comprises of classifying Chest X-ray images into one of the two classes: (a) Normal, (b) Pneumonia.\n",
    "\n",
    "The dataset is downloded from [kaggle.com](https://www.kaggle.com/paultimothymooney/chest-xray-pneumonia). The dataset contains 5,863 X-Ray images (JPEG) and 2 categories (Pneumonia/Normal). The dataset is divided into three sets: (a) train, (b) val and (c) test.\n",
    "\n",
    "PneumoniaNet is based on a very simple 16-layer CNN architecture, where only 8 layers have trainable weights and biases. In order to avoid overfitting the following steps are ensured:\n",
    "1. Using a low capacity network i.e. less number of layers, less learnable parameters. This is done to reduce memorization capacity.\n",
    "2. Adding weight regularization to dense layer.\n",
    "3. Drop out layers have also been added."
   ]
  },
  {
   "cell_type": "markdown",
   "metadata": {},
   "source": [
    "# Tensorflow and Keras version used"
   ]
  },
  {
   "cell_type": "code",
   "execution_count": 1,
   "metadata": {},
   "outputs": [
    {
     "name": "stdout",
     "output_type": "stream",
     "text": [
      "Tensorflow Version:  1.13.1\n",
      "Keras Version:  2.2.4-tf\n"
     ]
    }
   ],
   "source": [
    "import tensorflow as tf\n",
    "from tensorflow.python import keras\n",
    "\n",
    "print('Tensorflow Version: ', tf.__version__)\n",
    "print('Keras Version: ', keras.__version__)"
   ]
  },
  {
   "cell_type": "markdown",
   "metadata": {},
   "source": [
    "# Setting up the Model"
   ]
  },
  {
   "cell_type": "code",
   "execution_count": 2,
   "metadata": {},
   "outputs": [
    {
     "name": "stderr",
     "output_type": "stream",
     "text": [
      "Using TensorFlow backend.\n"
     ]
    },
    {
     "name": "stdout",
     "output_type": "stream",
     "text": [
      "WARNING:tensorflow:From C:\\Users\\Raheel\\Anaconda3\\envs\\EnvName\\lib\\site-packages\\tensorflow\\python\\framework\\op_def_library.py:263: colocate_with (from tensorflow.python.framework.ops) is deprecated and will be removed in a future version.\n",
      "Instructions for updating:\n",
      "Colocations handled automatically by placer.\n",
      "WARNING:tensorflow:From C:\\Users\\Raheel\\Anaconda3\\envs\\EnvName\\lib\\site-packages\\keras\\backend\\tensorflow_backend.py:3445: calling dropout (from tensorflow.python.ops.nn_ops) with keep_prob is deprecated and will be removed in a future version.\n",
      "Instructions for updating:\n",
      "Please use `rate` instead of `keep_prob`. Rate should be set to `rate = 1 - keep_prob`.\n",
      "_________________________________________________________________\n",
      "Layer (type)                 Output Shape              Param #   \n",
      "=================================================================\n",
      "conv2d_1 (Conv2D)            (None, 148, 148, 64)      1792      \n",
      "_________________________________________________________________\n",
      "conv2d_2 (Conv2D)            (None, 146, 146, 64)      36928     \n",
      "_________________________________________________________________\n",
      "max_pooling2d_1 (MaxPooling2 (None, 73, 73, 64)        0         \n",
      "_________________________________________________________________\n",
      "dropout_1 (Dropout)          (None, 73, 73, 64)        0         \n",
      "_________________________________________________________________\n",
      "conv2d_3 (Conv2D)            (None, 71, 71, 128)       73856     \n",
      "_________________________________________________________________\n",
      "conv2d_4 (Conv2D)            (None, 69, 69, 128)       147584    \n",
      "_________________________________________________________________\n",
      "max_pooling2d_2 (MaxPooling2 (None, 34, 34, 128)       0         \n",
      "_________________________________________________________________\n",
      "dropout_2 (Dropout)          (None, 34, 34, 128)       0         \n",
      "_________________________________________________________________\n",
      "conv2d_5 (Conv2D)            (None, 32, 32, 256)       295168    \n",
      "_________________________________________________________________\n",
      "conv2d_6 (Conv2D)            (None, 30, 30, 256)       590080    \n",
      "_________________________________________________________________\n",
      "max_pooling2d_3 (MaxPooling2 (None, 15, 15, 256)       0         \n",
      "_________________________________________________________________\n",
      "dropout_3 (Dropout)          (None, 15, 15, 256)       0         \n",
      "_________________________________________________________________\n",
      "flatten_1 (Flatten)          (None, 57600)             0         \n",
      "_________________________________________________________________\n",
      "dense_1 (Dense)              (None, 512)               29491712  \n",
      "_________________________________________________________________\n",
      "dropout_4 (Dropout)          (None, 512)               0         \n",
      "_________________________________________________________________\n",
      "dense_2 (Dense)              (None, 2)                 1026      \n",
      "=================================================================\n",
      "Total params: 30,638,146\n",
      "Trainable params: 30,638,146\n",
      "Non-trainable params: 0\n",
      "_________________________________________________________________\n"
     ]
    }
   ],
   "source": [
    "import os\n",
    "import numpy as np\n",
    "import keras\n",
    "from keras import models\n",
    "from keras import layers\n",
    "from keras.preprocessing.image import ImageDataGenerator\n",
    "from keras import regularizers\n",
    "from keras import optimizers\n",
    "from keras.callbacks import ModelCheckpoint\n",
    "\n",
    "pneumoniaNetModel=models.Sequential()\n",
    "\n",
    "pneumoniaNetModel.add(layers.Conv2D(64, (3, 3), activation='relu', input_shape=(150,150,3)))\n",
    "pneumoniaNetModel.add(layers.Conv2D(64, (3, 3), activation='relu'))\n",
    "pneumoniaNetModel.add(layers.MaxPooling2D(pool_size=(2, 2)))\n",
    "pneumoniaNetModel.add(layers.Dropout(0.2))\n",
    "\n",
    "pneumoniaNetModel.add(layers.Conv2D(128, (3, 3), activation='relu'))\n",
    "pneumoniaNetModel.add(layers.Conv2D(128, (3, 3), activation='relu'))\n",
    "pneumoniaNetModel.add(layers.MaxPooling2D(pool_size=(2, 2)))\n",
    "pneumoniaNetModel.add(layers.Dropout(0.2))\n",
    "\n",
    "pneumoniaNetModel.add(layers.Conv2D(256, (3, 3), activation='relu'))\n",
    "pneumoniaNetModel.add(layers.Conv2D(256, (3, 3), activation='relu'))\n",
    "pneumoniaNetModel.add(layers.MaxPooling2D(pool_size=(2, 2)))\n",
    "pneumoniaNetModel.add(layers.Dropout(0.2))\n",
    "\n",
    "pneumoniaNetModel.add(layers.Flatten())\n",
    "pneumoniaNetModel.add(layers.Dense(512, kernel_regularizer=regularizers.l2(0.001), activation='relu'))\n",
    "pneumoniaNetModel.add(layers.Dropout(0.2))\n",
    "pneumoniaNetModel.add(layers.Dense(2, activation='softmax'))\n",
    "\n",
    "pneumoniaNetModel.compile(loss='categorical_crossentropy',optimizer=optimizers.Adam(lr=1e-4),metrics=['categorical_accuracy'])\n",
    "pneumoniaNetModel.summary()\n",
    "\n",
    "filepath=\"PneumoniaNet3.h5\"\n",
    "checkpoint = ModelCheckpoint(filepath, save_best_only=True)\n",
    "callbacks_list = [checkpoint]"
   ]
  },
  {
   "cell_type": "markdown",
   "metadata": {},
   "source": [
    "## Setting up Training and Validation Data for the experiment"
   ]
  },
  {
   "cell_type": "code",
   "execution_count": 3,
   "metadata": {},
   "outputs": [],
   "source": [
    "image_height = 150\n",
    "image_width = 150\n",
    "batch_size = 8\n",
    "no_of_epochs  = 100\n",
    "number_of_training_samples=5216\n",
    "number_of_validation_samples=16\n",
    "number_of_test_samples=624"
   ]
  },
  {
   "cell_type": "code",
   "execution_count": 4,
   "metadata": {},
   "outputs": [],
   "source": [
    "train_dir='D:\\\\TensorFlow Programs\\\\Diagnosis of Pneumonia based on Chest X-Rays\\\\chest-xray-pneumonia\\\\chest_xray\\\\chest_xray\\\\train'\n",
    "validation_dir='D:\\\\TensorFlow Programs\\\\Diagnosis of Pneumonia based on Chest X-Rays\\\\chest-xray-pneumonia\\\\chest_xray\\\\chest_xray\\\\val'\n",
    "test_dir='D:\\\\TensorFlow Programs\\\\Diagnosis of Pneumonia based on Chest X-Rays\\\\chest-xray-pneumonia\\\\chest_xray\\\\chest_xray\\\\test'"
   ]
  },
  {
   "cell_type": "code",
   "execution_count": 5,
   "metadata": {},
   "outputs": [],
   "source": [
    "train_datagen = ImageDataGenerator(rescale=1./255,\n",
    "                                   rotation_range=40,\n",
    "                                   width_shift_range=0.2,\n",
    "                                   height_shift_range=0.2,\n",
    "                                   shear_range=0.2,\n",
    "                                   zoom_range=0.2\n",
    "                                   )\n",
    "\n",
    "validation_datagen = ImageDataGenerator(rescale=1./255)  \n",
    "\n",
    "test_datagen = ImageDataGenerator(rescale=1./255)"
   ]
  },
  {
   "cell_type": "code",
   "execution_count": 6,
   "metadata": {},
   "outputs": [
    {
     "name": "stdout",
     "output_type": "stream",
     "text": [
      "Found 5216 images belonging to 2 classes.\n",
      "Found 16 images belonging to 2 classes.\n",
      "Found 624 images belonging to 2 classes.\n"
     ]
    }
   ],
   "source": [
    "training_set = train_datagen.flow_from_directory(train_dir,target_size=(image_width, image_height),batch_size=batch_size)\n",
    "validation_set = validation_datagen.flow_from_directory(validation_dir,target_size=(image_width, image_height),batch_size=batch_size,shuffle=False)\n",
    "test_set = test_datagen.flow_from_directory(test_dir,target_size=(image_width, image_height),batch_size=batch_size,shuffle=False)"
   ]
  },
  {
   "cell_type": "markdown",
   "metadata": {},
   "source": [
    "## Model Training"
   ]
  },
  {
   "cell_type": "code",
   "execution_count": 7,
   "metadata": {},
   "outputs": [
    {
     "name": "stdout",
     "output_type": "stream",
     "text": [
      "WARNING:tensorflow:From C:\\Users\\Raheel\\Anaconda3\\envs\\EnvName\\lib\\site-packages\\tensorflow\\python\\ops\\math_ops.py:3066: to_int32 (from tensorflow.python.ops.math_ops) is deprecated and will be removed in a future version.\n",
      "Instructions for updating:\n",
      "Use tf.cast instead.\n",
      "Epoch 1/100\n",
      "652/652 [==============================] - 167s 255ms/step - loss: 0.7838 - categorical_accuracy: 0.7425 - val_loss: 0.9321 - val_categorical_accuracy: 0.5000\n",
      "Epoch 2/100\n",
      "652/652 [==============================] - 100s 154ms/step - loss: 0.5023 - categorical_accuracy: 0.7628 - val_loss: 0.5592 - val_categorical_accuracy: 0.8125\n",
      "Epoch 3/100\n",
      "652/652 [==============================] - 98s 150ms/step - loss: 0.4103 - categorical_accuracy: 0.8219 - val_loss: 0.6028 - val_categorical_accuracy: 0.7500\n",
      "Epoch 4/100\n",
      "652/652 [==============================] - 96s 147ms/step - loss: 0.3419 - categorical_accuracy: 0.8645 - val_loss: 0.5473 - val_categorical_accuracy: 0.7500\n",
      "Epoch 5/100\n",
      "652/652 [==============================] - 101s 154ms/step - loss: 0.2926 - categorical_accuracy: 0.8886 - val_loss: 0.4793 - val_categorical_accuracy: 0.7500\n",
      "Epoch 6/100\n",
      "652/652 [==============================] - 96s 147ms/step - loss: 0.2813 - categorical_accuracy: 0.8932 - val_loss: 1.4889 - val_categorical_accuracy: 0.6875\n",
      "Epoch 7/100\n",
      "652/652 [==============================] - 98s 150ms/step - loss: 0.2755 - categorical_accuracy: 0.8992 - val_loss: 0.6957 - val_categorical_accuracy: 0.7500\n",
      "Epoch 8/100\n",
      "652/652 [==============================] - 97s 148ms/step - loss: 0.2563 - categorical_accuracy: 0.9061 - val_loss: 0.5097 - val_categorical_accuracy: 0.7500\n",
      "Epoch 9/100\n",
      "652/652 [==============================] - 100s 153ms/step - loss: 0.2427 - categorical_accuracy: 0.9183 - val_loss: 0.6751 - val_categorical_accuracy: 0.6875\n",
      "Epoch 10/100\n",
      "652/652 [==============================] - 97s 148ms/step - loss: 0.2435 - categorical_accuracy: 0.9160 - val_loss: 0.5845 - val_categorical_accuracy: 0.7500\n",
      "Epoch 11/100\n",
      "652/652 [==============================] - 100s 154ms/step - loss: 0.2279 - categorical_accuracy: 0.9229 - val_loss: 0.4947 - val_categorical_accuracy: 0.8750\n",
      "Epoch 12/100\n",
      "652/652 [==============================] - 95s 145ms/step - loss: 0.2254 - categorical_accuracy: 0.9243 - val_loss: 0.5153 - val_categorical_accuracy: 0.6875\n",
      "Epoch 13/100\n",
      "652/652 [==============================] - 95s 145ms/step - loss: 0.2312 - categorical_accuracy: 0.9199 - val_loss: 0.3392 - val_categorical_accuracy: 0.8125\n",
      "Epoch 14/100\n",
      "652/652 [==============================] - 97s 149ms/step - loss: 0.2118 - categorical_accuracy: 0.9281 - val_loss: 0.3970 - val_categorical_accuracy: 0.8125\n",
      "Epoch 15/100\n",
      "652/652 [==============================] - 101s 155ms/step - loss: 0.2066 - categorical_accuracy: 0.9298 - val_loss: 0.6667 - val_categorical_accuracy: 0.6875\n",
      "Epoch 16/100\n",
      "652/652 [==============================] - 96s 148ms/step - loss: 0.2082 - categorical_accuracy: 0.9308 - val_loss: 0.6744 - val_categorical_accuracy: 0.7500\n",
      "Epoch 17/100\n",
      "652/652 [==============================] - 97s 149ms/step - loss: 0.1936 - categorical_accuracy: 0.9379 - val_loss: 0.5144 - val_categorical_accuracy: 0.7500\n",
      "Epoch 18/100\n",
      "652/652 [==============================] - 97s 148ms/step - loss: 0.2018 - categorical_accuracy: 0.9331 - val_loss: 0.4259 - val_categorical_accuracy: 0.8125\n",
      "Epoch 19/100\n",
      "652/652 [==============================] - 99s 152ms/step - loss: 0.1931 - categorical_accuracy: 0.9396 - val_loss: 1.0323 - val_categorical_accuracy: 0.6250\n",
      "Epoch 20/100\n",
      "652/652 [==============================] - 96s 147ms/step - loss: 0.1944 - categorical_accuracy: 0.9381 - val_loss: 0.5851 - val_categorical_accuracy: 0.6875\n",
      "Epoch 21/100\n",
      "652/652 [==============================] - 97s 149ms/step - loss: 0.1925 - categorical_accuracy: 0.9385 - val_loss: 0.5458 - val_categorical_accuracy: 0.5625\n",
      "Epoch 22/100\n",
      "652/652 [==============================] - 92s 141ms/step - loss: 0.1835 - categorical_accuracy: 0.9436 - val_loss: 0.6585 - val_categorical_accuracy: 0.7500\n",
      "Epoch 23/100\n",
      "652/652 [==============================] - 92s 141ms/step - loss: 0.1722 - categorical_accuracy: 0.9450 - val_loss: 0.4707 - val_categorical_accuracy: 0.8125\n",
      "Epoch 24/100\n",
      "652/652 [==============================] - 92s 141ms/step - loss: 0.1774 - categorical_accuracy: 0.9473 - val_loss: 0.4017 - val_categorical_accuracy: 0.8125\n",
      "Epoch 25/100\n",
      "652/652 [==============================] - 92s 142ms/step - loss: 0.1727 - categorical_accuracy: 0.9444 - val_loss: 0.4503 - val_categorical_accuracy: 0.6875\n",
      "Epoch 26/100\n",
      "652/652 [==============================] - 92s 141ms/step - loss: 0.1729 - categorical_accuracy: 0.9459 - val_loss: 0.5092 - val_categorical_accuracy: 0.7500\n",
      "Epoch 27/100\n",
      "652/652 [==============================] - 92s 141ms/step - loss: 0.1702 - categorical_accuracy: 0.9450 - val_loss: 0.6926 - val_categorical_accuracy: 0.6250\n",
      "Epoch 28/100\n",
      "652/652 [==============================] - 92s 141ms/step - loss: 0.1671 - categorical_accuracy: 0.9515 - val_loss: 0.6071 - val_categorical_accuracy: 0.6875\n",
      "Epoch 29/100\n",
      "652/652 [==============================] - 92s 141ms/step - loss: 0.1689 - categorical_accuracy: 0.9480 - val_loss: 0.4692 - val_categorical_accuracy: 0.8125\n",
      "Epoch 30/100\n",
      "652/652 [==============================] - 92s 141ms/step - loss: 0.1574 - categorical_accuracy: 0.9538 - val_loss: 0.4149 - val_categorical_accuracy: 0.8125\n",
      "Epoch 31/100\n",
      "652/652 [==============================] - 92s 141ms/step - loss: 0.1674 - categorical_accuracy: 0.9494 - val_loss: 0.4866 - val_categorical_accuracy: 0.8125\n",
      "Epoch 32/100\n",
      "652/652 [==============================] - 92s 140ms/step - loss: 0.1622 - categorical_accuracy: 0.9503 - val_loss: 0.4470 - val_categorical_accuracy: 0.8125\n",
      "Epoch 33/100\n",
      "652/652 [==============================] - 92s 141ms/step - loss: 0.1589 - categorical_accuracy: 0.9555 - val_loss: 0.5039 - val_categorical_accuracy: 0.6875\n",
      "Epoch 34/100\n",
      "652/652 [==============================] - 92s 141ms/step - loss: 0.1474 - categorical_accuracy: 0.9540 - val_loss: 0.5336 - val_categorical_accuracy: 0.7500\n",
      "Epoch 35/100\n",
      "652/652 [==============================] - 92s 141ms/step - loss: 0.1533 - categorical_accuracy: 0.9505 - val_loss: 0.6537 - val_categorical_accuracy: 0.6250\n",
      "Epoch 36/100\n",
      "652/652 [==============================] - 92s 141ms/step - loss: 0.1514 - categorical_accuracy: 0.9548 - val_loss: 1.0283 - val_categorical_accuracy: 0.6250\n",
      "Epoch 37/100\n",
      "652/652 [==============================] - 92s 141ms/step - loss: 0.1487 - categorical_accuracy: 0.9538 - val_loss: 0.4670 - val_categorical_accuracy: 0.8125\n",
      "Epoch 38/100\n",
      "652/652 [==============================] - 92s 141ms/step - loss: 0.1480 - categorical_accuracy: 0.9544 - val_loss: 0.3613 - val_categorical_accuracy: 0.8750\n",
      "Epoch 39/100\n",
      "652/652 [==============================] - 92s 141ms/step - loss: 0.1425 - categorical_accuracy: 0.9561 - val_loss: 0.5014 - val_categorical_accuracy: 0.7500\n",
      "Epoch 40/100\n",
      "652/652 [==============================] - 92s 141ms/step - loss: 0.1395 - categorical_accuracy: 0.9605 - val_loss: 0.4011 - val_categorical_accuracy: 0.8750\n",
      "Epoch 41/100\n",
      "652/652 [==============================] - 92s 141ms/step - loss: 0.1354 - categorical_accuracy: 0.9578 - val_loss: 0.4819 - val_categorical_accuracy: 0.8125\n",
      "Epoch 42/100\n",
      "652/652 [==============================] - 92s 141ms/step - loss: 0.1403 - categorical_accuracy: 0.9607 - val_loss: 0.4025 - val_categorical_accuracy: 0.7500\n",
      "Epoch 43/100\n",
      "652/652 [==============================] - 92s 140ms/step - loss: 0.1339 - categorical_accuracy: 0.9615 - val_loss: 0.5927 - val_categorical_accuracy: 0.7500\n",
      "Epoch 44/100\n",
      "652/652 [==============================] - 92s 140ms/step - loss: 0.1424 - categorical_accuracy: 0.9559 - val_loss: 0.6681 - val_categorical_accuracy: 0.6875\n",
      "Epoch 45/100\n",
      "652/652 [==============================] - 92s 141ms/step - loss: 0.1403 - categorical_accuracy: 0.9565 - val_loss: 0.4900 - val_categorical_accuracy: 0.7500\n",
      "Epoch 46/100\n",
      "652/652 [==============================] - 92s 141ms/step - loss: 0.1389 - categorical_accuracy: 0.9622 - val_loss: 0.4567 - val_categorical_accuracy: 0.8750\n",
      "Epoch 47/100\n",
      "652/652 [==============================] - 92s 141ms/step - loss: 0.1289 - categorical_accuracy: 0.9651 - val_loss: 0.9468 - val_categorical_accuracy: 0.7500\n",
      "Epoch 48/100\n",
      "652/652 [==============================] - 92s 142ms/step - loss: 0.1332 - categorical_accuracy: 0.9597 - val_loss: 0.4279 - val_categorical_accuracy: 0.8125\n",
      "Epoch 49/100\n",
      "652/652 [==============================] - 92s 141ms/step - loss: 0.1299 - categorical_accuracy: 0.9584 - val_loss: 0.4531 - val_categorical_accuracy: 0.8125\n",
      "Epoch 50/100\n",
      "652/652 [==============================] - 92s 141ms/step - loss: 0.1289 - categorical_accuracy: 0.9630 - val_loss: 0.4564 - val_categorical_accuracy: 0.7500\n",
      "Epoch 51/100\n",
      "652/652 [==============================] - 92s 141ms/step - loss: 0.1241 - categorical_accuracy: 0.9634 - val_loss: 1.0786 - val_categorical_accuracy: 0.5625\n",
      "Epoch 52/100\n",
      "652/652 [==============================] - 92s 141ms/step - loss: 0.1321 - categorical_accuracy: 0.9628 - val_loss: 0.2767 - val_categorical_accuracy: 0.8750\n",
      "Epoch 53/100\n",
      "652/652 [==============================] - 92s 141ms/step - loss: 0.1300 - categorical_accuracy: 0.9628 - val_loss: 0.5197 - val_categorical_accuracy: 0.8125\n",
      "Epoch 54/100\n",
      "652/652 [==============================] - 92s 141ms/step - loss: 0.1252 - categorical_accuracy: 0.9638 - val_loss: 0.6035 - val_categorical_accuracy: 0.7500\n",
      "Epoch 55/100\n",
      "652/652 [==============================] - 92s 141ms/step - loss: 0.1202 - categorical_accuracy: 0.9663 - val_loss: 0.2847 - val_categorical_accuracy: 0.8750\n",
      "Epoch 56/100\n",
      "652/652 [==============================] - 92s 141ms/step - loss: 0.1272 - categorical_accuracy: 0.9638 - val_loss: 0.7137 - val_categorical_accuracy: 0.6875\n",
      "Epoch 57/100\n",
      "652/652 [==============================] - 92s 141ms/step - loss: 0.1213 - categorical_accuracy: 0.9645 - val_loss: 0.3636 - val_categorical_accuracy: 0.8125\n",
      "Epoch 58/100\n",
      "652/652 [==============================] - 92s 141ms/step - loss: 0.1273 - categorical_accuracy: 0.9615 - val_loss: 0.4837 - val_categorical_accuracy: 0.8125\n",
      "Epoch 59/100\n",
      "652/652 [==============================] - 92s 141ms/step - loss: 0.1233 - categorical_accuracy: 0.9624 - val_loss: 0.6670 - val_categorical_accuracy: 0.6250\n",
      "Epoch 60/100\n",
      "652/652 [==============================] - 92s 141ms/step - loss: 0.1232 - categorical_accuracy: 0.9638 - val_loss: 0.5351 - val_categorical_accuracy: 0.7500\n",
      "Epoch 61/100\n",
      "652/652 [==============================] - 92s 141ms/step - loss: 0.1116 - categorical_accuracy: 0.9699 - val_loss: 0.2774 - val_categorical_accuracy: 0.9375\n",
      "Epoch 62/100\n",
      "652/652 [==============================] - 92s 141ms/step - loss: 0.1229 - categorical_accuracy: 0.9668 - val_loss: 0.5882 - val_categorical_accuracy: 0.6250\n",
      "Epoch 63/100\n",
      "652/652 [==============================] - 92s 141ms/step - loss: 0.1170 - categorical_accuracy: 0.9651 - val_loss: 0.2412 - val_categorical_accuracy: 0.8750\n",
      "Epoch 64/100\n",
      "652/652 [==============================] - 92s 141ms/step - loss: 0.1121 - categorical_accuracy: 0.9678 - val_loss: 0.4912 - val_categorical_accuracy: 0.7500\n",
      "Epoch 65/100\n",
      "652/652 [==============================] - 92s 141ms/step - loss: 0.1166 - categorical_accuracy: 0.9659 - val_loss: 0.3658 - val_categorical_accuracy: 0.8125\n",
      "Epoch 66/100\n",
      "652/652 [==============================] - 92s 141ms/step - loss: 0.1192 - categorical_accuracy: 0.9649 - val_loss: 0.3832 - val_categorical_accuracy: 0.8125\n",
      "Epoch 67/100\n",
      "652/652 [==============================] - 92s 141ms/step - loss: 0.1119 - categorical_accuracy: 0.9682 - val_loss: 0.5329 - val_categorical_accuracy: 0.6875\n",
      "Epoch 68/100\n",
      "652/652 [==============================] - 92s 141ms/step - loss: 0.1087 - categorical_accuracy: 0.9678 - val_loss: 0.2840 - val_categorical_accuracy: 0.8125\n",
      "Epoch 69/100\n",
      "652/652 [==============================] - 92s 141ms/step - loss: 0.1105 - categorical_accuracy: 0.9682 - val_loss: 0.5326 - val_categorical_accuracy: 0.7500\n",
      "Epoch 70/100\n",
      "652/652 [==============================] - 92s 141ms/step - loss: 0.1126 - categorical_accuracy: 0.9668 - val_loss: 0.4186 - val_categorical_accuracy: 0.8125\n",
      "Epoch 71/100\n",
      "652/652 [==============================] - 92s 141ms/step - loss: 0.1078 - categorical_accuracy: 0.9695 - val_loss: 0.4166 - val_categorical_accuracy: 0.8125\n",
      "Epoch 72/100\n",
      "652/652 [==============================] - 92s 141ms/step - loss: 0.1152 - categorical_accuracy: 0.9682 - val_loss: 0.4012 - val_categorical_accuracy: 0.7500\n",
      "Epoch 73/100\n",
      "652/652 [==============================] - 92s 141ms/step - loss: 0.1043 - categorical_accuracy: 0.9701 - val_loss: 0.5374 - val_categorical_accuracy: 0.7500\n",
      "Epoch 74/100\n",
      "652/652 [==============================] - 92s 141ms/step - loss: 0.1069 - categorical_accuracy: 0.9689 - val_loss: 1.0778 - val_categorical_accuracy: 0.6250\n",
      "Epoch 75/100\n",
      "652/652 [==============================] - 92s 141ms/step - loss: 0.1081 - categorical_accuracy: 0.9672 - val_loss: 0.7283 - val_categorical_accuracy: 0.6250\n",
      "Epoch 76/100\n",
      "652/652 [==============================] - 92s 141ms/step - loss: 0.1103 - categorical_accuracy: 0.9657 - val_loss: 0.4366 - val_categorical_accuracy: 0.7500\n",
      "Epoch 77/100\n",
      "652/652 [==============================] - 92s 141ms/step - loss: 0.1037 - categorical_accuracy: 0.9711 - val_loss: 0.8168 - val_categorical_accuracy: 0.6875\n",
      "Epoch 78/100\n",
      "652/652 [==============================] - 92s 141ms/step - loss: 0.1061 - categorical_accuracy: 0.9684 - val_loss: 0.2102 - val_categorical_accuracy: 0.9375\n",
      "Epoch 79/100\n",
      "652/652 [==============================] - 92s 141ms/step - loss: 0.1123 - categorical_accuracy: 0.9649 - val_loss: 0.5303 - val_categorical_accuracy: 0.7500\n",
      "Epoch 80/100\n",
      "652/652 [==============================] - 92s 141ms/step - loss: 0.1093 - categorical_accuracy: 0.9686 - val_loss: 0.2017 - val_categorical_accuracy: 0.9375\n",
      "Epoch 81/100\n",
      "652/652 [==============================] - 92s 141ms/step - loss: 0.0992 - categorical_accuracy: 0.9728 - val_loss: 0.5541 - val_categorical_accuracy: 0.8125\n",
      "Epoch 82/100\n",
      "652/652 [==============================] - 92s 141ms/step - loss: 0.1051 - categorical_accuracy: 0.9688 - val_loss: 0.2184 - val_categorical_accuracy: 0.9375\n",
      "Epoch 83/100\n",
      "652/652 [==============================] - 92s 141ms/step - loss: 0.1056 - categorical_accuracy: 0.9699 - val_loss: 0.2535 - val_categorical_accuracy: 0.9375\n",
      "Epoch 84/100\n",
      "652/652 [==============================] - 94s 144ms/step - loss: 0.1037 - categorical_accuracy: 0.9682 - val_loss: 0.6847 - val_categorical_accuracy: 0.7500\n",
      "Epoch 85/100\n",
      "652/652 [==============================] - 92s 141ms/step - loss: 0.0999 - categorical_accuracy: 0.9707 - val_loss: 0.2019 - val_categorical_accuracy: 0.9375\n",
      "Epoch 86/100\n",
      "652/652 [==============================] - 92s 141ms/step - loss: 0.0985 - categorical_accuracy: 0.9701 - val_loss: 0.2831 - val_categorical_accuracy: 0.8750\n",
      "Epoch 87/100\n",
      "652/652 [==============================] - 92s 141ms/step - loss: 0.0958 - categorical_accuracy: 0.9747 - val_loss: 0.4131 - val_categorical_accuracy: 0.8125\n",
      "Epoch 88/100\n",
      "652/652 [==============================] - 92s 141ms/step - loss: 0.1004 - categorical_accuracy: 0.9739 - val_loss: 0.2730 - val_categorical_accuracy: 0.8750\n",
      "Epoch 89/100\n",
      "652/652 [==============================] - 92s 141ms/step - loss: 0.0983 - categorical_accuracy: 0.9728 - val_loss: 0.2968 - val_categorical_accuracy: 1.0000\n",
      "Epoch 90/100\n",
      "652/652 [==============================] - 92s 141ms/step - loss: 0.0953 - categorical_accuracy: 0.9718 - val_loss: 0.2861 - val_categorical_accuracy: 0.8750\n",
      "Epoch 91/100\n",
      "652/652 [==============================] - 92s 141ms/step - loss: 0.0951 - categorical_accuracy: 0.9705 - val_loss: 0.5537 - val_categorical_accuracy: 0.8125\n",
      "Epoch 92/100\n",
      "652/652 [==============================] - 92s 141ms/step - loss: 0.1000 - categorical_accuracy: 0.9718 - val_loss: 0.2511 - val_categorical_accuracy: 0.8750\n",
      "Epoch 93/100\n",
      "652/652 [==============================] - 92s 141ms/step - loss: 0.0934 - categorical_accuracy: 0.9728 - val_loss: 0.5671 - val_categorical_accuracy: 0.8125\n",
      "Epoch 94/100\n",
      "652/652 [==============================] - 92s 141ms/step - loss: 0.0977 - categorical_accuracy: 0.9745 - val_loss: 0.3814 - val_categorical_accuracy: 0.9375\n"
     ]
    },
    {
     "name": "stdout",
     "output_type": "stream",
     "text": [
      "Epoch 95/100\n",
      "652/652 [==============================] - 92s 141ms/step - loss: 0.0909 - categorical_accuracy: 0.9734 - val_loss: 0.6791 - val_categorical_accuracy: 0.6875\n",
      "Epoch 96/100\n",
      "652/652 [==============================] - 92s 141ms/step - loss: 0.0981 - categorical_accuracy: 0.9728 - val_loss: 0.3370 - val_categorical_accuracy: 0.8125\n",
      "Epoch 97/100\n",
      "652/652 [==============================] - 92s 141ms/step - loss: 0.0979 - categorical_accuracy: 0.9707 - val_loss: 0.6052 - val_categorical_accuracy: 0.6875\n",
      "Epoch 98/100\n",
      "652/652 [==============================] - 112s 171ms/step - loss: 0.1001 - categorical_accuracy: 0.9735 - val_loss: 0.3743 - val_categorical_accuracy: 0.8750\n",
      "Epoch 99/100\n",
      "652/652 [==============================] - 120s 184ms/step - loss: 0.0962 - categorical_accuracy: 0.9755 - val_loss: 0.8546 - val_categorical_accuracy: 0.6875\n",
      "Epoch 100/100\n",
      "652/652 [==============================] - 120s 185ms/step - loss: 0.1028 - categorical_accuracy: 0.9722 - val_loss: 0.2958 - val_categorical_accuracy: 0.9375\n"
     ]
    }
   ],
   "source": [
    "import math\n",
    "\n",
    "history = pneumoniaNetModel.fit_generator(\n",
    "      training_set,\n",
    "      steps_per_epoch=math.ceil(number_of_training_samples//batch_size),\n",
    "      epochs=no_of_epochs,\n",
    "      callbacks=callbacks_list,\n",
    "      validation_data=validation_set,\n",
    "      validation_steps=math.ceil(number_of_validation_samples//batch_size))"
   ]
  },
  {
   "cell_type": "markdown",
   "metadata": {},
   "source": [
    "## Visualizing the Training Process"
   ]
  },
  {
   "cell_type": "code",
   "execution_count": 8,
   "metadata": {},
   "outputs": [
    {
     "data": {
      "image/png": "[encoded data removed]",
      "text/plain": [
       "<Figure size 432x288 with 1 Axes>"
      ]
     },
     "metadata": {
      "needs_background": "light"
     },
     "output_type": "display_data"
    },
    {
     "data": {
      "image/png": "[encoded data removed]",
      "text/plain": [
       "<Figure size 432x288 with 1 Axes>"
      ]
     },
     "metadata": {
      "needs_background": "light"
     },
     "output_type": "display_data"
    }
   ],
   "source": [
    "import matplotlib.pyplot as plt\n",
    "%matplotlib inline\n",
    "\n",
    "acc=history.history['categorical_accuracy']\n",
    "val_acc=history.history['val_categorical_accuracy']\n",
    "loss=history.history['loss']\n",
    "val_loss=history.history['val_loss']\n",
    "epochs=range(1,len(acc)+1)\n",
    "plt.xlabel('Epochs')\n",
    "plt.ylabel('Accuracy')\n",
    "plt.plot(epochs, acc, 'bo', label='Training acc')\n",
    "plt.plot(epochs, val_acc, 'b', label='Validation acc')\n",
    "plt.title('Training and validation accuracy')\n",
    "plt.legend()\n",
    "plt.figure()\n",
    "\n",
    "plt.plot(epochs, loss, 'bo', label='Training loss')\n",
    "plt.plot(epochs, val_loss, 'b', label='Validation loss')\n",
    "plt.title('Training and validation loss')\n",
    "plt.xlabel('Epochs')\n",
    "plt.ylabel('Loss')\n",
    "plt.legend()\n",
    "plt.show()"
   ]
  },
  {
   "cell_type": "markdown",
   "metadata": {},
   "source": [
    "## Loading the Best Model"
   ]
  },
  {
   "cell_type": "code",
   "execution_count": 9,
   "metadata": {},
   "outputs": [],
   "source": [
    "from tensorflow.python.keras.models import load_model\n",
    "\n",
    "best_model = load_model('PneumoniaNet3.h5')"
   ]
  },
  {
   "cell_type": "markdown",
   "metadata": {},
   "source": [
    "## Evaluating the Best Model"
   ]
  },
  {
   "cell_type": "code",
   "execution_count": 10,
   "metadata": {},
   "outputs": [
    {
     "name": "stdout",
     "output_type": "stream",
     "text": [
      "78/78 [==============================] - 12s 149ms/step - loss: 0.1846 - categorical_accuracy: 0.9391\n",
      "Test-set classification accuracy: 93.91%\n"
     ]
    }
   ],
   "source": [
    "steps_test=int(number_of_test_samples/batch_size)\n",
    "result = best_model.evaluate_generator(test_set, steps=steps_test,verbose=1)\n",
    "print(\"Test-set classification accuracy: {0:.2%}\".format(result[1]))"
   ]
  },
  {
   "cell_type": "markdown",
   "metadata": {},
   "source": [
    "## Calculating Precision, Specificity and Sensitivity (Recall) values for the model\n",
    "*Precision-Recall* is a useful measure of success of prediction when the classes are very imbalanced. High *precision* relates to a low false positive rate, and high *recall* relates to a low false negative rate.\n",
    "\n",
    "Precision is defined as the number of true positives over the number of true positives plus the number of false positives. Recall is defined as the number of true positives over the number of true positives plus the number of false negatives. Please see the [link](https://scikit-learn.org/stable/auto_examples/model_selection/plot_precision_recall.html) for details.\n",
    "\n",
    "Another way of assessing a binary classification model is to compute the *sensitivity* (also called the true positive rate or the recall) and *specificity* (also called the true negative rate) of the model. *Sensitivity* indicates the percentage of sick people who are correctly identified as having the condition. *Specificity* indicates the percentage of healthy people who are correctly identified as not having the condition.\n",
    "\n",
    "But first we prepare our test data, so that later we can draw the *confusion matrix* as well as calculate *precision*, *specificity* and *sensitivity (recall)* of the model."
   ]
  },
  {
   "cell_type": "code",
   "execution_count": 11,
   "metadata": {},
   "outputs": [
    {
     "name": "stdout",
     "output_type": "stream",
     "text": [
      "Total number of test examples:  (624, 150, 150, 3)\n",
      "Total number of labels: (624, 1)\n"
     ]
    }
   ],
   "source": [
    "# Preparing test data\n",
    "import glob\n",
    "from pathlib import Path\n",
    "from tensorflow.python.keras.utils import to_categorical\n",
    "import cv2\n",
    "\n",
    "normal_cases_dir = Path('D:\\\\TensorFlow Programs\\\\Diagnosis of Pneumonia based on Chest X-Rays\\\\chest-xray-pneumonia\\\\chest_xray\\\\chest_xray\\\\test\\\\NORMAL')\n",
    "pneumonia_cases_dir = Path('D:\\\\TensorFlow Programs\\\\Diagnosis of Pneumonia based on Chest X-Rays\\\\chest-xray-pneumonia\\\\chest_xray\\\\chest_xray\\\\test\\\\PNEUMONIA')\n",
    "\n",
    "normal_cases = normal_cases_dir.glob('*.jpeg')\n",
    "pneumonia_cases = pneumonia_cases_dir.glob('*.jpeg')\n",
    "\n",
    "test_data = []\n",
    "test_labels = []\n",
    "\n",
    "for img in normal_cases:\n",
    "    img = cv2.imread(str(img))\n",
    "    img = cv2.resize(img, (image_width,image_height))\n",
    "    if img.shape[2] ==1:\n",
    "        img = np.dstack([img, img, img])\n",
    "    else:\n",
    "        img = cv2.cvtColor(img, cv2.COLOR_BGR2RGB)\n",
    "    img = img.astype(np.float32)/255.\n",
    "    label = [0]\n",
    "    test_data.append(img)\n",
    "    test_labels.append(label)\n",
    "                      \n",
    "for img in pneumonia_cases:\n",
    "    img = cv2.imread(str(img))\n",
    "    img = cv2.resize(img, (image_width,image_height))\n",
    "    if img.shape[2] ==1:\n",
    "        img = np.dstack([img, img, img])\n",
    "    else:\n",
    "        img = cv2.cvtColor(img, cv2.COLOR_BGR2RGB)\n",
    "    img = img.astype(np.float32)/255.\n",
    "    label = [1]\n",
    "    test_data.append(img)\n",
    "    test_labels.append(label)\n",
    "    \n",
    "\n",
    "test_data = np.array(test_data)\n",
    "test_labels = np.array(test_labels)\n",
    "test_labels_one_hot_encoding=to_categorical(test_labels)\n",
    "\n",
    "print(\"Total number of test examples: \", test_data.shape)\n",
    "print(\"Total number of labels:\", test_labels.shape)"
   ]
  },
  {
   "cell_type": "code",
   "execution_count": 12,
   "metadata": {},
   "outputs": [
    {
     "name": "stdout",
     "output_type": "stream",
     "text": [
      "624/624 [==============================] - 3s 5ms/sample - loss: 0.1831 - categorical_accuracy: 0.9375\n",
      "Loss on test set:  0.18307679413984984\n",
      "Accuracy on test set:  0.9375\n"
     ]
    }
   ],
   "source": [
    "# Evaluation on test dataset\n",
    "\n",
    "test_loss, test_score = best_model.evaluate(test_data, test_labels_one_hot_encoding, batch_size=16)\n",
    "print(\"Loss on test set: \", test_loss)\n",
    "print(\"Accuracy on test set: \", test_score)"
   ]
  },
  {
   "cell_type": "code",
   "execution_count": 13,
   "metadata": {},
   "outputs": [
    {
     "name": "stdout",
     "output_type": "stream",
     "text": [
      "624/624 [==============================] - 2s 4ms/sample\n",
      "(624, 1)\n",
      "(624, 1)\n"
     ]
    }
   ],
   "source": [
    "# Get predictions\n",
    "preds = best_model.predict(test_data, batch_size=16,verbose=1)\n",
    "preds=np.around(preds)\n",
    "orig_test_labels=test_labels\n",
    "predicted_labels=np.argmax(preds,axis=1)\n",
    "predicted_labels=np.reshape(predicted_labels,(624,1))\n",
    "print(predicted_labels.shape)\n",
    "print(orig_test_labels.shape)"
   ]
  },
  {
   "cell_type": "code",
   "execution_count": 14,
   "metadata": {},
   "outputs": [
    {
     "data": {
      "text/plain": [
       "<Figure size 432x288 with 0 Axes>"
      ]
     },
     "metadata": {},
     "output_type": "display_data"
    },
    {
     "data": {
      "image/png": "[encoded data removed]",
      "text/plain": [
       "<Figure size 864x576 with 1 Axes>"
      ]
     },
     "metadata": {
      "needs_background": "light"
     },
     "output_type": "display_data"
    }
   ],
   "source": [
    "import matplotlib.pyplot as plt\n",
    "%matplotlib inline\n",
    "# Get the confusion matrix\n",
    "from sklearn.metrics import confusion_matrix\n",
    "from mlxtend.plotting import plot_confusion_matrix\n",
    "\n",
    "cm  = confusion_matrix(orig_test_labels, predicted_labels)\n",
    "plt.figure()\n",
    "plot_confusion_matrix(cm,figsize=(12,8), hide_ticks=True,cmap=plt.cm.Blues)\n",
    "plt.xticks(range(2), ['Normal', 'Pneumonia'], fontsize=16)\n",
    "plt.yticks(range(2), ['Normal', 'Pneumonia'], fontsize=16)\n",
    "plt.show()"
   ]
  },
  {
   "cell_type": "code",
   "execution_count": 15,
   "metadata": {},
   "outputs": [
    {
     "name": "stdout",
     "output_type": "stream",
     "text": [
      "Sensitivity (Recall) of the model is 0.954\n",
      "Specificity of the model is 0.910\n",
      "Precision of the model is 0.947\n"
     ]
    }
   ],
   "source": [
    "# Calculate Precision and Recall\n",
    "tn, fp, fn, tp = cm.ravel()\n",
    "\n",
    "precision = tp/(tp+fp)\n",
    "recall = tp/(tp+fn)\n",
    "specificity=tn/(tn+fp)\n",
    "\n",
    "print(\"Sensitivity (Recall) of the model is {:.3f}\".format(recall))\n",
    "print(\"Specificity of the model is {:.3f}\".format(specificity))\n",
    "print(\"Precision of the model is {:.3f}\".format(precision))"
   ]
  },
  {
   "cell_type": "markdown",
   "metadata": {},
   "source": [
    "So, this model has a `95.4%` sensitivity (recall), `91.0%` specificity and `94.7%` precision."
   ]
  },
  {
   "cell_type": "markdown",
   "metadata": {},
   "source": [
    "## ROC Curve and AUC for the model\n",
    "**Receiver operating characteristic** curve (a.k.a ROC) is a graphic plot that illustrates the diagnostic ability of a binary classifier system as its discrimination threshold is varied. The critical point here is \"binary classifier\" and \"varying threshold\". **Area Under the Curve** (a.k.a. AUC) is the percentage of the area that is under this ROC curve, ranging between 0 and 1.\n",
    "ROC is a great way to visualize the performance of a binary classifier, and AUC is one single number to summarize a classifier's performance. The higher the AUC is, the better the classifier."
   ]
  },
  {
   "cell_type": "code",
   "execution_count": 16,
   "metadata": {},
   "outputs": [],
   "source": [
    "from sklearn.metrics import roc_curve\n",
    "\n",
    "probs = best_model.predict_proba(test_data)\n",
    "preds = probs[:,1]\n",
    "fpr, tpr, thresholds = roc_curve(test_labels.ravel(), preds)"
   ]
  },
  {
   "cell_type": "code",
   "execution_count": 17,
   "metadata": {},
   "outputs": [],
   "source": [
    "from sklearn.metrics import auc\n",
    "auc_var = auc(fpr, tpr)"
   ]
  },
  {
   "cell_type": "code",
   "execution_count": 18,
   "metadata": {},
   "outputs": [
    {
     "data": {
      "image/png": "[encoded data removed]",
      "text/plain": [
       "<Figure size 432x288 with 1 Axes>"
      ]
     },
     "metadata": {
      "needs_background": "light"
     },
     "output_type": "display_data"
    }
   ],
   "source": [
    "import matplotlib.pyplot as plt\n",
    "%matplotlib inline\n",
    "plt.figure(1)\n",
    "plt.plot([0, 1], [0, 1], 'k--')\n",
    "plt.plot(fpr, tpr, label='PneumoniaNet (area = {:.3f})'.format(auc_var))\n",
    "plt.xlabel('False positive rate')\n",
    "plt.ylabel('True positive rate')\n",
    "plt.title('ROC curve')\n",
    "plt.legend(loc='best')\n",
    "plt.show()"
   ]
  },
  {
   "cell_type": "markdown",
   "metadata": {},
   "source": [
    "## Precision-Recall Curve for the Model"
   ]
  },
  {
   "cell_type": "code",
   "execution_count": 19,
   "metadata": {},
   "outputs": [],
   "source": [
    "from sklearn.metrics import precision_recall_curve\n",
    "from sklearn.metrics import f1_score\n",
    "from sklearn.metrics import average_precision_score"
   ]
  },
  {
   "cell_type": "code",
   "execution_count": 20,
   "metadata": {},
   "outputs": [],
   "source": [
    "precision, recall, thresholds = precision_recall_curve(test_labels.ravel(), preds)"
   ]
  },
  {
   "cell_type": "code",
   "execution_count": 21,
   "metadata": {},
   "outputs": [],
   "source": [
    "auc_var2 = auc(recall, precision)"
   ]
  },
  {
   "cell_type": "code",
   "execution_count": 22,
   "metadata": {},
   "outputs": [
    {
     "data": {
      "image/png": "[encoded data removed]",
      "text/plain": [
       "<Figure size 432x288 with 1 Axes>"
      ]
     },
     "metadata": {
      "needs_background": "light"
     },
     "output_type": "display_data"
    }
   ],
   "source": [
    "plt.figure()\n",
    "plt.plot(recall, precision, label='PneumoniaNet (area = {:.3f})'.format(auc_var2))\n",
    "plt.xlabel('Recall')\n",
    "plt.ylabel('Precision')\n",
    "plt.title('Precision-Recall curve')\n",
    "plt.legend(loc='best')\n",
    "plt.show()"
   ]
  },
  {
   "cell_type": "code",
   "execution_count": 23,
   "metadata": {},
   "outputs": [
    {
     "name": "stdout",
     "output_type": "stream",
     "text": [
      "Average Precision Score: 0.991\n"
     ]
    }
   ],
   "source": [
    "print('Average Precision Score: {:.3f}'.format(average_precision_score(test_labels.ravel(), preds)))"
   ]
  },
  {
   "cell_type": "code",
   "execution_count": 24,
   "metadata": {},
   "outputs": [
    {
     "name": "stdout",
     "output_type": "stream",
     "text": [
      "F1 Score: 0.950\n"
     ]
    }
   ],
   "source": [
    "print(\"F1 Score: {:.3f}\".format(f1_score(test_labels.ravel(),predicted_labels.ravel())))"
   ]
  }
 ],
 "metadata": {
  "kernelspec": {
   "display_name": "Python 3",
   "language": "python",
   "name": "python3"
  },
  "language_info": {
   "codemirror_mode": {
    "name": "ipython",
    "version": 3
   },
   "file_extension": ".py",
   "mimetype": "text/x-python",
   "name": "python",
   "nbconvert_exporter": "python",
   "pygments_lexer": "ipython3",
   "version": "3.6.8"
  }
 },
 "nbformat": 4,
 "nbformat_minor": 2
}
