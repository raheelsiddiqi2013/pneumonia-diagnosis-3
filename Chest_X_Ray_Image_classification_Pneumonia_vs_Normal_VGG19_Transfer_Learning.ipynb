{
 "cells": [
  {
   "cell_type": "markdown",
   "metadata": {},
   "source": [
    "# Automated Chest X-ray based Pneumonia Diagnosis using Data Augmentation and VGG19 based Transfer Learning \n",
    "The author of this notebook is **Dr Raheel Siddiqi** on *25-08-2019*. He is a *Senior Assistant Professor* at Bahria University, Karachi Campus, Pakistan. His research interests include *Medical Imaging*, *Computer Vision* and *Deep Learning*.\n",
    "\n",
    "The objective of the experiment (presented in this notebook) is to evaluate the effectiveness of **VGG19** pre-trained model when employed to diagnose Pneumonia (based on Chest X-ray images). The diagnosis process comprises of classifying Chest X-ray images into one of the two classes: (a) Normal, (b) Pneumonia.\n",
    "\n",
    "The dataset is downloded from [kaggle.com](https://www.kaggle.com/paultimothymooney/chest-xray-pneumonia). The dataset contains 5,863 X-Ray images (JPEG) and 2 categories (Pneumonia/Normal)."
   ]
  },
  {
   "cell_type": "markdown",
   "metadata": {},
   "source": [
    "## Tensorflow and Keras version used"
   ]
  },
  {
   "cell_type": "code",
   "execution_count": 1,
   "metadata": {},
   "outputs": [
    {
     "name": "stdout",
     "output_type": "stream",
     "text": [
      "Tensorflow Version:  1.13.1\n",
      "Keras Version:  2.2.4-tf\n"
     ]
    }
   ],
   "source": [
    "import tensorflow as tf\n",
    "from tensorflow.python import keras\n",
    "\n",
    "print('Tensorflow Version: ', tf.__version__)\n",
    "print('Keras Version: ', keras.__version__)"
   ]
  },
  {
   "cell_type": "markdown",
   "metadata": {},
   "source": [
    "## Setting up the Model"
   ]
  },
  {
   "cell_type": "code",
   "execution_count": 2,
   "metadata": {},
   "outputs": [
    {
     "name": "stdout",
     "output_type": "stream",
     "text": [
      "WARNING:tensorflow:From C:\\Users\\Raheel\\Anaconda3\\envs\\EnvName\\lib\\site-packages\\tensorflow\\python\\ops\\resource_variable_ops.py:435: colocate_with (from tensorflow.python.framework.ops) is deprecated and will be removed in a future version.\n",
      "Instructions for updating:\n",
      "Colocations handled automatically by placer.\n"
     ]
    }
   ],
   "source": [
    "from tensorflow.python.keras.applications import VGG19\n",
    "\n",
    "conv_base=VGG19(weights='imagenet',include_top=False,input_shape=(150,150,3))"
   ]
  },
  {
   "cell_type": "code",
   "execution_count": 3,
   "metadata": {},
   "outputs": [
    {
     "name": "stdout",
     "output_type": "stream",
     "text": [
      "_________________________________________________________________\n",
      "Layer (type)                 Output Shape              Param #   \n",
      "=================================================================\n",
      "input_1 (InputLayer)         (None, 150, 150, 3)       0         \n",
      "_________________________________________________________________\n",
      "block1_conv1 (Conv2D)        (None, 150, 150, 64)      1792      \n",
      "_________________________________________________________________\n",
      "block1_conv2 (Conv2D)        (None, 150, 150, 64)      36928     \n",
      "_________________________________________________________________\n",
      "block1_pool (MaxPooling2D)   (None, 75, 75, 64)        0         \n",
      "_________________________________________________________________\n",
      "block2_conv1 (Conv2D)        (None, 75, 75, 128)       73856     \n",
      "_________________________________________________________________\n",
      "block2_conv2 (Conv2D)        (None, 75, 75, 128)       147584    \n",
      "_________________________________________________________________\n",
      "block2_pool (MaxPooling2D)   (None, 37, 37, 128)       0         \n",
      "_________________________________________________________________\n",
      "block3_conv1 (Conv2D)        (None, 37, 37, 256)       295168    \n",
      "_________________________________________________________________\n",
      "block3_conv2 (Conv2D)        (None, 37, 37, 256)       590080    \n",
      "_________________________________________________________________\n",
      "block3_conv3 (Conv2D)        (None, 37, 37, 256)       590080    \n",
      "_________________________________________________________________\n",
      "block3_conv4 (Conv2D)        (None, 37, 37, 256)       590080    \n",
      "_________________________________________________________________\n",
      "block3_pool (MaxPooling2D)   (None, 18, 18, 256)       0         \n",
      "_________________________________________________________________\n",
      "block4_conv1 (Conv2D)        (None, 18, 18, 512)       1180160   \n",
      "_________________________________________________________________\n",
      "block4_conv2 (Conv2D)        (None, 18, 18, 512)       2359808   \n",
      "_________________________________________________________________\n",
      "block4_conv3 (Conv2D)        (None, 18, 18, 512)       2359808   \n",
      "_________________________________________________________________\n",
      "block4_conv4 (Conv2D)        (None, 18, 18, 512)       2359808   \n",
      "_________________________________________________________________\n",
      "block4_pool (MaxPooling2D)   (None, 9, 9, 512)         0         \n",
      "_________________________________________________________________\n",
      "block5_conv1 (Conv2D)        (None, 9, 9, 512)         2359808   \n",
      "_________________________________________________________________\n",
      "block5_conv2 (Conv2D)        (None, 9, 9, 512)         2359808   \n",
      "_________________________________________________________________\n",
      "block5_conv3 (Conv2D)        (None, 9, 9, 512)         2359808   \n",
      "_________________________________________________________________\n",
      "block5_conv4 (Conv2D)        (None, 9, 9, 512)         2359808   \n",
      "_________________________________________________________________\n",
      "block5_pool (MaxPooling2D)   (None, 4, 4, 512)         0         \n",
      "=================================================================\n",
      "Total params: 20,024,384\n",
      "Trainable params: 20,024,384\n",
      "Non-trainable params: 0\n",
      "_________________________________________________________________\n"
     ]
    }
   ],
   "source": [
    "conv_base.summary()"
   ]
  },
  {
   "cell_type": "code",
   "execution_count": 4,
   "metadata": {},
   "outputs": [],
   "source": [
    "import os\n",
    "import numpy as np\n",
    "from tensorflow.python.keras.preprocessing.image import ImageDataGenerator\n",
    "from tensorflow.python.keras import models\n",
    "from tensorflow.python.keras import layers\n",
    "from tensorflow.python.keras.callbacks import ModelCheckpoint\n",
    "from tensorflow.python.keras import optimizers\n",
    "\n",
    "model = models.Sequential()\n",
    "model.add(conv_base)\n",
    "model.add(layers.Flatten())\n",
    "model.add(layers.Dense(512, activation='relu'))\n",
    "model.add(layers.Dense(2, activation='softmax'))\n",
    "model.compile(loss='categorical_crossentropy',optimizer=optimizers.Adam(lr=1e-4),metrics=['categorical_accuracy'])\n",
    "filepath=\"VGG19_Chest_X_Ray_Image_Classification_Pneumonia_vs_Normal_best_model.h5\"\n",
    "checkpoint = ModelCheckpoint(filepath, save_best_only=True)\n",
    "callbacks_list = [checkpoint]"
   ]
  },
  {
   "cell_type": "code",
   "execution_count": 5,
   "metadata": {},
   "outputs": [
    {
     "name": "stdout",
     "output_type": "stream",
     "text": [
      "_________________________________________________________________\n",
      "Layer (type)                 Output Shape              Param #   \n",
      "=================================================================\n",
      "vgg19 (Model)                (None, 4, 4, 512)         20024384  \n",
      "_________________________________________________________________\n",
      "flatten (Flatten)            (None, 8192)              0         \n",
      "_________________________________________________________________\n",
      "dense (Dense)                (None, 512)               4194816   \n",
      "_________________________________________________________________\n",
      "dense_1 (Dense)              (None, 2)                 1026      \n",
      "=================================================================\n",
      "Total params: 24,220,226\n",
      "Trainable params: 24,220,226\n",
      "Non-trainable params: 0\n",
      "_________________________________________________________________\n"
     ]
    }
   ],
   "source": [
    "model.summary()"
   ]
  },
  {
   "cell_type": "markdown",
   "metadata": {},
   "source": [
    "## Setting up Training and Validation Data for the experiment"
   ]
  },
  {
   "cell_type": "code",
   "execution_count": 6,
   "metadata": {},
   "outputs": [],
   "source": [
    "image_height = 150\n",
    "image_width = 150\n",
    "batch_size = 8\n",
    "no_of_epochs  = 100\n",
    "number_of_training_samples=5216\n",
    "number_of_validation_samples=16\n",
    "number_of_test_samples=624"
   ]
  },
  {
   "cell_type": "code",
   "execution_count": 7,
   "metadata": {},
   "outputs": [],
   "source": [
    "train_dir='D:\\\\TensorFlow Programs\\\\Diagnosis of Pneumonia based on Chest X-Rays\\\\chest-xray-pneumonia\\\\chest_xray\\\\chest_xray\\\\train'\n",
    "validation_dir='D:\\\\TensorFlow Programs\\\\Diagnosis of Pneumonia based on Chest X-Rays\\\\chest-xray-pneumonia\\\\chest_xray\\\\chest_xray\\\\val'\n",
    "test_dir='D:\\\\TensorFlow Programs\\\\Diagnosis of Pneumonia based on Chest X-Rays\\\\chest-xray-pneumonia\\\\chest_xray\\\\chest_xray\\\\test'"
   ]
  },
  {
   "cell_type": "code",
   "execution_count": 8,
   "metadata": {},
   "outputs": [],
   "source": [
    "train_datagen = ImageDataGenerator(rescale=1./255,\n",
    "                                   rotation_range=40,\n",
    "                                   width_shift_range=0.2,\n",
    "                                   height_shift_range=0.2,\n",
    "                                   shear_range=0.2,\n",
    "                                   zoom_range=0.2\n",
    "                                   )\n",
    "\n",
    "validation_datagen = ImageDataGenerator(rescale=1./255)  \n",
    "\n",
    "test_datagen = ImageDataGenerator(rescale=1./255)"
   ]
  },
  {
   "cell_type": "code",
   "execution_count": 9,
   "metadata": {},
   "outputs": [
    {
     "name": "stdout",
     "output_type": "stream",
     "text": [
      "Found 5216 images belonging to 2 classes.\n",
      "Found 16 images belonging to 2 classes.\n",
      "Found 624 images belonging to 2 classes.\n"
     ]
    }
   ],
   "source": [
    "training_set = train_datagen.flow_from_directory(train_dir,target_size=(image_width, image_height),batch_size=batch_size)\n",
    "validation_set = validation_datagen.flow_from_directory(validation_dir,target_size=(image_width, image_height),batch_size=batch_size,shuffle=False)\n",
    "test_set = test_datagen.flow_from_directory(test_dir,target_size=(image_width, image_height),batch_size=batch_size,shuffle=False)"
   ]
  },
  {
   "cell_type": "markdown",
   "metadata": {},
   "source": [
    "## Model Training"
   ]
  },
  {
   "cell_type": "code",
   "execution_count": 10,
   "metadata": {},
   "outputs": [
    {
     "name": "stdout",
     "output_type": "stream",
     "text": [
      "WARNING:tensorflow:From C:\\Users\\Raheel\\Anaconda3\\envs\\EnvName\\lib\\site-packages\\tensorflow\\python\\ops\\math_ops.py:3066: to_int32 (from tensorflow.python.ops.math_ops) is deprecated and will be removed in a future version.\n",
      "Instructions for updating:\n",
      "Use tf.cast instead.\n",
      "Epoch 1/100\n",
      "2/2 [==============================] - 0s 236ms/step - loss: 0.3877 - categorical_accuracy: 0.7500\n",
      "652/652 [==============================] - 195s 299ms/step - loss: 0.3646 - categorical_accuracy: 0.8330 - val_loss: 0.3877 - val_categorical_accuracy: 0.7500\n",
      "Epoch 2/100\n",
      "2/2 [==============================] - 0s 147ms/step - loss: 1.8386 - categorical_accuracy: 0.6250\n",
      "652/652 [==============================] - 190s 291ms/step - loss: 0.2351 - categorical_accuracy: 0.9036 - val_loss: 1.8386 - val_categorical_accuracy: 0.6250\n",
      "Epoch 3/100\n",
      "2/2 [==============================] - 0s 238ms/step - loss: 0.5643 - categorical_accuracy: 0.7500\n",
      "652/652 [==============================] - 191s 292ms/step - loss: 0.2075 - categorical_accuracy: 0.9139 - val_loss: 0.5643 - val_categorical_accuracy: 0.7500\n",
      "Epoch 4/100\n",
      "2/2 [==============================] - 0s 127ms/step - loss: 1.4939 - categorical_accuracy: 0.6250\n",
      "652/652 [==============================] - 179s 275ms/step - loss: 0.1806 - categorical_accuracy: 0.9275 - val_loss: 1.4939 - val_categorical_accuracy: 0.6250\n",
      "Epoch 5/100\n",
      "2/2 [==============================] - 0s 139ms/step - loss: 1.0051 - categorical_accuracy: 0.7500\n",
      "652/652 [==============================] - 162s 248ms/step - loss: 0.1554 - categorical_accuracy: 0.9427 - val_loss: 1.0051 - val_categorical_accuracy: 0.7500\n",
      "Epoch 6/100\n",
      "2/2 [==============================] - 0s 136ms/step - loss: 0.5012 - categorical_accuracy: 0.7500\n",
      "652/652 [==============================] - 161s 248ms/step - loss: 0.1702 - categorical_accuracy: 0.9350 - val_loss: 0.5012 - val_categorical_accuracy: 0.7500\n",
      "Epoch 7/100\n",
      "2/2 [==============================] - 0s 136ms/step - loss: 0.3991 - categorical_accuracy: 0.8750\n",
      "652/652 [==============================] - 161s 247ms/step - loss: 0.1260 - categorical_accuracy: 0.9534 - val_loss: 0.3991 - val_categorical_accuracy: 0.8750\n",
      "Epoch 8/100\n",
      "2/2 [==============================] - 0s 137ms/step - loss: 0.3587 - categorical_accuracy: 0.8125\n",
      "652/652 [==============================] - 162s 249ms/step - loss: 0.1354 - categorical_accuracy: 0.9446 - val_loss: 0.3587 - val_categorical_accuracy: 0.8125\n",
      "Epoch 9/100\n",
      "2/2 [==============================] - 0s 135ms/step - loss: 0.2675 - categorical_accuracy: 0.8750\n",
      "652/652 [==============================] - 162s 248ms/step - loss: 0.1261 - categorical_accuracy: 0.9525 - val_loss: 0.2675 - val_categorical_accuracy: 0.8750\n",
      "Epoch 10/100\n",
      "2/2 [==============================] - 0s 133ms/step - loss: 0.3938 - categorical_accuracy: 0.8125\n",
      "652/652 [==============================] - 162s 248ms/step - loss: 0.1662 - categorical_accuracy: 0.9373 - val_loss: 0.3938 - val_categorical_accuracy: 0.8125\n",
      "Epoch 11/100\n",
      "2/2 [==============================] - 0s 134ms/step - loss: 0.3051 - categorical_accuracy: 0.9375\n",
      "652/652 [==============================] - 162s 248ms/step - loss: 0.1207 - categorical_accuracy: 0.9551 - val_loss: 0.3051 - val_categorical_accuracy: 0.9375\n",
      "Epoch 12/100\n",
      "2/2 [==============================] - 0s 133ms/step - loss: 0.6257 - categorical_accuracy: 0.7500\n",
      "652/652 [==============================] - 162s 248ms/step - loss: 0.1058 - categorical_accuracy: 0.9599 - val_loss: 0.6257 - val_categorical_accuracy: 0.7500\n",
      "Epoch 13/100\n",
      "2/2 [==============================] - 1s 386ms/step - loss: 0.6664 - categorical_accuracy: 0.8750\n",
      "652/652 [==============================] - 162s 249ms/step - loss: 0.1139 - categorical_accuracy: 0.9553 - val_loss: 0.6664 - val_categorical_accuracy: 0.8750\n",
      "Epoch 14/100\n",
      "2/2 [==============================] - 0s 181ms/step - loss: 0.4574 - categorical_accuracy: 0.8750\n",
      "652/652 [==============================] - 162s 249ms/step - loss: 0.1084 - categorical_accuracy: 0.9561 - val_loss: 0.4574 - val_categorical_accuracy: 0.8750\n",
      "Epoch 15/100\n",
      "2/2 [==============================] - 0s 221ms/step - loss: 0.5120 - categorical_accuracy: 0.7500\n",
      "652/652 [==============================] - 163s 251ms/step - loss: 0.1018 - categorical_accuracy: 0.9630 - val_loss: 0.5120 - val_categorical_accuracy: 0.7500\n",
      "Epoch 16/100\n",
      "2/2 [==============================] - 0s 219ms/step - loss: 0.2768 - categorical_accuracy: 0.8750\n",
      "652/652 [==============================] - 165s 252ms/step - loss: 0.0869 - categorical_accuracy: 0.9688 - val_loss: 0.2768 - val_categorical_accuracy: 0.8750\n",
      "Epoch 17/100\n",
      "2/2 [==============================] - 0s 195ms/step - loss: 0.1098 - categorical_accuracy: 0.9375\n",
      "652/652 [==============================] - 163s 250ms/step - loss: 0.1040 - categorical_accuracy: 0.9592 - val_loss: 0.1098 - val_categorical_accuracy: 0.9375\n",
      "Epoch 18/100\n",
      "2/2 [==============================] - 0s 198ms/step - loss: 0.8366 - categorical_accuracy: 0.7500\n",
      "652/652 [==============================] - 164s 252ms/step - loss: 0.0898 - categorical_accuracy: 0.9680 - val_loss: 0.8366 - val_categorical_accuracy: 0.7500\n",
      "Epoch 19/100\n",
      "2/2 [==============================] - 0s 211ms/step - loss: 0.5646 - categorical_accuracy: 0.7500\n",
      "652/652 [==============================] - 165s 253ms/step - loss: 0.0894 - categorical_accuracy: 0.9676 - val_loss: 0.5646 - val_categorical_accuracy: 0.7500\n",
      "Epoch 20/100\n",
      "2/2 [==============================] - 0s 130ms/step - loss: 0.1702 - categorical_accuracy: 0.9375\n",
      "652/652 [==============================] - 161s 248ms/step - loss: 0.0815 - categorical_accuracy: 0.9699 - val_loss: 0.1702 - val_categorical_accuracy: 0.9375\n",
      "Epoch 21/100\n",
      "2/2 [==============================] - 0s 138ms/step - loss: 0.1353 - categorical_accuracy: 0.9375\n",
      "652/652 [==============================] - 162s 248ms/step - loss: 0.0857 - categorical_accuracy: 0.9678 - val_loss: 0.1353 - val_categorical_accuracy: 0.9375\n",
      "Epoch 22/100\n",
      "2/2 [==============================] - 0s 134ms/step - loss: 0.3794 - categorical_accuracy: 0.8125\n",
      "652/652 [==============================] - 161s 248ms/step - loss: 0.0960 - categorical_accuracy: 0.9682 - val_loss: 0.3794 - val_categorical_accuracy: 0.8125\n",
      "Epoch 23/100\n",
      "2/2 [==============================] - 0s 141ms/step - loss: 0.1321 - categorical_accuracy: 0.9375\n",
      "652/652 [==============================] - 162s 248ms/step - loss: 0.0789 - categorical_accuracy: 0.9697 - val_loss: 0.1321 - val_categorical_accuracy: 0.9375\n",
      "Epoch 24/100\n",
      "2/2 [==============================] - 0s 137ms/step - loss: 0.0796 - categorical_accuracy: 1.0000\n",
      "652/652 [==============================] - 162s 248ms/step - loss: 0.0875 - categorical_accuracy: 0.9699 - val_loss: 0.0796 - val_categorical_accuracy: 1.0000\n",
      "Epoch 25/100\n",
      "2/2 [==============================] - 0s 133ms/step - loss: 0.1273 - categorical_accuracy: 0.9375\n",
      "652/652 [==============================] - 161s 248ms/step - loss: 0.0753 - categorical_accuracy: 0.9730 - val_loss: 0.1273 - val_categorical_accuracy: 0.9375\n",
      "Epoch 26/100\n",
      "2/2 [==============================] - 0s 136ms/step - loss: 0.1811 - categorical_accuracy: 0.9375\n",
      "652/652 [==============================] - 161s 248ms/step - loss: 0.0620 - categorical_accuracy: 0.9764 - val_loss: 0.1811 - val_categorical_accuracy: 0.9375\n",
      "Epoch 27/100\n",
      "2/2 [==============================] - 0s 129ms/step - loss: 0.1089 - categorical_accuracy: 1.0000\n",
      "652/652 [==============================] - 162s 248ms/step - loss: 0.0869 - categorical_accuracy: 0.9714 - val_loss: 0.1089 - val_categorical_accuracy: 1.0000\n",
      "Epoch 28/100\n",
      "2/2 [==============================] - 0s 184ms/step - loss: 0.2168 - categorical_accuracy: 0.9375\n",
      "652/652 [==============================] - 162s 248ms/step - loss: 0.0723 - categorical_accuracy: 0.9743 - val_loss: 0.2168 - val_categorical_accuracy: 0.9375\n",
      "Epoch 29/100\n",
      "2/2 [==============================] - 0s 204ms/step - loss: 0.3069 - categorical_accuracy: 0.8125\n",
      "652/652 [==============================] - 163s 251ms/step - loss: 0.0645 - categorical_accuracy: 0.9762 - val_loss: 0.3069 - val_categorical_accuracy: 0.8125\n",
      "Epoch 30/100\n"
     ]
    },
    {
     "name": "stdout",
     "output_type": "stream",
     "text": [
      "2/2 [==============================] - 0s 159ms/step - loss: 0.1689 - categorical_accuracy: 0.9375\n",
      "652/652 [==============================] - 162s 248ms/step - loss: 0.0598 - categorical_accuracy: 0.9781 - val_loss: 0.1689 - val_categorical_accuracy: 0.9375\n",
      "Epoch 31/100\n",
      "2/2 [==============================] - 0s 134ms/step - loss: 0.5147 - categorical_accuracy: 0.8125\n",
      "652/652 [==============================] - 162s 248ms/step - loss: 0.0628 - categorical_accuracy: 0.9787 - val_loss: 0.5147 - val_categorical_accuracy: 0.8125\n",
      "Epoch 32/100\n",
      "2/2 [==============================] - 0s 133ms/step - loss: 0.1615 - categorical_accuracy: 0.9375\n",
      "652/652 [==============================] - 162s 248ms/step - loss: 0.0722 - categorical_accuracy: 0.9726 - val_loss: 0.1615 - val_categorical_accuracy: 0.9375\n",
      "Epoch 33/100\n",
      "2/2 [==============================] - 0s 133ms/step - loss: 0.4164 - categorical_accuracy: 0.8750\n",
      "652/652 [==============================] - 162s 248ms/step - loss: 0.0656 - categorical_accuracy: 0.9757 - val_loss: 0.4164 - val_categorical_accuracy: 0.8750\n",
      "Epoch 34/100\n",
      "2/2 [==============================] - 0s 133ms/step - loss: 0.0923 - categorical_accuracy: 0.9375\n",
      "652/652 [==============================] - 162s 248ms/step - loss: 0.0700 - categorical_accuracy: 0.9793 - val_loss: 0.0923 - val_categorical_accuracy: 0.9375\n",
      "Epoch 35/100\n",
      "2/2 [==============================] - 0s 159ms/step - loss: 0.0524 - categorical_accuracy: 1.0000\n",
      "652/652 [==============================] - 162s 248ms/step - loss: 0.0572 - categorical_accuracy: 0.9781 - val_loss: 0.0524 - val_categorical_accuracy: 1.0000\n",
      "Epoch 36/100\n",
      "2/2 [==============================] - 0s 170ms/step - loss: 0.2021 - categorical_accuracy: 0.8750\n",
      "652/652 [==============================] - 167s 257ms/step - loss: 0.0669 - categorical_accuracy: 0.9776 - val_loss: 0.2021 - val_categorical_accuracy: 0.8750\n",
      "Epoch 37/100\n",
      "2/2 [==============================] - 0s 198ms/step - loss: 0.2477 - categorical_accuracy: 0.9375\n",
      "652/652 [==============================] - 191s 294ms/step - loss: 0.0457 - categorical_accuracy: 0.9837 - val_loss: 0.2477 - val_categorical_accuracy: 0.9375\n",
      "Epoch 38/100\n",
      "2/2 [==============================] - 0s 180ms/step - loss: 0.4692 - categorical_accuracy: 0.8125\n",
      "652/652 [==============================] - 192s 295ms/step - loss: 0.0675 - categorical_accuracy: 0.9789 - val_loss: 0.4692 - val_categorical_accuracy: 0.8125\n",
      "Epoch 39/100\n",
      "2/2 [==============================] - 0s 218ms/step - loss: 0.2290 - categorical_accuracy: 0.8125\n",
      "652/652 [==============================] - 193s 295ms/step - loss: 0.0630 - categorical_accuracy: 0.9785 - val_loss: 0.2290 - val_categorical_accuracy: 0.8125\n",
      "Epoch 40/100\n",
      "2/2 [==============================] - 1s 256ms/step - loss: 0.1615 - categorical_accuracy: 0.9375\n",
      "652/652 [==============================] - 193s 296ms/step - loss: 0.0867 - categorical_accuracy: 0.9724 - val_loss: 0.1615 - val_categorical_accuracy: 0.9375\n",
      "Epoch 41/100\n",
      "2/2 [==============================] - 0s 142ms/step - loss: 0.8530 - categorical_accuracy: 0.8125\n",
      "652/652 [==============================] - 188s 289ms/step - loss: 0.0665 - categorical_accuracy: 0.9780 - val_loss: 0.8530 - val_categorical_accuracy: 0.8125\n",
      "Epoch 42/100\n",
      "2/2 [==============================] - 0s 148ms/step - loss: 0.3153 - categorical_accuracy: 0.8750\n",
      "652/652 [==============================] - 173s 266ms/step - loss: 0.0467 - categorical_accuracy: 0.9839 - val_loss: 0.3153 - val_categorical_accuracy: 0.8750\n",
      "Epoch 43/100\n",
      "2/2 [==============================] - 0s 236ms/step - loss: 0.2728 - categorical_accuracy: 0.8750\n",
      "652/652 [==============================] - 175s 268ms/step - loss: 0.0526 - categorical_accuracy: 0.9814 - val_loss: 0.2728 - val_categorical_accuracy: 0.8750\n",
      "Epoch 44/100\n",
      "2/2 [==============================] - 0s 211ms/step - loss: 0.6950 - categorical_accuracy: 0.8125\n",
      "652/652 [==============================] - 176s 269ms/step - loss: 0.0577 - categorical_accuracy: 0.9814 - val_loss: 0.6950 - val_categorical_accuracy: 0.8125\n",
      "Epoch 45/100\n",
      "2/2 [==============================] - 1s 299ms/step - loss: 0.3368 - categorical_accuracy: 0.8750\n",
      "652/652 [==============================] - 176s 270ms/step - loss: 0.0502 - categorical_accuracy: 0.9831 - val_loss: 0.3368 - val_categorical_accuracy: 0.8750\n",
      "Epoch 46/100\n",
      "2/2 [==============================] - 0s 168ms/step - loss: 0.1635 - categorical_accuracy: 0.8750\n",
      "652/652 [==============================] - 174s 267ms/step - loss: 0.0544 - categorical_accuracy: 0.9810 - val_loss: 0.1635 - val_categorical_accuracy: 0.8750\n",
      "Epoch 47/100\n",
      "2/2 [==============================] - 0s 181ms/step - loss: 0.9658 - categorical_accuracy: 0.6875\n",
      "652/652 [==============================] - 175s 268ms/step - loss: 0.0712 - categorical_accuracy: 0.9772 - val_loss: 0.9658 - val_categorical_accuracy: 0.6875\n",
      "Epoch 48/100\n",
      "2/2 [==============================] - 0s 175ms/step - loss: 0.5595 - categorical_accuracy: 0.8125\n",
      "652/652 [==============================] - 174s 266ms/step - loss: 0.0437 - categorical_accuracy: 0.9847 - val_loss: 0.5595 - val_categorical_accuracy: 0.8125\n",
      "Epoch 49/100\n",
      "2/2 [==============================] - 0s 213ms/step - loss: 0.1350 - categorical_accuracy: 0.9375\n",
      "652/652 [==============================] - 175s 268ms/step - loss: 0.0417 - categorical_accuracy: 0.9849 - val_loss: 0.1350 - val_categorical_accuracy: 0.9375\n",
      "Epoch 50/100\n",
      "2/2 [==============================] - 0s 215ms/step - loss: 0.5608 - categorical_accuracy: 0.8750\n",
      "652/652 [==============================] - 175s 269ms/step - loss: 0.0462 - categorical_accuracy: 0.9841 - val_loss: 0.5608 - val_categorical_accuracy: 0.8750\n",
      "Epoch 51/100\n",
      "2/2 [==============================] - 0s 172ms/step - loss: 0.2995 - categorical_accuracy: 0.8750\n",
      "652/652 [==============================] - 175s 269ms/step - loss: 0.0538 - categorical_accuracy: 0.9803 - val_loss: 0.2995 - val_categorical_accuracy: 0.8750\n",
      "Epoch 52/100\n",
      "2/2 [==============================] - 0s 195ms/step - loss: 0.1294 - categorical_accuracy: 0.9375\n",
      "652/652 [==============================] - 174s 267ms/step - loss: 0.0463 - categorical_accuracy: 0.9835 - val_loss: 0.1294 - val_categorical_accuracy: 0.9375\n",
      "Epoch 53/100\n",
      "2/2 [==============================] - 0s 216ms/step - loss: 0.1638 - categorical_accuracy: 0.9375\n",
      "652/652 [==============================] - 175s 269ms/step - loss: 0.0526 - categorical_accuracy: 0.9833 - val_loss: 0.1638 - val_categorical_accuracy: 0.9375\n",
      "Epoch 54/100\n",
      "2/2 [==============================] - 0s 203ms/step - loss: 0.0831 - categorical_accuracy: 1.0000\n",
      "652/652 [==============================] - 175s 268ms/step - loss: 0.0658 - categorical_accuracy: 0.9827 - val_loss: 0.0831 - val_categorical_accuracy: 1.0000\n",
      "Epoch 55/100\n",
      "2/2 [==============================] - 0s 150ms/step - loss: 0.1675 - categorical_accuracy: 0.8750\n",
      "652/652 [==============================] - 173s 266ms/step - loss: 0.0827 - categorical_accuracy: 0.9705 - val_loss: 0.1675 - val_categorical_accuracy: 0.8750\n",
      "Epoch 56/100\n",
      "2/2 [==============================] - 0s 141ms/step - loss: 0.2389 - categorical_accuracy: 0.9375\n",
      "652/652 [==============================] - 174s 266ms/step - loss: 0.0483 - categorical_accuracy: 0.9837 - val_loss: 0.2389 - val_categorical_accuracy: 0.9375\n",
      "Epoch 57/100\n",
      "2/2 [==============================] - 0s 137ms/step - loss: 0.2884 - categorical_accuracy: 0.8750\n",
      "652/652 [==============================] - 174s 266ms/step - loss: 0.0524 - categorical_accuracy: 0.9812 - val_loss: 0.2884 - val_categorical_accuracy: 0.8750\n",
      "Epoch 58/100\n",
      "2/2 [==============================] - 0s 139ms/step - loss: 0.2936 - categorical_accuracy: 0.8750\n",
      "652/652 [==============================] - 174s 267ms/step - loss: 0.0487 - categorical_accuracy: 0.9816 - val_loss: 0.2936 - val_categorical_accuracy: 0.8750\n",
      "Epoch 59/100\n",
      "2/2 [==============================] - 0s 164ms/step - loss: 0.0762 - categorical_accuracy: 0.9375\n",
      "652/652 [==============================] - 174s 267ms/step - loss: 0.0333 - categorical_accuracy: 0.9889 - val_loss: 0.0762 - val_categorical_accuracy: 0.9375\n",
      "Epoch 60/100\n"
     ]
    },
    {
     "name": "stdout",
     "output_type": "stream",
     "text": [
      "2/2 [==============================] - 0s 148ms/step - loss: 0.0668 - categorical_accuracy: 0.9375\n",
      "652/652 [==============================] - 174s 267ms/step - loss: 0.0405 - categorical_accuracy: 0.9849 - val_loss: 0.0668 - val_categorical_accuracy: 0.9375\n",
      "Epoch 61/100\n",
      "2/2 [==============================] - 0s 148ms/step - loss: 0.0277 - categorical_accuracy: 1.0000\n",
      "652/652 [==============================] - 175s 268ms/step - loss: 0.0376 - categorical_accuracy: 0.9860 - val_loss: 0.0277 - val_categorical_accuracy: 1.0000\n",
      "Epoch 62/100\n",
      "2/2 [==============================] - 0s 141ms/step - loss: 0.1174 - categorical_accuracy: 0.9375\n",
      "652/652 [==============================] - 174s 267ms/step - loss: 0.0512 - categorical_accuracy: 0.9824 - val_loss: 0.1174 - val_categorical_accuracy: 0.9375\n",
      "Epoch 63/100\n",
      "2/2 [==============================] - 0s 141ms/step - loss: 0.0408 - categorical_accuracy: 1.0000\n",
      "652/652 [==============================] - 174s 267ms/step - loss: 0.0388 - categorical_accuracy: 0.9873 - val_loss: 0.0408 - val_categorical_accuracy: 1.0000\n",
      "Epoch 64/100\n",
      "2/2 [==============================] - 0s 141ms/step - loss: 0.0957 - categorical_accuracy: 0.9375\n",
      "652/652 [==============================] - 174s 267ms/step - loss: 0.0390 - categorical_accuracy: 0.9856 - val_loss: 0.0957 - val_categorical_accuracy: 0.9375\n",
      "Epoch 65/100\n",
      "2/2 [==============================] - 0s 148ms/step - loss: 0.1085 - categorical_accuracy: 0.9375\n",
      "652/652 [==============================] - 174s 267ms/step - loss: 0.0365 - categorical_accuracy: 0.9889 - val_loss: 0.1085 - val_categorical_accuracy: 0.9375\n",
      "Epoch 66/100\n",
      "2/2 [==============================] - 0s 180ms/step - loss: 0.0724 - categorical_accuracy: 1.0000\n",
      "652/652 [==============================] - 174s 267ms/step - loss: 0.0418 - categorical_accuracy: 0.9858 - val_loss: 0.0724 - val_categorical_accuracy: 1.0000\n",
      "Epoch 67/100\n",
      "2/2 [==============================] - 0s 141ms/step - loss: 0.6113 - categorical_accuracy: 0.8125\n",
      "652/652 [==============================] - 174s 267ms/step - loss: 0.0515 - categorical_accuracy: 0.9822 - val_loss: 0.6113 - val_categorical_accuracy: 0.8125\n",
      "Epoch 68/100\n",
      "2/2 [==============================] - 0s 133ms/step - loss: 0.1616 - categorical_accuracy: 0.8750\n",
      "652/652 [==============================] - 174s 267ms/step - loss: 0.0905 - categorical_accuracy: 0.9734 - val_loss: 0.1616 - val_categorical_accuracy: 0.8750\n",
      "Epoch 69/100\n",
      "2/2 [==============================] - 0s 141ms/step - loss: 0.0434 - categorical_accuracy: 1.0000\n",
      "652/652 [==============================] - 174s 268ms/step - loss: 0.0358 - categorical_accuracy: 0.9864 - val_loss: 0.0434 - val_categorical_accuracy: 1.0000\n",
      "Epoch 70/100\n",
      "2/2 [==============================] - 0s 148ms/step - loss: 0.3468 - categorical_accuracy: 0.8750\n",
      "652/652 [==============================] - 174s 267ms/step - loss: 0.0394 - categorical_accuracy: 0.9875 - val_loss: 0.3468 - val_categorical_accuracy: 0.8750\n",
      "Epoch 71/100\n",
      "2/2 [==============================] - 0s 141ms/step - loss: 0.0886 - categorical_accuracy: 0.9375\n",
      "652/652 [==============================] - 174s 267ms/step - loss: 0.0425 - categorical_accuracy: 0.9864 - val_loss: 0.0886 - val_categorical_accuracy: 0.9375\n",
      "Epoch 72/100\n",
      "2/2 [==============================] - 0s 141ms/step - loss: 0.1659 - categorical_accuracy: 0.9375\n",
      "652/652 [==============================] - 175s 268ms/step - loss: 0.0385 - categorical_accuracy: 0.9864 - val_loss: 0.1659 - val_categorical_accuracy: 0.9375\n",
      "Epoch 73/100\n",
      "2/2 [==============================] - 0s 133ms/step - loss: 1.0331 - categorical_accuracy: 0.9375\n",
      "652/652 [==============================] - 174s 267ms/step - loss: 0.0244 - categorical_accuracy: 0.9904 - val_loss: 1.0331 - val_categorical_accuracy: 0.9375\n",
      "Epoch 74/100\n",
      "2/2 [==============================] - 0s 144ms/step - loss: 0.3487 - categorical_accuracy: 0.8750\n",
      "652/652 [==============================] - 174s 267ms/step - loss: 0.0512 - categorical_accuracy: 0.9835 - val_loss: 0.3487 - val_categorical_accuracy: 0.8750\n",
      "Epoch 75/100\n",
      "2/2 [==============================] - 0s 152ms/step - loss: 2.2647 - categorical_accuracy: 0.6875\n",
      "652/652 [==============================] - 174s 267ms/step - loss: 0.0408 - categorical_accuracy: 0.9850 - val_loss: 2.2647 - val_categorical_accuracy: 0.6875\n",
      "Epoch 76/100\n",
      "2/2 [==============================] - 0s 172ms/step - loss: 0.6104 - categorical_accuracy: 0.8125\n",
      "652/652 [==============================] - 174s 267ms/step - loss: 0.0382 - categorical_accuracy: 0.9850 - val_loss: 0.6104 - val_categorical_accuracy: 0.8125\n",
      "Epoch 77/100\n",
      "2/2 [==============================] - 0s 141ms/step - loss: 0.0811 - categorical_accuracy: 0.9375\n",
      "652/652 [==============================] - 174s 267ms/step - loss: 0.0275 - categorical_accuracy: 0.9916 - val_loss: 0.0811 - val_categorical_accuracy: 0.9375\n",
      "Epoch 78/100\n",
      "2/2 [==============================] - 0s 141ms/step - loss: 0.0273 - categorical_accuracy: 1.0000\n",
      "652/652 [==============================] - 175s 269ms/step - loss: 0.0403 - categorical_accuracy: 0.9864 - val_loss: 0.0273 - val_categorical_accuracy: 1.0000\n",
      "Epoch 79/100\n",
      "2/2 [==============================] - 0s 141ms/step - loss: 0.1679 - categorical_accuracy: 0.8750\n",
      "652/652 [==============================] - 174s 267ms/step - loss: 0.0740 - categorical_accuracy: 0.9762 - val_loss: 0.1679 - val_categorical_accuracy: 0.8750\n",
      "Epoch 80/100\n",
      "2/2 [==============================] - 0s 148ms/step - loss: 0.2899 - categorical_accuracy: 0.8750\n",
      "652/652 [==============================] - 174s 268ms/step - loss: 0.0450 - categorical_accuracy: 0.9839 - val_loss: 0.2899 - val_categorical_accuracy: 0.8750\n",
      "Epoch 81/100\n",
      "2/2 [==============================] - 0s 140ms/step - loss: 0.8844 - categorical_accuracy: 0.7500\n",
      "652/652 [==============================] - 174s 267ms/step - loss: 0.0302 - categorical_accuracy: 0.9896 - val_loss: 0.8844 - val_categorical_accuracy: 0.7500\n",
      "Epoch 82/100\n",
      "2/2 [==============================] - 0s 145ms/step - loss: 3.2060 - categorical_accuracy: 0.7500\n",
      "652/652 [==============================] - 174s 267ms/step - loss: 0.0375 - categorical_accuracy: 0.9875 - val_loss: 3.2060 - val_categorical_accuracy: 0.7500\n",
      "Epoch 83/100\n",
      "2/2 [==============================] - 0s 148ms/step - loss: 0.0222 - categorical_accuracy: 1.0000\n",
      "652/652 [==============================] - 176s 269ms/step - loss: 0.0707 - categorical_accuracy: 0.9755 - val_loss: 0.0222 - val_categorical_accuracy: 1.0000\n",
      "Epoch 84/100\n",
      "2/2 [==============================] - 0s 156ms/step - loss: 0.1095 - categorical_accuracy: 1.0000\n",
      "652/652 [==============================] - 174s 267ms/step - loss: 0.1318 - categorical_accuracy: 0.9584 - val_loss: 0.1095 - val_categorical_accuracy: 1.0000\n",
      "Epoch 85/100\n",
      "2/2 [==============================] - 0s 148ms/step - loss: 7.1177 - categorical_accuracy: 0.5000\n",
      "652/652 [==============================] - 175s 268ms/step - loss: 0.1153 - categorical_accuracy: 0.9678 - val_loss: 7.1177 - val_categorical_accuracy: 0.5000\n",
      "Epoch 86/100\n",
      "2/2 [==============================] - 0s 148ms/step - loss: 0.4678 - categorical_accuracy: 0.8125\n",
      "652/652 [==============================] - 174s 267ms/step - loss: 1.4745 - categorical_accuracy: 0.8817 - val_loss: 0.4678 - val_categorical_accuracy: 0.8125\n",
      "Epoch 87/100\n",
      "2/2 [==============================] - 0s 141ms/step - loss: 0.8354 - categorical_accuracy: 0.7500\n",
      "652/652 [==============================] - 175s 268ms/step - loss: 0.0530 - categorical_accuracy: 0.9793 - val_loss: 0.8354 - val_categorical_accuracy: 0.7500\n",
      "Epoch 88/100\n",
      "2/2 [==============================] - 0s 141ms/step - loss: 0.2263 - categorical_accuracy: 0.9375\n",
      "652/652 [==============================] - 174s 267ms/step - loss: 0.0506 - categorical_accuracy: 0.9826 - val_loss: 0.2263 - val_categorical_accuracy: 0.9375\n",
      "Epoch 89/100\n",
      "2/2 [==============================] - 0s 195ms/step - loss: 0.2761 - categorical_accuracy: 0.8750\n",
      "652/652 [==============================] - 175s 269ms/step - loss: 0.0412 - categorical_accuracy: 0.9860 - val_loss: 0.2761 - val_categorical_accuracy: 0.8750\n",
      "Epoch 90/100\n"
     ]
    },
    {
     "name": "stdout",
     "output_type": "stream",
     "text": [
      "2/2 [==============================] - 0s 203ms/step - loss: 0.0380 - categorical_accuracy: 1.0000\n",
      "652/652 [==============================] - 175s 269ms/step - loss: 0.0375 - categorical_accuracy: 0.9870 - val_loss: 0.0380 - val_categorical_accuracy: 1.0000\n",
      "Epoch 91/100\n",
      "2/2 [==============================] - 0s 242ms/step - loss: 0.0532 - categorical_accuracy: 0.9375\n",
      "652/652 [==============================] - 177s 271ms/step - loss: 0.0236 - categorical_accuracy: 0.9914 - val_loss: 0.0532 - val_categorical_accuracy: 0.9375\n",
      "Epoch 92/100\n",
      "2/2 [==============================] - 0s 195ms/step - loss: 1.7393 - categorical_accuracy: 0.6250\n",
      "652/652 [==============================] - 176s 269ms/step - loss: 0.0296 - categorical_accuracy: 0.9898 - val_loss: 1.7393 - val_categorical_accuracy: 0.6250\n",
      "Epoch 93/100\n",
      "2/2 [==============================] - 0s 133ms/step - loss: 0.7419 - categorical_accuracy: 0.7500\n",
      "652/652 [==============================] - 174s 267ms/step - loss: 0.0558 - categorical_accuracy: 0.9801 - val_loss: 0.7419 - val_categorical_accuracy: 0.7500\n",
      "Epoch 94/100\n",
      "2/2 [==============================] - 0s 141ms/step - loss: 0.1867 - categorical_accuracy: 0.8750\n",
      "652/652 [==============================] - 174s 267ms/step - loss: 0.0529 - categorical_accuracy: 0.9797 - val_loss: 0.1867 - val_categorical_accuracy: 0.8750\n",
      "Epoch 95/100\n",
      "2/2 [==============================] - 0s 148ms/step - loss: 0.4023 - categorical_accuracy: 0.8125\n",
      "652/652 [==============================] - 174s 267ms/step - loss: 0.0452 - categorical_accuracy: 0.9847 - val_loss: 0.4023 - val_categorical_accuracy: 0.8125\n",
      "Epoch 96/100\n",
      "2/2 [==============================] - 0s 148ms/step - loss: 0.0353 - categorical_accuracy: 1.0000\n",
      "652/652 [==============================] - 174s 268ms/step - loss: 0.0377 - categorical_accuracy: 0.9864 - val_loss: 0.0353 - val_categorical_accuracy: 1.0000\n",
      "Epoch 97/100\n",
      "2/2 [==============================] - 0s 141ms/step - loss: 0.5102 - categorical_accuracy: 0.7500\n",
      "652/652 [==============================] - 174s 268ms/step - loss: 0.0269 - categorical_accuracy: 0.9904 - val_loss: 0.5102 - val_categorical_accuracy: 0.7500\n",
      "Epoch 98/100\n",
      "2/2 [==============================] - 0s 156ms/step - loss: 0.1324 - categorical_accuracy: 0.9375\n",
      "652/652 [==============================] - 174s 267ms/step - loss: 0.0266 - categorical_accuracy: 0.9906 - val_loss: 0.1324 - val_categorical_accuracy: 0.9375\n",
      "Epoch 99/100\n",
      "2/2 [==============================] - 0s 141ms/step - loss: 0.0818 - categorical_accuracy: 0.9375\n",
      "652/652 [==============================] - 174s 267ms/step - loss: 0.0486 - categorical_accuracy: 0.9864 - val_loss: 0.0818 - val_categorical_accuracy: 0.9375\n",
      "Epoch 100/100\n",
      "2/2 [==============================] - 0s 149ms/step - loss: 0.4842 - categorical_accuracy: 0.8125\n",
      "652/652 [==============================] - 174s 268ms/step - loss: 0.0278 - categorical_accuracy: 0.9918 - val_loss: 0.4842 - val_categorical_accuracy: 0.8125\n"
     ]
    }
   ],
   "source": [
    "import math\n",
    "\n",
    "history = model.fit_generator(\n",
    "      training_set,\n",
    "      steps_per_epoch=math.ceil(number_of_training_samples//batch_size),\n",
    "      epochs=no_of_epochs,\n",
    "      callbacks=callbacks_list,\n",
    "      validation_data=validation_set,\n",
    "      validation_steps=math.ceil(number_of_validation_samples//batch_size))"
   ]
  },
  {
   "cell_type": "markdown",
   "metadata": {},
   "source": [
    "## Visualizing the Training Process"
   ]
  },
  {
   "cell_type": "code",
   "execution_count": 11,
   "metadata": {},
   "outputs": [
    {
     "data": {
      "image/png": "[encoded data removed]",
      "text/plain": [
       "<Figure size 432x288 with 1 Axes>"
      ]
     },
     "metadata": {
      "needs_background": "light"
     },
     "output_type": "display_data"
    },
    {
     "data": {
      "image/png": "[encoded data removed]",
      "text/plain": [
       "<Figure size 432x288 with 1 Axes>"
      ]
     },
     "metadata": {
      "needs_background": "light"
     },
     "output_type": "display_data"
    }
   ],
   "source": [
    "import matplotlib.pyplot as plt\n",
    "%matplotlib inline\n",
    "\n",
    "acc=history.history['categorical_accuracy']\n",
    "val_acc=history.history['val_categorical_accuracy']\n",
    "loss=history.history['loss']\n",
    "val_loss=history.history['val_loss']\n",
    "epochs=range(1,len(acc)+1)\n",
    "plt.xlabel('Epochs')\n",
    "plt.ylabel('Accuracy')\n",
    "plt.plot(epochs, acc, 'bo', label='Training acc')\n",
    "plt.plot(epochs, val_acc, 'b', label='Validation acc')\n",
    "plt.title('Training and validation accuracy')\n",
    "plt.legend()\n",
    "plt.figure()\n",
    "\n",
    "plt.plot(epochs, loss, 'bo', label='Training loss')\n",
    "plt.plot(epochs, val_loss, 'b', label='Validation loss')\n",
    "plt.title('Training and validation loss')\n",
    "plt.xlabel('Epochs')\n",
    "plt.ylabel('Loss')\n",
    "plt.legend()\n",
    "plt.show()"
   ]
  },
  {
   "cell_type": "markdown",
   "metadata": {},
   "source": [
    "## Loading the Best Model"
   ]
  },
  {
   "cell_type": "code",
   "execution_count": 12,
   "metadata": {},
   "outputs": [],
   "source": [
    "from tensorflow.python.keras.models import load_model\n",
    "\n",
    "best_model = load_model('VGG19_Chest_X_Ray_Image_Classification_Pneumonia_vs_Normal_best_model.h5')"
   ]
  },
  {
   "cell_type": "markdown",
   "metadata": {},
   "source": [
    "## Evaluating the Best Model"
   ]
  },
  {
   "cell_type": "code",
   "execution_count": 13,
   "metadata": {},
   "outputs": [
    {
     "name": "stdout",
     "output_type": "stream",
     "text": [
      "78/78 [==============================] - 8s 99ms/step - loss: 0.2186 - categorical_accuracy: 0.9375 0s - loss: 0.2232 - categorical_accuracy\n",
      "Test-set classification accuracy: 93.75%\n"
     ]
    }
   ],
   "source": [
    "steps_test=int(number_of_test_samples/batch_size)\n",
    "result = best_model.evaluate_generator(test_set, steps=steps_test,verbose=1)\n",
    "print(\"Test-set classification accuracy: {0:.2%}\".format(result[1]))"
   ]
  },
  {
   "cell_type": "markdown",
   "metadata": {},
   "source": [
    "## Calculating Precision, Specificity and Sensitivity (Recall) values for the model\n",
    "*Precision-Recall* is a useful measure of success of prediction when the classes are very imbalanced. High *precision* relates to a low false positive rate, and high *recall* relates to a low false negative rate.\n",
    "\n",
    "Precision is defined as the number of true positives over the number of true positives plus the number of false positives. Recall is defined as the number of true positives over the number of true positives plus the number of false negatives. Please see the [link](https://scikit-learn.org/stable/auto_examples/model_selection/plot_precision_recall.html) for details.\n",
    "\n",
    "Another way of assessing a binary classification model is to compute the *sensitivity* (also called the true positive rate or the recall) and *specificity* (also called the true negative rate) of the model. *Sensitivity* indicates the percentage of sick people who are correctly identified as having the condition. *Specificity* indicates the percentage of healthy people who are correctly identified as not having the condition.\n",
    "\n",
    "But first we prepare our test data, so that later we can draw the *confusion matrix* as well as calculate *precision*, *specificity* and *sensitivity (recall)* of the model."
   ]
  },
  {
   "cell_type": "code",
   "execution_count": 14,
   "metadata": {},
   "outputs": [
    {
     "name": "stdout",
     "output_type": "stream",
     "text": [
      "Total number of test examples:  (624, 150, 150, 3)\n",
      "Total number of labels: (624, 1)\n"
     ]
    }
   ],
   "source": [
    "# Preparing test data\n",
    "import glob\n",
    "from pathlib import Path\n",
    "from tensorflow.python.keras.utils import to_categorical\n",
    "import cv2\n",
    "\n",
    "normal_cases_dir = Path('D:\\\\TensorFlow Programs\\\\Diagnosis of Pneumonia based on Chest X-Rays\\\\chest-xray-pneumonia\\\\chest_xray\\\\chest_xray\\\\test\\\\NORMAL')\n",
    "pneumonia_cases_dir = Path('D:\\\\TensorFlow Programs\\\\Diagnosis of Pneumonia based on Chest X-Rays\\\\chest-xray-pneumonia\\\\chest_xray\\\\chest_xray\\\\test\\\\PNEUMONIA')\n",
    "\n",
    "normal_cases = normal_cases_dir.glob('*.jpeg')\n",
    "pneumonia_cases = pneumonia_cases_dir.glob('*.jpeg')\n",
    "\n",
    "test_data = []\n",
    "test_labels = []\n",
    "\n",
    "for img in normal_cases:\n",
    "    img = cv2.imread(str(img))\n",
    "    img = cv2.resize(img, (image_width,image_height))\n",
    "    if img.shape[2] ==1:\n",
    "        img = np.dstack([img, img, img])\n",
    "    else:\n",
    "        img = cv2.cvtColor(img, cv2.COLOR_BGR2RGB)\n",
    "    img = img.astype(np.float32)/255.\n",
    "    label = [0]\n",
    "    test_data.append(img)\n",
    "    test_labels.append(label)\n",
    "                      \n",
    "for img in pneumonia_cases:\n",
    "    img = cv2.imread(str(img))\n",
    "    img = cv2.resize(img, (image_width,image_height))\n",
    "    if img.shape[2] ==1:\n",
    "        img = np.dstack([img, img, img])\n",
    "    else:\n",
    "        img = cv2.cvtColor(img, cv2.COLOR_BGR2RGB)\n",
    "    img = img.astype(np.float32)/255.\n",
    "    label = [1]\n",
    "    test_data.append(img)\n",
    "    test_labels.append(label)\n",
    "    \n",
    "\n",
    "test_data = np.array(test_data)\n",
    "test_labels = np.array(test_labels)\n",
    "test_labels_one_hot_encoding=to_categorical(test_labels)\n",
    "\n",
    "print(\"Total number of test examples: \", test_data.shape)\n",
    "print(\"Total number of labels:\", test_labels.shape)"
   ]
  },
  {
   "cell_type": "code",
   "execution_count": 15,
   "metadata": {},
   "outputs": [
    {
     "name": "stdout",
     "output_type": "stream",
     "text": [
      "624/624 [==============================] - 5s 9ms/sample - loss: 0.2096 - categorical_accuracy: 0.9375\n",
      "Loss on test set:  0.20956307267904498\n",
      "Accuracy on test set:  0.9375\n"
     ]
    }
   ],
   "source": [
    "# Evaluation on test dataset\n",
    "\n",
    "test_loss, test_score = best_model.evaluate(test_data, test_labels_one_hot_encoding, batch_size=16)\n",
    "print(\"Loss on test set: \", test_loss)\n",
    "print(\"Accuracy on test set: \", test_score)"
   ]
  },
  {
   "cell_type": "code",
   "execution_count": 16,
   "metadata": {},
   "outputs": [
    {
     "name": "stdout",
     "output_type": "stream",
     "text": [
      "624/624 [==============================] - 5s 7ms/sample\n",
      "(624, 1)\n",
      "(624, 1)\n"
     ]
    }
   ],
   "source": [
    "# Get predictions\n",
    "preds = best_model.predict(test_data, batch_size=16,verbose=1)\n",
    "preds=np.around(preds)\n",
    "orig_test_labels=test_labels\n",
    "predicted_labels=np.argmax(preds,axis=1)\n",
    "predicted_labels=np.reshape(predicted_labels,(624,1))\n",
    "print(predicted_labels.shape)\n",
    "print(orig_test_labels.shape)"
   ]
  },
  {
   "cell_type": "code",
   "execution_count": 17,
   "metadata": {},
   "outputs": [
    {
     "data": {
      "text/plain": [
       "<Figure size 432x288 with 0 Axes>"
      ]
     },
     "metadata": {},
     "output_type": "display_data"
    },
    {
     "data": {
      "image/png": "[encoded data removed]",
      "text/plain": [
       "<Figure size 864x576 with 1 Axes>"
      ]
     },
     "metadata": {
      "needs_background": "light"
     },
     "output_type": "display_data"
    }
   ],
   "source": [
    "import matplotlib.pyplot as plt\n",
    "%matplotlib inline\n",
    "# Get the confusion matrix\n",
    "from sklearn.metrics import confusion_matrix\n",
    "from mlxtend.plotting import plot_confusion_matrix\n",
    "\n",
    "cm  = confusion_matrix(orig_test_labels, predicted_labels)\n",
    "plt.figure()\n",
    "plot_confusion_matrix(cm,figsize=(12,8), hide_ticks=True,cmap=plt.cm.Blues)\n",
    "plt.xticks(range(2), ['Normal', 'Pneumonia'], fontsize=16)\n",
    "plt.yticks(range(2), ['Normal', 'Pneumonia'], fontsize=16)\n",
    "plt.show()"
   ]
  },
  {
   "cell_type": "code",
   "execution_count": 18,
   "metadata": {},
   "outputs": [
    {
     "name": "stdout",
     "output_type": "stream",
     "text": [
      "Sensitivity (Recall) of the model is 0.985\n",
      "Specificity of the model is 0.859\n",
      "Precision of the model is 0.921\n"
     ]
    }
   ],
   "source": [
    "# Calculate Precision and Recall\n",
    "tn, fp, fn, tp = cm.ravel()\n",
    "\n",
    "precision = tp/(tp+fp)\n",
    "recall = tp/(tp+fn)\n",
    "specificity=tn/(tn+fp)\n",
    "\n",
    "print(\"Sensitivity (Recall) of the model is {:.3f}\".format(recall))\n",
    "print(\"Specificity of the model is {:.3f}\".format(specificity))\n",
    "print(\"Precision of the model is {:.3f}\".format(precision))"
   ]
  },
  {
   "cell_type": "markdown",
   "metadata": {},
   "source": [
    "Nice!!! So, this model has a `98.5%` sensitivity (recall), `85.9%` specificity and `92.1%` precision."
   ]
  },
  {
   "cell_type": "markdown",
   "metadata": {},
   "source": [
    "## ROC Curve and AUC for the model\n",
    "**Receiver operating characteristic** curve (a.k.a ROC) is a graphic plot that illustrates the diagnostic ability of a binary classifier system as its discrimination threshold is varied. The critical point here is \"binary classifier\" and \"varying threshold\". **Area Under the Curve** (a.k.a. AUC) is the percentage of the area that is under this ROC curve, ranging between 0 and 1.\n",
    "ROC is a great way to visualize the performance of a binary classifier, and AUC is one single number to summarize a classifier's performance. The higher the AUC is, the better the classifier."
   ]
  },
  {
   "cell_type": "code",
   "execution_count": 19,
   "metadata": {},
   "outputs": [],
   "source": [
    "from sklearn.metrics import roc_curve\n",
    "\n",
    "probs = best_model.predict_proba(test_data)\n",
    "preds = probs[:,1]\n",
    "fpr, tpr, thresholds = roc_curve(test_labels.ravel(), preds)"
   ]
  },
  {
   "cell_type": "code",
   "execution_count": 20,
   "metadata": {},
   "outputs": [],
   "source": [
    "from sklearn.metrics import auc\n",
    "auc_var = auc(fpr, tpr)"
   ]
  },
  {
   "cell_type": "code",
   "execution_count": 21,
   "metadata": {},
   "outputs": [
    {
     "data": {
      "image/png": "[encoded data removed]",
      "text/plain": [
       "<Figure size 432x288 with 1 Axes>"
      ]
     },
     "metadata": {
      "needs_background": "light"
     },
     "output_type": "display_data"
    }
   ],
   "source": [
    "import matplotlib.pyplot as plt\n",
    "%matplotlib inline\n",
    "plt.figure(1)\n",
    "plt.plot([0, 1], [0, 1], 'k--')\n",
    "plt.plot(fpr, tpr, label='VGG19 based model (area = {:.3f})'.format(auc_var))\n",
    "plt.xlabel('False positive rate')\n",
    "plt.ylabel('True positive rate')\n",
    "plt.title('ROC curve')\n",
    "plt.legend(loc='best')\n",
    "plt.show()"
   ]
  },
  {
   "cell_type": "markdown",
   "metadata": {},
   "source": [
    "## Precision-Recall Curve for the Model"
   ]
  },
  {
   "cell_type": "code",
   "execution_count": 22,
   "metadata": {},
   "outputs": [],
   "source": [
    "from sklearn.metrics import precision_recall_curve\n",
    "from sklearn.metrics import f1_score\n",
    "from sklearn.metrics import average_precision_score"
   ]
  },
  {
   "cell_type": "code",
   "execution_count": 23,
   "metadata": {},
   "outputs": [],
   "source": [
    "precision, recall, thresholds = precision_recall_curve(test_labels.ravel(), preds)"
   ]
  },
  {
   "cell_type": "code",
   "execution_count": 24,
   "metadata": {},
   "outputs": [],
   "source": [
    "auc_var2 = auc(recall, precision)"
   ]
  },
  {
   "cell_type": "code",
   "execution_count": 25,
   "metadata": {},
   "outputs": [
    {
     "data": {
      "image/png": "[encoded data removed]",
      "text/plain": [
       "<Figure size 432x288 with 1 Axes>"
      ]
     },
     "metadata": {
      "needs_background": "light"
     },
     "output_type": "display_data"
    }
   ],
   "source": [
    "plt.figure()\n",
    "plt.plot(recall, precision, label='VGG19 based model (area = {:.3f})'.format(auc_var2))\n",
    "plt.xlabel('Recall')\n",
    "plt.ylabel('Precision')\n",
    "plt.title('Precision-Recall curve')\n",
    "plt.legend(loc='best')\n",
    "plt.show()"
   ]
  },
  {
   "cell_type": "code",
   "execution_count": 26,
   "metadata": {},
   "outputs": [
    {
     "name": "stdout",
     "output_type": "stream",
     "text": [
      "Average Precision Score: 0.993\n"
     ]
    }
   ],
   "source": [
    "print('Average Precision Score: {:.3f}'.format(average_precision_score(test_labels.ravel(), preds)))"
   ]
  },
  {
   "cell_type": "code",
   "execution_count": 27,
   "metadata": {},
   "outputs": [
    {
     "name": "stdout",
     "output_type": "stream",
     "text": [
      "F1 Score: 0.952\n"
     ]
    }
   ],
   "source": [
    "print(\"F1 Score: {:.3f}\".format(f1_score(test_labels.ravel(),predicted_labels.ravel())))"
   ]
  }
 ],
 "metadata": {
  "kernelspec": {
   "display_name": "Python 3",
   "language": "python",
   "name": "python3"
  },
  "language_info": {
   "codemirror_mode": {
    "name": "ipython",
    "version": 3
   },
   "file_extension": ".py",
   "mimetype": "text/x-python",
   "name": "python",
   "nbconvert_exporter": "python",
   "pygments_lexer": "ipython3",
   "version": "3.6.8"
  }
 },
 "nbformat": 4,
 "nbformat_minor": 2
}
