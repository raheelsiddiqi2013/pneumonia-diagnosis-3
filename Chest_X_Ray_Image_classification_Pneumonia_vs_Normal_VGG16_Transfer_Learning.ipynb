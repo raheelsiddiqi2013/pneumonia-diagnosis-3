{
 "cells": [
  {
   "cell_type": "markdown",
   "metadata": {},
   "source": [
    "# Automated Chest X-ray based Pneumonia Diagnosis using Data Augmentation and VGG16 based Transfer Learning \n",
    "The author of this notebook is **Dr Raheel Siddiqi** on *25-08-2019*. He is a *Senior Assistant Professor* at Bahria University, Karachi Campus, Pakistan. His research interests include *Medical Imaging*, *Computer Vision* and *Deep Learning*.\n",
    "\n",
    "The objective of the experiment (presented in this notebook) is to evaluate the effectiveness of **VGG16** pre-trained model when employed to diagnose Pneumonia (based on Chest X-ray images). The diagnosis process comprises of classifying Chest X-ray images into one of the two classes: (a) Normal, (b) Pneumonia.\n",
    "\n",
    "The dataset is downloded from [kaggle.com](https://www.kaggle.com/paultimothymooney/chest-xray-pneumonia). The dataset contains 5,863 X-Ray images (JPEG) and 2 categories (Pneumonia/Normal)."
   ]
  },
  {
   "cell_type": "markdown",
   "metadata": {},
   "source": [
    "## Tensorflow and Keras version used"
   ]
  },
  {
   "cell_type": "code",
   "execution_count": 1,
   "metadata": {},
   "outputs": [
    {
     "name": "stdout",
     "output_type": "stream",
     "text": [
      "Tensorflow Version:  1.13.1\n",
      "Keras Version:  2.2.4-tf\n"
     ]
    }
   ],
   "source": [
    "import tensorflow as tf\n",
    "from tensorflow.python import keras\n",
    "\n",
    "print('Tensorflow Version: ', tf.__version__)\n",
    "print('Keras Version: ', keras.__version__)"
   ]
  },
  {
   "cell_type": "markdown",
   "metadata": {},
   "source": [
    "## Setting up the Model"
   ]
  },
  {
   "cell_type": "code",
   "execution_count": 2,
   "metadata": {},
   "outputs": [
    {
     "name": "stdout",
     "output_type": "stream",
     "text": [
      "WARNING:tensorflow:From C:\\Users\\Raheel\\Anaconda3\\envs\\EnvName\\lib\\site-packages\\tensorflow\\python\\ops\\resource_variable_ops.py:435: colocate_with (from tensorflow.python.framework.ops) is deprecated and will be removed in a future version.\n",
      "Instructions for updating:\n",
      "Colocations handled automatically by placer.\n"
     ]
    }
   ],
   "source": [
    "from tensorflow.python.keras.applications import VGG16\n",
    "\n",
    "conv_base=VGG16(weights='imagenet',include_top=False,input_shape=(150,150,3))"
   ]
  },
  {
   "cell_type": "code",
   "execution_count": 3,
   "metadata": {},
   "outputs": [
    {
     "name": "stdout",
     "output_type": "stream",
     "text": [
      "_________________________________________________________________\n",
      "Layer (type)                 Output Shape              Param #   \n",
      "=================================================================\n",
      "input_1 (InputLayer)         (None, 150, 150, 3)       0         \n",
      "_________________________________________________________________\n",
      "block1_conv1 (Conv2D)        (None, 150, 150, 64)      1792      \n",
      "_________________________________________________________________\n",
      "block1_conv2 (Conv2D)        (None, 150, 150, 64)      36928     \n",
      "_________________________________________________________________\n",
      "block1_pool (MaxPooling2D)   (None, 75, 75, 64)        0         \n",
      "_________________________________________________________________\n",
      "block2_conv1 (Conv2D)        (None, 75, 75, 128)       73856     \n",
      "_________________________________________________________________\n",
      "block2_conv2 (Conv2D)        (None, 75, 75, 128)       147584    \n",
      "_________________________________________________________________\n",
      "block2_pool (MaxPooling2D)   (None, 37, 37, 128)       0         \n",
      "_________________________________________________________________\n",
      "block3_conv1 (Conv2D)        (None, 37, 37, 256)       295168    \n",
      "_________________________________________________________________\n",
      "block3_conv2 (Conv2D)        (None, 37, 37, 256)       590080    \n",
      "_________________________________________________________________\n",
      "block3_conv3 (Conv2D)        (None, 37, 37, 256)       590080    \n",
      "_________________________________________________________________\n",
      "block3_pool (MaxPooling2D)   (None, 18, 18, 256)       0         \n",
      "_________________________________________________________________\n",
      "block4_conv1 (Conv2D)        (None, 18, 18, 512)       1180160   \n",
      "_________________________________________________________________\n",
      "block4_conv2 (Conv2D)        (None, 18, 18, 512)       2359808   \n",
      "_________________________________________________________________\n",
      "block4_conv3 (Conv2D)        (None, 18, 18, 512)       2359808   \n",
      "_________________________________________________________________\n",
      "block4_pool (MaxPooling2D)   (None, 9, 9, 512)         0         \n",
      "_________________________________________________________________\n",
      "block5_conv1 (Conv2D)        (None, 9, 9, 512)         2359808   \n",
      "_________________________________________________________________\n",
      "block5_conv2 (Conv2D)        (None, 9, 9, 512)         2359808   \n",
      "_________________________________________________________________\n",
      "block5_conv3 (Conv2D)        (None, 9, 9, 512)         2359808   \n",
      "_________________________________________________________________\n",
      "block5_pool (MaxPooling2D)   (None, 4, 4, 512)         0         \n",
      "=================================================================\n",
      "Total params: 14,714,688\n",
      "Trainable params: 14,714,688\n",
      "Non-trainable params: 0\n",
      "_________________________________________________________________\n"
     ]
    }
   ],
   "source": [
    "conv_base.summary()"
   ]
  },
  {
   "cell_type": "code",
   "execution_count": 4,
   "metadata": {},
   "outputs": [],
   "source": [
    "import os\n",
    "import numpy as np\n",
    "from tensorflow.python.keras.preprocessing.image import ImageDataGenerator\n",
    "from tensorflow.python.keras import models\n",
    "from tensorflow.python.keras import layers\n",
    "from tensorflow.python.keras.callbacks import ModelCheckpoint\n",
    "from tensorflow.python.keras import optimizers\n",
    "\n",
    "model = models.Sequential()\n",
    "model.add(conv_base)\n",
    "model.add(layers.Flatten())\n",
    "model.add(layers.Dense(512, activation='relu'))\n",
    "model.add(layers.Dense(2, activation='softmax'))\n",
    "model.compile(loss='categorical_crossentropy',optimizer=optimizers.Adam(lr=1e-4),metrics=['categorical_accuracy'])\n",
    "filepath=\"VGG16_Chest_X_Ray_Image_Classification_Pneumonia_vs_Normal_best_model.h5\"\n",
    "checkpoint = ModelCheckpoint(filepath, save_best_only=True)\n",
    "callbacks_list = [checkpoint]"
   ]
  },
  {
   "cell_type": "code",
   "execution_count": 5,
   "metadata": {},
   "outputs": [
    {
     "name": "stdout",
     "output_type": "stream",
     "text": [
      "_________________________________________________________________\n",
      "Layer (type)                 Output Shape              Param #   \n",
      "=================================================================\n",
      "vgg16 (Model)                (None, 4, 4, 512)         14714688  \n",
      "_________________________________________________________________\n",
      "flatten (Flatten)            (None, 8192)              0         \n",
      "_________________________________________________________________\n",
      "dense (Dense)                (None, 512)               4194816   \n",
      "_________________________________________________________________\n",
      "dense_1 (Dense)              (None, 2)                 1026      \n",
      "=================================================================\n",
      "Total params: 18,910,530\n",
      "Trainable params: 18,910,530\n",
      "Non-trainable params: 0\n",
      "_________________________________________________________________\n"
     ]
    }
   ],
   "source": [
    "model.summary()"
   ]
  },
  {
   "cell_type": "markdown",
   "metadata": {},
   "source": [
    "## Setting up Training and Validation Data for the experiment"
   ]
  },
  {
   "cell_type": "code",
   "execution_count": 6,
   "metadata": {},
   "outputs": [],
   "source": [
    "image_height = 150\n",
    "image_width = 150\n",
    "batch_size = 8\n",
    "no_of_epochs  = 100\n",
    "number_of_training_samples=5216\n",
    "number_of_validation_samples=16\n",
    "number_of_test_samples=624"
   ]
  },
  {
   "cell_type": "code",
   "execution_count": 7,
   "metadata": {},
   "outputs": [],
   "source": [
    "train_dir='D:\\\\TensorFlow Programs\\\\Diagnosis of Pneumonia based on Chest X-Rays\\\\chest-xray-pneumonia\\\\chest_xray\\\\chest_xray\\\\train'\n",
    "validation_dir='D:\\\\TensorFlow Programs\\\\Diagnosis of Pneumonia based on Chest X-Rays\\\\chest-xray-pneumonia\\\\chest_xray\\\\chest_xray\\\\val'\n",
    "test_dir='D:\\\\TensorFlow Programs\\\\Diagnosis of Pneumonia based on Chest X-Rays\\\\chest-xray-pneumonia\\\\chest_xray\\\\chest_xray\\\\test'"
   ]
  },
  {
   "cell_type": "code",
   "execution_count": 8,
   "metadata": {},
   "outputs": [],
   "source": [
    "train_datagen = ImageDataGenerator(rescale=1./255,\n",
    "                                   rotation_range=40,\n",
    "                                   width_shift_range=0.2,\n",
    "                                   height_shift_range=0.2,\n",
    "                                   shear_range=0.2,\n",
    "                                   zoom_range=0.2\n",
    "                                   )\n",
    "\n",
    "validation_datagen = ImageDataGenerator(rescale=1./255)  \n",
    "\n",
    "test_datagen = ImageDataGenerator(rescale=1./255)"
   ]
  },
  {
   "cell_type": "code",
   "execution_count": 9,
   "metadata": {},
   "outputs": [
    {
     "name": "stdout",
     "output_type": "stream",
     "text": [
      "Found 5216 images belonging to 2 classes.\n",
      "Found 16 images belonging to 2 classes.\n",
      "Found 624 images belonging to 2 classes.\n"
     ]
    }
   ],
   "source": [
    "training_set = train_datagen.flow_from_directory(train_dir,target_size=(image_width, image_height),batch_size=batch_size)\n",
    "validation_set = validation_datagen.flow_from_directory(validation_dir,target_size=(image_width, image_height),batch_size=batch_size,shuffle=False)\n",
    "test_set = test_datagen.flow_from_directory(test_dir,target_size=(image_width, image_height),batch_size=batch_size,shuffle=False)"
   ]
  },
  {
   "cell_type": "markdown",
   "metadata": {},
   "source": [
    "## Model Training"
   ]
  },
  {
   "cell_type": "code",
   "execution_count": 10,
   "metadata": {},
   "outputs": [
    {
     "name": "stdout",
     "output_type": "stream",
     "text": [
      "WARNING:tensorflow:From C:\\Users\\Raheel\\Anaconda3\\envs\\EnvName\\lib\\site-packages\\tensorflow\\python\\ops\\math_ops.py:3066: to_int32 (from tensorflow.python.ops.math_ops) is deprecated and will be removed in a future version.\n",
      "Instructions for updating:\n",
      "Use tf.cast instead.\n",
      "Epoch 1/100\n",
      "2/2 [==============================] - 0s 210ms/step - loss: 0.7129 - categorical_accuracy: 0.7500\n",
      "652/652 [==============================] - 157s 240ms/step - loss: 0.3589 - categorical_accuracy: 0.8288 - val_loss: 0.7129 - val_categorical_accuracy: 0.7500\n",
      "Epoch 2/100\n",
      "2/2 [==============================] - 0s 118ms/step - loss: 0.3479 - categorical_accuracy: 0.8750\n",
      "652/652 [==============================] - 152s 233ms/step - loss: 0.2235 - categorical_accuracy: 0.9061 - val_loss: 0.3479 - val_categorical_accuracy: 0.8750\n",
      "Epoch 3/100\n",
      "2/2 [==============================] - 0s 144ms/step - loss: 0.9264 - categorical_accuracy: 0.7500\n",
      "652/652 [==============================] - 153s 235ms/step - loss: 0.1769 - categorical_accuracy: 0.9308 - val_loss: 0.9264 - val_categorical_accuracy: 0.7500\n",
      "Epoch 4/100\n",
      "2/2 [==============================] - 0s 176ms/step - loss: 0.2497 - categorical_accuracy: 0.8125\n",
      "652/652 [==============================] - 160s 245ms/step - loss: 0.1655 - categorical_accuracy: 0.9365 - val_loss: 0.2497 - val_categorical_accuracy: 0.8125\n",
      "Epoch 5/100\n",
      "2/2 [==============================] - 0s 184ms/step - loss: 0.4897 - categorical_accuracy: 0.6875\n",
      "652/652 [==============================] - 153s 235ms/step - loss: 0.1519 - categorical_accuracy: 0.9434 - val_loss: 0.4897 - val_categorical_accuracy: 0.6875\n",
      "Epoch 6/100\n",
      "2/2 [==============================] - 0s 128ms/step - loss: 0.3773 - categorical_accuracy: 0.7500\n",
      "652/652 [==============================] - 158s 242ms/step - loss: 0.1410 - categorical_accuracy: 0.9471 - val_loss: 0.3773 - val_categorical_accuracy: 0.7500\n",
      "Epoch 7/100\n",
      "2/2 [==============================] - 0s 113ms/step - loss: 0.4006 - categorical_accuracy: 0.8750\n",
      "652/652 [==============================] - 133s 204ms/step - loss: 0.1275 - categorical_accuracy: 0.9523 - val_loss: 0.4006 - val_categorical_accuracy: 0.8750\n",
      "Epoch 8/100\n",
      "2/2 [==============================] - 0s 118ms/step - loss: 2.0022 - categorical_accuracy: 0.6250\n",
      "652/652 [==============================] - 130s 199ms/step - loss: 0.1178 - categorical_accuracy: 0.9559 - val_loss: 2.0022 - val_categorical_accuracy: 0.6250\n",
      "Epoch 9/100\n",
      "2/2 [==============================] - 0s 176ms/step - loss: 0.2113 - categorical_accuracy: 0.8750\n",
      "652/652 [==============================] - 129s 198ms/step - loss: 0.1101 - categorical_accuracy: 0.9584 - val_loss: 0.2113 - val_categorical_accuracy: 0.8750\n",
      "Epoch 10/100\n",
      "2/2 [==============================] - 0s 166ms/step - loss: 0.8838 - categorical_accuracy: 0.6875\n",
      "652/652 [==============================] - 129s 199ms/step - loss: 0.1024 - categorical_accuracy: 0.9603 - val_loss: 0.8838 - val_categorical_accuracy: 0.6875\n",
      "Epoch 11/100\n",
      "2/2 [==============================] - 0s 118ms/step - loss: 0.1706 - categorical_accuracy: 0.8750TA: 2s - loss: 0.1032 - cate\n",
      "652/652 [==============================] - 129s 198ms/step - loss: 0.1042 - categorical_accuracy: 0.9622 - val_loss: 0.1706 - val_categorical_accuracy: 0.8750\n",
      "Epoch 12/100\n",
      "2/2 [==============================] - 0s 131ms/step - loss: 0.2251 - categorical_accuracy: 0.8750TA: 3s - loss: 0.103\n",
      "652/652 [==============================] - 130s 200ms/step - loss: 0.1023 - categorical_accuracy: 0.9613 - val_loss: 0.2251 - val_categorical_accuracy: 0.8750\n",
      "Epoch 13/100\n",
      "2/2 [==============================] - 0s 124ms/step - loss: 0.4297 - categorical_accuracy: 0.8125TA: 0s - loss: 0.1048 - categorical_accuracy: 0.96\n",
      "652/652 [==============================] - 132s 202ms/step - loss: 0.1047 - categorical_accuracy: 0.9620 - val_loss: 0.4297 - val_categorical_accuracy: 0.8125\n",
      "Epoch 14/100\n",
      "2/2 [==============================] - 0s 131ms/step - loss: 0.2924 - categorical_accuracy: 0.8750\n",
      "652/652 [==============================] - 131s 201ms/step - loss: 0.0875 - categorical_accuracy: 0.9689 - val_loss: 0.2924 - val_categorical_accuracy: 0.8750\n",
      "Epoch 15/100\n",
      "2/2 [==============================] - 0s 122ms/step - loss: 0.1178 - categorical_accuracy: 0.9375\n",
      "652/652 [==============================] - 132s 202ms/step - loss: 0.0855 - categorical_accuracy: 0.9707 - val_loss: 0.1178 - val_categorical_accuracy: 0.9375\n",
      "Epoch 16/100\n",
      "2/2 [==============================] - 0s 160ms/step - loss: 0.9263 - categorical_accuracy: 0.7500TA: 2s - loss: 0.0817 - ca\n",
      "652/652 [==============================] - 130s 199ms/step - loss: 0.0820 - categorical_accuracy: 0.9693 - val_loss: 0.9263 - val_categorical_accuracy: 0.7500\n",
      "Epoch 17/100\n",
      "2/2 [==============================] - 0s 127ms/step - loss: 0.4389 - categorical_accuracy: 0.8125\n",
      "652/652 [==============================] - 130s 200ms/step - loss: 0.0788 - categorical_accuracy: 0.9730 - val_loss: 0.4389 - val_categorical_accuracy: 0.8125\n",
      "Epoch 18/100\n",
      "2/2 [==============================] - 0s 133ms/step - loss: 0.6335 - categorical_accuracy: 0.7500\n",
      "652/652 [==============================] - 131s 200ms/step - loss: 0.0896 - categorical_accuracy: 0.9680 - val_loss: 0.6335 - val_categorical_accuracy: 0.7500\n",
      "Epoch 19/100\n",
      "2/2 [==============================] - 0s 118ms/step - loss: 0.5118 - categorical_accuracy: 0.8750\n",
      "652/652 [==============================] - 130s 200ms/step - loss: 0.0695 - categorical_accuracy: 0.9757 - val_loss: 0.5118 - val_categorical_accuracy: 0.8750\n",
      "Epoch 20/100\n",
      "2/2 [==============================] - 0s 126ms/step - loss: 0.5424 - categorical_accuracy: 0.8750\n",
      "652/652 [==============================] - 131s 201ms/step - loss: 0.0690 - categorical_accuracy: 0.9747 - val_loss: 0.5424 - val_categorical_accuracy: 0.8750\n",
      "Epoch 21/100\n",
      "2/2 [==============================] - 1s 409ms/step - loss: 0.4426 - categorical_accuracy: 0.8750\n",
      "652/652 [==============================] - 130s 200ms/step - loss: 0.0661 - categorical_accuracy: 0.9785 - val_loss: 0.4426 - val_categorical_accuracy: 0.8750\n",
      "Epoch 22/100\n",
      "2/2 [==============================] - 0s 121ms/step - loss: 0.1073 - categorical_accuracy: 0.9375\n",
      "652/652 [==============================] - 130s 199ms/step - loss: 0.0698 - categorical_accuracy: 0.9722 - val_loss: 0.1073 - val_categorical_accuracy: 0.9375\n",
      "Epoch 23/100\n",
      "2/2 [==============================] - 0s 120ms/step - loss: 0.1614 - categorical_accuracy: 0.8750\n",
      "652/652 [==============================] - 130s 200ms/step - loss: 0.0559 - categorical_accuracy: 0.9783 - val_loss: 0.1614 - val_categorical_accuracy: 0.8750\n",
      "Epoch 24/100\n",
      "2/2 [==============================] - 0s 114ms/step - loss: 0.1336 - categorical_accuracy: 0.9375\n",
      "652/652 [==============================] - 129s 197ms/step - loss: 0.0622 - categorical_accuracy: 0.9783 - val_loss: 0.1336 - val_categorical_accuracy: 0.9375\n",
      "Epoch 25/100\n",
      "2/2 [==============================] - 0s 117ms/step - loss: 0.0772 - categorical_accuracy: 1.0000\n",
      "652/652 [==============================] - 129s 198ms/step - loss: 0.0598 - categorical_accuracy: 0.9791 - val_loss: 0.0772 - val_categorical_accuracy: 1.0000\n",
      "Epoch 26/100\n",
      "2/2 [==============================] - 0s 113ms/step - loss: 0.4054 - categorical_accuracy: 0.8125 ETA: 21s\n",
      "652/652 [==============================] - 129s 198ms/step - loss: 0.0564 - categorical_accuracy: 0.9799 - val_loss: 0.4054 - val_categorical_accuracy: 0.8125\n",
      "Epoch 27/100\n",
      "2/2 [==============================] - 0s 124ms/step - loss: 0.1910 - categorical_accuracy: 0.9375\n",
      "652/652 [==============================] - 129s 198ms/step - loss: 0.0556 - categorical_accuracy: 0.9783 - val_loss: 0.1910 - val_categorical_accuracy: 0.9375\n",
      "Epoch 28/100\n",
      "2/2 [==============================] - 0s 121ms/step - loss: 0.2568 - categorical_accuracy: 0.8125\n",
      "652/652 [==============================] - 130s 199ms/step - loss: 0.0648 - categorical_accuracy: 0.9758 - val_loss: 0.2568 - val_categorical_accuracy: 0.8125\n",
      "Epoch 29/100\n",
      "2/2 [==============================] - 0s 113ms/step - loss: 0.3518 - categorical_accuracy: 0.8125\n",
      "652/652 [==============================] - 129s 198ms/step - loss: 0.0599 - categorical_accuracy: 0.9781 - val_loss: 0.3518 - val_categorical_accuracy: 0.8125\n"
     ]
    },
    {
     "name": "stdout",
     "output_type": "stream",
     "text": [
      "Epoch 30/100\n",
      "2/2 [==============================] - 0s 117ms/step - loss: 0.2374 - categorical_accuracy: 0.8750\n",
      "652/652 [==============================] - 130s 199ms/step - loss: 0.0581 - categorical_accuracy: 0.9810 - val_loss: 0.2374 - val_categorical_accuracy: 0.8750\n",
      "Epoch 31/100\n",
      "2/2 [==============================] - 0s 120ms/step - loss: 0.0461 - categorical_accuracy: 1.0000TA: 0s - loss: 0.0496 - categorical_accuracy: \n",
      "652/652 [==============================] - 129s 198ms/step - loss: 0.0497 - categorical_accuracy: 0.9826 - val_loss: 0.0461 - val_categorical_accuracy: 1.0000\n",
      "Epoch 32/100\n",
      "2/2 [==============================] - 0s 115ms/step - loss: 0.4148 - categorical_accuracy: 0.9375\n",
      "652/652 [==============================] - 129s 198ms/step - loss: 0.0673 - categorical_accuracy: 0.9766 - val_loss: 0.4148 - val_categorical_accuracy: 0.9375\n",
      "Epoch 33/100\n",
      "2/2 [==============================] - 0s 158ms/step - loss: 0.3233 - categorical_accuracy: 0.9375\n",
      "652/652 [==============================] - 130s 199ms/step - loss: 0.0446 - categorical_accuracy: 0.9839 - val_loss: 0.3233 - val_categorical_accuracy: 0.9375\n",
      "Epoch 34/100\n",
      "2/2 [==============================] - 0s 119ms/step - loss: 0.0502 - categorical_accuracy: 1.0000TA: 4s - l - ETA: 0s - loss: 0.0486 - categorical_accuracy: 0.\n",
      "652/652 [==============================] - 129s 198ms/step - loss: 0.0486 - categorical_accuracy: 0.9829 - val_loss: 0.0502 - val_categorical_accuracy: 1.0000\n",
      "Epoch 35/100\n",
      "2/2 [==============================] - 0s 153ms/step - loss: 0.3690 - categorical_accuracy: 0.8750\n",
      "652/652 [==============================] - 129s 198ms/step - loss: 0.0581 - categorical_accuracy: 0.9826 - val_loss: 0.3690 - val_categorical_accuracy: 0.8750\n",
      "Epoch 36/100\n",
      "2/2 [==============================] - 0s 132ms/step - loss: 0.1440 - categorical_accuracy: 0.9375\n",
      "652/652 [==============================] - 130s 200ms/step - loss: 0.0493 - categorical_accuracy: 0.9814 - val_loss: 0.1440 - val_categorical_accuracy: 0.9375\n",
      "Epoch 37/100\n",
      "2/2 [==============================] - 0s 119ms/step - loss: 0.0680 - categorical_accuracy: 1.0000\n",
      "652/652 [==============================] - 130s 199ms/step - loss: 0.0434 - categorical_accuracy: 0.9839 - val_loss: 0.0680 - val_categorical_accuracy: 1.0000\n",
      "Epoch 38/100\n",
      "2/2 [==============================] - 0s 122ms/step - loss: 0.6816 - categorical_accuracy: 0.8125\n",
      "652/652 [==============================] - 129s 198ms/step - loss: 0.0403 - categorical_accuracy: 0.9856 - val_loss: 0.6816 - val_categorical_accuracy: 0.8125\n",
      "Epoch 39/100\n",
      "2/2 [==============================] - 0s 144ms/step - loss: 0.6814 - categorical_accuracy: 0.7500\n",
      "652/652 [==============================] - 129s 197ms/step - loss: 0.0462 - categorical_accuracy: 0.9839 - val_loss: 0.6814 - val_categorical_accuracy: 0.7500\n",
      "Epoch 40/100\n",
      "2/2 [==============================] - 0s 115ms/step - loss: 0.1948 - categorical_accuracy: 0.9375\n",
      "652/652 [==============================] - 129s 197ms/step - loss: 0.0474 - categorical_accuracy: 0.9854 - val_loss: 0.1948 - val_categorical_accuracy: 0.9375\n",
      "Epoch 41/100\n",
      "2/2 [==============================] - 0s 122ms/step - loss: 0.1219 - categorical_accuracy: 0.9375\n",
      "652/652 [==============================] - 129s 197ms/step - loss: 0.0413 - categorical_accuracy: 0.9854 - val_loss: 0.1219 - val_categorical_accuracy: 0.9375\n",
      "Epoch 42/100\n",
      "2/2 [==============================] - 0s 122ms/step - loss: 0.1560 - categorical_accuracy: 0.9375\n",
      "652/652 [==============================] - 129s 197ms/step - loss: 0.0439 - categorical_accuracy: 0.9827 - val_loss: 0.1560 - val_categorical_accuracy: 0.9375\n",
      "Epoch 43/100\n",
      "2/2 [==============================] - 0s 111ms/step - loss: 0.3274 - categorical_accuracy: 0.9375\n",
      "652/652 [==============================] - 129s 197ms/step - loss: 0.0391 - categorical_accuracy: 0.9860 - val_loss: 0.3274 - val_categorical_accuracy: 0.9375\n",
      "Epoch 44/100\n",
      "2/2 [==============================] - 0s 115ms/step - loss: 0.3806 - categorical_accuracy: 0.8125\n",
      "652/652 [==============================] - 129s 197ms/step - loss: 0.0408 - categorical_accuracy: 0.9849 - val_loss: 0.3806 - val_categorical_accuracy: 0.8125\n",
      "Epoch 45/100\n",
      "2/2 [==============================] - 0s 123ms/step - loss: 0.1650 - categorical_accuracy: 0.9375\n",
      "652/652 [==============================] - 129s 197ms/step - loss: 0.0381 - categorical_accuracy: 0.9864 - val_loss: 0.1650 - val_categorical_accuracy: 0.9375\n",
      "Epoch 46/100\n",
      "2/2 [==============================] - 0s 118ms/step - loss: 0.5539 - categorical_accuracy: 0.8750\n",
      "652/652 [==============================] - 129s 197ms/step - loss: 0.0402 - categorical_accuracy: 0.9862 - val_loss: 0.5539 - val_categorical_accuracy: 0.8750\n",
      "Epoch 47/100\n",
      "2/2 [==============================] - 0s 114ms/step - loss: 0.2544 - categorical_accuracy: 0.8750\n",
      "652/652 [==============================] - 129s 197ms/step - loss: 0.0513 - categorical_accuracy: 0.9799 - val_loss: 0.2544 - val_categorical_accuracy: 0.8750\n",
      "Epoch 48/100\n",
      "2/2 [==============================] - 0s 125ms/step - loss: 0.0941 - categorical_accuracy: 0.9375\n",
      "652/652 [==============================] - 128s 197ms/step - loss: 0.0326 - categorical_accuracy: 0.9887 - val_loss: 0.0941 - val_categorical_accuracy: 0.9375\n",
      "Epoch 49/100\n",
      "2/2 [==============================] - 0s 123ms/step - loss: 0.2877 - categorical_accuracy: 0.8125\n",
      "652/652 [==============================] - 128s 197ms/step - loss: 0.0317 - categorical_accuracy: 0.9879 - val_loss: 0.2877 - val_categorical_accuracy: 0.8125\n",
      "Epoch 50/100\n",
      "2/2 [==============================] - 0s 121ms/step - loss: 0.3125 - categorical_accuracy: 0.9375TA\n",
      "652/652 [==============================] - 128s 197ms/step - loss: 0.0987 - categorical_accuracy: 0.9724 - val_loss: 0.3125 - val_categorical_accuracy: 0.9375\n",
      "Epoch 51/100\n",
      "2/2 [==============================] - 0s 122ms/step - loss: 0.1137 - categorical_accuracy: 0.9375\n",
      "652/652 [==============================] - 128s 197ms/step - loss: 0.0335 - categorical_accuracy: 0.9883 - val_loss: 0.1137 - val_categorical_accuracy: 0.9375\n",
      "Epoch 52/100\n",
      "2/2 [==============================] - 0s 115ms/step - loss: 0.0754 - categorical_accuracy: 1.0000\n",
      "652/652 [==============================] - 129s 197ms/step - loss: 0.0392 - categorical_accuracy: 0.9864 - val_loss: 0.0754 - val_categorical_accuracy: 1.0000\n",
      "Epoch 53/100\n",
      "2/2 [==============================] - 0s 116ms/step - loss: 0.2956 - categorical_accuracy: 0.8125\n",
      "652/652 [==============================] - 129s 197ms/step - loss: 0.0308 - categorical_accuracy: 0.9891 - val_loss: 0.2956 - val_categorical_accuracy: 0.8125\n",
      "Epoch 54/100\n",
      "2/2 [==============================] - 0s 119ms/step - loss: 0.1792 - categorical_accuracy: 0.8750\n",
      "652/652 [==============================] - 129s 197ms/step - loss: 0.0276 - categorical_accuracy: 0.9895 - val_loss: 0.1792 - val_categorical_accuracy: 0.8750\n",
      "Epoch 55/100\n",
      "2/2 [==============================] - 0s 117ms/step - loss: 0.0380 - categorical_accuracy: 1.0000TA: 0s - loss: 0.0428 - categorical_accuracy: \n",
      "652/652 [==============================] - 129s 197ms/step - loss: 0.0427 - categorical_accuracy: 0.9868 - val_loss: 0.0380 - val_categorical_accuracy: 1.0000\n",
      "Epoch 56/100\n",
      "2/2 [==============================] - 0s 117ms/step - loss: 0.6431 - categorical_accuracy: 0.6875\n",
      "652/652 [==============================] - 128s 197ms/step - loss: 0.0422 - categorical_accuracy: 0.9839 - val_loss: 0.6431 - val_categorical_accuracy: 0.6875\n",
      "Epoch 57/100\n",
      "2/2 [==============================] - 0s 113ms/step - loss: 0.5320 - categorical_accuracy: 0.8750\n",
      "652/652 [==============================] - 128s 197ms/step - loss: 0.0206 - categorical_accuracy: 0.9925 - val_loss: 0.5320 - val_categorical_accuracy: 0.8750\n",
      "Epoch 58/100\n",
      "2/2 [==============================] - 0s 113ms/step - loss: 0.1688 - categorical_accuracy: 0.9375\n",
      "652/652 [==============================] - 129s 197ms/step - loss: 0.0397 - categorical_accuracy: 0.9864 - val_loss: 0.1688 - val_categorical_accuracy: 0.9375\n",
      "Epoch 59/100\n",
      "2/2 [==============================] - 0s 123ms/step - loss: 0.2435 - categorical_accuracy: 0.8125\n",
      "652/652 [==============================] - 128s 197ms/step - loss: 0.0338 - categorical_accuracy: 0.9881 - val_loss: 0.2435 - val_categorical_accuracy: 0.8125\n"
     ]
    },
    {
     "name": "stdout",
     "output_type": "stream",
     "text": [
      "Epoch 60/100\n",
      "2/2 [==============================] - 0s 121ms/step - loss: 1.0613 - categorical_accuracy: 0.8125\n",
      "652/652 [==============================] - 129s 197ms/step - loss: 0.0242 - categorical_accuracy: 0.9902 - val_loss: 1.0613 - val_categorical_accuracy: 0.8125\n",
      "Epoch 61/100\n",
      "2/2 [==============================] - 0s 144ms/step - loss: 0.2232 - categorical_accuracy: 0.8750\n",
      "652/652 [==============================] - 129s 197ms/step - loss: 0.0419 - categorical_accuracy: 0.9849 - val_loss: 0.2232 - val_categorical_accuracy: 0.8750\n",
      "Epoch 62/100\n",
      "2/2 [==============================] - 0s 127ms/step - loss: 0.5157 - categorical_accuracy: 0.8125\n",
      "652/652 [==============================] - 129s 197ms/step - loss: 0.0272 - categorical_accuracy: 0.9898 - val_loss: 0.5157 - val_categorical_accuracy: 0.8125\n",
      "Epoch 63/100\n",
      "2/2 [==============================] - 0s 138ms/step - loss: 0.3708 - categorical_accuracy: 0.8125\n",
      "652/652 [==============================] - 129s 197ms/step - loss: 0.0350 - categorical_accuracy: 0.9891 - val_loss: 0.3708 - val_categorical_accuracy: 0.8125\n",
      "Epoch 64/100\n",
      "2/2 [==============================] - 0s 131ms/step - loss: 0.1003 - categorical_accuracy: 0.9375\n",
      "652/652 [==============================] - 128s 197ms/step - loss: 0.0301 - categorical_accuracy: 0.9893 - val_loss: 0.1003 - val_categorical_accuracy: 0.9375\n",
      "Epoch 65/100\n",
      "2/2 [==============================] - 0s 122ms/step - loss: 0.2165 - categorical_accuracy: 0.9375\n",
      "652/652 [==============================] - 128s 197ms/step - loss: 0.0242 - categorical_accuracy: 0.9916 - val_loss: 0.2165 - val_categorical_accuracy: 0.9375\n",
      "Epoch 66/100\n",
      "2/2 [==============================] - 0s 139ms/step - loss: 0.3444 - categorical_accuracy: 0.9375\n",
      "652/652 [==============================] - 129s 197ms/step - loss: 0.0306 - categorical_accuracy: 0.9908 - val_loss: 0.3444 - val_categorical_accuracy: 0.9375\n",
      "Epoch 67/100\n",
      "2/2 [==============================] - 0s 115ms/step - loss: 0.0231 - categorical_accuracy: 1.0000\n",
      "652/652 [==============================] - 129s 197ms/step - loss: 0.0269 - categorical_accuracy: 0.9896 - val_loss: 0.0231 - val_categorical_accuracy: 1.0000\n",
      "Epoch 68/100\n",
      "2/2 [==============================] - 0s 120ms/step - loss: 0.2690 - categorical_accuracy: 0.8750\n",
      "652/652 [==============================] - 129s 197ms/step - loss: 0.0372 - categorical_accuracy: 0.9875 - val_loss: 0.2690 - val_categorical_accuracy: 0.8750\n",
      "Epoch 69/100\n",
      "2/2 [==============================] - 0s 111ms/step - loss: 0.3542 - categorical_accuracy: 0.8125\n",
      "652/652 [==============================] - 129s 197ms/step - loss: 0.0534 - categorical_accuracy: 0.9839 - val_loss: 0.3542 - val_categorical_accuracy: 0.8125\n",
      "Epoch 70/100\n",
      "2/2 [==============================] - 0s 118ms/step - loss: 0.0802 - categorical_accuracy: 1.0000\n",
      "652/652 [==============================] - 129s 197ms/step - loss: 0.0338 - categorical_accuracy: 0.9873 - val_loss: 0.0802 - val_categorical_accuracy: 1.0000\n",
      "Epoch 71/100\n",
      "2/2 [==============================] - 0s 118ms/step - loss: 0.0253 - categorical_accuracy: 1.0000\n",
      "652/652 [==============================] - 129s 197ms/step - loss: 0.0253 - categorical_accuracy: 0.9900 - val_loss: 0.0253 - val_categorical_accuracy: 1.0000\n",
      "Epoch 72/100\n",
      "2/2 [==============================] - 0s 107ms/step - loss: 0.7198 - categorical_accuracy: 0.8125\n",
      "652/652 [==============================] - 129s 197ms/step - loss: 0.0199 - categorical_accuracy: 0.9933 - val_loss: 0.7198 - val_categorical_accuracy: 0.8125\n",
      "Epoch 73/100\n",
      "2/2 [==============================] - 0s 120ms/step - loss: 0.1390 - categorical_accuracy: 0.9375\n",
      "652/652 [==============================] - 129s 197ms/step - loss: 0.0559 - categorical_accuracy: 0.9797 - val_loss: 0.1390 - val_categorical_accuracy: 0.9375\n",
      "Epoch 74/100\n",
      "2/2 [==============================] - 0s 122ms/step - loss: 0.0219 - categorical_accuracy: 1.0000\n",
      "652/652 [==============================] - 129s 197ms/step - loss: 0.0374 - categorical_accuracy: 0.9858 - val_loss: 0.0219 - val_categorical_accuracy: 1.0000\n",
      "Epoch 75/100\n",
      "2/2 [==============================] - 0s 115ms/step - loss: 0.0450 - categorical_accuracy: 1.0000\n",
      "652/652 [==============================] - 129s 197ms/step - loss: 0.0255 - categorical_accuracy: 0.9896 - val_loss: 0.0450 - val_categorical_accuracy: 1.0000\n",
      "Epoch 76/100\n",
      "2/2 [==============================] - 0s 119ms/step - loss: 0.2777 - categorical_accuracy: 0.8750\n",
      "652/652 [==============================] - 129s 197ms/step - loss: 0.0254 - categorical_accuracy: 0.9908 - val_loss: 0.2777 - val_categorical_accuracy: 0.8750\n",
      "Epoch 77/100\n",
      "2/2 [==============================] - 0s 119ms/step - loss: 0.4926 - categorical_accuracy: 0.9375\n",
      "652/652 [==============================] - 128s 197ms/step - loss: 0.0350 - categorical_accuracy: 0.9887 - val_loss: 0.4926 - val_categorical_accuracy: 0.9375\n",
      "Epoch 78/100\n",
      "2/2 [==============================] - 0s 118ms/step - loss: 0.2623 - categorical_accuracy: 0.8750\n",
      "652/652 [==============================] - 128s 197ms/step - loss: 0.0197 - categorical_accuracy: 0.9929 - val_loss: 0.2623 - val_categorical_accuracy: 0.8750\n",
      "Epoch 79/100\n",
      "2/2 [==============================] - 0s 121ms/step - loss: 0.1050 - categorical_accuracy: 0.9375TA: 0s - loss: 0.0265 - categorical_accuracy: \n",
      "652/652 [==============================] - 128s 197ms/step - loss: 0.0265 - categorical_accuracy: 0.9918 - val_loss: 0.1050 - val_categorical_accuracy: 0.9375\n",
      "Epoch 80/100\n",
      "2/2 [==============================] - 0s 126ms/step - loss: 0.0722 - categorical_accuracy: 1.0000\n",
      "652/652 [==============================] - 128s 197ms/step - loss: 0.0280 - categorical_accuracy: 0.9914 - val_loss: 0.0722 - val_categorical_accuracy: 1.0000\n",
      "Epoch 81/100\n",
      "2/2 [==============================] - 0s 117ms/step - loss: 0.4489 - categorical_accuracy: 0.8750\n",
      "652/652 [==============================] - 128s 197ms/step - loss: 0.0231 - categorical_accuracy: 0.9929 - val_loss: 0.4489 - val_categorical_accuracy: 0.8750\n",
      "Epoch 82/100\n",
      "2/2 [==============================] - 0s 120ms/step - loss: 0.0670 - categorical_accuracy: 1.0000TA: 1s - loss: 0.0323 - categori\n",
      "652/652 [==============================] - 129s 197ms/step - loss: 0.0321 - categorical_accuracy: 0.9891 - val_loss: 0.0670 - val_categorical_accuracy: 1.0000\n",
      "Epoch 83/100\n",
      "2/2 [==============================] - 0s 119ms/step - loss: 0.5423 - categorical_accuracy: 0.8125\n",
      "652/652 [==============================] - 128s 197ms/step - loss: 0.0381 - categorical_accuracy: 0.9872 - val_loss: 0.5423 - val_categorical_accuracy: 0.8125\n",
      "Epoch 84/100\n",
      "2/2 [==============================] - 0s 120ms/step - loss: 0.1434 - categorical_accuracy: 0.9375\n",
      "652/652 [==============================] - 129s 197ms/step - loss: 0.0230 - categorical_accuracy: 0.9931 - val_loss: 0.1434 - val_categorical_accuracy: 0.9375\n",
      "Epoch 85/100\n",
      "2/2 [==============================] - 0s 118ms/step - loss: 0.0276 - categorical_accuracy: 1.0000TA: 0s - loss: 0.0380 - categorical_accuracy\n",
      "652/652 [==============================] - 128s 197ms/step - loss: 0.0378 - categorical_accuracy: 0.9908 - val_loss: 0.0276 - val_categorical_accuracy: 1.0000\n",
      "Epoch 86/100\n",
      "2/2 [==============================] - 0s 117ms/step - loss: 0.2676 - categorical_accuracy: 0.8750\n",
      "652/652 [==============================] - 128s 197ms/step - loss: 0.0424 - categorical_accuracy: 0.9889 - val_loss: 0.2676 - val_categorical_accuracy: 0.8750\n",
      "Epoch 87/100\n",
      "2/2 [==============================] - 0s 121ms/step - loss: 0.1780 - categorical_accuracy: 0.8750\n",
      "652/652 [==============================] - 130s 200ms/step - loss: 0.0294 - categorical_accuracy: 0.9914 - val_loss: 0.1780 - val_categorical_accuracy: 0.8750\n",
      "Epoch 88/100\n",
      "2/2 [==============================] - 0s 127ms/step - loss: 0.1150 - categorical_accuracy: 0.9375\n",
      "652/652 [==============================] - 129s 198ms/step - loss: 0.0209 - categorical_accuracy: 0.9919 - val_loss: 0.1150 - val_categorical_accuracy: 0.9375\n",
      "Epoch 89/100\n",
      "2/2 [==============================] - 0s 120ms/step - loss: 0.1771 - categorical_accuracy: 0.9375\n",
      "652/652 [==============================] - 129s 197ms/step - loss: 0.0226 - categorical_accuracy: 0.9918 - val_loss: 0.1771 - val_categorical_accuracy: 0.9375\n"
     ]
    },
    {
     "name": "stdout",
     "output_type": "stream",
     "text": [
      "Epoch 90/100\n",
      "2/2 [==============================] - 0s 123ms/step - loss: 0.0342 - categorical_accuracy: 1.0000\n",
      "652/652 [==============================] - 129s 197ms/step - loss: 0.0188 - categorical_accuracy: 0.9921 - val_loss: 0.0342 - val_categorical_accuracy: 1.0000\n",
      "Epoch 91/100\n",
      "2/2 [==============================] - 0s 122ms/step - loss: 0.0022 - categorical_accuracy: 1.0000\n",
      "652/652 [==============================] - 129s 197ms/step - loss: 0.0271 - categorical_accuracy: 0.9919 - val_loss: 0.0022 - val_categorical_accuracy: 1.0000\n",
      "Epoch 92/100\n",
      "2/2 [==============================] - 0s 119ms/step - loss: 0.0369 - categorical_accuracy: 1.0000\n",
      "652/652 [==============================] - 128s 197ms/step - loss: 0.0333 - categorical_accuracy: 0.9883 - val_loss: 0.0369 - val_categorical_accuracy: 1.0000\n",
      "Epoch 93/100\n",
      "2/2 [==============================] - 0s 119ms/step - loss: 0.0976 - categorical_accuracy: 0.9375\n",
      "652/652 [==============================] - 128s 197ms/step - loss: 0.0296 - categorical_accuracy: 0.9898 - val_loss: 0.0976 - val_categorical_accuracy: 0.9375\n",
      "Epoch 94/100\n",
      "2/2 [==============================] - 0s 145ms/step - loss: 0.0799 - categorical_accuracy: 1.0000\n",
      "652/652 [==============================] - 128s 197ms/step - loss: 0.0229 - categorical_accuracy: 0.9931 - val_loss: 0.0799 - val_categorical_accuracy: 1.0000\n",
      "Epoch 95/100\n",
      "2/2 [==============================] - 0s 118ms/step - loss: 0.0041 - categorical_accuracy: 1.0000\n",
      "652/652 [==============================] - 129s 197ms/step - loss: 0.0150 - categorical_accuracy: 0.9948 - val_loss: 0.0041 - val_categorical_accuracy: 1.0000\n",
      "Epoch 96/100\n",
      "2/2 [==============================] - 0s 112ms/step - loss: 0.1764 - categorical_accuracy: 0.8750\n",
      "652/652 [==============================] - 129s 197ms/step - loss: 0.0255 - categorical_accuracy: 0.9921 - val_loss: 0.1764 - val_categorical_accuracy: 0.8750\n",
      "Epoch 97/100\n",
      "2/2 [==============================] - 0s 113ms/step - loss: 0.0835 - categorical_accuracy: 0.9375TA: 1s - loss: 0.0251 - categori\n",
      "652/652 [==============================] - 128s 197ms/step - loss: 0.0249 - categorical_accuracy: 0.9914 - val_loss: 0.0835 - val_categorical_accuracy: 0.9375\n",
      "Epoch 98/100\n",
      "2/2 [==============================] - 0s 123ms/step - loss: 0.1714 - categorical_accuracy: 0.9375TA: 4s - l\n",
      "652/652 [==============================] - 128s 197ms/step - loss: 0.0218 - categorical_accuracy: 0.9939 - val_loss: 0.1714 - val_categorical_accuracy: 0.9375\n",
      "Epoch 99/100\n",
      "2/2 [==============================] - 0s 119ms/step - loss: 0.4670 - categorical_accuracy: 0.8750\n",
      "652/652 [==============================] - 128s 197ms/step - loss: 0.0321 - categorical_accuracy: 0.9883 - val_loss: 0.4670 - val_categorical_accuracy: 0.8750\n",
      "Epoch 100/100\n",
      "2/2 [==============================] - 0s 121ms/step - loss: 0.8042 - categorical_accuracy: 0.9375\n",
      "652/652 [==============================] - 129s 197ms/step - loss: 0.0243 - categorical_accuracy: 0.9918 - val_loss: 0.8042 - val_categorical_accuracy: 0.9375\n"
     ]
    }
   ],
   "source": [
    "import math\n",
    "\n",
    "history = model.fit_generator(\n",
    "      training_set,\n",
    "      steps_per_epoch=math.ceil(number_of_training_samples//batch_size),\n",
    "      epochs=no_of_epochs,\n",
    "      callbacks=callbacks_list,\n",
    "      validation_data=validation_set,\n",
    "      validation_steps=math.ceil(number_of_validation_samples//batch_size))"
   ]
  },
  {
   "cell_type": "markdown",
   "metadata": {},
   "source": [
    "## Visualizing the Training Process"
   ]
  },
  {
   "cell_type": "code",
   "execution_count": 11,
   "metadata": {},
   "outputs": [
    {
     "data": {
      "image/png": "[encoded data removed]",
      "text/plain": [
       "<Figure size 432x288 with 1 Axes>"
      ]
     },
     "metadata": {
      "needs_background": "light"
     },
     "output_type": "display_data"
    },
    {
     "data": {
      "image/png": "[encoded data removed]",
      "text/plain": [
       "<Figure size 432x288 with 1 Axes>"
      ]
     },
     "metadata": {
      "needs_background": "light"
     },
     "output_type": "display_data"
    }
   ],
   "source": [
    "import matplotlib.pyplot as plt\n",
    "%matplotlib inline\n",
    "\n",
    "acc=history.history['categorical_accuracy']\n",
    "val_acc=history.history['val_categorical_accuracy']\n",
    "loss=history.history['loss']\n",
    "val_loss=history.history['val_loss']\n",
    "epochs=range(1,len(acc)+1)\n",
    "plt.xlabel('Epochs')\n",
    "plt.ylabel('Accuracy')\n",
    "plt.plot(epochs, acc, 'bo', label='Training acc')\n",
    "plt.plot(epochs, val_acc, 'b', label='Validation acc')\n",
    "plt.title('Training and validation accuracy')\n",
    "plt.legend()\n",
    "plt.figure()\n",
    "\n",
    "plt.plot(epochs, loss, 'bo', label='Training loss')\n",
    "plt.plot(epochs, val_loss, 'b', label='Validation loss')\n",
    "plt.title('Training and validation loss')\n",
    "plt.xlabel('Epochs')\n",
    "plt.ylabel('Loss')\n",
    "plt.legend()\n",
    "plt.show()"
   ]
  },
  {
   "cell_type": "markdown",
   "metadata": {},
   "source": [
    "## Loading the Best Model"
   ]
  },
  {
   "cell_type": "code",
   "execution_count": 12,
   "metadata": {},
   "outputs": [],
   "source": [
    "from tensorflow.python.keras.models import load_model\n",
    "\n",
    "best_model = load_model('VGG16_Chest_X_Ray_Image_Classification_Pneumonia_vs_Normal_best_model.h5')"
   ]
  },
  {
   "cell_type": "markdown",
   "metadata": {},
   "source": [
    "## Evaluating the Best Model"
   ]
  },
  {
   "cell_type": "code",
   "execution_count": 13,
   "metadata": {},
   "outputs": [
    {
     "name": "stdout",
     "output_type": "stream",
     "text": [
      "78/78 [==============================] - 6s 82ms/step - loss: 0.2941 - categorical_accuracy: 0.9583 0s - loss: 0.3036 - categorical_ac\n",
      "Test-set classification accuracy: 95.83%\n"
     ]
    }
   ],
   "source": [
    "steps_test=int(number_of_test_samples/batch_size)\n",
    "result = best_model.evaluate_generator(test_set, steps=steps_test,verbose=1)\n",
    "print(\"Test-set classification accuracy: {0:.2%}\".format(result[1]))"
   ]
  },
  {
   "cell_type": "markdown",
   "metadata": {},
   "source": [
    "## Calculating Precision, Specificity and Sensitivity (Recall) values for the model\n",
    "*Precision-Recall* is a useful measure of success of prediction when the classes are very imbalanced. High *precision* relates to a low false positive rate, and high *recall* relates to a low false negative rate.\n",
    "\n",
    "Precision is defined as the number of true positives over the number of true positives plus the number of false positives. Recall is defined as the number of true positives over the number of true positives plus the number of false negatives. Please see the [link](https://scikit-learn.org/stable/auto_examples/model_selection/plot_precision_recall.html) for details.\n",
    "\n",
    "Another way of assessing a binary classification model is to compute the *sensitivity* (also called the true positive rate or the recall) and *specificity* (also called the true negative rate) of the model. *Sensitivity* indicates the percentage of sick people who are correctly identified as having the condition. *Specificity* indicates the percentage of healthy people who are correctly identified as not having the condition.\n",
    "\n",
    "But first we prepare our test data, so that later we can draw the *confusion matrix* as well as calculate *precision*, *specificity* and *sensitivity (recall)* of the model."
   ]
  },
  {
   "cell_type": "code",
   "execution_count": 14,
   "metadata": {},
   "outputs": [
    {
     "name": "stdout",
     "output_type": "stream",
     "text": [
      "Total number of test examples:  (624, 150, 150, 3)\n",
      "Total number of labels: (624, 1)\n"
     ]
    }
   ],
   "source": [
    "# Preparing test data\n",
    "import glob\n",
    "from pathlib import Path\n",
    "from tensorflow.python.keras.utils import to_categorical\n",
    "import cv2\n",
    "\n",
    "normal_cases_dir = Path('D:\\\\TensorFlow Programs\\\\Diagnosis of Pneumonia based on Chest X-Rays\\\\chest-xray-pneumonia\\\\chest_xray\\\\chest_xray\\\\test\\\\NORMAL')\n",
    "pneumonia_cases_dir = Path('D:\\\\TensorFlow Programs\\\\Diagnosis of Pneumonia based on Chest X-Rays\\\\chest-xray-pneumonia\\\\chest_xray\\\\chest_xray\\\\test\\\\PNEUMONIA')\n",
    "\n",
    "normal_cases = normal_cases_dir.glob('*.jpeg')\n",
    "pneumonia_cases = pneumonia_cases_dir.glob('*.jpeg')\n",
    "\n",
    "test_data = []\n",
    "test_labels = []\n",
    "\n",
    "for img in normal_cases:\n",
    "    img = cv2.imread(str(img))\n",
    "    img = cv2.resize(img, (image_width,image_height))\n",
    "    if img.shape[2] ==1:\n",
    "        img = np.dstack([img, img, img])\n",
    "    else:\n",
    "        img = cv2.cvtColor(img, cv2.COLOR_BGR2RGB)\n",
    "    img = img.astype(np.float32)/255.\n",
    "    label = [0]\n",
    "    test_data.append(img)\n",
    "    test_labels.append(label)\n",
    "                      \n",
    "for img in pneumonia_cases:\n",
    "    img = cv2.imread(str(img))\n",
    "    img = cv2.resize(img, (image_width,image_height))\n",
    "    if img.shape[2] ==1:\n",
    "        img = np.dstack([img, img, img])\n",
    "    else:\n",
    "        img = cv2.cvtColor(img, cv2.COLOR_BGR2RGB)\n",
    "    img = img.astype(np.float32)/255.\n",
    "    label = [1]\n",
    "    test_data.append(img)\n",
    "    test_labels.append(label)\n",
    "    \n",
    "\n",
    "test_data = np.array(test_data)\n",
    "test_labels = np.array(test_labels)\n",
    "test_labels_one_hot_encoding=to_categorical(test_labels)\n",
    "\n",
    "print(\"Total number of test examples: \", test_data.shape)\n",
    "print(\"Total number of labels:\", test_labels.shape)"
   ]
  },
  {
   "cell_type": "code",
   "execution_count": 15,
   "metadata": {},
   "outputs": [
    {
     "name": "stdout",
     "output_type": "stream",
     "text": [
      "624/624 [==============================] - 4s 7ms/sample - loss: 0.2751 - categorical_accuracy: 0.9583\n",
      "Loss on test set:  0.2751348613719215\n",
      "Accuracy on test set:  0.9583333\n"
     ]
    }
   ],
   "source": [
    "# Evaluation on test dataset\n",
    "\n",
    "test_loss, test_score = best_model.evaluate(test_data, test_labels_one_hot_encoding, batch_size=16)\n",
    "print(\"Loss on test set: \", test_loss)\n",
    "print(\"Accuracy on test set: \", test_score)"
   ]
  },
  {
   "cell_type": "code",
   "execution_count": 16,
   "metadata": {},
   "outputs": [
    {
     "name": "stdout",
     "output_type": "stream",
     "text": [
      "624/624 [==============================] - 4s 6ms/sample\n",
      "(624, 1)\n",
      "(624, 1)\n"
     ]
    }
   ],
   "source": [
    "# Get predictions\n",
    "preds = best_model.predict(test_data, batch_size=16,verbose=1)\n",
    "preds=np.around(preds)\n",
    "orig_test_labels=test_labels\n",
    "predicted_labels=np.argmax(preds,axis=1)\n",
    "predicted_labels=np.reshape(predicted_labels,(624,1))\n",
    "print(predicted_labels.shape)\n",
    "print(orig_test_labels.shape)"
   ]
  },
  {
   "cell_type": "code",
   "execution_count": 17,
   "metadata": {},
   "outputs": [
    {
     "data": {
      "text/plain": [
       "<Figure size 432x288 with 0 Axes>"
      ]
     },
     "metadata": {},
     "output_type": "display_data"
    },
    {
     "data": {
      "image/png": "[encoded data removed]",
      "text/plain": [
       "<Figure size 864x576 with 1 Axes>"
      ]
     },
     "metadata": {
      "needs_background": "light"
     },
     "output_type": "display_data"
    }
   ],
   "source": [
    "import matplotlib.pyplot as plt\n",
    "%matplotlib inline\n",
    "# Get the confusion matrix\n",
    "from sklearn.metrics import confusion_matrix\n",
    "from mlxtend.plotting import plot_confusion_matrix\n",
    "\n",
    "cm  = confusion_matrix(orig_test_labels, predicted_labels)\n",
    "plt.figure()\n",
    "plot_confusion_matrix(cm,figsize=(12,8), hide_ticks=True,cmap=plt.cm.Blues)\n",
    "plt.xticks(range(2), ['Normal', 'Pneumonia'], fontsize=16)\n",
    "plt.yticks(range(2), ['Normal', 'Pneumonia'], fontsize=16)\n",
    "plt.show()"
   ]
  },
  {
   "cell_type": "code",
   "execution_count": 18,
   "metadata": {},
   "outputs": [
    {
     "name": "stdout",
     "output_type": "stream",
     "text": [
      "Sensitivity (Recall) of the model is 0.985\n",
      "Specificity of the model is 0.915\n",
      "Precision of the model is 0.950\n"
     ]
    }
   ],
   "source": [
    "# Calculate Precision and Recall\n",
    "tn, fp, fn, tp = cm.ravel()\n",
    "\n",
    "precision = tp/(tp+fp)\n",
    "recall = tp/(tp+fn)\n",
    "specificity=tn/(tn+fp)\n",
    "\n",
    "print(\"Sensitivity (Recall) of the model is {:.3f}\".format(recall))\n",
    "print(\"Specificity of the model is {:.3f}\".format(specificity))\n",
    "print(\"Precision of the model is {:.3f}\".format(precision))"
   ]
  },
  {
   "cell_type": "markdown",
   "metadata": {},
   "source": [
    "Nice!!! So, this model has a `98.5%` sensitivity (recall), `91.5%` specificity and `95.0%` precision."
   ]
  },
  {
   "cell_type": "markdown",
   "metadata": {},
   "source": [
    "## ROC Curve and AUC for the model\n",
    "**Receiver operating characteristic** curve (a.k.a ROC) is a graphic plot that illustrates the diagnostic ability of a binary classifier system as its discrimination threshold is varied. The critical point here is \"binary classifier\" and \"varying threshold\". **Area Under the Curve** (a.k.a. AUC) is the percentage of the area that is under this ROC curve, ranging between 0 and 1.\n",
    "ROC is a great way to visualize the performance of a binary classifier, and AUC is one single number to summarize a classifier's performance. The higher the AUC is, the better the classifier."
   ]
  },
  {
   "cell_type": "code",
   "execution_count": 19,
   "metadata": {},
   "outputs": [],
   "source": [
    "from sklearn.metrics import roc_curve\n",
    "\n",
    "probs = best_model.predict_proba(test_data)\n",
    "preds = probs[:,1]\n",
    "fpr, tpr, thresholds = roc_curve(test_labels.ravel(), preds)"
   ]
  },
  {
   "cell_type": "code",
   "execution_count": 20,
   "metadata": {},
   "outputs": [],
   "source": [
    "from sklearn.metrics import auc\n",
    "auc_var = auc(fpr, tpr)"
   ]
  },
  {
   "cell_type": "code",
   "execution_count": 21,
   "metadata": {},
   "outputs": [
    {
     "data": {
      "image/png": "[encoded data removed]",
      "text/plain": [
       "<Figure size 432x288 with 1 Axes>"
      ]
     },
     "metadata": {
      "needs_background": "light"
     },
     "output_type": "display_data"
    }
   ],
   "source": [
    "import matplotlib.pyplot as plt\n",
    "%matplotlib inline\n",
    "plt.figure(1)\n",
    "plt.plot([0, 1], [0, 1], 'k--')\n",
    "plt.plot(fpr, tpr, label='VGG16 based model (area = {:.3f})'.format(auc_var))\n",
    "plt.xlabel('False positive rate')\n",
    "plt.ylabel('True positive rate')\n",
    "plt.title('ROC curve')\n",
    "plt.legend(loc='best')\n",
    "plt.show()"
   ]
  },
  {
   "cell_type": "markdown",
   "metadata": {},
   "source": [
    "## Precision-Recall Curve for the Model"
   ]
  },
  {
   "cell_type": "code",
   "execution_count": 22,
   "metadata": {},
   "outputs": [],
   "source": [
    "from sklearn.metrics import precision_recall_curve\n",
    "from sklearn.metrics import f1_score\n",
    "from sklearn.metrics import average_precision_score"
   ]
  },
  {
   "cell_type": "code",
   "execution_count": 23,
   "metadata": {},
   "outputs": [],
   "source": [
    "precision, recall, thresholds = precision_recall_curve(test_labels.ravel(), preds)"
   ]
  },
  {
   "cell_type": "code",
   "execution_count": 24,
   "metadata": {},
   "outputs": [],
   "source": [
    "auc_var2 = auc(recall, precision)"
   ]
  },
  {
   "cell_type": "code",
   "execution_count": 25,
   "metadata": {},
   "outputs": [
    {
     "data": {
      "image/png": "[encoded data removed]",
      "text/plain": [
       "<Figure size 432x288 with 1 Axes>"
      ]
     },
     "metadata": {
      "needs_background": "light"
     },
     "output_type": "display_data"
    }
   ],
   "source": [
    "plt.figure()\n",
    "plt.plot(recall, precision, label='VGG16 based model (area = {:.3f})'.format(auc_var2))\n",
    "plt.xlabel('Recall')\n",
    "plt.ylabel('Precision')\n",
    "plt.title('Precision-Recall curve')\n",
    "plt.legend(loc='best')\n",
    "plt.show()"
   ]
  },
  {
   "cell_type": "code",
   "execution_count": 26,
   "metadata": {},
   "outputs": [
    {
     "name": "stdout",
     "output_type": "stream",
     "text": [
      "Average Precision Score: 0.987\n"
     ]
    }
   ],
   "source": [
    "print('Average Precision Score: {:.3f}'.format(average_precision_score(test_labels.ravel(), preds)))"
   ]
  },
  {
   "cell_type": "code",
   "execution_count": 27,
   "metadata": {},
   "outputs": [
    {
     "name": "stdout",
     "output_type": "stream",
     "text": [
      "F1 Score: 0.967\n"
     ]
    }
   ],
   "source": [
    "print(\"F1 Score: {:.3f}\".format(f1_score(test_labels.ravel(),predicted_labels.ravel())))"
   ]
  }
 ],
 "metadata": {
  "kernelspec": {
   "display_name": "Python 3",
   "language": "python",
   "name": "python3"
  },
  "language_info": {
   "codemirror_mode": {
    "name": "ipython",
    "version": 3
   },
   "file_extension": ".py",
   "mimetype": "text/x-python",
   "name": "python",
   "nbconvert_exporter": "python",
   "pygments_lexer": "ipython3",
   "version": "3.6.8"
  }
 },
 "nbformat": 4,
 "nbformat_minor": 2
}
