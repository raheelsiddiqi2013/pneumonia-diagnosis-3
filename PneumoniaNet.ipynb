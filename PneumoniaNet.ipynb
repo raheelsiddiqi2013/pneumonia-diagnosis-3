{
 "cells": [
  {
   "cell_type": "markdown",
   "metadata": {},
   "source": [
    "# Automated Chest X-ray based Pneumonia Diagnosis using PneumoniaNet\n",
    "The author of this notebook is **Dr Raheel Siddiqi**. He is a *Senior Assistant Professor* at Bahria University, Karachi Campus, Pakistan. His research interests include *Medical Imaging*, *Computer Vision* and *Deep Learning*. \n",
    "\n",
    "The notebook is written and executed on *06-10-2019*. The objective of the experiment (presented in this notebook) is to evaluate the performance of a self-designed Convolutional Neural Network (CNN) based model called **PneumoniaNet**. PneumoniaNet is employed to diagnose Pneumonia (based on Chest X-ray images). The diagnosis process comprises of classifying Chest X-ray images into one of the two classes: (a) Normal, (b) Pneumonia.\n",
    "\n",
    "The dataset is downloded from [kaggle.com](https://www.kaggle.com/paultimothymooney/chest-xray-pneumonia). The dataset contains 5,863 X-Ray images (JPEG) and 2 categories (Pneumonia/Normal). The dataset is divided into three sets: (a) train, (b) val and (c) test.\n",
    "\n",
    "PneumoniaNet is based on a very simple 12-layer CNN architecture, where only 6 layers have trainable weights and biases. In order to avoid overfitting the following steps are ensured:\n",
    "1. Using a low capacity network i.e. less number of layers, less learnable parameters. This is done to reduce memorization capacity.\n",
    "2. Adding weight regularization to dense layer.\n",
    "3. Drop out layers have also been added.\n",
    "\n",
    "Architecture of PneumoniaNet is depicted below:\n",
    "![PneumoniaNet_architecture](PneumoniaNet_architecture.jpg)\n"
   ]
  },
  {
   "cell_type": "markdown",
   "metadata": {},
   "source": [
    "# Tensorflow and Keras version used"
   ]
  },
  {
   "cell_type": "code",
   "execution_count": 1,
   "metadata": {},
   "outputs": [
    {
     "name": "stdout",
     "output_type": "stream",
     "text": [
      "Tensorflow Version:  1.13.1\n",
      "Keras Version:  2.2.4-tf\n"
     ]
    }
   ],
   "source": [
    "import tensorflow as tf\n",
    "from tensorflow.python import keras\n",
    "\n",
    "print('Tensorflow Version: ', tf.__version__)\n",
    "print('Keras Version: ', keras.__version__)"
   ]
  },
  {
   "cell_type": "markdown",
   "metadata": {},
   "source": [
    "# Setting up the Model"
   ]
  },
  {
   "cell_type": "code",
   "execution_count": 2,
   "metadata": {},
   "outputs": [
    {
     "name": "stdout",
     "output_type": "stream",
     "text": [
      "WARNING:tensorflow:From C:\\Users\\Raheel\\Anaconda3\\envs\\EnvName\\lib\\site-packages\\tensorflow\\python\\framework\\op_def_library.py:263: colocate_with (from tensorflow.python.framework.ops) is deprecated and will be removed in a future version.\n",
      "Instructions for updating:\n",
      "Colocations handled automatically by placer.\n",
      "WARNING:tensorflow:From C:\\Users\\Raheel\\Anaconda3\\envs\\EnvName\\lib\\site-packages\\keras\\backend\\tensorflow_backend.py:3445: calling dropout (from tensorflow.python.ops.nn_ops) with keep_prob is deprecated and will be removed in a future version.\n",
      "Instructions for updating:\n",
      "Please use `rate` instead of `keep_prob`. Rate should be set to `rate = 1 - keep_prob`.\n"
     ]
    },
    {
     "name": "stderr",
     "output_type": "stream",
     "text": [
      "Using TensorFlow backend.\n"
     ]
    },
    {
     "name": "stdout",
     "output_type": "stream",
     "text": [
      "_________________________________________________________________\n",
      "Layer (type)                 Output Shape              Param #   \n",
      "=================================================================\n",
      "conv2d_1 (Conv2D)            (None, 148, 148, 32)      896       \n",
      "_________________________________________________________________\n",
      "conv2d_2 (Conv2D)            (None, 146, 146, 32)      9248      \n",
      "_________________________________________________________________\n",
      "max_pooling2d_1 (MaxPooling2 (None, 73, 73, 32)        0         \n",
      "_________________________________________________________________\n",
      "dropout_1 (Dropout)          (None, 73, 73, 32)        0         \n",
      "_________________________________________________________________\n",
      "conv2d_3 (Conv2D)            (None, 71, 71, 64)        18496     \n",
      "_________________________________________________________________\n",
      "conv2d_4 (Conv2D)            (None, 69, 69, 64)        36928     \n",
      "_________________________________________________________________\n",
      "max_pooling2d_2 (MaxPooling2 (None, 34, 34, 64)        0         \n",
      "_________________________________________________________________\n",
      "dropout_2 (Dropout)          (None, 34, 34, 64)        0         \n",
      "_________________________________________________________________\n",
      "flatten_1 (Flatten)          (None, 73984)             0         \n",
      "_________________________________________________________________\n",
      "dense_1 (Dense)              (None, 512)               37880320  \n",
      "_________________________________________________________________\n",
      "dropout_3 (Dropout)          (None, 512)               0         \n",
      "_________________________________________________________________\n",
      "dense_2 (Dense)              (None, 2)                 1026      \n",
      "=================================================================\n",
      "Total params: 37,946,914\n",
      "Trainable params: 37,946,914\n",
      "Non-trainable params: 0\n",
      "_________________________________________________________________\n"
     ]
    }
   ],
   "source": [
    "import os\n",
    "import numpy as np\n",
    "import keras\n",
    "from keras import models\n",
    "from keras import layers\n",
    "from keras.preprocessing.image import ImageDataGenerator\n",
    "from keras import regularizers\n",
    "from keras import optimizers\n",
    "from keras.callbacks import ModelCheckpoint\n",
    "\n",
    "pneumoniaNetModel=models.Sequential()\n",
    "\n",
    "pneumoniaNetModel.add(layers.Conv2D(32, (3, 3), activation='relu', input_shape=(150,150,3)))\n",
    "pneumoniaNetModel.add(layers.Conv2D(32, (3, 3), activation='relu'))\n",
    "pneumoniaNetModel.add(layers.MaxPooling2D(pool_size=(2, 2)))\n",
    "pneumoniaNetModel.add(layers.Dropout(0.2))\n",
    "\n",
    "pneumoniaNetModel.add(layers.Conv2D(64, (3, 3), activation='relu'))\n",
    "pneumoniaNetModel.add(layers.Conv2D(64, (3, 3), activation='relu'))\n",
    "pneumoniaNetModel.add(layers.MaxPooling2D(pool_size=(2, 2)))\n",
    "pneumoniaNetModel.add(layers.Dropout(0.2))\n",
    "\n",
    "pneumoniaNetModel.add(layers.Flatten())\n",
    "pneumoniaNetModel.add(layers.Dense(512, kernel_regularizer=regularizers.l2(0.001), activation='relu'))\n",
    "pneumoniaNetModel.add(layers.Dropout(0.2))\n",
    "pneumoniaNetModel.add(layers.Dense(2, activation='softmax'))\n",
    "\n",
    "pneumoniaNetModel.compile(loss='categorical_crossentropy',optimizer=optimizers.Adam(lr=1e-4),metrics=['categorical_accuracy'])\n",
    "pneumoniaNetModel.summary()\n",
    "\n",
    "filepath=\"PneumoniaNet.h5\"\n",
    "checkpoint = ModelCheckpoint(filepath, save_best_only=True)\n",
    "callbacks_list = [checkpoint]"
   ]
  },
  {
   "cell_type": "markdown",
   "metadata": {},
   "source": [
    "## Setting up Training and Validation Data for the experiment"
   ]
  },
  {
   "cell_type": "code",
   "execution_count": 3,
   "metadata": {},
   "outputs": [],
   "source": [
    "image_height = 150\n",
    "image_width = 150\n",
    "batch_size = 8\n",
    "no_of_epochs  = 100\n",
    "number_of_training_samples=5216\n",
    "number_of_validation_samples=16\n",
    "number_of_test_samples=624"
   ]
  },
  {
   "cell_type": "code",
   "execution_count": 4,
   "metadata": {},
   "outputs": [],
   "source": [
    "train_dir='D:\\\\TensorFlow Programs\\\\Diagnosis of Pneumonia based on Chest X-Rays\\\\chest-xray-pneumonia\\\\chest_xray\\\\chest_xray\\\\train'\n",
    "validation_dir='D:\\\\TensorFlow Programs\\\\Diagnosis of Pneumonia based on Chest X-Rays\\\\chest-xray-pneumonia\\\\chest_xray\\\\chest_xray\\\\val'\n",
    "test_dir='D:\\\\TensorFlow Programs\\\\Diagnosis of Pneumonia based on Chest X-Rays\\\\chest-xray-pneumonia\\\\chest_xray\\\\chest_xray\\\\test'"
   ]
  },
  {
   "cell_type": "code",
   "execution_count": 5,
   "metadata": {},
   "outputs": [],
   "source": [
    "train_datagen = ImageDataGenerator(rescale=1./255,\n",
    "                                   rotation_range=40,\n",
    "                                   width_shift_range=0.2,\n",
    "                                   height_shift_range=0.2,\n",
    "                                   shear_range=0.2,\n",
    "                                   zoom_range=0.2\n",
    "                                   )\n",
    "\n",
    "validation_datagen = ImageDataGenerator(rescale=1./255)  \n",
    "\n",
    "test_datagen = ImageDataGenerator(rescale=1./255)"
   ]
  },
  {
   "cell_type": "code",
   "execution_count": 6,
   "metadata": {},
   "outputs": [
    {
     "name": "stdout",
     "output_type": "stream",
     "text": [
      "Found 5216 images belonging to 2 classes.\n",
      "Found 16 images belonging to 2 classes.\n",
      "Found 624 images belonging to 2 classes.\n"
     ]
    }
   ],
   "source": [
    "training_set = train_datagen.flow_from_directory(train_dir,target_size=(image_width, image_height),batch_size=batch_size)\n",
    "validation_set = validation_datagen.flow_from_directory(validation_dir,target_size=(image_width, image_height),batch_size=batch_size,shuffle=False)\n",
    "test_set = test_datagen.flow_from_directory(test_dir,target_size=(image_width, image_height),batch_size=batch_size,shuffle=False)"
   ]
  },
  {
   "cell_type": "markdown",
   "metadata": {},
   "source": [
    "## Model Training"
   ]
  },
  {
   "cell_type": "code",
   "execution_count": 14,
   "metadata": {},
   "outputs": [
    {
     "name": "stdout",
     "output_type": "stream",
     "text": [
      "Epoch 1/100\n",
      "652/652 [==============================] - 167s 256ms/step - loss: 0.8390 - categorical_accuracy: 0.7464 - val_loss: 0.9184 - val_categorical_accuracy: 0.5000\n",
      "Epoch 2/100\n",
      "652/652 [==============================] - 82s 126ms/step - loss: 0.4754 - categorical_accuracy: 0.8184 - val_loss: 0.6480 - val_categorical_accuracy: 0.8750\n",
      "Epoch 3/100\n",
      "652/652 [==============================] - 83s 127ms/step - loss: 0.3869 - categorical_accuracy: 0.8566 - val_loss: 0.7060 - val_categorical_accuracy: 0.6875\n",
      "Epoch 4/100\n",
      "652/652 [==============================] - 82s 126ms/step - loss: 0.3486 - categorical_accuracy: 0.8765 - val_loss: 1.1056 - val_categorical_accuracy: 0.5625\n",
      "Epoch 5/100\n",
      "652/652 [==============================] - 84s 128ms/step - loss: 0.3262 - categorical_accuracy: 0.8756 - val_loss: 0.5609 - val_categorical_accuracy: 0.7500\n",
      "Epoch 6/100\n",
      "652/652 [==============================] - 82s 125ms/step - loss: 0.3046 - categorical_accuracy: 0.8859 - val_loss: 0.6037 - val_categorical_accuracy: 0.7500\n",
      "Epoch 7/100\n",
      "652/652 [==============================] - 82s 125ms/step - loss: 0.2963 - categorical_accuracy: 0.8978 - val_loss: 1.1801 - val_categorical_accuracy: 0.5625\n",
      "Epoch 8/100\n",
      "652/652 [==============================] - 85s 130ms/step - loss: 0.2822 - categorical_accuracy: 0.9011 - val_loss: 0.5864 - val_categorical_accuracy: 0.8125\n",
      "Epoch 9/100\n",
      "652/652 [==============================] - 84s 129ms/step - loss: 0.2714 - categorical_accuracy: 0.9032 - val_loss: 1.2888 - val_categorical_accuracy: 0.5625\n",
      "Epoch 10/100\n",
      "652/652 [==============================] - 85s 131ms/step - loss: 0.2720 - categorical_accuracy: 0.9087 - val_loss: 0.5387 - val_categorical_accuracy: 0.7500\n",
      "Epoch 11/100\n",
      "652/652 [==============================] - 85s 131ms/step - loss: 0.2621 - categorical_accuracy: 0.9099 - val_loss: 0.5069 - val_categorical_accuracy: 0.8750\n",
      "Epoch 12/100\n",
      "652/652 [==============================] - 85s 130ms/step - loss: 0.2640 - categorical_accuracy: 0.9095 - val_loss: 0.4737 - val_categorical_accuracy: 0.8125\n",
      "Epoch 13/100\n",
      "652/652 [==============================] - 84s 130ms/step - loss: 0.2566 - categorical_accuracy: 0.9120 - val_loss: 0.4774 - val_categorical_accuracy: 0.6875\n",
      "Epoch 14/100\n",
      "652/652 [==============================] - 87s 133ms/step - loss: 0.2415 - categorical_accuracy: 0.9237 - val_loss: 0.6294 - val_categorical_accuracy: 0.7500\n",
      "Epoch 15/100\n",
      "652/652 [==============================] - 88s 135ms/step - loss: 0.2473 - categorical_accuracy: 0.9151 - val_loss: 0.5066 - val_categorical_accuracy: 0.8125\n",
      "Epoch 16/100\n",
      "652/652 [==============================] - 88s 136ms/step - loss: 0.2382 - categorical_accuracy: 0.9233 - val_loss: 0.5690 - val_categorical_accuracy: 0.7500\n",
      "Epoch 17/100\n",
      "652/652 [==============================] - 84s 128ms/step - loss: 0.2352 - categorical_accuracy: 0.9239 - val_loss: 1.2327 - val_categorical_accuracy: 0.5625\n",
      "Epoch 18/100\n",
      "652/652 [==============================] - 83s 128ms/step - loss: 0.2352 - categorical_accuracy: 0.9231 - val_loss: 0.4105 - val_categorical_accuracy: 0.8125\n",
      "Epoch 19/100\n",
      "652/652 [==============================] - 84s 129ms/step - loss: 0.2293 - categorical_accuracy: 0.9268 - val_loss: 0.8551 - val_categorical_accuracy: 0.7500\n",
      "Epoch 20/100\n",
      "652/652 [==============================] - 85s 130ms/step - loss: 0.2314 - categorical_accuracy: 0.9237 - val_loss: 0.5134 - val_categorical_accuracy: 0.7500\n",
      "Epoch 21/100\n",
      "652/652 [==============================] - 84s 129ms/step - loss: 0.2235 - categorical_accuracy: 0.9235 - val_loss: 1.0718 - val_categorical_accuracy: 0.6250\n",
      "Epoch 22/100\n",
      "652/652 [==============================] - 84s 129ms/step - loss: 0.2216 - categorical_accuracy: 0.9264 - val_loss: 0.6176 - val_categorical_accuracy: 0.7500\n",
      "Epoch 23/100\n",
      "652/652 [==============================] - 84s 130ms/step - loss: 0.2248 - categorical_accuracy: 0.9273 - val_loss: 0.3984 - val_categorical_accuracy: 0.8750\n",
      "Epoch 24/100\n",
      "652/652 [==============================] - 82s 125ms/step - loss: 0.2205 - categorical_accuracy: 0.9317 - val_loss: 0.4629 - val_categorical_accuracy: 0.8125\n",
      "Epoch 25/100\n",
      "652/652 [==============================] - 82s 125ms/step - loss: 0.2179 - categorical_accuracy: 0.9298 - val_loss: 0.5061 - val_categorical_accuracy: 0.6875\n",
      "Epoch 26/100\n",
      "652/652 [==============================] - 83s 128ms/step - loss: 0.2093 - categorical_accuracy: 0.9325 - val_loss: 0.5288 - val_categorical_accuracy: 0.8125\n",
      "Epoch 27/100\n",
      "652/652 [==============================] - 84s 129ms/step - loss: 0.2099 - categorical_accuracy: 0.9356 - val_loss: 0.5283 - val_categorical_accuracy: 0.7500\n",
      "Epoch 28/100\n",
      "652/652 [==============================] - 85s 130ms/step - loss: 0.2061 - categorical_accuracy: 0.9356 - val_loss: 0.8703 - val_categorical_accuracy: 0.6875\n",
      "Epoch 29/100\n",
      "652/652 [==============================] - 84s 129ms/step - loss: 0.2082 - categorical_accuracy: 0.9362 - val_loss: 1.1504 - val_categorical_accuracy: 0.6875\n",
      "Epoch 30/100\n",
      "652/652 [==============================] - 83s 128ms/step - loss: 0.2014 - categorical_accuracy: 0.9362 - val_loss: 0.4663 - val_categorical_accuracy: 0.7500\n",
      "Epoch 31/100\n",
      "652/652 [==============================] - 85s 130ms/step - loss: 0.2031 - categorical_accuracy: 0.9365 - val_loss: 0.7816 - val_categorical_accuracy: 0.6875\n",
      "Epoch 32/100\n",
      "652/652 [==============================] - 84s 129ms/step - loss: 0.2071 - categorical_accuracy: 0.9371 - val_loss: 0.4865 - val_categorical_accuracy: 0.8750\n",
      "Epoch 33/100\n",
      "652/652 [==============================] - 86s 131ms/step - loss: 0.2011 - categorical_accuracy: 0.9377 - val_loss: 0.4659 - val_categorical_accuracy: 0.8125\n",
      "Epoch 34/100\n",
      "652/652 [==============================] - 89s 137ms/step - loss: 0.2002 - categorical_accuracy: 0.9381 - val_loss: 0.6503 - val_categorical_accuracy: 0.6875\n",
      "Epoch 35/100\n",
      "652/652 [==============================] - 99s 151ms/step - loss: 0.1995 - categorical_accuracy: 0.9381 - val_loss: 0.3841 - val_categorical_accuracy: 0.8750\n",
      "Epoch 36/100\n",
      "652/652 [==============================] - 99s 151ms/step - loss: 0.1989 - categorical_accuracy: 0.9388 - val_loss: 0.4233 - val_categorical_accuracy: 0.8750\n",
      "Epoch 37/100\n",
      "652/652 [==============================] - 99s 151ms/step - loss: 0.2005 - categorical_accuracy: 0.9383 - val_loss: 0.6459 - val_categorical_accuracy: 0.6250\n",
      "Epoch 38/100\n",
      "652/652 [==============================] - 99s 151ms/step - loss: 0.1979 - categorical_accuracy: 0.9390 - val_loss: 0.9618 - val_categorical_accuracy: 0.5625\n",
      "Epoch 39/100\n",
      "652/652 [==============================] - 92s 142ms/step - loss: 0.2047 - categorical_accuracy: 0.9392 - val_loss: 0.6358 - val_categorical_accuracy: 0.7500\n",
      "Epoch 40/100\n",
      "652/652 [==============================] - 82s 125ms/step - loss: 0.1973 - categorical_accuracy: 0.9388 - val_loss: 0.5081 - val_categorical_accuracy: 0.6875\n",
      "Epoch 41/100\n",
      "652/652 [==============================] - 81s 125ms/step - loss: 0.1966 - categorical_accuracy: 0.9373 - val_loss: 1.0494 - val_categorical_accuracy: 0.5625\n",
      "Epoch 42/100\n",
      "652/652 [==============================] - 82s 126ms/step - loss: 0.1845 - categorical_accuracy: 0.9427 - val_loss: 1.1139 - val_categorical_accuracy: 0.5000\n",
      "Epoch 43/100\n",
      "652/652 [==============================] - 82s 126ms/step - loss: 0.1910 - categorical_accuracy: 0.9425 - val_loss: 0.7765 - val_categorical_accuracy: 0.6875\n",
      "Epoch 44/100\n",
      "652/652 [==============================] - 81s 125ms/step - loss: 0.1898 - categorical_accuracy: 0.9413 - val_loss: 0.3715 - val_categorical_accuracy: 0.9375\n",
      "Epoch 45/100\n",
      "652/652 [==============================] - 80s 122ms/step - loss: 0.1945 - categorical_accuracy: 0.9433 - val_loss: 0.4747 - val_categorical_accuracy: 0.8125\n",
      "Epoch 46/100\n",
      "652/652 [==============================] - 80s 122ms/step - loss: 0.1856 - categorical_accuracy: 0.9440 - val_loss: 0.5797 - val_categorical_accuracy: 0.7500\n",
      "Epoch 47/100\n",
      "652/652 [==============================] - 80s 122ms/step - loss: 0.1874 - categorical_accuracy: 0.9421 - val_loss: 0.6307 - val_categorical_accuracy: 0.7500\n",
      "Epoch 48/100\n",
      "652/652 [==============================] - 80s 122ms/step - loss: 0.1902 - categorical_accuracy: 0.9421 - val_loss: 0.6681 - val_categorical_accuracy: 0.6875\n"
     ]
    },
    {
     "name": "stdout",
     "output_type": "stream",
     "text": [
      "Epoch 49/100\n",
      "652/652 [==============================] - 80s 122ms/step - loss: 0.1851 - categorical_accuracy: 0.9442 - val_loss: 0.9030 - val_categorical_accuracy: 0.6250\n",
      "Epoch 50/100\n",
      "652/652 [==============================] - 80s 122ms/step - loss: 0.1832 - categorical_accuracy: 0.9440 - val_loss: 0.4806 - val_categorical_accuracy: 0.8125\n",
      "Epoch 51/100\n",
      "652/652 [==============================] - 80s 122ms/step - loss: 0.1812 - categorical_accuracy: 0.9457 - val_loss: 0.7771 - val_categorical_accuracy: 0.6875\n",
      "Epoch 52/100\n",
      "652/652 [==============================] - 80s 122ms/step - loss: 0.1789 - categorical_accuracy: 0.9457 - val_loss: 0.5287 - val_categorical_accuracy: 0.7500\n",
      "Epoch 53/100\n",
      "652/652 [==============================] - 80s 122ms/step - loss: 0.1770 - categorical_accuracy: 0.9431 - val_loss: 0.8597 - val_categorical_accuracy: 0.6875\n",
      "Epoch 54/100\n",
      "652/652 [==============================] - 80s 122ms/step - loss: 0.1848 - categorical_accuracy: 0.9456 - val_loss: 1.0359 - val_categorical_accuracy: 0.6250\n",
      "Epoch 55/100\n",
      "652/652 [==============================] - 79s 122ms/step - loss: 0.1782 - categorical_accuracy: 0.9456 - val_loss: 0.4563 - val_categorical_accuracy: 0.8750\n",
      "Epoch 56/100\n",
      "652/652 [==============================] - 80s 122ms/step - loss: 0.1809 - categorical_accuracy: 0.9456 - val_loss: 0.5971 - val_categorical_accuracy: 0.6875\n",
      "Epoch 57/100\n",
      "652/652 [==============================] - 79s 122ms/step - loss: 0.1810 - categorical_accuracy: 0.9467 - val_loss: 0.6114 - val_categorical_accuracy: 0.6875\n",
      "Epoch 58/100\n",
      "652/652 [==============================] - 80s 122ms/step - loss: 0.1740 - categorical_accuracy: 0.9482 - val_loss: 0.5565 - val_categorical_accuracy: 0.6875\n",
      "Epoch 59/100\n",
      "652/652 [==============================] - 80s 122ms/step - loss: 0.1760 - categorical_accuracy: 0.9477 - val_loss: 0.4381 - val_categorical_accuracy: 0.8750\n",
      "Epoch 60/100\n",
      "652/652 [==============================] - 80s 122ms/step - loss: 0.1828 - categorical_accuracy: 0.9423 - val_loss: 0.8047 - val_categorical_accuracy: 0.6250\n",
      "Epoch 61/100\n",
      "652/652 [==============================] - 80s 122ms/step - loss: 0.1746 - categorical_accuracy: 0.9459 - val_loss: 0.6451 - val_categorical_accuracy: 0.6875\n",
      "Epoch 62/100\n",
      "652/652 [==============================] - 80s 122ms/step - loss: 0.1718 - categorical_accuracy: 0.9488 - val_loss: 0.6473 - val_categorical_accuracy: 0.6875\n",
      "Epoch 63/100\n",
      "652/652 [==============================] - 80s 122ms/step - loss: 0.1700 - categorical_accuracy: 0.9488 - val_loss: 0.4683 - val_categorical_accuracy: 0.8125\n",
      "Epoch 64/100\n",
      "652/652 [==============================] - 80s 122ms/step - loss: 0.1761 - categorical_accuracy: 0.9450 - val_loss: 0.6852 - val_categorical_accuracy: 0.7500\n",
      "Epoch 65/100\n",
      "652/652 [==============================] - 80s 122ms/step - loss: 0.1703 - categorical_accuracy: 0.9482 - val_loss: 0.7585 - val_categorical_accuracy: 0.6250\n",
      "Epoch 66/100\n",
      "652/652 [==============================] - 80s 122ms/step - loss: 0.1725 - categorical_accuracy: 0.9465 - val_loss: 0.4576 - val_categorical_accuracy: 0.8125\n",
      "Epoch 67/100\n",
      "652/652 [==============================] - 80s 122ms/step - loss: 0.1657 - categorical_accuracy: 0.9544 - val_loss: 0.3984 - val_categorical_accuracy: 0.8125\n",
      "Epoch 68/100\n",
      "652/652 [==============================] - 80s 122ms/step - loss: 0.1736 - categorical_accuracy: 0.9488 - val_loss: 0.4633 - val_categorical_accuracy: 0.6875\n",
      "Epoch 69/100\n",
      "652/652 [==============================] - 80s 122ms/step - loss: 0.1684 - categorical_accuracy: 0.9494 - val_loss: 0.4135 - val_categorical_accuracy: 0.8750\n",
      "Epoch 70/100\n",
      "652/652 [==============================] - 80s 122ms/step - loss: 0.1742 - categorical_accuracy: 0.9475 - val_loss: 0.5616 - val_categorical_accuracy: 0.6875\n",
      "Epoch 71/100\n",
      "652/652 [==============================] - 80s 123ms/step - loss: 0.1653 - categorical_accuracy: 0.9498 - val_loss: 0.6599 - val_categorical_accuracy: 0.6875\n",
      "Epoch 72/100\n",
      "652/652 [==============================] - 80s 122ms/step - loss: 0.1645 - categorical_accuracy: 0.9479 - val_loss: 0.9066 - val_categorical_accuracy: 0.6875\n",
      "Epoch 73/100\n",
      "652/652 [==============================] - 80s 123ms/step - loss: 0.1691 - categorical_accuracy: 0.9486 - val_loss: 0.3888 - val_categorical_accuracy: 0.8125\n",
      "Epoch 74/100\n",
      "652/652 [==============================] - 80s 123ms/step - loss: 0.1725 - categorical_accuracy: 0.9488 - val_loss: 0.4949 - val_categorical_accuracy: 0.6875\n",
      "Epoch 75/100\n",
      "652/652 [==============================] - 80s 122ms/step - loss: 0.1678 - categorical_accuracy: 0.9473 - val_loss: 0.5856 - val_categorical_accuracy: 0.6875\n",
      "Epoch 76/100\n",
      "652/652 [==============================] - 80s 122ms/step - loss: 0.1668 - categorical_accuracy: 0.9503 - val_loss: 0.5339 - val_categorical_accuracy: 0.7500\n",
      "Epoch 77/100\n",
      "652/652 [==============================] - 80s 122ms/step - loss: 0.1688 - categorical_accuracy: 0.9502 - val_loss: 0.6900 - val_categorical_accuracy: 0.6250\n",
      "Epoch 78/100\n",
      "652/652 [==============================] - 80s 123ms/step - loss: 0.1664 - categorical_accuracy: 0.9477 - val_loss: 0.2827 - val_categorical_accuracy: 0.9375\n",
      "Epoch 79/100\n",
      "652/652 [==============================] - 80s 123ms/step - loss: 0.1683 - categorical_accuracy: 0.9500 - val_loss: 0.7111 - val_categorical_accuracy: 0.6875\n",
      "Epoch 80/100\n",
      "652/652 [==============================] - 80s 123ms/step - loss: 0.1696 - categorical_accuracy: 0.9482 - val_loss: 0.9940 - val_categorical_accuracy: 0.5625\n",
      "Epoch 81/100\n",
      "652/652 [==============================] - 80s 123ms/step - loss: 0.1642 - categorical_accuracy: 0.9526 - val_loss: 0.8696 - val_categorical_accuracy: 0.5625\n",
      "Epoch 82/100\n",
      "652/652 [==============================] - 96s 147ms/step - loss: 0.1583 - categorical_accuracy: 0.9538 - val_loss: 0.3637 - val_categorical_accuracy: 0.8750\n",
      "Epoch 83/100\n",
      "652/652 [==============================] - 81s 125ms/step - loss: 0.1628 - categorical_accuracy: 0.9534 - val_loss: 0.4805 - val_categorical_accuracy: 0.6250\n",
      "Epoch 84/100\n",
      "652/652 [==============================] - 80s 123ms/step - loss: 0.1597 - categorical_accuracy: 0.9523 - val_loss: 0.4001 - val_categorical_accuracy: 0.8750\n",
      "Epoch 85/100\n",
      "652/652 [==============================] - 783s 1s/step - loss: 0.1672 - categorical_accuracy: 0.9494 - val_loss: 0.4641 - val_categorical_accuracy: 0.8750\n",
      "Epoch 86/100\n",
      "652/652 [==============================] - 85s 131ms/step - loss: 0.1603 - categorical_accuracy: 0.9517 - val_loss: 0.4031 - val_categorical_accuracy: 0.8750\n",
      "Epoch 87/100\n",
      "652/652 [==============================] - 82s 126ms/step - loss: 0.1592 - categorical_accuracy: 0.9525 - val_loss: 0.4165 - val_categorical_accuracy: 0.7500\n",
      "Epoch 88/100\n",
      "652/652 [==============================] - 81s 125ms/step - loss: 0.1607 - categorical_accuracy: 0.9530 - val_loss: 0.4900 - val_categorical_accuracy: 0.8125\n",
      "Epoch 89/100\n",
      "652/652 [==============================] - 81s 125ms/step - loss: 0.1567 - categorical_accuracy: 0.9551 - val_loss: 0.6232 - val_categorical_accuracy: 0.6875\n",
      "Epoch 90/100\n",
      "652/652 [==============================] - 82s 125ms/step - loss: 0.1661 - categorical_accuracy: 0.9479 - val_loss: 0.6372 - val_categorical_accuracy: 0.6250\n",
      "Epoch 91/100\n",
      "652/652 [==============================] - 81s 124ms/step - loss: 0.1592 - categorical_accuracy: 0.9521 - val_loss: 1.0761 - val_categorical_accuracy: 0.5625\n",
      "Epoch 92/100\n",
      "652/652 [==============================] - 80s 122ms/step - loss: 0.1614 - categorical_accuracy: 0.9513 - val_loss: 0.4363 - val_categorical_accuracy: 0.8125\n",
      "Epoch 93/100\n",
      "652/652 [==============================] - 80s 122ms/step - loss: 0.1619 - categorical_accuracy: 0.9534 - val_loss: 0.7436 - val_categorical_accuracy: 0.6250\n",
      "Epoch 94/100\n",
      "652/652 [==============================] - 80s 123ms/step - loss: 0.1616 - categorical_accuracy: 0.9536 - val_loss: 0.4221 - val_categorical_accuracy: 0.8125\n",
      "Epoch 95/100\n",
      "652/652 [==============================] - 80s 122ms/step - loss: 0.1637 - categorical_accuracy: 0.9532 - val_loss: 0.5676 - val_categorical_accuracy: 0.8125\n",
      "Epoch 96/100\n",
      "652/652 [==============================] - 80s 122ms/step - loss: 0.1623 - categorical_accuracy: 0.9526 - val_loss: 0.3508 - val_categorical_accuracy: 0.8750\n"
     ]
    },
    {
     "name": "stdout",
     "output_type": "stream",
     "text": [
      "Epoch 97/100\n",
      "652/652 [==============================] - 80s 123ms/step - loss: 0.1549 - categorical_accuracy: 0.9557 - val_loss: 0.5150 - val_categorical_accuracy: 0.7500\n",
      "Epoch 98/100\n",
      "652/652 [==============================] - 80s 123ms/step - loss: 0.1579 - categorical_accuracy: 0.9544 - val_loss: 0.6749 - val_categorical_accuracy: 0.6875\n",
      "Epoch 99/100\n",
      "652/652 [==============================] - 80s 122ms/step - loss: 0.1570 - categorical_accuracy: 0.9528 - val_loss: 0.4390 - val_categorical_accuracy: 0.8750\n",
      "Epoch 100/100\n",
      "652/652 [==============================] - 80s 122ms/step - loss: 0.1584 - categorical_accuracy: 0.9549 - val_loss: 0.4950 - val_categorical_accuracy: 0.8125\n"
     ]
    }
   ],
   "source": [
    "import math\n",
    "\n",
    "history = pneumoniaNetModel.fit_generator(\n",
    "      training_set,\n",
    "      steps_per_epoch=math.ceil(number_of_training_samples//batch_size),\n",
    "      epochs=no_of_epochs,\n",
    "      callbacks=callbacks_list,\n",
    "      validation_data=validation_set,\n",
    "      validation_steps=math.ceil(number_of_validation_samples//batch_size))"
   ]
  },
  {
   "cell_type": "markdown",
   "metadata": {},
   "source": [
    "## Visualizing the Training Process"
   ]
  },
  {
   "cell_type": "code",
   "execution_count": 15,
   "metadata": {},
   "outputs": [
    {
     "data": {
      "image/png": "[encoded data removed]",
      "text/plain": [
       "<Figure size 432x288 with 1 Axes>"
      ]
     },
     "metadata": {
      "needs_background": "light"
     },
     "output_type": "display_data"
    },
    {
     "data": {
      "image/png": "[encoded data removed]",
      "text/plain": [
       "<Figure size 432x288 with 1 Axes>"
      ]
     },
     "metadata": {
      "needs_background": "light"
     },
     "output_type": "display_data"
    }
   ],
   "source": [
    "import matplotlib.pyplot as plt\n",
    "%matplotlib inline\n",
    "\n",
    "acc=history.history['categorical_accuracy']\n",
    "val_acc=history.history['val_categorical_accuracy']\n",
    "loss=history.history['loss']\n",
    "val_loss=history.history['val_loss']\n",
    "epochs=range(1,len(acc)+1)\n",
    "plt.xlabel('Epochs')\n",
    "plt.ylabel('Accuracy')\n",
    "plt.plot(epochs, acc, 'bo', label='Training acc')\n",
    "plt.plot(epochs, val_acc, 'b', label='Validation acc')\n",
    "plt.title('Training and validation accuracy')\n",
    "plt.legend()\n",
    "plt.figure()\n",
    "\n",
    "plt.plot(epochs, loss, 'bo', label='Training loss')\n",
    "plt.plot(epochs, val_loss, 'b', label='Validation loss')\n",
    "plt.title('Training and validation loss')\n",
    "plt.xlabel('Epochs')\n",
    "plt.ylabel('Loss')\n",
    "plt.legend()\n",
    "plt.show()"
   ]
  },
  {
   "cell_type": "markdown",
   "metadata": {},
   "source": [
    "## Loading the Best Model"
   ]
  },
  {
   "cell_type": "code",
   "execution_count": 7,
   "metadata": {},
   "outputs": [
    {
     "name": "stdout",
     "output_type": "stream",
     "text": [
      "WARNING:tensorflow:From C:\\Users\\Raheel\\Anaconda3\\envs\\EnvName\\lib\\site-packages\\tensorflow\\python\\ops\\math_ops.py:3066: to_int32 (from tensorflow.python.ops.math_ops) is deprecated and will be removed in a future version.\n",
      "Instructions for updating:\n",
      "Use tf.cast instead.\n"
     ]
    }
   ],
   "source": [
    "from tensorflow.python.keras.models import load_model\n",
    "\n",
    "best_model = load_model('PneumoniaNet.h5')"
   ]
  },
  {
   "cell_type": "markdown",
   "metadata": {},
   "source": [
    "## Evaluating the Best Model"
   ]
  },
  {
   "cell_type": "code",
   "execution_count": 8,
   "metadata": {},
   "outputs": [
    {
     "name": "stdout",
     "output_type": "stream",
     "text": [
      "78/78 [==============================] - 6s 76ms/step - loss: 0.3722 - categorical_accuracy: 0.8429\n",
      "Test-set classification accuracy: 84.29%\n"
     ]
    }
   ],
   "source": [
    "steps_test=int(number_of_test_samples/batch_size)\n",
    "result = best_model.evaluate_generator(test_set, steps=steps_test,verbose=1)\n",
    "print(\"Test-set classification accuracy: {0:.2%}\".format(result[1]))"
   ]
  },
  {
   "cell_type": "markdown",
   "metadata": {},
   "source": [
    "## Calculating Precision, Specificity and Sensitivity (Recall) values for the model\n",
    "*Precision-Recall* is a useful measure of success of prediction when the classes are very imbalanced. High *precision* relates to a low false positive rate, and high *recall* relates to a low false negative rate.\n",
    "\n",
    "Precision is defined as the number of true positives over the number of true positives plus the number of false positives. Recall is defined as the number of true positives over the number of true positives plus the number of false negatives. Please see the [link](https://scikit-learn.org/stable/auto_examples/model_selection/plot_precision_recall.html) for details.\n",
    "\n",
    "Another way of assessing a binary classification model is to compute the *sensitivity* (also called the true positive rate or the recall) and *specificity* (also called the true negative rate) of the model. *Sensitivity* indicates the percentage of sick people who are correctly identified as having the condition. *Specificity* indicates the percentage of healthy people who are correctly identified as not having the condition.\n",
    "\n",
    "But first we prepare our test data, so that later we can draw the *confusion matrix* as well as calculate *precision*, *specificity* and *sensitivity (recall)* of the model."
   ]
  },
  {
   "cell_type": "code",
   "execution_count": 9,
   "metadata": {},
   "outputs": [
    {
     "name": "stdout",
     "output_type": "stream",
     "text": [
      "Total number of test examples:  (624, 150, 150, 3)\n",
      "Total number of labels: (624, 1)\n"
     ]
    }
   ],
   "source": [
    "# Preparing test data\n",
    "import glob\n",
    "from pathlib import Path\n",
    "from tensorflow.python.keras.utils import to_categorical\n",
    "import cv2\n",
    "\n",
    "normal_cases_dir = Path('D:\\\\TensorFlow Programs\\\\Diagnosis of Pneumonia based on Chest X-Rays\\\\chest-xray-pneumonia\\\\chest_xray\\\\chest_xray\\\\test\\\\NORMAL')\n",
    "pneumonia_cases_dir = Path('D:\\\\TensorFlow Programs\\\\Diagnosis of Pneumonia based on Chest X-Rays\\\\chest-xray-pneumonia\\\\chest_xray\\\\chest_xray\\\\test\\\\PNEUMONIA')\n",
    "\n",
    "normal_cases = normal_cases_dir.glob('*.jpeg')\n",
    "pneumonia_cases = pneumonia_cases_dir.glob('*.jpeg')\n",
    "\n",
    "test_data = []\n",
    "test_labels = []\n",
    "\n",
    "for img in normal_cases:\n",
    "    img = cv2.imread(str(img))\n",
    "    img = cv2.resize(img, (image_width,image_height))\n",
    "    if img.shape[2] ==1:\n",
    "        img = np.dstack([img, img, img])\n",
    "    else:\n",
    "        img = cv2.cvtColor(img, cv2.COLOR_BGR2RGB)\n",
    "    img = img.astype(np.float32)/255.\n",
    "    label = [0]\n",
    "    test_data.append(img)\n",
    "    test_labels.append(label)\n",
    "                      \n",
    "for img in pneumonia_cases:\n",
    "    img = cv2.imread(str(img))\n",
    "    img = cv2.resize(img, (image_width,image_height))\n",
    "    if img.shape[2] ==1:\n",
    "        img = np.dstack([img, img, img])\n",
    "    else:\n",
    "        img = cv2.cvtColor(img, cv2.COLOR_BGR2RGB)\n",
    "    img = img.astype(np.float32)/255.\n",
    "    label = [1]\n",
    "    test_data.append(img)\n",
    "    test_labels.append(label)\n",
    "    \n",
    "\n",
    "test_data = np.array(test_data)\n",
    "test_labels = np.array(test_labels)\n",
    "test_labels_one_hot_encoding=to_categorical(test_labels)\n",
    "\n",
    "print(\"Total number of test examples: \", test_data.shape)\n",
    "print(\"Total number of labels:\", test_labels.shape)"
   ]
  },
  {
   "cell_type": "code",
   "execution_count": 10,
   "metadata": {},
   "outputs": [
    {
     "name": "stdout",
     "output_type": "stream",
     "text": [
      "624/624 [==============================] - 2s 3ms/sample - loss: 0.3526 - categorical_accuracy: 0.8558\n",
      "Loss on test set:  0.35263141044057333\n",
      "Accuracy on test set:  0.8557692\n"
     ]
    }
   ],
   "source": [
    "# Evaluation on test dataset\n",
    "\n",
    "test_loss, test_score = best_model.evaluate(test_data, test_labels_one_hot_encoding, batch_size=16)\n",
    "print(\"Loss on test set: \", test_loss)\n",
    "print(\"Accuracy on test set: \", test_score)"
   ]
  },
  {
   "cell_type": "code",
   "execution_count": 11,
   "metadata": {},
   "outputs": [
    {
     "name": "stdout",
     "output_type": "stream",
     "text": [
      "624/624 [==============================] - 1s 2ms/sample\n",
      "(624, 1)\n",
      "(624, 1)\n"
     ]
    }
   ],
   "source": [
    "# Get predictions\n",
    "preds = best_model.predict(test_data, batch_size=16,verbose=1)\n",
    "preds=np.around(preds)\n",
    "orig_test_labels=test_labels\n",
    "predicted_labels=np.argmax(preds,axis=1)\n",
    "predicted_labels=np.reshape(predicted_labels,(624,1))\n",
    "print(predicted_labels.shape)\n",
    "print(orig_test_labels.shape)"
   ]
  },
  {
   "cell_type": "code",
   "execution_count": 12,
   "metadata": {},
   "outputs": [
    {
     "data": {
      "text/plain": [
       "<Figure size 432x288 with 0 Axes>"
      ]
     },
     "metadata": {},
     "output_type": "display_data"
    },
    {
     "data": {
      "image/png": "[encoded data removed]",
      "text/plain": [
       "<Figure size 864x576 with 1 Axes>"
      ]
     },
     "metadata": {
      "needs_background": "light"
     },
     "output_type": "display_data"
    }
   ],
   "source": [
    "import matplotlib.pyplot as plt\n",
    "%matplotlib inline\n",
    "# Get the confusion matrix\n",
    "from sklearn.metrics import confusion_matrix\n",
    "from mlxtend.plotting import plot_confusion_matrix\n",
    "\n",
    "cm  = confusion_matrix(orig_test_labels, predicted_labels)\n",
    "plt.figure()\n",
    "plot_confusion_matrix(cm,figsize=(12,8), hide_ticks=True,cmap=plt.cm.Blues)\n",
    "plt.xticks(range(2), ['Normal', 'Pneumonia'], fontsize=16)\n",
    "plt.yticks(range(2), ['Normal', 'Pneumonia'], fontsize=16)\n",
    "plt.show()"
   ]
  },
  {
   "cell_type": "code",
   "execution_count": 13,
   "metadata": {},
   "outputs": [
    {
     "name": "stdout",
     "output_type": "stream",
     "text": [
      "Sensitivity (Recall) of the model is 0.841\n",
      "Specificity of the model is 0.880\n",
      "Precision of the model is 0.921\n"
     ]
    }
   ],
   "source": [
    "# Calculate Precision and Recall\n",
    "tn, fp, fn, tp = cm.ravel()\n",
    "\n",
    "precision = tp/(tp+fp)\n",
    "recall = tp/(tp+fn)\n",
    "specificity=tn/(tn+fp)\n",
    "\n",
    "print(\"Sensitivity (Recall) of the model is {:.3f}\".format(recall))\n",
    "print(\"Specificity of the model is {:.3f}\".format(specificity))\n",
    "print(\"Precision of the model is {:.3f}\".format(precision))"
   ]
  },
  {
   "cell_type": "markdown",
   "metadata": {},
   "source": [
    "So, this model has a `84.1%` sensitivity (recall), `88.0%` specificity and `92.1%` precision."
   ]
  },
  {
   "cell_type": "markdown",
   "metadata": {},
   "source": [
    "## ROC Curve and AUC for the model\n",
    "**Receiver operating characteristic** curve (a.k.a ROC) is a graphic plot that illustrates the diagnostic ability of a binary classifier system as its discrimination threshold is varied. The critical point here is \"binary classifier\" and \"varying threshold\". **Area Under the Curve** (a.k.a. AUC) is the percentage of the area that is under this ROC curve, ranging between 0 and 1.\n",
    "ROC is a great way to visualize the performance of a binary classifier, and AUC is one single number to summarize a classifier's performance. The higher the AUC is, the better the classifier."
   ]
  },
  {
   "cell_type": "code",
   "execution_count": 14,
   "metadata": {},
   "outputs": [],
   "source": [
    "from sklearn.metrics import roc_curve\n",
    "\n",
    "probs = best_model.predict_proba(test_data)\n",
    "preds = probs[:,1]\n",
    "fpr, tpr, thresholds = roc_curve(test_labels.ravel(), preds)"
   ]
  },
  {
   "cell_type": "code",
   "execution_count": 15,
   "metadata": {},
   "outputs": [],
   "source": [
    "from sklearn.metrics import auc\n",
    "auc_var = auc(fpr, tpr)"
   ]
  },
  {
   "cell_type": "code",
   "execution_count": 16,
   "metadata": {},
   "outputs": [
    {
     "data": {
      "image/png": "[encoded data removed]",
      "text/plain": [
       "<Figure size 432x288 with 1 Axes>"
      ]
     },
     "metadata": {
      "needs_background": "light"
     },
     "output_type": "display_data"
    }
   ],
   "source": [
    "import matplotlib.pyplot as plt\n",
    "%matplotlib inline\n",
    "plt.figure(1)\n",
    "plt.plot([0, 1], [0, 1], 'k--')\n",
    "plt.plot(fpr, tpr, label='PneumoniaNet (area = {:.3f})'.format(auc_var))\n",
    "plt.xlabel('False positive rate')\n",
    "plt.ylabel('True positive rate')\n",
    "plt.title('ROC curve')\n",
    "plt.legend(loc='best')\n",
    "plt.show()"
   ]
  },
  {
   "cell_type": "markdown",
   "metadata": {},
   "source": [
    "## Precision-Recall Curve for the Model"
   ]
  },
  {
   "cell_type": "code",
   "execution_count": 17,
   "metadata": {},
   "outputs": [],
   "source": [
    "from sklearn.metrics import precision_recall_curve\n",
    "from sklearn.metrics import f1_score\n",
    "from sklearn.metrics import average_precision_score"
   ]
  },
  {
   "cell_type": "code",
   "execution_count": 18,
   "metadata": {},
   "outputs": [],
   "source": [
    "precision, recall, thresholds = precision_recall_curve(test_labels.ravel(), preds)"
   ]
  },
  {
   "cell_type": "code",
   "execution_count": 19,
   "metadata": {},
   "outputs": [],
   "source": [
    "auc_var2 = auc(recall, precision)"
   ]
  },
  {
   "cell_type": "code",
   "execution_count": 20,
   "metadata": {},
   "outputs": [
    {
     "data": {
      "image/png": "[encoded data removed]",
      "text/plain": [
       "<Figure size 432x288 with 1 Axes>"
      ]
     },
     "metadata": {
      "needs_background": "light"
     },
     "output_type": "display_data"
    }
   ],
   "source": [
    "plt.figure()\n",
    "plt.plot(recall, precision, label='PneumoniaNet (area = {:.3f})'.format(auc_var2))\n",
    "plt.xlabel('Recall')\n",
    "plt.ylabel('Precision')\n",
    "plt.title('Precision-Recall curve')\n",
    "plt.legend(loc='best')\n",
    "plt.show()"
   ]
  },
  {
   "cell_type": "code",
   "execution_count": 21,
   "metadata": {},
   "outputs": [
    {
     "name": "stdout",
     "output_type": "stream",
     "text": [
      "Average Precision Score: 0.965\n"
     ]
    }
   ],
   "source": [
    "print('Average Precision Score: {:.3f}'.format(average_precision_score(test_labels.ravel(), preds)))"
   ]
  },
  {
   "cell_type": "code",
   "execution_count": 22,
   "metadata": {},
   "outputs": [
    {
     "name": "stdout",
     "output_type": "stream",
     "text": [
      "F1 Score: 0.879\n"
     ]
    }
   ],
   "source": [
    "print(\"F1 Score: {:.3f}\".format(f1_score(test_labels.ravel(),predicted_labels.ravel())))"
   ]
  }
 ],
 "metadata": {
  "kernelspec": {
   "display_name": "Python 3",
   "language": "python",
   "name": "python3"
  },
  "language_info": {
   "codemirror_mode": {
    "name": "ipython",
    "version": 3
   },
   "file_extension": ".py",
   "mimetype": "text/x-python",
   "name": "python",
   "nbconvert_exporter": "python",
   "pygments_lexer": "ipython3",
   "version": "3.6.8"
  }
 },
 "nbformat": 4,
 "nbformat_minor": 2
}
