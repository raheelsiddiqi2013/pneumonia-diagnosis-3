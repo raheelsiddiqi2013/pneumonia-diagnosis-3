{
 "cells": [
  {
   "cell_type": "markdown",
   "metadata": {},
   "source": [
    "# Automated Chest X-ray based Pneumonia Diagnosis using PneumoniaNet\n",
    "The author of this notebook is **Dr Raheel Siddiqi**. He is a *Senior Assistant Professor* at Bahria University, Karachi Campus, Pakistan. His research interests include *Medical Imaging*, *Computer Vision* and *Deep Learning*. \n",
    "\n",
    "The objective of the experiment (presented in this notebook) is to evaluate the performance of a self-designed Convolutional Neural Network (CNN) based model called **PneumoniaNet**. PneumoniaNet is employed to diagnose Pneumonia (based on Chest X-ray images). The diagnosis process comprises of classifying Chest X-ray images into one of the two classes: (a) Normal, (b) Pneumonia.\n",
    "\n",
    "The dataset is downloded from [kaggle.com](https://www.kaggle.com/paultimothymooney/chest-xray-pneumonia). The dataset contains 5,863 X-Ray images (JPEG) and 2 categories (Pneumonia/Normal). The dataset is divided into three sets: (a) train, (b) val and (c) test.\n",
    "\n",
    "PneumoniaNet is based on a very simple 21-layer CNN architecture, where only 13 layers have trainable weights and biases. In order to avoid overfitting the following steps are ensured:\n",
    "1. Using a low capacity network i.e. less number of layers, less learnable parameters. This is done to reduce memorization capacity.\n",
    "2. Adding weight regularization to dense layer.\n",
    "3. Drop out layers have also been added."
   ]
  },
  {
   "cell_type": "markdown",
   "metadata": {},
   "source": [
    "# Tensorflow and Keras version used"
   ]
  },
  {
   "cell_type": "code",
   "execution_count": 1,
   "metadata": {},
   "outputs": [
    {
     "name": "stdout",
     "output_type": "stream",
     "text": [
      "Tensorflow Version:  1.13.1\n",
      "Keras Version:  2.2.4-tf\n"
     ]
    }
   ],
   "source": [
    "import tensorflow as tf\n",
    "from tensorflow.python import keras\n",
    "\n",
    "print('Tensorflow Version: ', tf.__version__)\n",
    "print('Keras Version: ', keras.__version__)"
   ]
  },
  {
   "cell_type": "markdown",
   "metadata": {},
   "source": [
    "# Setting up the Model"
   ]
  },
  {
   "cell_type": "code",
   "execution_count": 2,
   "metadata": {},
   "outputs": [
    {
     "name": "stdout",
     "output_type": "stream",
     "text": [
      "WARNING:tensorflow:From C:\\Users\\Raheel\\Anaconda3\\envs\\EnvName\\lib\\site-packages\\tensorflow\\python\\framework\\op_def_library.py:263: colocate_with (from tensorflow.python.framework.ops) is deprecated and will be removed in a future version.\n",
      "Instructions for updating:\n",
      "Colocations handled automatically by placer.\n"
     ]
    },
    {
     "name": "stderr",
     "output_type": "stream",
     "text": [
      "Using TensorFlow backend.\n"
     ]
    },
    {
     "name": "stdout",
     "output_type": "stream",
     "text": [
      "WARNING:tensorflow:From C:\\Users\\Raheel\\Anaconda3\\envs\\EnvName\\lib\\site-packages\\keras\\backend\\tensorflow_backend.py:3445: calling dropout (from tensorflow.python.ops.nn_ops) with keep_prob is deprecated and will be removed in a future version.\n",
      "Instructions for updating:\n",
      "Please use `rate` instead of `keep_prob`. Rate should be set to `rate = 1 - keep_prob`.\n",
      "_________________________________________________________________\n",
      "Layer (type)                 Output Shape              Param #   \n",
      "=================================================================\n",
      "conv2d_1 (Conv2D)            (None, 148, 148, 64)      1792      \n",
      "_________________________________________________________________\n",
      "conv2d_2 (Conv2D)            (None, 146, 146, 64)      36928     \n",
      "_________________________________________________________________\n",
      "conv2d_3 (Conv2D)            (None, 144, 144, 128)     73856     \n",
      "_________________________________________________________________\n",
      "conv2d_4 (Conv2D)            (None, 142, 142, 128)     147584    \n",
      "_________________________________________________________________\n",
      "max_pooling2d_1 (MaxPooling2 (None, 71, 71, 128)       0         \n",
      "_________________________________________________________________\n",
      "dropout_1 (Dropout)          (None, 71, 71, 128)       0         \n",
      "_________________________________________________________________\n",
      "conv2d_5 (Conv2D)            (None, 69, 69, 128)       147584    \n",
      "_________________________________________________________________\n",
      "conv2d_6 (Conv2D)            (None, 67, 67, 128)       147584    \n",
      "_________________________________________________________________\n",
      "conv2d_7 (Conv2D)            (None, 65, 65, 256)       295168    \n",
      "_________________________________________________________________\n",
      "conv2d_8 (Conv2D)            (None, 63, 63, 256)       590080    \n",
      "_________________________________________________________________\n",
      "max_pooling2d_2 (MaxPooling2 (None, 31, 31, 256)       0         \n",
      "_________________________________________________________________\n",
      "dropout_2 (Dropout)          (None, 31, 31, 256)       0         \n",
      "_________________________________________________________________\n",
      "conv2d_9 (Conv2D)            (None, 29, 29, 256)       590080    \n",
      "_________________________________________________________________\n",
      "conv2d_10 (Conv2D)           (None, 27, 27, 256)       590080    \n",
      "_________________________________________________________________\n",
      "conv2d_11 (Conv2D)           (None, 25, 25, 512)       1180160   \n",
      "_________________________________________________________________\n",
      "max_pooling2d_3 (MaxPooling2 (None, 12, 12, 512)       0         \n",
      "_________________________________________________________________\n",
      "dropout_3 (Dropout)          (None, 12, 12, 512)       0         \n",
      "_________________________________________________________________\n",
      "flatten_1 (Flatten)          (None, 73728)             0         \n",
      "_________________________________________________________________\n",
      "dense_1 (Dense)              (None, 512)               37749248  \n",
      "_________________________________________________________________\n",
      "dropout_4 (Dropout)          (None, 512)               0         \n",
      "_________________________________________________________________\n",
      "dense_2 (Dense)              (None, 2)                 1026      \n",
      "=================================================================\n",
      "Total params: 41,551,170\n",
      "Trainable params: 41,551,170\n",
      "Non-trainable params: 0\n",
      "_________________________________________________________________\n"
     ]
    }
   ],
   "source": [
    "import os\n",
    "import numpy as np\n",
    "import keras\n",
    "from keras import models\n",
    "from keras import layers\n",
    "from keras.preprocessing.image import ImageDataGenerator\n",
    "from keras import regularizers\n",
    "from keras import optimizers\n",
    "from keras.callbacks import ModelCheckpoint\n",
    "\n",
    "pneumoniaNetModel=models.Sequential()\n",
    "\n",
    "pneumoniaNetModel.add(layers.Conv2D(64, (3, 3), activation='relu', input_shape=(150,150,3)))\n",
    "pneumoniaNetModel.add(layers.Conv2D(64, (3, 3), activation='relu'))\n",
    "pneumoniaNetModel.add(layers.Conv2D(128, (3, 3), activation='relu'))\n",
    "pneumoniaNetModel.add(layers.Conv2D(128, (3, 3), activation='relu'))\n",
    "pneumoniaNetModel.add(layers.MaxPooling2D(pool_size=(2, 2)))\n",
    "pneumoniaNetModel.add(layers.Dropout(0.2))\n",
    "\n",
    "pneumoniaNetModel.add(layers.Conv2D(128, (3, 3), activation='relu'))\n",
    "pneumoniaNetModel.add(layers.Conv2D(128, (3, 3), activation='relu'))\n",
    "pneumoniaNetModel.add(layers.Conv2D(256, (3, 3), activation='relu'))\n",
    "pneumoniaNetModel.add(layers.Conv2D(256, (3, 3), activation='relu'))\n",
    "pneumoniaNetModel.add(layers.MaxPooling2D(pool_size=(2, 2)))\n",
    "pneumoniaNetModel.add(layers.Dropout(0.2))\n",
    "\n",
    "pneumoniaNetModel.add(layers.Conv2D(256, (3, 3), activation='relu'))\n",
    "pneumoniaNetModel.add(layers.Conv2D(256, (3, 3), activation='relu'))\n",
    "pneumoniaNetModel.add(layers.Conv2D(512, (3, 3), activation='relu'))\n",
    "pneumoniaNetModel.add(layers.MaxPooling2D(pool_size=(2, 2)))\n",
    "pneumoniaNetModel.add(layers.Dropout(0.2))\n",
    "\n",
    "pneumoniaNetModel.add(layers.Flatten())\n",
    "pneumoniaNetModel.add(layers.Dense(512, kernel_regularizer=regularizers.l2(0.001), activation='relu'))\n",
    "pneumoniaNetModel.add(layers.Dropout(0.2))\n",
    "pneumoniaNetModel.add(layers.Dense(2, activation='softmax'))\n",
    "\n",
    "pneumoniaNetModel.compile(loss='categorical_crossentropy',optimizer=optimizers.Adam(lr=1e-4),metrics=['categorical_accuracy'])\n",
    "pneumoniaNetModel.summary()\n",
    "\n",
    "filepath=\"PneumoniaNet7.h5\"\n",
    "checkpoint = ModelCheckpoint(filepath, save_best_only=True)\n",
    "callbacks_list = [checkpoint]"
   ]
  },
  {
   "cell_type": "markdown",
   "metadata": {},
   "source": [
    "## Setting up Training and Validation Data for the experiment"
   ]
  },
  {
   "cell_type": "code",
   "execution_count": 3,
   "metadata": {},
   "outputs": [],
   "source": [
    "image_height = 150\n",
    "image_width = 150\n",
    "batch_size = 8\n",
    "no_of_epochs  = 200\n",
    "number_of_training_samples=5216\n",
    "number_of_validation_samples=16\n",
    "number_of_test_samples=624"
   ]
  },
  {
   "cell_type": "code",
   "execution_count": 4,
   "metadata": {},
   "outputs": [],
   "source": [
    "train_dir='D:\\\\TensorFlow Programs\\\\Diagnosis of Pneumonia based on Chest X-Rays\\\\chest-xray-pneumonia\\\\chest_xray\\\\chest_xray\\\\train'\n",
    "validation_dir='D:\\\\TensorFlow Programs\\\\Diagnosis of Pneumonia based on Chest X-Rays\\\\chest-xray-pneumonia\\\\chest_xray\\\\chest_xray\\\\val'\n",
    "test_dir='D:\\\\TensorFlow Programs\\\\Diagnosis of Pneumonia based on Chest X-Rays\\\\chest-xray-pneumonia\\\\chest_xray\\\\chest_xray\\\\test'"
   ]
  },
  {
   "cell_type": "code",
   "execution_count": 5,
   "metadata": {},
   "outputs": [],
   "source": [
    "train_datagen = ImageDataGenerator(rescale=1./255,\n",
    "                                   rotation_range=40,\n",
    "                                   width_shift_range=0.2,\n",
    "                                   height_shift_range=0.2,\n",
    "                                   shear_range=0.2,\n",
    "                                   zoom_range=0.2\n",
    "                                   )\n",
    "\n",
    "validation_datagen = ImageDataGenerator(rescale=1./255)  \n",
    "\n",
    "test_datagen = ImageDataGenerator(rescale=1./255)"
   ]
  },
  {
   "cell_type": "code",
   "execution_count": 6,
   "metadata": {},
   "outputs": [
    {
     "name": "stdout",
     "output_type": "stream",
     "text": [
      "Found 5216 images belonging to 2 classes.\n",
      "Found 16 images belonging to 2 classes.\n",
      "Found 624 images belonging to 2 classes.\n"
     ]
    }
   ],
   "source": [
    "training_set = train_datagen.flow_from_directory(train_dir,target_size=(image_width, image_height),batch_size=batch_size)\n",
    "validation_set = validation_datagen.flow_from_directory(validation_dir,target_size=(image_width, image_height),batch_size=batch_size,shuffle=False)\n",
    "test_set = test_datagen.flow_from_directory(test_dir,target_size=(image_width, image_height),batch_size=batch_size,shuffle=False)"
   ]
  },
  {
   "cell_type": "markdown",
   "metadata": {},
   "source": [
    "## Model Training"
   ]
  },
  {
   "cell_type": "code",
   "execution_count": 7,
   "metadata": {},
   "outputs": [
    {
     "name": "stdout",
     "output_type": "stream",
     "text": [
      "WARNING:tensorflow:From C:\\Users\\Raheel\\Anaconda3\\envs\\EnvName\\lib\\site-packages\\tensorflow\\python\\ops\\math_ops.py:3066: to_int32 (from tensorflow.python.ops.math_ops) is deprecated and will be removed in a future version.\n",
      "Instructions for updating:\n",
      "Use tf.cast instead.\n",
      "Epoch 1/200\n",
      "652/652 [==============================] - 219s 336ms/step - loss: 0.7069 - categorical_accuracy: 0.7425 - val_loss: 0.7902 - val_categorical_accuracy: 0.5000\n",
      "Epoch 2/200\n",
      "652/652 [==============================] - 210s 321ms/step - loss: 0.5847 - categorical_accuracy: 0.7429 - val_loss: 0.7135 - val_categorical_accuracy: 0.5000\n",
      "Epoch 3/200\n",
      "652/652 [==============================] - 210s 321ms/step - loss: 0.4471 - categorical_accuracy: 0.7949 - val_loss: 0.5666 - val_categorical_accuracy: 0.6250\n",
      "Epoch 4/200\n",
      "652/652 [==============================] - 210s 321ms/step - loss: 0.3546 - categorical_accuracy: 0.8411 - val_loss: 0.4639 - val_categorical_accuracy: 0.8125\n",
      "Epoch 5/200\n",
      "652/652 [==============================] - 210s 321ms/step - loss: 0.3283 - categorical_accuracy: 0.8574 - val_loss: 0.4358 - val_categorical_accuracy: 0.8125\n",
      "Epoch 6/200\n",
      "652/652 [==============================] - 210s 321ms/step - loss: 0.3216 - categorical_accuracy: 0.8600 - val_loss: 0.6948 - val_categorical_accuracy: 0.7500\n",
      "Epoch 7/200\n",
      "652/652 [==============================] - 210s 321ms/step - loss: 0.3026 - categorical_accuracy: 0.8735 - val_loss: 0.6458 - val_categorical_accuracy: 0.8125\n",
      "Epoch 8/200\n",
      "652/652 [==============================] - 210s 322ms/step - loss: 0.2994 - categorical_accuracy: 0.8729 - val_loss: 0.7665 - val_categorical_accuracy: 0.6875\n",
      "Epoch 9/200\n",
      "652/652 [==============================] - 210s 322ms/step - loss: 0.2943 - categorical_accuracy: 0.8760 - val_loss: 0.6121 - val_categorical_accuracy: 0.7500\n",
      "Epoch 10/200\n",
      "652/652 [==============================] - 210s 322ms/step - loss: 0.2863 - categorical_accuracy: 0.8737 - val_loss: 1.1334 - val_categorical_accuracy: 0.6250\n",
      "Epoch 11/200\n",
      "652/652 [==============================] - 210s 322ms/step - loss: 0.2781 - categorical_accuracy: 0.8831 - val_loss: 0.4956 - val_categorical_accuracy: 0.7500\n",
      "Epoch 12/200\n",
      "652/652 [==============================] - 210s 321ms/step - loss: 0.2754 - categorical_accuracy: 0.8859 - val_loss: 0.9824 - val_categorical_accuracy: 0.6250\n",
      "Epoch 13/200\n",
      "652/652 [==============================] - 209s 321ms/step - loss: 0.2687 - categorical_accuracy: 0.8888 - val_loss: 0.8547 - val_categorical_accuracy: 0.6250\n",
      "Epoch 14/200\n",
      "652/652 [==============================] - 210s 322ms/step - loss: 0.2553 - categorical_accuracy: 0.8957 - val_loss: 0.9375 - val_categorical_accuracy: 0.6250\n",
      "Epoch 15/200\n",
      "652/652 [==============================] - 210s 322ms/step - loss: 0.2446 - categorical_accuracy: 0.9068 - val_loss: 0.5861 - val_categorical_accuracy: 0.7500\n",
      "Epoch 16/200\n",
      "652/652 [==============================] - 210s 322ms/step - loss: 0.2455 - categorical_accuracy: 0.9030 - val_loss: 0.9149 - val_categorical_accuracy: 0.6875\n",
      "Epoch 17/200\n",
      "652/652 [==============================] - 211s 324ms/step - loss: 0.2351 - categorical_accuracy: 0.9166 - val_loss: 0.7379 - val_categorical_accuracy: 0.6875\n",
      "Epoch 18/200\n",
      "652/652 [==============================] - 211s 323ms/step - loss: 0.2308 - categorical_accuracy: 0.9162 - val_loss: 0.6384 - val_categorical_accuracy: 0.6875\n",
      "Epoch 19/200\n",
      "652/652 [==============================] - 211s 323ms/step - loss: 0.2336 - categorical_accuracy: 0.9118 - val_loss: 1.0262 - val_categorical_accuracy: 0.6250\n",
      "Epoch 20/200\n",
      "652/652 [==============================] - 210s 323ms/step - loss: 0.2277 - categorical_accuracy: 0.9153 - val_loss: 0.7251 - val_categorical_accuracy: 0.6875\n",
      "Epoch 21/200\n",
      "652/652 [==============================] - 210s 322ms/step - loss: 0.2174 - categorical_accuracy: 0.9193 - val_loss: 0.7729 - val_categorical_accuracy: 0.6250\n",
      "Epoch 22/200\n",
      "652/652 [==============================] - 210s 323ms/step - loss: 0.2196 - categorical_accuracy: 0.9243 - val_loss: 0.5472 - val_categorical_accuracy: 0.7500\n",
      "Epoch 23/200\n",
      "652/652 [==============================] - 210s 323ms/step - loss: 0.2151 - categorical_accuracy: 0.9245 - val_loss: 0.4878 - val_categorical_accuracy: 0.6250\n",
      "Epoch 24/200\n",
      "652/652 [==============================] - 210s 322ms/step - loss: 0.2064 - categorical_accuracy: 0.9248 - val_loss: 0.9726 - val_categorical_accuracy: 0.6250\n",
      "Epoch 25/200\n",
      "652/652 [==============================] - 210s 323ms/step - loss: 0.2103 - categorical_accuracy: 0.9262 - val_loss: 0.4896 - val_categorical_accuracy: 0.7500\n",
      "Epoch 26/200\n",
      "652/652 [==============================] - 210s 322ms/step - loss: 0.2110 - categorical_accuracy: 0.9220 - val_loss: 0.6839 - val_categorical_accuracy: 0.6875\n",
      "Epoch 27/200\n",
      "652/652 [==============================] - 210s 323ms/step - loss: 0.2067 - categorical_accuracy: 0.9237 - val_loss: 0.8404 - val_categorical_accuracy: 0.6250\n",
      "Epoch 28/200\n",
      "652/652 [==============================] - 210s 323ms/step - loss: 0.1976 - categorical_accuracy: 0.9291 - val_loss: 1.3881 - val_categorical_accuracy: 0.6250\n",
      "Epoch 29/200\n",
      "652/652 [==============================] - 210s 322ms/step - loss: 0.2004 - categorical_accuracy: 0.9277 - val_loss: 0.8095 - val_categorical_accuracy: 0.6250\n",
      "Epoch 30/200\n",
      "652/652 [==============================] - 210s 322ms/step - loss: 0.1979 - categorical_accuracy: 0.9310 - val_loss: 0.3259 - val_categorical_accuracy: 0.8750\n",
      "Epoch 31/200\n",
      "652/652 [==============================] - 209s 321ms/step - loss: 0.1977 - categorical_accuracy: 0.9293 - val_loss: 0.4370 - val_categorical_accuracy: 0.7500\n",
      "Epoch 32/200\n",
      "652/652 [==============================] - 210s 322ms/step - loss: 0.1875 - categorical_accuracy: 0.9363 - val_loss: 0.4653 - val_categorical_accuracy: 0.7500\n",
      "Epoch 33/200\n",
      "652/652 [==============================] - 210s 322ms/step - loss: 0.1872 - categorical_accuracy: 0.9329 - val_loss: 0.7039 - val_categorical_accuracy: 0.6875\n",
      "Epoch 34/200\n",
      "652/652 [==============================] - 210s 322ms/step - loss: 0.1848 - categorical_accuracy: 0.9333 - val_loss: 0.7903 - val_categorical_accuracy: 0.6875\n",
      "Epoch 35/200\n",
      "652/652 [==============================] - 210s 322ms/step - loss: 0.1889 - categorical_accuracy: 0.9350 - val_loss: 1.2523 - val_categorical_accuracy: 0.5625\n",
      "Epoch 36/200\n",
      "652/652 [==============================] - 210s 322ms/step - loss: 0.1798 - categorical_accuracy: 0.9371 - val_loss: 0.5296 - val_categorical_accuracy: 0.6250\n",
      "Epoch 37/200\n",
      "652/652 [==============================] - 210s 322ms/step - loss: 0.1763 - categorical_accuracy: 0.9394 - val_loss: 0.6947 - val_categorical_accuracy: 0.6875\n",
      "Epoch 38/200\n",
      "652/652 [==============================] - 210s 322ms/step - loss: 0.1768 - categorical_accuracy: 0.9356 - val_loss: 1.2625 - val_categorical_accuracy: 0.5625\n",
      "Epoch 39/200\n",
      "652/652 [==============================] - 210s 323ms/step - loss: 0.1758 - categorical_accuracy: 0.9375 - val_loss: 1.0164 - val_categorical_accuracy: 0.5625\n",
      "Epoch 40/200\n",
      "652/652 [==============================] - 210s 322ms/step - loss: 0.1678 - categorical_accuracy: 0.9433 - val_loss: 0.9434 - val_categorical_accuracy: 0.6250\n",
      "Epoch 41/200\n",
      "652/652 [==============================] - 210s 322ms/step - loss: 0.1758 - categorical_accuracy: 0.9427 - val_loss: 0.7852 - val_categorical_accuracy: 0.6250\n",
      "Epoch 42/200\n",
      "652/652 [==============================] - 210s 322ms/step - loss: 0.1682 - categorical_accuracy: 0.9411 - val_loss: 0.4506 - val_categorical_accuracy: 0.7500\n",
      "Epoch 43/200\n",
      "652/652 [==============================] - 210s 322ms/step - loss: 0.1548 - categorical_accuracy: 0.9496 - val_loss: 1.1366 - val_categorical_accuracy: 0.6250\n",
      "Epoch 44/200\n",
      "652/652 [==============================] - 210s 322ms/step - loss: 0.1655 - categorical_accuracy: 0.9484 - val_loss: 1.0520 - val_categorical_accuracy: 0.6250\n",
      "Epoch 45/200\n",
      "652/652 [==============================] - 210s 322ms/step - loss: 0.1620 - categorical_accuracy: 0.9479 - val_loss: 0.4357 - val_categorical_accuracy: 0.7500\n",
      "Epoch 46/200\n",
      "652/652 [==============================] - 210s 322ms/step - loss: 0.1568 - categorical_accuracy: 0.9488 - val_loss: 0.3529 - val_categorical_accuracy: 0.8750\n",
      "Epoch 47/200\n"
     ]
    },
    {
     "name": "stdout",
     "output_type": "stream",
     "text": [
      "652/652 [==============================] - 211s 323ms/step - loss: 0.1621 - categorical_accuracy: 0.9469 - val_loss: 0.7960 - val_categorical_accuracy: 0.6250\n",
      "Epoch 48/200\n",
      "652/652 [==============================] - 210s 322ms/step - loss: 0.1676 - categorical_accuracy: 0.9436 - val_loss: 0.4326 - val_categorical_accuracy: 0.7500\n",
      "Epoch 49/200\n",
      "652/652 [==============================] - 210s 322ms/step - loss: 0.1552 - categorical_accuracy: 0.9482 - val_loss: 0.4684 - val_categorical_accuracy: 0.6250\n",
      "Epoch 50/200\n",
      "652/652 [==============================] - 210s 322ms/step - loss: 0.1506 - categorical_accuracy: 0.9526 - val_loss: 0.5334 - val_categorical_accuracy: 0.6875\n",
      "Epoch 51/200\n",
      "652/652 [==============================] - 210s 322ms/step - loss: 0.1486 - categorical_accuracy: 0.9519 - val_loss: 0.7060 - val_categorical_accuracy: 0.6250\n",
      "Epoch 52/200\n",
      "652/652 [==============================] - 210s 322ms/step - loss: 0.1467 - categorical_accuracy: 0.9519 - val_loss: 0.5812 - val_categorical_accuracy: 0.6875\n",
      "Epoch 53/200\n",
      "652/652 [==============================] - 210s 322ms/step - loss: 0.1454 - categorical_accuracy: 0.9532 - val_loss: 0.4142 - val_categorical_accuracy: 0.8125\n",
      "Epoch 54/200\n",
      "652/652 [==============================] - 210s 322ms/step - loss: 0.1471 - categorical_accuracy: 0.9525 - val_loss: 0.7905 - val_categorical_accuracy: 0.5625\n",
      "Epoch 55/200\n",
      "652/652 [==============================] - 210s 322ms/step - loss: 0.1360 - categorical_accuracy: 0.9540 - val_loss: 0.9647 - val_categorical_accuracy: 0.6250\n",
      "Epoch 56/200\n",
      "652/652 [==============================] - 210s 322ms/step - loss: 0.1350 - categorical_accuracy: 0.9569 - val_loss: 0.4008 - val_categorical_accuracy: 0.8125\n",
      "Epoch 57/200\n",
      "652/652 [==============================] - 211s 323ms/step - loss: 0.1372 - categorical_accuracy: 0.9580 - val_loss: 0.6417 - val_categorical_accuracy: 0.6250\n",
      "Epoch 58/200\n",
      "652/652 [==============================] - 211s 323ms/step - loss: 0.1279 - categorical_accuracy: 0.9592 - val_loss: 0.2219 - val_categorical_accuracy: 0.9375\n",
      "Epoch 59/200\n",
      "652/652 [==============================] - 211s 323ms/step - loss: 0.1354 - categorical_accuracy: 0.9578 - val_loss: 0.6657 - val_categorical_accuracy: 0.6875\n",
      "Epoch 60/200\n",
      "652/652 [==============================] - 211s 324ms/step - loss: 0.1367 - categorical_accuracy: 0.9555 - val_loss: 0.5466 - val_categorical_accuracy: 0.8125\n",
      "Epoch 61/200\n",
      "652/652 [==============================] - 211s 324ms/step - loss: 0.1322 - categorical_accuracy: 0.9572 - val_loss: 0.5851 - val_categorical_accuracy: 0.6250\n",
      "Epoch 62/200\n",
      "652/652 [==============================] - 211s 323ms/step - loss: 0.1300 - categorical_accuracy: 0.9563 - val_loss: 0.5892 - val_categorical_accuracy: 0.6875\n",
      "Epoch 63/200\n",
      "652/652 [==============================] - 210s 322ms/step - loss: 0.1300 - categorical_accuracy: 0.9586 - val_loss: 0.3222 - val_categorical_accuracy: 0.7500\n",
      "Epoch 64/200\n",
      "652/652 [==============================] - 210s 323ms/step - loss: 0.1290 - categorical_accuracy: 0.9578 - val_loss: 0.6971 - val_categorical_accuracy: 0.7500\n",
      "Epoch 65/200\n",
      "652/652 [==============================] - 211s 324ms/step - loss: 0.1273 - categorical_accuracy: 0.9588 - val_loss: 1.0615 - val_categorical_accuracy: 0.7500\n",
      "Epoch 66/200\n",
      "652/652 [==============================] - 211s 323ms/step - loss: 0.1254 - categorical_accuracy: 0.9609 - val_loss: 1.1242 - val_categorical_accuracy: 0.6250\n",
      "Epoch 67/200\n",
      "652/652 [==============================] - 210s 323ms/step - loss: 0.1246 - categorical_accuracy: 0.9603 - val_loss: 0.7735 - val_categorical_accuracy: 0.6250\n",
      "Epoch 68/200\n",
      "652/652 [==============================] - 211s 323ms/step - loss: 0.1142 - categorical_accuracy: 0.9645 - val_loss: 0.6211 - val_categorical_accuracy: 0.6250\n",
      "Epoch 69/200\n",
      "652/652 [==============================] - 211s 324ms/step - loss: 0.1190 - categorical_accuracy: 0.9640 - val_loss: 0.4313 - val_categorical_accuracy: 0.8750\n",
      "Epoch 70/200\n",
      "652/652 [==============================] - 210s 322ms/step - loss: 0.1227 - categorical_accuracy: 0.9632 - val_loss: 0.5907 - val_categorical_accuracy: 0.8125\n",
      "Epoch 71/200\n",
      "652/652 [==============================] - 211s 323ms/step - loss: 0.1156 - categorical_accuracy: 0.9661 - val_loss: 0.3129 - val_categorical_accuracy: 0.8750\n",
      "Epoch 72/200\n",
      "652/652 [==============================] - 210s 323ms/step - loss: 0.1201 - categorical_accuracy: 0.9634 - val_loss: 0.5503 - val_categorical_accuracy: 0.8750\n",
      "Epoch 73/200\n",
      "652/652 [==============================] - 211s 323ms/step - loss: 0.1200 - categorical_accuracy: 0.9664 - val_loss: 0.5106 - val_categorical_accuracy: 0.6875\n",
      "Epoch 74/200\n",
      "652/652 [==============================] - 211s 324ms/step - loss: 0.1082 - categorical_accuracy: 0.9684 - val_loss: 0.6323 - val_categorical_accuracy: 0.6875\n",
      "Epoch 75/200\n",
      "652/652 [==============================] - 210s 322ms/step - loss: 0.1165 - categorical_accuracy: 0.9628 - val_loss: 0.2669 - val_categorical_accuracy: 0.8750\n",
      "Epoch 76/200\n",
      "652/652 [==============================] - 211s 323ms/step - loss: 0.1181 - categorical_accuracy: 0.9630 - val_loss: 0.4159 - val_categorical_accuracy: 0.8750\n",
      "Epoch 77/200\n",
      "652/652 [==============================] - 211s 323ms/step - loss: 0.1141 - categorical_accuracy: 0.9645 - val_loss: 0.3732 - val_categorical_accuracy: 0.8750\n",
      "Epoch 78/200\n",
      "652/652 [==============================] - 211s 324ms/step - loss: 0.1171 - categorical_accuracy: 0.9622 - val_loss: 1.0312 - val_categorical_accuracy: 0.6250\n",
      "Epoch 79/200\n",
      "652/652 [==============================] - 211s 323ms/step - loss: 0.1151 - categorical_accuracy: 0.9640 - val_loss: 0.5700 - val_categorical_accuracy: 0.8125\n",
      "Epoch 80/200\n",
      "652/652 [==============================] - 210s 323ms/step - loss: 0.1007 - categorical_accuracy: 0.9695 - val_loss: 0.4472 - val_categorical_accuracy: 0.8750\n",
      "Epoch 81/200\n",
      "652/652 [==============================] - 211s 323ms/step - loss: 0.1087 - categorical_accuracy: 0.9684 - val_loss: 0.1666 - val_categorical_accuracy: 0.9375\n",
      "Epoch 82/200\n",
      "652/652 [==============================] - 210s 322ms/step - loss: 0.1019 - categorical_accuracy: 0.9705 - val_loss: 0.2815 - val_categorical_accuracy: 0.9375\n",
      "Epoch 83/200\n",
      "652/652 [==============================] - 210s 322ms/step - loss: 0.1141 - categorical_accuracy: 0.9649 - val_loss: 0.2619 - val_categorical_accuracy: 0.9375\n",
      "Epoch 84/200\n",
      "652/652 [==============================] - 210s 322ms/step - loss: 0.1139 - categorical_accuracy: 0.9655 - val_loss: 0.6720 - val_categorical_accuracy: 0.6875\n",
      "Epoch 85/200\n",
      "652/652 [==============================] - 210s 321ms/step - loss: 0.1082 - categorical_accuracy: 0.9686 - val_loss: 0.5288 - val_categorical_accuracy: 0.6875\n",
      "Epoch 86/200\n",
      "652/652 [==============================] - 210s 321ms/step - loss: 0.1048 - categorical_accuracy: 0.9691 - val_loss: 0.4844 - val_categorical_accuracy: 0.7500\n",
      "Epoch 87/200\n",
      "652/652 [==============================] - 210s 321ms/step - loss: 0.1025 - categorical_accuracy: 0.9703 - val_loss: 0.2812 - val_categorical_accuracy: 0.9375\n",
      "Epoch 88/200\n",
      "652/652 [==============================] - 210s 321ms/step - loss: 0.0928 - categorical_accuracy: 0.9712 - val_loss: 0.1380 - val_categorical_accuracy: 1.0000\n",
      "Epoch 89/200\n",
      "652/652 [==============================] - 255s 391ms/step - loss: 0.0989 - categorical_accuracy: 0.9720 - val_loss: 0.4364 - val_categorical_accuracy: 0.8125\n",
      "Epoch 90/200\n",
      "652/652 [==============================] - 270s 414ms/step - loss: 0.0958 - categorical_accuracy: 0.9693 - val_loss: 0.1823 - val_categorical_accuracy: 0.9375\n",
      "Epoch 91/200\n",
      "652/652 [==============================] - 270s 415ms/step - loss: 0.0951 - categorical_accuracy: 0.9693 - val_loss: 0.5069 - val_categorical_accuracy: 0.8750\n",
      "Epoch 92/200\n",
      "652/652 [==============================] - 270s 415ms/step - loss: 0.0991 - categorical_accuracy: 0.9672 - val_loss: 0.5098 - val_categorical_accuracy: 0.7500\n",
      "Epoch 93/200\n",
      "652/652 [==============================] - 282s 432ms/step - loss: 0.0874 - categorical_accuracy: 0.9745 - val_loss: 0.6538 - val_categorical_accuracy: 0.6875\n",
      "Epoch 94/200\n",
      "652/652 [==============================] - 399s 612ms/step - loss: 0.1025 - categorical_accuracy: 0.9688 - val_loss: 0.6833 - val_categorical_accuracy: 0.6875\n"
     ]
    },
    {
     "name": "stdout",
     "output_type": "stream",
     "text": [
      "Epoch 95/200\n",
      "652/652 [==============================] - 552s 846ms/step - loss: 0.0941 - categorical_accuracy: 0.9703 - val_loss: 0.6621 - val_categorical_accuracy: 0.8125\n",
      "Epoch 96/200\n",
      "652/652 [==============================] - 220s 338ms/step - loss: 0.0987 - categorical_accuracy: 0.9720 - val_loss: 0.3377 - val_categorical_accuracy: 0.8125\n",
      "Epoch 97/200\n",
      "652/652 [==============================] - 221s 338ms/step - loss: 0.0939 - categorical_accuracy: 0.9724 - val_loss: 0.4397 - val_categorical_accuracy: 0.7500\n",
      "Epoch 98/200\n",
      "652/652 [==============================] - 220s 338ms/step - loss: 0.0886 - categorical_accuracy: 0.9735 - val_loss: 0.7540 - val_categorical_accuracy: 0.6250\n",
      "Epoch 99/200\n",
      "652/652 [==============================] - 220s 338ms/step - loss: 0.0974 - categorical_accuracy: 0.9691 - val_loss: 0.4533 - val_categorical_accuracy: 0.8125\n",
      "Epoch 100/200\n",
      "652/652 [==============================] - 221s 338ms/step - loss: 0.0894 - categorical_accuracy: 0.9734 - val_loss: 0.2696 - val_categorical_accuracy: 0.8750\n",
      "Epoch 101/200\n",
      "652/652 [==============================] - 221s 339ms/step - loss: 0.0963 - categorical_accuracy: 0.9682 - val_loss: 0.6183 - val_categorical_accuracy: 0.6875\n",
      "Epoch 102/200\n",
      "652/652 [==============================] - 221s 338ms/step - loss: 0.0955 - categorical_accuracy: 0.9720 - val_loss: 0.2435 - val_categorical_accuracy: 0.8750\n",
      "Epoch 103/200\n",
      "652/652 [==============================] - 221s 338ms/step - loss: 0.0949 - categorical_accuracy: 0.9701 - val_loss: 0.2680 - val_categorical_accuracy: 0.8750\n",
      "Epoch 104/200\n",
      "652/652 [==============================] - 221s 339ms/step - loss: 0.0907 - categorical_accuracy: 0.9755 - val_loss: 0.2857 - val_categorical_accuracy: 0.8750\n",
      "Epoch 105/200\n",
      "652/652 [==============================] - 221s 339ms/step - loss: 0.0887 - categorical_accuracy: 0.9726 - val_loss: 0.2183 - val_categorical_accuracy: 0.8750\n",
      "Epoch 106/200\n",
      "652/652 [==============================] - 220s 338ms/step - loss: 0.0917 - categorical_accuracy: 0.9728 - val_loss: 0.1348 - val_categorical_accuracy: 0.9375\n",
      "Epoch 107/200\n",
      "652/652 [==============================] - 219s 336ms/step - loss: 0.0840 - categorical_accuracy: 0.9760 - val_loss: 0.4946 - val_categorical_accuracy: 0.7500\n",
      "Epoch 108/200\n",
      "652/652 [==============================] - 220s 338ms/step - loss: 0.0926 - categorical_accuracy: 0.9724 - val_loss: 1.3134 - val_categorical_accuracy: 0.6250\n",
      "Epoch 109/200\n",
      "652/652 [==============================] - 221s 338ms/step - loss: 0.0829 - categorical_accuracy: 0.9758 - val_loss: 0.1975 - val_categorical_accuracy: 0.9375\n",
      "Epoch 110/200\n",
      "652/652 [==============================] - 221s 339ms/step - loss: 0.0879 - categorical_accuracy: 0.9722 - val_loss: 0.3865 - val_categorical_accuracy: 0.8750\n",
      "Epoch 111/200\n",
      "652/652 [==============================] - 221s 338ms/step - loss: 0.0864 - categorical_accuracy: 0.9760 - val_loss: 0.4471 - val_categorical_accuracy: 0.6875\n",
      "Epoch 112/200\n",
      "652/652 [==============================] - 220s 338ms/step - loss: 0.0843 - categorical_accuracy: 0.9743 - val_loss: 0.2750 - val_categorical_accuracy: 0.8750\n",
      "Epoch 113/200\n",
      "652/652 [==============================] - 220s 338ms/step - loss: 0.0863 - categorical_accuracy: 0.9732 - val_loss: 0.2465 - val_categorical_accuracy: 0.9375\n",
      "Epoch 114/200\n",
      "652/652 [==============================] - 220s 338ms/step - loss: 0.0891 - categorical_accuracy: 0.9741 - val_loss: 0.1617 - val_categorical_accuracy: 1.0000\n",
      "Epoch 115/200\n",
      "652/652 [==============================] - 221s 338ms/step - loss: 0.0800 - categorical_accuracy: 0.9760 - val_loss: 0.5511 - val_categorical_accuracy: 0.6875\n",
      "Epoch 116/200\n",
      "652/652 [==============================] - 221s 338ms/step - loss: 0.0889 - categorical_accuracy: 0.9720 - val_loss: 0.5157 - val_categorical_accuracy: 0.7500\n",
      "Epoch 117/200\n",
      "652/652 [==============================] - 221s 338ms/step - loss: 0.0847 - categorical_accuracy: 0.9768 - val_loss: 0.2851 - val_categorical_accuracy: 0.8125\n",
      "Epoch 118/200\n",
      "652/652 [==============================] - 220s 338ms/step - loss: 0.0816 - categorical_accuracy: 0.9745 - val_loss: 0.1884 - val_categorical_accuracy: 0.9375\n",
      "Epoch 119/200\n",
      "652/652 [==============================] - 220s 338ms/step - loss: 0.0832 - categorical_accuracy: 0.9755 - val_loss: 0.1013 - val_categorical_accuracy: 1.0000\n",
      "Epoch 120/200\n",
      "652/652 [==============================] - 220s 337ms/step - loss: 0.0775 - categorical_accuracy: 0.9768 - val_loss: 0.1986 - val_categorical_accuracy: 0.9375\n",
      "Epoch 121/200\n",
      "652/652 [==============================] - 220s 337ms/step - loss: 0.0717 - categorical_accuracy: 0.9793 - val_loss: 0.4122 - val_categorical_accuracy: 0.7500\n",
      "Epoch 122/200\n",
      "652/652 [==============================] - 220s 337ms/step - loss: 0.0754 - categorical_accuracy: 0.9804 - val_loss: 0.1727 - val_categorical_accuracy: 0.9375\n",
      "Epoch 123/200\n",
      "652/652 [==============================] - 220s 337ms/step - loss: 0.0783 - categorical_accuracy: 0.9776 - val_loss: 0.4725 - val_categorical_accuracy: 0.8125\n",
      "Epoch 124/200\n",
      "652/652 [==============================] - 220s 337ms/step - loss: 0.0816 - categorical_accuracy: 0.9764 - val_loss: 0.1870 - val_categorical_accuracy: 0.9375\n",
      "Epoch 125/200\n",
      "652/652 [==============================] - 220s 337ms/step - loss: 0.0702 - categorical_accuracy: 0.9781 - val_loss: 0.1269 - val_categorical_accuracy: 1.0000\n",
      "Epoch 126/200\n",
      "652/652 [==============================] - 220s 337ms/step - loss: 0.0756 - categorical_accuracy: 0.9772 - val_loss: 0.4758 - val_categorical_accuracy: 0.7500\n",
      "Epoch 127/200\n",
      "652/652 [==============================] - 220s 337ms/step - loss: 0.0748 - categorical_accuracy: 0.9781 - val_loss: 0.2260 - val_categorical_accuracy: 0.9375\n",
      "Epoch 128/200\n",
      "652/652 [==============================] - 220s 337ms/step - loss: 0.0721 - categorical_accuracy: 0.9799 - val_loss: 0.4234 - val_categorical_accuracy: 0.7500\n",
      "Epoch 129/200\n",
      "652/652 [==============================] - 220s 337ms/step - loss: 0.0756 - categorical_accuracy: 0.9760 - val_loss: 0.4981 - val_categorical_accuracy: 0.6250\n",
      "Epoch 130/200\n",
      "652/652 [==============================] - 220s 337ms/step - loss: 0.0807 - categorical_accuracy: 0.9778 - val_loss: 0.5749 - val_categorical_accuracy: 0.7500\n",
      "Epoch 131/200\n",
      "652/652 [==============================] - 220s 337ms/step - loss: 0.0732 - categorical_accuracy: 0.9762 - val_loss: 0.2339 - val_categorical_accuracy: 0.8750\n",
      "Epoch 132/200\n",
      "652/652 [==============================] - 220s 337ms/step - loss: 0.0728 - categorical_accuracy: 0.9785 - val_loss: 0.1666 - val_categorical_accuracy: 0.9375\n",
      "Epoch 133/200\n",
      "652/652 [==============================] - 220s 337ms/step - loss: 0.0738 - categorical_accuracy: 0.9781 - val_loss: 0.3370 - val_categorical_accuracy: 0.8125\n",
      "Epoch 134/200\n",
      "652/652 [==============================] - 220s 337ms/step - loss: 0.0723 - categorical_accuracy: 0.9768 - val_loss: 0.2113 - val_categorical_accuracy: 0.9375\n",
      "Epoch 135/200\n",
      "652/652 [==============================] - 220s 337ms/step - loss: 0.0736 - categorical_accuracy: 0.9812 - val_loss: 0.1220 - val_categorical_accuracy: 0.9375\n",
      "Epoch 136/200\n",
      "652/652 [==============================] - 220s 337ms/step - loss: 0.0685 - categorical_accuracy: 0.9787 - val_loss: 0.1519 - val_categorical_accuracy: 0.9375\n",
      "Epoch 137/200\n",
      "652/652 [==============================] - 220s 337ms/step - loss: 0.0701 - categorical_accuracy: 0.9799 - val_loss: 0.6122 - val_categorical_accuracy: 0.7500\n",
      "Epoch 138/200\n",
      "652/652 [==============================] - 220s 337ms/step - loss: 0.0704 - categorical_accuracy: 0.9818 - val_loss: 1.2682 - val_categorical_accuracy: 0.7500\n",
      "Epoch 139/200\n",
      "652/652 [==============================] - 220s 337ms/step - loss: 0.0724 - categorical_accuracy: 0.9797 - val_loss: 0.1453 - val_categorical_accuracy: 0.9375\n",
      "Epoch 140/200\n",
      "652/652 [==============================] - 220s 337ms/step - loss: 0.0695 - categorical_accuracy: 0.9797 - val_loss: 0.2641 - val_categorical_accuracy: 0.8750\n",
      "Epoch 141/200\n",
      "652/652 [==============================] - 220s 337ms/step - loss: 0.0694 - categorical_accuracy: 0.9801 - val_loss: 0.4950 - val_categorical_accuracy: 0.8750\n",
      "Epoch 142/200\n"
     ]
    },
    {
     "name": "stdout",
     "output_type": "stream",
     "text": [
      "652/652 [==============================] - 220s 337ms/step - loss: 0.0673 - categorical_accuracy: 0.9808 - val_loss: 0.3463 - val_categorical_accuracy: 0.8750\n",
      "Epoch 143/200\n",
      "652/652 [==============================] - 220s 337ms/step - loss: 0.0768 - categorical_accuracy: 0.9770 - val_loss: 0.6441 - val_categorical_accuracy: 0.7500\n",
      "Epoch 144/200\n",
      "652/652 [==============================] - 220s 337ms/step - loss: 0.0642 - categorical_accuracy: 0.9827 - val_loss: 0.1764 - val_categorical_accuracy: 1.0000\n",
      "Epoch 145/200\n",
      "652/652 [==============================] - 220s 337ms/step - loss: 0.0712 - categorical_accuracy: 0.9789 - val_loss: 0.4702 - val_categorical_accuracy: 0.8125\n",
      "Epoch 146/200\n",
      "652/652 [==============================] - 220s 337ms/step - loss: 0.0673 - categorical_accuracy: 0.9816 - val_loss: 0.5731 - val_categorical_accuracy: 0.8125\n",
      "Epoch 147/200\n",
      "652/652 [==============================] - 220s 337ms/step - loss: 0.0699 - categorical_accuracy: 0.9826 - val_loss: 0.1837 - val_categorical_accuracy: 0.9375\n",
      "Epoch 148/200\n",
      "652/652 [==============================] - 220s 337ms/step - loss: 0.0664 - categorical_accuracy: 0.9803 - val_loss: 0.2700 - val_categorical_accuracy: 0.8750\n",
      "Epoch 149/200\n",
      "652/652 [==============================] - 219s 337ms/step - loss: 0.0622 - categorical_accuracy: 0.9827 - val_loss: 0.1692 - val_categorical_accuracy: 0.8750\n",
      "Epoch 150/200\n",
      "652/652 [==============================] - 220s 338ms/step - loss: 0.0697 - categorical_accuracy: 0.9799 - val_loss: 0.0825 - val_categorical_accuracy: 0.9375\n",
      "Epoch 151/200\n",
      "652/652 [==============================] - 219s 336ms/step - loss: 0.0623 - categorical_accuracy: 0.9820 - val_loss: 0.2267 - val_categorical_accuracy: 0.8750\n",
      "Epoch 152/200\n",
      "652/652 [==============================] - 220s 337ms/step - loss: 0.0688 - categorical_accuracy: 0.9793 - val_loss: 0.7667 - val_categorical_accuracy: 0.7500\n",
      "Epoch 153/200\n",
      "652/652 [==============================] - 220s 337ms/step - loss: 0.0675 - categorical_accuracy: 0.9808 - val_loss: 0.3796 - val_categorical_accuracy: 0.8750\n",
      "Epoch 154/200\n",
      "652/652 [==============================] - 220s 337ms/step - loss: 0.0655 - categorical_accuracy: 0.9826 - val_loss: 0.2650 - val_categorical_accuracy: 0.9375\n",
      "Epoch 155/200\n",
      "652/652 [==============================] - 220s 337ms/step - loss: 0.0585 - categorical_accuracy: 0.9826 - val_loss: 0.8466 - val_categorical_accuracy: 0.6875\n",
      "Epoch 156/200\n",
      "652/652 [==============================] - 219s 337ms/step - loss: 0.0664 - categorical_accuracy: 0.9810 - val_loss: 0.1609 - val_categorical_accuracy: 0.9375\n",
      "Epoch 157/200\n",
      "652/652 [==============================] - 220s 337ms/step - loss: 0.0635 - categorical_accuracy: 0.9803 - val_loss: 0.1366 - val_categorical_accuracy: 1.0000\n",
      "Epoch 158/200\n",
      "652/652 [==============================] - 220s 337ms/step - loss: 0.0679 - categorical_accuracy: 0.9820 - val_loss: 1.0373 - val_categorical_accuracy: 0.6250\n",
      "Epoch 159/200\n",
      "652/652 [==============================] - 220s 337ms/step - loss: 0.0597 - categorical_accuracy: 0.9839 - val_loss: 0.1516 - val_categorical_accuracy: 0.9375\n",
      "Epoch 160/200\n",
      "652/652 [==============================] - 219s 337ms/step - loss: 0.0579 - categorical_accuracy: 0.9847 - val_loss: 0.2708 - val_categorical_accuracy: 0.8125\n",
      "Epoch 161/200\n",
      "652/652 [==============================] - 220s 337ms/step - loss: 0.0571 - categorical_accuracy: 0.9852 - val_loss: 0.7433 - val_categorical_accuracy: 0.8125\n",
      "Epoch 162/200\n",
      "652/652 [==============================] - 220s 337ms/step - loss: 0.0591 - categorical_accuracy: 0.9824 - val_loss: 1.0412 - val_categorical_accuracy: 0.7500\n",
      "Epoch 163/200\n",
      "652/652 [==============================] - 220s 337ms/step - loss: 0.0655 - categorical_accuracy: 0.9822 - val_loss: 0.4043 - val_categorical_accuracy: 0.8750\n",
      "Epoch 164/200\n",
      "652/652 [==============================] - 220s 337ms/step - loss: 0.0566 - categorical_accuracy: 0.9824 - val_loss: 0.2704 - val_categorical_accuracy: 0.8750\n",
      "Epoch 165/200\n",
      "652/652 [==============================] - 220s 337ms/step - loss: 0.0640 - categorical_accuracy: 0.9822 - val_loss: 0.1900 - val_categorical_accuracy: 0.9375\n",
      "Epoch 166/200\n",
      "652/652 [==============================] - 220s 338ms/step - loss: 0.0534 - categorical_accuracy: 0.9875 - val_loss: 0.2149 - val_categorical_accuracy: 0.8750\n",
      "Epoch 167/200\n",
      "652/652 [==============================] - 220s 338ms/step - loss: 0.0575 - categorical_accuracy: 0.9833 - val_loss: 0.9210 - val_categorical_accuracy: 0.6875\n",
      "Epoch 168/200\n",
      "652/652 [==============================] - 220s 338ms/step - loss: 0.0565 - categorical_accuracy: 0.9839 - val_loss: 0.3156 - val_categorical_accuracy: 0.8750\n",
      "Epoch 169/200\n",
      "652/652 [==============================] - 221s 338ms/step - loss: 0.0549 - categorical_accuracy: 0.9858 - val_loss: 1.4804 - val_categorical_accuracy: 0.6875\n",
      "Epoch 170/200\n",
      "652/652 [==============================] - 221s 339ms/step - loss: 0.0574 - categorical_accuracy: 0.9837 - val_loss: 0.5053 - val_categorical_accuracy: 0.8125\n",
      "Epoch 171/200\n",
      "652/652 [==============================] - 221s 339ms/step - loss: 0.0594 - categorical_accuracy: 0.9847 - val_loss: 0.7181 - val_categorical_accuracy: 0.8125\n",
      "Epoch 172/200\n",
      "652/652 [==============================] - 221s 339ms/step - loss: 0.0554 - categorical_accuracy: 0.9850 - val_loss: 0.4340 - val_categorical_accuracy: 0.9375\n",
      "Epoch 173/200\n",
      "652/652 [==============================] - 221s 339ms/step - loss: 0.0631 - categorical_accuracy: 0.9833 - val_loss: 0.4578 - val_categorical_accuracy: 0.8125\n",
      "Epoch 174/200\n",
      "652/652 [==============================] - 220s 338ms/step - loss: 0.0631 - categorical_accuracy: 0.9816 - val_loss: 0.2569 - val_categorical_accuracy: 0.9375\n",
      "Epoch 175/200\n",
      "652/652 [==============================] - 220s 337ms/step - loss: 0.0603 - categorical_accuracy: 0.9845 - val_loss: 0.3999 - val_categorical_accuracy: 0.7500\n",
      "Epoch 176/200\n",
      "652/652 [==============================] - 220s 337ms/step - loss: 0.0565 - categorical_accuracy: 0.9839 - val_loss: 0.2011 - val_categorical_accuracy: 0.9375\n",
      "Epoch 177/200\n",
      "652/652 [==============================] - 220s 338ms/step - loss: 0.0630 - categorical_accuracy: 0.9824 - val_loss: 0.2254 - val_categorical_accuracy: 0.8750\n",
      "Epoch 178/200\n",
      "652/652 [==============================] - 220s 338ms/step - loss: 0.0509 - categorical_accuracy: 0.9856 - val_loss: 0.9284 - val_categorical_accuracy: 0.8750\n",
      "Epoch 179/200\n",
      "652/652 [==============================] - 220s 338ms/step - loss: 0.0586 - categorical_accuracy: 0.9835 - val_loss: 0.4628 - val_categorical_accuracy: 0.8750\n",
      "Epoch 180/200\n",
      "652/652 [==============================] - 220s 338ms/step - loss: 0.0517 - categorical_accuracy: 0.9860 - val_loss: 1.2052 - val_categorical_accuracy: 0.6875\n",
      "Epoch 181/200\n",
      "652/652 [==============================] - 220s 337ms/step - loss: 0.0586 - categorical_accuracy: 0.9831 - val_loss: 0.9107 - val_categorical_accuracy: 0.7500\n",
      "Epoch 182/200\n",
      "652/652 [==============================] - 220s 338ms/step - loss: 0.0588 - categorical_accuracy: 0.9839 - val_loss: 0.3069 - val_categorical_accuracy: 0.8750\n",
      "Epoch 183/200\n",
      "652/652 [==============================] - 221s 338ms/step - loss: 0.0508 - categorical_accuracy: 0.9885 - val_loss: 0.4913 - val_categorical_accuracy: 0.8750\n",
      "Epoch 184/200\n",
      "652/652 [==============================] - 221s 338ms/step - loss: 0.0580 - categorical_accuracy: 0.9845 - val_loss: 0.7522 - val_categorical_accuracy: 0.7500\n",
      "Epoch 185/200\n",
      "652/652 [==============================] - 220s 338ms/step - loss: 0.0565 - categorical_accuracy: 0.9843 - val_loss: 0.7325 - val_categorical_accuracy: 0.7500\n",
      "Epoch 186/200\n",
      " 72/652 [==>...........................] - ETA: 3:15 - loss: 0.0433 - categorical_accuracy: 0.9878"
     ]
    },
    {
     "name": "stderr",
     "output_type": "stream",
     "text": [
      "IOPub message rate exceeded.\n",
      "The notebook server will temporarily stop sending output\n",
      "to the client in order to avoid crashing it.\n",
      "To change this limit, set the config variable\n",
      "`--NotebookApp.iopub_msg_rate_limit`.\n",
      "\n",
      "Current values:\n",
      "NotebookApp.iopub_msg_rate_limit=1000.0 (msgs/sec)\n",
      "NotebookApp.rate_limit_window=3.0 (secs)\n",
      "\n"
     ]
    },
    {
     "name": "stdout",
     "output_type": "stream",
     "text": [
      "652/652 [==============================] - 221s 339ms/step - loss: 0.0535 - categorical_accuracy: 0.9860 - val_loss: 0.4674 - val_categorical_accuracy: 0.8750\n",
      "Epoch 197/200\n",
      "652/652 [==============================] - 221s 339ms/step - loss: 0.0550 - categorical_accuracy: 0.9833 - val_loss: 0.9528 - val_categorical_accuracy: 0.6875\n",
      "Epoch 198/200\n",
      "652/652 [==============================] - 221s 339ms/step - loss: 0.0488 - categorical_accuracy: 0.9870 - val_loss: 0.5087 - val_categorical_accuracy: 0.8125\n",
      "Epoch 199/200\n",
      "652/652 [==============================] - 220s 338ms/step - loss: 0.0446 - categorical_accuracy: 0.9883 - val_loss: 0.3758 - val_categorical_accuracy: 0.8750\n",
      "Epoch 200/200\n",
      "392/652 [=================>............] - ETA: 1:27 - loss: 0.0514 - categorical_accuracy: 0.9872"
     ]
    },
    {
     "name": "stderr",
     "output_type": "stream",
     "text": [
      "IOPub message rate exceeded.\n",
      "The notebook server will temporarily stop sending output\n",
      "to the client in order to avoid crashing it.\n",
      "To change this limit, set the config variable\n",
      "`--NotebookApp.iopub_msg_rate_limit`.\n",
      "\n",
      "Current values:\n",
      "NotebookApp.iopub_msg_rate_limit=1000.0 (msgs/sec)\n",
      "NotebookApp.rate_limit_window=3.0 (secs)\n",
      "\n"
     ]
    }
   ],
   "source": [
    "import math\n",
    "\n",
    "history = pneumoniaNetModel.fit_generator(\n",
    "      training_set,\n",
    "      steps_per_epoch=math.ceil(number_of_training_samples//batch_size),\n",
    "      epochs=no_of_epochs,\n",
    "      callbacks=callbacks_list,\n",
    "      validation_data=validation_set,\n",
    "      validation_steps=math.ceil(number_of_validation_samples//batch_size))"
   ]
  },
  {
   "cell_type": "markdown",
   "metadata": {},
   "source": [
    "## Visualizing the Training Process"
   ]
  },
  {
   "cell_type": "code",
   "execution_count": 8,
   "metadata": {},
   "outputs": [
    {
     "data": {
      "image/png": "[encoded data removed]",
      "text/plain": [
       "<Figure size 432x288 with 1 Axes>"
      ]
     },
     "metadata": {
      "needs_background": "light"
     },
     "output_type": "display_data"
    },
    {
     "data": {
      "image/png": "[encoded data removed]",
      "text/plain": [
       "<Figure size 432x288 with 1 Axes>"
      ]
     },
     "metadata": {
      "needs_background": "light"
     },
     "output_type": "display_data"
    }
   ],
   "source": [
    "import matplotlib.pyplot as plt\n",
    "%matplotlib inline\n",
    "\n",
    "acc=history.history['categorical_accuracy']\n",
    "val_acc=history.history['val_categorical_accuracy']\n",
    "loss=history.history['loss']\n",
    "val_loss=history.history['val_loss']\n",
    "epochs=range(1,len(acc)+1)\n",
    "plt.xlabel('Epochs')\n",
    "plt.ylabel('Accuracy')\n",
    "plt.plot(epochs, acc, 'bo', label='Training acc')\n",
    "plt.plot(epochs, val_acc, 'b', label='Validation acc')\n",
    "plt.title('Training and validation accuracy')\n",
    "plt.legend()\n",
    "plt.figure()\n",
    "\n",
    "plt.plot(epochs, loss, 'bo', label='Training loss')\n",
    "plt.plot(epochs, val_loss, 'b', label='Validation loss')\n",
    "plt.title('Training and validation loss')\n",
    "plt.xlabel('Epochs')\n",
    "plt.ylabel('Loss')\n",
    "plt.legend()\n",
    "plt.show()"
   ]
  },
  {
   "cell_type": "markdown",
   "metadata": {},
   "source": [
    "## Loading the Best Model"
   ]
  },
  {
   "cell_type": "code",
   "execution_count": 9,
   "metadata": {},
   "outputs": [],
   "source": [
    "from tensorflow.python.keras.models import load_model\n",
    "\n",
    "best_model = load_model('PneumoniaNet7.h5')"
   ]
  },
  {
   "cell_type": "markdown",
   "metadata": {},
   "source": [
    "## Evaluating the Best Model"
   ]
  },
  {
   "cell_type": "code",
   "execution_count": 10,
   "metadata": {},
   "outputs": [
    {
     "name": "stdout",
     "output_type": "stream",
     "text": [
      "78/78 [==============================] - 12s 150ms/step - loss: 0.2052 - categorical_accuracy: 0.9503\n",
      "Test-set classification accuracy: 95.03%\n"
     ]
    }
   ],
   "source": [
    "steps_test=int(number_of_test_samples/batch_size)\n",
    "result = best_model.evaluate_generator(test_set, steps=steps_test,verbose=1)\n",
    "print(\"Test-set classification accuracy: {0:.2%}\".format(result[1]))"
   ]
  },
  {
   "cell_type": "markdown",
   "metadata": {},
   "source": [
    "## Calculating Precision, Specificity and Sensitivity (Recall) values for the model\n",
    "*Precision-Recall* is a useful measure of success of prediction when the classes are very imbalanced. High *precision* relates to a low false positive rate, and high *recall* relates to a low false negative rate.\n",
    "\n",
    "Precision is defined as the number of true positives over the number of true positives plus the number of false positives. Recall is defined as the number of true positives over the number of true positives plus the number of false negatives. Please see the [link](https://scikit-learn.org/stable/auto_examples/model_selection/plot_precision_recall.html) for details.\n",
    "\n",
    "Another way of assessing a binary classification model is to compute the *sensitivity* (also called the true positive rate or the recall) and *specificity* (also called the true negative rate) of the model. *Sensitivity* indicates the percentage of sick people who are correctly identified as having the condition. *Specificity* indicates the percentage of healthy people who are correctly identified as not having the condition.\n",
    "\n",
    "But first we prepare our test data, so that later we can draw the *confusion matrix* as well as calculate *precision*, *specificity* and *sensitivity (recall)* of the model."
   ]
  },
  {
   "cell_type": "code",
   "execution_count": 11,
   "metadata": {},
   "outputs": [
    {
     "name": "stdout",
     "output_type": "stream",
     "text": [
      "Total number of test examples:  (624, 150, 150, 3)\n",
      "Total number of labels: (624, 1)\n"
     ]
    }
   ],
   "source": [
    "# Preparing test data\n",
    "import glob\n",
    "from pathlib import Path\n",
    "from tensorflow.python.keras.utils import to_categorical\n",
    "import cv2\n",
    "\n",
    "normal_cases_dir = Path('D:\\\\TensorFlow Programs\\\\Diagnosis of Pneumonia based on Chest X-Rays\\\\chest-xray-pneumonia\\\\chest_xray\\\\chest_xray\\\\test\\\\NORMAL')\n",
    "pneumonia_cases_dir = Path('D:\\\\TensorFlow Programs\\\\Diagnosis of Pneumonia based on Chest X-Rays\\\\chest-xray-pneumonia\\\\chest_xray\\\\chest_xray\\\\test\\\\PNEUMONIA')\n",
    "\n",
    "normal_cases = normal_cases_dir.glob('*.jpeg')\n",
    "pneumonia_cases = pneumonia_cases_dir.glob('*.jpeg')\n",
    "\n",
    "test_data = []\n",
    "test_labels = []\n",
    "\n",
    "for img in normal_cases:\n",
    "    img = cv2.imread(str(img))\n",
    "    img = cv2.resize(img, (image_width,image_height))\n",
    "    if img.shape[2] ==1:\n",
    "        img = np.dstack([img, img, img])\n",
    "    else:\n",
    "        img = cv2.cvtColor(img, cv2.COLOR_BGR2RGB)\n",
    "    img = img.astype(np.float32)/255.\n",
    "    label = [0]\n",
    "    test_data.append(img)\n",
    "    test_labels.append(label)\n",
    "                      \n",
    "for img in pneumonia_cases:\n",
    "    img = cv2.imread(str(img))\n",
    "    img = cv2.resize(img, (image_width,image_height))\n",
    "    if img.shape[2] ==1:\n",
    "        img = np.dstack([img, img, img])\n",
    "    else:\n",
    "        img = cv2.cvtColor(img, cv2.COLOR_BGR2RGB)\n",
    "    img = img.astype(np.float32)/255.\n",
    "    label = [1]\n",
    "    test_data.append(img)\n",
    "    test_labels.append(label)\n",
    "    \n",
    "\n",
    "test_data = np.array(test_data)\n",
    "test_labels = np.array(test_labels)\n",
    "test_labels_one_hot_encoding=to_categorical(test_labels)\n",
    "\n",
    "print(\"Total number of test examples: \", test_data.shape)\n",
    "print(\"Total number of labels:\", test_labels.shape)"
   ]
  },
  {
   "cell_type": "code",
   "execution_count": 12,
   "metadata": {},
   "outputs": [
    {
     "name": "stdout",
     "output_type": "stream",
     "text": [
      "624/624 [==============================] - 8s 12ms/sample - loss: 0.2072 - categorical_accuracy: 0.9487\n",
      "Loss on test set:  0.20720209608761928\n",
      "Accuracy on test set:  0.94871795\n"
     ]
    }
   ],
   "source": [
    "# Evaluation on test dataset\n",
    "\n",
    "test_loss, test_score = best_model.evaluate(test_data, test_labels_one_hot_encoding, batch_size=16)\n",
    "print(\"Loss on test set: \", test_loss)\n",
    "print(\"Accuracy on test set: \", test_score)"
   ]
  },
  {
   "cell_type": "code",
   "execution_count": 13,
   "metadata": {},
   "outputs": [
    {
     "name": "stdout",
     "output_type": "stream",
     "text": [
      "624/624 [==============================] - 6s 10ms/sample\n",
      "(624, 1)\n",
      "(624, 1)\n"
     ]
    }
   ],
   "source": [
    "# Get predictions\n",
    "preds = best_model.predict(test_data, batch_size=16,verbose=1)\n",
    "preds=np.around(preds)\n",
    "orig_test_labels=test_labels\n",
    "predicted_labels=np.argmax(preds,axis=1)\n",
    "predicted_labels=np.reshape(predicted_labels,(624,1))\n",
    "print(predicted_labels.shape)\n",
    "print(orig_test_labels.shape)"
   ]
  },
  {
   "cell_type": "code",
   "execution_count": 14,
   "metadata": {},
   "outputs": [
    {
     "data": {
      "text/plain": [
       "<Figure size 432x288 with 0 Axes>"
      ]
     },
     "metadata": {},
     "output_type": "display_data"
    },
    {
     "data": {
      "image/png": "[encoded data removed]",
      "text/plain": [
       "<Figure size 864x576 with 1 Axes>"
      ]
     },
     "metadata": {
      "needs_background": "light"
     },
     "output_type": "display_data"
    }
   ],
   "source": [
    "import matplotlib.pyplot as plt\n",
    "%matplotlib inline\n",
    "# Get the confusion matrix\n",
    "from sklearn.metrics import confusion_matrix\n",
    "from mlxtend.plotting import plot_confusion_matrix\n",
    "\n",
    "cm  = confusion_matrix(orig_test_labels, predicted_labels)\n",
    "plt.figure()\n",
    "plot_confusion_matrix(cm,figsize=(12,8), hide_ticks=True,cmap=plt.cm.Blues)\n",
    "plt.xticks(range(2), ['Normal', 'Pneumonia'], fontsize=16)\n",
    "plt.yticks(range(2), ['Normal', 'Pneumonia'], fontsize=16)\n",
    "plt.show()"
   ]
  },
  {
   "cell_type": "code",
   "execution_count": 15,
   "metadata": {},
   "outputs": [
    {
     "name": "stdout",
     "output_type": "stream",
     "text": [
      "Sensitivity (Recall) of the model is 0.974\n",
      "Specificity of the model is 0.906\n",
      "Precision of the model is 0.945\n"
     ]
    }
   ],
   "source": [
    "# Calculate Precision and Recall\n",
    "tn, fp, fn, tp = cm.ravel()\n",
    "\n",
    "precision = tp/(tp+fp)\n",
    "recall = tp/(tp+fn)\n",
    "specificity=tn/(tn+fp)\n",
    "\n",
    "print(\"Sensitivity (Recall) of the model is {:.3f}\".format(recall))\n",
    "print(\"Specificity of the model is {:.3f}\".format(specificity))\n",
    "print(\"Precision of the model is {:.3f}\".format(precision))"
   ]
  },
  {
   "cell_type": "markdown",
   "metadata": {},
   "source": [
    "So, this model has a **`97.4%`** sensitivity (recall), **`90.6%`** specificity and **`94.5%`** precision."
   ]
  },
  {
   "cell_type": "markdown",
   "metadata": {},
   "source": [
    "## ROC Curve and AUC for the model\n",
    "**Receiver operating characteristic** curve (a.k.a ROC) is a graphic plot that illustrates the diagnostic ability of a binary classifier system as its discrimination threshold is varied. The critical point here is \"binary classifier\" and \"varying threshold\". **Area Under the Curve** (a.k.a. AUC) is the percentage of the area that is under this ROC curve, ranging between 0 and 1.\n",
    "ROC is a great way to visualize the performance of a binary classifier, and AUC is one single number to summarize a classifier's performance. The higher the AUC is, the better the classifier."
   ]
  },
  {
   "cell_type": "code",
   "execution_count": 16,
   "metadata": {},
   "outputs": [],
   "source": [
    "from sklearn.metrics import roc_curve\n",
    "\n",
    "probs = best_model.predict_proba(test_data)\n",
    "preds = probs[:,1]\n",
    "fpr, tpr, thresholds = roc_curve(test_labels.ravel(), preds)"
   ]
  },
  {
   "cell_type": "code",
   "execution_count": 17,
   "metadata": {},
   "outputs": [],
   "source": [
    "from sklearn.metrics import auc\n",
    "auc_var = auc(fpr, tpr)"
   ]
  },
  {
   "cell_type": "code",
   "execution_count": 18,
   "metadata": {},
   "outputs": [
    {
     "data": {
      "image/png": "[encoded data removed]",
      "text/plain": [
       "<Figure size 432x288 with 1 Axes>"
      ]
     },
     "metadata": {
      "needs_background": "light"
     },
     "output_type": "display_data"
    }
   ],
   "source": [
    "import matplotlib.pyplot as plt\n",
    "%matplotlib inline\n",
    "plt.figure(1)\n",
    "plt.plot([0, 1], [0, 1], 'k--')\n",
    "plt.plot(fpr, tpr, label='PneumoniaNet (area = {:.3f})'.format(auc_var))\n",
    "plt.xlabel('False positive rate')\n",
    "plt.ylabel('True positive rate')\n",
    "plt.title('ROC curve')\n",
    "plt.legend(loc='best')\n",
    "plt.show()"
   ]
  },
  {
   "cell_type": "markdown",
   "metadata": {},
   "source": [
    "## Precision-Recall Curve for the Model"
   ]
  },
  {
   "cell_type": "code",
   "execution_count": 19,
   "metadata": {},
   "outputs": [],
   "source": [
    "from sklearn.metrics import precision_recall_curve\n",
    "from sklearn.metrics import f1_score\n",
    "from sklearn.metrics import average_precision_score"
   ]
  },
  {
   "cell_type": "code",
   "execution_count": 20,
   "metadata": {},
   "outputs": [],
   "source": [
    "precision, recall, thresholds = precision_recall_curve(test_labels.ravel(), preds)"
   ]
  },
  {
   "cell_type": "code",
   "execution_count": 21,
   "metadata": {},
   "outputs": [],
   "source": [
    "auc_var2 = auc(recall, precision)"
   ]
  },
  {
   "cell_type": "code",
   "execution_count": 22,
   "metadata": {},
   "outputs": [
    {
     "data": {
      "image/png": "[encoded data removed]",
      "text/plain": [
       "<Figure size 432x288 with 1 Axes>"
      ]
     },
     "metadata": {
      "needs_background": "light"
     },
     "output_type": "display_data"
    }
   ],
   "source": [
    "plt.figure()\n",
    "plt.plot(recall, precision, label='PneumoniaNet (area = {:.3f})'.format(auc_var2))\n",
    "plt.xlabel('Recall')\n",
    "plt.ylabel('Precision')\n",
    "plt.title('Precision-Recall curve')\n",
    "plt.legend(loc='best')\n",
    "plt.show()"
   ]
  },
  {
   "cell_type": "code",
   "execution_count": 23,
   "metadata": {},
   "outputs": [
    {
     "name": "stdout",
     "output_type": "stream",
     "text": [
      "Average Precision Score: 0.993\n"
     ]
    }
   ],
   "source": [
    "print('Average Precision Score: {:.3f}'.format(average_precision_score(test_labels.ravel(), preds)))"
   ]
  },
  {
   "cell_type": "code",
   "execution_count": 24,
   "metadata": {},
   "outputs": [
    {
     "name": "stdout",
     "output_type": "stream",
     "text": [
      "F1 Score: 0.960\n"
     ]
    }
   ],
   "source": [
    "print(\"F1 Score: {:.3f}\".format(f1_score(test_labels.ravel(),predicted_labels.ravel())))"
   ]
  }
 ],
 "metadata": {
  "kernelspec": {
   "display_name": "Python 3",
   "language": "python",
   "name": "python3"
  },
  "language_info": {
   "codemirror_mode": {
    "name": "ipython",
    "version": 3
   },
   "file_extension": ".py",
   "mimetype": "text/x-python",
   "name": "python",
   "nbconvert_exporter": "python",
   "pygments_lexer": "ipython3",
   "version": "3.6.8"
  }
 },
 "nbformat": 4,
 "nbformat_minor": 2
}
